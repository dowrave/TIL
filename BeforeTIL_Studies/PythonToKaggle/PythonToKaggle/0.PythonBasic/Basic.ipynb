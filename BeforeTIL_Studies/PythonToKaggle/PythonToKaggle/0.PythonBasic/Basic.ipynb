{
 "cells": [
  {
   "cell_type": "code",
   "execution_count": 1,
   "id": "b87fbc0f-5895-40b1-b43c-c7028308e3e1",
   "metadata": {
    "tags": []
   },
   "outputs": [
    {
     "data": {
      "text/plain": [
       "'helloworld'"
      ]
     },
     "execution_count": 1,
     "metadata": {},
     "output_type": "execute_result"
    }
   ],
   "source": [
    "str1 = \"hello\"\n",
    "str2 = \"world\"\n",
    "str1 + str2"
   ]
  },
  {
   "cell_type": "markdown",
   "id": "b55e60b6-876d-470c-86cd-3866e28bb509",
   "metadata": {},
   "source": [
    "### 리스트 다루기\n",
    "1. element 추가 : append, extend, insert"
   ]
  },
  {
   "cell_type": "code",
   "execution_count": 10,
   "id": "3123da55-f007-4d5d-9075-2537e2a0d8ba",
   "metadata": {},
   "outputs": [],
   "source": [
    "_ = [1, 2, 3]\n",
    "append = _.copy()\n",
    "extend = _.copy()\n",
    "insert = _.copy()"
   ]
  },
  {
   "cell_type": "code",
   "execution_count": 11,
   "id": "fe4e7185-4a15-482a-8321-e834360a445d",
   "metadata": {},
   "outputs": [
    {
     "data": {
      "text/plain": [
       "[1, 2, 3, 4]"
      ]
     },
     "execution_count": 11,
     "metadata": {},
     "output_type": "execute_result"
    }
   ],
   "source": [
    "append.append(4)\n",
    "append"
   ]
  },
  {
   "cell_type": "markdown",
   "id": "4663992b-e966-49be-9bc1-3faa65d2c3d7",
   "metadata": {},
   "source": [
    "#### Extend : 호출되는 부분은 iterable한 객체가 와야 한다. - list나 튜플이면 ㅇㅋ \n",
    "- append처럼 1개만 추가할 수도 있다. 물론 iterable이라는 문법을 지킨다면\n",
    "- 단 tuple로 호출하는 경우는 꼭 복수 개가 와야 하는 듯 하다. -> 수정 : tuple이 1개의 요소를 가진다면 (a,) 식으로 반드시 comma를 붙여야 함"
   ]
  },
  {
   "cell_type": "code",
   "execution_count": 12,
   "id": "8449a584-221b-4943-a78a-71c0ba5b9a7d",
   "metadata": {},
   "outputs": [
    {
     "data": {
      "text/plain": [
       "[1, 2, 3, 40, 50]"
      ]
     },
     "execution_count": 12,
     "metadata": {},
     "output_type": "execute_result"
    }
   ],
   "source": [
    "extend.extend([40, 50])\n",
    "extend"
   ]
  },
  {
   "cell_type": "code",
   "execution_count": 59,
   "id": "a3f71dba-6a4d-4a9f-aff3-a5933dc20850",
   "metadata": {},
   "outputs": [
    {
     "data": {
      "text/plain": [
       "[1, 2, 3, 40, 50, 60, 60, 30, 40, 30, 40, 30, 40, 100]"
      ]
     },
     "execution_count": 59,
     "metadata": {},
     "output_type": "execute_result"
    }
   ],
   "source": [
    "# extend.extend(60) # 'int' object is not iterable\n",
    "extend.extend((30, 40)) \n",
    "extend.extend((100,))\n",
    "extend"
   ]
  },
  {
   "cell_type": "markdown",
   "id": "a451cfaf-660c-4878-a790-9cd681c69df4",
   "metadata": {},
   "source": [
    "#### Insert(인덱스 위치, 값)\n",
    "- 해당 위치에 값을 집어넣고 원래 위치부터 + 인덱스 위치에 있는 것들은 +1 씩 오른쪽으로 옮겨진다"
   ]
  },
  {
   "cell_type": "code",
   "execution_count": 20,
   "id": "1e6a0a64-d943-4749-b478-40535d08ccf6",
   "metadata": {},
   "outputs": [],
   "source": [
    "insert.insert(0, 99)\n",
    "insert.insert(2, 100)"
   ]
  },
  {
   "cell_type": "code",
   "execution_count": 21,
   "id": "f9e44418-01a8-4f3e-8266-8592c6c6c626",
   "metadata": {},
   "outputs": [
    {
     "data": {
      "text/plain": [
       "[99, 99, 100, 1, 2, 3]"
      ]
     },
     "execution_count": 21,
     "metadata": {},
     "output_type": "execute_result"
    }
   ],
   "source": [
    "insert"
   ]
  },
  {
   "cell_type": "markdown",
   "id": "e73d990e-546d-49cd-a166-4258a9a2350b",
   "metadata": {},
   "source": [
    "2. Element 제거(remove(), del(), pop())"
   ]
  },
  {
   "cell_type": "markdown",
   "id": "2d91fed4-5259-4ece-b517-69b4c746c5b2",
   "metadata": {},
   "source": [
    "- remove(값) : 가장 먼저 나오는 값 하나를 제거함 "
   ]
  },
  {
   "cell_type": "code",
   "execution_count": 36,
   "id": "3de0dc3f-b011-4c49-ab4e-a4ce2952bec0",
   "metadata": {},
   "outputs": [
    {
     "name": "stdout",
     "output_type": "stream",
     "text": [
      "[2, 3, 4, 1, 2]\n"
     ]
    }
   ],
   "source": [
    "b = [1, 2, 3, 4, 1, 2]\n",
    "b.remove(1)\n",
    "print(b) # 아니 아까는 왜 안된거야?"
   ]
  },
  {
   "cell_type": "markdown",
   "id": "0cc976b5-620c-4291-9933-6253cdb7573f",
   "metadata": {},
   "source": [
    "- del list[index] : 리스트의 인덱스 범위의 값들을 삭제함"
   ]
  },
  {
   "cell_type": "code",
   "execution_count": 37,
   "id": "c5f3d548-e500-4b71-8683-47b4f0224a87",
   "metadata": {},
   "outputs": [
    {
     "data": {
      "text/plain": [
       "[1, 4, 1, 2]"
      ]
     },
     "execution_count": 37,
     "metadata": {},
     "output_type": "execute_result"
    }
   ],
   "source": [
    "b = [1, 2, 3, 4, 1, 2]\n",
    "del b[1 : 3] # 슬라이싱 : 앞 ~ 뒤 - 1\n",
    "b"
   ]
  },
  {
   "cell_type": "markdown",
   "id": "512a249d-ee62-4c44-8d8a-a8715e9df40c",
   "metadata": {},
   "source": [
    "- pop() : 사용법에 주의\n",
    "    - 메소드만 실행하면 가장 마지막 인덱스의 값을 제거함\n",
    "    - 메소드를 변수로 지정하면 가장 마지막 인덱스의 값을 변수로 저장하고, 그 값을 리스트에서 제거함"
   ]
  },
  {
   "cell_type": "code",
   "execution_count": 41,
   "id": "fbe64e3c-3ef7-4d95-9c95-cbcf1e0a7106",
   "metadata": {},
   "outputs": [
    {
     "data": {
      "text/plain": [
       "[1, 2, 3, 4, 1]"
      ]
     },
     "execution_count": 41,
     "metadata": {},
     "output_type": "execute_result"
    }
   ],
   "source": [
    "b = [1, 2, 3, 4, 1, 2]\n",
    "# 1. 메소드만 실행\n",
    "b.pop() \n",
    "b  "
   ]
  },
  {
   "cell_type": "code",
   "execution_count": 42,
   "id": "2555cd3a-5d55-4487-9024-1dbd9c8d88fc",
   "metadata": {},
   "outputs": [
    {
     "data": {
      "text/plain": [
       "1"
      ]
     },
     "execution_count": 42,
     "metadata": {},
     "output_type": "execute_result"
    }
   ],
   "source": [
    "# 2. 메소드를 변수로 지정\n",
    "r = b.pop()\n",
    "r"
   ]
  },
  {
   "cell_type": "code",
   "execution_count": 43,
   "id": "4039340a-1706-49bb-8018-6cc44671d56a",
   "metadata": {},
   "outputs": [
    {
     "data": {
      "text/plain": [
       "[1, 2, 3, 4]"
      ]
     },
     "execution_count": 43,
     "metadata": {},
     "output_type": "execute_result"
    }
   ],
   "source": [
    "b"
   ]
  },
  {
   "cell_type": "markdown",
   "id": "2f822169-3486-4d3a-92fd-4a12b342efab",
   "metadata": {
    "tags": []
   },
   "source": [
    "### 3. 그 외 유용한 list의 메소드들"
   ]
  },
  {
   "cell_type": "code",
   "execution_count": 44,
   "id": "6d39d2bc-7ab6-4e3d-8025-045f79a1a2fb",
   "metadata": {},
   "outputs": [],
   "source": [
    "a = [0, 1, 2, 3]"
   ]
  },
  {
   "cell_type": "markdown",
   "id": "ccd1e7b7-2aad-4cdd-b75c-e158d7d58d26",
   "metadata": {},
   "source": [
    "<b>1. clear() : 리스트 내의 모든 element를 제거. 리스트를 제거하는 게 아님을 주의</b>"
   ]
  },
  {
   "cell_type": "code",
   "execution_count": 45,
   "id": "c778beeb-d521-4c73-a220-51d30a8ddfc3",
   "metadata": {},
   "outputs": [
    {
     "data": {
      "text/plain": [
       "[]"
      ]
     },
     "execution_count": 45,
     "metadata": {},
     "output_type": "execute_result"
    }
   ],
   "source": [
    "a.clear()\n",
    "a"
   ]
  },
  {
   "cell_type": "markdown",
   "id": "3c4a4878-8ed8-4a15-83b5-c37aa514439a",
   "metadata": {},
   "source": [
    "<b>2. .index(\"value\") : value가 1번째로 등장하는 위치 반환</b>"
   ]
  },
  {
   "cell_type": "code",
   "execution_count": 46,
   "id": "ce4f349f-d471-4262-a98b-89d80283e3ff",
   "metadata": {},
   "outputs": [
    {
     "name": "stdout",
     "output_type": "stream",
     "text": [
      "0\n"
     ]
    }
   ],
   "source": [
    "a = ['gold', 'gold', 'sliver', 'sliver']\n",
    "print(a.index('gold'))"
   ]
  },
  {
   "cell_type": "markdown",
   "id": "817feeee-2709-4941-9fc7-283b050c11a9",
   "metadata": {},
   "source": [
    "<b>3. 리스트 정렬 : sort</b>\n",
    "- 리스트 내의 자료형이 모두 동일할 때만 사용 가능"
   ]
  },
  {
   "cell_type": "code",
   "execution_count": 54,
   "id": "80b18dbb-64dc-475b-b561-e0fdbf14be38",
   "metadata": {},
   "outputs": [
    {
     "name": "stdout",
     "output_type": "stream",
     "text": [
      "[1, 2, 3, 4, 5] [5, 4, 3, 2, 1]\n"
     ]
    }
   ],
   "source": [
    "a = [1, 4, 5, 2, 3]\n",
    "b = a.copy()\n",
    "\n",
    "a.sort() # 디폴트는 오름차순 \n",
    "b.sort(reverse=True) # 내림차순 활성화\n",
    "\n",
    "print(a, b)"
   ]
  },
  {
   "cell_type": "markdown",
   "id": "701cc024-efa5-4ea0-b4fe-6a3a24433110",
   "metadata": {},
   "source": [
    "### 튜플\n",
    "- 객체 선언 시 튜플은 괄호를 생략할 수 있다"
   ]
  },
  {
   "cell_type": "code",
   "execution_count": 60,
   "id": "502fb121-d2b9-4545-bc6b-99b1b66bc10b",
   "metadata": {},
   "outputs": [
    {
     "data": {
      "text/plain": [
       "(0, 1, 2)"
      ]
     },
     "execution_count": 60,
     "metadata": {},
     "output_type": "execute_result"
    }
   ],
   "source": [
    "tuple1 = 0, 1, 2\n",
    "tuple1"
   ]
  },
  {
   "cell_type": "markdown",
   "id": "415b8874-b510-4722-b2e3-4208059046ef",
   "metadata": {},
   "source": [
    "### 딕셔너리\n",
    "- .keys() , .values()\n",
    "- .items() : key와 value 쌍을 tuple로 묶어서 반환\n",
    "- .get() : Key에 해당하는 value를 반환 (존재하지 않는 Key에 대해서는 오류가 아니라 None이 출력)\n",
    "    - 다른 값을 출력시키려면 .get(key, \"출력 메시지\")로 지정할 것"
   ]
  },
  {
   "cell_type": "markdown",
   "id": "ba07586b-762f-4de3-b212-876c4ff744b0",
   "metadata": {},
   "source": [
    "### 집합(Set)\n",
    "- 순서 X, 중복 허용 X\n",
    "- 중괄호를 써서 만들 수 있되, 빈 집합은 \"반드시\" set()으로만 생성 가능(dict와 중복되어서?)\n",
    "- 직접적으로 많이 쓰지 않았기 떄문에 중요한가? 싶으면서도 조건부 확률을 사용하는 알고리즘을 생각해보면 알아둘 필요는 있다고 생각함"
   ]
  },
  {
   "cell_type": "markdown",
   "id": "5b6779bf-769f-4b4e-a709-428fc6b0959e",
   "metadata": {},
   "source": [
    "- 연산 : |(합집합) / &(교집합) / -(차집합) / ^(대칭 차집합)\n",
    "    - 대칭 차집합? : 합집합 - 교집합을 의미"
   ]
  },
  {
   "cell_type": "code",
   "execution_count": 63,
   "id": "e7345923-1923-473e-8f1e-ca5f234d2a66",
   "metadata": {},
   "outputs": [
    {
     "data": {
      "text/plain": [
       "{1, 2, 4}"
      ]
     },
     "execution_count": 63,
     "metadata": {},
     "output_type": "execute_result"
    }
   ],
   "source": [
    "a = {1, 3, 5}\n",
    "b = {2, 3, 4, 5}\n",
    "\n",
    "a^b # 합집합 {1, 2, 3, 4, 5} - 교집합 {3, 5} = {1, 2, 4}\n",
    "\n",
    "# 이는 a.symmetric_difference(b)로도 쓸 수 있는데 이렇게 안 쓸거잖아?"
   ]
  },
  {
   "cell_type": "markdown",
   "id": "9468bfd0-7a87-45f7-b6b4-e4182dcbcfc8",
   "metadata": {},
   "source": [
    "### 조건문 스킵\n",
    "### 반복문 관련 메소드들\n",
    "- 책에서는 enumerate만을 다뤘지만 zip 정도만 같이 다루고 넘어감\n",
    "#### 1. zip()\n",
    "- zip() 객체로 묶음 : 이는 동일한 인덱스의 데이터를 묶어주는 역할 /  이를 list()나 dict() 등으로 호출해낼 수 있음\n",
    "- 주의 : 짧은 길이의 객체 위주로 묶임 : 더 많은 요소를 담고 있는 데이터는 제거됨"
   ]
  },
  {
   "cell_type": "code",
   "execution_count": 64,
   "id": "aee00c35-108c-45ea-8611-394e29bf4250",
   "metadata": {},
   "outputs": [],
   "source": [
    "a = [1, 2, 3, 4, 5]\n",
    "b = [\"a\", \"b\", \"c\", \"d\", \"e\"]\n",
    "\n",
    "c = zip(a, b)"
   ]
  },
  {
   "cell_type": "code",
   "execution_count": 66,
   "id": "6a216b25-b229-464c-a186-0109e7332a74",
   "metadata": {},
   "outputs": [
    {
     "data": {
      "text/plain": [
       "[(1, 'a'), (2, 'b'), (3, 'c'), (4, 'd'), (5, 'e')]"
      ]
     },
     "execution_count": 66,
     "metadata": {},
     "output_type": "execute_result"
    }
   ],
   "source": [
    "list(c)"
   ]
  },
  {
   "cell_type": "markdown",
   "id": "794904da-5825-4f7e-8009-4f125592d73b",
   "metadata": {},
   "source": [
    "#### 2. enumerate()\n",
    "- 마찬가지로 enumerate() 객체로 묶이게 되며 주로 반복문에서 인덱스와 값으로 호출함\n",
    "- 각 value 마다 index 값을 같이 저장"
   ]
  },
  {
   "cell_type": "code",
   "execution_count": 68,
   "id": "257ca0b4-0e9f-4d5c-a063-b7bf978b85c5",
   "metadata": {},
   "outputs": [
    {
     "name": "stdout",
     "output_type": "stream",
     "text": [
      "0 a\n",
      "1 b\n",
      "2 c\n",
      "3 d\n",
      "4 e\n"
     ]
    }
   ],
   "source": [
    "for idx, val in enumerate(b):\n",
    "    print(idx, val)"
   ]
  },
  {
   "cell_type": "code",
   "execution_count": null,
   "id": "4b167f4c-0851-4088-96fa-2f006cfe32dd",
   "metadata": {},
   "outputs": [],
   "source": []
  }
 ],
 "metadata": {
  "kernelspec": {
   "display_name": "Python 3",
   "language": "python",
   "name": "python3"
  },
  "language_info": {
   "codemirror_mode": {
    "name": "ipython",
    "version": 3
   },
   "file_extension": ".py",
   "mimetype": "text/x-python",
   "name": "python",
   "nbconvert_exporter": "python",
   "pygments_lexer": "ipython3",
   "version": "3.8.8"
  }
 },
 "nbformat": 4,
 "nbformat_minor": 5
}
