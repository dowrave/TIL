{
 "cells": [
  {
   "cell_type": "markdown",
   "metadata": {},
   "source": [
    "# 4. 텍스트"
   ]
  },
  {
   "cell_type": "markdown",
   "metadata": {},
   "source": [
    "### OpenCV에서 제공되는 글꼴 종류\n",
    "1. `cv2.FONT_HERSHEY_SIMPLEX` : 보통 크기의 산세리프 글꼴\n",
    "1. `cv2.FONT_HERSHEY_PLAIN` : 작은 크기의 산세리프 글꼴\n",
    "1. `cv2.FONT_HERSHEY_SCRIPT_SIMPLEX` : 필기체 스타일 글꼴\n",
    "1. `cv2.FONT_HERSHEY_TRIPLEX` : 보통 크기의 세리프 글꼴\n",
    "1. `cv2.FONT_ITALIC` : 기울임(이탤릭체) - 다른 폰트와 조합 가능"
   ]
  },
  {
   "cell_type": "code",
   "execution_count": 6,
   "metadata": {},
   "outputs": [],
   "source": [
    "import cv2\n",
    "import numpy as np\n",
    "\n",
    "img = np.zeros((480, 640, 3), dtype = np.uint8)\n",
    "\n",
    "COLOR = (255, 255, 255)\n",
    "THICKNESS = 3\n",
    "SCALE = 1.5\n",
    "\n",
    "# 글자 넣기 : cv2.putText()\n",
    "cv2.putText(img, 'Hello Simplex!', (20 , 50), cv2.FONT_HERSHEY_SIMPLEX, SCALE, COLOR, THICKNESS)\n",
    "cv2.putText(img, 'Hello Plain!', (120, 150), cv2.FONT_HERSHEY_PLAIN, SCALE, COLOR, THICKNESS)\n",
    "cv2.putText(img, 'Hello Script Simplex!', (220, 250), cv2.FONT_HERSHEY_SCRIPT_SIMPLEX, SCALE, COLOR, THICKNESS)\n",
    "cv2.putText(img, 'Hello Triplex!', (320, 350), cv2.FONT_HERSHEY_TRIPLEX, SCALE, COLOR, THICKNESS)\n",
    "\n",
    "# 이탤릭 - 다른 글씨와 조합 : PipeLine을 적용할 수 있다.\n",
    "cv2.putText(img, \"Hello Italic!\", (420, 450), cv2.FONT_HERSHEY_TRIPLEX | cv2.FONT_ITALIC, SCALE, COLOR, THICKNESS)\n",
    "\n",
    "cv2.imshow('img', img)\n",
    "cv2.waitKey(0)\n",
    "cv2.destroyAllWindows()"
   ]
  },
  {
   "cell_type": "markdown",
   "metadata": {},
   "source": [
    "## 한글"
   ]
  },
  {
   "cell_type": "code",
   "execution_count": 15,
   "metadata": {},
   "outputs": [],
   "source": [
    "import cv2\n",
    "import numpy as np\n",
    "\n",
    "img = np.zeros((480, 640, 3), dtype = np.uint8)\n",
    "\n",
    "COLOR = (255, 255, 255)\n",
    "THICKNESS = 3\n",
    "SCALE = 1.5\n",
    "\n",
    "# openCV에서는 한글을 지원하지 않음\n",
    "# cv2.putText(img, \"한글\", (20, 50), cv2.FONT_HERSHEY_SIMPLEX, SCALE, COLOR, THICKNESS)\n",
    "# 이를 우회할 방법 - PIL을 활용한다 - Python Image Library\n",
    "from PIL import ImageFont, ImageDraw, Image\n",
    "def myPutText(src, text, pos, font_size, font_color):\n",
    "    img_pil = Image.fromarray(src)\n",
    "    draw = ImageDraw.Draw(img_pil)\n",
    "    font = ImageFont.truetype('fonts/gulim.ttc', font_size)\n",
    "    draw.text(pos, text, font = font, fill = font_color)\n",
    "    return np.array(img_pil)\n",
    "\n",
    "FONT_SIZE = 30 # 위의 Thcikness, Scale 과는 다른 값\n",
    "img = myPutText(img, \"한글입니다\", (20, 50), FONT_SIZE, COLOR)\n",
    "\n",
    "cv2.putText(img, \"Korean\", (120, 150), cv2.FONT_HERSHEY_SIMPLEX, SCALE, COLOR, THICKNESS)\n",
    "\n",
    "cv2.imshow('img', img)\n",
    "cv2.waitKey(0)\n",
    "cv2.destroyAllWindows()"
   ]
  },
  {
   "cell_type": "code",
   "execution_count": null,
   "metadata": {},
   "outputs": [],
   "source": []
  }
 ],
 "metadata": {
  "kernelspec": {
   "display_name": "Python 3.8.8 64-bit",
   "language": "python",
   "name": "python3"
  },
  "language_info": {
   "codemirror_mode": {
    "name": "ipython",
    "version": 3
   },
   "file_extension": ".py",
   "mimetype": "text/x-python",
   "name": "python",
   "nbconvert_exporter": "python",
   "pygments_lexer": "ipython3",
   "version": "3.8.8"
  },
  "orig_nbformat": 4,
  "vscode": {
   "interpreter": {
    "hash": "ad2bdc8ecc057115af97d19610ffacc2b4e99fae6737bb82f5d7fb13d2f2c186"
   }
  }
 },
 "nbformat": 4,
 "nbformat_minor": 2
}
