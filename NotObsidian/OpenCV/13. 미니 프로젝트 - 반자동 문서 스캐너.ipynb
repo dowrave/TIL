{
 "cells": [
  {
   "cell_type": "markdown",
   "metadata": {},
   "source": [
    "# 미니 프로젝트 : 반자동 문서 스캐너\n",
    "\n",
    "### 12에서 4개의 좌표를 일일이 가져오는 게 아니라 클릭을 4번하면 자동으로 가져오게 하자"
   ]
  },
  {
   "cell_type": "markdown",
   "metadata": {},
   "source": [
    "### 마우스 이벤트 "
   ]
  },
  {
   "cell_type": "code",
   "execution_count": 7,
   "metadata": {},
   "outputs": [
    {
     "name": "stdout",
     "output_type": "stream",
     "text": [
      "왼쪽 버튼 Down\n",
      "880 361\n",
      "왼쪽 버튼 Up\n",
      "880 361\n",
      "Double Click\n",
      "왼쪽 버튼 Up\n",
      "880 361\n"
     ]
    }
   ],
   "source": [
    "import cv2\n",
    "\n",
    "def mouse_handler(event, x, y, flags, param):\n",
    "    if event == cv2.EVENT_LBUTTONDOWN: # 마우스 좌클릭\n",
    "        print('왼쪽 버튼 Down')\n",
    "        print(x, y)\n",
    "    elif event == cv2.EVENT_LBUTTONUP: # 마우스 좌클릭후 뗌\n",
    "        print('왼쪽 버튼 Up')\n",
    "        print(x, y)\n",
    "    elif event == cv2.EVENT_LBUTTONDBLCLK: # 마우스 좌클릭 더블클릭 : 더블 클릭의 발생 시점은 좌클다운 - 업 - 더블클릭 - 업 임\n",
    "        print('Double Click')\n",
    "    # elif event == cv2.EVENT_MOUSEMOVE: # 마우스 이동\n",
    "    #     print('마우스 이동')\n",
    "    elif event == cv2.EVENT_RBUTTONDOWN:\n",
    "        print('마우스 우클릭')\n",
    "\n",
    "img = cv2.imread('Image/poker.jpg')\n",
    "\n",
    "cv2.namedWindow('img') # 창(윈도우)만 만듦 : img라는 이름. 여기에 마우스 이벤트를 처리하기 위한 핸들러 적용 가능\n",
    "\n",
    "cv2.setMouseCallback('img', mouse_handler)\n",
    "\n",
    "cv2.imshow('img', img)\n",
    "cv2.waitKey(0)\n",
    "cv2.destroyAllWindows()"
   ]
  },
  {
   "cell_type": "markdown",
   "metadata": {},
   "source": [
    "## 프로젝트 코드"
   ]
  },
  {
   "cell_type": "code",
   "execution_count": 3,
   "metadata": {},
   "outputs": [],
   "source": [
    "import cv2\n",
    "import numpy as np\n",
    "\n",
    "point_lst = []\n",
    "src_img = cv2.imread('Image/poker.jpg')\n",
    "\n",
    "COLOR = (255, 0, 255)\n",
    "THICKNESS = 3 \n",
    "drawing = False # 선을 그릴 지 여부 (클릭 이후에 선이 그어져야 한다)\n",
    "\n",
    "# 마우스 클릭 - 좌표를 리스트에 저장 - 4개가 저장되면 원근 변환을 통해 펼쳐진 이미지를 보여줄 것\n",
    "def mouse_handler(event, x, y, flags, param):\n",
    "    global drawing\n",
    "    dst_img = src_img.copy() # src_img를 쓰면 마우스 커서가 지나간 곳마다 선이 남음\n",
    "\n",
    "    if event == cv2.EVENT_LBUTTONDOWN: # 마우스 좌클릭\n",
    "        drawing = True # 선을 그리기 시작\n",
    "        point_lst.append((x, y))\n",
    "    \n",
    "    if drawing:\n",
    "        prev_point = None # 직선의 시작점\n",
    "        # 클릭한 지점을 이미지에 표시\n",
    "        for point in point_lst:\n",
    "            cv2.circle(dst_img, point, 10, COLOR, cv2.FILLED)\n",
    "            if prev_point:\n",
    "                cv2.line(dst_img, prev_point, point, COLOR, THICKNESS, cv2.LINE_AA)\n",
    "            prev_point = point\n",
    "\n",
    "        # 현재 마우스 이동 위치까지 선을 그어주는 작업\n",
    "        next_point = (x, y) # 현재 마우스 핸들러에서 받아온 좌표\n",
    "        if len(point_lst) == 4:\n",
    "            show_result(point_lst) # 결과 출력 함수\n",
    "            next_point = point_lst[0] # 1번째 클릭한 점으로 돌려줌\n",
    "        cv2.line(dst_img, prev_point, next_point, COLOR, THICKNESS, cv2.LINE_AA) # 마지막 점 -> 처음 점 이어줌\n",
    "        \n",
    "    cv2.imshow('img', dst_img)\n",
    "\n",
    "def show_result(point_lst):\n",
    "    width, height = 530, 710\n",
    "    src = np.float32(point_lst)\n",
    "    dst = np.array([[0,0], [width,0], [width, height], [0,height]], dtype = np.float32)\n",
    "    matrix = cv2.getPerspectiveTransform(src, dst)\n",
    "    result = cv2.warpPerspective(src_img, matrix, (width, height))\n",
    "\n",
    "    cv2.imshow('result', result)\n",
    "\n",
    "\n",
    "cv2.namedWindow('img') # 창(윈도우)만 만듦 : img라는 이름. 여기에 마우스 이벤트를 처리하기 위한 핸들러 적용 가능\n",
    "\n",
    "cv2.setMouseCallback('img', mouse_handler) # 마우스의 반응을 봄 + 반응에 따른 작동하게끔 함\n",
    "\n",
    "cv2.imshow('img', src_img)\n",
    "cv2.waitKey(0)\n",
    "cv2.destroyAllWindows()\n"
   ]
  },
  {
   "cell_type": "markdown",
   "metadata": {},
   "source": [
    "### 여기서 좀 더 나아가면 완전 자동 스캐너도 만들 수가 있음\n",
    "- 뒤에서 나오는 내용을 활용하면 되는데 이 강의는 초보자 대상이라서요 머쓱 ㅎㅎ"
   ]
  },
  {
   "cell_type": "code",
   "execution_count": null,
   "metadata": {},
   "outputs": [],
   "source": []
  }
 ],
 "metadata": {
  "kernelspec": {
   "display_name": "Python 3.9.6 64-bit",
   "language": "python",
   "name": "python3"
  },
  "language_info": {
   "codemirror_mode": {
    "name": "ipython",
    "version": 3
   },
   "file_extension": ".py",
   "mimetype": "text/x-python",
   "name": "python",
   "nbconvert_exporter": "python",
   "pygments_lexer": "ipython3",
   "version": "3.9.6"
  },
  "orig_nbformat": 4,
  "vscode": {
   "interpreter": {
    "hash": "11938c6bc6919ae2720b4d5011047913343b08a43b18698fd82dedb0d4417594"
   }
  }
 },
 "nbformat": 4,
 "nbformat_minor": 2
}
