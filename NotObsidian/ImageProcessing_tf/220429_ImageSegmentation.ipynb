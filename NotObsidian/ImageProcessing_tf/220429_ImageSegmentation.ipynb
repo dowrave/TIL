{
  "nbformat": 4,
  "nbformat_minor": 0,
  "metadata": {
    "colab": {
      "name": "220429_ImageSegmentation.ipynb",
      "private_outputs": true,
      "provenance": [],
      "collapsed_sections": [],
      "authorship_tag": "ABX9TyNXKgf4jHwspn2MJUs7KW82",
      "include_colab_link": true
    },
    "kernelspec": {
      "name": "python3",
      "display_name": "Python 3"
    },
    "language_info": {
      "name": "python"
    },
    "accelerator": "GPU"
  },
  "cells": [
    {
      "cell_type": "markdown",
      "metadata": {
        "id": "view-in-github",
        "colab_type": "text"
      },
      "source": [
        "<a href=\"https://colab.research.google.com/github/dowrave/RoadToImageSeg_GAN/blob/main/220429_ImageSegmentation.ipynb\" target=\"_parent\"><img src=\"https://colab.research.google.com/assets/colab-badge.svg\" alt=\"Open In Colab\"/></a>"
      ]
    },
    {
      "cell_type": "code",
      "execution_count": null,
      "metadata": {
        "id": "9qTLyVMXGmy5"
      },
      "outputs": [],
      "source": [
        "!pip install -q git+https://github.com/tensorflow/examples.git\n",
        "!pip install -q -U tfds-nightly"
      ]
    },
    {
      "cell_type": "code",
      "source": [
        "import tensorflow as tf\n",
        "from tensorflow_examples.models.pix2pix import pix2pix\n",
        "\n",
        "import tensorflow_datasets as tfds\n",
        "tfds.disable_progress_bar()\n",
        "\n",
        "from IPython.display import clear_output\n",
        "import matplotlib.pyplot as plt"
      ],
      "metadata": {
        "id": "YMG8P1W9Gvhg"
      },
      "execution_count": null,
      "outputs": []
    },
    {
      "cell_type": "code",
      "source": [
        "# Oxford-IIIT Pets Datasets 다운"
      ],
      "metadata": {
        "id": "Md-MuVJ9HAZz"
      },
      "execution_count": null,
      "outputs": []
    },
    {
      "cell_type": "code",
      "source": [
        "dataset, info = tfds.load('oxford_iiit_pet:3.*.*', with_info = True)"
      ],
      "metadata": {
        "id": "UnBrTneJHM1S"
      },
      "execution_count": null,
      "outputs": []
    },
    {
      "cell_type": "code",
      "source": [
        "def normalize(input_image, input_mask):\n",
        "  input_image = tf.cast(input_image, tf.float32) / 255.0\n",
        "  input_mask -= 1 # 분할마스크 - 1 ==> 레이블 {0, 1, 2}\n",
        "  return input_image, input_mask "
      ],
      "metadata": {
        "id": "WVWxuyRbHRtx"
      },
      "execution_count": null,
      "outputs": []
    },
    {
      "cell_type": "code",
      "source": [
        "@tf.function\n",
        "def load_image_train(datapoint):\n",
        "  input_image = tf.image.resize(datapoint['image'], (128, 128))\n",
        "  input_mask = tf.image.resize(datapoint['segmentation_mask'], (128, 128))\n",
        "\n",
        "  if tf.random.uniform(()) > 0.5:\n",
        "    input_image = tf.image.flip_left_right(input_image)\n",
        "    input_mask = tf.image.flip_left_right(input_mask)\n",
        "\n",
        "  input_image, input_mask = normalize(input_image, input_mask)\n",
        "  return input_image, input_mask"
      ],
      "metadata": {
        "id": "znEYkyE8HZog"
      },
      "execution_count": null,
      "outputs": []
    },
    {
      "cell_type": "code",
      "source": [
        "def load_image_test(datapoint):\n",
        "    input_image = tf.image.resize(datapoint['image'], (128, 128))\n",
        "    input_mask = tf.image.resize(datapoint['segmentation_mask'], (128, 128))\n",
        "\n",
        "    input_image, input_mask = normalize(input_image, input_mask)\n",
        "    return input_image, input_mask"
      ],
      "metadata": {
        "id": "oxTCk-SlHZmH"
      },
      "execution_count": null,
      "outputs": []
    },
    {
      "cell_type": "code",
      "source": [
        "TRAIN_LENGTH = info.splits['train'].num_examples\n",
        "BATCH_SIZE = 64\n",
        "BUFFER_SIZE = 1000\n",
        "STEPS_PER_EPOCH = TRAIN_LENGTH // BATCH_SIZE"
      ],
      "metadata": {
        "id": "GsqMYDLCHZjh"
      },
      "execution_count": null,
      "outputs": []
    },
    {
      "cell_type": "code",
      "source": [
        "train = dataset['train'].map(load_image_train, num_parallel_calls = tf.data.experimental.AUTOTUNE)\n",
        "test = dataset['test'].map(load_image_test)"
      ],
      "metadata": {
        "id": "ktV2SHPiHZYt"
      },
      "execution_count": null,
      "outputs": []
    },
    {
      "cell_type": "code",
      "source": [
        "train_dataset = train.cache().shuffle(BUFFER_SIZE).batch(BATCH_SIZE).repeat()\n",
        "train_dataset = train_dataset.prefetch(buffer_size = tf.data.experimental.AUTOTUNE)\n",
        "test_dataset = test.batch(BATCH_SIZE)"
      ],
      "metadata": {
        "id": "YLdvCSG6In0g"
      },
      "execution_count": null,
      "outputs": []
    },
    {
      "cell_type": "code",
      "source": [
        "def display(display_list):\n",
        "  plt.figure(figsize = (15, 15))\n",
        "\n",
        "  title = ['Input Image', 'True Mask', \"Predicted Mask\"]\n",
        "\n",
        "  for i in range(len(display_list)):\n",
        "    plt.subplot(1, len(display_list), i + 1)\n",
        "    plt.title(title[i])\n",
        "    plt.imshow(tf.keras.preprocessing.image.array_to_img(display_list[i]))\n",
        "    plt.axis('off')\n",
        "  plt.show()"
      ],
      "metadata": {
        "id": "3ivsGm87I_wY"
      },
      "execution_count": null,
      "outputs": []
    },
    {
      "cell_type": "code",
      "source": [
        "for image, mask in train.take(1):\n",
        "  sample_image, sample_mask = image, mask"
      ],
      "metadata": {
        "id": "8BBOMkZgJZwZ"
      },
      "execution_count": null,
      "outputs": []
    },
    {
      "cell_type": "code",
      "source": [
        "display([sample_image, sample_mask])"
      ],
      "metadata": {
        "id": "6DTzEH95JhZ7"
      },
      "execution_count": null,
      "outputs": []
    },
    {
      "cell_type": "markdown",
      "source": [
        "### 모델 정의하기\n",
        "- 사용하는 모델 : U-Net\n",
        "- U-Net의 구성 : 인코더(다운샘플러) & 디코더(업샘플러)\n",
        "- 인코더 : 미리 훈련된 MobileNETV2\n",
        "- 디코더 : pix2pix의 업샘플 블록(GAN할 때 다룰 예정)"
      ],
      "metadata": {
        "id": "itqYpr36Qd4u"
      }
    },
    {
      "cell_type": "code",
      "source": [
        "# 출력 채널 : 3개 (픽셀 당 라벨은 3개임)\n",
        "OUTPUT_CHANNELS = 3"
      ],
      "metadata": {
        "id": "lrFhXDTEO8Lf"
      },
      "execution_count": null,
      "outputs": []
    },
    {
      "cell_type": "code",
      "source": [
        "base_model = tf.keras.applications.MobileNetV2(input_shape = [128, 128, 3], include_top = False)\n",
        "\n",
        "layer_names = [\n",
        "               'block_1_expand_relu', # 64 * 64\n",
        "               'block_3_expand_relu', # 32\n",
        "               'block_6_expand_relu', # 16\n",
        "               'block_13_expand_relu', # 8\n",
        "               'block_16_project' # 4\n",
        "]\n",
        "layers = [base_model.get_layer(name).output for name in layer_names]\n",
        "\n",
        "# 특징 추출 모델\n",
        "down_stack = tf.keras.Model(inputs = base_model.input, outputs = layers)\n",
        "\n",
        "down_stack.trainable = False"
      ],
      "metadata": {
        "id": "svHRvOrJQ63k"
      },
      "execution_count": null,
      "outputs": []
    },
    {
      "cell_type": "code",
      "source": [
        "# 디코더\n",
        "up_stack = [\n",
        "            pix2pix.upsample(512, 3), # 4,4 -> 8,8\n",
        "            pix2pix.upsample(256, 3), # 8,8 -> 16, 16\n",
        "            pix2pix.upsample(128, 3), # 16, 16 -> 32, 32\n",
        "            pix2pix.upsample(64, 3), # 32, 32 -> 64, 64\n",
        "]"
      ],
      "metadata": {
        "id": "32vg-VrGRVvK"
      },
      "execution_count": null,
      "outputs": []
    },
    {
      "cell_type": "code",
      "source": [
        "def unet_model(output_channels):\n",
        "  inputs = tf.keras.layers.Input(shape=[128, 128, 3])\n",
        "  x = inputs\n",
        "\n",
        "  # 다운샘플링\n",
        "  skips = down_stack(x)\n",
        "  x = skips[-1]\n",
        "  skips = reversed(skips[:-1])\n",
        "\n",
        "  # 건너뛰기 연결을 업샘플링하여 설정(?)\n",
        "  for up, skip in zip(up_stack, skips):\n",
        "    x = up(x)\n",
        "    concat = tf.keras.layers.Concatenate()\n",
        "    x = concat([x, skip])\n",
        "\n",
        "  # 마지막 층\n",
        "  last = tf.keras.layers.Conv2DTranspose(\n",
        "      output_channels, 3, strides = 2,\n",
        "      padding = 'same'\n",
        "  )\n",
        "\n",
        "  x = last(x)\n",
        "\n",
        "  return tf.keras.Model(inputs = inputs, outputs = x)"
      ],
      "metadata": {
        "id": "AQzseVQZRmn1"
      },
      "execution_count": null,
      "outputs": []
    },
    {
      "cell_type": "code",
      "source": [
        "# 모델 훈련\n",
        "model = unet_model(OUTPUT_CHANNELS)\n",
        "model.compile(optimizer = 'adam',\n",
        "              loss = tf.keras.losses.SparseCategoricalCrossentropy(from_logits = True), # 픽셀 별로 레이블 할당(다중 분류) -> 클래스 예측 시 권장(가장 높은 값이 레이블)\n",
        "              metrics = ['accuracy'])"
      ],
      "metadata": {
        "id": "vh9C8KlGSNuL"
      },
      "execution_count": null,
      "outputs": []
    },
    {
      "cell_type": "code",
      "source": [
        "tf.keras.utils.plot_model(model, show_shapes = True)"
      ],
      "metadata": {
        "id": "jZukBpgdSXki"
      },
      "execution_count": null,
      "outputs": []
    },
    {
      "cell_type": "code",
      "source": [
        "# 너무 설명이 없긴 하다..\n",
        "def create_mask(pred_mask):\n",
        "  pred_mask = tf.argmax(pred_mask, axis = -1)\n",
        "  pred_mask = pred_mask[..., tf.newaxis]\n",
        "  return pred_mask[0]\n"
      ],
      "metadata": {
        "id": "8fRwhxxuSlPW"
      },
      "execution_count": null,
      "outputs": []
    },
    {
      "cell_type": "code",
      "source": [
        "def show_predictions(dataset = None, num = 1):\n",
        "  if dataset:\n",
        "    for image, mask in dataset.take(num):\n",
        "      pred_mask = model.predict(image)\n",
        "      display([image[0], mask[0], create_mask(pred_mask)])\n",
        "  else:\n",
        "    display([sample_image, sample_mask, create_mask(model.predict(sample_image[tf.newaxis, ...]))])"
      ],
      "metadata": {
        "id": "IPdhwdsPTLjZ"
      },
      "execution_count": null,
      "outputs": []
    },
    {
      "cell_type": "code",
      "source": [
        "show_predictions()"
      ],
      "metadata": {
        "id": "SVxUCX6ZTcJr"
      },
      "execution_count": null,
      "outputs": []
    },
    {
      "cell_type": "code",
      "source": [
        "# 훈련 동안 모델의 향상 관찰\n",
        "class DisplayCallback(tf.keras.callbacks.Callback):\n",
        "  def on_epoch_end(self, epoch, logs= None):\n",
        "    clear_output(wait = True)\n",
        "    show_predictions()\n",
        "    print('\\n 에포크 이후 예측 예시 {}\\n'.format(epoch + 1))"
      ],
      "metadata": {
        "id": "0ph0L-3TTdBq"
      },
      "execution_count": null,
      "outputs": []
    },
    {
      "cell_type": "code",
      "source": [
        "EPOCHS = 20\n",
        "VAL_SUBSPLITS = 5\n",
        "VALIDATION_STEPS = info.splits['test'].num_examples//BATCH_SIZE//VAL_SUBSPLITS # 이게 뭐지?\n",
        "\n",
        "model_history = model.fit(train_dataset, epochs = EPOCHS,\n",
        "                          steps_per_epoch = STEPS_PER_EPOCH,\n",
        "                          validation_steps = VALIDATION_STEPS,\n",
        "                          validation_data = test_dataset,\n",
        "                          callbacks = [DisplayCallback()])"
      ],
      "metadata": {
        "id": "1D32SUDETuI2"
      },
      "execution_count": null,
      "outputs": []
    },
    {
      "cell_type": "code",
      "source": [
        "loss = model_history.history['loss']\n",
        "val_loss = model_history.history['val_loss']\n",
        "\n",
        "epochs = range(EPOCHS)\n",
        "\n",
        "plt.figure()\n",
        "plt.plot(epochs, loss, 'r', label = 'Training Loss')\n",
        "plt.plot(epochs, val_loss, 'bo', label = 'Validation Loss')\n",
        "plt.title('Training and Validation Loss')\n",
        "plt.xlabel('Epochs')\n",
        "plt.ylabel('Loss Value')\n",
        "plt.ylim([0, 1])\n",
        "plt.legend()\n",
        "plt.show()"
      ],
      "metadata": {
        "id": "N-WiDYurT_zd"
      },
      "execution_count": null,
      "outputs": []
    },
    {
      "cell_type": "code",
      "source": [
        "# 예측하기\n",
        "show_predictions(test_dataset, 3)"
      ],
      "metadata": {
        "id": "wgXBmUazVm5j"
      },
      "execution_count": null,
      "outputs": []
    },
    {
      "cell_type": "code",
      "source": [
        ""
      ],
      "metadata": {
        "id": "PK_ZrJcdVm3q"
      },
      "execution_count": null,
      "outputs": []
    },
    {
      "cell_type": "code",
      "source": [
        ""
      ],
      "metadata": {
        "id": "TFQnBWTbVm1q"
      },
      "execution_count": null,
      "outputs": []
    },
    {
      "cell_type": "code",
      "source": [
        ""
      ],
      "metadata": {
        "id": "fyPm6wNfVmyN"
      },
      "execution_count": null,
      "outputs": []
    },
    {
      "cell_type": "code",
      "source": [
        ""
      ],
      "metadata": {
        "id": "5bnrl5pWVmn4"
      },
      "execution_count": null,
      "outputs": []
    }
  ]
}