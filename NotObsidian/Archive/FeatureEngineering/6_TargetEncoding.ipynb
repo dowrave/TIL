{
 "cells": [
  {
   "cell_type": "markdown",
   "id": "a3cb905c-9c07-494b-9392-647602a99626",
   "metadata": {},
   "source": [
    "# 6. Target Encoding"
   ]
  },
  {
   "cell_type": "markdown",
   "id": "815187bf-6529-47d4-b535-499f14579f64",
   "metadata": {},
   "source": [
    "- `One-Hot`, `Label`이랑은 또다른 범주임!"
   ]
  },
  {
   "cell_type": "code",
   "execution_count": 3,
   "id": "07499521-f83e-4b10-ad8e-d881297f1b41",
   "metadata": {},
   "outputs": [],
   "source": [
    "import pandas as pd\n",
    "\n",
    "autos = pd.read_csv(\"data/autos.csv\")"
   ]
  },
  {
   "cell_type": "markdown",
   "id": "91e444ba-0606-4f7f-a296-da17ab4c0b59",
   "metadata": {},
   "source": [
    "## Target Encoding\n",
    "- 여기선 가격을 범주로 묶는 걸 설명함\n",
    "    - 원래 범주가 `make`였는데 이들에 대해 `groupby`를 때려서 나온 값을 새로운 범주로 삼는 거임\n",
    "    - 즉, 묶이는 애들은 똑같은데 이들의 이름만 다른 거임"
   ]
  },
  {
   "cell_type": "code",
   "execution_count": 4,
   "id": "bde53926-4f4e-47d4-90a7-e427e5e46d99",
   "metadata": {},
   "outputs": [
    {
     "data": {
      "text/html": [
       "<div>\n",
       "<style scoped>\n",
       "    .dataframe tbody tr th:only-of-type {\n",
       "        vertical-align: middle;\n",
       "    }\n",
       "\n",
       "    .dataframe tbody tr th {\n",
       "        vertical-align: top;\n",
       "    }\n",
       "\n",
       "    .dataframe thead th {\n",
       "        text-align: right;\n",
       "    }\n",
       "</style>\n",
       "<table border=\"1\" class=\"dataframe\">\n",
       "  <thead>\n",
       "    <tr style=\"text-align: right;\">\n",
       "      <th></th>\n",
       "      <th>make</th>\n",
       "      <th>price</th>\n",
       "      <th>make_encoded</th>\n",
       "    </tr>\n",
       "  </thead>\n",
       "  <tbody>\n",
       "    <tr>\n",
       "      <th>0</th>\n",
       "      <td>alfa-romero</td>\n",
       "      <td>13495</td>\n",
       "      <td>15498.333333</td>\n",
       "    </tr>\n",
       "    <tr>\n",
       "      <th>1</th>\n",
       "      <td>alfa-romero</td>\n",
       "      <td>16500</td>\n",
       "      <td>15498.333333</td>\n",
       "    </tr>\n",
       "    <tr>\n",
       "      <th>2</th>\n",
       "      <td>alfa-romero</td>\n",
       "      <td>16500</td>\n",
       "      <td>15498.333333</td>\n",
       "    </tr>\n",
       "    <tr>\n",
       "      <th>3</th>\n",
       "      <td>audi</td>\n",
       "      <td>13950</td>\n",
       "      <td>17859.166667</td>\n",
       "    </tr>\n",
       "    <tr>\n",
       "      <th>4</th>\n",
       "      <td>audi</td>\n",
       "      <td>17450</td>\n",
       "      <td>17859.166667</td>\n",
       "    </tr>\n",
       "    <tr>\n",
       "      <th>5</th>\n",
       "      <td>audi</td>\n",
       "      <td>15250</td>\n",
       "      <td>17859.166667</td>\n",
       "    </tr>\n",
       "    <tr>\n",
       "      <th>6</th>\n",
       "      <td>audi</td>\n",
       "      <td>17710</td>\n",
       "      <td>17859.166667</td>\n",
       "    </tr>\n",
       "    <tr>\n",
       "      <th>7</th>\n",
       "      <td>audi</td>\n",
       "      <td>18920</td>\n",
       "      <td>17859.166667</td>\n",
       "    </tr>\n",
       "    <tr>\n",
       "      <th>8</th>\n",
       "      <td>audi</td>\n",
       "      <td>23875</td>\n",
       "      <td>17859.166667</td>\n",
       "    </tr>\n",
       "    <tr>\n",
       "      <th>9</th>\n",
       "      <td>bmw</td>\n",
       "      <td>16430</td>\n",
       "      <td>26118.750000</td>\n",
       "    </tr>\n",
       "  </tbody>\n",
       "</table>\n",
       "</div>"
      ],
      "text/plain": [
       "          make  price  make_encoded\n",
       "0  alfa-romero  13495  15498.333333\n",
       "1  alfa-romero  16500  15498.333333\n",
       "2  alfa-romero  16500  15498.333333\n",
       "3         audi  13950  17859.166667\n",
       "4         audi  17450  17859.166667\n",
       "5         audi  15250  17859.166667\n",
       "6         audi  17710  17859.166667\n",
       "7         audi  18920  17859.166667\n",
       "8         audi  23875  17859.166667\n",
       "9          bmw  16430  26118.750000"
      ]
     },
     "execution_count": 4,
     "metadata": {},
     "output_type": "execute_result"
    }
   ],
   "source": [
    "autos[\"make_encoded\"] = autos.groupby(\"make\")[\"price\"].transform(\"mean\")\n",
    "\n",
    "autos[[\"make\", \"price\", \"make_encoded\"]].head(10)"
   ]
  },
  {
   "cell_type": "markdown",
   "id": "0f0f56af-a860-4792-b133-80e676d1ad6f",
   "metadata": {},
   "source": [
    "## Smoothing\n",
    "- 위의 경우 몇 가지 문제가 있다.\n",
    "1. 새로운 범주 : 학습 때 알려지지 않은 새로운 범주가 들어온다고 했을 때, 이를 새로운 범주로 두지 않고 기존 범주에 합침\n",
    "2. 희귀한 범주 : `평균`이라는 값 자체를 봤을 때 데이터의 수량을 파악할 수 없음. \n",
    "    - 가령 1대만 있다고 하면 평균이 아니라 그냥 차량 1대의 값이 되는 거임\n",
    "    - 이는 과적합을 낳을 가능성이 있음\n",
    "\n",
    "- 이러한 문제를 해결하는 방법으로 `Smoothing`이 있다 : **범주 내의 평균과 전체 평균을 혼합**하는 것\n",
    "    - 희귀 평균은 범주 평균에 대한 가중치가 적고\n",
    "    - 누락된 범주는 전체 평균을 얻는다\n",
    "    \n",
    "$ encoding = weight * inCategory + (1 - weight) * overall $  \n",
    "- `weight`값은 0 ~ 1 사이의 값을 가지며, `m-estimate`로 얻을 수 있음    \n",
    "\n",
    "$ weight = n / (n + m) $  \n",
    "\n",
    "\n",
    "- n은 카테고리의 총 출현 수, m은 `smoothing factor`이다. m값이 클수록 전체 추정 가중치가 커짐"
   ]
  },
  {
   "cell_type": "markdown",
   "id": "e606aaef-8e57-4889-affa-19d4ed26f049",
   "metadata": {},
   "source": [
    "![9](Images/9.png)\n",
    "- **m값을 선택할 때, 카테고리가 얼마나 noisy한지를 고려해야 한다.**\n",
    "- 제품마다 가격이 크게 다르다면 m값이 커야 하고, 제품의 평균 가격이 안정적이라면 m값이 작아져도 좋다."
   ]
  },
  {
   "cell_type": "markdown",
   "id": "c94fc8ca-4703-4d77-80e2-131426461ba6",
   "metadata": {},
   "source": [
    "### 타겟 인코딩이 유용한 경우\n",
    "- 카디널리티가 높은 경우(낮은 중복도, 많은 고유값) : 원핫인코딩은 차원이 너무 커질 수 있고, 레이블 인코딩은 부적합할 수 있음\n",
    "    - 타겟 인코딩은 타겟과의 관계를 고려하여 범주의 숫자를 추출해냄\n",
    "- 특성 계산에 대한 성능이 좋지 않더라도, 범주형 피쳐가 중요한 경우가 있다. 타겟 인코딩은 피쳐의 유용성을 높여줌"
   ]
  },
  {
   "cell_type": "markdown",
   "id": "4d8f2919-5f0d-4e95-a7ba-dfcf00824428",
   "metadata": {},
   "source": [
    "## 예제 "
   ]
  },
  {
   "cell_type": "code",
   "execution_count": 8,
   "id": "e7e41153-e27d-493f-807f-586d4343f6cd",
   "metadata": {},
   "outputs": [
    {
     "name": "stdout",
     "output_type": "stream",
     "text": [
      "Number of Unique Zipcodes: 3439\n"
     ]
    }
   ],
   "source": [
    "import matplotlib.pyplot as plt\n",
    "import numpy as np\n",
    "import pandas as pd\n",
    "import seaborn as sns\n",
    "import warnings\n",
    "\n",
    "plt.style.use(\"seaborn-whitegrid\")\n",
    "plt.rc(\"figure\", autolayout=True)\n",
    "plt.rc(\n",
    "    \"axes\",\n",
    "    labelweight=\"bold\",\n",
    "    labelsize=\"large\",\n",
    "    titleweight=\"bold\",\n",
    "    titlesize=14,\n",
    "    titlepad=10,\n",
    ")\n",
    "warnings.filterwarnings('ignore')\n",
    "\n",
    "\n",
    "df = pd.read_csv(\"./data/movielens1m.csv\")\n",
    "df = df.astype(np.uint8, errors='ignore') # reduce memory footprint\n",
    "print(\"Number of Unique Zipcodes: {}\".format(df[\"Zipcode\"].nunique()))"
   ]
  },
  {
   "cell_type": "markdown",
   "id": "29400d52-9740-4aae-b7bb-8ce5d2acc2d8",
   "metadata": {},
   "source": [
    "- 3000개가 넘는 범주가 있고, `Zipcode` 특성은 타겟 인코딩이 될 좋은 특성이다. \n",
    "- 샘플 수가 100만개가 넘기 때문에 일부만을 이용함"
   ]
  },
  {
   "cell_type": "code",
   "execution_count": 18,
   "id": "3da9f00b-7ff1-4979-9eb5-7c0810eb2bfc",
   "metadata": {},
   "outputs": [],
   "source": [
    "X = df.copy()\n",
    "y = X.pop('Rating')\n",
    "\n",
    "X_encode = X.sample(frac = 0.25)\n",
    "y_encode = y[X_encode.index]\n",
    "X_pretrain = X.drop(X_encode.index)\n",
    "y_train = y[X_pretrain.index]"
   ]
  },
  {
   "cell_type": "markdown",
   "id": "1e7082b6-7ae4-436d-87c4-7f175d2f1fdb",
   "metadata": {},
   "source": [
    "- `category_encoder`는 `scikit-learn-contrib`에 있음"
   ]
  },
  {
   "cell_type": "code",
   "execution_count": 20,
   "id": "8a484308-4efa-425e-bd9e-aac5c8de485f",
   "metadata": {},
   "outputs": [],
   "source": [
    "from category_encoders import MEstimateEncoder\n",
    "\n",
    "encoder = MEstimateEncoder(cols = ['Zipcode'\n",
    "], m = 5.0)\n",
    "\n",
    "encoder.fit(X_encode, y_encode)\n",
    "\n",
    "X_train = encoder.transform(X_pretrain)"
   ]
  },
  {
   "cell_type": "code",
   "execution_count": 21,
   "id": "9674f4a7-c27c-4b24-917f-895d0835c00b",
   "metadata": {},
   "outputs": [
    {
     "data": {
      "text/plain": [
       "<matplotlib.legend.Legend at 0x1fe8d54b790>"
      ]
     },
     "execution_count": 21,
     "metadata": {},
     "output_type": "execute_result"
    },
    {
     "data": {
      "image/png": "[encoded data removed]",
      "text/plain": [
       "<Figure size 540x360 with 1 Axes>"
      ]
     },
     "metadata": {},
     "output_type": "display_data"
    }
   ],
   "source": [
    "plt.figure(dpi = 90)\n",
    "ax = sns.distplot(y, kde = False, norm_hist = True)\n",
    "ax = sns.kdeplot(X_train.Zipcode, color = 'r', ax = ax)\n",
    "ax.set_xlabel('Rating')\n",
    "ax.legend(labels = ['Zipcode', 'Rating'])"
   ]
  },
  {
   "cell_type": "code",
   "execution_count": null,
   "id": "59799157-239d-41fd-b0f8-96953d78d55f",
   "metadata": {},
   "outputs": [],
   "source": []
  }
 ],
 "metadata": {
  "kernelspec": {
   "display_name": "Python 3",
   "language": "python",
   "name": "python3"
  },
  "language_info": {
   "codemirror_mode": {
    "name": "ipython",
    "version": 3
   },
   "file_extension": ".py",
   "mimetype": "text/x-python",
   "name": "python",
   "nbconvert_exporter": "python",
   "pygments_lexer": "ipython3",
   "version": "3.8.8"
  }
 },
 "nbformat": 4,
 "nbformat_minor": 5
}
