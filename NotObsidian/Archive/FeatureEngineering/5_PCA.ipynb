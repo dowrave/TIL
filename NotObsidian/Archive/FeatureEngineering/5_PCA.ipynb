{
 "cells": [
  {
   "cell_type": "markdown",
   "id": "2501baa2-3c0a-4412-8c38-27f8d3c4fee9",
   "metadata": {},
   "source": [
    "# 5. Principle Component Analysis"
   ]
  },
  {
   "cell_type": "markdown",
   "id": "58b8fb29-04cb-4a88-ac68-24370e3091fb",
   "metadata": {},
   "source": [
    "클러스터링이 근접성으로 데이터를 나눴다면, **PCA는 분산에 따라 데이터를 나눈 것**이다. **PCA는 데이터 내의 중요한 관계와 유용한 특성을 찾을 수 있도록 도와준다.**  \n",
    "- PCA는 표준화된 데이터를 적용한다. \n",
    "    - 표준화된 데이터에서 `Variation`은 `Correlation`을 의미한다.\n",
    "    - 표준화되지 않은 데이터에서 `Variation`은 `Covariance`를 의미한다."
   ]
  },
  {
   "cell_type": "markdown",
   "id": "0ad3b90c-f9ff-4c12-b4d5-2f92a4929156",
   "metadata": {},
   "source": [
    "![7](Images/7.png)\n",
    "- 껍질의 높이와 직경이라는 2가지 축이 있다고 생각해보자.\n",
    "- 데이터 내에 서로 다른 경향을 나타내는 2가지 축이 있다고 생각할 수 있다.   \n",
    "\n",
    "$Size = 0.707 \\times Height + 0.707 \\times Diameter$  \n",
    "$Shape = 0.707 \\times Height - 0.707 \\times Diameter$"
   ]
  },
  {
   "cell_type": "markdown",
   "id": "687c62d3-e4b2-48d0-a734-175256b3c1f4",
   "metadata": {},
   "source": [
    "**PCA의 핵심은, 데이터를 원래 축**(Height, Diameter)**으로 설명하는 대신 변동 축**(Shape, Size)**으로 설명하는 것이다.**\n",
    "- 이 때 새로운 변동 축들은 원래 축들의 선형 결합으로 설명할 수 있다.\n",
    "    - 이 선형 결합에서 원래 피쳐 각각의 가중치를 `Loading`이라고 한다.\n",
    "- 이러한 **새로운 변동 축을 주성분**(Principle Components)이라고 한다."
   ]
  },
  {
   "cell_type": "markdown",
   "id": "21425d70-c51d-4751-9790-d15044f2091f",
   "metadata": {},
   "source": [
    "PCA는 또한 각 성분의 변동량을 알려준다. 위 그림에서 Height에 따른 분산이 Diameter에 따른 분산보다 큼을 알 수 있다\n",
    "- 이해되지 않는다면 데이터가 Size에 길게 걸쳐 있는지 Shape에 길게 걸쳐 있는지 보자 : Size 축에 길게 걸쳐 있죠?  \n",
    "\n",
    "**PCA는 `Percent Of Experienced Variance`라는 값을 통해 각 성분이 분산(`variance`)에 얼마나 기여하는지 볼 수 있다.**\n",
    "![8](Images/8.png)  \n",
    "- `Size` 값이 `Height`와 `Diameter` 사이의 분산에서 96%를 차지함을 알 수 있다.\n",
    "- 그러나 **분산이 예측 변수로서 얼마나 우수한지를 반드시 의미하는 건 아니다** : 예측 내용에 따라 다름"
   ]
  },
  {
   "cell_type": "markdown",
   "id": "5c623fa1-01ac-43c7-bc88-054a7ae38ce4",
   "metadata": {},
   "source": [
    "## 특성 공학을 위한 PCA"
   ]
  },
  {
   "cell_type": "markdown",
   "id": "071ca87d-a3ff-4d74-91a7-a4832b3d8d2d",
   "metadata": {},
   "source": [
    "- 2가지 방법이 있다. (성분 : Component)\n",
    "1. **성분이 분산을 알려주므로, 성분에 대한 MI 점수를 확인한 다음 목표값을 예측할 수 있는 변동의 종류를 확인할 수 있다.** 점수가 높은 요소에 대한 클러스터링을 시도할 수도 있고, 새로운 특성을 만들어내는 아이디어로 쓸 수도 있다.\n",
    "2. **성분 자체를 특성으로 사용할 수 있다.** 데이터의 분산을 가장 잘 나타내기 때문에 원래 특성보다 유용할 수 있다. \n",
    "    - 차원 축소 : PCA는 중복된 기능 중 하나 이상을 반드시 0에 가까운 성분으로 분할한다. 이러한 성분을 자연스럽게 지울 수 있다.\n",
    "    - 이상 감지 : 분명하지 않은 비정상적 변동은 종종 저분산 성분에서 나타난다. 이상 징후나 특이치 감지 작업에서 유용한 경우가 많다.\n",
    "    - 노이즈 감소 : 센서는 노이즈를 받아들이곤 하는데, PCA를 통해 노이즈를 유지하면서 더 유용한 정보를 수집할 수 있다. 따라서 신호 : 잡음 비율을 높일 수 있다.\n",
    "    - 상관성 분해 : PCA는 상관성(Correlation)이 있는 기능을 상관성이 없는 요소로 분할하므로, 알고리즘 작업을 더 쉽게 할 수 있다.\n"
   ]
  },
  {
   "cell_type": "markdown",
   "id": "1d32d4b9-19e7-4a24-a28a-8ce76ee130ca",
   "metadata": {},
   "source": [
    "- PCA는 데이터의 상관 구조에 직접적으로 접근할 수 있게 하므로, 안 쓸 이유가 없음"
   ]
  },
  {
   "cell_type": "markdown",
   "id": "3346779d-cf33-4b2d-83bc-59250880e619",
   "metadata": {},
   "source": [
    "### PCA 사용을 위한 팁\n",
    "- PCA는 연속변수에만 사용가능함\n",
    "- PCA는 스케일링에 민감함 \n",
    "- 이상치는 결과에 과도한 영향을 미칠 수 있다. 이상치를 제거하거나 제한하는 것을 염두에 두자."
   ]
  },
  {
   "cell_type": "markdown",
   "id": "cc267c8a-4815-47ae-b9f3-75c38acf730a",
   "metadata": {},
   "source": [
    "## 예제"
   ]
  },
  {
   "cell_type": "code",
   "execution_count": 2,
   "id": "4ee2756a-3084-444c-a701-25bd8b9eca28",
   "metadata": {},
   "outputs": [],
   "source": [
    "import matplotlib.pyplot as plt\n",
    "import numpy as np\n",
    "import pandas as pd\n",
    "import seaborn as sns\n",
    "from IPython.display import display\n",
    "from sklearn.feature_selection import mutual_info_regression\n",
    "\n",
    "\n",
    "plt.style.use(\"seaborn-whitegrid\")\n",
    "plt.rc(\"figure\", autolayout=True)\n",
    "plt.rc(\n",
    "    \"axes\",\n",
    "    labelweight=\"bold\",\n",
    "    labelsize=\"large\",\n",
    "    titleweight=\"bold\",\n",
    "    titlesize=14,\n",
    "    titlepad=10,\n",
    ")\n",
    "\n",
    "def plot_variance(pca, width = 8, dpi = 100):\n",
    "    fig, axs = plt.subplots(1, 2)\n",
    "    n = pca.n_components_\n",
    "    grid = np.arange(1, n+1)\n",
    "    \n",
    "    # Explained Variance\n",
    "    evr = pca.explained_variance_ratio_\n",
    "    axs[0].bar(grid, evr)\n",
    "    axs[0].set(xlabel = 'Component', title = '% Explained Variance', ylim = (0.0, 1.0))\n",
    "    \n",
    "    # Cumulative Variance\n",
    "    cv = np.cumsum(evr)\n",
    "    axs[1].plot(np.r_[0, grid], np.r_[0, cv], 'o-')\n",
    "    axs[1].set(xlabel = 'Component', title = '% Cumulative Variance', ylim = (0.0, 1.0))\n",
    "    \n",
    "    fig.set(figwidth = 8, dpi = 100)\n",
    "    return axs\n",
    "\n",
    "def make_mi_scores(X, y, discrete_features):\n",
    "    mi_scores = mutual_info_regression(X, y, discrete_features = discrete_features)\n",
    "    mi_scores = pd.Series(mi_scores, name = 'MI Scores', index = X.columns)\n",
    "    mi_scores = mi_scores.sort_values(ascending = False)\n",
    "    return mi_scores\n",
    "\n",
    "\n",
    "df = pd.read_csv('data/autos.csv')"
   ]
  },
  {
   "cell_type": "code",
   "execution_count": 3,
   "id": "619691d8-f365-4dcf-994e-8d26dcd97ab0",
   "metadata": {},
   "outputs": [],
   "source": [
    "features = ['highway_mpg', 'engine_size', 'horsepower', 'curb_weight']\n",
    "\n",
    "X = df.copy()\n",
    "y = X.pop('price')\n",
    "X = X.loc[:, features]\n",
    "\n",
    "# standardized\n",
    "X_scaled = ((X - X.mean(axis = 0)) / X.std(axis = 0))"
   ]
  },
  {
   "cell_type": "code",
   "execution_count": 9,
   "id": "b5874ccb-6947-4c6c-a9c4-94dab6e65e35",
   "metadata": {},
   "outputs": [
    {
     "data": {
      "text/html": [
       "<div>\n",
       "<style scoped>\n",
       "    .dataframe tbody tr th:only-of-type {\n",
       "        vertical-align: middle;\n",
       "    }\n",
       "\n",
       "    .dataframe tbody tr th {\n",
       "        vertical-align: top;\n",
       "    }\n",
       "\n",
       "    .dataframe thead th {\n",
       "        text-align: right;\n",
       "    }\n",
       "</style>\n",
       "<table border=\"1\" class=\"dataframe\">\n",
       "  <thead>\n",
       "    <tr style=\"text-align: right;\">\n",
       "      <th></th>\n",
       "      <th>highway_mpg</th>\n",
       "      <th>engine_size</th>\n",
       "      <th>horsepower</th>\n",
       "      <th>curb_weight</th>\n",
       "    </tr>\n",
       "  </thead>\n",
       "  <tbody>\n",
       "    <tr>\n",
       "      <th>0</th>\n",
       "      <td>-0.555613</td>\n",
       "      <td>0.045098</td>\n",
       "      <td>0.198054</td>\n",
       "      <td>-0.025646</td>\n",
       "    </tr>\n",
       "    <tr>\n",
       "      <th>1</th>\n",
       "      <td>-0.555613</td>\n",
       "      <td>0.045098</td>\n",
       "      <td>0.198054</td>\n",
       "      <td>-0.025646</td>\n",
       "    </tr>\n",
       "    <tr>\n",
       "      <th>2</th>\n",
       "      <td>-0.702307</td>\n",
       "      <td>0.574066</td>\n",
       "      <td>1.330822</td>\n",
       "      <td>0.496473</td>\n",
       "    </tr>\n",
       "    <tr>\n",
       "      <th>3</th>\n",
       "      <td>-0.115531</td>\n",
       "      <td>-0.459826</td>\n",
       "      <td>-0.039037</td>\n",
       "      <td>-0.426254</td>\n",
       "    </tr>\n",
       "    <tr>\n",
       "      <th>4</th>\n",
       "      <td>-1.289083</td>\n",
       "      <td>0.189362</td>\n",
       "      <td>0.303427</td>\n",
       "      <td>0.498371</td>\n",
       "    </tr>\n",
       "  </tbody>\n",
       "</table>\n",
       "</div>"
      ],
      "text/plain": [
       "   highway_mpg  engine_size  horsepower  curb_weight\n",
       "0    -0.555613     0.045098    0.198054    -0.025646\n",
       "1    -0.555613     0.045098    0.198054    -0.025646\n",
       "2    -0.702307     0.574066    1.330822     0.496473\n",
       "3    -0.115531    -0.459826   -0.039037    -0.426254\n",
       "4    -1.289083     0.189362    0.303427     0.498371"
      ]
     },
     "execution_count": 9,
     "metadata": {},
     "output_type": "execute_result"
    }
   ],
   "source": [
    "X_scaled.head(5)"
   ]
  },
  {
   "cell_type": "code",
   "execution_count": 4,
   "id": "5ec5eb46-a501-47de-869c-ca95e96a1817",
   "metadata": {},
   "outputs": [
    {
     "data": {
      "text/html": [
       "<div>\n",
       "<style scoped>\n",
       "    .dataframe tbody tr th:only-of-type {\n",
       "        vertical-align: middle;\n",
       "    }\n",
       "\n",
       "    .dataframe tbody tr th {\n",
       "        vertical-align: top;\n",
       "    }\n",
       "\n",
       "    .dataframe thead th {\n",
       "        text-align: right;\n",
       "    }\n",
       "</style>\n",
       "<table border=\"1\" class=\"dataframe\">\n",
       "  <thead>\n",
       "    <tr style=\"text-align: right;\">\n",
       "      <th></th>\n",
       "      <th>PC1</th>\n",
       "      <th>PC2</th>\n",
       "      <th>PC3</th>\n",
       "      <th>PC4</th>\n",
       "    </tr>\n",
       "  </thead>\n",
       "  <tbody>\n",
       "    <tr>\n",
       "      <th>0</th>\n",
       "      <td>0.382486</td>\n",
       "      <td>-0.400222</td>\n",
       "      <td>0.124122</td>\n",
       "      <td>0.169539</td>\n",
       "    </tr>\n",
       "    <tr>\n",
       "      <th>1</th>\n",
       "      <td>0.382486</td>\n",
       "      <td>-0.400222</td>\n",
       "      <td>0.124122</td>\n",
       "      <td>0.169539</td>\n",
       "    </tr>\n",
       "    <tr>\n",
       "      <th>2</th>\n",
       "      <td>1.550890</td>\n",
       "      <td>-0.107175</td>\n",
       "      <td>0.598361</td>\n",
       "      <td>-0.256081</td>\n",
       "    </tr>\n",
       "    <tr>\n",
       "      <th>3</th>\n",
       "      <td>-0.408859</td>\n",
       "      <td>-0.425947</td>\n",
       "      <td>0.243335</td>\n",
       "      <td>0.013920</td>\n",
       "    </tr>\n",
       "    <tr>\n",
       "      <th>4</th>\n",
       "      <td>1.132749</td>\n",
       "      <td>-0.814565</td>\n",
       "      <td>-0.202885</td>\n",
       "      <td>0.224138</td>\n",
       "    </tr>\n",
       "  </tbody>\n",
       "</table>\n",
       "</div>"
      ],
      "text/plain": [
       "        PC1       PC2       PC3       PC4\n",
       "0  0.382486 -0.400222  0.124122  0.169539\n",
       "1  0.382486 -0.400222  0.124122  0.169539\n",
       "2  1.550890 -0.107175  0.598361 -0.256081\n",
       "3 -0.408859 -0.425947  0.243335  0.013920\n",
       "4  1.132749 -0.814565 -0.202885  0.224138"
      ]
     },
     "execution_count": 4,
     "metadata": {},
     "output_type": "execute_result"
    }
   ],
   "source": [
    "from sklearn.decomposition import PCA\n",
    "\n",
    "pca = PCA()\n",
    "X_pca = pca.fit_transform(X_scaled)\n",
    "\n",
    "component_names = [f\"PC{i+1}\" for i in range(X_pca.shape[1])]\n",
    "X_pca = pd.DataFrame(X_pca, columns = component_names)\n",
    "\n",
    "X_pca.head() # 이거 자체로는 각 주성분에 대해 row가 갖는 값이 뭔지 모르겠음"
   ]
  },
  {
   "cell_type": "markdown",
   "id": "2833ff3b-87a4-49d7-a179-67034aa6ecc9",
   "metadata": {},
   "source": [
    "- PCA는 `components_` 속성에 `loading` 값을 포함하고 있다.(용어의 일관성이 없긴 하다)\n",
    "- **제일 중요**하게 볼 수 있는 부분이기도 하다"
   ]
  },
  {
   "cell_type": "code",
   "execution_count": 11,
   "id": "f3716f82-5134-4ae5-b389-e00abf16ab5a",
   "metadata": {},
   "outputs": [
    {
     "data": {
      "text/html": [
       "<div>\n",
       "<style scoped>\n",
       "    .dataframe tbody tr th:only-of-type {\n",
       "        vertical-align: middle;\n",
       "    }\n",
       "\n",
       "    .dataframe tbody tr th {\n",
       "        vertical-align: top;\n",
       "    }\n",
       "\n",
       "    .dataframe thead th {\n",
       "        text-align: right;\n",
       "    }\n",
       "</style>\n",
       "<table border=\"1\" class=\"dataframe\">\n",
       "  <thead>\n",
       "    <tr style=\"text-align: right;\">\n",
       "      <th></th>\n",
       "      <th>PC1</th>\n",
       "      <th>PC2</th>\n",
       "      <th>PC3</th>\n",
       "      <th>PC4</th>\n",
       "    </tr>\n",
       "  </thead>\n",
       "  <tbody>\n",
       "    <tr>\n",
       "      <th>highway_mpg</th>\n",
       "      <td>-0.492347</td>\n",
       "      <td>0.770892</td>\n",
       "      <td>0.070142</td>\n",
       "      <td>-0.397996</td>\n",
       "    </tr>\n",
       "    <tr>\n",
       "      <th>engine_size</th>\n",
       "      <td>0.503859</td>\n",
       "      <td>0.626709</td>\n",
       "      <td>0.019960</td>\n",
       "      <td>0.594107</td>\n",
       "    </tr>\n",
       "    <tr>\n",
       "      <th>horsepower</th>\n",
       "      <td>0.500448</td>\n",
       "      <td>0.013788</td>\n",
       "      <td>0.731093</td>\n",
       "      <td>-0.463534</td>\n",
       "    </tr>\n",
       "    <tr>\n",
       "      <th>curb_weight</th>\n",
       "      <td>0.503262</td>\n",
       "      <td>0.113008</td>\n",
       "      <td>-0.678369</td>\n",
       "      <td>-0.523232</td>\n",
       "    </tr>\n",
       "  </tbody>\n",
       "</table>\n",
       "</div>"
      ],
      "text/plain": [
       "                  PC1       PC2       PC3       PC4\n",
       "highway_mpg -0.492347  0.770892  0.070142 -0.397996\n",
       "engine_size  0.503859  0.626709  0.019960  0.594107\n",
       "horsepower   0.500448  0.013788  0.731093 -0.463534\n",
       "curb_weight  0.503262  0.113008 -0.678369 -0.523232"
      ]
     },
     "execution_count": 11,
     "metadata": {},
     "output_type": "execute_result"
    }
   ],
   "source": [
    "loading = pd.DataFrame(\n",
    "                        pca.components_.T, # loading 행렬 Transpose\n",
    "                        columns = component_names, # 각 열은 주성분\n",
    "                        index = X.columns # row는 원래 피쳐들\n",
    ")\n",
    "loading"
   ]
  },
  {
   "cell_type": "code",
   "execution_count": 12,
   "id": "e20610e4-e478-4390-aeb5-d8714d60637b",
   "metadata": {},
   "outputs": [
    {
     "data": {
      "text/plain": [
       "array([<AxesSubplot:title={'center':'% Explained Variance'}, xlabel='Component'>,\n",
       "       <AxesSubplot:title={'center':'% Cumulative Variance'}, xlabel='Component'>],\n",
       "      dtype=object)"
      ]
     },
     "execution_count": 12,
     "metadata": {},
     "output_type": "execute_result"
    },
    {
     "data": {
      "image/png": "[encoded data removed]",
      "text/plain": [
       "<Figure size 800x400 with 2 Axes>"
      ]
     },
     "metadata": {},
     "output_type": "display_data"
    }
   ],
   "source": [
    "plot_variance(pca)"
   ]
  },
  {
   "cell_type": "markdown",
   "id": "7213dbaf-4e40-4295-beef-e9797e8094b4",
   "metadata": {},
   "source": [
    "#### MI 스코어 보기"
   ]
  },
  {
   "cell_type": "code",
   "execution_count": 13,
   "id": "a8ca2980-b827-46eb-b7de-209fe2781ce6",
   "metadata": {},
   "outputs": [
    {
     "data": {
      "text/plain": [
       "PC1    1.012645\n",
       "PC2    0.379690\n",
       "PC3    0.307087\n",
       "PC4    0.204842\n",
       "Name: MI Scores, dtype: float64"
      ]
     },
     "execution_count": 13,
     "metadata": {},
     "output_type": "execute_result"
    }
   ],
   "source": [
    "mi_scores = make_mi_scores(X_pca, y, discrete_features = False)\n",
    "mi_scores"
   ]
  },
  {
   "cell_type": "markdown",
   "id": "97d045ad-8fec-41db-b70c-e6673c497fc9",
   "metadata": {},
   "source": [
    "- 위에서 loading에 대한 함수를 봤을 때 주성분3(PC3)은 `horsepower`와 `curb_weight` 간의 대조를 보임\n",
    "- 이걸 한 번 살펴보자"
   ]
  },
  {
   "cell_type": "code",
   "execution_count": 14,
   "id": "a6622f30-6253-4a24-8c46-15d05d57ebad",
   "metadata": {},
   "outputs": [
    {
     "data": {
      "text/html": [
       "<div>\n",
       "<style scoped>\n",
       "    .dataframe tbody tr th:only-of-type {\n",
       "        vertical-align: middle;\n",
       "    }\n",
       "\n",
       "    .dataframe tbody tr th {\n",
       "        vertical-align: top;\n",
       "    }\n",
       "\n",
       "    .dataframe thead th {\n",
       "        text-align: right;\n",
       "    }\n",
       "</style>\n",
       "<table border=\"1\" class=\"dataframe\">\n",
       "  <thead>\n",
       "    <tr style=\"text-align: right;\">\n",
       "      <th></th>\n",
       "      <th>make</th>\n",
       "      <th>body_style</th>\n",
       "      <th>horsepower</th>\n",
       "      <th>curb_weight</th>\n",
       "    </tr>\n",
       "  </thead>\n",
       "  <tbody>\n",
       "    <tr>\n",
       "      <th>117</th>\n",
       "      <td>porsche</td>\n",
       "      <td>hardtop</td>\n",
       "      <td>207</td>\n",
       "      <td>2756</td>\n",
       "    </tr>\n",
       "    <tr>\n",
       "      <th>118</th>\n",
       "      <td>porsche</td>\n",
       "      <td>hardtop</td>\n",
       "      <td>207</td>\n",
       "      <td>2756</td>\n",
       "    </tr>\n",
       "    <tr>\n",
       "      <th>119</th>\n",
       "      <td>porsche</td>\n",
       "      <td>convertible</td>\n",
       "      <td>207</td>\n",
       "      <td>2800</td>\n",
       "    </tr>\n",
       "    <tr>\n",
       "      <th>45</th>\n",
       "      <td>jaguar</td>\n",
       "      <td>sedan</td>\n",
       "      <td>262</td>\n",
       "      <td>3950</td>\n",
       "    </tr>\n",
       "    <tr>\n",
       "      <th>96</th>\n",
       "      <td>nissan</td>\n",
       "      <td>hatchback</td>\n",
       "      <td>200</td>\n",
       "      <td>3139</td>\n",
       "    </tr>\n",
       "    <tr>\n",
       "      <th>...</th>\n",
       "      <td>...</td>\n",
       "      <td>...</td>\n",
       "      <td>...</td>\n",
       "      <td>...</td>\n",
       "    </tr>\n",
       "    <tr>\n",
       "      <th>59</th>\n",
       "      <td>mercedes-benz</td>\n",
       "      <td>wagon</td>\n",
       "      <td>123</td>\n",
       "      <td>3750</td>\n",
       "    </tr>\n",
       "    <tr>\n",
       "      <th>61</th>\n",
       "      <td>mercedes-benz</td>\n",
       "      <td>sedan</td>\n",
       "      <td>123</td>\n",
       "      <td>3770</td>\n",
       "    </tr>\n",
       "    <tr>\n",
       "      <th>101</th>\n",
       "      <td>peugot</td>\n",
       "      <td>wagon</td>\n",
       "      <td>95</td>\n",
       "      <td>3430</td>\n",
       "    </tr>\n",
       "    <tr>\n",
       "      <th>105</th>\n",
       "      <td>peugot</td>\n",
       "      <td>wagon</td>\n",
       "      <td>95</td>\n",
       "      <td>3485</td>\n",
       "    </tr>\n",
       "    <tr>\n",
       "      <th>143</th>\n",
       "      <td>toyota</td>\n",
       "      <td>wagon</td>\n",
       "      <td>62</td>\n",
       "      <td>3110</td>\n",
       "    </tr>\n",
       "  </tbody>\n",
       "</table>\n",
       "<p>193 rows × 4 columns</p>\n",
       "</div>"
      ],
      "text/plain": [
       "              make   body_style  horsepower  curb_weight\n",
       "117        porsche      hardtop         207         2756\n",
       "118        porsche      hardtop         207         2756\n",
       "119        porsche  convertible         207         2800\n",
       "45          jaguar        sedan         262         3950\n",
       "96          nissan    hatchback         200         3139\n",
       "..             ...          ...         ...          ...\n",
       "59   mercedes-benz        wagon         123         3750\n",
       "61   mercedes-benz        sedan         123         3770\n",
       "101         peugot        wagon          95         3430\n",
       "105         peugot        wagon          95         3485\n",
       "143         toyota        wagon          62         3110\n",
       "\n",
       "[193 rows x 4 columns]"
      ]
     },
     "execution_count": 14,
     "metadata": {},
     "output_type": "execute_result"
    }
   ],
   "source": [
    "idx = X_pca['PC3'].sort_values(ascending = False).index\n",
    "cols = ['make', 'body_style', 'horsepower', 'curb_weight']\n",
    "df.loc[idx, cols]"
   ]
  },
  {
   "cell_type": "markdown",
   "id": "ff395e5a-d2c8-4274-b487-61b76374e72b",
   "metadata": {},
   "source": [
    "- 대조를 보고 싶다면 ratio feature를 만들어보면 된다."
   ]
  },
  {
   "cell_type": "code",
   "execution_count": 19,
   "id": "c8ca66bf-03bb-4cc0-a364-9b340c450325",
   "metadata": {},
   "outputs": [
    {
     "data": {
      "text/plain": [
       "<AxesSubplot:xlabel='sports_or_wagon', ylabel='price'>"
      ]
     },
     "execution_count": 19,
     "metadata": {},
     "output_type": "execute_result"
    },
    {
     "data": {
      "image/png": "[encoded data removed]",
      "text/plain": [
       "<Figure size 432x288 with 1 Axes>"
      ]
     },
     "metadata": {},
     "output_type": "display_data"
    }
   ],
   "source": [
    "df['sports_or_wagon'] = X.curb_weight / X.horsepower\n",
    "sns.regplot(x = 'sports_or_wagon', y = 'price', data = df, order = 2)"
   ]
  },
  {
   "cell_type": "markdown",
   "id": "a1802a69-e45f-44dd-8437-fe6486208302",
   "metadata": {},
   "source": [
    "## 실습 중 유용한 것들"
   ]
  },
  {
   "cell_type": "markdown",
   "id": "81759209-f9c6-4a1a-8603-e3e30ed039d6",
   "metadata": {},
   "source": [
    "**1. 판다스에 이런 것도 있음 - 각 column과 타겟 값의 관계**\n",
    "\n",
    "```python\n",
    "features = [\n",
    "    \"GarageArea\",\n",
    "    \"YearRemodAdd\",\n",
    "    \"TotalBsmtSF\",\n",
    "    \"GrLivArea\",\n",
    "]\n",
    "\n",
    "print(df[features].corrwith(df.SalePrice)) # 이것만 봐\n",
    "```"
   ]
  },
  {
   "cell_type": "markdown",
   "id": "518f1e06-bca8-4b3f-afba-50f38c310e4b",
   "metadata": {},
   "source": [
    "**2. PCA 분석 후 주성분과 Loading과의 관계 보기**\n",
    "- 코드는 위에서 썼던 이걸 가져가면 되겠다\n",
    "```python\n",
    "loading = pd.DataFrame(\n",
    "                        pca.components_.T, # loading 행렬 Transpose\n",
    "                        columns = component_names, # 각 열은 주성분\n",
    "                        index = X.columns # row는 원래 피쳐들\n",
    ")\n",
    "```"
   ]
  },
  {
   "cell_type": "markdown",
   "id": "9016b337-60fd-4d0b-b310-5e7b5f40e8b3",
   "metadata": {},
   "source": [
    "### PCA 분석을 통해 할 것 : 이 질문의 목표는 PCA 결과를 사용하여 모델의 성능을 향상시키는 하나 이상의 새로운 기능을 발견하는 것입니다.\n",
    "\n",
    "- 이게 위의 본문에서도 한 내용인데, 크게 2가지로 나뉨\n",
    "\n",
    "#### 1. MI 스코어를 활용해 새로운 feature를 만듦\n",
    "- MI 스코어에서 좋은 값을 지니는 주성분이 있을 거임\n",
    "- 또한 각 주성분의 구성은 `Loading` 행렬에서 어떤 피쳐가 어떤 가중치로 들어갔는지 볼 수 있음\n",
    "- 이 특성들을 선형결합(`+`나 `*`)을 통해 새로운 feature로 만들어주는 방식임\n",
    "\n",
    "```python\n",
    "X[\"Feature1\"] = X.GrLivArea + X.TotalBsmtSF \n",
    "X[\"Feature2\"] = X.YearRemodAdd * X.TotalBsmtSF \n",
    "```\n",
    "\n",
    "#### 2. `pca.fit_transform()`으로 나온 행렬을 그대로 새로운 특성으로 집어넣어줌\n",
    "\n",
    "```python\n",
    "X = X.join(X_pca)\n",
    "```"
   ]
  },
  {
   "cell_type": "markdown",
   "id": "c444f595-4bf4-4645-b0df-c0cedf95df7d",
   "metadata": {},
   "source": [
    "### 이상치 탐색도 가능하다고 했다"
   ]
  },
  {
   "cell_type": "markdown",
   "id": "883f5400-f3c3-423c-a703-b61a62598e8b",
   "metadata": {},
   "source": [
    "- **각 주성분과 타겟값에 대해 박스플롯을 그렸을 때 나타나는 이상치**들이 있음\n",
    "- 예제에서는 `Partial`이라고 하는, 부동산의 일부 소유권만을 매매하는 것을 설명하긴 했는데 솔직히 직접 봤을 때는 잘 모르겠음"
   ]
  },
  {
   "cell_type": "code",
   "execution_count": null,
   "id": "d9c2cae1-3960-428b-9f8f-166f2a81c57c",
   "metadata": {},
   "outputs": [],
   "source": []
  }
 ],
 "metadata": {
  "kernelspec": {
   "display_name": "Python 3",
   "language": "python",
   "name": "python3"
  },
  "language_info": {
   "codemirror_mode": {
    "name": "ipython",
    "version": 3
   },
   "file_extension": ".py",
   "mimetype": "text/x-python",
   "name": "python",
   "nbconvert_exporter": "python",
   "pygments_lexer": "ipython3",
   "version": "3.8.8"
  }
 },
 "nbformat": 4,
 "nbformat_minor": 5
}
