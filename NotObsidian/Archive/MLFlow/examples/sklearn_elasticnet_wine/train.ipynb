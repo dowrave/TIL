{
 "cells": [
  {
   "cell_type": "markdown",
   "id": "38bbdf14-fd81-49c9-a5ce-22165a88ce00",
   "metadata": {},
   "source": [
    "### 따로따로 실행해보고 마지막에 하나의 함수로 합치는 식으로 하겠음"
   ]
  },
  {
   "cell_type": "code",
   "execution_count": 2,
   "id": "731b74b6-6397-4d7c-a938-1dc100e182d3",
   "metadata": {},
   "outputs": [],
   "source": [
    "import os\n",
    "import warnings\n",
    "import sys\n",
    "\n",
    "import pandas as pd\n",
    "import numpy as np\n",
    "from sklearn.metrics import mean_squared_error, mean_absolute_error, r2_score\n",
    "from sklearn.model_selection import train_test_split\n",
    "from sklearn.linear_model import ElasticNet\n",
    "\n",
    "import mlflow\n",
    "import mlflow.sklearn\n",
    "import logging\n",
    "\n",
    "logging.basicConfig(level = logging.WARN)\n",
    "logger = logging.getLogger(__name__)\n"
   ]
  },
  {
   "cell_type": "code",
   "execution_count": 3,
   "id": "aeb948d6-6d72-4d87-a25b-9b291730accd",
   "metadata": {},
   "outputs": [],
   "source": [
    "def eval_metrics(actual, pred):\n",
    "    rmse = np.sqrt(mean_squared_error(actual, pred))\n",
    "    mae = mean_absolute_error(actual, pred)\n",
    "    r2 = r2_score(actual, pred)\n",
    "    return rmse, mae, r2\n",
    "\n",
    "warnings.filterwarnings('ignore')\n",
    "np.random.seed(40)"
   ]
  },
  {
   "cell_type": "code",
   "execution_count": 7,
   "id": "ce240f51-e31c-486c-a9ad-dbb5fde7a3e4",
   "metadata": {},
   "outputs": [],
   "source": [
    "csv_url = \"http://archive.ics.uci.edu/ml/machine-learning-databases/wine-quality/winequality-red.csv\"\n",
    "try:\n",
    "    data = pd.read_csv(csv_url, sep = ';')\n",
    "except Exception as e:\n",
    "    logger.exception(\n",
    "    \"대충 못 받아왔다는 뜻\")"
   ]
  },
  {
   "cell_type": "code",
   "execution_count": 8,
   "id": "d96b4459-8af6-467d-9988-597a687bc918",
   "metadata": {},
   "outputs": [],
   "source": [
    "train, test = train_test_split(data)\n",
    "\n",
    "train_x = train.drop(['quality'], axis = 1)\n",
    "test_x = test.drop(['quality'], axis = 1)\n",
    "train_y = train[['quality']]\n",
    "test_y = test[['quality']]"
   ]
  },
  {
   "cell_type": "code",
   "execution_count": 13,
   "id": "69365762-2286-4f02-a3af-6045fe0e7de3",
   "metadata": {},
   "outputs": [],
   "source": [
    "# 여긴 인풋 받는 공간임\n",
    "in_alpha = 0.5\n",
    "in_l1_ratio = 0.5\n",
    "\n",
    "if float(in_alpha) is None:\n",
    "    alpha = 0.5\n",
    "else : \n",
    "    alpha = float(in_alpha)\n",
    "    \n",
    "if float(in_l1_ratio) is None:\n",
    "    l1_ratio = 0.5\n",
    "else:\n",
    "    l1_ratio = float(in_l1_ratio)"
   ]
  },
  {
   "cell_type": "code",
   "execution_count": 14,
   "id": "db919590-47bc-49ac-aca4-2b56cfa11f3e",
   "metadata": {},
   "outputs": [
    {
     "name": "stdout",
     "output_type": "stream",
     "text": [
      "Elasticnet model (alpha=0.500000, l1_ratio=0.500000):\n",
      "  RMSE: 0.7931640229276851\n",
      "  MAE: 0.6271946374319586\n",
      "  R2: 0.10862644997792614\n"
     ]
    }
   ],
   "source": [
    "with mlflow.start_run():\n",
    "    lr = ElasticNet(alpha = alpha, l1_ratio = l1_ratio, random_state = 42)\n",
    "    lr.fit(train_x, train_y)\n",
    "    \n",
    "    predicted_qualities = lr.predict(test_x)\n",
    "    (rmse, mae, r2) = eval_metrics(test_y, predicted_qualities)\n",
    "    \n",
    "    # Print out metrics\n",
    "    print(\"Elasticnet model (alpha=%f, l1_ratio=%f):\" % (alpha, l1_ratio))\n",
    "    print(\"  RMSE: %s\" % rmse)\n",
    "    print(\"  MAE: %s\" % mae)\n",
    "    print(\"  R2: %s\" % r2)\n",
    "\n",
    "    # mlflow에 파라미터와 수치 값을 기록 - 이 과정이 좀 걸림\n",
    "    mlflow.log_param(\"alpha\", alpha)\n",
    "    mlflow.log_param(\"l1_ratio\", l1_ratio)\n",
    "    mlflow.log_metric(\"rmse\", rmse)\n",
    "    mlflow.log_metric(\"r2\", r2)\n",
    "    mlflow.log_metric(\"mae\", mae)\n",
    "\n",
    "    # mlflow에 모델 기록\n",
    "    mlflow.sklearn.log_model(lr, \"model\")"
   ]
  },
  {
   "cell_type": "code",
   "execution_count": 16,
   "id": "bff65d61-0ab1-42a0-ad0c-37fc6baf3482",
   "metadata": {},
   "outputs": [
    {
     "name": "stdout",
     "output_type": "stream",
     "text": [
      "Elasticnet model (alpha=0.100000, l1_ratio=0.100000):\n",
      "  RMSE: 0.7128829045893679\n",
      "  MAE: 0.5462202174984664\n",
      "  R2: 0.2799376066653344\n"
     ]
    }
   ],
   "source": [
    "# 위의 함수 내용 통합\n",
    "def train(in_alpha, in_l1_ratio):\n",
    "    import os\n",
    "    import warnings\n",
    "    import sys\n",
    "\n",
    "    import pandas as pd\n",
    "    import numpy as np\n",
    "    from sklearn.metrics import mean_squared_error, mean_absolute_error, r2_score\n",
    "    from sklearn.model_selection import train_test_split\n",
    "    from sklearn.linear_model import ElasticNet\n",
    "\n",
    "    import mlflow\n",
    "    import mlflow.sklearn\n",
    "\n",
    "    import logging\n",
    "\n",
    "    logging.basicConfig(level=logging.WARN)\n",
    "    logger = logging.getLogger(__name__)\n",
    "\n",
    "    def eval_metrics(actual, pred):\n",
    "        rmse = np.sqrt(mean_squared_error(actual, pred))\n",
    "        mae = mean_absolute_error(actual, pred)\n",
    "        r2 = r2_score(actual, pred)\n",
    "        return rmse, mae, r2\n",
    "\n",
    "    warnings.filterwarnings(\"ignore\")\n",
    "    np.random.seed(40)\n",
    "\n",
    "    # Read the wine-quality csv file from the URL\n",
    "    csv_url = (\n",
    "        \"http://archive.ics.uci.edu/ml/machine-learning-databases/wine-quality/winequality-red.csv\"\n",
    "    )\n",
    "    try:\n",
    "        data = pd.read_csv(csv_url, sep=\";\")\n",
    "    except Exception as e:\n",
    "        logger.exception(\n",
    "            \"Unable to download training & test CSV, check your internet connection. Error: %s\", e\n",
    "        )\n",
    "\n",
    "    # Split the data into training and test sets. (0.75, 0.25) split.\n",
    "    train, test = train_test_split(data)\n",
    "\n",
    "    # The predicted column is \"quality\" which is a scalar from [3, 9]\n",
    "    train_x = train.drop([\"quality\"], axis=1)\n",
    "    test_x = test.drop([\"quality\"], axis=1)\n",
    "    train_y = train[[\"quality\"]]\n",
    "    test_y = test[[\"quality\"]]\n",
    "\n",
    "    # Set default values if no alpha is provided\n",
    "    if float(in_alpha) is None:\n",
    "        alpha = 0.5\n",
    "    else:\n",
    "        alpha = float(in_alpha)\n",
    "\n",
    "    # Set default values if no l1_ratio is provided\n",
    "    if float(in_l1_ratio) is None:\n",
    "        l1_ratio = 0.5\n",
    "    else:\n",
    "        l1_ratio = float(in_l1_ratio)\n",
    "\n",
    "    # Useful for multiple runs (only doing one run in this sample notebook)\n",
    "    with mlflow.start_run():\n",
    "        # Execute ElasticNet\n",
    "        lr = ElasticNet(alpha=alpha, l1_ratio=l1_ratio, random_state=42)\n",
    "        lr.fit(train_x, train_y)\n",
    "\n",
    "        # Evaluate Metrics\n",
    "        predicted_qualities = lr.predict(test_x)\n",
    "        (rmse, mae, r2) = eval_metrics(test_y, predicted_qualities)\n",
    "\n",
    "        # Print out metrics\n",
    "        print(\"Elasticnet model (alpha=%f, l1_ratio=%f):\" % (alpha, l1_ratio))\n",
    "        print(\"  RMSE: %s\" % rmse)\n",
    "        print(\"  MAE: %s\" % mae)\n",
    "        print(\"  R2: %s\" % r2)\n",
    "\n",
    "        # Log parameter, metrics, and model to MLflow\n",
    "        mlflow.log_param(\"alpha\", alpha)\n",
    "        mlflow.log_param(\"l1_ratio\", l1_ratio)\n",
    "        mlflow.log_metric(\"rmse\", rmse)\n",
    "        mlflow.log_metric(\"r2\", r2)\n",
    "        mlflow.log_metric(\"mae\", mae)\n",
    "\n",
    "        mlflow.sklearn.log_model(lr, \"model\")\n",
    "\n",
    "train(0.1, 0.1)"
   ]
  },
  {
   "cell_type": "markdown",
   "id": "fd091938-18d5-4e37-8d7c-98b5bf1d23cc",
   "metadata": {},
   "source": [
    "### 튜토리얼은 train.py를 따라간다\n",
    "\n",
    "`train.py`는 다르게 작성해야 하므로(`if __name__ == \"__main__\":` 구문이 들어가기 때문에) 약간 다르게 작성해야 함"
   ]
  },
  {
   "cell_type": "markdown",
   "id": "f3aea61f-d9e2-4cbb-b7c5-9bc3e53d7e96",
   "metadata": {},
   "source": [
    "`python train.py`로 실행하면 되는데, `pyhton train.py <alpha> <l1_ratio>`로도 실행할 수 있음.  \n",
    "- 후자가 가능한 이유는 `train.py` 내부에 `sys.argv[1]`, `sys.argv[2]` 어쩌구가 명시되어 있기 때문으로, `sys.argv[0]`은 해당 파일의 이름 이고 1번째 argument부터는 위처럼 함수 내부에 넣어줄 수 있음(물론 그 인자를 처리하는 내용이 들어가야겠죠?)"
   ]
  },
  {
   "cell_type": "code",
   "execution_count": 17,
   "id": "94e3ff3b-1e8c-449d-8c16-786514c1fff4",
   "metadata": {},
   "outputs": [
    {
     "name": "stdout",
     "output_type": "stream",
     "text": [
      "Elasticnet model (alpha=0.500000, l1_ratio=0.500000):\n",
      "  RMSE: 0.7931640229276851\n",
      "  MAE: 0.6271946374319586\n",
      "  R2: 0.10862644997792614\n"
     ]
    }
   ],
   "source": [
    "!python train.py"
   ]
  },
  {
   "cell_type": "code",
   "execution_count": 18,
   "id": "4f740747-a981-4bfe-a345-0ce445a480bc",
   "metadata": {},
   "outputs": [
    {
     "name": "stdout",
     "output_type": "stream",
     "text": [
      "Elasticnet model (alpha=0.200000, l1_ratio=0.200000):\n",
      "  RMSE: 0.7336400911821402\n",
      "  MAE: 0.5643841279275428\n",
      "  R2: 0.23739466063584158\n"
     ]
    }
   ],
   "source": [
    "!python train.py 0.2 0.2"
   ]
  },
  {
   "cell_type": "markdown",
   "id": "d0d7ed44-956c-4dd1-887b-5bad0966820d",
   "metadata": {},
   "source": [
    "## 모델 비교하기"
   ]
  },
  {
   "cell_type": "code",
   "execution_count": 19,
   "id": "a78ec068-1aad-41e3-a4d5-70ed4056d2b1",
   "metadata": {},
   "outputs": [
    {
     "name": "stdout",
     "output_type": "stream",
     "text": [
      "^C\n"
     ]
    }
   ],
   "source": [
    "!mlflow ui # http://localhost:5000 에서 볼 수 있다"
   ]
  },
  {
   "cell_type": "markdown",
   "id": "06988cf0-64f1-4147-8244-ad735628c9b5",
   "metadata": {},
   "source": [
    "- 마우스로 정렬을 제어할 수 있고, 검색어에 `metrics.rmse < 0.8` 같은 조건을 넣어서 검색할 수도 있다.\n",
    "- 더 정교한 조작을 위해, 이 모델들의 결과 자체를 csv 파일로 다운받을 수도 있다."
   ]
  },
  {
   "cell_type": "markdown",
   "id": "302ab5ca-43fc-427f-a7c2-add62d127172",
   "metadata": {},
   "source": [
    "## Conda 환경에 훈련 코드 패키징하기"
   ]
  },
  {
   "cell_type": "markdown",
   "id": "c6ff955e-5909-4645-a5d8-6a435d91e423",
   "metadata": {},
   "source": [
    "훈련 코드를 패키지해서 다른 사람이나 환경에서 쉽게 재사용할 수 있게 할 수 있다.  \n",
    "`MLflow Projects`를 이용해 의존성과 엔트리 포인트를 지정할 수 있다.\n",
    "- 예제의 MLProject 파일은 이렇다\n",
    "- `MLproject` (확장자명이 따로 없음)\n",
    "```yaml\n",
    "name: tutorial\n",
    "\n",
    "python_env: python_env.yaml\n",
    "\n",
    "entry_points:\n",
    "  main:\n",
    "    parameters:\n",
    "      alpha: {type: float, default: 0.5}\n",
    "      l1_ratio: {type: float, default: 0.1}\n",
    "    command: \"python train.py {alpha} {l1_ratio}\"\n",
    "```\n",
    "\n",
    "- `entry_points` : 프로젝트 내에서 실행할 수 있는 명령과 매개변수에 관한 정보로, 대부분의 프로젝트에서 `entry_points`는 1개 이상 포함되어 있다.\n",
    "    - 프로젝트의 `.py` 또는 `.sh` 파일을 엔트리 포인트로 호출할 수 있다.\n",
    "    - `MLProject` 파일에 진입점을 나열한다면 데이터 유형, 기본값을 포함한 매개변수(`parameter`)를 지정할 수도 있다.\n",
    "    \n",
    "- `environment` : `entry_points`를 실행하는 데 필요한 소프트웨어 환경으로, 모든 라이브러리 종속성이 포함된다.\n",
    "     - `Conda` 환경, `venv` 환경, `Docker` 컨테이너 등이 사용 가능함\n",
    " \n",
    " - `$ mlflow run`이나 `mlflow.projects.run()`을 사용한 깃 URL이나 로컬 디렉토리에서 어떤 프로젝트든 사용 가능하다.\n",
    "     - 일반적으로 Git 프로젝트에 대해 새로운 임시 작업 디렉토리를 사용하기 때문에 모든 파일 인자는 **절대 경로**로 전달되어야 한다."
   ]
  },
  {
   "cell_type": "markdown",
   "id": "0c10e091-1e1f-4773-beb9-f9739e754565",
   "metadata": {},
   "source": [
    "예제에서는 `conda.yaml`와 `python_env.yaml`을 지정했는데, 각각의 내용은\n",
    "- `conda.yaml`\n",
    "```yaml\n",
    "name: tutorial\n",
    "channels:\n",
    "  - conda-forge\n",
    "dependencies:\n",
    "  - python=3.8\n",
    "  - pip\n",
    "  - pip:\n",
    "      - scikit-learn==0.23.2\n",
    "      - mlflow>=1.0\n",
    "      - pandas\n",
    "```\n",
    "- `python_env.yaml`\n",
    "```yaml\n",
    "python: \"3.8\"\n",
    "build_dependencies:\n",
    "  - pip\n",
    "dependencies:\n",
    "  - scikit-learn==0.23.2\n",
    "  - mlflow>=1.0\n",
    "  - pandas\n",
    "```\n",
    "\n",
    "- 실제로는 MLproject에서 python_env만 지정했기 때문에 conda는 없어도 될 것 같음\n",
    "- 중요한 건 `yaml`을 어떻게 작성하느냐일 것 같음 : 전부 자동으로 작성하면 이 파일이 너무 복잡해짐"
   ]
  },
  {
   "cell_type": "markdown",
   "id": "58618014-9e87-402c-a16a-20589c256097",
   "metadata": {},
   "source": [
    "- 이렇게 명시해둔 프로젝트를 실행해본다\n",
    "- 튜토리얼에서 `mlflow run sklearn.elasticnet_wine -P alpha=0.42`라고 되어있는 걸 봐선 경로 하나를 올라가서 실행시켜봐야겠음"
   ]
  },
  {
   "cell_type": "code",
   "execution_count": 26,
   "id": "37fea8de-64fc-4eb4-ab60-0206cd1153a3",
   "metadata": {
    "collapsed": true,
    "jupyter": {
     "outputs_hidden": true
    },
    "tags": []
   },
   "outputs": [
    {
     "name": "stderr",
     "output_type": "stream",
     "text": [
      "Traceback (most recent call last):\n",
      "  File \"C:\\Users\\dowra\\anaconda3\\lib\\runpy.py\", line 197, in _run_module_as_main\n",
      "    return _run_code(code, main_globals, None,\n",
      "  File \"C:\\Users\\dowra\\anaconda3\\lib\\runpy.py\", line 87, in _run_code\n",
      "    exec(code, run_globals)\n",
      "  File \"C:\\Users\\dowra\\anaconda3\\Scripts\\mlflow.exe\\__main__.py\", line 7, in <module>\n",
      "  File \"C:\\Users\\dowra\\anaconda3\\lib\\site-packages\\click\\core.py\", line 1128, in __call__\n",
      "    return self.main(*args, **kwargs)\n",
      "  File \"C:\\Users\\dowra\\anaconda3\\lib\\site-packages\\click\\core.py\", line 1053, in main\n",
      "    rv = self.invoke(ctx)\n",
      "  File \"C:\\Users\\dowra\\anaconda3\\lib\\site-packages\\click\\core.py\", line 1659, in invoke\n",
      "    return _process_result(sub_ctx.command.invoke(sub_ctx))\n",
      "  File \"C:\\Users\\dowra\\anaconda3\\lib\\site-packages\\click\\core.py\", line 1395, in invoke\n",
      "    return ctx.invoke(self.callback, **ctx.params)\n",
      "  File \"C:\\Users\\dowra\\anaconda3\\lib\\site-packages\\click\\core.py\", line 754, in invoke\n",
      "    return __callback(*args, **kwargs)\n",
      "  File \"C:\\Users\\dowra\\anaconda3\\lib\\site-packages\\mlflow\\cli.py\", line 201, in run\n",
      "    projects.run(\n",
      "  File \"C:\\Users\\dowra\\anaconda3\\lib\\site-packages\\mlflow\\projects\\__init__.py\", line 329, in run\n",
      "    submitted_run_obj = _run(\n",
      "  File \"C:\\Users\\dowra\\anaconda3\\lib\\site-packages\\mlflow\\projects\\__init__.py\", line 102, in _run\n",
      "    submitted_run = backend.run(\n",
      "  File \"C:\\Users\\dowra\\anaconda3\\lib\\site-packages\\mlflow\\projects\\backend\\local.py\", line 77, in run\n",
      "    work_dir = fetch_and_validate_project(project_uri, version, entry_point, params)\n",
      "  File \"C:\\Users\\dowra\\anaconda3\\lib\\site-packages\\mlflow\\projects\\utils.py\", line 137, in fetch_and_validate_project\n",
      "    work_dir = _fetch_project(uri=uri, version=version)\n",
      "  File \"C:\\Users\\dowra\\anaconda3\\lib\\site-packages\\mlflow\\projects\\utils.py\", line 152, in _fetch_project\n",
      "    use_temp_dst_dir = _is_zip_uri(parsed_uri) or not _is_local_uri(parsed_uri)\n",
      "  File \"C:\\Users\\dowra\\anaconda3\\lib\\site-packages\\mlflow\\projects\\utils.py\", line 109, in _is_local_uri\n",
      "    resolved_uri = pathlib.Path(_parse_file_uri(uri)).resolve()\n",
      "  File \"C:\\Users\\dowra\\anaconda3\\lib\\pathlib.py\", line 1215, in resolve\n",
      "    s = self._flavour.resolve(self, strict=strict)\n",
      "  File \"C:\\Users\\dowra\\anaconda3\\lib\\pathlib.py\", line 215, in resolve\n",
      "    s = self._ext_to_normal(_getfinalpathname(s))\n",
      "OSError: [WinError 123] 파일 이름, 디렉터리 이름 또는 볼륨 레이블 구문이 잘못되었습니다: 'https:\\\\github.com\\\\mlflow\\\\mlflow-example.git'\n"
     ]
    }
   ],
   "source": [
    "# 이 명령어는 깃에 접속하는 명령어 같단 말임?\n",
    "# !mlflow run sklearn_elasticnet_wine -P alpha=0.42 # 얘는 접근이 안된다며 실행 못함\n",
    "\n",
    "# `MLproject` 파일이 root에 있다면 깃허브에서 직접 가져와서 실행할 수 있다고 함\n",
    "!mlflow run https://github.com/mlflow/mlflow-example.git -P alpha=5.0"
   ]
  },
  {
   "cell_type": "markdown",
   "id": "c19adebd-ce9b-48be-86b5-98f6fcb2e4ae",
   "metadata": {},
   "source": [
    "## pip requirements 명시하기 : `pip_requirements`, `extra_pip_requirements`\n",
    "- 이거 실행은 못함! 어떻게 돌아가는지 파악하는 용도로 볼 것"
   ]
  },
  {
   "cell_type": "code",
   "execution_count": 29,
   "id": "ef226ddb-e32e-4687-87dd-0c95ef005440",
   "metadata": {
    "collapsed": true,
    "jupyter": {
     "outputs_hidden": true
    },
    "tags": []
   },
   "outputs": [
    {
     "ename": "PermissionError",
     "evalue": "[Errno 13] Permission denied: 'C:\\\\Users\\\\dowra\\\\AppData\\\\Local\\\\Temp\\\\tmp8xh4ac1t.requirements.txt'",
     "output_type": "error",
     "traceback": [
      "\u001b[1;31m---------------------------------------------------------------------------\u001b[0m",
      "\u001b[1;31mPermissionError\u001b[0m                           Traceback (most recent call last)",
      "\u001b[1;32m~\\AppData\\Local\\Temp/ipykernel_10992/3157111977.py\u001b[0m in \u001b[0;36m<module>\u001b[1;34m\u001b[0m\n\u001b[0;32m     95\u001b[0m \u001b[1;33m\u001b[0m\u001b[0m\n\u001b[0;32m     96\u001b[0m \u001b[1;32mif\u001b[0m \u001b[0m__name__\u001b[0m \u001b[1;33m==\u001b[0m \u001b[1;34m\"__main__\"\u001b[0m\u001b[1;33m:\u001b[0m\u001b[1;33m\u001b[0m\u001b[1;33m\u001b[0m\u001b[0m\n\u001b[1;32m---> 97\u001b[1;33m     \u001b[0mmain\u001b[0m\u001b[1;33m(\u001b[0m\u001b[1;33m)\u001b[0m\u001b[1;33m\u001b[0m\u001b[1;33m\u001b[0m\u001b[0m\n\u001b[0m",
      "\u001b[1;32m~\\AppData\\Local\\Temp/ipykernel_10992/3157111977.py\u001b[0m in \u001b[0;36mmain\u001b[1;34m()\u001b[0m\n\u001b[0;32m     66\u001b[0m             \u001b[1;31m# Path to a pip requirements file\u001b[0m\u001b[1;33m\u001b[0m\u001b[1;33m\u001b[0m\u001b[0m\n\u001b[0;32m     67\u001b[0m             \u001b[0martifact_path\u001b[0m \u001b[1;33m=\u001b[0m \u001b[1;34m\"requirements_file_path\"\u001b[0m\u001b[1;33m\u001b[0m\u001b[1;33m\u001b[0m\u001b[0m\n\u001b[1;32m---> 68\u001b[1;33m             \u001b[0mmlflow\u001b[0m\u001b[1;33m.\u001b[0m\u001b[0mxgboost\u001b[0m\u001b[1;33m.\u001b[0m\u001b[0mlog_model\u001b[0m\u001b[1;33m(\u001b[0m\u001b[0mmodel\u001b[0m\u001b[1;33m,\u001b[0m \u001b[0martifact_path\u001b[0m\u001b[1;33m,\u001b[0m \u001b[0mpip_requirements\u001b[0m\u001b[1;33m=\u001b[0m\u001b[0mf\u001b[0m\u001b[1;33m.\u001b[0m\u001b[0mname\u001b[0m\u001b[1;33m)\u001b[0m\u001b[1;33m\u001b[0m\u001b[1;33m\u001b[0m\u001b[0m\n\u001b[0m\u001b[0;32m     69\u001b[0m             \u001b[0mpip_reqs\u001b[0m \u001b[1;33m=\u001b[0m \u001b[0mget_pip_requirements\u001b[0m\u001b[1;33m(\u001b[0m\u001b[0mrun_id\u001b[0m\u001b[1;33m,\u001b[0m \u001b[0martifact_path\u001b[0m\u001b[1;33m)\u001b[0m\u001b[1;33m\u001b[0m\u001b[1;33m\u001b[0m\u001b[0m\n\u001b[0;32m     70\u001b[0m             \u001b[1;32massert\u001b[0m \u001b[0mpip_reqs\u001b[0m \u001b[1;33m==\u001b[0m \u001b[1;33m{\u001b[0m\u001b[1;34m\"mlflow\"\u001b[0m\u001b[1;33m,\u001b[0m \u001b[0msklearn_req\u001b[0m\u001b[1;33m}\u001b[0m\u001b[1;33m,\u001b[0m \u001b[0mpip_reqs\u001b[0m\u001b[1;33m\u001b[0m\u001b[1;33m\u001b[0m\u001b[0m\n",
      "\u001b[1;32m~\\anaconda3\\lib\\site-packages\\mlflow\\xgboost\\__init__.py\u001b[0m in \u001b[0;36mlog_model\u001b[1;34m(xgb_model, artifact_path, conda_env, code_paths, registered_model_name, signature, input_example, await_registration_for, pip_requirements, extra_pip_requirements, model_format, **kwargs)\u001b[0m\n\u001b[0;32m    269\u001b[0m              \u001b[0mmetadata\u001b[0m \u001b[0mof\u001b[0m \u001b[0mthe\u001b[0m \u001b[0mlogged\u001b[0m \u001b[0mmodel\u001b[0m\u001b[1;33m.\u001b[0m\u001b[1;33m\u001b[0m\u001b[1;33m\u001b[0m\u001b[0m\n\u001b[0;32m    270\u001b[0m     \"\"\"\n\u001b[1;32m--> 271\u001b[1;33m     return Model.log(\n\u001b[0m\u001b[0;32m    272\u001b[0m         \u001b[0martifact_path\u001b[0m\u001b[1;33m=\u001b[0m\u001b[0martifact_path\u001b[0m\u001b[1;33m,\u001b[0m\u001b[1;33m\u001b[0m\u001b[1;33m\u001b[0m\u001b[0m\n\u001b[0;32m    273\u001b[0m         \u001b[0mflavor\u001b[0m\u001b[1;33m=\u001b[0m\u001b[0mmlflow\u001b[0m\u001b[1;33m.\u001b[0m\u001b[0mxgboost\u001b[0m\u001b[1;33m,\u001b[0m\u001b[1;33m\u001b[0m\u001b[1;33m\u001b[0m\u001b[0m\n",
      "\u001b[1;32m~\\anaconda3\\lib\\site-packages\\mlflow\\models\\model.py\u001b[0m in \u001b[0;36mlog\u001b[1;34m(cls, artifact_path, flavor, registered_model_name, await_registration_for, **kwargs)\u001b[0m\n\u001b[0;32m    371\u001b[0m             \u001b[0mrun_id\u001b[0m \u001b[1;33m=\u001b[0m \u001b[0mmlflow\u001b[0m\u001b[1;33m.\u001b[0m\u001b[0mtracking\u001b[0m\u001b[1;33m.\u001b[0m\u001b[0mfluent\u001b[0m\u001b[1;33m.\u001b[0m\u001b[0m_get_or_start_run\u001b[0m\u001b[1;33m(\u001b[0m\u001b[1;33m)\u001b[0m\u001b[1;33m.\u001b[0m\u001b[0minfo\u001b[0m\u001b[1;33m.\u001b[0m\u001b[0mrun_id\u001b[0m\u001b[1;33m\u001b[0m\u001b[1;33m\u001b[0m\u001b[0m\n\u001b[0;32m    372\u001b[0m             \u001b[0mmlflow_model\u001b[0m \u001b[1;33m=\u001b[0m \u001b[0mcls\u001b[0m\u001b[1;33m(\u001b[0m\u001b[0martifact_path\u001b[0m\u001b[1;33m=\u001b[0m\u001b[0martifact_path\u001b[0m\u001b[1;33m,\u001b[0m \u001b[0mrun_id\u001b[0m\u001b[1;33m=\u001b[0m\u001b[0mrun_id\u001b[0m\u001b[1;33m)\u001b[0m\u001b[1;33m\u001b[0m\u001b[1;33m\u001b[0m\u001b[0m\n\u001b[1;32m--> 373\u001b[1;33m             \u001b[0mflavor\u001b[0m\u001b[1;33m.\u001b[0m\u001b[0msave_model\u001b[0m\u001b[1;33m(\u001b[0m\u001b[0mpath\u001b[0m\u001b[1;33m=\u001b[0m\u001b[0mlocal_path\u001b[0m\u001b[1;33m,\u001b[0m \u001b[0mmlflow_model\u001b[0m\u001b[1;33m=\u001b[0m\u001b[0mmlflow_model\u001b[0m\u001b[1;33m,\u001b[0m \u001b[1;33m**\u001b[0m\u001b[0mkwargs\u001b[0m\u001b[1;33m)\u001b[0m\u001b[1;33m\u001b[0m\u001b[1;33m\u001b[0m\u001b[0m\n\u001b[0m\u001b[0;32m    374\u001b[0m             \u001b[0mmlflow\u001b[0m\u001b[1;33m.\u001b[0m\u001b[0mtracking\u001b[0m\u001b[1;33m.\u001b[0m\u001b[0mfluent\u001b[0m\u001b[1;33m.\u001b[0m\u001b[0mlog_artifacts\u001b[0m\u001b[1;33m(\u001b[0m\u001b[0mlocal_path\u001b[0m\u001b[1;33m,\u001b[0m \u001b[0mmlflow_model\u001b[0m\u001b[1;33m.\u001b[0m\u001b[0martifact_path\u001b[0m\u001b[1;33m)\u001b[0m\u001b[1;33m\u001b[0m\u001b[1;33m\u001b[0m\u001b[0m\n\u001b[0;32m    375\u001b[0m             \u001b[1;32mtry\u001b[0m\u001b[1;33m:\u001b[0m\u001b[1;33m\u001b[0m\u001b[1;33m\u001b[0m\u001b[0m\n",
      "\u001b[1;32m~\\anaconda3\\lib\\site-packages\\mlflow\\xgboost\\__init__.py\u001b[0m in \u001b[0;36msave_model\u001b[1;34m(xgb_model, path, conda_env, code_paths, mlflow_model, signature, input_example, pip_requirements, extra_pip_requirements, model_format)\u001b[0m\n\u001b[0;32m    191\u001b[0m         \u001b[1;32melse\u001b[0m\u001b[1;33m:\u001b[0m\u001b[1;33m\u001b[0m\u001b[1;33m\u001b[0m\u001b[0m\n\u001b[0;32m    192\u001b[0m             \u001b[0mdefault_reqs\u001b[0m \u001b[1;33m=\u001b[0m \u001b[1;32mNone\u001b[0m\u001b[1;33m\u001b[0m\u001b[1;33m\u001b[0m\u001b[0m\n\u001b[1;32m--> 193\u001b[1;33m         conda_env, pip_requirements, pip_constraints = _process_pip_requirements(\n\u001b[0m\u001b[0;32m    194\u001b[0m             \u001b[0mdefault_reqs\u001b[0m\u001b[1;33m,\u001b[0m\u001b[1;33m\u001b[0m\u001b[1;33m\u001b[0m\u001b[0m\n\u001b[0;32m    195\u001b[0m             \u001b[0mpip_requirements\u001b[0m\u001b[1;33m,\u001b[0m\u001b[1;33m\u001b[0m\u001b[1;33m\u001b[0m\u001b[0m\n",
      "\u001b[1;32m~\\anaconda3\\lib\\site-packages\\mlflow\\utils\\environment.py\u001b[0m in \u001b[0;36m_process_pip_requirements\u001b[1;34m(default_pip_requirements, pip_requirements, extra_pip_requirements)\u001b[0m\n\u001b[0;32m    466\u001b[0m     \u001b[0mconstraints\u001b[0m \u001b[1;33m=\u001b[0m \u001b[1;33m[\u001b[0m\u001b[1;33m]\u001b[0m\u001b[1;33m\u001b[0m\u001b[1;33m\u001b[0m\u001b[0m\n\u001b[0;32m    467\u001b[0m     \u001b[1;32mif\u001b[0m \u001b[0mpip_requirements\u001b[0m \u001b[1;32mis\u001b[0m \u001b[1;32mnot\u001b[0m \u001b[1;32mNone\u001b[0m\u001b[1;33m:\u001b[0m\u001b[1;33m\u001b[0m\u001b[1;33m\u001b[0m\u001b[0m\n\u001b[1;32m--> 468\u001b[1;33m         \u001b[0mpip_reqs\u001b[0m\u001b[1;33m,\u001b[0m \u001b[0mconstraints\u001b[0m \u001b[1;33m=\u001b[0m \u001b[0m_parse_pip_requirements\u001b[0m\u001b[1;33m(\u001b[0m\u001b[0mpip_requirements\u001b[0m\u001b[1;33m)\u001b[0m\u001b[1;33m\u001b[0m\u001b[1;33m\u001b[0m\u001b[0m\n\u001b[0m\u001b[0;32m    469\u001b[0m     \u001b[1;32melif\u001b[0m \u001b[0mextra_pip_requirements\u001b[0m \u001b[1;32mis\u001b[0m \u001b[1;32mnot\u001b[0m \u001b[1;32mNone\u001b[0m\u001b[1;33m:\u001b[0m\u001b[1;33m\u001b[0m\u001b[1;33m\u001b[0m\u001b[0m\n\u001b[0;32m    470\u001b[0m         \u001b[0mextra_pip_requirements\u001b[0m\u001b[1;33m,\u001b[0m \u001b[0mconstraints\u001b[0m \u001b[1;33m=\u001b[0m \u001b[0m_parse_pip_requirements\u001b[0m\u001b[1;33m(\u001b[0m\u001b[0mextra_pip_requirements\u001b[0m\u001b[1;33m)\u001b[0m\u001b[1;33m\u001b[0m\u001b[1;33m\u001b[0m\u001b[0m\n",
      "\u001b[1;32m~\\anaconda3\\lib\\site-packages\\mlflow\\utils\\environment.py\u001b[0m in \u001b[0;36m_parse_pip_requirements\u001b[1;34m(pip_requirements)\u001b[0m\n\u001b[0;32m    348\u001b[0m \u001b[1;33m\u001b[0m\u001b[0m\n\u001b[0;32m    349\u001b[0m     \u001b[1;32mif\u001b[0m \u001b[0m_is_string\u001b[0m\u001b[1;33m(\u001b[0m\u001b[0mpip_requirements\u001b[0m\u001b[1;33m)\u001b[0m\u001b[1;33m:\u001b[0m\u001b[1;33m\u001b[0m\u001b[1;33m\u001b[0m\u001b[0m\n\u001b[1;32m--> 350\u001b[1;33m         \u001b[1;32mwith\u001b[0m \u001b[0mopen\u001b[0m\u001b[1;33m(\u001b[0m\u001b[0mpip_requirements\u001b[0m\u001b[1;33m)\u001b[0m \u001b[1;32mas\u001b[0m \u001b[0mf\u001b[0m\u001b[1;33m:\u001b[0m\u001b[1;33m\u001b[0m\u001b[1;33m\u001b[0m\u001b[0m\n\u001b[0m\u001b[0;32m    351\u001b[0m             \u001b[1;32mreturn\u001b[0m \u001b[0m_parse_pip_requirements\u001b[0m\u001b[1;33m(\u001b[0m\u001b[0mf\u001b[0m\u001b[1;33m.\u001b[0m\u001b[0mread\u001b[0m\u001b[1;33m(\u001b[0m\u001b[1;33m)\u001b[0m\u001b[1;33m.\u001b[0m\u001b[0msplitlines\u001b[0m\u001b[1;33m(\u001b[0m\u001b[1;33m)\u001b[0m\u001b[1;33m)\u001b[0m\u001b[1;33m\u001b[0m\u001b[1;33m\u001b[0m\u001b[0m\n\u001b[0;32m    352\u001b[0m     \u001b[1;32melif\u001b[0m \u001b[0m_is_iterable\u001b[0m\u001b[1;33m(\u001b[0m\u001b[0mpip_requirements\u001b[0m\u001b[1;33m)\u001b[0m \u001b[1;32mand\u001b[0m \u001b[0mall\u001b[0m\u001b[1;33m(\u001b[0m\u001b[0mmap\u001b[0m\u001b[1;33m(\u001b[0m\u001b[0m_is_string\u001b[0m\u001b[1;33m,\u001b[0m \u001b[0mpip_requirements\u001b[0m\u001b[1;33m)\u001b[0m\u001b[1;33m)\u001b[0m\u001b[1;33m:\u001b[0m\u001b[1;33m\u001b[0m\u001b[1;33m\u001b[0m\u001b[0m\n",
      "\u001b[1;31mPermissionError\u001b[0m: [Errno 13] Permission denied: 'C:\\\\Users\\\\dowra\\\\AppData\\\\Local\\\\Temp\\\\tmp8xh4ac1t.requirements.txt'"
     ]
    }
   ],
   "source": [
    "import tempfile\n",
    "\n",
    "import sklearn\n",
    "from sklearn.datasets import load_iris\n",
    "import xgboost as xgb\n",
    "import mlflow\n",
    "from mlflow.tracking import MlflowClient\n",
    "from mlflow.artifacts import download_artifacts\n",
    "\n",
    "\n",
    "def read_lines(path):\n",
    "    with open(path) as f:\n",
    "        return f.read().splitlines()\n",
    "\n",
    "\n",
    "def get_pip_requirements(run_id, artifact_path, return_constraints=False):\n",
    "    client = MlflowClient()\n",
    "    req_path = download_artifacts(run_id=run_id, artifact_path=f\"{artifact_path}/requirements.txt\")\n",
    "    reqs = read_lines(req_path)\n",
    "\n",
    "    if return_constraints:\n",
    "        con_path = download_artifacts(\n",
    "            run_id=run_id, artifact_path=f\"{artifact_path}/constraints.txt\"\n",
    "        )\n",
    "        cons = read_lines(con_path)\n",
    "        return set(reqs), set(cons)\n",
    "\n",
    "    return set(reqs)\n",
    "\n",
    "\n",
    "def main():\n",
    "    iris = load_iris()\n",
    "    dtrain = xgb.DMatrix(iris.data, iris.target)\n",
    "    model = xgb.train({}, dtrain)\n",
    "\n",
    "    xgb_req = f\"xgboost=={xgb.__version__}\"\n",
    "    sklearn_req = f\"scikit-learn=={sklearn.__version__}\"\n",
    "\n",
    "    with mlflow.start_run() as run:\n",
    "        run_id = run.info.run_id\n",
    "\n",
    "        # Default (both `pip_requirements` and `extra_pip_requirements` are unspecified)\n",
    "        artifact_path = \"default\"\n",
    "        mlflow.xgboost.log_model(model, artifact_path)\n",
    "        pip_reqs = get_pip_requirements(run_id, artifact_path)\n",
    "        assert pip_reqs.issuperset([\"mlflow\", xgb_req]), pip_reqs\n",
    "\n",
    "        # Overwrite the default set of pip requirements using `pip_requirements`\n",
    "        artifact_path = \"pip_requirements\"\n",
    "        mlflow.xgboost.log_model(model, artifact_path, pip_requirements=[sklearn_req])\n",
    "        pip_reqs = get_pip_requirements(run_id, artifact_path)\n",
    "        assert pip_reqs == {\"mlflow\", sklearn_req}, pip_reqs\n",
    "\n",
    "        # Add extra pip requirements on top of the default set of pip requirements\n",
    "        # using `extra_pip_requirements`\n",
    "        artifact_path = \"extra_pip_requirements\"\n",
    "        mlflow.xgboost.log_model(model, artifact_path, extra_pip_requirements=[sklearn_req])\n",
    "        pip_reqs = get_pip_requirements(run_id, artifact_path)\n",
    "        assert pip_reqs.issuperset([\"mlflow\", xgb_req, sklearn_req]), pip_reqs\n",
    "\n",
    "        # Specify pip requirements using a requirements file\n",
    "        with tempfile.NamedTemporaryFile(\"w\", suffix=\".requirements.txt\") as f:\n",
    "            f.write(sklearn_req)\n",
    "            f.flush()\n",
    "\n",
    "            # Path to a pip requirements file\n",
    "            artifact_path = \"requirements_file_path\"\n",
    "            mlflow.xgboost.log_model(model, artifact_path, pip_requirements=f.name)\n",
    "            pip_reqs = get_pip_requirements(run_id, artifact_path)\n",
    "            assert pip_reqs == {\"mlflow\", sklearn_req}, pip_reqs\n",
    "\n",
    "            # List of pip requirement strings\n",
    "            artifact_path = \"requirements_file_list\"\n",
    "            mlflow.xgboost.log_model(\n",
    "                model, artifact_path, pip_requirements=[xgb_req, f\"-r {f.name}\"]\n",
    "            )\n",
    "            pip_reqs = get_pip_requirements(run_id, artifact_path)\n",
    "            assert pip_reqs == {\"mlflow\", xgb_req, sklearn_req}, pip_reqs\n",
    "\n",
    "        # Using a constraints file\n",
    "        with tempfile.NamedTemporaryFile(\"w\", suffix=\".constraints.txt\") as f:\n",
    "            f.write(sklearn_req)\n",
    "            f.flush()\n",
    "\n",
    "            artifact_path = \"constraints_file\"\n",
    "            mlflow.xgboost.log_model(\n",
    "                model, artifact_path, pip_requirements=[xgb_req, f\"-c {f.name}\"]\n",
    "            )\n",
    "            pip_reqs, pip_cons = get_pip_requirements(\n",
    "                run_id, artifact_path, return_constraints=True\n",
    "            )\n",
    "            assert pip_reqs == {\"mlflow\", xgb_req, \"-c constraints.txt\"}, pip_reqs\n",
    "            assert pip_cons == {sklearn_req}, pip_cons\n",
    "\n",
    "\n",
    "if __name__ == \"__main__\":\n",
    "    main()"
   ]
  },
  {
   "cell_type": "markdown",
   "id": "6fc435df-a22a-43d9-84cc-34ecf659d080",
   "metadata": {},
   "source": [
    "# 모델 배포하기\n",
    "- MLflow Model은 Batch / Streaming 추론 모두를 지원하기 위해 모델을 패키징하는 표준 형식이다"
   ]
  },
  {
   "cell_type": "code",
   "execution_count": 32,
   "id": "59db4809-6090-4b00-b96c-1b6ed2f769e7",
   "metadata": {},
   "outputs": [
    {
     "data": {
      "text/plain": [
       "<mlflow.models.model.ModelInfo at 0x1c10a1b9c40>"
      ]
     },
     "execution_count": 32,
     "metadata": {},
     "output_type": "execute_result"
    }
   ],
   "source": [
    "# 이 예제에서 모델은 run 내의 artifact로 저장된다.\n",
    "mlflow.sklearn.log_model(lr, 'model') "
   ]
  },
  {
   "cell_type": "code",
   "execution_count": 33,
   "id": "3644f319-b0f5-42e1-b5b1-997571193821",
   "metadata": {},
   "outputs": [
    {
     "name": "stdout",
     "output_type": "stream",
     "text": [
      "^C\n"
     ]
    }
   ],
   "source": [
    "!mlflow ui"
   ]
  },
  {
   "cell_type": "markdown",
   "id": "282153f0-227f-4ac7-845a-3e67f9dd9948",
   "metadata": {},
   "source": [
    "- 실행시킨 모델을 클릭하고 들어가서 쭉 내려서 `Artifacts` 란을 보자\n",
    "- `mlflow.sklearn.log_model`에 의해 생성된 파일들\n",
    "\n",
    "    1. `MLmodel`의 경로를 보면 대충 아래처럼 지정되어 있다.\n",
    "    `file:///C:/Users/dowra/1.MyWorkspace/MLFlow/examples/sklearn_elasticnet_wine/mlruns/0/11e99a0472a34e0b804a8f8a8af07131/artifacts/model/MLmodel`\n",
    "        - 이 파일은 로, `MLflow`가 모델을 어떻게 불러왔는지를 설명해준다.\n",
    "\n",
    "    2. `model.pkl` : 사용자가 학습한 선형 회귀 모델의 직렬화된 버전\n"
   ]
  },
  {
   "cell_type": "markdown",
   "id": "580142bd-ee35-43f1-b44f-959a7326a0c8",
   "metadata": {},
   "source": [
    "#### 모델을 MLflow 서버와 함께 사용해 예측을 지원하는 로컬 REST 서버를 배포하기\n",
    "- 참고 ) 모델 생성에 사용된 파이썬 버전은 mlflow 모델 실행 버전과 동일해야 한다. 아니라면 오류가 발생할 수 있음."
   ]
  },
  {
   "cell_type": "code",
   "execution_count": 34,
   "id": "93ec9d4a-3fa6-4b2d-98ba-ae72980563c9",
   "metadata": {},
   "outputs": [
    {
     "name": "stderr",
     "output_type": "stream",
     "text": [
      "2022/12/14 16:34:55 INFO mlflow.models.flavor_backend_registry: Selected backend for flavor 'python_function'\n",
      "Traceback (most recent call last):\n",
      "  File \"C:\\Users\\dowra\\anaconda3\\lib\\runpy.py\", line 197, in _run_module_as_main\n",
      "    return _run_code(code, main_globals, None,\n",
      "  File \"C:\\Users\\dowra\\anaconda3\\lib\\runpy.py\", line 87, in _run_code\n",
      "    exec(code, run_globals)\n",
      "  File \"C:\\Users\\dowra\\anaconda3\\Scripts\\mlflow.exe\\__main__.py\", line 7, in <module>\n",
      "  File \"C:\\Users\\dowra\\anaconda3\\lib\\site-packages\\click\\core.py\", line 1128, in __call__\n",
      "    return self.main(*args, **kwargs)\n",
      "  File \"C:\\Users\\dowra\\anaconda3\\lib\\site-packages\\click\\core.py\", line 1053, in main\n",
      "    rv = self.invoke(ctx)\n",
      "  File \"C:\\Users\\dowra\\anaconda3\\lib\\site-packages\\click\\core.py\", line 1659, in invoke\n",
      "    return _process_result(sub_ctx.command.invoke(sub_ctx))\n",
      "  File \"C:\\Users\\dowra\\anaconda3\\lib\\site-packages\\click\\core.py\", line 1659, in invoke\n",
      "    return _process_result(sub_ctx.command.invoke(sub_ctx))\n",
      "  File \"C:\\Users\\dowra\\anaconda3\\lib\\site-packages\\click\\core.py\", line 1395, in invoke\n",
      "    return ctx.invoke(self.callback, **ctx.params)\n",
      "  File \"C:\\Users\\dowra\\anaconda3\\lib\\site-packages\\click\\core.py\", line 754, in invoke\n",
      "    return __callback(*args, **kwargs)\n",
      "  File \"C:\\Users\\dowra\\anaconda3\\lib\\site-packages\\mlflow\\models\\cli.py\", line 104, in serve\n",
      "    return get_flavor_backend(\n",
      "  File \"C:\\Users\\dowra\\anaconda3\\lib\\site-packages\\mlflow\\pyfunc\\backend.py\", line 226, in serve\n",
      "    return self.prepare_env(local_path).execute(\n",
      "  File \"C:\\Users\\dowra\\anaconda3\\lib\\site-packages\\mlflow\\pyfunc\\backend.py\", line 100, in prepare_env\n",
      "    activate_cmd = _get_or_create_virtualenv(\n",
      "  File \"C:\\Users\\dowra\\anaconda3\\lib\\site-packages\\mlflow\\utils\\virtualenv.py\", line 327, in _get_or_create_virtualenv\n",
      "    _validate_pyenv_is_available()\n",
      "  File \"C:\\Users\\dowra\\anaconda3\\lib\\site-packages\\mlflow\\utils\\virtualenv.py\", line 63, in _validate_pyenv_is_available\n",
      "    raise MlflowException(\n",
      "mlflow.exceptions.MlflowException: Could not find the pyenv binary. See https://github.com/pyenv-win/pyenv-win#installation for installation instructions.\n"
     ]
    }
   ],
   "source": [
    "!mlflow models serve -m C:/Users/dowra/1.MyWorkspace/MLFlow/examples/sklearn_elasticnet_wine/mlruns/0/11e99a0472a34e0b804a8f8a8af07131/artifacts/model -p 1234"
   ]
  },
  {
   "cell_type": "code",
   "execution_count": null,
   "id": "9c756ddd-9f9e-4858-877e-ddb28528f737",
   "metadata": {},
   "outputs": [],
   "source": []
  }
 ],
 "metadata": {
  "kernelspec": {
   "display_name": "Python 3 (ipykernel)",
   "language": "python",
   "name": "python3"
  },
  "language_info": {
   "codemirror_mode": {
    "name": "ipython",
    "version": 3
   },
   "file_extension": ".py",
   "mimetype": "text/x-python",
   "name": "python",
   "nbconvert_exporter": "python",
   "pygments_lexer": "ipython3",
   "version": "3.9.13"
  }
 },
 "nbformat": 4,
 "nbformat_minor": 5
}
