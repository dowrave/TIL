{
 "cells": [
  {
   "cell_type": "markdown",
   "metadata": {},
   "source": [
    "# 2. 동영상 출력\n",
    "- 동영상은 [Pexels](https://www.pexels.com/ko-kr/)에서 가져옴\n",
    "- 동영상 : 여러 프레임을 연속적으로 보여줘 움직이는 듯한 효과를 냄"
   ]
  },
  {
   "cell_type": "markdown",
   "metadata": {},
   "source": [
    "## 1) 동영상 파일 출력"
   ]
  },
  {
   "cell_type": "code",
   "execution_count": 5,
   "metadata": {},
   "outputs": [
    {
     "name": "stdout",
     "output_type": "stream",
     "text": [
      "Quit by User Input\n"
     ]
    }
   ],
   "source": [
    "import cv2\n",
    "cap = cv2.VideoCapture('Image/cat.mp4') # 동영상 파일을 불러옴\n",
    "\n",
    "while cap.isOpened(): # 동영상 파일이 올바로 열렸는지 확인함\n",
    "    ret, frame = cap.read() # ret : 성공 여부, frame : 받아온 이미지(프레임)\n",
    "    if not ret:\n",
    "        print(\"No More Frame\")\n",
    "        break\n",
    "\n",
    "    cv2.imshow('video', frame)\n",
    "\n",
    "    # 긴 동영상일 경우 보다가 끄고 싶을 수 있겠죠? -> 키를 눌러 반복문을 탈출할 수 있음\n",
    "\n",
    "    if cv2.waitKey(24) == ord('q'):\n",
    "        print(\"Quit by User Input\")\n",
    "        break\n",
    "\n",
    "cap.release() # 자원 해제\n",
    "cv2.destroyAllWindows() # 모든 창 닫기"
   ]
  },
  {
   "cell_type": "markdown",
   "metadata": {},
   "source": [
    "- 위처럼 코드를 실행하니까 동영상이 굉장히 빠르게 실행됨(`cv2.waitKey(1)`)\n",
    "    - <b>`cv2.waitKey()` 내부 값을 조정해서 영상 속도를 조절할 수 있음</b>"
   ]
  },
  {
   "cell_type": "markdown",
   "metadata": {},
   "source": [
    "## 2) 카메라 출력\n",
    "- 데탑은 카메라가 없으니 작동하지 않음 : 코드만 보세용"
   ]
  },
  {
   "cell_type": "code",
   "execution_count": 6,
   "metadata": {},
   "outputs": [
    {
     "ename": "",
     "evalue": "",
     "output_type": "error",
     "traceback": [
      "\u001b[1;31mThe Kernel crashed while executing code in the the current cell or a previous cell. Please review the code in the cell(s) to identify a possible cause of the failure. Click <a href='https://aka.ms/vscodeJupyterKernelCrash'>here</a> for more info. View Jupyter <a href='command:jupyter.viewOutput'>log</a> for further details."
     ]
    }
   ],
   "source": [
    "import cv2\n",
    "cap = cv2.VideoCapture(0) # 인덱스가 들어가면 카메라 장치의 숫자를 의미함(Device ID)\n",
    "                         # 다른 책에서는 0은 내장 카메라, 1부터는 외장 카메라라고 했음\n",
    "\n",
    "if not cap.isOpened(): # 카메라가 잘 열리지 않은 경우\n",
    "    exit() # 프로그램 종료\n",
    "\n",
    "while True:\n",
    "    ret, frame = cap.read() # 복습 : ret는 T / F (잘 받아오고 있는가) / frame은 받아오는 이미지의 프레임\n",
    "    if not ret: \n",
    "        break\n",
    "    \n",
    "    cv2.imshow('camera', frame)\n",
    "    if cv2.waitKey(24) == ord('q'):\n",
    "        break\n",
    "\n",
    "cap.release()\n",
    "cv2.destroyAllWindows()"
   ]
  },
  {
   "cell_type": "code",
   "execution_count": null,
   "metadata": {},
   "outputs": [],
   "source": []
  }
 ],
 "metadata": {
  "interpreter": {
   "hash": "11938c6bc6919ae2720b4d5011047913343b08a43b18698fd82dedb0d4417594"
  },
  "kernelspec": {
   "display_name": "Python 3.9.6 64-bit",
   "language": "python",
   "name": "python3"
  },
  "language_info": {
   "codemirror_mode": {
    "name": "ipython",
    "version": 3
   },
   "file_extension": ".py",
   "mimetype": "text/x-python",
   "name": "python",
   "nbconvert_exporter": "python",
   "pygments_lexer": "ipython3",
   "version": "3.9.6"
  },
  "orig_nbformat": 4
 },
 "nbformat": 4,
 "nbformat_minor": 2
}
