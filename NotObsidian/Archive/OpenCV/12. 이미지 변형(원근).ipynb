{
 "cells": [
  {
   "cell_type": "markdown",
   "metadata": {},
   "source": [
    "# 12. 이미지 변형(원근)"
   ]
  },
  {
   "cell_type": "markdown",
   "metadata": {},
   "source": [
    "### 사다리꼴 이미지 펼치기"
   ]
  },
  {
   "cell_type": "code",
   "execution_count": 3,
   "metadata": {},
   "outputs": [],
   "source": [
    "import cv2\n",
    "import numpy as np\n",
    "\n",
    "img = cv2.imread('Image/np.jpg')\n",
    "\n",
    "# 결과 이미지 크기는 미리 정의해주자\n",
    "width, height = 640, 240\n",
    "# 일부가 블러 처리된 이미지이기 때문에 그림판 등을 통해 뚜렷한 부분의 4개의 점을 가져옴 (좌상, 우상, 우하, 좌하)\n",
    "src = np.array([[515, 368],  [1008, 348], [1119, 582], [473, 580]], dtype = np.float32) # 이미지 위에서 확인한 4개의 점\n",
    "\n",
    "# 근데 이 원근감을 flat하게 펼쳐줘야 함 - 이 펼쳐질 4개의 점도 지정해줘야 함 - 방향은 위와 동일해야겠죠?\n",
    "dst = np.array([[0,0], [width, 0], [width, height], [0, height]], dtype = np.float32) # (0,0), (w,0), (w,h), (0,h)\n",
    "\n",
    "# 이 함수를 통해 matrix를 얻을 수 있음\n",
    "matrix = cv2.getPerspectiveTransform(src, dst)\n",
    "result = cv2.warpPerspective(img, matrix, (width, height)) # 이미지를 matrix에 의해 어떤 크기(w, h)로 변환\n",
    "\n",
    "cv2.imshow('img', img)\n",
    "cv2.imshow('result', result)\n",
    "cv2.waitKey(0)\n",
    "cv2.destroyAllWindows()"
   ]
  },
  {
   "cell_type": "markdown",
   "metadata": {},
   "source": [
    "### 회전된 이미지 세우기"
   ]
  },
  {
   "cell_type": "code",
   "execution_count": 5,
   "metadata": {},
   "outputs": [],
   "source": [
    "import cv2\n",
    "import numpy as np\n",
    "\n",
    "img = cv2.imread('Image/poker.jpg')\n",
    "\n",
    "width, height = 513, 705\n",
    "src = np.array([[710, 146], [1133, 421], [720, 994], [281, 696]], dtype = np.float32)\n",
    "dst = np.array([[0,0], [width,0], [width, height], [0,height]], dtype = np.float32)\n",
    "matrix = cv2.getPerspectiveTransform(src, dst)\n",
    "result = cv2.warpPerspective(img, matrix, (width, height))\n",
    "\n",
    "\n",
    "cv2.imshow('img', img)\n",
    "cv2.imshow('result', result)\n",
    "cv2.waitKey(0)\n",
    "cv2.destroyAllWindows()"
   ]
  },
  {
   "cell_type": "code",
   "execution_count": null,
   "metadata": {},
   "outputs": [],
   "source": []
  }
 ],
 "metadata": {
  "kernelspec": {
   "display_name": "Python 3.8.8 64-bit",
   "language": "python",
   "name": "python3"
  },
  "language_info": {
   "codemirror_mode": {
    "name": "ipython",
    "version": 3
   },
   "file_extension": ".py",
   "mimetype": "text/x-python",
   "name": "python",
   "nbconvert_exporter": "python",
   "pygments_lexer": "ipython3",
   "version": "3.8.8"
  },
  "orig_nbformat": 4,
  "vscode": {
   "interpreter": {
    "hash": "ad2bdc8ecc057115af97d19610ffacc2b4e99fae6737bb82f5d7fb13d2f2c186"
   }
  }
 },
 "nbformat": 4,
 "nbformat_minor": 2
}
