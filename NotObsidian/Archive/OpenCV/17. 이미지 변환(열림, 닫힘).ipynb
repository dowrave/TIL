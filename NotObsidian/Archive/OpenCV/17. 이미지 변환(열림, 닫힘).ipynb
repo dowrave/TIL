{
 "cells": [
  {
   "cell_type": "markdown",
   "metadata": {},
   "source": [
    "# 16. 이미지 변환(열림, 닫힘)"
   ]
  },
  {
   "cell_type": "markdown",
   "metadata": {},
   "source": [
    "## 열림(Opening) - 침식 후 팽창. 깎아서 노이즈 제거 후 살을 찌움\n",
    "> dilate(erode(image))\n",
    "\n",
    "- 이미지를 강의와 반대로 만들었기 때문에 가져오는 파일도 erode일 때 dilate를 가져오고 dilate일 때 erode를 가져옴\n",
    "- 검은 글씨 내의 하얀 노이즈 : 열림 연산으로 제거 가능"
   ]
  },
  {
   "cell_type": "code",
   "execution_count": 8,
   "metadata": {},
   "outputs": [],
   "source": [
    "import cv2\n",
    "import numpy as np\n",
    "\n",
    "img = cv2.imread('Image/dilate.png', cv2.IMREAD_GRAYSCALE)\n",
    "\n",
    "kernel = np.ones((3, 3), dtype = np.uint8)\n",
    "# 다른 곳에서 찾아보니 커널은 이런 식으로 만들기도 함\n",
    "k = cv2.getStructuringElement(cv2.MORPH_RECT, (3, 3))\n",
    "\n",
    "erode = cv2.erode(img, kernel, iterations = 3)\n",
    "dilate = cv2.dilate(erode, kernel, iterations = 3)\n",
    "\n",
    "# Dilate, Erode 이외의 연산을 위해 openCV2는 다음 함수를 지원한다.\n",
    "dst = cv2.morphologyEx(img, cv2.MORPH_OPEN, kernel iterations=3)\n",
    "\n",
    "cv2.imshow('img', img)\n",
    "cv2.imshow('erode', erode)\n",
    "cv2.imshow('dilate', dilate)\n",
    "cv2.waitKey(0)\n",
    "cv2.destroyAllWindows()"
   ]
  },
  {
   "cell_type": "markdown",
   "metadata": {},
   "source": [
    "## 닫힘(Closing) - 팽창 후 침식"
   ]
  },
  {
   "cell_type": "code",
   "execution_count": 14,
   "metadata": {},
   "outputs": [],
   "source": [
    "import cv2\n",
    "import numpy as np\n",
    "\n",
    "img = cv2.imread('Image/erode.png', cv2.IMREAD_GRAYSCALE)\n",
    "\n",
    "kernel = np.ones((3, 3), dtype = np.uint8)\n",
    "\n",
    "dilate = cv2.dilate(img, kernel, iterations = 3) # dilate : 흰 영역 확장\n",
    "erode = cv2.erode(dilate, kernel, iterations = 3) # erode : 검은 영역 확장\n",
    "\n",
    "# Dilate, Erode 이외의 연산을 위해 openCV2는 다음 함수를 지원한다.\n",
    "dst = cv2.morphologyEx(img, cv2.MORPH_CLOSE, kernel, iterations=3)\n",
    "\n",
    "\n",
    "cv2.imshow('img', img)\n",
    "cv2.imshow('erode', dilate)\n",
    "cv2.imshow('dilate', erode)\n",
    "cv2.imshow('dst', dst)\n",
    "cv2.waitKey(0)\n",
    "cv2.destroyAllWindows()"
   ]
  },
  {
   "cell_type": "code",
   "execution_count": null,
   "metadata": {},
   "outputs": [],
   "source": []
  }
 ],
 "metadata": {
  "kernelspec": {
   "display_name": "Python 3.9.6 64-bit (system)",
   "language": "python",
   "name": "python3"
  },
  "language_info": {
   "codemirror_mode": {
    "name": "ipython",
    "version": 3
   },
   "file_extension": ".py",
   "mimetype": "text/x-python",
   "name": "python",
   "nbconvert_exporter": "python",
   "pygments_lexer": "ipython3",
   "version": "3.9.6"
  },
  "orig_nbformat": 4,
  "vscode": {
   "interpreter": {
    "hash": "11938c6bc6919ae2720b4d5011047913343b08a43b18698fd82dedb0d4417594"
   }
  }
 },
 "nbformat": 4,
 "nbformat_minor": 2
}
