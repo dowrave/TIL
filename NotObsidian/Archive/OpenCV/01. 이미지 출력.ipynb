{
 "cells": [
  {
   "cell_type": "code",
   "execution_count": 2,
   "metadata": {},
   "outputs": [
    {
     "data": {
      "text/plain": [
       "'4.6.0'"
      ]
     },
     "execution_count": 2,
     "metadata": {},
     "output_type": "execute_result"
    }
   ],
   "source": [
    "import cv2\n",
    "cv2.__version__"
   ]
  },
  {
   "cell_type": "markdown",
   "metadata": {},
   "source": [
    "# 1. 이미지 출력\n",
    "- 이미지는 [픽사베이](https://pixabay.com/ko/)에서 가져옴"
   ]
  },
  {
   "cell_type": "code",
   "execution_count": 8,
   "metadata": {},
   "outputs": [
    {
     "name": "stdout",
     "output_type": "stream",
     "text": [
      "49\n"
     ]
    }
   ],
   "source": [
    "img = cv2.imread('Image/cat.jpg')\n",
    "cv2.imshow('img', img) # 윈도우 창 이름, 보여줄 이미지\n",
    "# cv2.waitKey(0) # 인자 = 0 : 무한 대기 / \n",
    "# cv2.waitKey(5000) # 5초 동안 입력 대기, 입력이 없다면 아래로 넘어감\n",
    "key = cv2.waitKey(0)\n",
    "print(key) # 입력된 값의 고유 번호(아스키 코드)를 출력함\n",
    "cv2.destroyAllWindows() # 띄웠던 모든 창 닫기"
   ]
  },
  {
   "cell_type": "markdown",
   "metadata": {},
   "source": [
    "## 읽기 옵션\n",
    "1. `cv2.IMREAD_COLOR` : 컬러 이미지. 투명 영역(PNG 등)은 무시됨. (기본값)\n",
    "1. `cv2.IMREAD_GRAYSCALE` : 흑백 이미지\n",
    "1. `cv2.IMREAD_UNCHANGED` : 바꾸지 않음 = 투명 영역까지 포함해서 이미지를 불러옴"
   ]
  },
  {
   "cell_type": "code",
   "execution_count": 12,
   "metadata": {},
   "outputs": [],
   "source": [
    "import cv2\n",
    "img1 = cv2.imread('Image/cat.jpg', cv2.IMREAD_COLOR)\n",
    "gray = cv2.imread('Image/cat.jpg', cv2.IMREAD_GRAYSCALE)\n",
    "unchanged = cv2.imread('Image/cat.jpg', cv2.IMREAD_UNCHANGED)\n",
    "cv2.imshow('img', img)\n",
    "cv2.imshow('gray', gray)\n",
    "cv2.imshow('unchanged', unchanged)\n",
    "\n",
    "cv2.waitKey(0)\n",
    "\n",
    "cv2.destroyAllWindows()"
   ]
  },
  {
   "cell_type": "markdown",
   "metadata": {},
   "source": [
    "## Shape\n",
    "- 이미지의 `height, width, channel` 정보"
   ]
  },
  {
   "cell_type": "code",
   "execution_count": 13,
   "metadata": {},
   "outputs": [
    {
     "data": {
      "text/plain": [
       "(426, 640, 3)"
      ]
     },
     "execution_count": 13,
     "metadata": {},
     "output_type": "execute_result"
    }
   ],
   "source": [
    "import cv2\n",
    "img = cv2.imread('Image/cat.jpg')\n",
    "img.shape # (세로, 가로, 채널)"
   ]
  },
  {
   "cell_type": "code",
   "execution_count": null,
   "metadata": {},
   "outputs": [],
   "source": []
  }
 ],
 "metadata": {
  "interpreter": {
   "hash": "11938c6bc6919ae2720b4d5011047913343b08a43b18698fd82dedb0d4417594"
  },
  "kernelspec": {
   "display_name": "Python 3.9.6 64-bit",
   "language": "python",
   "name": "python3"
  },
  "language_info": {
   "codemirror_mode": {
    "name": "ipython",
    "version": 3
   },
   "file_extension": ".py",
   "mimetype": "text/x-python",
   "name": "python",
   "nbconvert_exporter": "python",
   "pygments_lexer": "ipython3",
   "version": "3.9.6"
  },
  "orig_nbformat": 4
 },
 "nbformat": 4,
 "nbformat_minor": 2
}
