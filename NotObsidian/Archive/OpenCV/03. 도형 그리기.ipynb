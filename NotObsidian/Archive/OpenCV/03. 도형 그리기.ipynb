{
 "cells": [
  {
   "cell_type": "markdown",
   "metadata": {},
   "source": [
    "# 3. 도형 그리기\n",
    "- 어떤 위치를 표시하려 할 때 사용할 수 있음!\n",
    "- 눈에 동그라미라든지, 얼굴에 사각형을 친다든지 등등등"
   ]
  },
  {
   "cell_type": "markdown",
   "metadata": {},
   "source": [
    "### 1) 빈 스케치북 만들기\n",
    "- OpenCV에 들어가는 채널은 `BGR` 이다!"
   ]
  },
  {
   "cell_type": "code",
   "execution_count": 6,
   "metadata": {},
   "outputs": [],
   "source": [
    "import cv2\n",
    "import numpy as np\n",
    "\n",
    "# 세로 480 x 가로 640, 채널 3 (RGB) 에 해당하는 스케치북 만들기\n",
    "img = np.zeros((480, 640, 3), dtype = np.uint8)\n",
    "img[:] = (255, 255, 255) # 전체 공간을 흰색으로 만듦\n",
    "# img[:] = (255, 0, 0) # B, G, R\n",
    "cv2.imshow('img', img)\n",
    "cv2.waitKey(0)\n",
    "cv2.destroyAllWindows()"
   ]
  },
  {
   "cell_type": "markdown",
   "metadata": {},
   "source": [
    "## "
   ]
  },
  {
   "cell_type": "markdown",
   "metadata": {},
   "source": [
    "### 2) 일부 영역 색칠"
   ]
  },
  {
   "cell_type": "code",
   "execution_count": 7,
   "metadata": {},
   "outputs": [],
   "source": [
    "import cv2\n",
    "import numpy as np\n",
    "\n",
    "img = np.zeros((480, 640, 3), dtype = np.uint8)\n",
    "img[100:200, 200:300] = (255, 255, 255)# 넘파이는 이런 슬라이싱이 된다\n",
    "# 세로줄 100~199, 가로줄 200~299 위치의 픽셀들을 흰색으로 채움\n",
    "cv2.imshow('img', img)\n",
    "cv2.waitKey(0)\n",
    "cv2.destroyAllWindows()"
   ]
  },
  {
   "cell_type": "markdown",
   "metadata": {},
   "source": [
    "### 3) 직선\n",
    "- 직선의 종류(Line Type)\n",
    "1. `cv2.LINE_4` : 상하좌우 4 방향으로 연결된 선\n",
    "1. `cv2.LINE_8` : 대각선을 포함한 8방향 선 (기본값)\n",
    "1. `cv2.LINE_AA` : 부드러운 선(Anti-Aliasing)"
   ]
  },
  {
   "cell_type": "code",
   "execution_count": 11,
   "metadata": {},
   "outputs": [],
   "source": [
    "import cv2\n",
    "import numpy as np\n",
    "\n",
    "img = np.zeros((480, 640, 3), dtype = np.uint8)\n",
    "COLOR = (0, 255, 255) # 색깔 : 노란색(BGR 순으로 넣어준다)\n",
    "THICKNESS = 3 # 두께\n",
    "\n",
    "cv2.line(img, (50, 100), (400, 50), # 이미지, 시작점(x,y), 끝점(x,y)\n",
    "            COLOR, # 색\n",
    "            THICKNESS, # 두께\n",
    "            cv2.LINE_8) # 직선의 종류\n",
    "\n",
    "cv2.line(img, (50, 200), (400, 150), COLOR, THICKNESS, cv2.LINE_4)\n",
    "cv2.line(img, (50, 300), (400, 250), COLOR, THICKNESS, cv2.LINE_AA)\n",
    "\n",
    "cv2.imshow('img', img)\n",
    "cv2.waitKey(0)\n",
    "cv2.destroyAllWindows()"
   ]
  },
  {
   "cell_type": "markdown",
   "metadata": {},
   "source": [
    "#### 조금 헷갈릴 만한 지점이 있어서 메모하고 넘어감\n",
    "- 이미지 배열은 `(세로 * 가로 * 채널)` 임. \n",
    "    - 640*480 이미지를 불러왔다면 `shape` 메소드는 `480, 640`이 찍힘\n",
    "- 이미지 내의 좌표는 `(X좌표, Y좌표)` 로 그대로 사용함"
   ]
  },
  {
   "cell_type": "markdown",
   "metadata": {},
   "source": [
    "#### Line 4와 Line 8의 차이점\n",
    "- 픽셀을 기준으로 볼 때, Line 4는 상하좌우의 픽셀로만 이동할 수 있음(대각선 불가)\n",
    "- Line 8은 대각선까지 이동 가능함\n",
    "    - 당연히 Line 8이 더 부드럽겠죠? 예를 들어 원을 그려도 LINE_8이 훨씬 부드러움\n",
    "    - 물론 AA가 갑임\n"
   ]
  },
  {
   "cell_type": "markdown",
   "metadata": {},
   "source": [
    "### 4) 원"
   ]
  },
  {
   "cell_type": "code",
   "execution_count": 16,
   "metadata": {},
   "outputs": [],
   "source": [
    "import cv2\n",
    "import numpy as np\n",
    "\n",
    "img = np.zeros((480, 640, 3), dtype = np.uint8)\n",
    "COLOR = (255, 255, 0) \n",
    "THICKNESS = 10\n",
    "# 원은 반지름 값을 정의해줘야함\n",
    "RADIUS = 50\n",
    "\n",
    "cv2.circle(img, (200, 100), RADIUS, COLOR, THICKNESS, cv2.LINE_AA) # 속이 빈 원\n",
    "#       들어갈 이미지/ 위치 / 반지름 /색 / 두께 / 선 종류\n",
    "cv2.circle(img, (400, 200), RADIUS, COLOR, \n",
    "            cv2.FILLED, # 두께를 cv2.FILLED로 바꾸면 속이 찬 원이 된다. (-1)도 가능함\n",
    "            cv2.LINE_AA) \n",
    "\n",
    "\n",
    "\n",
    "cv2.imshow('img', img)\n",
    "cv2.waitKey(0)\n",
    "cv2.destroyAllWindows()"
   ]
  },
  {
   "cell_type": "markdown",
   "metadata": {},
   "source": [
    "### 5) 사각형"
   ]
  },
  {
   "cell_type": "code",
   "execution_count": 20,
   "metadata": {},
   "outputs": [],
   "source": [
    "import cv2\n",
    "import numpy as np\n",
    "\n",
    "img = np.zeros((480, 640, 3), dtype = np.uint8)\n",
    "COLOR = (0, 255, 0) # 초록색\n",
    "THICKNESS = 3\n",
    "\n",
    "# 사각형은 왼쪽 상단과 오른쪽 하단의 좌표를 요구함\n",
    "LEFT_TOP = (100, 100)\n",
    "RIGHT_BTM = (200, 200)\n",
    "LEFT_TOP2 = (200, 100)\n",
    "RIGHT_BTM2 = (300, 200)\n",
    "\n",
    "\n",
    "cv2.rectangle(img, LEFT_TOP, RIGHT_BTM, COLOR, THICKNESS) # 속이 빈 사각형\n",
    "cv2.rectangle(img, LEFT_TOP2, RIGHT_BTM2, COLOR, cv2.FILLED) # 속이 찬 사각형\n",
    "\n",
    "# 두께 때문에 위의 빈 사각형이 넓어 보이는데 같은 크기임\n",
    "\n",
    "cv2.imshow('img', img)\n",
    "cv2.waitKey(0)\n",
    "cv2.destroyAllWindows()"
   ]
  },
  {
   "cell_type": "markdown",
   "metadata": {},
   "source": [
    "### 6) 다각형"
   ]
  },
  {
   "cell_type": "code",
   "execution_count": 33,
   "metadata": {},
   "outputs": [],
   "source": [
    "import cv2\n",
    "import numpy as np\n",
    "\n",
    "img = np.zeros((480, 640, 3), dtype = np.uint8)\n",
    "COLOR = (0, 0, 255) # 빨\n",
    "THICKNESS = 3\n",
    "\n",
    "pts1 = np.array([[100, 100], [200, 100], [150, 150]]) # 점의 좌표를 numpy로 만들어 지정해줌\n",
    "pts2 = np.array([[200, 100], [300, 100], [250, 250]])\n",
    "\n",
    "# 다각형\n",
    "# cv2.polylines(img, \n",
    "#               [pts1], # 중요 : 리스트로 감싸서 넣는다. \n",
    "#               True, # 속성명 : isClosed - 닫힘 : 선들을 다 이은 뒤 첫 점과 끝점을 연결함 / 열림 : 선만 이음\n",
    "#               COLOR,\n",
    "#               THICKNESS,\n",
    "#               cv2.LINE_AA)\n",
    "\n",
    "# cv2.polylines(img, [pts2], True, COLOR, THICKNESS, cv2.LINE_AA)\n",
    "\n",
    "# 다각형을 리스트로 추가하면 polylines 함수 한 번 호출로 한꺼번에 넣을 수 있다.\n",
    "\n",
    "cv2.polylines(img, [pts1, pts2], True, COLOR, THICKNESS, cv2.LINE_AA) # 속이 빈 다각형\n",
    "\n",
    "# 다각형의 속을 채우고 싶다 - 별도의 함수가 필요함\n",
    "\n",
    "# array 내에 여러 점을 한꺼번에 넣을 수도 있음.\n",
    "pts3 = np.array([[[300, 300], [300, 350], [400, 325]], [[600, 0], [640, 100], [620, 100]]])\n",
    "cv2.fillPoly(img, pts3, COLOR, cv2.LINE_AA) # 열림 / 닫힘 개념과 두꼐는 없음.\n",
    "\n",
    "\n",
    "cv2.imshow('img', img)\n",
    "cv2.waitKey(0)\n",
    "cv2.destroyAllWindows()"
   ]
  },
  {
   "cell_type": "code",
   "execution_count": null,
   "metadata": {},
   "outputs": [],
   "source": []
  }
 ],
 "metadata": {
  "interpreter": {
   "hash": "11938c6bc6919ae2720b4d5011047913343b08a43b18698fd82dedb0d4417594"
  },
  "kernelspec": {
   "display_name": "Python 3.9.6 64-bit",
   "language": "python",
   "name": "python3"
  },
  "language_info": {
   "codemirror_mode": {
    "name": "ipython",
    "version": 3
   },
   "file_extension": ".py",
   "mimetype": "text/x-python",
   "name": "python",
   "nbconvert_exporter": "python",
   "pygments_lexer": "ipython3",
   "version": "3.9.6"
  },
  "orig_nbformat": 4
 },
 "nbformat": 4,
 "nbformat_minor": 2
}
