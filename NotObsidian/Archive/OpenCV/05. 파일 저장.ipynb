{
 "cells": [
  {
   "cell_type": "markdown",
   "metadata": {},
   "source": [
    "# 5. 파일 저장\n",
    "### 이미지 저장"
   ]
  },
  {
   "cell_type": "code",
   "execution_count": 5,
   "metadata": {},
   "outputs": [
    {
     "name": "stdout",
     "output_type": "stream",
     "text": [
      "True\n"
     ]
    }
   ],
   "source": [
    "import cv2\n",
    "\n",
    "img = cv2.imread('Image/cat.jpg', cv2.IMREAD_GRAYSCALE) # 흑백으로 불러옴\n",
    "cv2.imshow('img', img)\n",
    "\n",
    "cv2.waitKey(0)\n",
    "cv2.destroyAllWindows()\n",
    "\n",
    "# 저장\n",
    "result = cv2.imwrite('Image/img_save.png', img) # 확장자 변경 가능함 - 즉 jpg를 불러왔어도 png로 저장 가능\n",
    "print(result) # 저장되었다면 True를 반환함 "
   ]
  },
  {
   "cell_type": "markdown",
   "metadata": {},
   "source": [
    "### 동영상 저장"
   ]
  },
  {
   "cell_type": "code",
   "execution_count": 14,
   "metadata": {},
   "outputs": [],
   "source": [
    "import cv2\n",
    "\n",
    "cap = cv2.VideoCapture('Image/cat.mp4')\n",
    "\n",
    "# 저장을 위해 할 것 : 코덱 정의 --------------------------------------------------------\n",
    "\n",
    "# 코덱 정의\n",
    "# four character code\n",
    "fourcc = cv2.VideoWriter_fourcc(*'DIVX') # 원래는 'D', 'I', 'V', 'X'로 적어야 함\n",
    "\n",
    "# 프레임 크기, FPS\n",
    "width = round(cap.get(cv2.CAP_PROP_FRAME_WIDTH)) # 정수로 처리해줘야 함\n",
    "height = round(cap.get(cv2.CAP_PROP_FRAME_HEIGHT)) \n",
    "fps = cap.get(cv2.CAP_PROP_FPS) \n",
    "\n",
    "# 만약 속도를 늘리고 싶다면.. 프레임을 가져와 곱해준다\n",
    "# fps_fast = cap.get(cv2.CAP_PROP_FPS) * 2\n",
    "# out_fast = cv2.VideoWriter('Image/output_fast.avi', fourcc, fps_fast, (width, height)) # `DIVX` 때문에 avi로 감\n",
    "\n",
    "\n",
    "out = cv2.VideoWriter('Image/output.avi', fourcc, fps, (width, height)) # `DIVX` 때문에 avi로 감\n",
    "# 저장 파일명, 코덱, FPS, 크기(width, height)\n",
    "\n",
    "\n",
    "\n",
    "# ------------------------------------------------------------------------------------\n",
    "while cap.isOpened():\n",
    "    ret, frame = cap.read() # return, frame\n",
    "    \n",
    "    if not ret:\n",
    "        break\n",
    "\n",
    "    # out.write(frame) # 파일에 코덱, fps, 크기로 저장 - 영상 데이터'만' 저장(소리 저장 X)\n",
    "    out.write(frame)\n",
    "\n",
    "    cv2.imshow('video', frame)\n",
    "    if cv2.waitKey(24) == ord('q'):\n",
    "        break\n",
    "\n",
    "# 자원 해제\n",
    "# out_fast.release()\n",
    "out.release()\n",
    "cap.release()\n",
    "cv2.destroyAllWindows()\n",
    "\n",
    "\n"
   ]
  },
  {
   "cell_type": "code",
   "execution_count": 12,
   "metadata": {},
   "outputs": [
    {
     "name": "stdout",
     "output_type": "stream",
     "text": [
      "divx\n",
      "d i v x\n",
      "['d', 'i', 'v', 'x']\n",
      "divx divx\n",
      "['divx', 'divx']\n"
     ]
    }
   ],
   "source": [
    "codec = 'divx'\n",
    "print(codec)\n",
    "print(*codec)\n",
    "print([*codec])\n",
    "print(*[codec, codec])\n",
    "print([codec, codec])"
   ]
  },
  {
   "cell_type": "code",
   "execution_count": null,
   "metadata": {},
   "outputs": [],
   "source": []
  }
 ],
 "metadata": {
  "kernelspec": {
   "display_name": "Python 3.8.8 64-bit",
   "language": "python",
   "name": "python3"
  },
  "language_info": {
   "codemirror_mode": {
    "name": "ipython",
    "version": 3
   },
   "file_extension": ".py",
   "mimetype": "text/x-python",
   "name": "python",
   "nbconvert_exporter": "python",
   "pygments_lexer": "ipython3",
   "version": "3.8.8"
  },
  "orig_nbformat": 4,
  "vscode": {
   "interpreter": {
    "hash": "ad2bdc8ecc057115af97d19610ffacc2b4e99fae6737bb82f5d7fb13d2f2c186"
   }
  }
 },
 "nbformat": 4,
 "nbformat_minor": 2
}
