{
 "cells": [
  {
   "cell_type": "code",
   "execution_count": 11,
   "id": "009047cc-94e3-4a5d-8403-012805cdb4e3",
   "metadata": {},
   "outputs": [],
   "source": [
    "import requests\n",
    "import sys\n",
    "import os\n",
    "\n",
    "sys.stdin = open('../pubg_api_key.txt', 'r')\n",
    "api_key = sys.stdin.readline()\n",
    "url = \"https://api.pubg.com/shards/steam/players\"\n",
    "\n",
    "header = {\n",
    "  \"Authorization\": f\"{api_key}\",\n",
    "  \"Accept\": \"application/vnd.api+json\"\n",
    "}\n",
    "\n",
    "r = requests.get(url, headers=header)"
   ]
  },
  {
   "cell_type": "code",
   "execution_count": 12,
   "id": "5fb62b5b-d273-4345-a707-bedc72d4dc1d",
   "metadata": {},
   "outputs": [
    {
     "name": "stdout",
     "output_type": "stream",
     "text": [
      "<Response [400]>\n"
     ]
    }
   ],
   "source": [
    "print(r)"
   ]
  },
  {
   "cell_type": "code",
   "execution_count": null,
   "id": "7c3295ba-ea0f-4f5a-8ca5-be50e6a7289a",
   "metadata": {},
   "outputs": [],
   "source": []
  }
 ],
 "metadata": {
  "kernelspec": {
   "display_name": "Python 3 (ipykernel)",
   "language": "python",
   "name": "python3"
  },
  "language_info": {
   "codemirror_mode": {
    "name": "ipython",
    "version": 3
   },
   "file_extension": ".py",
   "mimetype": "text/x-python",
   "name": "python",
   "nbconvert_exporter": "python",
   "pygments_lexer": "ipython3",
   "version": "3.9.13"
  }
 },
 "nbformat": 4,
 "nbformat_minor": 5
}
