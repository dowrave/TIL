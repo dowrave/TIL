{
 "cells": [
  {
   "cell_type": "markdown",
   "id": "49907ced-32b6-42d8-84c4-07868fbae392",
   "metadata": {},
   "source": [
    "## 1. 네오플 API에서 데이터 불러오기 및 저장"
   ]
  },
  {
   "cell_type": "code",
   "execution_count": 14,
   "id": "93bac420-e074-4e4b-9437-40fc8cc8d629",
   "metadata": {},
   "outputs": [],
   "source": [
    "import sys\n",
    "import requests\n",
    "from urllib import parse\n",
    "import datetime\n",
    "import time\n",
    "import pandas as pd\n",
    "from matplotlib import rcParams\n",
    "\n",
    "sys.stdin = open('../dnf_api_key.txt', 'r') # api key는 별도 파일로 저장\n",
    "\n",
    "api_key = sys.stdin.readline().strip()\n",
    "\n",
    "gateway = f\"https://api.neople.co.kr/df/\"\n",
    "\n",
    "MyCharacters = ['回歸', '군생활80퍼', '안경자유로', '다시키워용', '싱크마스터', 'KK보벳따우', \n",
    "               '뭔활쟁이여', '回歸.', '작명이어려움', '흐아어으어', '사령키우기', '열열다섯', '배미딱',\n",
    "               '추억의런치', '관짝에들어간', '눈에붕대', '새벽네시야', '나폴리갓바니', '돚거돚돚거', '십오오오',\n",
    "               '퇴마를키우자', '스시스시스시']\n",
    "\n",
    "# 캐릭터 기본 정보 검색\n",
    "def search_info(character_id):\n",
    "    return gateway + f\"servers/cain/characters/{character_id}?apikey={api_key}\"\n",
    "\n",
    "def search_status(character_id):\n",
    "    return gateway + f\"servers/cain/characters/{character_id}/status?apikey={api_key}\"\n",
    "\n",
    "def search_timeline(character_id):\n",
    "    \"\"\"\n",
    "    오늘부터 90일 전까지\n",
    "    \"\"\"\n",
    "    end = datetime.datetime.now()\n",
    "    start = end - datetime.timedelta(days=90)\n",
    "    end = end.strftime('%Y-%m-%d %H:%M')\n",
    "    start = start.strftime('%Y-%m-%d %H:%M')\n",
    "    return gateway + f\"servers/cain/characters/{character_id}/timeline?startDate={start}&endDate={end}&code=401,402,403,404,405,406,505,511,513,519,520,521,601,602&apikey={api_key}\"\n",
    "\n",
    "chr_lst = []\n",
    "\n",
    "for i in range(len(MyCharacters)):\n",
    "    \n",
    "    # 캐릭터 검색 -> 캐릭터 id 얻기\n",
    "    characterName = parse.quote(MyCharacters[i]) # URL 인코딩\n",
    "    character = f\"servers/cain/characters?characterName={characterName}&apikey={api_key}\"\n",
    "    url = gateway + character\n",
    "    r = requests.get(url)\n",
    "    chr_id = r.json()['rows'][0]['characterId']\n",
    "    \n",
    "    dct = {}\n",
    "    dct['characterId'] = chr_id\n",
    "    \n",
    "    # 캐릭터 id로 명성 얻기\n",
    "    url = search_status(chr_id)\n",
    "    r = requests.get(url)\n",
    "    reputation_dict = r.json()['status'][16]\n",
    "    dct['reputation'] = reputation_dict['value'] if reputation_dict['name'] == '모험가 명성' else 0\n",
    "    \n",
    "    # 캐릭터 id로 마지막 아이템 습득 로그 시간 얻기\n",
    "    url2 = search_timeline(chr_id)\n",
    "    r2 = requests.get(url2)\n",
    "    if r2.json()['timeline']['rows']:\n",
    "        \n",
    "        last_get_item = r2.json()['timeline']['rows'][0]['date']\n",
    "        dct['last_access'] = last_get_item\n",
    "        \n",
    "    else:\n",
    "        dct['last_access'] = (datetime.datetime.now() - datetime.timedelta(days=90)).strftime('%Y-%m-%d %H:%M')\n",
    "\n",
    "    chr_lst.append(dct)\n",
    "    time.sleep(0.3)"
   ]
  },
  {
   "cell_type": "code",
   "execution_count": 15,
   "id": "673b5973-3d1c-4b12-8b97-352f939aa19e",
   "metadata": {
    "tags": []
   },
   "outputs": [
    {
     "name": "stdout",
     "output_type": "stream",
     "text": [
      "2023-04-06 06:00:00\n"
     ]
    }
   ],
   "source": [
    "df = pd.DataFrame(chr_lst)\n",
    "\n",
    "# df['last_access'] = df['last_access'].astype('datetime64')\n",
    "df['last_access'] = pd.to_datetime(df['last_access'])\n",
    "\n",
    "# 과거의 가장 가까운 2번째 목요일 구하기\n",
    "today_weekday = datetime.datetime.now().weekday()\n",
    "if today_weekday < 3:\n",
    "    today_weekday + 7\n",
    "x = -(today_weekday - 3) - 7\n",
    "\n",
    "base_date = datetime.datetime.now() + datetime.timedelta(days = x)\n",
    "base_date = base_date.replace(hour = 6, minute = 0, second = 0, microsecond = 0)\n",
    "print(base_date)\n",
    "df['is_playing'] = df['last_access'].apply(lambda x : True if x >= base_date else False)\n",
    "\n",
    "\n",
    "# 명성 별 입장 가능 던전 정의\n",
    "def dungeon(x: int):\n",
    "    if x < 12656:\n",
    "        return '노말 던전'\n",
    "    elif x < 16052:\n",
    "        return '더스크 노말'\n",
    "    elif x < 17612:\n",
    "        return '더스크 익스'\n",
    "    elif x < 24472:\n",
    "        return '파죽성 노말'\n",
    "    elif x < 26230:\n",
    "        return '파죽성 익스'\n",
    "    elif x < 26933:\n",
    "        return '더스크 마스터'\n",
    "    elif x < 30267:\n",
    "        return '마이스터 노말'\n",
    "    elif x < 31795:\n",
    "        return '파죽성 마스터'\n",
    "    elif x < 33043:\n",
    "        return '마이스터 익스'\n",
    "    elif x < 34308:\n",
    "        return '이스핀즈'\n",
    "    elif x < 38095:\n",
    "        return '개전'\n",
    "    elif x < 40047:\n",
    "        return '차원회랑'\n",
    "    else:\n",
    "        return '바칼 레이드'\n",
    "    \n",
    "df['dungeon'] = df['reputation'].apply(lambda x : dungeon(x))\n",
    "dungeon_order = pd.CategoricalDtype(['노말 던전', '더스크 노말', '더스크 익스', '파죽성 노말', '파죽성 익스',\n",
    "                                    '더스크 마스터', '마이스터 노말', '파죽성 마스터', '마이스터 익스', '이스핀즈',\n",
    "                                    '개전', '차원회랑', '바칼 레이드'], ordered = True\n",
    "                                   )\n",
    "df['dungeon'] = df['dungeon'].astype(dungeon_order)\n",
    "df.to_csv('my_characters.csv', index = False)"
   ]
  },
  {
   "cell_type": "markdown",
   "id": "b72a182f-3f57-469c-a847-5f19b560aa19",
   "metadata": {},
   "source": [
    "## 2. 데이터 불러오기 및 시각화"
   ]
  },
  {
   "cell_type": "code",
   "execution_count": 16,
   "id": "4fa85109-0617-409b-81b4-843073c2eff7",
   "metadata": {},
   "outputs": [
    {
     "name": "stdout",
     "output_type": "stream",
     "text": [
      "                        characterId  reputation          last_access  \\\n",
      "0  4787c82dd563af3a1e2f833ba575f1f6       30661  2023-03-24 01:02:00   \n",
      "1  6347bb2fc1c01c75cc014bc719ed7125       19250  2023-03-19 02:30:00   \n",
      "2  9954bf01b357ebfd3e0983693a9a10b2       16929  2023-03-19 02:33:00   \n",
      "3  652f7cae62053dc6ce9c98bdd7cac030       18225  2023-03-19 02:34:00   \n",
      "4  7396c123cb5919f168c34096b46b3aa2       19522  2023-03-19 02:37:00   \n",
      "\n",
      "   is_playing  dungeon  \n",
      "0       False  파죽성 마스터  \n",
      "1       False   파죽성 노말  \n",
      "2       False   더스크 익스  \n",
      "3       False   파죽성 노말  \n",
      "4       False   파죽성 노말  \n"
     ]
    }
   ],
   "source": [
    "import pandas as pd\n",
    "import matplotlib.pyplot as plt\n",
    "import seaborn as sns\n",
    "\n",
    "plt.rc('font', family='NanumGothic')\n",
    "\n",
    "# csv 불러오기 및 시각화\n",
    "df = pd.read_csv('my_characters.csv')\n",
    "print(df.head())\n",
    "\n",
    "# 수동으로 sort한 경우, category가 보존이 안된다\n",
    "dungeon_order = pd.CategoricalDtype(['노말 던전', '더스크 노말', '더스크 익스', '파죽성 노말', '파죽성 익스',\n",
    "                                    '더스크 마스터', '마이스터 노말', '파죽성 마스터', '마이스터 익스', '이스핀즈',\n",
    "                                    '개전', '차원회랑', '바칼 레이드'], ordered = True\n",
    "                                   )\n",
    "df['dungeon'] = df['dungeon'].astype(dungeon_order)"
   ]
  },
  {
   "cell_type": "code",
   "execution_count": 17,
   "id": "5c1840f5-d890-4728-8358-8a7033b574d6",
   "metadata": {},
   "outputs": [],
   "source": [
    "# 시각화\n",
    "data = df['dungeon'].value_counts().to_frame().reset_index()"
   ]
  },
  {
   "cell_type": "code",
   "execution_count": 18,
   "id": "bb4ed5f4-6492-45b7-8555-0f79c5a56bcc",
   "metadata": {},
   "outputs": [
    {
     "data": {
      "text/html": [
       "<div>\n",
       "<style scoped>\n",
       "    .dataframe tbody tr th:only-of-type {\n",
       "        vertical-align: middle;\n",
       "    }\n",
       "\n",
       "    .dataframe tbody tr th {\n",
       "        vertical-align: top;\n",
       "    }\n",
       "\n",
       "    .dataframe thead th {\n",
       "        text-align: right;\n",
       "    }\n",
       "</style>\n",
       "<table border=\"1\" class=\"dataframe\">\n",
       "  <thead>\n",
       "    <tr style=\"text-align: right;\">\n",
       "      <th></th>\n",
       "      <th>index</th>\n",
       "      <th>is_playing</th>\n",
       "    </tr>\n",
       "  </thead>\n",
       "  <tbody>\n",
       "    <tr>\n",
       "      <th>0</th>\n",
       "      <td>False</td>\n",
       "      <td>22</td>\n",
       "    </tr>\n",
       "    <tr>\n",
       "      <th>1</th>\n",
       "      <td>True</td>\n",
       "      <td>0</td>\n",
       "    </tr>\n",
       "  </tbody>\n",
       "</table>\n",
       "</div>"
      ],
      "text/plain": [
       "   index  is_playing\n",
       "0  False          22\n",
       "1   True           0"
      ]
     },
     "execution_count": 18,
     "metadata": {},
     "output_type": "execute_result"
    }
   ],
   "source": [
    "# 0값 표시하게 만들기\n",
    "playing = pd.CategoricalDtype([True, False], ordered = True)\n",
    "df['is_playing'] = df['is_playing'].astype(playing)\n",
    "is_playing = df['is_playing'].value_counts(dropna = False).to_frame().reset_index()\n",
    "is_playing"
   ]
  },
  {
   "cell_type": "code",
   "execution_count": 30,
   "id": "ab909252-7209-4434-8164-88bcfeb2147e",
   "metadata": {},
   "outputs": [
    {
     "name": "stderr",
     "output_type": "stream",
     "text": [
      "No handles with labels found to put in legend.\n"
     ]
    },
    {
     "data": {
      "image/png": "[encoded data removed]",
      "text/plain": [
       "<Figure size 1080x576 with 2 Axes>"
      ]
     },
     "metadata": {
      "needs_background": "light"
     },
     "output_type": "display_data"
    }
   ],
   "source": [
    "fig, ax = plt.subplots(1, 2, figsize = (15, 8), sharey = True)\n",
    "rcParams.update({'figure.autolayout': True})\n",
    "\n",
    "ax_title_fontsize = 22\n",
    "ax_title_y = 1.05\n",
    "ax_label_fontsize = 17\n",
    "ax_ticklabel_fontsize = 13\n",
    "barlabel_fontsize = 14\n",
    "\n",
    "\n",
    "# 1. 플레이 중인 캐릭터 표시\n",
    "sns.barplot(data = is_playing, x = 'index', y = 'is_playing', ax = ax[0], palette = 'deep')\n",
    "ax[0].bar_label(ax[0].containers[0], fontsize = barlabel_fontsize)\n",
    "ax[0].axes.yaxis.set_visible(False)\n",
    "ax[0].set_title('캐릭터를 플레이하는 중인가?', \n",
    "                fontsize = ax_title_fontsize, \n",
    "                y = ax_title_y)\n",
    "ax[0].set_xlabel('플레이 여부', \n",
    "                 fontsize = ax_label_fontsize)\n",
    "ax[0].set_xticklabels(['플레이', '중단'], \n",
    "                      fontsize = ax_ticklabel_fontsize)\n",
    "ax[0].grid(True, axis = 'y', color = 'white')\n",
    "\n",
    "# 2. 플레이하지 않는 캐릭터의 명성 구간\n",
    "data = df[df['is_playing'] == False]['dungeon'].value_counts().to_frame().reset_index()\n",
    "\n",
    "sns.barplot(data = data,\n",
    "           x = 'index',\n",
    "           y = 'dungeon',\n",
    "           ax = ax[1],\n",
    "            color = sns.color_palette('deep')[1])\n",
    "\n",
    "ax[1].bar_label(ax[1].containers[0], \n",
    "                fontsize = barlabel_fontsize)\n",
    "ax[1].set_title('명성 구간에 따른 플레이 중단 캐릭터 수', \n",
    "                fontsize = ax_title_fontsize, \n",
    "                y=ax_title_y)\n",
    "sns.despine(left = True)\n",
    "ax[1].axes.yaxis.set_visible(False)\n",
    "ax[1].set_xlabel('입장 가능한 최상위 던전',\n",
    "                 fontsize = ax_label_fontsize,\n",
    "                y= 1.5)\n",
    "ax[1].set_xticklabels(ax[1].get_xticklabels(), \n",
    "                      rotation = 30, \n",
    "                      fontsize = ax_ticklabel_fontsize)\n",
    "ax[1].legend().set_visible(False)\n",
    "ax[1].grid(True, axis = 'y')\n",
    "\n",
    "\n",
    "fig.tight_layout() # 그래프 저장 시 잘리는 현상 개선\n",
    "\n",
    "fig.savefig('result.png', pad_inches = 0)"
   ]
  },
  {
   "cell_type": "code",
   "execution_count": 20,
   "id": "27375afb-517f-40a6-9485-a811fb7b41b6",
   "metadata": {},
   "outputs": [
    {
     "data": {
      "text/plain": [
       "<Figure size 432x288 with 0 Axes>"
      ]
     },
     "metadata": {},
     "output_type": "display_data"
    }
   ],
   "source": []
  },
  {
   "cell_type": "code",
   "execution_count": null,
   "id": "4dcc21e4-0695-478a-bad9-1d70fa746118",
   "metadata": {},
   "outputs": [],
   "source": []
  }
 ],
 "metadata": {
  "kernelspec": {
   "display_name": "Python 3 (ipykernel)",
   "language": "python",
   "name": "python3"
  },
  "language_info": {
   "codemirror_mode": {
    "name": "ipython",
    "version": 3
   },
   "file_extension": ".py",
   "mimetype": "text/x-python",
   "name": "python",
   "nbconvert_exporter": "python",
   "pygments_lexer": "ipython3",
   "version": "3.9.13"
  }
 },
 "nbformat": 4,
 "nbformat_minor": 5
}
