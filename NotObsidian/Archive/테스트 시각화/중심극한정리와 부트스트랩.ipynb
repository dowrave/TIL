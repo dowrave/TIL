{
 "cells": [
  {
   "cell_type": "code",
   "execution_count": 21,
   "id": "5e23c0fd-0ff7-4d03-9fa1-1e29d80fad89",
   "metadata": {},
   "outputs": [
    {
     "data": {
      "text/plain": [
       "Text(0.5, 1.0, 'Population Distribution')"
      ]
     },
     "execution_count": 21,
     "metadata": {},
     "output_type": "execute_result"
    },
    {
     "data": {
      "image/png": "[encoded data removed]",
      "text/plain": [
       "<Figure size 432x288 with 1 Axes>"
      ]
     },
     "metadata": {
      "needs_background": "light"
     },
     "output_type": "display_data"
    }
   ],
   "source": [
    "import pandas as pd\n",
    "import numpy as np\n",
    "import matplotlib.pyplot as plt\n",
    "pd.set_option(\"display.precision\", 2)\n",
    "\n",
    "\n",
    "# 각 데이터프레임의 정보를 보여줌(describe)대신 쓰는 거~\n",
    "def get_info(df, col_list):\n",
    "    list_std = []\n",
    "    list_1Q = []\n",
    "    list_mean = []\n",
    "    list_median = []\n",
    "    \n",
    "    for col in col_list:\n",
    "        list_1Q.append(round(np.percentile(df[col], 25), 2))\n",
    "        list_mean.append(round(df[col].mean(), 2))\n",
    "        list_median.append(round(df[col].median(), 2))        \n",
    "        list_std.append(round(df[col].std(), 2))        \n",
    "        \n",
    "    df_info = pd.DataFrame({'열이름' : col_list,\n",
    "                           '크기' : len(df), \n",
    "                           '표준편차' : list_std,\n",
    "                           '1Q' : list_1Q,\n",
    "                           '평균' : list_mean,\n",
    "                           '중앙값' : list_median}).set_index('열이름').T\n",
    "    \n",
    "    return df_info\n",
    "\n",
    "# 시드 고정\n",
    "np.random.seed(100)\n",
    "\n",
    "N = 100000 # 모집단 크기\n",
    "population_x = np.random.exponential(scale = 10, size = N) # 지수분포 : scale = 1 /lambda\n",
    "df_population = pd.DataFrame({\"모집단\" : population_x})\n",
    "\n",
    "df_population.plot(kind = 'hist', bins = 100)\n",
    "plt.title(\"Population Distribution\")"
   ]
  },
  {
   "cell_type": "code",
   "execution_count": 41,
   "id": "4c582a67-0d0e-42c2-b677-60ffdbf9f1d0",
   "metadata": {},
   "outputs": [
    {
     "name": "stdout",
     "output_type": "stream",
     "text": [
      "공식에 따른 표준 오차 :  1.58\n"
     ]
    },
    {
     "data": {
      "text/html": [
       "<div>\n",
       "<style scoped>\n",
       "    .dataframe tbody tr th:only-of-type {\n",
       "        vertical-align: middle;\n",
       "    }\n",
       "\n",
       "    .dataframe tbody tr th {\n",
       "        vertical-align: top;\n",
       "    }\n",
       "\n",
       "    .dataframe thead th {\n",
       "        text-align: right;\n",
       "    }\n",
       "</style>\n",
       "<table border=\"1\" class=\"dataframe\">\n",
       "  <thead>\n",
       "    <tr style=\"text-align: right;\">\n",
       "      <th>열이름</th>\n",
       "      <th>모집단</th>\n",
       "    </tr>\n",
       "  </thead>\n",
       "  <tbody>\n",
       "    <tr>\n",
       "      <th>크기</th>\n",
       "      <td>100000.00</td>\n",
       "    </tr>\n",
       "    <tr>\n",
       "      <th>표준편차</th>\n",
       "      <td>9.99</td>\n",
       "    </tr>\n",
       "    <tr>\n",
       "      <th>1Q</th>\n",
       "      <td>2.88</td>\n",
       "    </tr>\n",
       "    <tr>\n",
       "      <th>평균</th>\n",
       "      <td>10.00</td>\n",
       "    </tr>\n",
       "    <tr>\n",
       "      <th>중앙값</th>\n",
       "      <td>6.95</td>\n",
       "    </tr>\n",
       "  </tbody>\n",
       "</table>\n",
       "</div>"
      ],
      "text/plain": [
       "열이름         모집단\n",
       "크기    100000.00\n",
       "표준편차       9.99\n",
       "1Q         2.88\n",
       "평균        10.00\n",
       "중앙값        6.95"
      ]
     },
     "execution_count": 41,
     "metadata": {},
     "output_type": "execute_result"
    }
   ],
   "source": [
    "# 1. 표본 분포\n",
    "sample_mean = []\n",
    "\n",
    "k = 70 # 표본 수집 횟수\n",
    "n = 40 # 각 표본의 크기\n",
    "\n",
    "# 각 표본의 평균을 구하는 과정\n",
    "for i in range(k):\n",
    "    chosen_idx = np.random.choice(N, replace = False, size = n) # 모집단에서 n개만큼의 표본 무작위로 추출\n",
    "    x = df_population.iloc[chosen_idx]\n",
    "    \n",
    "    avg = x['모집단'].mean()\n",
    "    \n",
    "    sample_mean.append(avg)\n",
    "    \n",
    "# 70개의 평균으로 이뤄진 표집 분포\n",
    "df_sample_distri = pd.DataFrame({\"표집분포\" : sample_mean})\n",
    "\n",
    "\n",
    "print(\"공식에 따른 표준 오차 : \", round(df_population['모집단'].std()/np.sqrt(n), 3))\n",
    "\n",
    "\n",
    "get_info(df_population, ['모집단'])"
   ]
  },
  {
   "cell_type": "code",
   "execution_count": 42,
   "id": "417cdb87-4327-49a1-99c0-bfad615c1732",
   "metadata": {},
   "outputs": [
    {
     "data": {
      "text/html": [
       "<div>\n",
       "<style scoped>\n",
       "    .dataframe tbody tr th:only-of-type {\n",
       "        vertical-align: middle;\n",
       "    }\n",
       "\n",
       "    .dataframe tbody tr th {\n",
       "        vertical-align: top;\n",
       "    }\n",
       "\n",
       "    .dataframe thead th {\n",
       "        text-align: right;\n",
       "    }\n",
       "</style>\n",
       "<table border=\"1\" class=\"dataframe\">\n",
       "  <thead>\n",
       "    <tr style=\"text-align: right;\">\n",
       "      <th>열이름</th>\n",
       "      <th>표집분포</th>\n",
       "    </tr>\n",
       "  </thead>\n",
       "  <tbody>\n",
       "    <tr>\n",
       "      <th>크기</th>\n",
       "      <td>70.00</td>\n",
       "    </tr>\n",
       "    <tr>\n",
       "      <th>표준편차</th>\n",
       "      <td>1.64</td>\n",
       "    </tr>\n",
       "    <tr>\n",
       "      <th>1Q</th>\n",
       "      <td>8.93</td>\n",
       "    </tr>\n",
       "    <tr>\n",
       "      <th>평균</th>\n",
       "      <td>10.13</td>\n",
       "    </tr>\n",
       "    <tr>\n",
       "      <th>중앙값</th>\n",
       "      <td>9.96</td>\n",
       "    </tr>\n",
       "  </tbody>\n",
       "</table>\n",
       "</div>"
      ],
      "text/plain": [
       "열이름    표집분포\n",
       "크기    70.00\n",
       "표준편차   1.64\n",
       "1Q     8.93\n",
       "평균    10.13\n",
       "중앙값    9.96"
      ]
     },
     "execution_count": 42,
     "metadata": {},
     "output_type": "execute_result"
    }
   ],
   "source": [
    "get_info(df_sample_distri, ['표집분포'])\n"
   ]
  },
  {
   "cell_type": "markdown",
   "id": "05a583de-f72d-45fb-a7ff-eefe1807ff6d",
   "metadata": {},
   "source": [
    "- 여러번 반복해도 표집 평균은 모평균에 근접하게 나타남을 알 수 있음"
   ]
  },
  {
   "cell_type": "code",
   "execution_count": 97,
   "id": "ade20f87-b06f-4291-856a-657f64140467",
   "metadata": {
    "collapsed": true,
    "jupyter": {
     "outputs_hidden": true
    },
    "tags": []
   },
   "outputs": [
    {
     "name": "stderr",
     "output_type": "stream",
     "text": [
      "C:\\Users\\dowra\\AppData\\Roaming\\Python\\Python39\\site-packages\\pandas\\core\\frame.py:5034: SettingWithCopyWarning: \n",
      "A value is trying to be set on a copy of a slice from a DataFrame\n",
      "\n",
      "See the caveats in the documentation: https://pandas.pydata.org/pandas-docs/stable/user_guide/indexing.html#returning-a-view-versus-a-copy\n",
      "  return super().rename(\n"
     ]
    },
    {
     "data": {
      "text/html": [
       "<div>\n",
       "<style scoped>\n",
       "    .dataframe tbody tr th:only-of-type {\n",
       "        vertical-align: middle;\n",
       "    }\n",
       "\n",
       "    .dataframe tbody tr th {\n",
       "        vertical-align: top;\n",
       "    }\n",
       "\n",
       "    .dataframe thead th {\n",
       "        text-align: right;\n",
       "    }\n",
       "</style>\n",
       "<table border=\"1\" class=\"dataframe\">\n",
       "  <thead>\n",
       "    <tr style=\"text-align: right;\">\n",
       "      <th>열이름</th>\n",
       "      <th>표본</th>\n",
       "    </tr>\n",
       "  </thead>\n",
       "  <tbody>\n",
       "    <tr>\n",
       "      <th>크기</th>\n",
       "      <td>50.00</td>\n",
       "    </tr>\n",
       "    <tr>\n",
       "      <th>표준편차</th>\n",
       "      <td>7.84</td>\n",
       "    </tr>\n",
       "    <tr>\n",
       "      <th>1Q</th>\n",
       "      <td>5.34</td>\n",
       "    </tr>\n",
       "    <tr>\n",
       "      <th>평균</th>\n",
       "      <td>10.88</td>\n",
       "    </tr>\n",
       "    <tr>\n",
       "      <th>중앙값</th>\n",
       "      <td>9.11</td>\n",
       "    </tr>\n",
       "  </tbody>\n",
       "</table>\n",
       "</div>"
      ],
      "text/plain": [
       "열이름      표본\n",
       "크기    50.00\n",
       "표준편차   7.84\n",
       "1Q     5.34\n",
       "평균    10.88\n",
       "중앙값    9.11"
      ]
     },
     "execution_count": 97,
     "metadata": {},
     "output_type": "execute_result"
    }
   ],
   "source": [
    "# 부트스트랩\n",
    "\n",
    "# 1. 표본 만들기\n",
    "n = 50\n",
    "chosen_idx = np.random.choice(N, replace = False, size = n)\n",
    "df_sample = df_population.iloc[chosen_idx]\n",
    "df_sample.rename(columns = {\"모집단\" : \"표본\"}, inplace = True)\n",
    "df_sample.reset_index(drop = True, inplace = True)\n",
    "\n",
    "# 2. 부트스트랩 표본 만들기\n",
    "sample_std = []\n",
    "sample_Q1 = []\n",
    "sample_mean = []\n",
    "sample_median = []\n",
    "\n",
    "k = 70 # 표본에서 부트스트랩 표본을 뽑는 횟수\n",
    "n_bs = 30 # 부트스트랩 표본 크기\n",
    "\n",
    "for i in range(k):\n",
    "    \n",
    "    chosen_idx = np.random.choice(n, replace = True, size = n_bs)\n",
    "    x = df_sample.iloc[chosen_idx]\n",
    "    \n",
    "    # 통계치 계산\n",
    "    std = np.std(x)\n",
    "    Q1 =  np.percentile(x, 25)\n",
    "    avg = np.mean(x)\n",
    "    median = np.median(x)\n",
    "    \n",
    "    # 리스트에 추가\n",
    "    sample_std.append(std)\n",
    "    sample_Q1.append(Q1)\n",
    "    sample_mean.append(avg)\n",
    "    sample_median.append(median)\n",
    "    \n",
    "columns = ['크기', '표준편차', '1Q', '평균', '중앙값']\n",
    "sam_dist = np.array([len(sample_mean), \n",
    "                     np.mean(sample_std), \n",
    "                     np.mean(sample_Q1), \n",
    "                     np.mean(sample_mean), \n",
    "                     np.mean(sample_median)])\n",
    "\n",
    "\n",
    "df_sam_dist = pd.DataFrame(sam_dist.reshape(-1, len(sam_dist)), columns = columns).T\n",
    "\n",
    "df_sam_dist.rename(columns = {0 : '표집분포_BS'}, inplace = True)\n",
    "\n",
    "# 모집단에서 뽑은 표본 1개 (부트스트랩에 사용됨)\n",
    "get_info(df_sample, ['표본'])"
   ]
  },
  {
   "cell_type": "code",
   "execution_count": 98,
   "id": "ba514a07-7346-4639-8520-a71611c93cc6",
   "metadata": {},
   "outputs": [
    {
     "data": {
      "text/html": [
       "<div>\n",
       "<style scoped>\n",
       "    .dataframe tbody tr th:only-of-type {\n",
       "        vertical-align: middle;\n",
       "    }\n",
       "\n",
       "    .dataframe tbody tr th {\n",
       "        vertical-align: top;\n",
       "    }\n",
       "\n",
       "    .dataframe thead th {\n",
       "        text-align: right;\n",
       "    }\n",
       "</style>\n",
       "<table border=\"1\" class=\"dataframe\">\n",
       "  <thead>\n",
       "    <tr style=\"text-align: right;\">\n",
       "      <th></th>\n",
       "      <th>표집분포_BS</th>\n",
       "    </tr>\n",
       "  </thead>\n",
       "  <tbody>\n",
       "    <tr>\n",
       "      <th>크기</th>\n",
       "      <td>70.00</td>\n",
       "    </tr>\n",
       "    <tr>\n",
       "      <th>표준편차</th>\n",
       "      <td>7.72</td>\n",
       "    </tr>\n",
       "    <tr>\n",
       "      <th>1Q</th>\n",
       "      <td>5.30</td>\n",
       "    </tr>\n",
       "    <tr>\n",
       "      <th>평균</th>\n",
       "      <td>10.84</td>\n",
       "    </tr>\n",
       "    <tr>\n",
       "      <th>중앙값</th>\n",
       "      <td>8.97</td>\n",
       "    </tr>\n",
       "  </tbody>\n",
       "</table>\n",
       "</div>"
      ],
      "text/plain": [
       "      표집분포_BS\n",
       "크기      70.00\n",
       "표준편차     7.72\n",
       "1Q       5.30\n",
       "평균      10.84\n",
       "중앙값      8.97"
      ]
     },
     "execution_count": 98,
     "metadata": {},
     "output_type": "execute_result"
    }
   ],
   "source": [
    "df_sam_dist"
   ]
  },
  {
   "cell_type": "markdown",
   "id": "babadb13-ade1-489d-af1b-b77a5a0e4b50",
   "metadata": {},
   "source": [
    "- 모평균인 10 근처에서 부트스트랩 평균 값을 볼 수 있음"
   ]
  },
  {
   "cell_type": "code",
   "execution_count": null,
   "id": "c3e9f12c-5adc-4dec-ad0f-f042759508ef",
   "metadata": {},
   "outputs": [],
   "source": []
  }
 ],
 "metadata": {
  "kernelspec": {
   "display_name": "Python 3 (ipykernel)",
   "language": "python",
   "name": "python3"
  },
  "language_info": {
   "codemirror_mode": {
    "name": "ipython",
    "version": 3
   },
   "file_extension": ".py",
   "mimetype": "text/x-python",
   "name": "python",
   "nbconvert_exporter": "python",
   "pygments_lexer": "ipython3",
   "version": "3.9.13"
  }
 },
 "nbformat": 4,
 "nbformat_minor": 5
}
