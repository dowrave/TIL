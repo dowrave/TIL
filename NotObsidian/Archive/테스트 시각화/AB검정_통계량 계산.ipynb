{
 "cells": [
  {
   "cell_type": "markdown",
   "id": "53acb485-4fac-453c-afaa-a09632ef910c",
   "metadata": {},
   "source": [
    "## 가설 검정과 검정 통계량 계산 예제\n",
    "- 문구 : 친환경 세제 VS 천연 세제\n",
    "- 클릭률을 $P$라고 하고, A는 친환경 세제, B는 천연 세제\n",
    "\n",
    "### 1. 가설 설정\n",
    "- 대립가설 : 문구에 따른 차이가 있다(친환경이 높다)\n",
    "- 귀무가설 : 문구에 따른 차이가 없다\n",
    "$$\n",
    "\\begin{matrix}\n",
    "H_0 : P_A = P_B \\\\\n",
    "H_1 : P_A > P_B\n",
    "\\end{matrix}\n",
    "$$\n",
    "\n",
    "### 2. 유의수준 설정 : 0.05\n",
    "\n",
    "### 3. 검정 방법 선택\n",
    "- 두 그룹에 대한 비율 : 두 독립표본 비율 검정\n",
    "- A/B 테스트 진행 \n",
    "    - 사이트 이용자 중 1500명을 무작위로 추출, 친환경 세제를 노출시킴\n",
    "    - 사이트 이용자 중 1500명을 무작위로 추출, 천연 세제를 노출시킴\n",
    "---\n",
    "- 이러한 상황에서 결과값을 얻었을 때 Z분포를 통한 검정 통계량을 계산하기"
   ]
  },
  {
   "cell_type": "code",
   "execution_count": 1,
   "id": "90093f69-3dfc-4038-86d1-45f62c5ebb7a",
   "metadata": {},
   "outputs": [
    {
     "data": {
      "text/html": [
       "<div>\n",
       "<style scoped>\n",
       "    .dataframe tbody tr th:only-of-type {\n",
       "        vertical-align: middle;\n",
       "    }\n",
       "\n",
       "    .dataframe tbody tr th {\n",
       "        vertical-align: top;\n",
       "    }\n",
       "\n",
       "    .dataframe thead th {\n",
       "        text-align: right;\n",
       "    }\n",
       "</style>\n",
       "<table border=\"1\" class=\"dataframe\">\n",
       "  <thead>\n",
       "    <tr style=\"text-align: right;\">\n",
       "      <th></th>\n",
       "      <th>버전</th>\n",
       "      <th>방문자</th>\n",
       "      <th>클릭자수</th>\n",
       "    </tr>\n",
       "  </thead>\n",
       "  <tbody>\n",
       "    <tr>\n",
       "      <th>0</th>\n",
       "      <td>친환경</td>\n",
       "      <td>1500</td>\n",
       "      <td>139</td>\n",
       "    </tr>\n",
       "    <tr>\n",
       "      <th>1</th>\n",
       "      <td>천연</td>\n",
       "      <td>1500</td>\n",
       "      <td>118</td>\n",
       "    </tr>\n",
       "  </tbody>\n",
       "</table>\n",
       "</div>"
      ],
      "text/plain": [
       "    버전   방문자  클릭자수\n",
       "0  친환경  1500   139\n",
       "1   천연  1500   118"
      ]
     },
     "execution_count": 1,
     "metadata": {},
     "output_type": "execute_result"
    }
   ],
   "source": [
    "import pandas as pd\n",
    "import numpy as np\n",
    "\n",
    "df = pd.DataFrame({\n",
    "    '버전' : ['친환경', '천연'],\n",
    "    '방문자' : [1500, 1500],\n",
    "    '클릭자수' : [139, 118],\n",
    "})\n",
    "df"
   ]
  },
  {
   "cell_type": "markdown",
   "id": "a7992e51-a812-4e02-bb9f-0bd0e9781795",
   "metadata": {},
   "source": [
    "### 라이브러리 이용해서 계산하기\n",
    "$$\n",
    "\\begin{matrix}\n",
    "Z = \\frac{\\hat{p_1} - \\hat{p_2}}{\\sqrt{\\bar{p}(1-\\bar{p})(\\frac{1}{n_1} + \\frac{1}{n_2})}} \\\\\n",
    "\\bar{p} = \\frac{n_1\\hat{p_1} + n_2\\hat{p_2}}{n_1 + n_2}\n",
    "\\end{matrix}\n",
    "$$\n",
    "- 이런 식이 쓰인다는 것만 알자 : 사실 필요할 때 구해 먹으면 될 듯\n",
    "---"
   ]
  },
  {
   "cell_type": "code",
   "execution_count": 7,
   "id": "e4bc3192-df1a-4eaf-bbb5-423a7aa82639",
   "metadata": {},
   "outputs": [
    {
     "name": "stdout",
     "output_type": "stream",
     "text": [
      "z_score = 1.370, 확률 : 0.085\n"
     ]
    }
   ],
   "source": [
    "from scipy import stats\n",
    "from statsmodels.stats.proportion import proportions_ztest\n",
    "\n",
    "converted = np.array(list(df['클릭자수']))\n",
    "sizes = np.array(list(df['방문자']))\n",
    "\n",
    "# 두 독립표본 비율 검정 함수\n",
    "z_score, z_score_pr = proportions_ztest(converted, sizes, alternative ='larger')\n",
    "print(f\"z_score = {z_score:.3f}, 확률 : {z_score_pr:.3f}\")"
   ]
  },
  {
   "cell_type": "markdown",
   "id": "d79e7181-b3d0-4a2c-b69b-7b4f74003af4",
   "metadata": {},
   "source": [
    "- 사전에 유의수준을 5%로 설정했다고 하자. p-value 값이 8%로 유의 수준보다 높기 때문에 **채택역**에 있으며, 이는 **귀무가설(용어에 따른 차이가 없다)을 지지**하게 된다\n",
    "- 즉, **친환경 vs 천연 이라는 용어의 변화로 인한 제품의 클릭 수 변화가 유의미하지 않다**라는 결론을 내릴 수 있는 것이다. "
   ]
  },
  {
   "cell_type": "code",
   "execution_count": null,
   "id": "52b09930-258b-4092-a6f3-8a903ccee45c",
   "metadata": {},
   "outputs": [],
   "source": []
  }
 ],
 "metadata": {
  "kernelspec": {
   "display_name": "Python 3 (ipykernel)",
   "language": "python",
   "name": "python3"
  },
  "language_info": {
   "codemirror_mode": {
    "name": "ipython",
    "version": 3
   },
   "file_extension": ".py",
   "mimetype": "text/x-python",
   "name": "python",
   "nbconvert_exporter": "python",
   "pygments_lexer": "ipython3",
   "version": "3.9.13"
  }
 },
 "nbformat": 4,
 "nbformat_minor": 5
}
