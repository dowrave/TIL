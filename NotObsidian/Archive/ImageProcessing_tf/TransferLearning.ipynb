{
  "nbformat": 4,
  "nbformat_minor": 0,
  "metadata": {
    "colab": {
      "name": "TransferLearning.ipynb",
      "private_outputs": true,
      "provenance": [],
      "collapsed_sections": [],
      "authorship_tag": "ABX9TyMB7imgsaqtENttr9vm0fXB",
      "include_colab_link": true
    },
    "kernelspec": {
      "name": "python3",
      "display_name": "Python 3"
    },
    "language_info": {
      "name": "python"
    },
    "accelerator": "GPU"
  },
  "cells": [
    {
      "cell_type": "markdown",
      "metadata": {
        "id": "view-in-github",
        "colab_type": "text"
      },
      "source": [
        "<a href=\"https://colab.research.google.com/github/dowrave/RoadToImageSeg_GAN/blob/main/TransferLearning.ipynb\" target=\"_parent\"><img src=\"https://colab.research.google.com/assets/colab-badge.svg\" alt=\"Open In Colab\"/></a>"
      ]
    },
    {
      "cell_type": "markdown",
      "source": [
        "# 전이 학습(Transfer Learning)\n",
        "- 사전 훈련된 네트워크에서 전이 학습을 사용하여 이미지 분류에 이용할 수 있다\n",
        "- 이 방법의 장점으로는, <b> 적은 데이터가 있더라도 이미지 분류를 수행할 수 있다 </b>는 점에 있다.\n",
        "- [텐서플로우 튜토리얼](https://www.tensorflow.org/tutorials/images/transfer_learning?hl=ko)\n",
        "\n",
        "### 역시 코드로 써봐야 뭐하는지 알 수 있음\n"
      ],
      "metadata": {
        "id": "rLX4fjVD5YBe"
      }
    },
    {
      "cell_type": "code",
      "execution_count": null,
      "metadata": {
        "id": "FEwsc6vt4mhg"
      },
      "outputs": [],
      "source": [
        "import matplotlib.pyplot as plt\n",
        "import numpy as np\n",
        "import os\n",
        "import tensorflow as tf\n",
        "\n",
        "from tensorflow.keras.preprocessing import image_dataset_from_directory"
      ]
    },
    {
      "cell_type": "markdown",
      "source": [
        "## 데이터 전처리\n",
        "\n",
        "### 이미지 다운로드"
      ],
      "metadata": {
        "id": "vCYaFXJ26J_d"
      }
    },
    {
      "cell_type": "code",
      "source": [
        "_URL = 'https://storage.googleapis.com/mledu-datasets/cats_and_dogs_filtered.zip'\n",
        "path_to_zip = tf.keras.utils.get_file('cats_and_dogs_zip', \n",
        "                                      origin = _URL, # URL의 파일을 다운받음\n",
        "                                      extract = True) # 압축도 풂\n",
        "PATH = os.path.join(os.path.dirname(path_to_zip), 'cats_and_dogs_filtered') # 경로명 설정. dirname을 이용할 수 있다.\n",
        "\n",
        "train_dir = os.path.join(PATH, 'train')\n",
        "validation_dir = os.path.join(PATH, 'validation')\n",
        "\n",
        "BATCH_SIZE = 32\n",
        "IMG_SIZE = (160, 160)\n",
        "\n",
        "train_dataset = image_dataset_from_directory(train_dir, shuffle = True,\n",
        "                                             batch_size = BATCH_SIZE, image_size = IMG_SIZE) # 데이터셋에 집어넣음\n",
        "\n",
        "# BATCH SIZE는 보통 모델에 집어넣을 때 정하는 거 아니었나? -> train_dataset은 BatchDataset 이라는 자료 유형을 가짐."
      ],
      "metadata": {
        "id": "rfU-Kbsm6Hoc"
      },
      "execution_count": null,
      "outputs": []
    },
    {
      "cell_type": "code",
      "source": [
        "(160, 160) + (3, )"
      ],
      "metadata": {
        "id": "rK2OLotN_o6w"
      },
      "execution_count": null,
      "outputs": []
    },
    {
      "cell_type": "code",
      "source": [
        "validation_dataset = image_dataset_from_directory(validation_dir, shuffle = True, \n",
        "                                                  batch_size = BATCH_SIZE, image_size = IMG_SIZE)"
      ],
      "metadata": {
        "id": "cLaeEpCp6ui_"
      },
      "execution_count": null,
      "outputs": []
    },
    {
      "cell_type": "code",
      "source": [
        "class_names = train_dataset.class_names\n",
        "\n",
        "plt.figure(figsize = (10, 10))\n",
        "for images, labels in train_dataset.take(1):\n",
        "  for i in range(9):\n",
        "    ax = plt.subplot(3, 3, i+1)\n",
        "    plt.imshow(images[i].numpy().astype('uint8'))\n",
        "    plt.title(class_names[labels[i]])\n",
        "    plt.axis('off')"
      ],
      "metadata": {
        "id": "JYqhARkF7V_k"
      },
      "execution_count": null,
      "outputs": []
    },
    {
      "cell_type": "code",
      "source": [
        "# 테스트 세트 만들기\n",
        "val_batches = tf.data.experimental.cardinality(validation_dataset) # 검증 세트에서 사용할 수 있는 데이터 배치 수 확인, 그 중 20%를 테스트 세트로 이동\n",
        "test_dataset = validation_dataset.take(val_batches // 5) # 6\n",
        "validation_dataset = validation_dataset.skip(val_batches // 5) # 26"
      ],
      "metadata": {
        "id": "D0NlIZRB7koZ"
      },
      "execution_count": null,
      "outputs": []
    },
    {
      "cell_type": "code",
      "source": [
        "print(tf.data.experimental.cardinality(validation_dataset), tf.data.experimental.cardinality(test_dataset))"
      ],
      "metadata": {
        "id": "uxZugFjx7-ot"
      },
      "execution_count": null,
      "outputs": []
    },
    {
      "cell_type": "markdown",
      "source": [
        "### 성능을 높이는 데이터세트 구성\n",
        "- 버퍼링된 프리페치(Prefetch)를 사용하여 I/O 차단 없이 디스크에서 이미지를 드롭한다. (설정이 없다면 파일 읽기 - 불러오기 - 훈련하기 3가지 기능이 동시에 실행되지 않고 하나씩만 실행됨.)"
      ],
      "metadata": {
        "id": "yW2qCTFoBQWn"
      }
    },
    {
      "cell_type": "code",
      "source": [
        "AUTOTUNE = tf.data.AUTOTUNE\n",
        "\n",
        "train_dataset = train_dataset.prefetch(buffer_size = AUTOTUNE)\n",
        "validation_dataset = validation_dataset.prefetch(buffer_size = AUTOTUNE)\n",
        "test_dataset = test_dataset.prefetch(buffer_size = AUTOTUNE)"
      ],
      "metadata": {
        "id": "B11RcLlrBNx4"
      },
      "execution_count": null,
      "outputs": []
    },
    {
      "cell_type": "markdown",
      "source": [
        "### 데이터 증강\n",
        "- 이미지 데이터셋이 크지 않다면, 회전, 뒤집기 등 무작위이지만 사실적인 변환을 적용해 샘플에 다양성을 부여한다."
      ],
      "metadata": {
        "id": "4oTamMabELJv"
      }
    },
    {
      "cell_type": "code",
      "source": [
        "data_augmentation = tf.keras.Sequential([\n",
        "                                         tf.keras.layers.experimental.preprocessing.RandomFlip('horizontal'),\n",
        "                                         tf.keras.layers.experimental.preprocessing.RandomRotation(0.2),\n",
        "])\n",
        "# 위 레이어는 model.fit을 호출할 때 훈련 중에만 활성화되며, evaluate 또는 fit의 추론모드 에서 모델을 사용하면 비활성화 된다."
      ],
      "metadata": {
        "id": "Ga6KIb208GE-"
      },
      "execution_count": null,
      "outputs": []
    },
    {
      "cell_type": "code",
      "source": [
        "# 증강 결과 확인\n",
        "for image, _ in train_dataset.take(1): # 1개의 데이터셋을 불러옴\n",
        "  plt.figure(figsize = (10, 10))\n",
        "  first_image = image[0]\n",
        "  for i in range(9):\n",
        "    ax = plt.subplot(3, 3, i+1)\n",
        "    augmented_image = data_augmentation(tf.expand_dims(first_image, 0))\n",
        "    plt.imshow(augmented_image[0] / 255)\n",
        "    plt.axis('off')"
      ],
      "metadata": {
        "id": "9eFBL8TMEbWi"
      },
      "execution_count": null,
      "outputs": []
    },
    {
      "cell_type": "markdown",
      "source": [
        "### 픽셀 값 재조정\n",
        "- 다운받을 모델은 [-1, 1]의 픽셀 값을 예상한다. "
      ],
      "metadata": {
        "id": "rhW5RkpgFVIz"
      }
    },
    {
      "cell_type": "code",
      "source": [
        "preprocess_input = tf.keras.applications.mobilenet_v2.preprocess_input"
      ],
      "metadata": {
        "id": "yGXZR3gSE0hX"
      },
      "execution_count": null,
      "outputs": []
    },
    {
      "cell_type": "code",
      "source": [
        "# 픽셀값 스케일링\n",
        "rescale = tf.keras.layers.experimental.preprocessing.Rescaling(1./127.5, offset = -1)"
      ],
      "metadata": {
        "id": "Yoj2vrKJFdIY"
      },
      "execution_count": null,
      "outputs": []
    },
    {
      "cell_type": "code",
      "source": [
        "# 만약 다른 모델을 사용한다면 해당 API 문서에 가서 입력값으로 뭘 요구하는 지 확인할 것\n",
        "# 혹은 preprocess_input 함수가 내장되어 있으니 그걸 써도 된다."
      ],
      "metadata": {
        "id": "uHjhfwapFjDY"
      },
      "execution_count": null,
      "outputs": []
    },
    {
      "cell_type": "code",
      "source": [
        "# 사전 훈련된 CNN에서 기본 모델 생성하기\n",
        "# 불러올 모델은 140만개의 이미지와 1000개의 클래스로 구성된 대규모 데이터셋인 ImageNet을 사용해 훈련된 모델이다.\n",
        "# 특성 추출에 사용할 MobileNet V2 레이어를 선택해야 한다. 어.. 그냥 코드를 써보고 보자"
      ],
      "metadata": {
        "id": "rBTVNv8XFpWu"
      },
      "execution_count": null,
      "outputs": []
    },
    {
      "cell_type": "code",
      "source": [
        "IMG_SHAPE = IMG_SIZE + (3, )\n",
        "base_model = tf.keras.applications.MobileNetV2(input_shape = IMG_SHAPE,\n",
        "                                               include_top = False, # top에는 분류 층이 들어간다. 이를 제외함\n",
        "                                               weights = 'imagenet')"
      ],
      "metadata": {
        "id": "Ies78ybTF8ln"
      },
      "execution_count": null,
      "outputs": []
    },
    {
      "cell_type": "code",
      "source": [
        "# 이 특징 추출기는 160 160 3 -> 5 5 1280으로 변환한다.\n",
        "image_batch, label_batch = next(iter(train_dataset))\n",
        "feature_batch = base_model(image_batch) \n",
        "print(feature_batch.shape)"
      ],
      "metadata": {
        "id": "eTaia-wEGFd9"
      },
      "execution_count": null,
      "outputs": []
    },
    {
      "cell_type": "markdown",
      "source": [
        "## 특징 추출"
      ],
      "metadata": {
        "id": "zM4i036lHQOE"
      }
    },
    {
      "cell_type": "code",
      "source": [
        "# Base Model 고정하기 : 주어진 레이어의 가중치 업데이트를 방지하는 코드임\n",
        "\n",
        "base_model.trainable = False # 전체 모델의 trainable을 false로 가져감"
      ],
      "metadata": {
        "id": "KauVj0lnHOg-"
      },
      "execution_count": null,
      "outputs": []
    },
    {
      "cell_type": "code",
      "source": [
        "# 많은 모델의 뒤에는 BatchNormalization 레이어가 포함되어 있다.\n",
        "# 위에서 trainable = False로 가져갔기 때문에 이는 '추론 모드'에서 실행되며, 평균 & 분산 통계를 업데이트하지 않는다.\n",
        "base_model.summary()"
      ],
      "metadata": {
        "id": "RbCL45AyHbDI"
      },
      "execution_count": null,
      "outputs": []
    },
    {
      "cell_type": "code",
      "source": [
        "# 분류층 추가\n",
        "global_average_layer = tf.keras.layers.GlobalAveragePooling2D() # 특성을 이미지당 1개의 1280 element를 갖는 벡터로 변환, 5*5 공간 위치 평균을 구한다\n",
        "feature_batch_average = global_average_layer(feature_batch)\n",
        "print(feature_batch_average.shape)"
      ],
      "metadata": {
        "id": "jXkF4Bx4HytD"
      },
      "execution_count": null,
      "outputs": []
    },
    {
      "cell_type": "code",
      "source": [
        "prediction_layer = tf.keras.layers.Dense(1) # 이미지당 단일 예측으로 변환. logit 혹은 원시 예측 값으로 취급되므로 활성화함수가 필요 없다.\n",
        "                                            # 즉 양수는 클래스 1, 음수는 클래스 0.\n",
        "prediction_batch = prediction_layer(feature_batch_average)\n",
        "print(prediction_batch.shape)"
      ],
      "metadata": {
        "id": "Knnt2AgeIB_v"
      },
      "execution_count": null,
      "outputs": []
    },
    {
      "cell_type": "code",
      "source": [
        "# Keras Functional API를 사용, 데이터 증강, 크기 조정, base_model 및 특성 추출기 레이어를 연결해 모델을 구축한다.\n",
        "inputs = tf.keras.Input(shape = (160, 160, 3))\n",
        "x = data_augmentation(inputs)\n",
        "x = preprocess_input(x)\n",
        "x = base_model(x, training = False)\n",
        "x = global_average_layer(x)\n",
        "x = tf.keras.layers.Dropout(0.2)(x)\n",
        "outputs = prediction_layer(x)\n",
        "model = tf.keras.Model(inputs, outputs)"
      ],
      "metadata": {
        "id": "SdN5G38bIJEQ"
      },
      "execution_count": null,
      "outputs": []
    },
    {
      "cell_type": "code",
      "source": [
        "# 모델 컴파일\n",
        "base_learning_rate = 0.0001\n",
        "model.compile(optimizer = tf.keras.optimizers.RMSprop(lr = base_learning_rate),\n",
        "              loss = tf.keras.losses.BinaryCrossentropy(from_logits = True),\n",
        "              metrics = ['accuracy'])"
      ],
      "metadata": {
        "id": "-8QziVoAI5N1"
      },
      "execution_count": null,
      "outputs": []
    },
    {
      "cell_type": "code",
      "source": [
        "model.summary()"
      ],
      "metadata": {
        "id": "SMqFlKuuJINb"
      },
      "execution_count": null,
      "outputs": []
    },
    {
      "cell_type": "code",
      "source": [
        "len(model.trainable_variables) # 2개는 가중치, 바이어스"
      ],
      "metadata": {
        "id": "DoJhOIpHJKHB"
      },
      "execution_count": null,
      "outputs": []
    },
    {
      "cell_type": "code",
      "source": [
        "# 모델 훈련\n",
        "initial_epochs = 10\n",
        "loss0, accuracy0 = model.evaluate(validation_dataset)"
      ],
      "metadata": {
        "id": "5mAk8e9rJQWt"
      },
      "execution_count": null,
      "outputs": []
    },
    {
      "cell_type": "code",
      "source": [
        "print(loss0, accuracy0)"
      ],
      "metadata": {
        "id": "6Tgl46xMJaem"
      },
      "execution_count": null,
      "outputs": []
    },
    {
      "cell_type": "code",
      "source": [
        "history = model.fit(train_dataset,\n",
        "                    epochs = initial_epochs,\n",
        "                    validation_data = validation_dataset)"
      ],
      "metadata": {
        "id": "cZ7k6eyFJik-"
      },
      "execution_count": null,
      "outputs": []
    },
    {
      "cell_type": "code",
      "source": [
        "# 학습 곡선 (Fixed Feature Extractor)\n",
        "acc = history.history['accuracy']\n",
        "val_acc = history.history['val_accuracy']\n",
        "\n",
        "loss = history.history['loss']\n",
        "val_loss = history.history['val_loss']\n",
        "\n",
        "plt.figure(figsize = (8, 8))\n",
        "plt.subplot(2, 1, 1)\n",
        "plt.plot(acc, label= ' Training Accuracy')\n",
        "plt.plot(val_acc, label = 'Validation Accuracy')\n",
        "plt.legend(loc = 'lower right')\n",
        "plt.ylabel('Accuracy')\n",
        "plt.ylim([min(plt.ylim()), 1])\n",
        "plt.title('Training and Validation Accuracy')\n",
        "\n",
        "\n",
        "plt.subplot(2, 1, 2)\n",
        "plt.plot(loss, label= ' Training Loss')\n",
        "plt.plot(val_loss, label = 'Validation Loss')\n",
        "plt.legend(loc = 'upper right')\n",
        "plt.ylabel('Cross Entropy')\n",
        "plt.ylim([0, 1.0])\n",
        "plt.title('Training and Validation Loss')\n",
        "plt.xlabel('epoch')\n",
        "plt.show()"
      ],
      "metadata": {
        "id": "pLIe1RxhJo4D"
      },
      "execution_count": null,
      "outputs": []
    },
    {
      "cell_type": "code",
      "source": [
        "# 미세 조정\n",
        "# 사전 훈련된 네트워크의 가중치는 학습 중 업데이트되지 않았다.\n",
        "# 성능 향상 방법 : 추가한 분류기의 훈련과 함께, 사전 훈련된 모델의 최상위 레이어 가중치를 훈련(=미세 조정)하는 것이다.\n",
        "# 훈련을 통해 가중치는 일반적인 특징 맵에서 개별데이터셋과 관련된 특징으로 조절된다.\n",
        "# 주의 : 사전 훈련 모델을 훈련 불가능으로 설정할 것. 무작위로 초기화된 분류기를 추가하고 모든 레이어를 훈련하려 한다면 업데이트의 크기가 너무 커짐\n",
        "      # 대충 사전 훈련이라는 말의 의미가 없어진다는 뜻"
      ],
      "metadata": {
        "id": "_aDAwp1ILCMr"
      },
      "execution_count": null,
      "outputs": []
    },
    {
      "cell_type": "code",
      "source": [
        "# base_model을 고정 해제 후 맨 아래층을 훈련할 수 없도록 설정하면 된다.\n",
        "base_model.trainable = True\n",
        "\n",
        "print('# of Layers in the base model: ', len(base_model.layers))\n",
        "\n",
        "# fine tune\n",
        "fine_tune_at = 100\n",
        "\n",
        "# FREEZE ALL LAYERS BEFORE FINE_TUNE_AT layer\n",
        "for layer in base_model.layers[:fine_tune_at]:\n",
        "  layer.trainable = False"
      ],
      "metadata": {
        "id": "Lx1zmf6kLCO5"
      },
      "execution_count": null,
      "outputs": []
    },
    {
      "cell_type": "code",
      "source": [
        "# 사전 훈련된 가중치를 다시 조절하려면 컴파일 단계에서 낮은 학습률을 사용하는 게 중요하다\n",
        "# 그렇지 않으면 너무 빠르게 과대적합됨\n",
        "model.compile(loss = tf.keras.losses.BinaryCrossentropy(from_logits = True),\n",
        "               optimizer = tf.keras.optimizers.RMSprop(lr = base_learning_rate / 10),\n",
        "               metrics = ['accuracy'])"
      ],
      "metadata": {
        "id": "_r3QlavCLCR1"
      },
      "execution_count": null,
      "outputs": []
    },
    {
      "cell_type": "code",
      "source": [
        "model.summary()"
      ],
      "metadata": {
        "id": "HA5Kn3uVLCTi"
      },
      "execution_count": null,
      "outputs": []
    },
    {
      "cell_type": "code",
      "source": [
        "len(model.trainable_variables)"
      ],
      "metadata": {
        "id": "LMKtFyxYLCZq"
      },
      "execution_count": null,
      "outputs": []
    },
    {
      "cell_type": "code",
      "source": [
        "# 모델 훈련 계속하기\n",
        "fine_tune_epochs = 10\n",
        "total_epochs = initial_epochs + fine_tune_epochs\n",
        "\n",
        "history_fine = model.fit(train_dataset,\n",
        "                         epochs = total_epochs,\n",
        "                         initial_epoch = history.epoch[-1], # 이어서 학습하는 건 그냥 여기만 잘 지정해주면 됨\n",
        "                         validation_data = validation_dataset)"
      ],
      "metadata": {
        "id": "UIP7dTfRMCJ_"
      },
      "execution_count": null,
      "outputs": []
    },
    {
      "cell_type": "code",
      "source": [
        "# 마지막 몇 층을 미세조정, 그 위의 분류기를 훈련할 때의 정확도 / 손실의 학습 곡선 확인\n",
        "acc += history_fine.history['accuracy']\n",
        "val_acc += history_fine.history['val_accuracy']\n",
        "\n",
        "loss += history_fine.history['loss']\n",
        "val_loss += history_fine.history['val_loss']"
      ],
      "metadata": {
        "id": "AfU_sn0kMC91"
      },
      "execution_count": null,
      "outputs": []
    },
    {
      "cell_type": "code",
      "source": [
        "plt.figure(figsize = (8, 8))\n",
        "plt.subplot(2, 1, 1)\n",
        "plt.plot(acc, label= ' Training Accuracy')\n",
        "plt.plot(val_acc, label = 'Validation Accuracy')\n",
        "plt.ylim([0.8, 1])\n",
        "plt.plot([initial_epochs-1, initial_epochs-1], \n",
        "         plt.ylim(), label='Start Fine Tuning')\n",
        "plt.legend(loc = 'lower right')\n",
        "plt.ylabel('Accuracy')\n",
        "plt.title('Training and Validation Accuracy')\n",
        "\n",
        "\n",
        "plt.subplot(2, 1, 2)\n",
        "plt.plot(loss, label= ' Training Loss')\n",
        "plt.plot(val_loss, label = 'Validation Loss')\n",
        "plt.ylim([0, 1.0])\n",
        "plt.plot([initial_epochs-1, initial_epochs-1], \n",
        "         plt.ylim(), label='Start Fine Tuning')\n",
        "plt.legend(loc = 'upper right')\n",
        "plt.title('Training and Validation Loss')\n",
        "plt.xlabel('epoch')\n",
        "plt.show()"
      ],
      "metadata": {
        "id": "zmEIfDYVMC7U"
      },
      "execution_count": null,
      "outputs": []
    },
    {
      "cell_type": "code",
      "source": [
        "# 성능 평가 및 예측\n",
        "loss, accuracy = model.evaluate(test_dataset)\n",
        "print(\"Test Accuracy : \", accuracy)"
      ],
      "metadata": {
        "id": "OSUjUuM2MC4f"
      },
      "execution_count": null,
      "outputs": []
    },
    {
      "cell_type": "code",
      "source": [
        "image_batch, label_batch = test_dataset.as_numpy_iterator().next()\n",
        "predictions = model.predict_on_batch(image_batch).flatten()\n",
        "\n",
        "predictions = tf.nn.sigmoid(predictions)\n",
        "predictions = tf.where(predictions < 0.5, 0, 1)\n",
        "\n",
        "print(\"Predictions : \\n\", predictions.numpy())\n",
        "print('Labels : \\n', label_batch)\n",
        "\n",
        "plt.figure(figsize = (10, 10))\n",
        "for i in range(9):\n",
        "  ax = plt.subplot(3, 3, i+1)\n",
        "  plt.imshow(image_batch[i].astype('uint8'))\n",
        "  plt.title(class_names[predictions[i]])\n",
        "  plt.axis('off')"
      ],
      "metadata": {
        "id": "dexdO0DHMCz-"
      },
      "execution_count": null,
      "outputs": []
    },
    {
      "cell_type": "code",
      "source": [
        ""
      ],
      "metadata": {
        "id": "CZw-q3XkMCwW"
      },
      "execution_count": null,
      "outputs": []
    }
  ]
}