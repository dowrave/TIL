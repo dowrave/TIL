{
 "cells": [
  {
   "cell_type": "markdown",
   "metadata": {},
   "source": [
    "## [가장 먼 노드](https://school.programmers.co.kr/learn/courses/30/lessons/49189)\n",
    "- n개의 노드가 있는 그래프, \n",
    "- 1번 노드에서 가장 멀리 떨어진 노드의 갯수를 구하려 한다"
   ]
  },
  {
   "cell_type": "code",
   "execution_count": 1,
   "metadata": {},
   "outputs": [],
   "source": [
    "n = 6\n",
    "vertex = [[3, 6], [4, 3], [3, 2], [1, 3], [1, 2], [2, 4], [5, 2]]"
   ]
  },
  {
   "cell_type": "code",
   "execution_count": 11,
   "metadata": {},
   "outputs": [
    {
     "name": "stdout",
     "output_type": "stream",
     "text": [
      "3\n"
     ]
    }
   ],
   "source": [
    "from collections import deque\n",
    "\n",
    "graph = [[] for _ in range(n + 1)]\n",
    "\n",
    "for a, b in vertex:\n",
    "    graph[a].append(b)\n",
    "    graph[b].append(a)\n",
    "\n",
    "\n",
    "def bfs(start_node):\n",
    "    visited = [0] * (n+1)\n",
    "\n",
    "    dq = deque([])\n",
    "    visited[start_node] = 1\n",
    "    dist_start = 0\n",
    "\n",
    "    dq.append((start_node, dist_start))\n",
    "    max_dist = 0\n",
    "    max_count = 0\n",
    "\n",
    "    while dq:\n",
    "        now, dist_now = dq.popleft()\n",
    "\n",
    "        if max_dist == dist_now:\n",
    "            max_count += 1\n",
    "\n",
    "        if max_dist < dist_now:\n",
    "            max_dist = dist_now\n",
    "            max_count = 1\n",
    "\n",
    "        for i in graph[now]:\n",
    "            if visited[i] == 0:\n",
    "                visited[i] = 1\n",
    "                dq.append((i, dist_now + 1))\n",
    "\n",
    "    return max_count\n",
    "\n",
    "max_count = bfs(1)\n",
    "print(max_count)\n"
   ]
  },
  {
   "cell_type": "code",
   "execution_count": null,
   "metadata": {},
   "outputs": [],
   "source": []
  }
 ],
 "metadata": {
  "kernelspec": {
   "display_name": "Python 3",
   "language": "python",
   "name": "python3"
  },
  "language_info": {
   "codemirror_mode": {
    "name": "ipython",
    "version": 3
   },
   "file_extension": ".py",
   "mimetype": "text/x-python",
   "name": "python",
   "nbconvert_exporter": "python",
   "pygments_lexer": "ipython3",
   "version": "3.10.8"
  },
  "orig_nbformat": 4
 },
 "nbformat": 4,
 "nbformat_minor": 2
}
