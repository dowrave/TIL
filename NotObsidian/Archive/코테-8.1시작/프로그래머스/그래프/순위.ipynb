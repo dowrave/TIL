{
 "cells": [
  {
   "cell_type": "markdown",
   "metadata": {},
   "source": [
    "## [순위](https://school.programmers.co.kr/learn/courses/30/lessons/49191)\n",
    "- `n`명의 선수가 1~n번 참가했다\n",
    "- `results`의 각 원소는 `[a, b]`로 표시, a가 b를 이겼다는 뜻이다\n",
    "- 몇몇 경기 결과를 분실했다고 할 때, 현재 주어진 `results`로 정확하게 순위를 매길 수 있는 선수의 수를 리턴하도록 함수를 작성하시오"
   ]
  },
  {
   "cell_type": "code",
   "execution_count": 74,
   "metadata": {},
   "outputs": [],
   "source": [
    "n = 5\n",
    "results = [[4, 3], [4, 2], [3, 2], [1, 2], [2, 5]]\n"
   ]
  },
  {
   "cell_type": "code",
   "execution_count": 88,
   "metadata": {},
   "outputs": [],
   "source": [
    "# 조금 다르게 접근해보자 : 기존엔 이긴 숫자, 진 숫자만 저장했음 \n",
    "# 근데 그러면 기준점은 알 수 있어도, 기준점을 기준으로 위와 아래를 별도로 생각해야 함\n",
    "\n",
    "#####################################################\n",
    "\"\"\"\n",
    "또 시간초과 뜸 -> 풀이 참고\n",
    "\n",
    "\"\"\"\n",
    "def bfs(start,dic,graph):\n",
    "    queue=[start]\n",
    "    visited={start:True}\n",
    "    while queue:\n",
    "        node=queue.pop(0)\n",
    "        dic[node][node]=True\n",
    "        if node not in graph:\n",
    "            continue\n",
    "        for i in graph[node]:\n",
    "            if i not in visited:\n",
    "                visited[i]=True\n",
    "                for j in dic[node]: # 인접노드에 진/이긴 정보를 전달하는 과정\n",
    "                    dic[i][j]=True \n",
    "                queue.append(i)\n",
    "\n",
    "\n",
    "def solution(n, results): \n",
    "    dic=dict()  #각 노드에서 자기를 포함해서 자기가 진 노드를 담는 딕셔너리\n",
    "    dic2=dict() #각 노드에서 자기를 포함해서 자기가 이긴 노드를 담는 딕셔너리\n",
    "    graph={} #인접 정보를 담는 딕셔너리 (이긴 노드에서 진노드로)\n",
    "    graph2={} # 인접 정보를 담는 딕셔너리 (진노드에서 이긴 노드로)\n",
    "    for i in results: #초기화 \n",
    "        x=i[0]\n",
    "        y=i[1]\n",
    "        if x not in graph:\n",
    "            graph[x]=[y] \n",
    "        else:\n",
    "            graph[x].append(y)\n",
    "        if y not in graph2:\n",
    "            graph2[y]=[x]\n",
    "        else:\n",
    "            graph2[y].append(x)\n",
    "    for i in range(1,n+1): #초기화\n",
    "        dic[i]={}\n",
    "        dic2[i]={}\n",
    "\n",
    "\n",
    "    for i in range(1,n+1): #모든 노드에 대해 bfs로 인접노드에게 진 정보를 전달\n",
    "        bfs(i,dic,graph)\n",
    "    for i in range(1,n+1): # 모든 노드에 대해 bfs로 인접노드에게 이긴 정보를 전달\n",
    "        bfs(i,dic2,graph2)\n",
    "    count=0 #정답을 저정하는 변수 \n",
    "    for i in dic:\n",
    "         if len(dic2[i])-1+len(dic[i]) == n: #자신을 포함해서 자기가 진노드와 이긴 노드의 합이 N이여야 순위가 정해진 것임 \n",
    "            count+=1\n",
    "    return count\n"
   ]
  },
  {
   "cell_type": "code",
   "execution_count": null,
   "metadata": {},
   "outputs": [],
   "source": [
    "# 1. 기준을 찾는다\n",
    "# 2. 기준을 찾으면 얘를 이겼거나 얘가 이긴 노드들을 탐색한다\n",
    "# 3. 기준의 순위를 알 수 있으니까, "
   ]
  },
  {
   "cell_type": "code",
   "execution_count": 60,
   "metadata": {},
   "outputs": [
    {
     "name": "stdout",
     "output_type": "stream",
     "text": [
      "None\n"
     ]
    }
   ],
   "source": [
    "a = [123]\n",
    "b = a.append(456)\n"
   ]
  },
  {
   "cell_type": "code",
   "execution_count": null,
   "metadata": {},
   "outputs": [],
   "source": [
    "def bfs(start_node):\n",
    "\n",
    "    dq = deque([])\n",
    "    dq.append((start_node))\n",
    "\n",
    "    while dq:\n",
    "        now_node = dq.popleft()\n",
    "        for next_node in graph[now_node]:\n",
    "            if next_node not in win[now_node]:\n",
    "                win[now_node].append(next_node)\n",
    "            if now_node not in lose[next_node]:\n",
    "                lose[next_node].append(now_node)\n",
    "            dq.append((next_node))\n",
    "\n",
    "\n",
    "\n",
    "\n",
    "for i in range(1, n+1):\n",
    "    if len(win[i]) + len(lose[i]) == n - 1:\n",
    "        continue\n",
    "    bfs(i)\n",
    "\n",
    "print(win)\n",
    "print(lose)\n",
    "\n",
    "# 마무리\n",
    "ans = 0\n",
    "for i in range(1, n+1):\n",
    "    if len(win[i]) + len(lose[i]) == n - 1:\n",
    "        ans += 1\n",
    "\n",
    "print(ans)\n",
    "# return ans"
   ]
  }
 ],
 "metadata": {
  "kernelspec": {
   "display_name": "Python 3",
   "language": "python",
   "name": "python3"
  },
  "language_info": {
   "codemirror_mode": {
    "name": "ipython",
    "version": 3
   },
   "file_extension": ".py",
   "mimetype": "text/x-python",
   "name": "python",
   "nbconvert_exporter": "python",
   "pygments_lexer": "ipython3",
   "version": "3.10.8"
  },
  "orig_nbformat": 4
 },
 "nbformat": 4,
 "nbformat_minor": 2
}
