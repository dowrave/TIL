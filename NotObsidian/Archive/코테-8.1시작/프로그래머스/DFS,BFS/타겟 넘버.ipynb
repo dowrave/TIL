{
 "cells": [
  {
   "cell_type": "markdown",
   "metadata": {},
   "source": [
    "## [타겟 넘버](https://school.programmers.co.kr/learn/courses/30/lessons/43165?language=python3)\n",
    "- n개의 음이 아닌 정수가 있을 때, 이들의 순서를 유지한 채 적절히 더하거나 빼서 타겟 넘버를 만들고자 한다\n",
    "- 타겟 넘버를 만드는 방법의 수를 리턴하시오"
   ]
  },
  {
   "cell_type": "code",
   "execution_count": 1,
   "metadata": {},
   "outputs": [],
   "source": [
    "numbers = [4, 1, 2, 1]\n",
    "target = 4"
   ]
  },
  {
   "cell_type": "code",
   "execution_count": 17,
   "metadata": {},
   "outputs": [
    {
     "name": "stdout",
     "output_type": "stream",
     "text": [
      "4 8\n",
      "4 6\n",
      "4 4\n",
      "4 2\n",
      "4 6\n",
      "4 4\n",
      "4 2\n",
      "4 0\n",
      "4 0\n",
      "4 -2\n",
      "4 -4\n",
      "4 -6\n",
      "4 -2\n",
      "4 -4\n",
      "4 -6\n",
      "4 -8\n",
      "2\n"
     ]
    }
   ],
   "source": [
    "\n",
    "def dfs(node_idx, acc_value):\n",
    "    \n",
    "    global count\n",
    "    \n",
    "    # 종결조건\n",
    "    if node_idx == len(numbers):\n",
    "        if acc_value == target:\n",
    "            count += 1\n",
    "        return        \n",
    "    \n",
    "    # 더하거나 뺀다\n",
    "    for i in range(2):\n",
    "        if i == 0:\n",
    "            dfs(node_idx + 1, acc_value + numbers[node_idx])\n",
    "        else:\n",
    "            dfs(node_idx + 1, acc_value - numbers[node_idx])\n",
    "\n",
    "    \n",
    "    \n",
    "count = 0 \n",
    "acc_value = 0 \n",
    "dfs(0, acc_value)\n",
    "\n",
    "print(count)\n",
    "            "
   ]
  },
  {
   "cell_type": "code",
   "execution_count": 4,
   "metadata": {},
   "outputs": [
    {
     "ename": "NameError",
     "evalue": "name 'count' is not defined",
     "output_type": "error",
     "traceback": [
      "\u001b[1;31m---------------------------------------------------------------------------\u001b[0m",
      "\u001b[1;31mNameError\u001b[0m                                 Traceback (most recent call last)",
      "\u001b[1;32mc:\\Users\\dowra\\OneDrive\\바탕 화면\\TIL\\NotObsidian\\Now\\코테-8.1시작\\프로그래머스\\DFS,BFS\\타겟 넘버.ipynb Cell 4\u001b[0m in \u001b[0;36m<cell line: 27>\u001b[1;34m()\u001b[0m\n\u001b[0;32m     <a href='vscode-notebook-cell:/c%3A/Users/dowra/OneDrive/%EB%B0%94%ED%83%95%20%ED%99%94%EB%A9%B4/TIL/NotObsidian/Now/%EC%BD%94%ED%85%8C-8.1%EC%8B%9C%EC%9E%91/%ED%94%84%EB%A1%9C%EA%B7%B8%EB%9E%98%EB%A8%B8%EC%8A%A4/DFS%2CBFS/%ED%83%80%EA%B2%9F%20%EB%84%98%EB%B2%84.ipynb#W4sZmlsZQ%3D%3D?line=22'>23</a>\u001b[0m     dfs(\u001b[39m0\u001b[39m, acc_value)\n\u001b[0;32m     <a href='vscode-notebook-cell:/c%3A/Users/dowra/OneDrive/%EB%B0%94%ED%83%95%20%ED%99%94%EB%A9%B4/TIL/NotObsidian/Now/%EC%BD%94%ED%85%8C-8.1%EC%8B%9C%EC%9E%91/%ED%94%84%EB%A1%9C%EA%B7%B8%EB%9E%98%EB%A8%B8%EC%8A%A4/DFS%2CBFS/%ED%83%80%EA%B2%9F%20%EB%84%98%EB%B2%84.ipynb#W4sZmlsZQ%3D%3D?line=24'>25</a>\u001b[0m     \u001b[39mreturn\u001b[39;00m count\n\u001b[1;32m---> <a href='vscode-notebook-cell:/c%3A/Users/dowra/OneDrive/%EB%B0%94%ED%83%95%20%ED%99%94%EB%A9%B4/TIL/NotObsidian/Now/%EC%BD%94%ED%85%8C-8.1%EC%8B%9C%EC%9E%91/%ED%94%84%EB%A1%9C%EA%B7%B8%EB%9E%98%EB%A8%B8%EC%8A%A4/DFS%2CBFS/%ED%83%80%EA%B2%9F%20%EB%84%98%EB%B2%84.ipynb#W4sZmlsZQ%3D%3D?line=26'>27</a>\u001b[0m solution(numbers, target)\n",
      "\u001b[1;32mc:\\Users\\dowra\\OneDrive\\바탕 화면\\TIL\\NotObsidian\\Now\\코테-8.1시작\\프로그래머스\\DFS,BFS\\타겟 넘버.ipynb Cell 4\u001b[0m in \u001b[0;36msolution\u001b[1;34m(numbers, target)\u001b[0m\n\u001b[0;32m     <a href='vscode-notebook-cell:/c%3A/Users/dowra/OneDrive/%EB%B0%94%ED%83%95%20%ED%99%94%EB%A9%B4/TIL/NotObsidian/Now/%EC%BD%94%ED%85%8C-8.1%EC%8B%9C%EC%9E%91/%ED%94%84%EB%A1%9C%EA%B7%B8%EB%9E%98%EB%A8%B8%EC%8A%A4/DFS%2CBFS/%ED%83%80%EA%B2%9F%20%EB%84%98%EB%B2%84.ipynb#W4sZmlsZQ%3D%3D?line=19'>20</a>\u001b[0m             dfs(node_idx \u001b[39m+\u001b[39m \u001b[39m1\u001b[39m, acc_value \u001b[39m-\u001b[39m numbers[node_idx])\n\u001b[0;32m     <a href='vscode-notebook-cell:/c%3A/Users/dowra/OneDrive/%EB%B0%94%ED%83%95%20%ED%99%94%EB%A9%B4/TIL/NotObsidian/Now/%EC%BD%94%ED%85%8C-8.1%EC%8B%9C%EC%9E%91/%ED%94%84%EB%A1%9C%EA%B7%B8%EB%9E%98%EB%A8%B8%EC%8A%A4/DFS%2CBFS/%ED%83%80%EA%B2%9F%20%EB%84%98%EB%B2%84.ipynb#W4sZmlsZQ%3D%3D?line=21'>22</a>\u001b[0m count \u001b[39m=\u001b[39m \u001b[39m0\u001b[39m \n\u001b[1;32m---> <a href='vscode-notebook-cell:/c%3A/Users/dowra/OneDrive/%EB%B0%94%ED%83%95%20%ED%99%94%EB%A9%B4/TIL/NotObsidian/Now/%EC%BD%94%ED%85%8C-8.1%EC%8B%9C%EC%9E%91/%ED%94%84%EB%A1%9C%EA%B7%B8%EB%9E%98%EB%A8%B8%EC%8A%A4/DFS%2CBFS/%ED%83%80%EA%B2%9F%20%EB%84%98%EB%B2%84.ipynb#W4sZmlsZQ%3D%3D?line=22'>23</a>\u001b[0m dfs(\u001b[39m0\u001b[39;49m, acc_value)\n\u001b[0;32m     <a href='vscode-notebook-cell:/c%3A/Users/dowra/OneDrive/%EB%B0%94%ED%83%95%20%ED%99%94%EB%A9%B4/TIL/NotObsidian/Now/%EC%BD%94%ED%85%8C-8.1%EC%8B%9C%EC%9E%91/%ED%94%84%EB%A1%9C%EA%B7%B8%EB%9E%98%EB%A8%B8%EC%8A%A4/DFS%2CBFS/%ED%83%80%EA%B2%9F%20%EB%84%98%EB%B2%84.ipynb#W4sZmlsZQ%3D%3D?line=24'>25</a>\u001b[0m \u001b[39mreturn\u001b[39;00m count\n",
      "\u001b[1;32mc:\\Users\\dowra\\OneDrive\\바탕 화면\\TIL\\NotObsidian\\Now\\코테-8.1시작\\프로그래머스\\DFS,BFS\\타겟 넘버.ipynb Cell 4\u001b[0m in \u001b[0;36msolution.<locals>.dfs\u001b[1;34m(node_idx, acc_value)\u001b[0m\n\u001b[0;32m     <a href='vscode-notebook-cell:/c%3A/Users/dowra/OneDrive/%EB%B0%94%ED%83%95%20%ED%99%94%EB%A9%B4/TIL/NotObsidian/Now/%EC%BD%94%ED%85%8C-8.1%EC%8B%9C%EC%9E%91/%ED%94%84%EB%A1%9C%EA%B7%B8%EB%9E%98%EB%A8%B8%EC%8A%A4/DFS%2CBFS/%ED%83%80%EA%B2%9F%20%EB%84%98%EB%B2%84.ipynb#W4sZmlsZQ%3D%3D?line=15'>16</a>\u001b[0m \u001b[39mfor\u001b[39;00m i \u001b[39min\u001b[39;00m \u001b[39mrange\u001b[39m(\u001b[39m2\u001b[39m):\n\u001b[0;32m     <a href='vscode-notebook-cell:/c%3A/Users/dowra/OneDrive/%EB%B0%94%ED%83%95%20%ED%99%94%EB%A9%B4/TIL/NotObsidian/Now/%EC%BD%94%ED%85%8C-8.1%EC%8B%9C%EC%9E%91/%ED%94%84%EB%A1%9C%EA%B7%B8%EB%9E%98%EB%A8%B8%EC%8A%A4/DFS%2CBFS/%ED%83%80%EA%B2%9F%20%EB%84%98%EB%B2%84.ipynb#W4sZmlsZQ%3D%3D?line=16'>17</a>\u001b[0m     \u001b[39mif\u001b[39;00m i \u001b[39m==\u001b[39m \u001b[39m0\u001b[39m:\n\u001b[1;32m---> <a href='vscode-notebook-cell:/c%3A/Users/dowra/OneDrive/%EB%B0%94%ED%83%95%20%ED%99%94%EB%A9%B4/TIL/NotObsidian/Now/%EC%BD%94%ED%85%8C-8.1%EC%8B%9C%EC%9E%91/%ED%94%84%EB%A1%9C%EA%B7%B8%EB%9E%98%EB%A8%B8%EC%8A%A4/DFS%2CBFS/%ED%83%80%EA%B2%9F%20%EB%84%98%EB%B2%84.ipynb#W4sZmlsZQ%3D%3D?line=17'>18</a>\u001b[0m         dfs(node_idx \u001b[39m+\u001b[39;49m \u001b[39m1\u001b[39;49m, acc_value \u001b[39m+\u001b[39;49m numbers[node_idx])\n\u001b[0;32m     <a href='vscode-notebook-cell:/c%3A/Users/dowra/OneDrive/%EB%B0%94%ED%83%95%20%ED%99%94%EB%A9%B4/TIL/NotObsidian/Now/%EC%BD%94%ED%85%8C-8.1%EC%8B%9C%EC%9E%91/%ED%94%84%EB%A1%9C%EA%B7%B8%EB%9E%98%EB%A8%B8%EC%8A%A4/DFS%2CBFS/%ED%83%80%EA%B2%9F%20%EB%84%98%EB%B2%84.ipynb#W4sZmlsZQ%3D%3D?line=18'>19</a>\u001b[0m     \u001b[39melse\u001b[39;00m:\n\u001b[0;32m     <a href='vscode-notebook-cell:/c%3A/Users/dowra/OneDrive/%EB%B0%94%ED%83%95%20%ED%99%94%EB%A9%B4/TIL/NotObsidian/Now/%EC%BD%94%ED%85%8C-8.1%EC%8B%9C%EC%9E%91/%ED%94%84%EB%A1%9C%EA%B7%B8%EB%9E%98%EB%A8%B8%EC%8A%A4/DFS%2CBFS/%ED%83%80%EA%B2%9F%20%EB%84%98%EB%B2%84.ipynb#W4sZmlsZQ%3D%3D?line=19'>20</a>\u001b[0m         dfs(node_idx \u001b[39m+\u001b[39m \u001b[39m1\u001b[39m, acc_value \u001b[39m-\u001b[39m numbers[node_idx])\n",
      "\u001b[1;32mc:\\Users\\dowra\\OneDrive\\바탕 화면\\TIL\\NotObsidian\\Now\\코테-8.1시작\\프로그래머스\\DFS,BFS\\타겟 넘버.ipynb Cell 4\u001b[0m in \u001b[0;36msolution.<locals>.dfs\u001b[1;34m(node_idx, acc_value)\u001b[0m\n\u001b[0;32m     <a href='vscode-notebook-cell:/c%3A/Users/dowra/OneDrive/%EB%B0%94%ED%83%95%20%ED%99%94%EB%A9%B4/TIL/NotObsidian/Now/%EC%BD%94%ED%85%8C-8.1%EC%8B%9C%EC%9E%91/%ED%94%84%EB%A1%9C%EA%B7%B8%EB%9E%98%EB%A8%B8%EC%8A%A4/DFS%2CBFS/%ED%83%80%EA%B2%9F%20%EB%84%98%EB%B2%84.ipynb#W4sZmlsZQ%3D%3D?line=15'>16</a>\u001b[0m \u001b[39mfor\u001b[39;00m i \u001b[39min\u001b[39;00m \u001b[39mrange\u001b[39m(\u001b[39m2\u001b[39m):\n\u001b[0;32m     <a href='vscode-notebook-cell:/c%3A/Users/dowra/OneDrive/%EB%B0%94%ED%83%95%20%ED%99%94%EB%A9%B4/TIL/NotObsidian/Now/%EC%BD%94%ED%85%8C-8.1%EC%8B%9C%EC%9E%91/%ED%94%84%EB%A1%9C%EA%B7%B8%EB%9E%98%EB%A8%B8%EC%8A%A4/DFS%2CBFS/%ED%83%80%EA%B2%9F%20%EB%84%98%EB%B2%84.ipynb#W4sZmlsZQ%3D%3D?line=16'>17</a>\u001b[0m     \u001b[39mif\u001b[39;00m i \u001b[39m==\u001b[39m \u001b[39m0\u001b[39m:\n\u001b[1;32m---> <a href='vscode-notebook-cell:/c%3A/Users/dowra/OneDrive/%EB%B0%94%ED%83%95%20%ED%99%94%EB%A9%B4/TIL/NotObsidian/Now/%EC%BD%94%ED%85%8C-8.1%EC%8B%9C%EC%9E%91/%ED%94%84%EB%A1%9C%EA%B7%B8%EB%9E%98%EB%A8%B8%EC%8A%A4/DFS%2CBFS/%ED%83%80%EA%B2%9F%20%EB%84%98%EB%B2%84.ipynb#W4sZmlsZQ%3D%3D?line=17'>18</a>\u001b[0m         dfs(node_idx \u001b[39m+\u001b[39;49m \u001b[39m1\u001b[39;49m, acc_value \u001b[39m+\u001b[39;49m numbers[node_idx])\n\u001b[0;32m     <a href='vscode-notebook-cell:/c%3A/Users/dowra/OneDrive/%EB%B0%94%ED%83%95%20%ED%99%94%EB%A9%B4/TIL/NotObsidian/Now/%EC%BD%94%ED%85%8C-8.1%EC%8B%9C%EC%9E%91/%ED%94%84%EB%A1%9C%EA%B7%B8%EB%9E%98%EB%A8%B8%EC%8A%A4/DFS%2CBFS/%ED%83%80%EA%B2%9F%20%EB%84%98%EB%B2%84.ipynb#W4sZmlsZQ%3D%3D?line=18'>19</a>\u001b[0m     \u001b[39melse\u001b[39;00m:\n\u001b[0;32m     <a href='vscode-notebook-cell:/c%3A/Users/dowra/OneDrive/%EB%B0%94%ED%83%95%20%ED%99%94%EB%A9%B4/TIL/NotObsidian/Now/%EC%BD%94%ED%85%8C-8.1%EC%8B%9C%EC%9E%91/%ED%94%84%EB%A1%9C%EA%B7%B8%EB%9E%98%EB%A8%B8%EC%8A%A4/DFS%2CBFS/%ED%83%80%EA%B2%9F%20%EB%84%98%EB%B2%84.ipynb#W4sZmlsZQ%3D%3D?line=19'>20</a>\u001b[0m         dfs(node_idx \u001b[39m+\u001b[39m \u001b[39m1\u001b[39m, acc_value \u001b[39m-\u001b[39m numbers[node_idx])\n",
      "\u001b[1;32mc:\\Users\\dowra\\OneDrive\\바탕 화면\\TIL\\NotObsidian\\Now\\코테-8.1시작\\프로그래머스\\DFS,BFS\\타겟 넘버.ipynb Cell 4\u001b[0m in \u001b[0;36msolution.<locals>.dfs\u001b[1;34m(node_idx, acc_value)\u001b[0m\n\u001b[0;32m     <a href='vscode-notebook-cell:/c%3A/Users/dowra/OneDrive/%EB%B0%94%ED%83%95%20%ED%99%94%EB%A9%B4/TIL/NotObsidian/Now/%EC%BD%94%ED%85%8C-8.1%EC%8B%9C%EC%9E%91/%ED%94%84%EB%A1%9C%EA%B7%B8%EB%9E%98%EB%A8%B8%EC%8A%A4/DFS%2CBFS/%ED%83%80%EA%B2%9F%20%EB%84%98%EB%B2%84.ipynb#W4sZmlsZQ%3D%3D?line=17'>18</a>\u001b[0m     dfs(node_idx \u001b[39m+\u001b[39m \u001b[39m1\u001b[39m, acc_value \u001b[39m+\u001b[39m numbers[node_idx])\n\u001b[0;32m     <a href='vscode-notebook-cell:/c%3A/Users/dowra/OneDrive/%EB%B0%94%ED%83%95%20%ED%99%94%EB%A9%B4/TIL/NotObsidian/Now/%EC%BD%94%ED%85%8C-8.1%EC%8B%9C%EC%9E%91/%ED%94%84%EB%A1%9C%EA%B7%B8%EB%9E%98%EB%A8%B8%EC%8A%A4/DFS%2CBFS/%ED%83%80%EA%B2%9F%20%EB%84%98%EB%B2%84.ipynb#W4sZmlsZQ%3D%3D?line=18'>19</a>\u001b[0m \u001b[39melse\u001b[39;00m:\n\u001b[1;32m---> <a href='vscode-notebook-cell:/c%3A/Users/dowra/OneDrive/%EB%B0%94%ED%83%95%20%ED%99%94%EB%A9%B4/TIL/NotObsidian/Now/%EC%BD%94%ED%85%8C-8.1%EC%8B%9C%EC%9E%91/%ED%94%84%EB%A1%9C%EA%B7%B8%EB%9E%98%EB%A8%B8%EC%8A%A4/DFS%2CBFS/%ED%83%80%EA%B2%9F%20%EB%84%98%EB%B2%84.ipynb#W4sZmlsZQ%3D%3D?line=19'>20</a>\u001b[0m     dfs(node_idx \u001b[39m+\u001b[39;49m \u001b[39m1\u001b[39;49m, acc_value \u001b[39m-\u001b[39;49m numbers[node_idx])\n",
      "\u001b[1;32mc:\\Users\\dowra\\OneDrive\\바탕 화면\\TIL\\NotObsidian\\Now\\코테-8.1시작\\프로그래머스\\DFS,BFS\\타겟 넘버.ipynb Cell 4\u001b[0m in \u001b[0;36msolution.<locals>.dfs\u001b[1;34m(node_idx, acc_value)\u001b[0m\n\u001b[0;32m     <a href='vscode-notebook-cell:/c%3A/Users/dowra/OneDrive/%EB%B0%94%ED%83%95%20%ED%99%94%EB%A9%B4/TIL/NotObsidian/Now/%EC%BD%94%ED%85%8C-8.1%EC%8B%9C%EC%9E%91/%ED%94%84%EB%A1%9C%EA%B7%B8%EB%9E%98%EB%A8%B8%EC%8A%A4/DFS%2CBFS/%ED%83%80%EA%B2%9F%20%EB%84%98%EB%B2%84.ipynb#W4sZmlsZQ%3D%3D?line=15'>16</a>\u001b[0m \u001b[39mfor\u001b[39;00m i \u001b[39min\u001b[39;00m \u001b[39mrange\u001b[39m(\u001b[39m2\u001b[39m):\n\u001b[0;32m     <a href='vscode-notebook-cell:/c%3A/Users/dowra/OneDrive/%EB%B0%94%ED%83%95%20%ED%99%94%EB%A9%B4/TIL/NotObsidian/Now/%EC%BD%94%ED%85%8C-8.1%EC%8B%9C%EC%9E%91/%ED%94%84%EB%A1%9C%EA%B7%B8%EB%9E%98%EB%A8%B8%EC%8A%A4/DFS%2CBFS/%ED%83%80%EA%B2%9F%20%EB%84%98%EB%B2%84.ipynb#W4sZmlsZQ%3D%3D?line=16'>17</a>\u001b[0m     \u001b[39mif\u001b[39;00m i \u001b[39m==\u001b[39m \u001b[39m0\u001b[39m:\n\u001b[1;32m---> <a href='vscode-notebook-cell:/c%3A/Users/dowra/OneDrive/%EB%B0%94%ED%83%95%20%ED%99%94%EB%A9%B4/TIL/NotObsidian/Now/%EC%BD%94%ED%85%8C-8.1%EC%8B%9C%EC%9E%91/%ED%94%84%EB%A1%9C%EA%B7%B8%EB%9E%98%EB%A8%B8%EC%8A%A4/DFS%2CBFS/%ED%83%80%EA%B2%9F%20%EB%84%98%EB%B2%84.ipynb#W4sZmlsZQ%3D%3D?line=17'>18</a>\u001b[0m         dfs(node_idx \u001b[39m+\u001b[39;49m \u001b[39m1\u001b[39;49m, acc_value \u001b[39m+\u001b[39;49m numbers[node_idx])\n\u001b[0;32m     <a href='vscode-notebook-cell:/c%3A/Users/dowra/OneDrive/%EB%B0%94%ED%83%95%20%ED%99%94%EB%A9%B4/TIL/NotObsidian/Now/%EC%BD%94%ED%85%8C-8.1%EC%8B%9C%EC%9E%91/%ED%94%84%EB%A1%9C%EA%B7%B8%EB%9E%98%EB%A8%B8%EC%8A%A4/DFS%2CBFS/%ED%83%80%EA%B2%9F%20%EB%84%98%EB%B2%84.ipynb#W4sZmlsZQ%3D%3D?line=18'>19</a>\u001b[0m     \u001b[39melse\u001b[39;00m:\n\u001b[0;32m     <a href='vscode-notebook-cell:/c%3A/Users/dowra/OneDrive/%EB%B0%94%ED%83%95%20%ED%99%94%EB%A9%B4/TIL/NotObsidian/Now/%EC%BD%94%ED%85%8C-8.1%EC%8B%9C%EC%9E%91/%ED%94%84%EB%A1%9C%EA%B7%B8%EB%9E%98%EB%A8%B8%EC%8A%A4/DFS%2CBFS/%ED%83%80%EA%B2%9F%20%EB%84%98%EB%B2%84.ipynb#W4sZmlsZQ%3D%3D?line=19'>20</a>\u001b[0m         dfs(node_idx \u001b[39m+\u001b[39m \u001b[39m1\u001b[39m, acc_value \u001b[39m-\u001b[39m numbers[node_idx])\n",
      "\u001b[1;32mc:\\Users\\dowra\\OneDrive\\바탕 화면\\TIL\\NotObsidian\\Now\\코테-8.1시작\\프로그래머스\\DFS,BFS\\타겟 넘버.ipynb Cell 4\u001b[0m in \u001b[0;36msolution.<locals>.dfs\u001b[1;34m(node_idx, acc_value)\u001b[0m\n\u001b[0;32m     <a href='vscode-notebook-cell:/c%3A/Users/dowra/OneDrive/%EB%B0%94%ED%83%95%20%ED%99%94%EB%A9%B4/TIL/NotObsidian/Now/%EC%BD%94%ED%85%8C-8.1%EC%8B%9C%EC%9E%91/%ED%94%84%EB%A1%9C%EA%B7%B8%EB%9E%98%EB%A8%B8%EC%8A%A4/DFS%2CBFS/%ED%83%80%EA%B2%9F%20%EB%84%98%EB%B2%84.ipynb#W4sZmlsZQ%3D%3D?line=9'>10</a>\u001b[0m \u001b[39mif\u001b[39;00m node_idx \u001b[39m==\u001b[39m \u001b[39mlen\u001b[39m(numbers):\n\u001b[0;32m     <a href='vscode-notebook-cell:/c%3A/Users/dowra/OneDrive/%EB%B0%94%ED%83%95%20%ED%99%94%EB%A9%B4/TIL/NotObsidian/Now/%EC%BD%94%ED%85%8C-8.1%EC%8B%9C%EC%9E%91/%ED%94%84%EB%A1%9C%EA%B7%B8%EB%9E%98%EB%A8%B8%EC%8A%A4/DFS%2CBFS/%ED%83%80%EA%B2%9F%20%EB%84%98%EB%B2%84.ipynb#W4sZmlsZQ%3D%3D?line=10'>11</a>\u001b[0m     \u001b[39mif\u001b[39;00m acc_value \u001b[39m==\u001b[39m target:\n\u001b[1;32m---> <a href='vscode-notebook-cell:/c%3A/Users/dowra/OneDrive/%EB%B0%94%ED%83%95%20%ED%99%94%EB%A9%B4/TIL/NotObsidian/Now/%EC%BD%94%ED%85%8C-8.1%EC%8B%9C%EC%9E%91/%ED%94%84%EB%A1%9C%EA%B7%B8%EB%9E%98%EB%A8%B8%EC%8A%A4/DFS%2CBFS/%ED%83%80%EA%B2%9F%20%EB%84%98%EB%B2%84.ipynb#W4sZmlsZQ%3D%3D?line=11'>12</a>\u001b[0m         count \u001b[39m+\u001b[39m\u001b[39m=\u001b[39m \u001b[39m1\u001b[39m\n\u001b[0;32m     <a href='vscode-notebook-cell:/c%3A/Users/dowra/OneDrive/%EB%B0%94%ED%83%95%20%ED%99%94%EB%A9%B4/TIL/NotObsidian/Now/%EC%BD%94%ED%85%8C-8.1%EC%8B%9C%EC%9E%91/%ED%94%84%EB%A1%9C%EA%B7%B8%EB%9E%98%EB%A8%B8%EC%8A%A4/DFS%2CBFS/%ED%83%80%EA%B2%9F%20%EB%84%98%EB%B2%84.ipynb#W4sZmlsZQ%3D%3D?line=12'>13</a>\u001b[0m     \u001b[39mreturn\u001b[39;00m        \n\u001b[0;32m     <a href='vscode-notebook-cell:/c%3A/Users/dowra/OneDrive/%EB%B0%94%ED%83%95%20%ED%99%94%EB%A9%B4/TIL/NotObsidian/Now/%EC%BD%94%ED%85%8C-8.1%EC%8B%9C%EC%9E%91/%ED%94%84%EB%A1%9C%EA%B7%B8%EB%9E%98%EB%A8%B8%EC%8A%A4/DFS%2CBFS/%ED%83%80%EA%B2%9F%20%EB%84%98%EB%B2%84.ipynb#W4sZmlsZQ%3D%3D?line=14'>15</a>\u001b[0m \u001b[39m# 더하거나 뺀다\u001b[39;00m\n",
      "\u001b[1;31mNameError\u001b[0m: name 'count' is not defined"
     ]
    }
   ],
   "source": [
    "def solution(numbers, target):\n",
    "\n",
    "    acc_value = 0 \n",
    "\n",
    "    def dfs(node_idx, acc_value):\n",
    "    \n",
    "        nonlocal count\n",
    "        \n",
    "        # 종결조건\n",
    "        if node_idx == len(numbers):\n",
    "            if acc_value == target:\n",
    "                count += 1\n",
    "            return        \n",
    "\n",
    "        # 더하거나 뺀다\n",
    "        for i in range(2):\n",
    "            if i == 0:\n",
    "                dfs(node_idx + 1, acc_value + numbers[node_idx])\n",
    "            else:\n",
    "                dfs(node_idx + 1, acc_value - numbers[node_idx])\n",
    "\n",
    "    count = 0 \n",
    "    dfs(0, acc_value)\n",
    "    \n",
    "    return count\n",
    "\n",
    "solution(numbers, target)"
   ]
  },
  {
   "cell_type": "code",
   "execution_count": 5,
   "metadata": {},
   "outputs": [
    {
     "name": "stdout",
     "output_type": "stream",
     "text": [
      "2\n"
     ]
    }
   ],
   "source": [
    "variable = 1\n",
    "\n",
    "def func():\n",
    "\tglobal variable\n",
    "\tvariable += 1\n",
    "\n",
    "func()\n",
    "print(variable)"
   ]
  },
  {
   "cell_type": "code",
   "execution_count": 15,
   "metadata": {},
   "outputs": [
    {
     "name": "stdout",
     "output_type": "stream",
     "text": [
      "2\n",
      "1\n"
     ]
    }
   ],
   "source": [
    "global_variable = 0\n",
    "\n",
    "def solution():\n",
    "    \n",
    "    global global_variable\n",
    "    variable = 1\n",
    " \n",
    "    def func():\n",
    "        nonlocal variable\n",
    "        global global_variable # nonlocal로 선언 불가가\n",
    "        variable += 1\n",
    "        global_variable += 1\n",
    "\t\n",
    "    func()\n",
    "    print(variable) # 2\n",
    "    print(global_variable) # 1\n",
    "    return \n",
    "\n",
    "solution()"
   ]
  },
  {
   "cell_type": "code",
   "execution_count": null,
   "metadata": {},
   "outputs": [],
   "source": []
  }
 ],
 "metadata": {
  "kernelspec": {
   "display_name": "Python 3",
   "language": "python",
   "name": "python3"
  },
  "language_info": {
   "codemirror_mode": {
    "name": "ipython",
    "version": 3
   },
   "file_extension": ".py",
   "mimetype": "text/x-python",
   "name": "python",
   "nbconvert_exporter": "python",
   "pygments_lexer": "ipython3",
   "version": "3.10.8"
  },
  "orig_nbformat": 4
 },
 "nbformat": 4,
 "nbformat_minor": 2
}
