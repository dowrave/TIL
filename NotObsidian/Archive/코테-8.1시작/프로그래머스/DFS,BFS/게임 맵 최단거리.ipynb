{
 "cells": [
  {
   "cell_type": "markdown",
   "metadata": {},
   "source": [
    "## [문제 링크](https://school.programmers.co.kr/learn/courses/30/lessons/1844)\n",
    "- 도착점에 도착하기 위한 최솟값을 리턴하는 함수를 작성하시오(시작칸과 도착칸을 포함한 밟는 모든 칸의 수를 센다)\n",
    "- 도착할 수 없을 때는 -1을 반환한다\n",
    "- n * m 크기이며 1 이상 100 이하지만 동시에 1이 되진 않는다\n",
    "- 캐릭터는 처음엥 (1, 1)에 있고, 상대 진영은 (n, m)위치에 있다 (행, 열)기준임"
   ]
  },
  {
   "cell_type": "code",
   "execution_count": 6,
   "metadata": {},
   "outputs": [],
   "source": [
    "maps = [[1,0,1,1,1],[1,0,1,0,1],[1,0,1,1,1],[1,1,1,0,0],[0,0,0,0,1]]"
   ]
  },
  {
   "cell_type": "code",
   "execution_count": 7,
   "metadata": {},
   "outputs": [
    {
     "data": {
      "text/plain": [
       "-1"
      ]
     },
     "execution_count": 7,
     "metadata": {},
     "output_type": "execute_result"
    }
   ],
   "source": [
    "# 내가 알기로 최단거리는 BFS를 씀\n",
    "from collections import deque\n",
    "\n",
    "n = len(maps) # rows\n",
    "m = len(maps[0]) # cols\n",
    "\n",
    "visited = [[0] * m for _ in range(n)]\n",
    "\n",
    "\n",
    "def bfs(start_node):\n",
    "    \n",
    "    visited[start_node[0]][start_node[1]] = 1\n",
    "    \n",
    "    dq = deque([])\n",
    "    dq.append((start_node[0], start_node[1], 1))\n",
    "    \n",
    "    moves = [(1, 0), (0, 1), (-1, 0), (0, -1)]\n",
    "    \n",
    "    while dq:\n",
    "        now_row, now_col, distance = dq.popleft()\n",
    "        \n",
    "        if (now_row, now_col) == (n-1, m-1):\n",
    "            return distance\n",
    "        \n",
    "        for move in moves:\n",
    "            drow = now_row + move[0]\n",
    "            dcol = now_col + move[1]\n",
    "            \n",
    "            if drow < 0 or drow >= n or dcol < 0 or dcol >= m:\n",
    "                continue\n",
    "                \n",
    "            if maps[drow][dcol] == 1 and visited[drow][dcol] == 0:\n",
    "                visited[drow][dcol] = 1\n",
    "                dq.append((drow, dcol, distance + 1))\n",
    "            \n",
    "    # while 문에서 끝나지 못한다면 경로가 없는 거임 \n",
    "    return -1\n",
    "\n",
    "bfs((0, 0))  \n",
    "        "
   ]
  },
  {
   "cell_type": "code",
   "execution_count": null,
   "metadata": {},
   "outputs": [],
   "source": []
  }
 ],
 "metadata": {
  "kernelspec": {
   "display_name": "Python 3",
   "language": "python",
   "name": "python3"
  },
  "language_info": {
   "codemirror_mode": {
    "name": "ipython",
    "version": 3
   },
   "file_extension": ".py",
   "mimetype": "text/x-python",
   "name": "python",
   "nbconvert_exporter": "python",
   "pygments_lexer": "ipython3",
   "version": "3.10.8"
  },
  "orig_nbformat": 4
 },
 "nbformat": 4,
 "nbformat_minor": 2
}
