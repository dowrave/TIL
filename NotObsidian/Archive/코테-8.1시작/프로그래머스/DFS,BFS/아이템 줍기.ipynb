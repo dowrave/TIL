{
 "cells": [
  {
   "cell_type": "markdown",
   "metadata": {},
   "source": [
    "## [아이템 줍기](https://school.programmers.co.kr/learn/courses/30/lessons/87694)\n",
    "- 다각형 모양의 지형, 이 둘레를 따라 이동한다\n",
    "- 중간에 빈 공간이 생긴다면 가장 바깥쪽 테두리만 둘레라고 친다\n",
    "- `rectangle`은 `좌하단x, 좌하단y, 우상단x, 우상단y`\n",
    "- `char`의 위치에서 `Item`의 위치까지 가는 최솟값을 구하시오(둘레만 따라감)\n",
    "- 꼭짓점에서 만나거나 변이 겹치는 경우, 완전히 포개어지는 경우는 없다."
   ]
  },
  {
   "cell_type": "code",
   "execution_count": 1,
   "metadata": {},
   "outputs": [],
   "source": [
    "rectangle = [[1,1,7,4],[3,2,5,5],[4,3,6,9],[2,6,8,8]]\n",
    "characterX = 1\n",
    "characterY = 3\n",
    "ItemX = 7\n",
    "ItemY = 8"
   ]
  },
  {
   "cell_type": "markdown",
   "metadata": {},
   "source": [
    "### 풀이를 봤다\n",
    "1. 주어진 좌표로 **직사각형을 그린다**\n",
    "2. 직사각형 **내부는 0으로 채우고, 테두리는 1을 할당**한다.\n",
    "3. 디귿자 경로 때문에 **처음에 크기를 구현할 때 곱하기 2**를 하라고 한다.\n",
    "- 그래프도 곱하고 모든 좌표도 곱한다\n",
    "- 곱했으니까 마지막에 2로 나눠준다"
   ]
  },
  {
   "cell_type": "code",
   "execution_count": 13,
   "metadata": {},
   "outputs": [],
   "source": [
    "from collections import deque\n",
    "\n",
    "\n",
    "def solution(rectangle, characterX, characterY, itemX, itemY):\n",
    "    answer = 0\n",
    "    MAX = 102  # 두배로 늘리기 때문에 최대 102\n",
    "    \n",
    "    # 테두리 그리기\n",
    "    field = [[-1] * MAX for _ in range(MAX)]  # 5는 맨처음 땅\n",
    "    for rec in rectangle:\n",
    "        x1, y1, x2, y2 = map(lambda x: x * 2, rec) # 2배를 해준다\n",
    "        for i in range(x1, x2 + 1):\n",
    "            for j in range(y1, y2 + 1):\n",
    "                if x1 < i < x2 and y1 < j < y2:  # 내부일 때\n",
    "                    field[i][j] = 0\n",
    "                \n",
    "                # 여기로 왔다는 건 이미 테두리가 될 수 있는 조건임\n",
    "                elif field[i][j] != 0: # 테두리가 될 수 있는 위치인데 다른 직사각형의 내부라면 테두리가 될 수 없음!\n",
    "                    field[i][j] = 1  \n",
    "\n",
    "    # 길 찾기 (최단거리는 BFS)\n",
    "    q = deque()\n",
    "    q.append([characterX * 2, characterY * 2])\n",
    "    visited = [[0] * MAX for _ in range(MAX)]\n",
    "    visited[characterX * 2][characterY * 2] = 1\n",
    "    dx, dy = [-1, 1, 0, 0], [0, 0, -1, 1]\n",
    "    while q:\n",
    "        x, y = q.popleft()\n",
    "        if x == itemX * 2 and y == itemY * 2:\n",
    "            answer = (visited[x][y] - 1) // 2\n",
    "            break\n",
    "            \n",
    "        for k in range(4):\n",
    "            nx = x + dx[k]\n",
    "            ny = y + dy[k]\n",
    "            if visited[nx][ny] == 0 and field[nx][ny] == 1:\n",
    "                q.append([nx, ny])\n",
    "                visited[nx][ny] = visited[x][y] + 1\n",
    "\n",
    "    return answer"
   ]
  },
  {
   "cell_type": "code",
   "execution_count": null,
   "metadata": {},
   "outputs": [],
   "source": []
  },
  {
   "cell_type": "code",
   "execution_count": 2,
   "metadata": {},
   "outputs": [],
   "source": []
  },
  {
   "cell_type": "code",
   "execution_count": null,
   "metadata": {},
   "outputs": [],
   "source": []
  }
 ],
 "metadata": {
  "kernelspec": {
   "display_name": "Python 3",
   "language": "python",
   "name": "python3"
  },
  "language_info": {
   "codemirror_mode": {
    "name": "ipython",
    "version": 3
   },
   "file_extension": ".py",
   "mimetype": "text/x-python",
   "name": "python",
   "nbconvert_exporter": "python",
   "pygments_lexer": "ipython3",
   "version": "3.10.8"
  },
  "orig_nbformat": 4
 },
 "nbformat": 4,
 "nbformat_minor": 2
}
