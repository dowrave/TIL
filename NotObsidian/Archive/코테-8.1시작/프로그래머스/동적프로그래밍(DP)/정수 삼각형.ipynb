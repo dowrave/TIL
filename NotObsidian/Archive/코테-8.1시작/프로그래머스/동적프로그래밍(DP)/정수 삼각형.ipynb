{
 "cells": [
  {
   "cell_type": "markdown",
   "metadata": {},
   "source": [
    "## [정수 삼각형](https://school.programmers.co.kr/learn/courses/30/lessons/43105)\n",
    "- 아래 방향으로 한칸, 오른쪽이나 왼쪽으로 이동 가능하다. 거쳐간 숫자의 최댓값을 리턴하도록 함수를 완성하시오"
   ]
  },
  {
   "cell_type": "code",
   "execution_count": 7,
   "metadata": {},
   "outputs": [
    {
     "name": "stdout",
     "output_type": "stream",
     "text": [
      "30\n"
     ]
    }
   ],
   "source": [
    "triangle = [[7], [3, 8], [8, 1, 0], [2, 7, 4, 4], [4, 5, 2, 6, 5]]\n",
    "\n",
    "dp = [[0] * (i+1) for i in range(len(triangle))]\n",
    "\n",
    "dp[0][0] = triangle[0][0]\n",
    "\n",
    "for i in range(len(triangle)):\n",
    "    for j in range(len(triangle[i])):\n",
    "        if j == 0:\n",
    "            dp[i][j] = dp[i-1][0] + triangle[i][j]\n",
    "        elif j == len(triangle[i]) - 1:\n",
    "            dp[i][j] = dp[i-1][j-1] + triangle[i][j]\n",
    "        else:\n",
    "            dp[i][j] =  max(dp[i-1][j-1], dp[i-1][j]) + triangle[i][j] \n",
    "\n",
    "print(max(dp[len(triangle) - 1]))"
   ]
  },
  {
   "cell_type": "code",
   "execution_count": null,
   "metadata": {},
   "outputs": [],
   "source": []
  },
  {
   "cell_type": "markdown",
   "metadata": {},
   "source": [
    "## 풀기 전 설계\n",
    "1. 어떻게 다음 경로에 값을 넣을 것인가?\n",
    "- 기본적으로 이중 for문이 될 거 같음\n",
    "- 가로줄이 하나, n번째 인덱스가 하나\n",
    "- i번째 줄의 j번째 인덱스는, `i-1`번째 줄의 `j-1`번째 인덱스부터 오거나, `j`번째 인덱스로부터 온다. \n",
    "  - 근데 가장 왼쪽 줄은 `[i-1][0]`에서 오고\n",
    "  - 가장 오른쪽 줄은 `[i-1][j - 1]`에서 온다."
   ]
  },
  {
   "cell_type": "markdown",
   "metadata": {},
   "source": []
  }
 ],
 "metadata": {
  "kernelspec": {
   "display_name": "Python 3",
   "language": "python",
   "name": "python3"
  },
  "language_info": {
   "codemirror_mode": {
    "name": "ipython",
    "version": 3
   },
   "file_extension": ".py",
   "mimetype": "text/x-python",
   "name": "python",
   "nbconvert_exporter": "python",
   "pygments_lexer": "ipython3",
   "version": "3.10.8"
  },
  "orig_nbformat": 4
 },
 "nbformat": 4,
 "nbformat_minor": 2
}
