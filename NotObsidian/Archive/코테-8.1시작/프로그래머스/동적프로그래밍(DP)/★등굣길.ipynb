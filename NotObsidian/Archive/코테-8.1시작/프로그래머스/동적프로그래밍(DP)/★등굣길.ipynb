{
 "cells": [
  {
   "cell_type": "markdown",
   "metadata": {},
   "source": [
    "## [등굣길](https://school.programmers.co.kr/learn/courses/30/lessons/42898)\n",
    "- 좌상단이 (1,1)일 때, 우하단(m,n)까지 도달하는 최단 경로의 수를 구하시오\n",
    "- 단 `puddles`에 있는 곳은 지나갈 수 없음."
   ]
  },
  {
   "cell_type": "code",
   "execution_count": 1,
   "metadata": {},
   "outputs": [],
   "source": [
    "m, n = 4, 3 # 이거 주의! 행의 수가 n이고, 열의 수가 m이다.\n",
    "puddles = [[2, 3]]"
   ]
  },
  {
   "cell_type": "code",
   "execution_count": 5,
   "metadata": {},
   "outputs": [
    {
     "name": "stdout",
     "output_type": "stream",
     "text": [
      "11\n"
     ]
    }
   ],
   "source": [
    "dp = [[0] * (m + 1) for _ in range(n+1)]\n",
    "puddles = [[n, m] for [m, n] in puddles] # (a, b)으로 좌표가 주어졌다면, 행렬로 나타낼 때는 [b][a] 순으로 들어가야 함. \n",
    "\n",
    "dp[1][1] = 1\n",
    "\n",
    "for i in range(1, n+1):\n",
    "    for j in range(1, m+1):\n",
    "        \n",
    "        if [i, j] in puddles:\n",
    "            continue\n",
    "\n",
    "        if (i, j) == (1, 1):\n",
    "            continue\n",
    "        \n",
    "        dp[i][j] =(dp[i-1][j] + dp[i][j-1]) % 1000000007 # 움직이는 방향이 오른쪽이랑 아래라서 쉽게 구현이 가능하다\n",
    "\n",
    "print(dp[-1][-1])"
   ]
  },
  {
   "cell_type": "code",
   "execution_count": null,
   "metadata": {},
   "outputs": [],
   "source": []
  },
  {
   "cell_type": "code",
   "execution_count": null,
   "metadata": {},
   "outputs": [],
   "source": []
  }
 ],
 "metadata": {
  "kernelspec": {
   "display_name": "Python 3",
   "language": "python",
   "name": "python3"
  },
  "language_info": {
   "codemirror_mode": {
    "name": "ipython",
    "version": 3
   },
   "file_extension": ".py",
   "mimetype": "text/x-python",
   "name": "python",
   "nbconvert_exporter": "python",
   "pygments_lexer": "ipython3",
   "version": "3.10.8"
  },
  "orig_nbformat": 4
 },
 "nbformat": 4,
 "nbformat_minor": 2
}
