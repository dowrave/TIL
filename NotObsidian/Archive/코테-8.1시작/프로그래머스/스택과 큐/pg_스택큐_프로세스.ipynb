{
 "cells": [
  {
   "cell_type": "markdown",
   "metadata": {},
   "source": [
    "## 프로세스\n",
    "- 운영 체제가 다음 규칙에 따라 프로세스를 관리할 때, 특정 프로세스가 몇 번째로 실행되는가를 알자.\n",
    "```\n",
    "1. 큐에서 대기중인 프로세스 1개를 꺼낸다\n",
    "2. 큐에 대기중인 프로세스 중, 더 우선순위가 높은 프로세스가 있다면 방금 꺼낸 프로세스를 다시 큐에 넣는다\n",
    "3. 만약 그런 프로세스가 없다면 그냥 실행하며, 한 번 실행한 프로세스는 종료한다.\n",
    "```"
   ]
  },
  {
   "cell_type": "code",
   "execution_count": 31,
   "metadata": {},
   "outputs": [],
   "source": [
    "priorities = [1, 1, 9, 1, 1, 1]\n",
    "location = 0 # 인덱스 개념"
   ]
  },
  {
   "cell_type": "code",
   "execution_count": 38,
   "metadata": {},
   "outputs": [
    {
     "name": "stdout",
     "output_type": "stream",
     "text": [
      "deque([1, 1, 9, 1, 1, 1])\n",
      "deque([1, 9, 1, 1, 1, 1])\n",
      "deque([9, 1, 1, 1, 1, 1])\n",
      "deque([1, 1, 1, 1, 1])\n",
      "deque([1, 1, 1, 1])\n",
      "deque([1, 1, 1])\n",
      "deque([1, 1])\n",
      "ans :  5\n"
     ]
    }
   ],
   "source": [
    "from collections import deque \n",
    "\n",
    "dq = deque(priorities)\n",
    "\n",
    "N = 1\n",
    "while dq:\n",
    "    print(dq)\n",
    "    flag = False\n",
    "    x = dq.popleft()\n",
    "\n",
    "    # 우선순위 체크\n",
    "    for i in dq:\n",
    "\n",
    "        if x < i: # 다시 넣는 경우\n",
    "            dq.append(x)\n",
    "            flag = True\n",
    "            break \n",
    "    \n",
    "    if flag:\n",
    "        location -= 1 # location 갱신은 다음 반복문 넘어갈 때 실시\n",
    "        if location < 0:\n",
    "            location = len(dq) - 1\n",
    "        continue\n",
    "\n",
    "    # 다시 넣지 않는 경우 : 1개 추출되니까 N값 갱신됨\n",
    "    if location == 0:\n",
    "        # return N\n",
    "        print(\"ans : \", N)\n",
    "        break\n",
    "\n",
    "\n",
    "    else:\n",
    "        location -= 1\n",
    "        if location < 0:\n",
    "            location = len(dq) - 1\n",
    "        N += 1\n",
    "\n",
    "\n",
    "    "
   ]
  },
  {
   "cell_type": "code",
   "execution_count": null,
   "metadata": {},
   "outputs": [],
   "source": []
  },
  {
   "cell_type": "code",
   "execution_count": null,
   "metadata": {},
   "outputs": [],
   "source": []
  },
  {
   "cell_type": "code",
   "execution_count": null,
   "metadata": {},
   "outputs": [],
   "source": []
  }
 ],
 "metadata": {
  "kernelspec": {
   "display_name": "Python 3",
   "language": "python",
   "name": "python3"
  },
  "language_info": {
   "codemirror_mode": {
    "name": "ipython",
    "version": 3
   },
   "file_extension": ".py",
   "mimetype": "text/x-python",
   "name": "python",
   "nbconvert_exporter": "python",
   "pygments_lexer": "ipython3",
   "version": "3.10.8"
  },
  "orig_nbformat": 4
 },
 "nbformat": 4,
 "nbformat_minor": 2
}
