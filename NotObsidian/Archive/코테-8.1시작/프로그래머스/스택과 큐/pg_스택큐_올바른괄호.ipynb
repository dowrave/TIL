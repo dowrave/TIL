{
 "cells": [
  {
   "cell_type": "markdown",
   "metadata": {},
   "source": [
    "## 문제\n",
    "- `()`로 이뤄진 문자가 주어졌을 때, 올바르게 짝이 이뤄진 괄호면 true, 아니면 False를 리턴하시오\n"
   ]
  },
  {
   "cell_type": "code",
   "execution_count": 4,
   "metadata": {},
   "outputs": [
    {
     "name": "stdout",
     "output_type": "stream",
     "text": [
      "False\n",
      "True\n"
     ]
    }
   ],
   "source": [
    "stack = []\n",
    "s = \")()(\"\n",
    "\n",
    "for i in s:\n",
    "\n",
    "    if i == ')':\n",
    "        if len(stack) > 0:\n",
    "            stack.pop()\n",
    "        else:\n",
    "            print(False)\n",
    "            break\n",
    "\n",
    "    else:\n",
    "        stack.append(i)\n",
    "\n",
    "if len(stack) > 0:\n",
    "    print(False)\n",
    "else:\n",
    "    print(True)"
   ]
  },
  {
   "cell_type": "code",
   "execution_count": null,
   "metadata": {},
   "outputs": [],
   "source": []
  },
  {
   "cell_type": "code",
   "execution_count": null,
   "metadata": {},
   "outputs": [],
   "source": []
  }
 ],
 "metadata": {
  "kernelspec": {
   "display_name": "Python 3",
   "language": "python",
   "name": "python3"
  },
  "language_info": {
   "codemirror_mode": {
    "name": "ipython",
    "version": 3
   },
   "file_extension": ".py",
   "mimetype": "text/x-python",
   "name": "python",
   "nbconvert_exporter": "python",
   "pygments_lexer": "ipython3",
   "version": "3.10.8"
  },
  "orig_nbformat": 4
 },
 "nbformat": 4,
 "nbformat_minor": 2
}
