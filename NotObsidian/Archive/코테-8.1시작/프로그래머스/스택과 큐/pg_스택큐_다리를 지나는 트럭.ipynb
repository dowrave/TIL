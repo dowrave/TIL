{
 "cells": [
  {
   "cell_type": "markdown",
   "metadata": {},
   "source": [
    "## 문제\n",
    "- 모든 트럭이 다리를 건너는 데 걸리는 시간\n",
    "- 최대 올라갈 수 있는 트럭 수 : `bridge_length`\n",
    "- 최대 무게 : `weight`"
   ]
  },
  {
   "cell_type": "code",
   "execution_count": 4,
   "metadata": {},
   "outputs": [],
   "source": [
    "bridge_length = 2 # 트럭 1대가 건너는 시간\n",
    "weight = 10\n",
    "truck_weights = [7, 4, 5, 6] # 순서대로 건너감"
   ]
  },
  {
   "cell_type": "code",
   "execution_count": 24,
   "metadata": {},
   "outputs": [
    {
     "name": "stdout",
     "output_type": "stream",
     "text": [
      "8\n"
     ]
    }
   ],
   "source": [
    "from collections import deque\n",
    "\n",
    "dq = deque(truck_weights)\n",
    "time = deque([])\n",
    "bridge = deque([])\n",
    "t = 0 \n",
    "while dq or bridge:\n",
    "\n",
    "    if time and time[0] == bridge_length:\n",
    "        bridge.popleft()\n",
    "        time.popleft()\n",
    "\n",
    "    if dq and sum(bridge) + dq[0] <= weight:\n",
    "        x = dq.popleft()\n",
    "        bridge.append(x)\n",
    "        time.append(0)\n",
    "\n",
    "    for i in range(len(time)):\n",
    "        time[i] += 1\n",
    "\n",
    "    t += 1\n",
    "\n",
    "print(t)\n"
   ]
  },
  {
   "cell_type": "code",
   "execution_count": null,
   "metadata": {},
   "outputs": [],
   "source": []
  }
 ],
 "metadata": {
  "kernelspec": {
   "display_name": "Python 3",
   "language": "python",
   "name": "python3"
  },
  "language_info": {
   "codemirror_mode": {
    "name": "ipython",
    "version": 3
   },
   "file_extension": ".py",
   "mimetype": "text/x-python",
   "name": "python",
   "nbconvert_exporter": "python",
   "pygments_lexer": "ipython3",
   "version": "3.10.8"
  },
  "orig_nbformat": 4
 },
 "nbformat": 4,
 "nbformat_minor": 2
}
