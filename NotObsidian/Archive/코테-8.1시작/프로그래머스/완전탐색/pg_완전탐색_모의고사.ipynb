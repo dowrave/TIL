{
 "cells": [
  {
   "cell_type": "markdown",
   "metadata": {},
   "source": [
    "## [문제 링크](https://school.programmers.co.kr/learn/courses/30/lessons/42840)"
   ]
  },
  {
   "cell_type": "code",
   "execution_count": 7,
   "metadata": {},
   "outputs": [
    {
     "name": "stdout",
     "output_type": "stream",
     "text": [
      "[1, 2, 3]\n"
     ]
    }
   ],
   "source": [
    "answers =[1,3,2,4,2]\t # 최대 10000문제\n",
    "\n",
    "# 1번맨 : 12345 반복\n",
    "# 2번맨 : 21232425 반복\n",
    "# 3번맨 : 3311224455 반복\n",
    "\n",
    "man1 = [1, 2, 3, 4, 5] * (len(answers) // 5 + 1)\n",
    "man2 = [2, 1, 2, 3, 2, 4, 2, 5] * (len(answers) // 8 + 1)\n",
    "man3 = [3, 3, 1, 1, 2, 2, 4, 4, 5, 5] * (len(answers) // 10 + 1)\n",
    "\n",
    "who = [0] * 4\n",
    "\n",
    "for i in range(len(answers)):\n",
    "    if answers[i] == man1[i]:\n",
    "        who[1] += 1\n",
    "    if answers[i] == man2[i]:\n",
    "        who[2] += 1\n",
    "    if answers[i] == man3[i]:\n",
    "        who[3] += 1\n",
    "\n",
    "max_val = max(who)\n",
    "ans = []\n",
    "for i in range(len(who)):\n",
    "    if max_val == who[i]:\n",
    "        ans.append(i)\n",
    "\n",
    "return ans"
   ]
  },
  {
   "cell_type": "markdown",
   "metadata": {},
   "source": []
  }
 ],
 "metadata": {
  "kernelspec": {
   "display_name": "Python 3",
   "language": "python",
   "name": "python3"
  },
  "language_info": {
   "codemirror_mode": {
    "name": "ipython",
    "version": 3
   },
   "file_extension": ".py",
   "mimetype": "text/x-python",
   "name": "python",
   "nbconvert_exporter": "python",
   "pygments_lexer": "ipython3",
   "version": "3.10.8"
  },
  "orig_nbformat": 4
 },
 "nbformat": 4,
 "nbformat_minor": 2
}
