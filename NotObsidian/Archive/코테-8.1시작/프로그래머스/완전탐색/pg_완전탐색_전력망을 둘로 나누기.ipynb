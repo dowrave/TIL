{
 "cells": [
  {
   "cell_type": "markdown",
   "metadata": {},
   "source": [
    "### [문제 링크](https://school.programmers.co.kr/learn/courses/30/lessons/86971)\n",
    "- 트리 구조에서, 어떤 엣지 하나를 없앴을 때 양 쪽 그래프를 구성하는 노드 수의 차이를 최소화하고 싶다.\n",
    "- 최소 노드 차이를 구하시오"
   ]
  },
  {
   "cell_type": "code",
   "execution_count": 33,
   "metadata": {},
   "outputs": [
    {
     "name": "stdout",
     "output_type": "stream",
     "text": [
      "[0, 1, 2, 2, 2, 2, 2, 2, 3, 4]\n",
      "[0, 1, 1, 1, 1, 1, 2, 1, 3, 4]\n",
      "[0, 1, 1, 1, 1, 2, 1, 1, 3, 4]\n",
      "[0, 1, 1, 1, 2, 2, 1, 1, 3, 4]\n",
      "[0, 1, 1, 2, 2, 2, 1, 1, 3, 4]\n",
      "[0, 1, 1, 2, 2, 2, 2, 2, 3, 4]\n",
      "[0, 1, 2, 2, 2, 2, 2, 2, 3, 4]\n",
      "[0, 1, 1, 1, 1, 1, 2, 1, 3, 4]\n",
      "[0, 1, 1, 1, 1, 2, 1, 1, 3, 4]\n",
      "1\n"
     ]
    }
   ],
   "source": [
    "from collections import deque\n",
    "\n",
    "# wires 중 하나를 없앴을 때, 나눠진 양쪽의 갯수가 가능한 비슷하도록 하고 싶음\n",
    "# 나눠진 양쪽의 차이(절댓값)을 반환하도록 하는 함수를 만드시오\n",
    "\n",
    "n = 9\n",
    "wires = \t[[1,2],[2,7],[3,7],[3,4],[4,5],[6,7]]\n",
    "wires = deque(wires)\n",
    "\n",
    "def dfs(node, idx):\n",
    "    visited[node] = idx\n",
    "    for i in graph[node]:\n",
    "        if visited[i] == 0:\n",
    "            dfs(i, idx)\n",
    "\n",
    "ans = 100\n",
    "for _ in range(n):\n",
    "    temp_wires = wires.copy()\n",
    "    temp_wires.popleft()\n",
    "\n",
    "    graph = [[] for _ in range(n + 1)]\n",
    "    for i, j  in temp_wires:\n",
    "        graph[i].append(j)\n",
    "        graph[j].append(i)\n",
    "\n",
    "    visited = [0] * (n + 1)\n",
    "\n",
    "    idx = 1\n",
    "    for i in range(1, n+1):\n",
    "        if visited[i] == 0:\n",
    "            dfs(i, idx)\n",
    "            idx += 1\n",
    "    print(visited)\n",
    "    \n",
    "    a = 0\n",
    "    b = 0\n",
    "    for i in visited[1:]:\n",
    "        if i == 1:\n",
    "            a += 1\n",
    "        elif i == 2:\n",
    "            b += 1\n",
    "        \n",
    "    ans = min(ans, abs(a - b))\n",
    "\n",
    "    wires.rotate()\n",
    "\n",
    "print(ans)\n",
    "# return ans\n"
   ]
  },
  {
   "cell_type": "code",
   "execution_count": null,
   "metadata": {},
   "outputs": [],
   "source": []
  }
 ],
 "metadata": {
  "kernelspec": {
   "display_name": "Python 3",
   "language": "python",
   "name": "python3"
  },
  "language_info": {
   "codemirror_mode": {
    "name": "ipython",
    "version": 3
   },
   "file_extension": ".py",
   "mimetype": "text/x-python",
   "name": "python",
   "nbconvert_exporter": "python",
   "pygments_lexer": "ipython3",
   "version": "3.10.8"
  },
  "orig_nbformat": 4
 },
 "nbformat": 4,
 "nbformat_minor": 2
}
