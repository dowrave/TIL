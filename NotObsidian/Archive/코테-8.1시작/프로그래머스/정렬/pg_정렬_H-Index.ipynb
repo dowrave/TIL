{
 "cells": [
  {
   "cell_type": "markdown",
   "metadata": {},
   "source": [
    "## 문제\n",
    "- 논문 n편 중 h번 이상 인용된 논문이 h편 이상, 나머지 논문이 h번 이하 인용되었다면 h의 최댓값이 H-Index이다"
   ]
  },
  {
   "cell_type": "code",
   "execution_count": 24,
   "metadata": {},
   "outputs": [
    {
     "name": "stdout",
     "output_type": "stream",
     "text": [
      "1\n"
     ]
    }
   ],
   "source": [
    "citations = [1, 1, 1, 1]\n",
    "\n",
    "N = len(citations)\n",
    "citations.sort(reverse = True)\n",
    "\n",
    "for h in range(N, -1, -1): # h는 최댓값부터 내려가는 h_index 값\n",
    "\n",
    "    counts = 0 # h값 이상이면 h_index의 후보가 될 수 있다. 역순으로 정렬했기 때문에 가장 먼저 나오는 h_index가 정답이 됨.\n",
    "\n",
    "    for j in range(N): # j는 인덱스\n",
    "\n",
    "        if citations[j] < h: # 정렬하고 시작했기 때문에, 작은 값이 나오면 더 이상 세지 않아도 됨\n",
    "            break\n",
    "\n",
    "        counts += 1\n",
    "    \n",
    "    if counts >= h: # h편 이상 같아야 하니까..\n",
    "        print(h)\n",
    "        break\n",
    "\n"
   ]
  }
 ],
 "metadata": {
  "kernelspec": {
   "display_name": "Python 3",
   "language": "python",
   "name": "python3"
  },
  "language_info": {
   "codemirror_mode": {
    "name": "ipython",
    "version": 3
   },
   "file_extension": ".py",
   "mimetype": "text/x-python",
   "name": "python",
   "nbconvert_exporter": "python",
   "pygments_lexer": "ipython3",
   "version": "3.10.8"
  },
  "orig_nbformat": 4
 },
 "nbformat": 4,
 "nbformat_minor": 2
}
