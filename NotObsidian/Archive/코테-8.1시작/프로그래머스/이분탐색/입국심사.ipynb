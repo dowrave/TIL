{
 "cells": [
  {
   "cell_type": "markdown",
   "metadata": {},
   "source": [
    "## [입국 심사](https://school.programmers.co.kr/learn/courses/30/lessons/43238)\n",
    "- 사람 수 `n`, 각 심사관이 1명을 심사하는 데 걸리는 시간이 `times`일 때, 모든 사람이 심사를 받는데 걸리는 시간의 **최솟값**을 리턴하도록 하는 함수를 작성하시오\n",
    "\n",
    "### 아이디어 얻기\n",
    "1. 이분 탐색은 목표에 대해 진행함 : 즉 `총 시간`에 대해 진행됨\n",
    "2. 각 탐색에서, 볼 것은 \"이 시간 내에 모든 탐색이 가능한가\" 여부임.\n",
    "\n",
    "---\n",
    "- 2. 를 어떻게 알 수 있을까?\n",
    "  - 어떤 시간이 주어지면, **그 시간 동안 각 times가 처리할 수 있는 양이 정해질 거임** \n",
    "    - 이걸 생각하는게 어렵다 : 저 문제를 보고 \"시간을 이분탐색한 다음 어쩌구...\"를 생각하는 게 쉽지 않다.\n",
    "  - 예를 들면 mid = 50에서 times는 각각 7, 5개를 처리할 수 있음\n",
    "  - 그런데 최솟값을 찾아야 하니까, mid 값을 end로 설정하고 다시 돌리면 됨\n"
   ]
  },
  {
   "cell_type": "code",
   "execution_count": 1,
   "metadata": {},
   "outputs": [],
   "source": [
    "n = 6\n",
    "times = [7, 10]"
   ]
  },
  {
   "cell_type": "code",
   "execution_count": 7,
   "metadata": {},
   "outputs": [
    {
     "name": "stdout",
     "output_type": "stream",
     "text": [
      "7 33 60\n",
      "7\n",
      "7 20 33\n",
      "4\n",
      "21 27 33\n",
      "5\n",
      "28 30 33\n",
      "7\n",
      "28 29 30\n",
      "6\n",
      "28 28 29\n",
      "6\n",
      "28\n"
     ]
    }
   ],
   "source": [
    "\n",
    "def binary_search(n, times):\n",
    "    \n",
    "    # 시간 바운더리 개념 - 구체적으로 설정할 필요가 있을 수도 있지만, 일단 이렇게 간다\n",
    "    right = max(times) * n \n",
    "    left = min(times)\n",
    "\n",
    "    # 이분 탐색 : 찾는 건 n의 일을 처리할 수 있는 최소 시간\n",
    "    # 따라서 \"시간\"에 대한 이분 탐색을 한다.\n",
    "    while left < right:\n",
    "        mid = (left + right) // 2\n",
    "        print(left, mid, right)\n",
    "\n",
    "        # mid라는 시간 동안 최대로 일할 수 있는 n값을 구한다\n",
    "        num_of_works = 0\n",
    "        for time in times:\n",
    "            num_of_works += (mid // time)\n",
    "\n",
    "        print(num_of_works)\n",
    "        if num_of_works >= n:\n",
    "            right = mid\n",
    "\n",
    "        else:\n",
    "            left = mid + 1\n",
    "\n",
    "    return right\n",
    "\n",
    "print(binary_search(n, times))\n"
   ]
  },
  {
   "cell_type": "code",
   "execution_count": null,
   "metadata": {},
   "outputs": [],
   "source": [
    "# 초기화 어떻게 할까\n",
    "# n은 최대 10억, times의 원소도 최대 10억, len(times)는 10만 이하임\n",
    "# "
   ]
  },
  {
   "cell_type": "code",
   "execution_count": null,
   "metadata": {},
   "outputs": [],
   "source": []
  }
 ],
 "metadata": {
  "kernelspec": {
   "display_name": "Python 3",
   "language": "python",
   "name": "python3"
  },
  "language_info": {
   "codemirror_mode": {
    "name": "ipython",
    "version": 3
   },
   "file_extension": ".py",
   "mimetype": "text/x-python",
   "name": "python",
   "nbconvert_exporter": "python",
   "pygments_lexer": "ipython3",
   "version": "3.10.8"
  },
  "orig_nbformat": 4
 },
 "nbformat": 4,
 "nbformat_minor": 2
}
