{
 "cells": [
  {
   "cell_type": "markdown",
   "metadata": {},
   "source": [
    "## [징검다리](https://school.programmers.co.kr/learn/courses/30/lessons/43236)\n",
    "- 출발 지점부터 `distance`만큼 떨어진 곳에 도착 지점이 있다. 그 사이에 바위가 있는데, 바위를 제거하려고 한다.\n",
    "- 총 거리 `distance`, 바위 위치 배열 `rocks`, 제거할 바위 수 `n`이 주어질 때, 바위를 `n`개 제거한 거리의 최솟값 중 가장 큰 값을 리턴하도록 함수를 작성하시오\n",
    "---\n",
    "- 얘도 [풀이 아이디어](https://school.programmers.co.kr/questions/31861)를 봄\n",
    "1. 범위가 10억까지이므로 이분탐색 문제(`distance`)\n",
    "2. **무엇을 이분탐색할 것인가?** : 바위 사이의 거리의 최솟값 중 최댓값을 구하므로, `바위 사이의 거리`를 기준으로, 두 바위 사이의 거리가 `주어진 값`보다 큰가를 판별한다. \n",
    "3. 크다면 현재 위치를 해당 위치로 바꾼 뒤 계속해 나간다\n",
    "4. 작다면 해당 바위를 제거하고, 현재 위치를 기존 위치로 유지한 채 계속해 나간다. 만약 제거되는 바위가 n을 초과하면 중단한다."
   ]
  },
  {
   "cell_type": "code",
   "execution_count": 1,
   "metadata": {},
   "outputs": [],
   "source": [
    "distance = 25\n",
    "rocks = [2, 14, 11, 21, 17]\n",
    "n = 2"
   ]
  },
  {
   "cell_type": "code",
   "execution_count": 3,
   "metadata": {},
   "outputs": [
    {
     "name": "stdout",
     "output_type": "stream",
     "text": [
      "left : 0, mid : 12, right : 25\n",
      "left : 0, mid : 5, right : 11\n",
      "left : 0, mid : 2, right : 4\n",
      "left : 3, mid : 3, right : 4\n",
      "left : 4, mid : 4, right : 4\n",
      "4\n"
     ]
    }
   ],
   "source": [
    "# n개의 바위를 제거하는 경우의 수가 있을 거 아님?\n",
    "\n",
    "rocks.sort()\n",
    "\n",
    "# 이분 탐색 : 찾을 값은 \"두 바위 사이 거리의 최솟값 중 최댓값\"이므로, `두 바위 사이의 거리`를 기준으로 한다.\n",
    "left = 0\n",
    "right = distance\n",
    "\n",
    "max_dist = 0\n",
    "while left <= right:\n",
    "\n",
    "    mid = (left + right) // 2 \n",
    "\n",
    "    print(\"left : {}, mid : {}, right : {}\".format(left, mid, right))\n",
    "\n",
    "    # rocks를 탐색, 현재 두 바위 사이의 거리보다 작으면 제거, 크면 유지한다. \n",
    "    now_location = 0\n",
    "    eliminated_count = 0\n",
    "    flag = True\n",
    "\n",
    "    for rock in rocks:\n",
    "        # print(now_location, rock)\n",
    "\n",
    "        if eliminated_count > n: # 제거할 바위 수를 이미 초과\n",
    "            flag = False\n",
    "            break\n",
    "\n",
    "        if rock - now_location < mid: # ★현재 간격보다 \"작은\" 값일 때 제거한다★\n",
    "            eliminated_count += 1 # 제거\n",
    "            continue\n",
    "        else:\n",
    "            now_location = rock\n",
    "\n",
    "    # 마지막 지점(distance)에 대해서 now_location과의 계산을 1번 더 해준다\n",
    "    if flag and distance - now_location < mid:\n",
    "        eliminated_count += 1\n",
    "\n",
    "\n",
    "    # 제거한 돌이 많다 = 거리 값이 너무 크다 = 오른쪽을 옮긴다\n",
    "    # 제거한 돌이 적다 = 거리 값이 너무 작다 = 왼쪽을 옮긴다\n",
    "    # 제거한 돌이 타겟과 똑같다 = 현재 값을 저장하고, 최댓값을 찾기 위해 왼쪽을 옮긴다\n",
    "\n",
    "    if eliminated_count == n:\n",
    "        max_dist = mid \n",
    "        left = mid + 1\n",
    "    elif eliminated_count <= n:\n",
    "        left = mid + 1\n",
    "    else:\n",
    "        right = mid - 1\n",
    "\n",
    "    if eliminated_count <= n:\n",
    "        max_dist = mid\n",
    "        left = mid + 1\n",
    "\n",
    "    else:\n",
    "        right = mid - 1\n",
    "        \n",
    "\n",
    "print(max_dist)\n",
    "# return max_dist\n"
   ]
  },
  {
   "cell_type": "code",
   "execution_count": null,
   "metadata": {},
   "outputs": [],
   "source": [
    "# 마지막 위치 `distance` 관련\n",
    "# 얘는 `for rock in rocks`에 넣으면, 불가능한 점이 있음 : 얘는 제거 못함\n",
    "# 그래서 append를 하지 않고 마지막에 별도로 계산을 한다"
   ]
  },
  {
   "cell_type": "code",
   "execution_count": null,
   "metadata": {},
   "outputs": [],
   "source": []
  },
  {
   "cell_type": "code",
   "execution_count": null,
   "metadata": {},
   "outputs": [],
   "source": []
  }
 ],
 "metadata": {
  "kernelspec": {
   "display_name": "Python 3",
   "language": "python",
   "name": "python3"
  },
  "language_info": {
   "codemirror_mode": {
    "name": "ipython",
    "version": 3
   },
   "file_extension": ".py",
   "mimetype": "text/x-python",
   "name": "python",
   "nbconvert_exporter": "python",
   "pygments_lexer": "ipython3",
   "version": "3.10.8"
  },
  "orig_nbformat": 4
 },
 "nbformat": 4,
 "nbformat_minor": 2
}
