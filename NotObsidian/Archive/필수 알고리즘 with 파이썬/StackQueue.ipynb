{
 "cells": [
  {
   "cell_type": "markdown",
   "metadata": {},
   "source": [
    "## 스택과 큐"
   ]
  },
  {
   "cell_type": "code",
   "execution_count": 1,
   "metadata": {},
   "outputs": [
    {
     "name": "stdout",
     "output_type": "stream",
     "text": [
      "pop > 3\n",
      "pop > 2\n",
      "pop > 1\n"
     ]
    }
   ],
   "source": [
    "# 스택\n",
    "def push(item):\n",
    "    stack.append(item) \n",
    "\n",
    "def pop():\n",
    "    return stack.pop() \n",
    "\n",
    "if __name__ == '__main__':\n",
    "    stack = []\n",
    "    push(1)\n",
    "    push(2)\n",
    "    push(3)\n",
    "    while stack:\n",
    "        print(\"pop > {}\".format(pop()))"
   ]
  },
  {
   "cell_type": "code",
   "execution_count": null,
   "metadata": {},
   "outputs": [],
   "source": [
    "# 큐\n"
   ]
  }
 ],
 "metadata": {
  "kernelspec": {
   "display_name": "Python 3",
   "language": "python",
   "name": "python3"
  },
  "language_info": {
   "codemirror_mode": {
    "name": "ipython",
    "version": 3
   },
   "file_extension": ".py",
   "mimetype": "text/x-python",
   "name": "python",
   "nbconvert_exporter": "python",
   "pygments_lexer": "ipython3",
   "version": "3.10.8"
  },
  "orig_nbformat": 4
 },
 "nbformat": 4,
 "nbformat_minor": 2
}
