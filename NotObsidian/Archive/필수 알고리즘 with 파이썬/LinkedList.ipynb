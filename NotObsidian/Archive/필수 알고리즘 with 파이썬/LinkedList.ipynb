{
 "cells": [
  {
   "cell_type": "markdown",
   "metadata": {},
   "source": [
    "## 연결 리스트 구현"
   ]
  },
  {
   "cell_type": "code",
   "execution_count": 8,
   "metadata": {},
   "outputs": [
    {
     "name": "stdout",
     "output_type": "stream",
     "text": [
      "A\n",
      "B\n",
      "C\n",
      "D\n"
     ]
    }
   ],
   "source": [
    "class Node:\n",
    "    def __init__(self, data, next = None):\n",
    "        self.data = data\n",
    "        self.next = next \n",
    "\n",
    "def init_list():\n",
    "    global node_A \n",
    "    node_A = Node(\"A\")\n",
    "    node_B = Node(\"B\")\n",
    "    node_C = Node(\"C\")\n",
    "    node_D = Node(\"D\")\n",
    "    node_A.next = node_B\n",
    "    node_B.next = node_C \n",
    "    node_C.next = node_D \n",
    "\n",
    "def print_list():\n",
    "    global node_A \n",
    "    node = node_A \n",
    "    while node:\n",
    "        print(node.data)\n",
    "        node = node.next \n",
    "    print \n",
    "\n",
    "if __name__ == '__main__':\n",
    "    init_list() \n",
    "    print_list()"
   ]
  },
  {
   "cell_type": "markdown",
   "metadata": {},
   "source": [
    "## 삽입, 삭제 알고리즘"
   ]
  },
  {
   "cell_type": "code",
   "execution_count": null,
   "metadata": {},
   "outputs": [],
   "source": [
    "def insert_node(data):\n",
    "\tglobal node_A\n",
    "\tnew_node = Node(data) # 새로운 노드 초기화\n",
    "\tnode_P = node_A\n",
    "\tnode_T = node_A\n",
    "\twhile node_T.data <= data:\n",
    "\t\tnode_P = node_T\n",
    "\t\tnode_T = node_T.next\n",
    "\tnew_node.next = node_T\n",
    "\tnode_P.next = new_node\n",
    "\t\n",
    "def delete_node(del_data):\n",
    "\tglobal node_A\n",
    "\tpre_node = node_A\n",
    "\tnext_node = pre_node.next\n",
    "\t\n",
    "\t# 이전 노드가 타깃이 될 때 삭제\n",
    "\tif pre_node.data == del_data:\n",
    "\t\tnode_A = next_node\n",
    "\t\tdel pre_node\n",
    "\t\treturn\n",
    "\t\n",
    "\t# 다음 노드가 타깃일 때 \n",
    "\twhile next_node:\n",
    "\t\tif next_node.data == del_data:\n",
    "\t\t\tpre_node.next = next_node.next # 이전 노드의 링크가 다음 노드의 링크가 되고\n",
    "\t\t\tdel next_node # 다음 노드를 삭제\n",
    "\t\t\tbreak\n",
    "\t\tpre_node = next_node\n",
    "\t\tnext_node = next_node.next"
   ]
  }
 ],
 "metadata": {
  "kernelspec": {
   "display_name": "Python 3",
   "language": "python",
   "name": "python3"
  },
  "language_info": {
   "codemirror_mode": {
    "name": "ipython",
    "version": 3
   },
   "file_extension": ".py",
   "mimetype": "text/x-python",
   "name": "python",
   "nbconvert_exporter": "python",
   "pygments_lexer": "ipython3",
   "version": "3.10.8"
  },
  "orig_nbformat": 4
 },
 "nbformat": 4,
 "nbformat_minor": 2
}
