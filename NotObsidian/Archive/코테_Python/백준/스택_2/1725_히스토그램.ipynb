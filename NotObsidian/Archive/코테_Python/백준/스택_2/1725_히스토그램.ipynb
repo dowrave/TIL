{
 "cells": [
  {
   "cell_type": "markdown",
   "id": "0c6e9493-fc70-4dcc-bbf3-61ed75bc8450",
   "metadata": {},
   "source": [
    "- 분할정복에서 나왔던 문제임\n",
    "- 가장 큰 직사각형의 넓이를 구하기"
   ]
  },
  {
   "cell_type": "code",
   "execution_count": 34,
   "id": "21d4eb20-18cc-4abf-9415-1693c3c3e61f",
   "metadata": {},
   "outputs": [
    {
     "name": "stdout",
     "output_type": "stream",
     "text": [
      "8\n"
     ]
    }
   ],
   "source": [
    "import sys\n",
    "sys.stdin = open('test.txt', 'r')\n",
    "input = sys.stdin.readline\n",
    "\n",
    "N = int(input())\n",
    "stack = [[0, 0]] # (인덱스, 값)\n",
    "max_area = 0 \n",
    "\n",
    "for i in range(1, N+2):\n",
    "    \n",
    "    if i == N + 1:\n",
    "        h = 0 \n",
    "    else:\n",
    "        h = int(input().strip())\n",
    "    \n",
    "    while h < stack[-1][1]: # 스택 top보다 현재 넣을 값이 작다면\n",
    "        _ , height = stack.pop()\n",
    "        while stack[-1][1] == height:\n",
    "            stack.pop()\n",
    "        temp_area = (i - stack[-1][0] - 1) * height\n",
    "        max_area = max(temp_area, max_area)\n",
    "        \n",
    "    \n",
    "    if i != N + 1:\n",
    "        stack.append([i , h])\n",
    "    \n",
    "print(max_area)"
   ]
  },
  {
   "cell_type": "markdown",
   "id": "1c39a8e5-8266-4869-bc03-6058203a364b",
   "metadata": {},
   "source": [
    "- 이전 풀이 : 기억나는 대로 써보자\n",
    "```\n",
    "\n",
    "1. 스택은 인덱스와 값으로 구성한다.\n",
    "    - 초기화는 [0, 0]으로, (인덱스, 높이값)으로 구성한다.\n",
    "2. 주어진 리스트 전체에 대해 반복문을 걸어준다\n",
    "    - 스택의 초기화를 [0, 0]으로 했기 때문에, 인덱스는 1부터 넣어준다.\n",
    "    - 종결 조건은 가장 아래 조건 참고\n",
    "3. 계속 현재 스택 top의 높이 값과 그 다음 넣을 높이 값을 비교한다.\n",
    "   분기 1-1. 만약 다음 넣을 높이 값이 현재 top의 높이 값보다 작다면, 현재 스택의 top 값을 pop한다. 그 높이 값을 이용할 거임\n",
    "   분기 1-2. 스택에서 그 다음의 top 값들에 대해, 현재 pop 된 높이 값과 동일한 경우에만 pop 해준다.\n",
    "   분기 1-3. 위 과정이 완료되면 현재 스택의 top 높이 값은 (3.)에서 최초에 pop된 높이 값보다 작을 것이다.\n",
    "   분기 1-4. (지금 넣을 인덱스 값과 현재 스택 top 인덱스 값의 차이 - 1)은 직사각형의 밑변이 된다. : 여기가 조금 헷갈리긴 한데, 현재 넣을 인덱스 값은 밑변에 포함되지 않기 때문임\n",
    "   분기 1-5. 따라서 (최초에 pop된 값의 높이) * (1-4 에서 구한 밑변)의 값은 히스토그램이 가질 수 있는 하나의 직사각형이 된다. 최댓값을 갱신한다.\n",
    "4. 위의 분기 과정은 스택 top의 높이가 지금 넣을 높이 값보다 큰 동안 계속 반복한다. \n",
    "5. \"모든 높이에 대해 계산해야 하므로\" 최초에 주어진 리스트의 마지막에 0을 넣는다. (0을 안넣으면 스택에 값들이 남음)\n",
    "    - 마지막에 0을 넣기 위해 주어진 값들의 수보다 1번 더 반복해야 한다.(n+1)회\n",
    "    - 2.의 조건과 합쳐서 반복문은 range(1, n+2)로 구성한다.\n",
    "-\n",
    "예제를 예로 들면\n",
    "2 1 4 5 1 3 3 임\n",
    "(높이 값만 생각하면) 1 4 5가 스택에 있고 1이 들어온다고 하자\n",
    "그러면 스택의 top인 5가 pop됨(인덱스 3, 높이 값 5)\n",
    "높이 = 5인 값을 갖는 스택의 요소들이 모두 pop되어야 하지만 없으니까 안함\n",
    "그러면 높이 5인 직사각형은 (4(지금 넣을 인덱스) - 2(현재 스택 top의 인덱스) - 1(\"지금 넣을 인덱스\"는 밑변에 포함이 안됨)) * 5 = 5의 넓이를 가짐\n",
    "한편, 그 다음 top인 높이 4도 1보다 크니까 반복문이 돌아간다. 그 결과 스택의 top에는 [1, 1]이라는 값이 남는다.\n",
    "이 직사각형의 넓이는 (4 - 1(현재 스택 top 인덱스) - 1) * 4 = 8이라는 값이 나옴\n",
    "   \n",
    "```"
   ]
  },
  {
   "cell_type": "code",
   "execution_count": 10,
   "id": "bb929385-f8e5-47aa-89d6-cb0e96a6f01c",
   "metadata": {},
   "outputs": [
    {
     "name": "stdout",
     "output_type": "stream",
     "text": [
      "2\n",
      "1\n",
      "4\n",
      "5\n",
      "1\n",
      "3\n",
      "3\n"
     ]
    },
    {
     "ename": "ValueError",
     "evalue": "invalid literal for int() with base 10: ''",
     "output_type": "error",
     "traceback": [
      "\u001b[1;31m---------------------------------------------------------------------------\u001b[0m",
      "\u001b[1;31mValueError\u001b[0m                                Traceback (most recent call last)",
      "\u001b[1;32m~\\AppData\\Local\\Temp/ipykernel_14780/758235478.py\u001b[0m in \u001b[0;36m<module>\u001b[1;34m\u001b[0m\n\u001b[0;32m      8\u001b[0m \u001b[1;33m\u001b[0m\u001b[0m\n\u001b[0;32m      9\u001b[0m \u001b[1;32mfor\u001b[0m \u001b[0mi\u001b[0m \u001b[1;32min\u001b[0m \u001b[0mrange\u001b[0m\u001b[1;33m(\u001b[0m\u001b[0mN\u001b[0m \u001b[1;33m+\u001b[0m \u001b[1;36m1\u001b[0m\u001b[1;33m)\u001b[0m\u001b[1;33m:\u001b[0m\u001b[1;33m\u001b[0m\u001b[1;33m\u001b[0m\u001b[0m\n\u001b[1;32m---> 10\u001b[1;33m     \u001b[0mh\u001b[0m \u001b[1;33m=\u001b[0m \u001b[0mint\u001b[0m\u001b[1;33m(\u001b[0m\u001b[0minput\u001b[0m\u001b[1;33m(\u001b[0m\u001b[1;33m)\u001b[0m\u001b[1;33m.\u001b[0m\u001b[0mstrip\u001b[0m\u001b[1;33m(\u001b[0m\u001b[1;33m)\u001b[0m\u001b[1;33m)\u001b[0m\u001b[1;33m\u001b[0m\u001b[1;33m\u001b[0m\u001b[0m\n\u001b[0m\u001b[0;32m     11\u001b[0m     \u001b[0mprint\u001b[0m\u001b[1;33m(\u001b[0m\u001b[0mh\u001b[0m\u001b[1;33m)\u001b[0m\u001b[1;33m\u001b[0m\u001b[1;33m\u001b[0m\u001b[0m\n",
      "\u001b[1;31mValueError\u001b[0m: invalid literal for int() with base 10: ''"
     ]
    }
   ],
   "source": [
    "import sys\n",
    "sys.stdin = open('test.txt', 'r')\n",
    "input = sys.stdin.readline\n",
    "\n",
    "N = int(input())\n",
    "stack = [[0, 0]] # (인덱스, 값)\n",
    "max_area = 0 \n",
    "\n",
    "for i in range(N + 1):\n",
    "    h = int(input().strip())\n",
    "    print(h)"
   ]
  },
  {
   "cell_type": "code",
   "execution_count": null,
   "id": "c756f873-be82-425f-8986-9937c3b793a9",
   "metadata": {},
   "outputs": [],
   "source": []
  }
 ],
 "metadata": {
  "kernelspec": {
   "display_name": "Python 3 (ipykernel)",
   "language": "python",
   "name": "python3"
  },
  "language_info": {
   "codemirror_mode": {
    "name": "ipython",
    "version": 3
   },
   "file_extension": ".py",
   "mimetype": "text/x-python",
   "name": "python",
   "nbconvert_exporter": "python",
   "pygments_lexer": "ipython3",
   "version": "3.9.13"
  }
 },
 "nbformat": 4,
 "nbformat_minor": 5
}
