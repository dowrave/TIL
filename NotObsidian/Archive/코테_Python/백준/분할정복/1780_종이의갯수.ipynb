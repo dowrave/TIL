{
 "cells": [
  {
   "cell_type": "code",
   "execution_count": 23,
   "id": "fbf1892d-e6f7-4043-8724-2dade3263487",
   "metadata": {},
   "outputs": [
    {
     "name": "stdout",
     "output_type": "stream",
     "text": [
      "10\n",
      "12\n",
      "11\n"
     ]
    }
   ],
   "source": [
    "import sys\n",
    "sys.stdin = open('test.txt', 'r')\n",
    "input = sys.stdin.readline \n",
    "n = int(input())\n",
    "matrix = []\n",
    "for _ in range(n):\n",
    "    matrix.append(list(map(int, input().strip().split())))    \n",
    "ans = [0, 0, 0]\n",
    "\n",
    "def func(start_row, end_row, start_col, end_col):\n",
    "    \"\"\"\n",
    "    N*N 행렬 -> end_row와 end_col은 N값으로 잡음\n",
    "    (행렬의 인덱스는 N-1까지 있다는 것에 유의!)\n",
    "    \"\"\"\n",
    "    \n",
    "    N = end_col - start_col # 최초 : end_col = N, start_col = 0\n",
    "    base = matrix[start_row][start_col]\n",
    "    \n",
    "    if N == 1:\n",
    "        ans[base+1] += 1\n",
    "        return\n",
    "    \n",
    "    flag = False\n",
    "    for i in range(start_row, end_row):\n",
    "        if flag:\n",
    "            break\n",
    "        for j in range(start_col, end_col):\n",
    "            if matrix[i][j] != base:\n",
    "                flag = True\n",
    "                break\n",
    "    \n",
    "    if flag:\n",
    "        # 재귀호출\n",
    "        lst_X = [start_row, start_row + N // 3, start_row + N // 3 * 2, start_row + N]\n",
    "        lst_Y = [start_col, start_col + N // 3, start_col + N // 3 * 2, start_col + N]\n",
    "        for i in range(3):\n",
    "            for j in range(3):\n",
    "                func(lst_X[i], lst_X[i+1], lst_Y[j], lst_Y[j+1])\n",
    "        \n",
    "        return\n",
    "    \n",
    "    ans[base+1] += 1\n",
    "    return\n",
    "\n",
    "func(0, n, 0, n)\n",
    "for i in ans:\n",
    "    print(i)"
   ]
  },
  {
   "cell_type": "markdown",
   "id": "88150b21-062c-44d9-adb8-8ff8f9a801b5",
   "metadata": {},
   "source": [
    "![ㅇㅇㅇ](./종이갯수.jpg)"
   ]
  },
  {
   "cell_type": "code",
   "execution_count": null,
   "id": "ac369884-a875-4afe-b1ae-61f78a78a752",
   "metadata": {},
   "outputs": [],
   "source": []
  }
 ],
 "metadata": {
  "kernelspec": {
   "display_name": "Python 3 (ipykernel)",
   "language": "python",
   "name": "python3"
  },
  "language_info": {
   "codemirror_mode": {
    "name": "ipython",
    "version": 3
   },
   "file_extension": ".py",
   "mimetype": "text/x-python",
   "name": "python",
   "nbconvert_exporter": "python",
   "pygments_lexer": "ipython3",
   "version": "3.9.13"
  }
 },
 "nbformat": 4,
 "nbformat_minor": 5
}
