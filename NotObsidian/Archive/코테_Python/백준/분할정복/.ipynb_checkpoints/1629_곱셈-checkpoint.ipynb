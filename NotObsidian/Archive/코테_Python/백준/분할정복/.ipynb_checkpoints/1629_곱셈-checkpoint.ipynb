{
 "cells": [
  {
   "cell_type": "code",
   "execution_count": 14,
   "id": "36985b36-5752-4876-aa10-d27b509b3a70",
   "metadata": {},
   "outputs": [
    {
     "name": "stdout",
     "output_type": "stream",
     "text": [
      "4\n"
     ]
    }
   ],
   "source": [
    "import sys\n",
    "sys.stdin = open('test.txt', 'r')\n",
    "input = sys.stdin.readline\n",
    "\n",
    "a, b, c = map(int ,input().split())\n",
    "\n",
    "# 나머지 연산엔 분배 법칙이 있다\n",
    "# (A*B) % R = ( (A%R) * (B%R) ) % R\n",
    "\n",
    "# 호출 수를 줄여야 하는데, 거듭제곱을 계속 반으로 나눠나가는 과정을 이용한다.\n",
    "def ans_modulo(a, b):\n",
    "\n",
    "    \n",
    "    if b == 1:\n",
    "        return a % c\n",
    "    \n",
    "    temp = ans_modulo(a, b//2)\n",
    "    \n",
    "    # b가 2 이상이면 아래 조건 식으로 들어감\n",
    "    # 2 이상의 모든 조건식은 제곱수를 반으로 나눈 것들의 곱이다\n",
    "    # 몫 연산을 썼기 때문에, 제곱수가 홀수라면 a를 한 번 더 곱해준다\n",
    "    if b % 2 == 0:\n",
    "        return (temp * temp) % c\n",
    "    \n",
    "    else:\n",
    "        return (temp * temp * a) % c\n",
    "\n",
    "print(ans_modulo(a, b) % c)\n"
   ]
  },
  {
   "cell_type": "code",
   "execution_count": 6,
   "id": "9a619e52-692c-4c30-8e26-ad3ec52eb43f",
   "metadata": {},
   "outputs": [
    {
     "name": "stdout",
     "output_type": "stream",
     "text": [
      "4\n",
      "21\n"
     ]
    }
   ],
   "source": [
    "call = 0\n",
    "def divide_modulo(a, b, c):\n",
    "    global call\n",
    "    call += 1\n",
    "    \"\"\"\n",
    "    시간 초과 : b = 11에 대해 총 21회 호출함\n",
    "    2개의 재귀함수를 호출하고, 각 케이스가 1이 될 때까지 계속 함수를 호출함\n",
    "    \"\"\"\n",
    "    if b == 1:\n",
    "        return a % c\n",
    "    \n",
    "    # b를 b // 2 와 b - b // 2 로 나눔\n",
    "    x1 = divide_modulo(a, b//2, c)\n",
    "    x2 = divide_modulo(a, b - b//2, c)\n",
    "    return (x1 * x2) % c\n",
    "\n",
    "print(divide_modulo(a, b, c))\n",
    "print(call)"
   ]
  },
  {
   "cell_type": "code",
   "execution_count": null,
   "id": "b24bf12f-a749-4bb8-8184-8eafb83be685",
   "metadata": {},
   "outputs": [],
   "source": []
  }
 ],
 "metadata": {
  "kernelspec": {
   "display_name": "Python 3 (ipykernel)",
   "language": "python",
   "name": "python3"
  },
  "language_info": {
   "codemirror_mode": {
    "name": "ipython",
    "version": 3
   },
   "file_extension": ".py",
   "mimetype": "text/x-python",
   "name": "python",
   "nbconvert_exporter": "python",
   "pygments_lexer": "ipython3",
   "version": "3.9.13"
  }
 },
 "nbformat": 4,
 "nbformat_minor": 5
}
