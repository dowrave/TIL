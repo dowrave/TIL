{
 "cells": [
  {
   "cell_type": "code",
   "execution_count": 6,
   "id": "73d27711-fba2-481a-816d-f31901c8b97b",
   "metadata": {},
   "outputs": [
    {
     "name": "stdout",
     "output_type": "stream",
     "text": [
      "1\n"
     ]
    }
   ],
   "source": [
    "import sys\n",
    "sys.stdin = open('test.txt', 'r')\n",
    "input = sys.stdin.readline\n",
    "N = int(input().strip())\n",
    "\n",
    "# N번째 피보나치 수를 구하시오 \n",
    "\n",
    "base_matrix = [[1, 1], [1, 0]]\n",
    "dct = {}\n",
    "dct[0], dct[1] = 0, 1 # 0번째 피보나치 수는 0, 1번째 피보나치 수는 1이다\n",
    "X = 1000000007\n",
    "\n",
    "def matmul(A, B):\n",
    "    new_matrix = [[0] * 2 for _ in range(2)]\n",
    "    for i in range(2):\n",
    "        for j in range(2):\n",
    "            for k in range(2):\n",
    "                new_matrix[i][j] += (A[i][k] * B[k][j]) % X\n",
    "                new_matrix[i][j] = new_matrix[i][j] % X\n",
    "    return new_matrix\n",
    "\n",
    "def matrix_fibo(n):\n",
    "    \n",
    "    if n == 1: # 가장 아래 지점은 인데 n번째 피보나치 행렬의 매트릭스는 n=1부터여야 말이 됨\n",
    "        return base_matrix\n",
    "    \n",
    "    if n not in dct.keys():\n",
    "        temp = matrix_fibo(n // 2)\n",
    "        temp = matmul(temp, temp)\n",
    "        \n",
    "        if n %2 == 0:\n",
    "            dct[n] = temp[0][1]\n",
    "            return temp\n",
    "        \n",
    "        else:\n",
    "            temp = matmul(temp, base_matrix)\n",
    "            dct[n] = temp[0][1]\n",
    "            return temp\n",
    "\n",
    "    # 값이 있다면 그냥 value만 리턴\n",
    "    return dct[n]\n",
    "    \n",
    "matrix_fibo(N)\n",
    "print(dct[N])"
   ]
  },
  {
   "cell_type": "code",
   "execution_count": null,
   "id": "fa48e365-be65-4e38-8bd9-d62cc5dec7dc",
   "metadata": {},
   "outputs": [],
   "source": []
  },
  {
   "cell_type": "markdown",
   "id": "b9e0dfd9-2959-4f08-b482-7b50e1ed1bb8",
   "metadata": {},
   "source": [
    "- 행렬의 거듭 제곱과 피보나치 수열\n",
    "$$\n",
    "\\left( \\begin{matrix} 1 & 1 \\\\ 1 & 0 \\\\ \\end{matrix}\\right)^n = \\left( \\begin{matrix} F_{n+1} & F_{n} \\\\ F_{n} & F_{n-1}\\end{matrix}\\right)\n",
    "$$"
   ]
  },
  {
   "cell_type": "markdown",
   "id": "2ce7ffc8-3849-433c-b0f0-0e848d9d8b75",
   "metadata": {},
   "source": []
  },
  {
   "cell_type": "code",
   "execution_count": null,
   "id": "b014eb71-50bd-4b9f-ac80-0b7ed85e1290",
   "metadata": {},
   "outputs": [],
   "source": []
  }
 ],
 "metadata": {
  "kernelspec": {
   "display_name": "Python 3 (ipykernel)",
   "language": "python",
   "name": "python3"
  },
  "language_info": {
   "codemirror_mode": {
    "name": "ipython",
    "version": 3
   },
   "file_extension": ".py",
   "mimetype": "text/x-python",
   "name": "python",
   "nbconvert_exporter": "python",
   "pygments_lexer": "ipython3",
   "version": "3.9.13"
  }
 },
 "nbformat": 4,
 "nbformat_minor": 5
}
