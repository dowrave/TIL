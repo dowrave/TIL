{
 "cells": [
  {
   "cell_type": "code",
   "execution_count": 22,
   "id": "5cec0144-73c3-44bb-b40a-ace57b0e19d5",
   "metadata": {},
   "outputs": [
    {
     "name": "stdout",
     "output_type": "stream",
     "text": [
      "512 0 0 0 512\n",
      "512 0 0 0 512\n",
      "512 0 0 0 512\n",
      "512 0 0 0 512\n",
      "512 0 0 0 512\n"
     ]
    }
   ],
   "source": [
    "import sys\n",
    "sys.stdin = open('test.txt', 'r')\n",
    "input = sys.stdin.readline\n",
    "\n",
    "N, B = map(int, input().split())\n",
    "matrix = []\n",
    "for _ in range(N):\n",
    "    matrix.append(list(map(int, input().split())))\n",
    "\n",
    "# 일단 각 행렬을 거듭제곱하므로, 최초 행렬을 1000으로 나머지 연산해줌\n",
    "matrix = [list(map(lambda x : x % 1000, i)) for i in matrix]\n",
    "# 행렬 N을 B제곱하는데 각 값은 1000으로 나눈 나머지여야 함\n",
    "\n",
    "# 기존 정수의 거듭제곱을 행렬에 맞게 커스터마이징하면 될 듯?\n",
    "\n",
    "def matmul(A: list, B: list):\n",
    "    \"\"\"행렬 크기는 N으로 정해졌다고 하자\"\"\"\n",
    "    new_matrix = [[0] * N for _ in range(N)]\n",
    "    \n",
    "    for i in range(N):\n",
    "        for j in range(N):\n",
    "            for k in range(N):\n",
    "                new_matrix[i][j] += (A[i][k] * B[k][j]) % 1000\n",
    "            new_matrix[i][j] = new_matrix[i][j] % 1000\n",
    "    return new_matrix\n",
    "\n",
    "def power(n, b):\n",
    "    if b == 1:\n",
    "        return matrix\n",
    "    \n",
    "    temp = power(n, b // 2)\n",
    "    temp = matmul(temp, temp)\n",
    "    \n",
    "    if b % 2 == 0:\n",
    "        return temp\n",
    "    else:\n",
    "        return matmul(temp, matrix)\n",
    "\n",
    "ans = power(N, B)\n",
    "for i in ans:\n",
    "    print(\" \".join(map(str, i)))"
   ]
  },
  {
   "cell_type": "markdown",
   "id": "b68f5633-e2a5-4cbf-b429-e69166a5f90f",
   "metadata": {},
   "source": [
    "- 행렬 A를 N제곱한 행렬이 있다고 치자\n",
    "- 그러면 A는 $A^{N//2} * A^{N//2} ( * A)$ 일 거임\n",
    "- 그렇게 쭉 내려가서 A까지 가면 A의 각 값을 1000으로 나눈 행렬을 반환함"
   ]
  },
  {
   "cell_type": "code",
   "execution_count": null,
   "id": "7bebfbc7-0a6b-44cc-b980-0a2fbd6dc8e0",
   "metadata": {},
   "outputs": [],
   "source": []
  }
 ],
 "metadata": {
  "kernelspec": {
   "display_name": "Python 3 (ipykernel)",
   "language": "python",
   "name": "python3"
  },
  "language_info": {
   "codemirror_mode": {
    "name": "ipython",
    "version": 3
   },
   "file_extension": ".py",
   "mimetype": "text/x-python",
   "name": "python",
   "nbconvert_exporter": "python",
   "pygments_lexer": "ipython3",
   "version": "3.9.13"
  }
 },
 "nbformat": 4,
 "nbformat_minor": 5
}
