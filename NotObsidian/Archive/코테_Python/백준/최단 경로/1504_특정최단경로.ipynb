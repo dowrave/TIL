{
 "cells": [
  {
   "cell_type": "markdown",
   "id": "2f905305-de9a-4abf-bfce-dbe69ee6bc0f",
   "metadata": {},
   "source": [
    "- [문제 링크](https://www.acmicpc.net/problem/1504)\n",
    "- 주어진 두 정점을 반드시 거치면서 최단 경로로 이동하는 프로그램?\n",
    "- 점의 이동은 1번에서 N번으로 이동한다"
   ]
  },
  {
   "cell_type": "code",
   "execution_count": 5,
   "id": "5c0e2ca7-dedd-4607-9948-98aac857f8dc",
   "metadata": {},
   "outputs": [
    {
     "name": "stdout",
     "output_type": "stream",
     "text": [
      "7\n"
     ]
    }
   ],
   "source": [
    "import sys\n",
    "import heapq\n",
    "sys.stdin = open('test.txt')\n",
    "input = sys.stdin.readline\n",
    "N, E = map(int, input().split())\n",
    "graph = [[] for _ in range(N + 1)]\n",
    "\n",
    "for _ in range(E):\n",
    "    a, b, w = map(int, input().split())\n",
    "    graph[a].append([w, b])\n",
    "    graph[b].append([w, a])\n",
    "\n",
    "v1, v2 = map(int, input().split()) # 반드시 지나야 하는 두 정점\n",
    "\n",
    "def dijkstra(start_node):\n",
    "    q = []\n",
    "    dist = [float('inf')] * (N + 1)\n",
    "    dist[start_node] = 0\n",
    "    heapq.heappush(q, [0, start_node])\n",
    "    \n",
    "    while q:\n",
    "        now_dist, now_node = heapq.heappop(q)\n",
    "        \n",
    "        if dist[now_node] < now_dist:\n",
    "            continue\n",
    "            \n",
    "        for next_dist, next_node in graph[now_node]:\n",
    "            total_dist = now_dist + next_dist\n",
    "            if total_dist < dist[next_node]:\n",
    "                dist[next_node] = total_dist\n",
    "                heapq.heappush(q, [total_dist, next_node])\n",
    "\n",
    "                \n",
    "    return dist\n",
    "\n",
    "start_dist = dijkstra(1)\n",
    "v1_dist = dijkstra(v1)\n",
    "v2_dist = dijkstra(v2)\n",
    "\n",
    "case1 = start_dist[v1] + v1_dist[v2] + v2_dist[N]\n",
    "if case1 == float('inf'):\n",
    "    print(-1)\n",
    "else:\n",
    "    case2 = start_dist[v2] + v2_dist[v1] + v1_dist[N]\n",
    "    print(min(case1, case2))"
   ]
  },
  {
   "cell_type": "markdown",
   "id": "165cb880-bd17-496b-9c1e-d3e3146d0520",
   "metadata": {},
   "source": [
    "- 한 점에서 나머지 점들까지의 최소 거리를 구하는 게 다익스트라 알고리즘이다\n",
    "- 그러면 경로는 \n",
    "    - `1 -> v1 -> v2 -> N`\n",
    "    - `1 -> v2 -> v1 -> N`\n",
    "    - 이 2가지만 남게 됨\n",
    "- 그러면 이런걸 생각해볼 수 있겠다\n",
    "    - `1, v1, v2` 3개의 점에 대해 다익스트라 알고리즘을 돌림\n",
    "    - 각 알고리즘은 다른 점까지의 거리 리스트를 반환하게 함\n",
    "    - 그러면 `1번의 v1 + v1의 v2 + v2의 N` 값과\n",
    "    - `1번의 v2 + v2의 v1 + v1의 N` 값을 구할 수 있을 거임\n",
    "    - 만약 그 값이 무한이면 도달 불가니까 -1을 반환하면 되고\n",
    "    - 둘 다 값이 있다면 그 중 작은 값이 최소 경로가 되겠죠?"
   ]
  },
  {
   "cell_type": "code",
   "execution_count": null,
   "id": "86db1c95-1c97-4e2e-93ab-972b6a4ccd91",
   "metadata": {},
   "outputs": [],
   "source": []
  }
 ],
 "metadata": {
  "kernelspec": {
   "display_name": "Python 3 (ipykernel)",
   "language": "python",
   "name": "python3"
  },
  "language_info": {
   "codemirror_mode": {
    "name": "ipython",
    "version": 3
   },
   "file_extension": ".py",
   "mimetype": "text/x-python",
   "name": "python",
   "nbconvert_exporter": "python",
   "pygments_lexer": "ipython3",
   "version": "3.9.13"
  }
 },
 "nbformat": 4,
 "nbformat_minor": 5
}
