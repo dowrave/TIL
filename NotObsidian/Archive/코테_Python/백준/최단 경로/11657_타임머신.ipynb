{
 "cells": [
  {
   "cell_type": "code",
   "execution_count": 15,
   "id": "e8388198-6754-4dc3-87ca-cff7cc9f8294",
   "metadata": {},
   "outputs": [
    {
     "name": "stdout",
     "output_type": "stream",
     "text": [
      "3\n",
      "-1\n"
     ]
    }
   ],
   "source": [
    "import sys\n",
    "sys.stdin = open('test.txt', 'r')\n",
    "input = sys.stdin.readline\n",
    "\n",
    "INF = int(1e9)\n",
    "\n",
    "V, E = map(int, input().split())\n",
    "edges = []\n",
    "distance = [INF] * (V + 1)\n",
    "for _ in range(E):    \n",
    "    a, b, c = map(int, input().split())\n",
    "    edges.append((a, b, c))\n",
    "    \n",
    "def bellman_ford(start_node):\n",
    "    \n",
    "    distance[start_node] = 0\n",
    "    \n",
    "    for i in range(V):\n",
    "        for now_node, next_node, cost in edges:\n",
    "            if (distance[now_node] != INF and \n",
    "            distance[next_node] > distance[now_node] + cost):\n",
    "                distance[next_node] = distance[now_node] + cost\n",
    "                if i == V - 1:\n",
    "                    return False\n",
    "\n",
    "    return True\n",
    "\n",
    "cycle = bellman_ford(1)\n",
    "if cycle == False:\n",
    "    print(\"-1\")\n",
    "else:\n",
    "    for i in range(2, V + 1):\n",
    "        if distance[i] == INF:\n",
    "            print('-1')\n",
    "        else:\n",
    "            print(distance[i])\n",
    "    "
   ]
  },
  {
   "cell_type": "markdown",
   "id": "59eddb56-df7f-49af-ad6c-8bd65afa3369",
   "metadata": {},
   "source": [
    "### Bellman-Ford 알고리즘의 기본 골자\n",
    "1. 준비물 : 시작점 ~ 각 점까지의 `거리 배열` / 각 간선은 통째로 저장해둠(시작점, 도착점, 가중치)  \n",
    "\n",
    "\n",
    "\n",
    "2. 각 간선에 대해 반복문을 돌림 \n",
    "\t>`dist[now_node] != INF` : 시작점까지의 거리가 무한이 아니면서\n",
    "\t> `dist[next_node] > dist[now_node] + cost` : 지금 배열에 저장된 길이가, 넣으려는 길이보다 더 길다면\n",
    "\t `거리 배열`의 해당 인덱스 값을 갱신함\n",
    "\n",
    "3. 2번 과정을 `노드의 수 - 1`회 수행함\n",
    "\t- 왜냐하면 시작점 ~ 도착점까지 최대로 거쳐가야 가는 간선의 수는 `노드 수 - 1`이기 때문임 \n",
    "\t- 2번 과정 자체는 1개의 간선에 대해 수행되지만, 이게 누적되면 여러 간선에 대해 적용할 수 있음 \n",
    "    \n",
    "    \n",
    "    \n",
    "\n",
    "4. 반복문을 1번 더 돌림 : `거리 배열`이 갱신되는 상황이라면, 이 알고리즘은 성립하지  않음\n",
    "\t- 음의 사이클이 있다는 의미이기 떄문에 최소 거리를 찾는다면 음의 무한이 나오기 때문"
   ]
  },
  {
   "cell_type": "code",
   "execution_count": null,
   "id": "ee8c6b19-2042-400f-8563-dd91b9c67e5b",
   "metadata": {},
   "outputs": [],
   "source": []
  }
 ],
 "metadata": {
  "kernelspec": {
   "display_name": "Python 3 (ipykernel)",
   "language": "python",
   "name": "python3"
  },
  "language_info": {
   "codemirror_mode": {
    "name": "ipython",
    "version": 3
   },
   "file_extension": ".py",
   "mimetype": "text/x-python",
   "name": "python",
   "nbconvert_exporter": "python",
   "pygments_lexer": "ipython3",
   "version": "3.9.13"
  }
 },
 "nbformat": 4,
 "nbformat_minor": 5
}
