{
 "cells": [
  {
   "cell_type": "markdown",
   "id": "56735f89-7068-40da-8ce0-5b496cbb4da6",
   "metadata": {},
   "source": [
    "- [문제 링크](https://www.acmicpc.net/problem/1753)"
   ]
  },
  {
   "cell_type": "code",
   "execution_count": 19,
   "id": "e95d6fae-dafe-4a8d-b987-522f910e965b",
   "metadata": {},
   "outputs": [
    {
     "name": "stdout",
     "output_type": "stream",
     "text": [
      "0\n",
      "2\n",
      "3\n",
      "7\n",
      "INF\n"
     ]
    }
   ],
   "source": [
    "import sys\n",
    "import heapq\n",
    "sys.stdin = open('test.txt', 'r')\n",
    "input = sys.stdin.readline\n",
    "\n",
    "V, E = map(int, input().split())\n",
    "K = int(input())\n",
    "\n",
    "# 단방향 가중치 그래프 구성\n",
    "graph = [[] for _ in range(V + 1)]\n",
    "\n",
    "for _ in range(E):\n",
    "    a, b, w = map(int, input().split())\n",
    "    graph[a].append([w, b]) # a번째 node가 방문할 수 있는 노드 b와, 그 거리(가중치) w\n",
    "    \n",
    "dist = [float('inf')] * (V + 1)\n",
    "\n",
    "def dijkstra(start_node):\n",
    "    \n",
    "    dist[start_node] = 0\n",
    "    queue = []\n",
    "    \n",
    "    heapq.heappush(queue, [dist[start_node], start_node])\n",
    "    \n",
    "    while queue:\n",
    "        now_dist, now_node = heapq.heappop(queue)\n",
    "        \n",
    "        # 이 if절의 의미는 아래 마크다운 참고\n",
    "        if dist[now_node] < now_dist:\n",
    "            continue\n",
    "    \n",
    "        for next_dist, next_node in graph[now_node]:\n",
    "            total_dist = next_dist + dist[now_node]\n",
    "            if dist[next_node] > total_dist:\n",
    "                dist[next_node] = total_dist \n",
    "                heapq.heappush(queue, [total_dist, next_node]) \n",
    "                \n",
    "dijkstra(K)\n",
    "for i in dist[1:]:\n",
    "    if i == float('inf'):\n",
    "        print('INF')\n",
    "    else:\n",
    "        print(i)"
   ]
  },
  {
   "cell_type": "markdown",
   "id": "b22ac9a0-bd82-4e4c-9313-59c1f41351f1",
   "metadata": {},
   "source": [
    "## 다익스트라 알고리즘\n",
    "- 우선순위 큐를 이용하면 $O(E log V)$로 구현할 수 있음\n",
    "- 준비물 : 우선순위 큐(heapq), 단방향 가중치 그래프, 최소거리 배열\n",
    "- 과정  \n",
    "> 1. 초기화\n",
    ">> - 그래프 : (거리, 노드)로 구성한다.  \n",
    ">> - 최소거리 배열은 모두 무한(or 매우 큰 값)으로 만든 뒤, 시작점에 해당하는 인덱스만 0으로 만든다  \n",
    ">> - 우선순위 큐는 (0, 시작 노드)을 push한다\n",
    "> 2. 우선순위 큐가 존재하는 동안 아래 반복문이 돌아간다.\n",
    ">> 1. 우선순위 큐를 pop하면 (현재까지의 거리, 현재 노드)가 나온다.  \n",
    ">> (분기) 2. `pop된 현재까지의 거리`와 `최소거리 배열의 현재 인덱스` 값을 비교한다. 전자가 더 큰 값이라면 큐의 다음 원소로 그냥 넘어간다.  \n",
    ">> (분기) 3. 그게 아니라면, 현재 노드에서 갈 수 있는 다음 노드들에 대한 반복문을 돌린다 .  \n",
    ">>> 이 다음 노드들까지 갈 수 있는 `누적 거리`는 `현재 노드까지의 거리` + `현재 노드 -> 다음 노드`의 거리이다.  \n",
    ">>> 이 `누적 거리` 값이 `최소거리 배열`의 다음 노드 인덱스가 갖는 값보다 작다면, 최솟값을 갱신하고 그 누적 거리와 다음 노드를 우선순위 큐에 푸시한다.\n",
    "\n",
    "\n",
    "- if 설명\n",
    "> 1. 지나가는 과정에서 길이 있어서 최솟값을 갱신했음\n",
    "> 2. 근데 더 짧은 값이 있어서 그 쪽으로 돌아간 거임\n",
    "> 3. 그랬더니 그 돌아간 경로가 더 짧네? -> 거리 배열에서 최솟값이 갱신됨\n",
    "> 4. 여차저차해서 1. 과정에서 우선순위 큐에 푸시했던 값의 차례가 옴\n",
    "> 5. 근데 3.에서 1.보다 더 작은 값으로 거리 배열에 저장되어 있음\n",
    "> 6. 따라서 이런 케이스에서는 우선순위 큐에서 pop한 값이 방문 배열의 값보다 크게 되므로, 굳이 살펴볼 필요가 없음(최소 거리가 이미 아니기 때문에)"
   ]
  },
  {
   "cell_type": "code",
   "execution_count": null,
   "id": "a360e832-4569-4d9e-bc2a-2c1a91932ce7",
   "metadata": {},
   "outputs": [],
   "source": []
  }
 ],
 "metadata": {
  "kernelspec": {
   "display_name": "Python 3 (ipykernel)",
   "language": "python",
   "name": "python3"
  },
  "language_info": {
   "codemirror_mode": {
    "name": "ipython",
    "version": 3
   },
   "file_extension": ".py",
   "mimetype": "text/x-python",
   "name": "python",
   "nbconvert_exporter": "python",
   "pygments_lexer": "ipython3",
   "version": "3.9.13"
  }
 },
 "nbformat": 4,
 "nbformat_minor": 5
}
