{
 "cells": [
  {
   "cell_type": "markdown",
   "id": "91c035f9-66b8-4d8c-9de9-7554db10358b",
   "metadata": {},
   "source": [
    "- [문제 링크](https://www.acmicpc.net/problem/9370)"
   ]
  },
  {
   "cell_type": "code",
   "execution_count": 3,
   "id": "84e46e04-6be7-4728-b16c-d22758497886",
   "metadata": {},
   "outputs": [
    {
     "name": "stdout",
     "output_type": "stream",
     "text": [
      "4 5\n",
      "6\n"
     ]
    }
   ],
   "source": [
    "import sys\n",
    "import heapq\n",
    "sys.stdin = open('test.txt', 'r')\n",
    "input = sys.stdin.readline\n",
    "\n",
    "\n",
    "def dijkstra(start_node):\n",
    "    q = []\n",
    "    dist = [float('inf')] * (n + 1)\n",
    "    # dist = {node: float('inf') for node in graph}\n",
    "    dist[start_node] = 0 \n",
    "    \n",
    "    # 초기화 그냥 q = [(0, start_node)]로 해도 되잖아 ㅋㅋㅋ\n",
    "    heapq.heappush(q, [0, start_node])\n",
    "    \n",
    "    while q:\n",
    "        now_dist, now_node = heapq.heappop(q)\n",
    "        \n",
    "        if dist[now_node] < now_dist:\n",
    "            continue\n",
    "        \n",
    "        for next_dist, next_node in graph[now_node]:\n",
    "            total_dist = now_dist + next_dist\n",
    "            if total_dist < dist[next_node]:\n",
    "                dist[next_node] = total_dist\n",
    "                heapq.heappush(q, [total_dist, next_node])\n",
    "    \n",
    "    return dist\n",
    "\n",
    "T = int(input())\n",
    "    \n",
    "for _ in range(T):\n",
    "    n, m, t = map(int, input().split()) # 교차로, 도로, 목적지 후보 갯수\n",
    "    s, g, h = map(int, input().split()) # 출발지, g와 h는 반드시 지나간 점\n",
    "    graph = [[] for _ in range(n + 1)]\n",
    "\n",
    "    for _ in range(m):\n",
    "        a, b, d = map(int, input().split())\n",
    "        graph[a].append([d, b])\n",
    "        graph[b].append([d, a])\n",
    "\n",
    "    start_dist = dijkstra(s)\n",
    "    mid1_dist = dijkstra(g)\n",
    "    mid2_dist = dijkstra(h)\n",
    "    \n",
    "    dest_lst = []\n",
    "    for _ in range(t):\n",
    "        dest = int(input())\n",
    "        case0 = start_dist[dest]\n",
    "        case1 = start_dist[g] + mid1_dist[h] + mid2_dist[dest]\n",
    "        case2 = start_dist[h] + mid2_dist[g] + mid1_dist[dest]\n",
    "        \n",
    "        if case0 == min(case1, case2):\n",
    "        # if case0 == case1 or case0 == case2:\n",
    "            dest_lst.append(dest)\n",
    "        else:\n",
    "            continue\n",
    "            \n",
    "    dest_lst.sort()\n",
    "    print(*dest_lst)\n",
    "        \n",
    "        \n",
    "# 출력 : 목적지 후보 중 불가능한 경우를 빼고 오름차순 출력\n"
   ]
  },
  {
   "cell_type": "markdown",
   "id": "61e2558a-fa23-4bdf-a970-4d38816b3b61",
   "metadata": {},
   "source": [
    "- 뭔가 더럽게 줬는데\n",
    "- 결국 앞에서 했던 \"반드시 지나야 하는 점이 있는\" 최소 경로 문제랑 같은 거 아님?\n",
    "    -> 도달이 불가능한 조건만 다른 문제임\n",
    "### 예제를 보면 도달이 불가능한 케이스를 따질 수 있음\n",
    "- 어떤 점에 도달해야 한다면 최소 거리로만 간다\n",
    "- 근데 출발점과 반드시 지나야 하는 점이 있다면,\n",
    "- 어떤 도착점에 대해서는 최소 거리를 초과할 수 있다는 거임\n",
    "- 예제에서 5가 도착점이 될 수 없는 이유는, 1-3 을 지나면 최소 거리로 도달할 수 없기 때문임\n",
    "\n",
    "---\n",
    "- 그러면 저걸 어떻게 정의하느냐가 문제인데, 어려울 건 없는 듯?\n",
    "```\n",
    "1. 시작점, 중간점1, 중간점2에 대한 거리 리스트를 다익스트라 알고리즘으로 얻는다.\n",
    "2. 시작점 -> 도착점 값은 시작점 리스트에서 얻을 수 있음\n",
    "3. 시작점 -> 중간점 1 -> 중간점 2 -> 도착점 or 시작점 -> 중간점 2 -> 중간점 1 -> 도착점 중 최솟값이 2.에서 얻은 값과 같아야 도착 가능할 거임\n",
    "```"
   ]
  },
  {
   "cell_type": "markdown",
   "id": "a063032f-5c2c-4283-bbaf-301d28034e2d",
   "metadata": {},
   "source": [
    "## 이슈 발생\n",
    "- 시작 점에서 방문 거리 리스트인 `dist` 초기화할 때의 이슈임\n",
    "- 각 원소를 `float('inf')`로 초기화하면 `틀렸습니다`가 떴는데\n",
    "- `1e10`으로 초기화하니까 `맞았습니다!!`가 떴다.\n",
    "\n",
    "---\n",
    "- GPT님께 물어보니까 \n",
    "1. `float('inf')`는 양의 무한으로, **소수로 표현되는 어떤 값보다 크다**는 것을 의미한다. 즉 수의 크기를 비교하는 상황에서 어떤 값보다 항상 큰 수가 있음을 나타내는 것임 -> **가끔 예상치 못한 문제가 발생**하기도 함\n",
    "2. **적당히 큰 수를 넣는 경우**는 리스트의 모든 수가 유한하고, 비교 가능하다는 것을 의미함. **float('inf')로 인한 문제가 발생하지 않음.**"
   ]
  },
  {
   "cell_type": "code",
   "execution_count": 9,
   "id": "701dc8ed-4192-4a8e-8dfa-e646262f8a6e",
   "metadata": {},
   "outputs": [
    {
     "name": "stdout",
     "output_type": "stream",
     "text": [
      "1\n"
     ]
    }
   ],
   "source": [
    "# 이게 1.에서 예로 들어준 케이스긴 한데, 이해가 안된다.\n",
    "numbers = [1, 2, 3, 4, 5, float('inf')]\n",
    "smallest = min(numbers)\n",
    "print(smallest) # ?이게 문제가 된다고?"
   ]
  },
  {
   "cell_type": "code",
   "execution_count": 12,
   "id": "32b9025b-e42c-4735-a00e-015846a72ca0",
   "metadata": {},
   "outputs": [
    {
     "data": {
      "text/plain": [
       "9223372036854775807"
      ]
     },
     "execution_count": 12,
     "metadata": {},
     "output_type": "execute_result"
    }
   ],
   "source": []
  },
  {
   "cell_type": "code",
   "execution_count": null,
   "id": "427d4d02-dfba-4184-9896-59f38f9db5df",
   "metadata": {},
   "outputs": [],
   "source": []
  }
 ],
 "metadata": {
  "kernelspec": {
   "display_name": "Python 3 (ipykernel)",
   "language": "python",
   "name": "python3"
  },
  "language_info": {
   "codemirror_mode": {
    "name": "ipython",
    "version": 3
   },
   "file_extension": ".py",
   "mimetype": "text/x-python",
   "name": "python",
   "nbconvert_exporter": "python",
   "pygments_lexer": "ipython3",
   "version": "3.9.13"
  }
 },
 "nbformat": 4,
 "nbformat_minor": 5
}
