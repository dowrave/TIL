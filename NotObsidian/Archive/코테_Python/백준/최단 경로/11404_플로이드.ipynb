{
 "cells": [
  {
   "cell_type": "code",
   "execution_count": 4,
   "id": "36892192-e859-4c9e-a951-dcfc947348b9",
   "metadata": {},
   "outputs": [
    {
     "name": "stdout",
     "output_type": "stream",
     "text": [
      "0 2 3 1 10\n",
      "1000000000 0 1000000000 2 1000000000\n",
      "8 1000000000 0 1 1\n",
      "1000000000 1000000000 1000000000 0 3\n",
      "7 4 1000000000 1000000000 0\n",
      "0 2 3 1 4\n",
      "12 0 15 2 5\n",
      "8 5 0 1 1\n",
      "10 7 13 0 3\n",
      "7 4 10 6 0\n"
     ]
    }
   ],
   "source": [
    "import sys\n",
    "sys.stdin = open('test.txt', 'r')\n",
    "input = sys.stdin.readline\n",
    "\n",
    "INF = int(1e9)\n",
    "\n",
    "n = int(input())\n",
    "m = int(input())\n",
    "graph = [[INF] * (n + 1) for _ in range(n + 1)]\n",
    "\n",
    "for i in range(1, n+1):\n",
    "    graph[i][i] = 0\n",
    "\n",
    "for i in range(m):\n",
    "    a, b, w = map(int, input().split())\n",
    "    # 최소 거리 정보만 필요함\n",
    "    if graph[a][b] > w:\n",
    "        graph[a][b] = w\n",
    "\n",
    "def floyd_warshall():\n",
    "    for i in range(1, n + 1): # 중간 노드\n",
    "        for j in range(1, n + 1):\n",
    "            for k in range(1, n + 1):\n",
    "                graph[j][k] = min(graph[j][k],\n",
    "                                 graph[j][i] + graph[i][k])\n",
    "                \n",
    "    # 갈 수 없는 경우는 0으로 돌려달라고 했음\n",
    "    for j in range(1, n+1):\n",
    "        for k in range(1, n+1):\n",
    "            if graph[j][k] == INF:\n",
    "                graph[j][k] = 0\n",
    "\n",
    "floyd_warshall()\n",
    "for i in graph[1:]:\n",
    "    print(*i[1:])"
   ]
  },
  {
   "cell_type": "code",
   "execution_count": null,
   "id": "d8e42852-ed79-447f-bf21-b13d5d9dfb93",
   "metadata": {},
   "outputs": [],
   "source": []
  }
 ],
 "metadata": {
  "kernelspec": {
   "display_name": "Python 3 (ipykernel)",
   "language": "python",
   "name": "python3"
  },
  "language_info": {
   "codemirror_mode": {
    "name": "ipython",
    "version": 3
   },
   "file_extension": ".py",
   "mimetype": "text/x-python",
   "name": "python",
   "nbconvert_exporter": "python",
   "pygments_lexer": "ipython3",
   "version": "3.9.13"
  }
 },
 "nbformat": 4,
 "nbformat_minor": 5
}
