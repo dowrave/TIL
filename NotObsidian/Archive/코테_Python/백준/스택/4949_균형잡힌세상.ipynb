{
 "cells": [
  {
   "cell_type": "code",
   "execution_count": 11,
   "id": "53850d10-3c15-4632-89ac-f67211d6cbce",
   "metadata": {},
   "outputs": [
    {
     "name": "stdout",
     "output_type": "stream",
     "text": [
      "yes\n",
      "yes\n",
      "no\n",
      "no\n",
      "no\n",
      "yes\n",
      "yes\n"
     ]
    }
   ],
   "source": [
    "import sys\n",
    "sys.stdin = open('test.txt', 'r')\n",
    "input = sys.stdin.readline\n",
    "\n",
    "# 스택을 따로 구현하는 방법으론 못 푼다\n",
    "# ([)] 이거는 no가 정답이기 때문임\n",
    "while True:\n",
    "    string = input().rstrip('\\n')\n",
    "    if string == '.':\n",
    "        break\n",
    "    \n",
    "    stack = []\n",
    "    \n",
    "    \n",
    "    for i in string:\n",
    "        if i == '(' or i == '[':\n",
    "            stack.append(i)\n",
    "        elif i == ')':\n",
    "            if stack == [] or stack[-1] != '(':\n",
    "                stack.append(i)\n",
    "                break\n",
    "            elif stack[-1] == '(':\n",
    "                stack.pop()\n",
    "        elif i == ']':\n",
    "            if stack == [] or stack[-1] != '[':\n",
    "                stack.append(i)\n",
    "                break\n",
    "            elif stack[-1] == '[':\n",
    "                stack.pop()\n",
    "        \n",
    "    if stack == []:\n",
    "        print('yes')\n",
    "    else:\n",
    "        print('no')"
   ]
  },
  {
   "cell_type": "markdown",
   "id": "c9cc6ac5-6c2c-4f3a-b625-593f4d7596db",
   "metadata": {},
   "source": [
    "- 조건이 너무 지저분해 보임\n",
    "1. '(' 나 '['가 나오면 append\n",
    "2. ')'나 ']'가 나왔을 때는\n",
    "    1. stack의 마지막 인덱스와 매칭이 된다면 pop\n",
    "    2. 매칭이 되지 않거나, stack이 비어있다면 break하면 되나?"
   ]
  },
  {
   "cell_type": "code",
   "execution_count": null,
   "id": "ee4376dc-f0cd-492e-8901-a1d42884b2da",
   "metadata": {},
   "outputs": [],
   "source": []
  }
 ],
 "metadata": {
  "kernelspec": {
   "display_name": "Python 3 (ipykernel)",
   "language": "python",
   "name": "python3"
  },
  "language_info": {
   "codemirror_mode": {
    "name": "ipython",
    "version": 3
   },
   "file_extension": ".py",
   "mimetype": "text/x-python",
   "name": "python",
   "nbconvert_exporter": "python",
   "pygments_lexer": "ipython3",
   "version": "3.9.13"
  }
 },
 "nbformat": 4,
 "nbformat_minor": 5
}
