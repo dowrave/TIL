{
 "cells": [
  {
   "cell_type": "code",
   "execution_count": 5,
   "id": "6ab44994-d43e-4f73-98f1-c39068c56b06",
   "metadata": {},
   "outputs": [
    {
     "name": "stdout",
     "output_type": "stream",
     "text": [
      "21\n"
     ]
    }
   ],
   "source": [
    "import sys\n",
    "sys.stdin = open('test.txt', 'r')\n",
    "input = sys.stdin.readline\n",
    "\n",
    "N, K = map(int, input().split())\n",
    "lst = list(map(int, input().split()))\n",
    "\n",
    "# 연속적인 날짜 K일 중 가장 큰 값을 구하시오\n",
    "# K는 1부터 N까지이며 N은 2이상 10만 이하\n",
    "\n",
    "dp = [0] * (N-K+1) # 리스트의 시작 인덱스에 부분합 값을 저장함\n",
    "# N-K 라면 N=K 일 경우 구현이 안됨\n",
    "\n",
    "# 최초값은 직접 더해서 구하고 (0 ~ K-1)\n",
    "for i in range(K):\n",
    "    dp[0] += lst[i]\n",
    "\n",
    "# 그 다음 인덱스부터는 바로 직전 인덱스만 빼고 다음 인덱스만 더하면 됨\n",
    "for j in range(1, N-K+1):\n",
    "    dp[j] = dp[j-1] - lst[j-1] + lst[j + K - 1]\n",
    "\n",
    "print(max(dp))"
   ]
  },
  {
   "cell_type": "code",
   "execution_count": null,
   "id": "1bc0afef-aa40-44c7-bcd7-b4333bac15ea",
   "metadata": {},
   "outputs": [],
   "source": []
  }
 ],
 "metadata": {
  "kernelspec": {
   "display_name": "Python 3 (ipykernel)",
   "language": "python",
   "name": "python3"
  },
  "language_info": {
   "codemirror_mode": {
    "name": "ipython",
    "version": 3
   },
   "file_extension": ".py",
   "mimetype": "text/x-python",
   "name": "python",
   "nbconvert_exporter": "python",
   "pygments_lexer": "ipython3",
   "version": "3.9.13"
  }
 },
 "nbformat": 4,
 "nbformat_minor": 5
}
