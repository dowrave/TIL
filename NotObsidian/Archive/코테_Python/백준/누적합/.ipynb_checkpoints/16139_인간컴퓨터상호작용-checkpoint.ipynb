{
 "cells": [
  {
   "cell_type": "markdown",
   "id": "f7306bdd-3494-49fd-82fc-34f4ec2f6082",
   "metadata": {},
   "source": [
    "## 50점, 100점 차이가 있는 문제인데\n",
    "- 출력을 어떻게 해주느냐 + pypy3을 쓰느냐 정도의 차이 밖에 없음"
   ]
  },
  {
   "cell_type": "code",
   "execution_count": 32,
   "id": "ee55bb82-a743-4a24-ad6e-98058ab9a053",
   "metadata": {},
   "outputs": [
    {
     "name": "stdout",
     "output_type": "stream",
     "text": [
      "0\n",
      "1\n",
      "2\n",
      "1\n"
     ]
    }
   ],
   "source": [
    "import sys\n",
    "sys.stdin = open('test.txt', 'r')\n",
    "input = sys.stdin.readline\n",
    "\n",
    "S = input().strip()\n",
    "q = int(input())\n",
    "\n",
    "# 2차원 DP - 문자열 길이 * 알파벳 갯수(26)\n",
    "dp = [[0] * 26 for _ in range(len(S) + 1)]\n",
    "\n",
    "# 각 row는 해당 인덱스까지인 거고\n",
    "# 각 col은 해당 인덱스까지 등장한 column의 갯수가 되는 거임\n",
    "# ord('a') = 97, ord('z') = 122이므로 97빼주면 됨\n",
    "\n",
    "# dp 구성\n",
    "for i in range(1, len(S) + 1):\n",
    "    for j in range(26):\n",
    "        if j == ord(S[i-1]) - 97:\n",
    "            dp[i][j] += dp[i-1][j] + 1\n",
    "        else:\n",
    "            dp[i][j] = dp[i-1][j]\n",
    "\n",
    "\n",
    "for n in range(q):\n",
    "    # dp에 0번 인덱스를 비워뒀음 -> 여기서 들어오는 인덱스는 1씩 더해줌\n",
    "    a_i, l_i, r_i = input().split()\n",
    "    l_i, r_i = int(l_i), int(r_i)\n",
    "    ans = dp[r_i + 1][ord(a_i) - 97] - dp[l_i][ord(a_i) - 97]\n",
    "    # print(ans) # 50점\n",
    "    sys.stdout.write(str(ans) + '\\n') # 100점"
   ]
  },
  {
   "cell_type": "code",
   "execution_count": 15,
   "id": "7c2f7c36-f2bb-4cd7-a8d1-e4d2416285f1",
   "metadata": {},
   "outputs": [
    {
     "data": {
      "text/plain": [
       "122"
      ]
     },
     "execution_count": 15,
     "metadata": {},
     "output_type": "execute_result"
    }
   ],
   "source": [
    "# S가 있고 알파벳 a_i가 주어지면 구간 l_i와 r_i 사이에 a_i가 몇 번 등장하는가?\n",
    "# 구간 l_i와 r_i 모두를 포함한다, 인덱스는 0부터\n",
    "# 유의 : 주어진 q가 동일하다면 a_i 값도 동일함(즉 l_i, r_i만 달라짐)\n"
   ]
  },
  {
   "cell_type": "code",
   "execution_count": null,
   "id": "b7733029-7d37-4785-b9a6-dde29dadd35f",
   "metadata": {},
   "outputs": [],
   "source": []
  }
 ],
 "metadata": {
  "kernelspec": {
   "display_name": "Python 3 (ipykernel)",
   "language": "python",
   "name": "python3"
  },
  "language_info": {
   "codemirror_mode": {
    "name": "ipython",
    "version": 3
   },
   "file_extension": ".py",
   "mimetype": "text/x-python",
   "name": "python",
   "nbconvert_exporter": "python",
   "pygments_lexer": "ipython3",
   "version": "3.9.13"
  }
 },
 "nbformat": 4,
 "nbformat_minor": 5
}
