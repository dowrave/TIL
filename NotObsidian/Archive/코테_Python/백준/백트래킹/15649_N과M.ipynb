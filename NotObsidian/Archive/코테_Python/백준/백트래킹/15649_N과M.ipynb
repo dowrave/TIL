{
 "cells": [
  {
   "cell_type": "code",
   "execution_count": 78,
   "id": "f4cc3c81-9db5-4624-8410-bb982b2c45cd",
   "metadata": {
    "tags": []
   },
   "outputs": [
    {
     "name": "stdout",
     "output_type": "stream",
     "text": [
      "1 2 3 4\n",
      "1 2 4 3\n",
      "1 3 2 4\n",
      "1 3 4 2\n",
      "1 4 2 3\n",
      "1 4 3 2\n",
      "2 1 3 4\n",
      "2 1 4 3\n",
      "2 3 1 4\n",
      "2 3 4 1\n",
      "2 4 1 3\n",
      "2 4 3 1\n",
      "3 1 2 4\n",
      "3 1 4 2\n",
      "3 2 1 4\n",
      "3 2 4 1\n",
      "3 4 1 2\n",
      "3 4 2 1\n",
      "4 1 2 3\n",
      "4 1 3 2\n",
      "4 2 1 3\n",
      "4 2 3 1\n",
      "4 3 1 2\n",
      "4 3 2 1\n"
     ]
    }
   ],
   "source": [
    "import sys\n",
    "sys.stdin = open('test.txt', 'r')\n",
    "input = sys.stdin.readline\n",
    "\n",
    "N, M = map(int, input().split())\n",
    "\n",
    "# 출력이 n번째로 방문한 노드 순서임을 감안하면\n",
    "def dfs(m):\n",
    "    \n",
    "    if m == M:\n",
    "        print(\" \".join(map(str, ans)))\n",
    "        return\n",
    "    \n",
    "    for i in range(1, N+1):\n",
    "        \n",
    "        # 아 중복이 안되니까?\n",
    "        if i in ans:\n",
    "            continue\n",
    "        \n",
    "        ans[m] = i\n",
    "        dfs(m+1)\n",
    "        ans[m] = 0\n",
    "    \n",
    "\n",
    "ans = [0] * M\n",
    "dfs(0)"
   ]
  },
  {
   "cell_type": "markdown",
   "id": "1ecb2e8b-1419-4dec-8258-fd7390d0c8ce",
   "metadata": {},
   "source": [
    "### 15650 : N과 M (2)\n",
    "- 위와 차이 : 뒤에 나온 수는 앞 수보다 커야 함\n",
    "> 풀이 : 조건문 조건만 바꿔주면 됨"
   ]
  },
  {
   "cell_type": "code",
   "execution_count": 92,
   "id": "8aa7f8a8-2c83-42c3-a837-b53a090e01f9",
   "metadata": {},
   "outputs": [
    {
     "name": "stdout",
     "output_type": "stream",
     "text": [
      "1 2\n",
      "1 3\n",
      "1 4\n",
      "2 3\n",
      "2 4\n",
      "3 4\n"
     ]
    }
   ],
   "source": [
    "import sys\n",
    "sys.stdin = open('test.txt', 'r')\n",
    "input = sys.stdin.readline\n",
    "\n",
    "N, M = map(int, input().split())\n",
    "\n",
    "def dfs(n, m):\n",
    "    \n",
    "    if m == M:\n",
    "        print(\" \".join(map(str, ans)))\n",
    "        return\n",
    "    \n",
    "    for i in range(n, N+1):\n",
    "        \n",
    "        if i in ans:\n",
    "            continue\n",
    "\n",
    "        ans[m] = i\n",
    "        dfs(i, m+1)\n",
    "        ans[m] = 0\n",
    "    \n",
    "\n",
    "ans = [0] * M\n",
    "dfs(1, 0)"
   ]
  },
  {
   "cell_type": "markdown",
   "id": "975205c7-08d2-49ac-9ab7-8f21d0738e95",
   "metadata": {},
   "source": [
    "### 15650 : N과 M (3)\n",
    "- 이번엔 중복돼도 상관 없음\n",
    "> 풀이 : 중복 조건만 없애주면 됨"
   ]
  },
  {
   "cell_type": "code",
   "execution_count": 96,
   "id": "488f67a6-9de6-467d-b13b-3a5f6897f4bf",
   "metadata": {},
   "outputs": [
    {
     "name": "stdout",
     "output_type": "stream",
     "text": [
      "1 1\n",
      "1 2\n",
      "1 3\n",
      "1 4\n",
      "2 1\n",
      "2 2\n",
      "2 3\n",
      "2 4\n",
      "3 1\n",
      "3 2\n",
      "3 3\n",
      "3 4\n",
      "4 1\n",
      "4 2\n",
      "4 3\n",
      "4 4\n"
     ]
    }
   ],
   "source": [
    "import sys\n",
    "sys.stdin = open('test.txt', 'r')\n",
    "input = sys.stdin.readline\n",
    "\n",
    "N, M = map(int, input().split())\n",
    "\n",
    "def dfs(m):\n",
    "    \n",
    "    if m == M:\n",
    "        print(\" \".join(map(str, ans)))\n",
    "        return\n",
    "    \n",
    "    for i in range(1, N+1):\n",
    "        \n",
    "        ans[m] = i\n",
    "        dfs(m+1)\n",
    "        ans[m] = 0\n",
    "    \n",
    "\n",
    "ans = [0] * M\n",
    "dfs(0)"
   ]
  },
  {
   "cell_type": "markdown",
   "id": "83ff639a-0a6f-43e1-b3fd-db36afb6ab0a",
   "metadata": {},
   "source": [
    "### 15652 : N과 M (4)\n",
    "- 조건 : 비내림차순\n",
    "    - 뒤의 수는 앞의 수보다 크거나 같다\n",
    "    \n",
    "> 풀이 : (2)번 문제에서 중복 조건 없애주면 됨"
   ]
  },
  {
   "cell_type": "code",
   "execution_count": 97,
   "id": "51ee58f6-a89e-49a6-a365-e36f8c6a1326",
   "metadata": {},
   "outputs": [
    {
     "name": "stdout",
     "output_type": "stream",
     "text": [
      "1 1\n",
      "1 2\n",
      "1 3\n",
      "1 4\n",
      "2 2\n",
      "2 3\n",
      "2 4\n",
      "3 3\n",
      "3 4\n",
      "4 4\n"
     ]
    }
   ],
   "source": [
    "import sys\n",
    "sys.stdin = open('test.txt', 'r')\n",
    "input = sys.stdin.readline\n",
    "\n",
    "N, M = map(int, input().split())\n",
    "\n",
    "def dfs(n, m):\n",
    "    \n",
    "    if m == M:\n",
    "        print(\" \".join(map(str, ans)))\n",
    "        return\n",
    "    \n",
    "    for i in range(n, N+1):\n",
    "\n",
    "        ans[m] = i\n",
    "        dfs(i, m+1)\n",
    "        ans[m] = 0\n",
    "    \n",
    "\n",
    "ans = [0] * M\n",
    "dfs(1, 0)"
   ]
  },
  {
   "cell_type": "code",
   "execution_count": null,
   "id": "a806d5d1-b909-424c-84f1-508b95759025",
   "metadata": {},
   "outputs": [],
   "source": []
  }
 ],
 "metadata": {
  "kernelspec": {
   "display_name": "Python 3 (ipykernel)",
   "language": "python",
   "name": "python3"
  },
  "language_info": {
   "codemirror_mode": {
    "name": "ipython",
    "version": 3
   },
   "file_extension": ".py",
   "mimetype": "text/x-python",
   "name": "python",
   "nbconvert_exporter": "python",
   "pygments_lexer": "ipython3",
   "version": "3.9.13"
  }
 },
 "nbformat": 4,
 "nbformat_minor": 5
}
