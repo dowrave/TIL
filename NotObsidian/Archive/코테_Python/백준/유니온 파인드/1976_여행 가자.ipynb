{
 "cells": [
  {
   "cell_type": "markdown",
   "id": "13424fc4-a61b-4cbb-9471-d21dfdafb8b6",
   "metadata": {},
   "source": [
    "- [문제 링크](https://www.acmicpc.net/problem/1976)"
   ]
  },
  {
   "cell_type": "code",
   "execution_count": 21,
   "id": "e6ae5829-f4cf-421e-9dfe-6f6a0ea78698",
   "metadata": {},
   "outputs": [
    {
     "name": "stdout",
     "output_type": "stream",
     "text": [
      "YES\n"
     ]
    }
   ],
   "source": [
    "import sys\n",
    "sys.stdin = open('test2.txt', 'r')\n",
    "sys.setrecursionlimit(int(1e6))\n",
    "input = sys.stdin.readline\n",
    "\n",
    "n = int(input())\n",
    "m = int(input())\n",
    "\n",
    "def find(a):\n",
    "    if parent[a] != a:\n",
    "        parent[a] = find(parent[a])\n",
    "        return parent[a]\n",
    "    return parent[a]\n",
    "\n",
    "def union(a, b):\n",
    "    a = find(a)\n",
    "    b = find(b)\n",
    "    \n",
    "    \n",
    "    if a < b:\n",
    "        parent[b] = a # 순서 신경쓰자!\n",
    "    else:\n",
    "        parent[a] = b\n",
    "        \n",
    "\n",
    "parent = [i for i in range(n + 1)]\n",
    "\n",
    "for i in range(n):\n",
    "    lst = list(map(int, input().split()))\n",
    "    for j in range(i, len(lst)):\n",
    "        if lst[j] == 1:\n",
    "            union(i + 1, j + 1)     \n",
    "\n",
    "# 마지막 인풋 \n",
    "# 모든 값에 find를 수행했을 때, 모두 같다면 YES, 아니라면 NO\n",
    "question = list(map(find, map(int, input().split())))\n",
    "flag = True\n",
    "\n",
    "for i in range(1, len(question)):\n",
    "    if question[i] != question[i-1]:\n",
    "        print(\"NO\")\n",
    "        flag = False\n",
    "        break\n",
    "\n",
    "if flag:\n",
    "    print(\"YES\")"
   ]
  },
  {
   "cell_type": "code",
   "execution_count": null,
   "id": "75c399ca-2c3c-49fa-89d2-ce388d559fa5",
   "metadata": {},
   "outputs": [],
   "source": []
  }
 ],
 "metadata": {
  "kernelspec": {
   "display_name": "Python 3 (ipykernel)",
   "language": "python",
   "name": "python3"
  },
  "language_info": {
   "codemirror_mode": {
    "name": "ipython",
    "version": 3
   },
   "file_extension": ".py",
   "mimetype": "text/x-python",
   "name": "python",
   "nbconvert_exporter": "python",
   "pygments_lexer": "ipython3",
   "version": "3.9.13"
  }
 },
 "nbformat": 4,
 "nbformat_minor": 5
}
