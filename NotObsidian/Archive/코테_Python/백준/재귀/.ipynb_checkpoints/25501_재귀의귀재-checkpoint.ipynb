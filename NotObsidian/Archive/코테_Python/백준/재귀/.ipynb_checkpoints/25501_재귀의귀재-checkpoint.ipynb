{
 "cells": [
  {
   "cell_type": "code",
   "execution_count": 10,
   "id": "8c003252-a532-40ec-adbb-a57488bc14b1",
   "metadata": {},
   "outputs": [
    {
     "name": "stdout",
     "output_type": "stream",
     "text": [
      "1 2\n",
      "1 3\n",
      "1 3\n",
      "0 2\n",
      "0 1\n"
     ]
    }
   ],
   "source": [
    "import sys\n",
    "sys.stdin = open('test.txt', 'r')\n",
    "N = int(sys.stdin.readline())\n",
    "lst = []\n",
    "\n",
    "for i in range(N):\n",
    "    lst.append(sys.stdin.readline().rstrip())\n",
    "\n",
    "# 목표 : 아래 함수의 반환 값과 위 함수의 호출 횟수\n",
    "# 팰린드롬 : 어떤 문자열이 앞뒤로 읽었을 때 같은가\n",
    "\n",
    "# 구현은 힌트로 줬음\n",
    "# 가장 앞 인덱스와 가장 뒤 인덱스에서 출발해서 값이 계속 같으면 됨\n",
    "def recursion(s, l, r):\n",
    "    global called \n",
    "    called += 1\n",
    "    if l >= r:\n",
    "        return 1\n",
    "\n",
    "    elif s[l] != s[r]: \n",
    "        return 0\n",
    "\n",
    "    else: return recursion(s, l+1, r-1)\n",
    "\n",
    "def isPalindrome(s):\n",
    "    return recursion(s, 0, len(s)-1)\n",
    "\n",
    "for i in lst:\n",
    "    called = 0 \n",
    "    print(isPalindrome(i), called)"
   ]
  },
  {
   "cell_type": "code",
   "execution_count": null,
   "id": "021c6ac8-5712-4815-b2bc-73de669e3a5b",
   "metadata": {},
   "outputs": [],
   "source": []
  }
 ],
 "metadata": {
  "kernelspec": {
   "display_name": "Python 3 (ipykernel)",
   "language": "python",
   "name": "python3"
  },
  "language_info": {
   "codemirror_mode": {
    "name": "ipython",
    "version": 3
   },
   "file_extension": ".py",
   "mimetype": "text/x-python",
   "name": "python",
   "nbconvert_exporter": "python",
   "pygments_lexer": "ipython3",
   "version": "3.9.13"
  }
 },
 "nbformat": 4,
 "nbformat_minor": 5
}
