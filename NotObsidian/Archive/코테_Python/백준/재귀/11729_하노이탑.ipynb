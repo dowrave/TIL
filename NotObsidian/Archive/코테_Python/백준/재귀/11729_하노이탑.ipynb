{
 "cells": [
  {
   "cell_type": "code",
   "execution_count": 52,
   "id": "289a4d77-0320-43e4-94d1-cb591b2f5af9",
   "metadata": {},
   "outputs": [
    {
     "name": "stdout",
     "output_type": "stream",
     "text": [
      "1\n",
      "1 3\n"
     ]
    }
   ],
   "source": [
    "import sys\n",
    "sys.stdin = open('test.txt', 'r')\n",
    "n = int(sys.stdin.readline())\n",
    "\n",
    "\n",
    "\n",
    "def mov(n, start, end):\n",
    "    \n",
    "    global cnt\n",
    "    \n",
    "    if n == 1:\n",
    "        lst.append((start, end))\n",
    "        cnt += 1\n",
    "\n",
    "        return\n",
    "    \n",
    "    # n개의 원판이 있을 때 각 단계는\n",
    "\n",
    "    # 1. n-1개의 원판을 2번째 기둥에 옮기는 과정\n",
    "    mov(n-1, start, 6 - (start + end))\n",
    "    \n",
    "    # 2. n번째 원판 1개를 3번째 기둥으로 옮기는 과정 \n",
    "    mov(1, start, end)\n",
    "\n",
    "    # 3. n-1개의 원판을 2 -> 3번째 기둥에 옮기는 과정\n",
    "    mov(n-1, 6 - (start + end), end)\n",
    "\n",
    "cnt = 0\n",
    "lst = []   \n",
    "    \n",
    "mov(n, 1, 3)\n",
    "print(cnt)\n",
    "for i in lst:\n",
    "    print(i[0], i[1])"
   ]
  },
  {
   "cell_type": "markdown",
   "id": "f426eb5b-1e22-45cb-93ad-59c4f18d0b4d",
   "metadata": {},
   "source": [
    "##### - 각 케이스를 생각해보자\n",
    "    - `n=1`이면 `1 -> 3`\n",
    "    - `n=2`이면 `1 -> 2`\n",
    "    - `n=3`이면 `1 -> 3`\n",
    "    - ... 로 시작해야 함\n",
    "- 알고리즘을 쫙 풀어보니까 아이디어는 잡음\n",
    "    - 아래의 **1, 2, 3번식을 start, end 조건에 맞게 바꿔주면 됨**\n",
    "```python\n",
    "    # 1. n-1개의 원판을 2번째 기둥에 옮기는 과정\n",
    "    mov(n-1, 1, 2)\n",
    "    \n",
    "    # 2. n번째 원판 1개를 3번째 기둥으로 옮기는 과정 \n",
    "    mov(1, 1, 3)\n",
    "\n",
    "    # 3. n-1개의 원판을 2 -> 3번째 기둥에 옮기는 과정\n",
    "    mov(n-1, 2, 3)\n",
    "```\n",
    "- 지금 처럼 돌리면 `mov(2, 1, 2)`도 `mov(2, 1, 3)`으로 돌아가기 때문임"
   ]
  },
  {
   "cell_type": "code",
   "execution_count": null,
   "id": "f7d83316-5aeb-416f-af16-62d45030c31a",
   "metadata": {},
   "outputs": [],
   "source": []
  }
 ],
 "metadata": {
  "kernelspec": {
   "display_name": "Python 3 (ipykernel)",
   "language": "python",
   "name": "python3"
  },
  "language_info": {
   "codemirror_mode": {
    "name": "ipython",
    "version": 3
   },
   "file_extension": ".py",
   "mimetype": "text/x-python",
   "name": "python",
   "nbconvert_exporter": "python",
   "pygments_lexer": "ipython3",
   "version": "3.9.13"
  }
 },
 "nbformat": 4,
 "nbformat_minor": 5
}
