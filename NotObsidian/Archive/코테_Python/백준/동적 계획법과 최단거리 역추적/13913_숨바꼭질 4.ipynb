{
 "cells": [
  {
   "cell_type": "markdown",
   "id": "e2e457a9-b143-4aa1-9b1a-7b01f31f8560",
   "metadata": {},
   "source": [
    "- [문제 링크](https://www.acmicpc.net/problem/13913)"
   ]
  },
  {
   "cell_type": "code",
   "execution_count": 37,
   "id": "fe79c8ea-cc03-491b-b434-37db211f8263",
   "metadata": {},
   "outputs": [
    {
     "name": "stdout",
     "output_type": "stream",
     "text": [
      "22\n",
      "0 1 2 3 6 12 24 48 49 98 196 195 390 780 781 1562 3124 3125 6250 12500 25000 50000 100000\n"
     ]
    }
   ],
   "source": [
    "import sys\n",
    "from collections import deque\n",
    "sys.stdin = open('test.txt', 'r')\n",
    "input = sys.stdin.readline\n",
    "\n",
    "N, K = map(int, input().split())\n",
    "INF = int(1e9)\n",
    "def route(n, k):\n",
    "    \n",
    "    # 몇 번째로 방문했는지와 이전 인덱스를 기록해둠\n",
    "    visited = [[INF, INF] for _ in range (int(max(n, k) * 2 + 1))]\n",
    "    # 이거 visited[[INF, INF]] * N으로 만들면 같은 자료값이 참조되네?;\n",
    "    visited[n] = [0, -1]\n",
    "    \n",
    "    dq = deque([])\n",
    "    dq.append((0, n))\n",
    "    \n",
    "    while dq:\n",
    "        time, location = dq.popleft()\n",
    "        \n",
    "        if location == K:\n",
    "            print(time)\n",
    "\n",
    "            ans = []\n",
    "            ans.append(location)\n",
    "            \n",
    "            while True:\n",
    "                if visited[location][1] == -1:\n",
    "                    break\n",
    "                ans.append(visited[location][1])\n",
    "                location = visited[location][1]\n",
    "                \n",
    "            print(*ans[::-1])\n",
    "            \n",
    "            return\n",
    "        \n",
    "        \n",
    "        # 크다면 -1만\n",
    "        if location > K:\n",
    "            next_location = location - 1\n",
    "            if next_location >= 0 and visited[next_location][0] > time + 1:\n",
    "                dq.append((time + 1, next_location))\n",
    "                visited[next_location][0] = time + 1\n",
    "                visited[next_location][1] = location # 이전 위치를 기록해둔다\n",
    "            \n",
    "            \n",
    "        # 작다면 모두를 봄\n",
    "        else:\n",
    "            next_locations = [location - 1, location + 1, location * 2]\n",
    "            for next_location in next_locations:\n",
    "                if next_location >= 0 and visited[next_location][0] > time + 1:\n",
    "                    dq.append((time + 1, next_location))\n",
    "                    \n",
    "                    visited[next_location][0] = time + 1\n",
    "                    visited[next_location][1] = location\n",
    "\n",
    "            \n",
    "route(N, K)"
   ]
  },
  {
   "cell_type": "markdown",
   "id": "4c74dbc4-0b7c-4b1f-9137-7b268c445411",
   "metadata": {},
   "source": [
    "### 숨바꼭질 기본 알고리즘\n",
    "```python\n",
    "def route(n, k):\n",
    "    visited = [INF] * (int(1e5 + 1))\n",
    "    dq = deque([])\n",
    "    dq.append((0 , n))\n",
    "    visited[n] = 0\n",
    "    \n",
    "    while dq:\n",
    "        time, location = dq.popleft()\n",
    "        \n",
    "        if location == K:\n",
    "            \n",
    "            return time, visited\n",
    "        \n",
    "        # 크다면 -1만\n",
    "        if location > K:\n",
    "            next_location = location - 1\n",
    "            dq.append((time + 1, next_location))\n",
    "            visited[next_location] = min(visited[next_location], time + 1)\n",
    "            \n",
    "        # 작다면 모두를 봄\n",
    "        else:\n",
    "            next_locations = [location - 1, location + 1, location * 2]\n",
    "            for next_location in next_locations:\n",
    "                dq.append((time + 1, next_location))\n",
    "                visited[next_location] = min(visited[next_location], time + 1)\n",
    "```\n",
    "> 1. 목표 위치보다 현재 위치가 크다면 `-1`만 가능하다\n",
    "> 2. 목표 위치보다 현재 위치가 작다면 `-1`, `+1`, `*2` 모두를 고려해야 한다(취할 수 있는 액션을 모두 생각한다)\n",
    "> 3. 목표 위치 = 현재 위치라면 그게 처음 나온 시점에서 함수를 종료하면 된다 : 이 때 구한 값이 최단 시간이 됨\n",
    "\n",
    "#### 추가 : 역추적\n",
    "> - 역추적을 위해 방문 리스트의 각 원소를 `(행동의 수, 이전 방문 인덱스)`로 저장한다.  \n",
    ">> - 이 리스트를 구현하는 방식은 `[[a,b]] * N`이 될 수 없다 : 모든 원소가 같은 주소를 참고하게 됨(?)    \n",
    ">>> 실제로 원소 하나 바꿨는데 모든 원소가 바뀌는 경우가 있었음  \n",
    ">> - 따라서 **저 리스트는 `[[a,b] for _ in range(N)]`으로 구현해줬다**  \n",
    ">> - 길이는 (N, K 중 큰 값을 * 2 + 1)한 것보다 클 수 없기 때문에 주어진 값에 따라 달라지도록 구했음  \n",
    "\n",
    "> 이외에는 BFS와 동일함  \n",
    "> 역추적 과정 : 최초에 `visited[n]`에 넣은 값을 `(0, -1)`로 했다 -> 따라서 역추적의 끝에는 `-1` 값이 나오면 되겠음(혹은 0)  \n",
    "> 각 값이 이전 인덱스를 저장했기 때문에, 이전 인덱스만 순서대로 따라가면 됨\n",
    "\n",
    "#### 시행착오\n",
    "> 원래는 BFS를 하며 방문 리스트에 방문 순서를 적은 뒤, 취했던 액션의 역순으로 취했을 때 방문 리스트의 값이 현재 값 - 1인 곳들만 따라가려 했는데, 예상했던 것과 달랐음  \n",
    "> 근데 예제를 잘 보면 같은 예제에도 결과가 2개임 ㅋㅋ 그 알고리즘도 후자의 결론이 나와서 굳이 할 필요 없었을지도?  "
   ]
  },
  {
   "cell_type": "code",
   "execution_count": null,
   "id": "ff8fc35a-c686-4d76-8c0d-e1d032c2dab8",
   "metadata": {},
   "outputs": [
    {
     "name": "stdout",
     "output_type": "stream",
     "text": [
      "[[1, 2], [1, 2], [1, 2]]\n"
     ]
    }
   ],
   "source": []
  }
 ],
 "metadata": {
  "kernelspec": {
   "display_name": "Python 3 (ipykernel)",
   "language": "python",
   "name": "python3"
  },
  "language_info": {
   "codemirror_mode": {
    "name": "ipython",
    "version": 3
   },
   "file_extension": ".py",
   "mimetype": "text/x-python",
   "name": "python",
   "nbconvert_exporter": "python",
   "pygments_lexer": "ipython3",
   "version": "3.9.13"
  }
 },
 "nbformat": 4,
 "nbformat_minor": 5
}
