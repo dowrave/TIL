{
 "cells": [
  {
   "cell_type": "code",
   "execution_count": 18,
   "id": "58cf4a12-5af0-4306-8b35-67a7ee2eb1c2",
   "metadata": {
    "tags": []
   },
   "outputs": [
    {
     "name": "stdout",
     "output_type": "stream",
     "text": [
      "1\n",
      "4\n",
      "3\n",
      "21\n",
      "135\n",
      "1033\n",
      "8392\n"
     ]
    }
   ],
   "source": [
    "import sys\n",
    "sys.stdin = open('test.txt', 'r')\n",
    "\n",
    "def find_prime(n):\n",
    "    lst = [1] *(2*n + 1)\n",
    "    \n",
    "    for i in range(2, 2*n + 1):\n",
    "        if lst[i]:\n",
    "            for j in range(2*i, 2*n+1, i):\n",
    "                lst[j] = 0\n",
    "    prm = [i for i in range(n+1, 2*n+1) if lst[i]]\n",
    "    return len(prm)\n",
    "\n",
    "while True:\n",
    "    inp = int(sys.stdin.readline().rstrip())\n",
    "    if inp == 0:\n",
    "        break\n",
    "    print(find_prime(inp))"
   ]
  },
  {
   "cell_type": "code",
   "execution_count": 17,
   "id": "a514d4e0-9b8b-4160-a586-ec6ccf574222",
   "metadata": {},
   "outputs": [
    {
     "name": "stdout",
     "output_type": "stream",
     "text": [
      "1\n",
      "4\n",
      "3\n",
      "21\n",
      "135\n",
      "1033\n",
      "8392\n"
     ]
    }
   ],
   "source": []
  },
  {
   "cell_type": "code",
   "execution_count": null,
   "id": "a1c802c5-8e8a-404e-b44f-97a8a3498ddb",
   "metadata": {},
   "outputs": [],
   "source": []
  }
 ],
 "metadata": {
  "kernelspec": {
   "display_name": "Python 3 (ipykernel)",
   "language": "python",
   "name": "python3"
  },
  "language_info": {
   "codemirror_mode": {
    "name": "ipython",
    "version": 3
   },
   "file_extension": ".py",
   "mimetype": "text/x-python",
   "name": "python",
   "nbconvert_exporter": "python",
   "pygments_lexer": "ipython3",
   "version": "3.9.13"
  }
 },
 "nbformat": 4,
 "nbformat_minor": 5
}
