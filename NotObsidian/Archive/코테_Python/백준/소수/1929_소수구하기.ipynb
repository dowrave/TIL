{
 "cells": [
  {
   "cell_type": "markdown",
   "id": "a97256a0-5750-4f4e-bc1a-7d0c47b97da5",
   "metadata": {},
   "source": [
    "### 작은 수 이상 큰 수 이하의 소수를 구하시오"
   ]
  },
  {
   "cell_type": "code",
   "execution_count": 17,
   "id": "7e2ae6ca-109d-45c9-89c3-4736dc56213e",
   "metadata": {},
   "outputs": [
    {
     "name": "stdout",
     "output_type": "stream",
     "text": [
      "3\n",
      "5\n",
      "7\n",
      "11\n",
      "13\n"
     ]
    }
   ],
   "source": [
    "import sys\n",
    "sys.stdin = open('test.txt', 'r')\n",
    "\n",
    "m, n = map(int, sys.stdin.readline().split())\n",
    "\n",
    "def find_prime(a, b):\n",
    "    lst = [True] * (b+1)\n",
    "    \n",
    "    bound = int(b ** 0.5)\n",
    "    for i in range(2, bound):\n",
    "        if lst[i]:\n",
    "            for j in range(i+i, b+1, i):\n",
    "                lst[j] = False\n",
    "        \n",
    "        if i < a:\n",
    "            lst[i] = False\n",
    "    \n",
    "    return [i for i in range(2, b) if lst[i]]\n",
    "    \n",
    "for i in find_prime(m, n):\n",
    "    print(i)"
   ]
  },
  {
   "cell_type": "code",
   "execution_count": 16,
   "id": "f99a9653-9671-4ff4-90bf-cd386e852261",
   "metadata": {},
   "outputs": [
    {
     "name": "stdout",
     "output_type": "stream",
     "text": [
      "3\n",
      "5\n",
      "7\n",
      "11\n",
      "13\n"
     ]
    }
   ],
   "source": [
    "# 이런 방식도 있음\n",
    "def check_prime(x, n):\n",
    "    if x <= 1:\n",
    "        return False\n",
    "    \n",
    "    for i in range(2, int(x ** 0.5) + 1):\n",
    "        if x % i == 0:\n",
    "            return False\n",
    "    \n",
    "    return True\n",
    "\n",
    "for i in range(m, n+1):\n",
    "    if check_prime(i, n+1):\n",
    "        print(i)\n",
    "        "
   ]
  },
  {
   "cell_type": "code",
   "execution_count": null,
   "id": "65014fdf-4dfc-4937-9ca5-f47bae4d80b8",
   "metadata": {},
   "outputs": [],
   "source": []
  }
 ],
 "metadata": {
  "kernelspec": {
   "display_name": "Python 3 (ipykernel)",
   "language": "python",
   "name": "python3"
  },
  "language_info": {
   "codemirror_mode": {
    "name": "ipython",
    "version": 3
   },
   "file_extension": ".py",
   "mimetype": "text/x-python",
   "name": "python",
   "nbconvert_exporter": "python",
   "pygments_lexer": "ipython3",
   "version": "3.9.13"
  }
 },
 "nbformat": 4,
 "nbformat_minor": 5
}
