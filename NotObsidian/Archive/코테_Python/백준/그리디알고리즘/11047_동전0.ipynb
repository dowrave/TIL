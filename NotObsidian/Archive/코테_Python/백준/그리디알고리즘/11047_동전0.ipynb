{
 "cells": [
  {
   "cell_type": "code",
   "execution_count": 10,
   "id": "3dbc3fe1-443b-4158-8d05-7b792cd563ff",
   "metadata": {},
   "outputs": [
    {
     "name": "stdout",
     "output_type": "stream",
     "text": [
      "6\n"
     ]
    }
   ],
   "source": [
    "import sys\n",
    "sys.stdin = open('test.txt' ,'r')\n",
    "input = sys.stdin.readline\n",
    "\n",
    "N, K = map(int, input().split())\n",
    "lst = []\n",
    "for _ in range(N):\n",
    "     lst.append(int(input()))\n",
    "lst = lst[::-1]\n",
    "count = 0\n",
    "\n",
    "for i in lst:\n",
    "    if K // i > 0:\n",
    "        count += K // i\n",
    "        K = K - K // i * i\n",
    "\n",
    "\n",
    "# 시간 초과\n",
    "# for i in lst:\n",
    "#     if value + i > K:\n",
    "#         continue\n",
    "#     while value + i <= K:\n",
    "#         value = value + i\n",
    "#         count += 1\n",
    "\n",
    "print(count)"
   ]
  },
  {
   "cell_type": "code",
   "execution_count": null,
   "id": "b2a90ebc-d7e5-4379-8b68-d454a0cbf667",
   "metadata": {},
   "outputs": [],
   "source": []
  }
 ],
 "metadata": {
  "kernelspec": {
   "display_name": "Python 3 (ipykernel)",
   "language": "python",
   "name": "python3"
  },
  "language_info": {
   "codemirror_mode": {
    "name": "ipython",
    "version": 3
   },
   "file_extension": ".py",
   "mimetype": "text/x-python",
   "name": "python",
   "nbconvert_exporter": "python",
   "pygments_lexer": "ipython3",
   "version": "3.9.13"
  }
 },
 "nbformat": 4,
 "nbformat_minor": 5
}
