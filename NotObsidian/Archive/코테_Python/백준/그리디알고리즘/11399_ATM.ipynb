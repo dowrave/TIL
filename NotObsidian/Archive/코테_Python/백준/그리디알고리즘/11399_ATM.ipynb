{
 "cells": [
  {
   "cell_type": "code",
   "execution_count": 4,
   "id": "248d366f-1803-4100-9db6-60676426b723",
   "metadata": {},
   "outputs": [
    {
     "name": "stdout",
     "output_type": "stream",
     "text": [
      "32\n"
     ]
    }
   ],
   "source": [
    "import sys\n",
    "sys.stdin = open('test.txt', 'r')\n",
    "input = sys.stdin.readline\n",
    "\n",
    "N = int(input())\n",
    "lst = list(map(int ,input().split()))\n",
    "\n",
    "# 가장 직관적으로 생각하면, 누적되는 값이 최소면 됨\n",
    "lst.sort()\n",
    "\n",
    "# 그리고 누적합을 구하면 됨\n",
    "for i in range(1, len(lst)):\n",
    "    lst[i] = lst[i-1] + lst[i]\n",
    "\n",
    "# 누적값의 합을 구하는 문제이므로\n",
    "print(sum(lst))"
   ]
  },
  {
   "cell_type": "markdown",
   "id": "887babd7-2c9e-4a9c-a6d0-09e35b1c13cd",
   "metadata": {},
   "source": [
    "- 리스트의 각 원소는 그 사람이 인출하는 데 걸리는 시간임\n",
    "- 이들을 한 줄로 세웠을 때, 어떤 사람이 돈을 뽑는 데 걸리는 시간은\n",
    "- 이전까지의 사람 + 내 시간임 \n",
    "- 그리고 그것들을 누적해서 더하는 문제..\n"
   ]
  },
  {
   "cell_type": "code",
   "execution_count": null,
   "id": "8b42b999-3c33-46a4-b80c-233cbf1cfb7e",
   "metadata": {},
   "outputs": [],
   "source": []
  }
 ],
 "metadata": {
  "kernelspec": {
   "display_name": "Python 3 (ipykernel)",
   "language": "python",
   "name": "python3"
  },
  "language_info": {
   "codemirror_mode": {
    "name": "ipython",
    "version": 3
   },
   "file_extension": ".py",
   "mimetype": "text/x-python",
   "name": "python",
   "nbconvert_exporter": "python",
   "pygments_lexer": "ipython3",
   "version": "3.9.13"
  }
 },
 "nbformat": 4,
 "nbformat_minor": 5
}
