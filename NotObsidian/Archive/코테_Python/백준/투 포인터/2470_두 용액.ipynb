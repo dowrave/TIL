{
 "cells": [
  {
   "cell_type": "markdown",
   "id": "660575f7-020f-4771-8079-556fe96e8855",
   "metadata": {},
   "source": [
    "- [문제 링크](https://www.acmicpc.net/problem/2470)"
   ]
  },
  {
   "cell_type": "code",
   "execution_count": 2,
   "id": "560c44ed-9c4e-4f58-ab67-fd864e77fa77",
   "metadata": {},
   "outputs": [
    {
     "name": "stdout",
     "output_type": "stream",
     "text": [
      "-99 98\n"
     ]
    }
   ],
   "source": [
    "import sys\n",
    "sys.stdin = open('test.txt')\n",
    "input = sys.stdin.readline\n",
    "\n",
    "N = int(input())\n",
    "arr = list(map(int, input().split()))\n",
    "arr.sort()\n",
    "\n",
    "start, end = 0, N - 1\n",
    "\n",
    "# 초기화 & 전역 변수 지정\n",
    "min_value = abs(arr[start] + arr[end]) \n",
    "ans1, ans2 = arr[start], arr[end]\n",
    "\n",
    "while start < end:\n",
    "    \n",
    "    tmp = arr[start] + arr[end]\n",
    "    \n",
    "    if abs(tmp) < min_value:\n",
    "        min_value = abs(tmp)\n",
    "        ans1, ans2 = arr[start], arr[end]\n",
    "        if tmp == 0:\n",
    "            break\n",
    "    elif tmp > 0 :\n",
    "        end -= 1\n",
    "    else:\n",
    "        start += 1\n",
    "    \n",
    "# 오름차순 출력\n",
    "if ans1 > ans2:\n",
    "    ans1, ans2 = ans2, ans1\n",
    "\n",
    "print(ans1, ans2)"
   ]
  },
  {
   "cell_type": "markdown",
   "id": "e9bfb9c4-8726-43e9-b895-9e237e99a86a",
   "metadata": {},
   "source": [
    "### 3273이랑 비슷한 문제 같으면서 여러 조건을 더 고려해줘야 함\n",
    "1. 주어진 값을 정렬함\n",
    "2. 0에 가까운 값은 `abs(arr[start] + arr[end])` 값을 계산했을 때 더 작은 값이면 됨\n",
    "    - 이를 위해 `min_value`의 초기화 & 계산은 임시로 구해진 값에 절댓값을 취해줘야 함\n",
    "3. 한편 **인덱스를 옮기는 과정은 `2.`와는 별도로 이루어짐**\n",
    "    - 이 과정은 0에 가까워져야 하므로, 0을 기준으로 판별이 이뤄짐\n",
    "    - 즉 **절댓값이 아닌** `arr[start] + arr[end]`값이 0보다 크다면 `end -= 1`을, 작다면 `start += 1`을 해주면 됨"
   ]
  },
  {
   "cell_type": "code",
   "execution_count": null,
   "id": "c6771cc6-f7ce-453f-b4b2-8851eb3a32fd",
   "metadata": {},
   "outputs": [],
   "source": []
  }
 ],
 "metadata": {
  "kernelspec": {
   "display_name": "Python 3 (ipykernel)",
   "language": "python",
   "name": "python3"
  },
  "language_info": {
   "codemirror_mode": {
    "name": "ipython",
    "version": 3
   },
   "file_extension": ".py",
   "mimetype": "text/x-python",
   "name": "python",
   "nbconvert_exporter": "python",
   "pygments_lexer": "ipython3",
   "version": "3.9.13"
  }
 },
 "nbformat": 4,
 "nbformat_minor": 5
}
