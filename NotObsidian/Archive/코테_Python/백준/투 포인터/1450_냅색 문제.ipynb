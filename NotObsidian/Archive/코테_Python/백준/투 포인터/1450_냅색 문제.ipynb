{
 "cells": [
  {
   "cell_type": "code",
   "execution_count": 56,
   "id": "15acf2d6-dd35-4eaa-bf4f-bbf9266b3504",
   "metadata": {},
   "outputs": [
    {
     "name": "stdout",
     "output_type": "stream",
     "text": [
      "1073741824\n"
     ]
    }
   ],
   "source": [
    "import sys\n",
    "from bisect import bisect_left, bisect_right\n",
    "sys.stdin = open('test.txt', 'r')\n",
    "input = sys.stdin.readline\n",
    "\n",
    "N, C = map(int, input().split())\n",
    "arr = list(map(int, input().split()))\n",
    "           \n",
    "# MITM 알고리즘\n",
    "mid = len(arr) // 2\n",
    "\n",
    "# 1. 배열을 좌우로 나누는데, 모든 가능한 케이스를 넣음\n",
    "left_arr = [0]\n",
    "for i in range(mid):\n",
    "    for j in range(len(left_arr)):\n",
    "        left_arr.append(left_arr[j] + arr[i])\n",
    "        \n",
    "right_arr = [0]\n",
    "for i in range(mid, len(arr)):\n",
    "    for j in range(len(right_arr)):\n",
    "        right_arr.append(right_arr[j] + arr[i])\n",
    "\n",
    "\n",
    "# 2. 한 배열 정렬\n",
    "right_arr.sort()\n",
    "ans = 0\n",
    "\n",
    "# 3. 왼쪽의 모든 값에 대해, 오른쪽 배열에 들어갈 인덱스를 찾는다\n",
    "for x in left_arr:\n",
    "    i = bisect_left(right_arr, C-x)\n",
    "\n",
    "    if i == len(right_arr):\n",
    "        ans += i\n",
    "        \n",
    "    elif i < len(right_arr):\n",
    "        if right_arr[i] == C - x:\n",
    "            j = bisect_right(right_arr, C - x)\n",
    "            ans += j\n",
    "        \n",
    "        else:\n",
    "            ans += i \n",
    "\n",
    "print(ans)"
   ]
  },
  {
   "cell_type": "markdown",
   "id": "424b01ef-efed-4257-b807-0078b32d1972",
   "metadata": {},
   "source": [
    "## 이진 탐색의 작동이 헷갈림\n",
    "- 2개의 값이 있는데 그 중 **한 값이 Target 값과 동일하다**면, `bisect_left(arr, target)`은 **target 인덱스를 반환**하고 `bisect_right(arr, target)`은 target + 1 인덱스를 반환함\n",
    "    - **중요!** : `[0, 1]`이 있다면 `bisect_left(arr, 0)`은 0을 반환한다. 1을 반환하는 게 아님!\n",
    "- target 값에서 중복된 값이 있다면 `bisect_left(arr, target)`은 target의 가장 왼쪽 인덱스, `bisect_right`는 target 중 가장 오른쪽 인덱스 + 1을 반환함\n",
    "- target 값에 없는 값을 넣는다면, 둘 모두 동일한 값을 반환함"
   ]
  },
  {
   "cell_type": "code",
   "execution_count": 33,
   "id": "d7ce8eee-9ffc-4bf7-b81c-758e01f42b1d",
   "metadata": {},
   "outputs": [
    {
     "name": "stdout",
     "output_type": "stream",
     "text": [
      "1\n",
      "1\n"
     ]
    }
   ],
   "source": [
    "lst = [0, 3]\n",
    "print(bisect_left(lst, 2))\n",
    "print(bisect_right(lst, 2))"
   ]
  },
  {
   "cell_type": "markdown",
   "id": "2dc228c0-4e06-40a3-a361-67ec31e78faf",
   "metadata": {},
   "source": [
    "## 자꾸 헷갈려서 정리\n",
    "1. X가 있고 이진 탐색을 적용한다고 하자\n",
    "    - `i = bisect_left(, c-x)` : c-x보다 크거나 같은 위치를 반환한다.\n",
    "        - `right_arr[i]` 값이 c-x보다 크다면 정답에 포함되지 않고, 같다면 포함됨\n",
    "    - `j = bisect_right(, c-x)` : `right_arr[j]`는 c-x보다 **큰 첫번째 수**이다\n",
    "        - `right_arr[j-1]`이 `c-x`보다 작을 수 있는가? : 작을 수 있음\n",
    "2. 그러면 이렇게 정리할 수 있겠다.\n",
    "> 1. 이진 탐색으로 i, j를 모두 구한다.\n",
    "> 2. x가 right_arr에 없는 값이라면 동일한 인덱스를 반환한다. \n",
    "> 3. right_arr에 있는 값이라면 i는 1번째로 등장한 값, j는 마지막으로 등장한 값 + 1을 반환한다.\n"
   ]
  },
  {
   "cell_type": "markdown",
   "id": "55c432e9-d2c9-448a-a5b5-d3ba78932c54",
   "metadata": {},
   "source": [
    "## 복습"
   ]
  },
  {
   "cell_type": "code",
   "execution_count": 64,
   "id": "fe3dd4e2-d3bf-4c81-86aa-bba6bbacb67a",
   "metadata": {},
   "outputs": [
    {
     "data": {
      "text/plain": [
       "4"
      ]
     },
     "execution_count": 64,
     "metadata": {},
     "output_type": "execute_result"
    }
   ],
   "source": [
    "import sys\n",
    "from bisect import bisect_left, bisect_right\n",
    "sys.stdin = open('test.txt', 'r')\n",
    "input = sys.stdin.readline\n",
    "\n",
    "N, C = map(int, input().split())\n",
    "arr = list(map(int, input().split()))\n",
    "\n",
    "# Meet In The Middle Algorithm\n",
    "def MITM(arr):\n",
    "    mid = len(arr) // 2\n",
    "    \n",
    "    # 1. 리스트를 절반으로 나누는데, 나누면서 가능한 모든 경우를 넣는다\n",
    "    # 가능한 모든 경우의 수를 찾는 이 알고리즘도 중요함(브루탈포스)\n",
    "    left_arr = [0]\n",
    "    for i in range(mid):\n",
    "        for j in range(len(left_arr)):\n",
    "            left_arr.append(left_arr[j] + arr[i])\n",
    "    \n",
    "    right_arr = [0]\n",
    "    for i in range(mid, len(arr)):\n",
    "        for j in range(len(right_arr)):\n",
    "            right_arr.append(right_arr[j] + arr[i])\n",
    "            \n",
    "    # 2. 한 배열(여기선 오른쪽)을 정렬한다\n",
    "    right_arr.sort()\n",
    "    ans = 0\n",
    "    \n",
    "    # 3. 정렬되지 않은 배열의 원소들에 대해 정렬된 배열에 들어갈 위치를 찾는다\n",
    "    # 이 문제는 원소의 합이 C 이하인 경우의 수를 찾기 때문에\n",
    "    # 두 배열에서 추려낸 것들의 합이 C보다 작으면 됨\n",
    "    for x in left_arr:\n",
    "        i = bisect_left(right_arr, C - x)\n",
    "        \n",
    "        # 오른쪽 배열의 어떤 수보다 i가 크다면\n",
    "        # 0부터 i~1까지 더하면 되니까 i개\n",
    "        if i == len(right_arr):\n",
    "            ans += i\n",
    "        \n",
    "        if i < len(right_arr): \n",
    "            \n",
    "            if right_arr[i] == C - x:\n",
    "            # 값이 일치한다면 중복 케이스도 고려해줘야 하므로\n",
    "            # bisect_right를 이용한다\n",
    "            # 얘도 0 ~ j-1 이니까 j\n",
    "                j = bisect_right(right_arr, C - x)\n",
    "                ans += j\n",
    "                \n",
    "            # 나머지는 C-x보다 큰 경우밖에 없음\n",
    "            # i번째 인덱스는 포함되지 않으므로 0 ~ i - 1이 모두 해당됨\n",
    "            # 그 갯수는 i\n",
    "            else: \n",
    "                ans += i\n",
    "                \n",
    "    return ans \n",
    "                \n",
    "MITM(arr)        "
   ]
  },
  {
   "cell_type": "code",
   "execution_count": null,
   "id": "7c8a426e-4ccd-4600-b8b8-8d79dc50a05e",
   "metadata": {},
   "outputs": [],
   "source": []
  }
 ],
 "metadata": {
  "kernelspec": {
   "display_name": "Python 3 (ipykernel)",
   "language": "python",
   "name": "python3"
  },
  "language_info": {
   "codemirror_mode": {
    "name": "ipython",
    "version": 3
   },
   "file_extension": ".py",
   "mimetype": "text/x-python",
   "name": "python",
   "nbconvert_exporter": "python",
   "pygments_lexer": "ipython3",
   "version": "3.9.13"
  }
 },
 "nbformat": 4,
 "nbformat_minor": 5
}
