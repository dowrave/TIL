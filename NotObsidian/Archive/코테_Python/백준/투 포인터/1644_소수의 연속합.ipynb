{
 "cells": [
  {
   "cell_type": "markdown",
   "id": "ebdd8a06-85a6-47be-abd2-10d927ff3505",
   "metadata": {},
   "source": [
    "- [문제 링크](https://www.acmicpc.net/problem/1644)"
   ]
  },
  {
   "cell_type": "code",
   "execution_count": 3,
   "id": "bf1fc9b5-c320-4eec-8813-0d7ab37e6d67",
   "metadata": {},
   "outputs": [
    {
     "name": "stdout",
     "output_type": "stream",
     "text": [
      "2\n"
     ]
    }
   ],
   "source": [
    "import sys\n",
    "sys.stdin = open('test.txt', 'r')\n",
    "input = sys.stdin.readline\n",
    "\n",
    "N = int(input())\n",
    "\n",
    "# N보다 작은 소수 배열 얻기\n",
    "lst = [True] * (N + 1) # 모두 소수다!라고 박고 시작함\n",
    "for i in range(2, N+1):\n",
    "    if lst[i] == True:\n",
    "        for j in range(i+i, N+1, i):\n",
    "            lst[j] = False\n",
    "\n",
    "# lst comprehension은 뒤에 조건을 달 수 있다\n",
    "prime_lst = [0] + [i for i in range(2, N+1) if lst[i] == True]\n",
    "f = len(prime_lst)\n",
    "\n",
    "\n",
    "cum_lst = [0] * f\n",
    "for i in range(1, f):\n",
    "    cum_lst[i] = cum_lst[i-1] + prime_lst[i]\n",
    "\n",
    "left, right = 1, 1\n",
    "ans = 0\n",
    "while right < f:\n",
    "    part_sum = cum_lst[right] - cum_lst[left - 1]\n",
    "    \n",
    "    if part_sum == N:\n",
    "        ans += 1\n",
    "        right += 1 \n",
    "    \n",
    "    elif part_sum < N:\n",
    "        right += 1\n",
    "    \n",
    "    else:\n",
    "        left += 1\n",
    "        \n",
    "print(ans)"
   ]
  },
  {
   "cell_type": "markdown",
   "id": "bdbc2e89-6f3e-47af-9b64-4cf82deaa0aa",
   "metadata": {},
   "source": [
    "- 어떤 자연수를 연속된 소수의 합으로 나타낼 수 있는 경우의 수를 구해야 함\n",
    "- 이를 위해 필요한 건\n",
    "1. 어떤 자연수보다 작은 소수의 리스트 구하기\n",
    "> 이거 까먹었는데 그냥 숫자 2부터 1씩 늘려가면서 배수들 없애면 됨\n",
    "2. 그렇게 구해진 소수의 리스트에 대한 연속합 리스트를 구현하고 투 포인터 돌리면 됨"
   ]
  },
  {
   "cell_type": "code",
   "execution_count": null,
   "id": "8b607ccd-3ca7-4100-9b2f-d2f85c1f0e63",
   "metadata": {},
   "outputs": [],
   "source": []
  }
 ],
 "metadata": {
  "kernelspec": {
   "display_name": "Python 3 (ipykernel)",
   "language": "python",
   "name": "python3"
  },
  "language_info": {
   "codemirror_mode": {
    "name": "ipython",
    "version": 3
   },
   "file_extension": ".py",
   "mimetype": "text/x-python",
   "name": "python",
   "nbconvert_exporter": "python",
   "pygments_lexer": "ipython3",
   "version": "3.9.13"
  }
 },
 "nbformat": 4,
 "nbformat_minor": 5
}
