{
 "cells": [
  {
   "cell_type": "markdown",
   "id": "0b63a323-9cf8-495c-abf3-5872cecd00e1",
   "metadata": {},
   "source": [
    "## 24445_BFS_1\n",
    "- [링크](https://www.acmicpc.net/problem/24445)"
   ]
  },
  {
   "cell_type": "code",
   "execution_count": 13,
   "id": "e5586c92-9f77-4fb5-83d5-5da890b57e4a",
   "metadata": {},
   "outputs": [
    {
     "name": "stdout",
     "output_type": "stream",
     "text": [
      "1\n",
      "2\n",
      "4\n",
      "3\n",
      "0\n"
     ]
    }
   ],
   "source": [
    "import sys\n",
    "from collections import deque\n",
    "sys.stdin = open('test.txt', 'r')\n",
    "input = sys.stdin.readline\n",
    "\n",
    "N, M, R = map(int, input().split())\n",
    "\n",
    "graph = [[] for _ in range(N + 1)]\n",
    "visited = [0] * (N + 1)\n",
    "dq = deque([])\n",
    "count = 1\n",
    "\n",
    "for _ in range(M):\n",
    "    a, b = map(int, input().split())\n",
    "    graph[a].append(b)\n",
    "    graph[b].append(a)\n",
    "    \n",
    "def bfs(start_node):\n",
    "    global count\n",
    "    \n",
    "    visited[start_node] = count\n",
    "    dq.append(start_node)\n",
    "    \n",
    "    while dq:\n",
    "        now_node = dq.popleft()\n",
    "        graph[now_node].sort()\n",
    "\n",
    "        for i in graph[now_node]:\n",
    "            if visited[i] == 0:\n",
    "                count += 1\n",
    "                dq.append(i)\n",
    "                visited[i] = count\n",
    "\n",
    "bfs(R)\n",
    "for i in visited[1:]:\n",
    "    print(i)"
   ]
  },
  {
   "cell_type": "markdown",
   "id": "a52f3899-6575-422f-928c-ed3a559ccc9e",
   "metadata": {},
   "source": [
    "## 24446_BFS_2\n",
    "- [링크](https://www.acmicpc.net/problem/24446)"
   ]
  },
  {
   "cell_type": "code",
   "execution_count": 17,
   "id": "cb035b9f-5fa1-4ae6-a4fe-2db2694ee2a5",
   "metadata": {},
   "outputs": [
    {
     "name": "stdout",
     "output_type": "stream",
     "text": [
      "1\n",
      "3\n",
      "4\n",
      "2\n",
      "0\n"
     ]
    }
   ],
   "source": [
    "import sys\n",
    "from collections import deque\n",
    "sys.stdin = open('test.txt', 'r')\n",
    "input = sys.stdin.readline\n",
    "\n",
    "N, M, R = map(int, input().split())\n",
    "\n",
    "graph = [[] for _ in range(N + 1)]\n",
    "visited = [0] * (N + 1)\n",
    "dq = deque([])\n",
    "visit_idx = 1\n",
    "\n",
    "for _ in range(M):\n",
    "    a, b = map(int, input().split())\n",
    "    graph[a].append(b)\n",
    "    graph[b].append(a)\n",
    "    \n",
    "def dfs(start_node):\n",
    "    \n",
    "    global visit_idx\n",
    "    \n",
    "    visited[start_node] = visit_idx\n",
    "    dq.append(start_node)\n",
    "    graph[start_node].sort(reverse = True)\n",
    "    \n",
    "    while dq:\n",
    "        \n",
    "        now_node = dq.popleft()\n",
    "        graph[now_node].sort(reverse = True)\n",
    "        \n",
    "        for i in graph[now_node]:\n",
    "            if visited[i] == 0:\n",
    "                visit_idx += 1\n",
    "                visited[i] = visit_idx\n",
    "                dq.append(i)\n",
    "                \n",
    "dfs(R)\n",
    "for i in visited[1:]:\n",
    "    print(i)"
   ]
  },
  {
   "cell_type": "code",
   "execution_count": null,
   "id": "e300e399-3a37-4f6e-9de7-3fded9bc3b7d",
   "metadata": {},
   "outputs": [],
   "source": []
  }
 ],
 "metadata": {
  "kernelspec": {
   "display_name": "Python 3 (ipykernel)",
   "language": "python",
   "name": "python3"
  },
  "language_info": {
   "codemirror_mode": {
    "name": "ipython",
    "version": 3
   },
   "file_extension": ".py",
   "mimetype": "text/x-python",
   "name": "python",
   "nbconvert_exporter": "python",
   "pygments_lexer": "ipython3",
   "version": "3.9.13"
  }
 },
 "nbformat": 4,
 "nbformat_minor": 5
}
