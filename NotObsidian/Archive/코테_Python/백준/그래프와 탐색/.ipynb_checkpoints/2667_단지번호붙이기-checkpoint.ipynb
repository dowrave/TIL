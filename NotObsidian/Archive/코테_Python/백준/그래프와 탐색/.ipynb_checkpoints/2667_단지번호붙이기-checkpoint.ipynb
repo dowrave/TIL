{
 "cells": [
  {
   "cell_type": "markdown",
   "id": "8234f50e-fbd4-4e95-bd82-e3a56d311b8b",
   "metadata": {},
   "source": [
    "- [문제 링크](https://www.acmicpc.net/problem/2667)\n",
    "- 결국 이런 느낌 아닐까? \n",
    "    - 전체에 대해 반복문(이중for)을 돌림\n",
    "    - 1을 만났다면 근처의 1을 BFS나 DFS를 통해 탐색함\n",
    "    - 각각을 구분하기 위해 idx값을 하나 따로 두면 됨\n",
    "    - BFS나 DFS가 종료될 때마다 idx + 1이 될 거고\n",
    "    - 값이 있으니까 바깥 for문에서 다시 만나면 그냥 지나가면 됨\n",
    "    \n",
    "- 결과적으로 최종 idx - 1 한 게 단지들의 개수가 되겠죠?\n"
   ]
  },
  {
   "cell_type": "code",
   "execution_count": 2,
   "id": "019de186-ec9e-492e-892f-469b2bd65133",
   "metadata": {},
   "outputs": [
    {
     "name": "stdout",
     "output_type": "stream",
     "text": [
      "3\n",
      "7\n",
      "8\n",
      "9\n"
     ]
    }
   ],
   "source": [
    "import sys\n",
    "from collections import deque\n",
    "\n",
    "sys.stdin = open('test.txt', 'r')\n",
    "input = sys.stdin.readline\n",
    "\n",
    "N = int(input())\n",
    "matrix = []\n",
    "for _ in range(N):\n",
    "    matrix.append(list(map(int, (input().strip()))))\n",
    "    \n",
    "visited = [[0] * (N) for _ in range(N)]\n",
    "count_lst = []\n",
    "group_idx = 1\n",
    "dq = deque([])\n",
    "\n",
    "def bfs(now_loc: list):\n",
    "    \n",
    "    global group_idx\n",
    "    \n",
    "    count = 1\n",
    "    x = now_loc[0]\n",
    "    y = now_loc[1]\n",
    "    visited[x][y] = group_idx\n",
    "    \n",
    "    dq.append(now_loc)\n",
    "    \n",
    "    while dq:\n",
    "        new_loc = dq.popleft()\n",
    "        x, y = new_loc[0], new_loc[1]\n",
    "        \n",
    "        moves = [[-1, 0], [1, 0], [0, -1], [0, 1]]\n",
    "        for move in moves:\n",
    "            dx = x + move[0]\n",
    "            dy = y + move[1]\n",
    "            # dx dy가 그래프 내에 있으면서\n",
    "            # 값이 1이되, 지나가진 않았어야 함\n",
    "            if (dx >= 0 and dx < N and dy >= 0 and dy < N \n",
    "                and matrix[dx][dy] == 1 and visited[dx][dy] == 0):\n",
    "                visited[dx][dy] = group_idx\n",
    "                dq.append([dx, dy])\n",
    "                count += 1\n",
    "\n",
    "    group_idx += 1\n",
    "    return count \n",
    "\n",
    "for i in range(N):\n",
    "    for j in range(N):\n",
    "        if matrix[i][j] and visited[i][j] == 0:\n",
    "            cnt = bfs([i, j])\n",
    "            count_lst.append(cnt)\n",
    "count_lst.sort()\n",
    "\n",
    "\n",
    "print(group_idx - 1)\n",
    "for i in count_lst:\n",
    "    print(i)"
   ]
  },
  {
   "cell_type": "code",
   "execution_count": null,
   "id": "b0a28e88-d159-41a4-b39c-ff5c9d33de74",
   "metadata": {},
   "outputs": [],
   "source": []
  }
 ],
 "metadata": {
  "kernelspec": {
   "display_name": "Python 3 (ipykernel)",
   "language": "python",
   "name": "python3"
  },
  "language_info": {
   "codemirror_mode": {
    "name": "ipython",
    "version": 3
   },
   "file_extension": ".py",
   "mimetype": "text/x-python",
   "name": "python",
   "nbconvert_exporter": "python",
   "pygments_lexer": "ipython3",
   "version": "3.9.13"
  }
 },
 "nbformat": 4,
 "nbformat_minor": 5
}
