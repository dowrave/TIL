{
 "cells": [
  {
   "cell_type": "markdown",
   "id": "14fff1a4-55fe-4a4e-a73f-b17d580f63c0",
   "metadata": {},
   "source": [
    "## 1. 24479 _ DFS_1\n",
    "- [링크](https://www.acmicpc.net/problem/24479)\n",
    "- 노드의 방문 순서는 오름차순\n",
    "- `RecursionError 대비` : 파이썬의 기본 재귀 횟수는 `3000`이므로, `sys.setrecursionlimit(1e9)`를  치고 들어가자. \n",
    "    - 그래도 안 되는 문제라면 `Segmentation Fault`가 발생함 -> 즉 이런 식으로 푸는 게 아니라고 알려줌"
   ]
  },
  {
   "cell_type": "code",
   "execution_count": 23,
   "id": "e011704b-d735-4657-a1c6-fd12adb77cab",
   "metadata": {},
   "outputs": [
    {
     "name": "stdout",
     "output_type": "stream",
     "text": [
      "1\n",
      "2\n",
      "3\n",
      "4\n",
      "0\n"
     ]
    }
   ],
   "source": [
    "import sys\n",
    "sys.stdin = open('test.txt', 'r')\n",
    "sys.setrecursionlimit(int(1e9))\n",
    "input = sys.stdin.readline\n",
    "\n",
    "N, M, R = map(int, input().split())\n",
    "\n",
    "graph = [[] for _ in range(N + 1)]\n",
    "visited = [0] * (N + 1)\n",
    "count = 1\n",
    "\n",
    "for _ in range(M):\n",
    "    a, b = map(int, input().split())\n",
    "    graph[a].append(b)\n",
    "    graph[b].append(a)\n",
    "\n",
    "# 출력은 정점 i의 방문 순서이다\n",
    "\n",
    "def dfs(start_node):\n",
    "    global count\n",
    "    visited[start_node] = count\n",
    "    graph[start_node].sort()\n",
    "    \n",
    "    for i in graph[start_node]:\n",
    "        if visited[i] == False:\n",
    "            count += 1\n",
    "            dfs(i)\n",
    "            continue    \n",
    "\n",
    "dfs(R)\n",
    "for i in visited[1:]:\n",
    "    print(i)"
   ]
  },
  {
   "cell_type": "markdown",
   "id": "34cd7fe6-30b3-439c-94f0-de2181cf0904",
   "metadata": {},
   "source": [
    "## 2. DFS_내림차순\n",
    "- [링크](https://www.acmicpc.net/problem/24480)\n",
    "- 1과의 차이 : 내림차순으로 방문함\n",
    "- 공부가 돼야 하니까 복붙은 안한다"
   ]
  },
  {
   "cell_type": "code",
   "execution_count": 32,
   "id": "3879843d-1c92-4bdf-a26c-a04364ac2033",
   "metadata": {},
   "outputs": [
    {
     "name": "stdout",
     "output_type": "stream",
     "text": [
      "1\n",
      "4\n",
      "3\n",
      "2\n",
      "0\n"
     ]
    }
   ],
   "source": [
    "import sys\n",
    "sys.stdin = open('test.txt', 'r')\n",
    "sys.setrecursionlimit(int(1e9))\n",
    "input = sys.stdin.readline\n",
    "\n",
    "N, M, R = map(int, input().split())\n",
    "\n",
    "graph = [[] for _ in range(N + 1)]\n",
    "visited = [0] * (N + 1)\n",
    "visit_count = 1\n",
    "\n",
    "for _ in range(M):\n",
    "    a, b = map(int, input().split())\n",
    "    graph[a].append(b)\n",
    "    graph[b].append(a)\n",
    "    \n",
    "# 변수명을 이거저거 줘보면서 찾아보자\n",
    "def dfs_desc(now_node):\n",
    "    \n",
    "    global visit_count\n",
    "    visited[now_node] = visit_count\n",
    "    graph[now_node].sort(reverse = True)\n",
    "    \n",
    "    for i in graph[now_node]:\n",
    "        if visited[i] == False:\n",
    "            visit_count += 1\n",
    "            dfs_desc(i)\n",
    "            \n",
    "dfs_desc(R)\n",
    "for i in visited[1:]:\n",
    "    print(i)"
   ]
  },
  {
   "cell_type": "code",
   "execution_count": null,
   "id": "6c90dc5c-95ec-4d13-a0a1-5e49bd15cf7d",
   "metadata": {},
   "outputs": [],
   "source": []
  }
 ],
 "metadata": {
  "kernelspec": {
   "display_name": "Python 3 (ipykernel)",
   "language": "python",
   "name": "python3"
  },
  "language_info": {
   "codemirror_mode": {
    "name": "ipython",
    "version": 3
   },
   "file_extension": ".py",
   "mimetype": "text/x-python",
   "name": "python",
   "nbconvert_exporter": "python",
   "pygments_lexer": "ipython3",
   "version": "3.9.13"
  }
 },
 "nbformat": 4,
 "nbformat_minor": 5
}
