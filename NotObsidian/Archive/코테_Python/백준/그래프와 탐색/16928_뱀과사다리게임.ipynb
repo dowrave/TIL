{
 "cells": [
  {
   "cell_type": "markdown",
   "id": "e3795e3f-6267-499d-bc95-d0df5b82c663",
   "metadata": {},
   "source": [
    "- [문제 정보](https://www.acmicpc.net/problem/16928)\n",
    "- 어떤 칸을 밟았을 때 새로 이동해야 하는 칸이 있는가 검색하면 됨\n",
    "- 그걸 위해 별도의 리스트나 딕셔너리를 구현"
   ]
  },
  {
   "cell_type": "code",
   "execution_count": 5,
   "id": "a98f3765-dca8-435a-a87d-dc268f2c41d8",
   "metadata": {},
   "outputs": [
    {
     "data": {
      "text/plain": [
       "5"
      ]
     },
     "execution_count": 5,
     "metadata": {},
     "output_type": "execute_result"
    }
   ],
   "source": [
    "import sys\n",
    "from collections import deque\n",
    "sys.stdin = open('test.txt', 'r')\n",
    "input = sys.stdin.readline\n",
    "\n",
    "N, M = map(int, input().split())\n",
    "\n",
    "visited = [0] * (101)\n",
    "special_case = {}\n",
    "\n",
    "for _ in range(N):\n",
    "    ladder_start, ladder_end = map(int, input().split())\n",
    "    special_case[ladder_start] = ladder_end\n",
    "for _ in range(M):\n",
    "    snake_start, snake_end = map(int, input().split())\n",
    "    special_case[snake_start] = snake_end\n",
    "\n",
    "\n",
    "dq = deque([])\n",
    "\n",
    "def bfs(start_loc):\n",
    "    dq.append((start_loc, 0))\n",
    "    visited[start_loc] = 1\n",
    "    \n",
    "    while dq:\n",
    "        \n",
    "        now_loc, count = dq.popleft()\n",
    "        if now_loc == 100:\n",
    "            return count\n",
    "        moves = [1, 2, 3, 4, 5, 6]\n",
    "        \n",
    "        for move in moves:\n",
    "            \n",
    "            dloc = now_loc + move\n",
    "            \n",
    "            if dloc > 100:\n",
    "                continue\n",
    "            if dloc in special_case.keys():\n",
    "                dloc = special_case[dloc]\n",
    "            \n",
    "            if visited[dloc] == 0: \n",
    "                dq.append((dloc, count + 1))\n",
    "                visited[dloc] = 1\n",
    "    \n",
    "print(bfs(1))"
   ]
  },
  {
   "cell_type": "markdown",
   "id": "6e891306-a4fe-42e7-99fe-2d13a5bf9cd2",
   "metadata": {},
   "source": [
    "- 사다리면 -1, 뱀이면 -2로 표시해둔 다음에\n",
    "- 그 값을 찾아서 넣는다? 일단 해보자"
   ]
  },
  {
   "cell_type": "code",
   "execution_count": null,
   "id": "9681ec36-ed28-458a-bab8-298f66484583",
   "metadata": {},
   "outputs": [],
   "source": []
  }
 ],
 "metadata": {
  "kernelspec": {
   "display_name": "Python 3 (ipykernel)",
   "language": "python",
   "name": "python3"
  },
  "language_info": {
   "codemirror_mode": {
    "name": "ipython",
    "version": 3
   },
   "file_extension": ".py",
   "mimetype": "text/x-python",
   "name": "python",
   "nbconvert_exporter": "python",
   "pygments_lexer": "ipython3",
   "version": "3.9.13"
  }
 },
 "nbformat": 4,
 "nbformat_minor": 5
}
