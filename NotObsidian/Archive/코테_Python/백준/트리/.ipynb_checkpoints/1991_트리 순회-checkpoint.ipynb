{
 "cells": [
  {
   "cell_type": "code",
   "execution_count": 19,
   "id": "111d8b61-70f3-4b9b-8b90-7ee2ea50478f",
   "metadata": {},
   "outputs": [
    {
     "name": "stdout",
     "output_type": "stream",
     "text": [
      "ABDCEFG\n",
      "DBAECFG\n",
      "DBEGFCA\n"
     ]
    }
   ],
   "source": [
    "import sys\n",
    "sys.setrecursionlimit(int(1e6))\n",
    "sys.stdin = open('test.txt', 'r')\n",
    "input = sys.stdin.readline\n",
    "\n",
    "N = int(input())\n",
    "tree_dct = {}\n",
    "\n",
    "# 노드가 '순서대로' 주어진다고 했으니까 알파벳 생각은 안해도 됨\n",
    "\n",
    "for i in range(1, N + 1):\n",
    "    root, left, right = input().split()\n",
    "    tree_dct[root] = [left, right]\n",
    "    \n",
    "# 전위 순회 (부모 -> 왼쪽 -> 오른쪽)\n",
    "def preorder(now_root):\n",
    "    # print(now_root)\n",
    "    ans_pre.append(now_root)\n",
    "    left, right = tree_dct[now_root][0], tree_dct[now_root][1]\n",
    "    if left != '.':\n",
    "        preorder(left)\n",
    "    if right != '.':\n",
    "        preorder(right)\n",
    "\n",
    "ans_pre = []\n",
    "preorder('A')\n",
    "print(\"\".join(ans_pre))\n",
    "\n",
    "# 중위 순회 (왼쪽 -> 부모 -> 오른쪽)\n",
    "def inorder(now_root):\n",
    "    left, right = tree_dct[now_root][0], tree_dct[now_root][1]\n",
    "    if left != '.':\n",
    "        inorder(left)\n",
    "    # print(now_root)\n",
    "    ans_in.append(now_root)\n",
    "    if right != '.':\n",
    "        inorder(right)\n",
    "        \n",
    "ans_in = []\n",
    "inorder('A')\n",
    "print(\"\".join(ans_in))\n",
    "\n",
    "# 후위 순회 (왼쪽 -> 오른쪽 -> 부모)\n",
    "def postorder(now_root):\n",
    "    left, right = tree_dct[now_root][0], tree_dct[now_root][1]\n",
    "    if left != '.':\n",
    "        postorder(left)\n",
    "    if right != '.':\n",
    "        postorder(right)\n",
    "    # print(now_root)\n",
    "    ans_post.append(now_root)\n",
    "                    \n",
    "ans_post = []\n",
    "postorder('A')\n",
    "print(\"\".join(ans_post))"
   ]
  },
  {
   "cell_type": "markdown",
   "id": "79423726-a493-4aef-b4dd-eeb062640012",
   "metadata": {},
   "source": [
    "## 너무 지저분해지는 것 같아 풀이를 봤다\n",
    "1. `root`를 key로, `left`, `right`를 value로 갖는 `dict`를 생성한다\n",
    "2. 트리는 항상 `root, left, right`를 갖는 구조로 쪼갤 수 있다\n",
    "3. `preorder`는 `root - left - right` 순으로, `inorder`는 `left - root - right` 순으로, `postorder`는 `left - right - root` 순으로 출력시키기만 하면 됨\n"
   ]
  },
  {
   "cell_type": "code",
   "execution_count": 5,
   "id": "d2dd2a74-efca-409b-9517-54eb5a817b33",
   "metadata": {},
   "outputs": [
    {
     "ename": "TypeError",
     "evalue": "ord() expected string of length 1, but bool found",
     "output_type": "error",
     "traceback": [
      "\u001b[1;31m---------------------------------------------------------------------------\u001b[0m",
      "\u001b[1;31mTypeError\u001b[0m                                 Traceback (most recent call last)",
      "\u001b[1;32m~\\AppData\\Local\\Temp/ipykernel_5352/2062683767.py\u001b[0m in \u001b[0;36m<module>\u001b[1;34m\u001b[0m\n\u001b[1;32m----> 1\u001b[1;33m \u001b[0mord\u001b[0m\u001b[1;33m(\u001b[0m\u001b[1;32mFalse\u001b[0m\u001b[1;33m)\u001b[0m\u001b[1;33m\u001b[0m\u001b[1;33m\u001b[0m\u001b[0m\n\u001b[0m",
      "\u001b[1;31mTypeError\u001b[0m: ord() expected string of length 1, but bool found"
     ]
    }
   ],
   "source": []
  },
  {
   "cell_type": "code",
   "execution_count": null,
   "id": "80871b22-4d77-4440-9856-0cc4ba9fce12",
   "metadata": {},
   "outputs": [],
   "source": []
  }
 ],
 "metadata": {
  "kernelspec": {
   "display_name": "Python 3 (ipykernel)",
   "language": "python",
   "name": "python3"
  },
  "language_info": {
   "codemirror_mode": {
    "name": "ipython",
    "version": 3
   },
   "file_extension": ".py",
   "mimetype": "text/x-python",
   "name": "python",
   "nbconvert_exporter": "python",
   "pygments_lexer": "ipython3",
   "version": "3.9.13"
  }
 },
 "nbformat": 4,
 "nbformat_minor": 5
}
