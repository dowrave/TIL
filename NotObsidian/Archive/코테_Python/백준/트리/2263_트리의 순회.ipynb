{
 "cells": [
  {
   "cell_type": "markdown",
   "id": "074bf342-4442-4d85-a691-0b0074175c67",
   "metadata": {},
   "source": [
    "- [문제 링크](https://www.acmicpc.net/problem/2263)"
   ]
  },
  {
   "cell_type": "code",
   "execution_count": 1,
   "id": "cc639176-1b7e-484a-b047-a1e1beb10f1a",
   "metadata": {},
   "outputs": [
    {
     "name": "stdout",
     "output_type": "stream",
     "text": [
      "2 1 3 "
     ]
    }
   ],
   "source": [
    "import sys\n",
    "sys.stdin = open('test.txt' ,'r')\n",
    "sys.setrecursionlimit(int(1e5)) # 1e6하면 메모리초과뜸 ㅋㅋ;\n",
    "input = sys.stdin.readline\n",
    "\n",
    "# inorder와 postorder가 주어질 때, preorder를 구하는 프로그램을 작성하시오\n",
    "\n",
    "N = int(input())\n",
    "inorder = list(map(int, input().split()))\n",
    "postorder = list(map(int, input().split()))\n",
    "def preorder(in_start, in_end, post_start, post_end):\n",
    "    \n",
    "    if in_start > in_end or post_start > post_end:\n",
    "        return     \n",
    "\n",
    "    root = postorder[post_end]\n",
    "    mid = inorder.index(root)\n",
    "    \n",
    "    # 이 left, right 값은 inorder 기준의 인덱스임\n",
    "    left = mid - in_start\n",
    "    right = in_end - mid \n",
    "\n",
    "    print(root, end=\" \")\n",
    "    preorder(in_start, in_start + left - 1, post_start, post_start + left - 1)\n",
    "    preorder(in_end - right + 1, in_end, post_end - right, post_end - 1)\n",
    "\n",
    "preorder(0, N - 1, 0, N - 1)"
   ]
  },
  {
   "cell_type": "markdown",
   "id": "9af86de5-4250-4e7f-9092-59a8160a1d55",
   "metadata": {},
   "source": [
    "## 접근\n",
    "1. 후위 탐색의 마지막 노드는 루트 노드임\n",
    "    - 다른 값들은 트리의 구조에 따라 변할 수 있으나, 이것만큼은 가장 확실한 사실임\n",
    "2. 후위 탐색으로 찾은 루트 노드를 중위 탐색에서 찾으면, 그 루트 노드를 기준으로 왼쪽 리스트와 오른쪽 리스트로 나눌 수 있음\n",
    "3. 그 **쪼개진 리스트를 후위 탐색 리스트에 어떻게 전달할까**에서 막혔는데, \n",
    "    - 중위 탐색은 왼쪽 서브트리 - 루트 - 오른쪽 서브트리를,\n",
    "    - 후위 탐색은 왼쪽 서브트리 - 오른쪽 서브트리 - 루트를 출력한단 말임?\n",
    "    - 즉, 주어진 인풋을 봤을 때\n",
    "    - **중위 탐색에서 얻은 왼쪽 서브트리의 길이와, 후위 탐색에서 얻은 왼쪽 서브트리의 길이는 같다.**\n",
    "    - 따라서 오른쪽 서브트리도 후위 탐색에서 찾을 수 있음 : 마지막 노드 빼고, 앞에서 얻은 왼쪽 서브트리를 빼면 나머지니까\n",
    "    - 후위 탐색에서 2개의 서브 트리의 범위를 알 수 있기 때문에, 최초에 `-1`번째 인덱스로 루트 노드를 잡은 것과 동일하게 탐색할 수 있음"
   ]
  },
  {
   "cell_type": "markdown",
   "id": "12c2112d-32ec-4d7a-a9a1-63aeee06d897",
   "metadata": {},
   "source": [
    "## 메모리 초과\n",
    "\n",
    "```python\n",
    "def preorder(inorder_arr, postorder_arr):\n",
    "    \n",
    "    if len(postorder_arr) == 0:\n",
    "        return\n",
    "    \n",
    "    root = postorder_arr[-1]\n",
    "    inorder_root_idx = inorder_arr.index(root)\n",
    "    \n",
    "    in_left = inorder_arr[:inorder_root_idx]\n",
    "    in_right = inorder_arr[inorder_root_idx + 1:]\n",
    "    \n",
    "    post_left = postorder_arr[:len(in_left)]\n",
    "    post_right = postorder_arr[len(in_left):-1]\n",
    "    \n",
    "    print(root, end = \" \")\n",
    "    preorder(in_left, post_left)\n",
    "    preorder(in_right, post_right)\n",
    "    \n",
    "preorder(inorder, postorder)\n",
    "```\n",
    "- 내부 리스트를 새로 생성하기 때문에 발생하는 듯\n",
    "- 따라서 리스트는 따로 놓고, 인덱스들로만 구현해야 하겠다"
   ]
  },
  {
   "cell_type": "markdown",
   "id": "fc53daee-9171-4151-a383-1ae12b2cee29",
   "metadata": {},
   "source": [
    "## 출력 초과\n",
    "- 이거는 사실 논리는 맞지 않나 싶은데;\n",
    "```python\n",
    "import sys\n",
    "sys.stdin = open('test.txt' ,'r')\n",
    "sys.setrecursionlimit(int(1e6))\n",
    "input = sys.stdin.readline\n",
    "\n",
    "# inorder와 postorder가 주어질 때, preorder를 구하는 프고그램을 작성하시오\n",
    "\n",
    "N = int(input())\n",
    "inorder = list(map(int, input().split()))\n",
    "postorder = list(map(int, input().split()))\n",
    "def preorder(in_start, in_end, post_start, post_end):\n",
    "    root = postorder[post_end]\n",
    "    \n",
    "    if post_end == post_start:\n",
    "        print(root, end = \" \")\n",
    "        return     \n",
    "\n",
    "    inorder_root_idx = inorder.index(root)\n",
    "    \n",
    "    in_left_start = 0\n",
    "    in_left_end = inorder_root_idx - 1\n",
    "    in_right_start = inorder_root_idx + 1\n",
    "    in_right_end = in_end\n",
    "    \n",
    "    post_left_start = 0\n",
    "    post_left_end = inorder_root_idx - 1 # in_left_end - in_left_start여도 무방\n",
    "    post_right_start = inorder_root_idx\n",
    "    post_right_end = post_end - 1\n",
    "    \n",
    "    print(root, end = \" \")\n",
    "    preorder(in_left_start, in_left_end, post_left_start, post_left_end)\n",
    "    preorder(in_right_start, in_right_end, post_right_start, post_right_end)\n",
    "    \n",
    "preorder(0, N - 1, 0, N - 1)\n",
    "```\n",
    "- 왜 출력 초과인지 몰?루"
   ]
  },
  {
   "cell_type": "code",
   "execution_count": null,
   "id": "c6b3473a-6527-4cab-9b98-3cf105c44e0e",
   "metadata": {},
   "outputs": [],
   "source": []
  }
 ],
 "metadata": {
  "kernelspec": {
   "display_name": "Python 3 (ipykernel)",
   "language": "python",
   "name": "python3"
  },
  "language_info": {
   "codemirror_mode": {
    "name": "ipython",
    "version": 3
   },
   "file_extension": ".py",
   "mimetype": "text/x-python",
   "name": "python",
   "nbconvert_exporter": "python",
   "pygments_lexer": "ipython3",
   "version": "3.9.13"
  }
 },
 "nbformat": 4,
 "nbformat_minor": 5
}
