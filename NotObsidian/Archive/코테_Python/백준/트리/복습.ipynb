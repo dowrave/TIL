{
 "cells": [
  {
   "cell_type": "markdown",
   "id": "efdbca56-3efa-46d1-bb48-4c13acb63730",
   "metadata": {},
   "source": [
    "### 11725 : 트리의 부모 찾기\n",
    "- 1번 노드가 루트 노드라고 주어짐\n",
    "- 부모 노드의 인덱스를 저장하는 배열을 만들고, DFS를 하면서 첫 방문일 때 위 배열에서 부모 노드를 저장하면 됨"
   ]
  },
  {
   "cell_type": "code",
   "execution_count": 12,
   "id": "d1cc95b7-5a64-4825-bbd2-7d3ec9e80c15",
   "metadata": {
    "collapsed": true,
    "jupyter": {
     "outputs_hidden": true
    },
    "tags": []
   },
   "outputs": [
    {
     "name": "stdout",
     "output_type": "stream",
     "text": [
      "1\n",
      "1\n",
      "2\n",
      "3\n",
      "3\n",
      "4\n",
      "4\n",
      "5\n",
      "5\n",
      "6\n",
      "6\n"
     ]
    }
   ],
   "source": [
    "import sys\n",
    "sys.setrecursionlimit(int(1e6))\n",
    "sys.stdin = open('test.txt', 'r')\n",
    "input = sys.stdin.readline\n",
    "\n",
    "N = int(input())\n",
    "graph = [[] for _ in range(N + 1)]\n",
    "\n",
    "for _ in range(N - 1):\n",
    "    a, b = map(int, input().split())\n",
    "    graph[a].append(b)\n",
    "    graph[b].append(a)\n",
    "\n",
    "visited = [0] * (N + 1)\n",
    "parent = [0] * (N + 1)\n",
    "\n",
    "def dfs(start_node):\n",
    "    visited[start_node] = 1\n",
    "    for i in graph[start_node]:\n",
    "        if visited[i] == 0:\n",
    "            parent[i] = start_node\n",
    "            dfs(i)\n",
    "\n",
    "dfs(1)\n",
    "for i in range(2, N + 1):\n",
    "    print(parent[i])"
   ]
  },
  {
   "cell_type": "markdown",
   "id": "0e5c2f06-2dd3-4ca7-95ba-912bcd627648",
   "metadata": {},
   "source": [
    "### 1167 : 트리의 지름\n",
    "- 트리의 지름 찾는 알고리즘\n",
    "    1. 아무 점이나에서 시작, 가장 먼 점을 찾는다(DFS, 방문 리스트에 값을 누적하면 됨)\n",
    "    2. 그 가장 먼 점에서 다시 가장 먼 점을 찾음\n",
    "    3. 2에서 찾은 거리가 트리의 지름임\n",
    "    \n",
    "- 다음 문제(1967)는 같은 문제니까 스킵"
   ]
  },
  {
   "cell_type": "code",
   "execution_count": 20,
   "id": "86352370-32fc-4089-9dcb-4064bb306f1c",
   "metadata": {},
   "outputs": [
    {
     "name": "stdout",
     "output_type": "stream",
     "text": [
      "11\n"
     ]
    }
   ],
   "source": [
    "import sys\n",
    "sys.setrecursionlimit(int(1e6))\n",
    "sys.stdin = open('test.txt', 'r')\n",
    "input = sys.stdin.readline\n",
    "\n",
    "N = int(input())\n",
    "graph = [[] for _ in range(N+1)]\n",
    "\n",
    "def dfs(start_node):\n",
    "    \"\"\"방문 리스트를 구현할 때 시작 노드에서의 거리 값을 저장함\"\"\"\n",
    "    for next_node, weight in graph[start_node]:\n",
    "        if visited[next_node] == -1:\n",
    "            visited[next_node] = visited[start_node] + weight\n",
    "            dfs(next_node)\n",
    "    \n",
    "    \n",
    "for _ in range(N):\n",
    "    arr = list(map(int, input().split()))\n",
    "    x = arr[0]\n",
    "    # arr의 원소 개수는 간선의 갯수 * 2임\n",
    "    for i in range(1, len(arr), 2):\n",
    "        if arr[i] == -1:\n",
    "            break\n",
    "        graph[x].append((arr[i], arr[i+1])) # 연결된 노드, 가중치\n",
    "\n",
    "\n",
    "visited = [-1] * (N + 1)\n",
    "\n",
    "start_node = 1\n",
    "visited[start_node] = 0\n",
    "dfs(start_node) # ㄹㅇ 아무거나\n",
    "\n",
    "# visited에서 나온 최대 거리의 인덱스를 얻는다\n",
    "max_dist_node = visited.index(max(visited))\n",
    "\n",
    "# 다시 방문 배열을 초기화한 다음\n",
    "visited = [-1] * (N + 1)\n",
    "visited[max_dist_node] = 0\n",
    "dfs(max_dist_node)\n",
    "\n",
    "# 이 방문 배열의 가장 큰 값이 트리의 지름이다\n",
    "print(max(visited))"
   ]
  },
  {
   "cell_type": "markdown",
   "id": "a6b54ccd-8bfe-4cd1-a626-63762c735683",
   "metadata": {},
   "source": [
    "### 1991 : 트리 순회\n",
    "- 이진 트리를 입력 받았을 때 전위, 중위, 후위 순회 결과를 출력"
   ]
  },
  {
   "cell_type": "code",
   "execution_count": 31,
   "id": "501da405-0363-4fee-bf84-83661abd117f",
   "metadata": {},
   "outputs": [
    {
     "name": "stdout",
     "output_type": "stream",
     "text": [
      "ABDCEFG\n",
      "DBAECFG\n",
      "DBEGFCA"
     ]
    }
   ],
   "source": [
    "import sys\n",
    "sys.setrecursionlimit(int(1e6))\n",
    "sys.stdin = open('test.txt', 'r')\n",
    "input = sys.stdin.readline\n",
    "\n",
    "N = int(input())\n",
    "graph = {}\n",
    "for _ in range(N):\n",
    "    parent, left, right = input().strip().split()\n",
    "    graph[parent] = [left, right]\n",
    "    \n",
    "def preorder(node):\n",
    "    print(node, end = '')\n",
    "    left, right = graph[node][0], graph[node][1]\n",
    "    if left != '.':\n",
    "        preorder(left)\n",
    "    if right != '.':\n",
    "        preorder(right)\n",
    "\n",
    "def inorder(node):\n",
    "    left, right = graph[node][0], graph[node][1]\n",
    "    if left != '.':\n",
    "        inorder(left)\n",
    "    print(node, end = '')\n",
    "    if right != '.':\n",
    "        inorder(right)\n",
    "\n",
    "def postorder(node):\n",
    "    left, right = graph[node][0], graph[node][1]\n",
    "    if left != '.':\n",
    "        postorder(left)\n",
    "    if right != '.':\n",
    "        postorder(right)\n",
    "    print(node, end = '')\n",
    "\n",
    "preorder('A')\n",
    "print()\n",
    "inorder('A')\n",
    "print()\n",
    "postorder('A')"
   ]
  },
  {
   "cell_type": "markdown",
   "id": "7f6152bd-b082-48d2-9bc1-a537c4280ac8",
   "metadata": {},
   "source": [
    "### 2263 : 중위, 후위 순회가 주어졌을 때 전위 순회 구하기\n",
    "- 제출 : pypy3\n",
    "1. 후위 순회의 마지막에 있는 노드는 무조건 루트 노드이다.\n",
    "2. 이 루트 노드의 위치를 중위 순회에서 찾을 수 있다면, 왼쪽 서브트리와 오른쪽 서브 트리로 나눌 수 있다\n",
    "3. 중위 순회든 후위 순회든 왼쪽 서브 트리에 대한 탐색을 먼저 한다.\n",
    "    - 따라서 후위 순회에서도 어디까지가 왼쪽 서브트리이고 어디까지가 오른쪽 서브트리인지 알 수 있다\n",
    "4. 이런 식으로 계속 쪼개나가면 배열 길이가 1이 될 때까지 쪼갤 수 있는데, 각 단계에서 루트 노드를 찾아서 출력 -> 왼쪽 서브 트리 출력 -> 오른쪽 서브 트리 출력하는 과정을 반복하면 될 듯?"
   ]
  },
  {
   "cell_type": "code",
   "execution_count": 41,
   "id": "2b3f4568-f876-401e-9ed2-28014dd5495d",
   "metadata": {},
   "outputs": [
    {
     "name": "stdout",
     "output_type": "stream",
     "text": [
      "2 1 3 "
     ]
    }
   ],
   "source": [
    "import sys\n",
    "sys.setrecursionlimit(int(1e5)) # 이 문제 특수임\n",
    "sys.stdin = open('test.txt', 'r')\n",
    "input = sys.stdin.readline\n",
    "\n",
    "N = int(input())\n",
    "inorder = list(map(int, input().split()))\n",
    "postorder = list(map(int, input().split()))\n",
    "\n",
    "def func(inorder_start, inorder_end, postorder_start, postorder_end):\n",
    "    \"\"\"각 인풋은 인덱스를 의미함\"\"\"\n",
    "    \n",
    "    # 분할 정복의 종결조건은 그냥 이걸로 외우면 됨\n",
    "    if inorder_start > inorder_end or postorder_start > postorder_end:\n",
    "        return\n",
    "    \n",
    "    root = postorder[postorder_end]\n",
    "    mid = inorder.index(root)\n",
    "    \n",
    "    # 서브트리의 길이\n",
    "    left = mid - inorder_start # a~b의 길이는 b-a+1이지만, b는 포함X\n",
    "    right = inorder_end - mid # 마찬가지\n",
    "    \n",
    "    # 출력 : 전위순회\n",
    "    print(root, end=\" \")\n",
    "\n",
    "    \"\"\"\n",
    "    인덱스 지정 관련\n",
    "    inorder는 mid를 기준으로 왼쪽 오른쪽으로 나누면 됨\n",
    "    postorder를 생각해보면, inorder에서 서브트리의 길이를 얻을 수 있음\n",
    "    왼쪽 서브트리 : 즉 이전에 갖고 있던 postorder의 시작점이 있고\n",
    "                    inorder에서 왼쪽 서브트리의 길이를 안다면\n",
    "                    왼쪽 서브트리의 인덱스는 postorder ~ postorder + left - 1까지임\n",
    "                    (1을 빼는 건 두 점을 포함한 길이는 마지막에 1을 빼니까)\n",
    "    오른쪽 서브트리 : inorder에서 구한 오른쪽 서브트리의 길이가 있다면\n",
    "                     postorder의 끝점 - 오른쪽 서브트리의 길이가 시작점임\n",
    "                    (마지막점이 루트이기 때문에 1을 더하지 않음)\n",
    "                    마찬가지로 오른쪽 서브트리의 마지막 점은 기존 끝점 - 1\n",
    "    \"\"\"\n",
    "    func(inorder_start, mid - 1, postorder_start, postorder_start + left - 1)\n",
    "    func(mid + 1, inorder_end, postorder_end - right, postorder_end - 1)\n",
    "    \n",
    "func(0, N-1, 0, N-1)"
   ]
  },
  {
   "cell_type": "markdown",
   "id": "ed0ccdb0-ff8c-49f4-a726-79e6780193f3",
   "metadata": {},
   "source": [
    "### 5639 : 이진 검색 트리\n",
    "- 이진 검색 트리를 전위순회한 결과가 있을 때 후위 순회 결과를 구하시오"
   ]
  },
  {
   "cell_type": "code",
   "execution_count": 67,
   "id": "43bfe300-0269-4f54-a6b9-b5804f68a89e",
   "metadata": {},
   "outputs": [
    {
     "name": "stdout",
     "output_type": "stream",
     "text": [
      "5\n",
      "28\n",
      "24\n",
      "45\n",
      "30\n",
      "60\n",
      "52\n",
      "98\n",
      "50\n"
     ]
    }
   ],
   "source": [
    "import sys\n",
    "sys.setrecursionlimit(int(1e6)) \n",
    "sys.stdin = open('test.txt', 'r')\n",
    "input = sys.stdin.readline\n",
    "\n",
    "preorder = []\n",
    "while True:\n",
    "    inp = input()\n",
    "    if inp == '':\n",
    "        break\n",
    "    preorder.append(int(inp))\n",
    "\n",
    "N = len(preorder)\n",
    "    \n",
    "def func(start, end):\n",
    "    root = preorder[start]\n",
    "    \n",
    "    # if start == end:\n",
    "    #     print(root)\n",
    "    \n",
    "    \"\"\"\n",
    "    서브트리를 가지지 않는 조건\n",
    "    - 왼쪽 서브트리 : 나머지 값들이 루트보다 모두 크면\n",
    "                    = 분할점이 preorder의 가장 왼쪽에 있다면\n",
    "    - 오른쪽 서브트리 : 나머지 값들이 루트보다 모두 작으면\n",
    "                    = 분할점이 preorder의 가장 오른쪽에 있다면\n",
    "    \"\"\"\n",
    "    left_end = start\n",
    "    for i in range(start + 1, end + 1):\n",
    "        # 여기 조건도 신경 쓰자 : \n",
    "        # 루트보다 작은 가장 끝 점을 찾으려면\n",
    "        # 작은 값이 계속 갱신되어야 함\n",
    "        if preorder[i] < preorder[start]:\n",
    "            left_end = i\n",
    "    \n",
    "    if left_end != start:\n",
    "        func(start + 1, left_end)\n",
    "    if left_end != end:\n",
    "        func(left_end + 1, end)\n",
    "    print(root)\n",
    "\n",
    "func(0, N - 1)"
   ]
  },
  {
   "cell_type": "markdown",
   "id": "d6200955-7307-4df2-9e14-48389b5f5762",
   "metadata": {},
   "source": [
    "#### preorder\n",
    "- 루트노드가 맨 앞에 나온다\n",
    "- 이건 이진 탐색 트리이니까, 오른쪽에는 루트노드보다 큰 값이 나온다\n",
    "- 그러면 왼쪽 서브트리의 마지막 지점을 찾을 수 있다 : 루트 노드보다 작으면 됨\n",
    "- 좌우로 서브 트리를 나눌 수 있다..\n",
    "- 반복하면 되겠네?"
   ]
  },
  {
   "cell_type": "markdown",
   "id": "2795637b-005e-4846-b92a-a2740b25b792",
   "metadata": {},
   "source": [
    "### 4803 : 트리 판별\n"
   ]
  },
  {
   "cell_type": "code",
   "execution_count": 77,
   "id": "9a6ee22b-0a56-4d8e-8cf0-e5c41ed23f77",
   "metadata": {},
   "outputs": [
    {
     "name": "stdout",
     "output_type": "stream",
     "text": [
      "Case 1: A forest of 3 trees.\n",
      "Case 2: There is one tree.\n",
      "Case 3: No Trees.\n"
     ]
    }
   ],
   "source": [
    "import sys\n",
    "sys.setrecursionlimit(int(1e6)) \n",
    "sys.stdin = open('test.txt', 'r')\n",
    "input = sys.stdin.readline\n",
    "\n",
    "def dfs(start_node, parent_node):\n",
    "    \n",
    "    # 초기 parent_node는 0을 쓰면 됨\n",
    "    \n",
    "    visited[start_node] = 1\n",
    "    \n",
    "    for i in graph[start_node]:\n",
    "        \n",
    "        if i == parent_node:\n",
    "            continue\n",
    "            \n",
    "        elif visited[i]:\n",
    "            return False\n",
    "        \n",
    "        # 방문한 적 없고, 부모 노드가 아니면 재귀임\n",
    "        # 밑에서 False가 나왔다면 끌어올려줘야 함\n",
    "        if dfs(i, start_node) == False:\n",
    "            return False\n",
    "\n",
    "    return True\n",
    "\n",
    "case = 1\n",
    "\n",
    "while True:\n",
    "    \n",
    "    N, M = map(int, input().split())\n",
    "    if N == 0 and M == 0:\n",
    "        break\n",
    "        \n",
    "    graph = [[] for _ in range(N + 1)]\n",
    "    for _ in range(M):\n",
    "        a, b = map(int, input().split())\n",
    "        graph[a].append(b)\n",
    "        graph[b].append(a)\n",
    "        \n",
    "    visited = [0] * (N + 1)\n",
    "    ans = 0\n",
    "    \n",
    "    for i in range(1, N + 1):\n",
    "        if visited[i] == 0:\n",
    "            ans += dfs(i, 0)\n",
    "    \n",
    "    if ans == 0:\n",
    "        print(f\"Case {case}: No trees.\") # 아 또 이거 대문자로 씀;\n",
    "    elif ans == 1:\n",
    "        print(f\"Case {case}: There is one tree.\")\n",
    "    else:\n",
    "        print(f\"Case {case}: A forest of {ans} trees.\")\n",
    "        \n",
    "    case += 1"
   ]
  },
  {
   "cell_type": "markdown",
   "id": "e10526a8-2582-4259-b62e-ed0d53044e22",
   "metadata": {},
   "source": [
    "- 트리 판별 조건식은\n",
    "    - `다음에 방문할 노드가 직전 노드가 아니고 방문한 적 있는 노드라면 트리가 아니다` 정도만 생각난다\n",
    "    - 근데 이 문제는 닿지 않는 노드도 있음\n",
    "    \n",
    "- 그러면 \n",
    "1. 각 점에 대해 dfs를 돌림\n",
    "    - 방문한 적 있는 노드라면 걍 무시\n",
    "2. 그러면 그 점과 연결된 노드들을 모두 방문하게 됨 \n",
    "    - 이 때 트리를 판별함 : 직전 노드가 아닌데 방문한 적이 있다면 사이클이 있기 때문에 트리가 아님\n",
    "    - 1개의 노드만 있어도 트리로 간주되니까, 기본 값을 True로 놓음"
   ]
  },
  {
   "cell_type": "code",
   "execution_count": null,
   "id": "6aa664d9-7eea-4b91-ac51-9892b806b3d3",
   "metadata": {},
   "outputs": [],
   "source": []
  }
 ],
 "metadata": {
  "kernelspec": {
   "display_name": "Python 3 (ipykernel)",
   "language": "python",
   "name": "python3"
  },
  "language_info": {
   "codemirror_mode": {
    "name": "ipython",
    "version": 3
   },
   "file_extension": ".py",
   "mimetype": "text/x-python",
   "name": "python",
   "nbconvert_exporter": "python",
   "pygments_lexer": "ipython3",
   "version": "3.9.13"
  }
 },
 "nbformat": 4,
 "nbformat_minor": 5
}
