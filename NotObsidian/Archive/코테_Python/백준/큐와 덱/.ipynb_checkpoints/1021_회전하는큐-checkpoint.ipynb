{
 "cells": [
  {
   "cell_type": "code",
   "execution_count": 12,
   "id": "e7279737-67b1-4e15-aa83-426a63295291",
   "metadata": {},
   "outputs": [
    {
     "name": "stdout",
     "output_type": "stream",
     "text": [
      "0\n"
     ]
    }
   ],
   "source": [
    "import sys\n",
    "from collections import deque\n",
    "sys.stdin = open('test.txt', 'r')\n",
    "input = sys.stdin.readline\n",
    "\n",
    "N, M = map(int, input().split())\n",
    "dq = deque([i for i in range(1, N+1)]) # 초기 인덱스와\n",
    "lst = list(map(int, input().split()))\n",
    "count = 0\n",
    "\n",
    "# 리스트에는 인덱스 값이 들어감\n",
    "# 즉 이 인덱스를 0으로 만들어주기 위해 최소한으로 반복하는 값을 구함\n",
    "# 이 때, dq의 길이 절반보다 작으면 -1로, 크면 +1로 ㄱㄱ\n",
    "\n",
    "for idx in lst:\n",
    "    \n",
    "    while True:\n",
    "        if dq[0] == idx:\n",
    "            dq.popleft()\n",
    "            break\n",
    "\n",
    "        else:\n",
    "            if dq.index(idx) <= len(dq) // 2:\n",
    "                dq.append(dq.popleft())\n",
    "                count += 1\n",
    "            else:\n",
    "                dq.appendleft(dq.pop())\n",
    "                count += 1\n",
    "\n",
    "print(count)"
   ]
  },
  {
   "cell_type": "markdown",
   "id": "8e85b96f-f357-4657-9687-a2b4942987b2",
   "metadata": {},
   "source": [
    "- 최초에 준 숫자는 현재 덱에서의 인덱스\n",
    "- 사용 가능한 연산은\n",
    "1. 뽑기\n",
    "2. 좌로 1칸\n",
    "3. 우로 1칸\n",
    "- 일 때, 주어진 숫자들을 모두 뽑기 위한 좌, 우 이동의 최솟값을 구하시오"
   ]
  },
  {
   "cell_type": "markdown",
   "id": "8ae596ec-fe5a-48b6-b418-8fa7a50ceba5",
   "metadata": {},
   "source": [
    "1. 간단하게 1부터 N까지 있는 dq를 만든다고 생각해보자\n",
    "- 여기서 dq의 각 값은 최초 인덱스가 됨\n",
    "\n",
    "2. dq의 0번째 인덱스 값이 구해야 하는 인덱스라면 1번 연산을 해준다\n",
    "3. 최초 인덱스가 아니라면 2번이나 3번 연산을 해야 한다\n",
    "    - dq 길이의 절반을 기준으로 인덱스가 같거나 작다면 2번 연산을\n",
    "    - 인덱스가 크면 3번 연산을 해준다"
   ]
  },
  {
   "cell_type": "markdown",
   "id": "000929f1-0b8a-40f4-81c5-ac4538d6cef5",
   "metadata": {},
   "source": [
    "- 인덱스가 작거나 같다\n",
    "    - 예를 들면 길이 4가 있다고 보자\n",
    "    - 그러면 0 1 2 3 번 인덱스가 있을 거임\n",
    "    - 길이의 절반 값은 2임\n",
    "    - 인덱스 2번은 좌로 가나 우로 가나 동일함\n",
    "    - 인덱스 3번은 우로 가야 빠름\n",
    "    - 인덱스 1번은 좌로 가야 빠름\n",
    "- 길이 5는 어떨까\n",
    "    - 0 1 2 3 4\n",
    "    - 길이 절반 // 2 는 2\n",
    "    - 인덱스 2번은 좌로 가야 빠름\n",
    "    - 그보다 왼쪽은 좌로, 오른쪽은 우로 가야 빠름\n",
    "    \n",
    "- 따라서 홀수 케이스 때문에 길이의 절반 값을 몫 연산 했을 때, 그 절반값과 같거나 작을 때 좌로 가고 나머지는 우로 가면 된다"
   ]
  },
  {
   "cell_type": "markdown",
   "id": "c924c3b8-4092-4fb0-987e-8d680e7d442b",
   "metadata": {},
   "source": [
    "- `dq.append(dq.popleft())`는 `dq.rotate(-1)`\n",
    "- `dq.appendleft(dq.pop())`는 `dq.rotate(1)` "
   ]
  },
  {
   "cell_type": "markdown",
   "id": "b7bf495c-42f7-44bf-8080-27ee1754753c",
   "metadata": {},
   "source": [
    "- 인덱스를 추적하는 방식으로 `dq.index(value)`를 썼음에도 유의\n"
   ]
  },
  {
   "cell_type": "code",
   "execution_count": null,
   "id": "b1d9c849-c6e8-43bd-8a22-3bd9470fd922",
   "metadata": {},
   "outputs": [],
   "source": []
  }
 ],
 "metadata": {
  "kernelspec": {
   "display_name": "Python 3 (ipykernel)",
   "language": "python",
   "name": "python3"
  },
  "language_info": {
   "codemirror_mode": {
    "name": "ipython",
    "version": 3
   },
   "file_extension": ".py",
   "mimetype": "text/x-python",
   "name": "python",
   "nbconvert_exporter": "python",
   "pygments_lexer": "ipython3",
   "version": "3.9.13"
  }
 },
 "nbformat": 4,
 "nbformat_minor": 5
}
