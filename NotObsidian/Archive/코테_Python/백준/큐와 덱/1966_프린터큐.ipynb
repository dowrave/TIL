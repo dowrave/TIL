{
 "cells": [
  {
   "cell_type": "code",
   "execution_count": 15,
   "id": "6ed1d139-3463-41dd-a959-d0cb96b6459d",
   "metadata": {},
   "outputs": [
    {
     "name": "stdout",
     "output_type": "stream",
     "text": [
      "1\n",
      "2\n",
      "5\n"
     ]
    }
   ],
   "source": [
    "import sys\n",
    "from collections import deque\n",
    "\n",
    "sys.stdin = open('test.txt')\n",
    "input = sys.stdin.readline\n",
    "\n",
    "T = int(input())\n",
    "for _ in range(T):\n",
    "    N, M = map(int, input().split())\n",
    "    dq = deque(list(map(int, input().split())))\n",
    "    count = 1\n",
    "    \n",
    "    while True:\n",
    "        dq_max = max(dq)\n",
    "\n",
    "        # 일단 크게 케이스 2가지 : 가장 왼쪽의 수가 제일 크냐 아니냐\n",
    "        if dq[0] == dq_max:\n",
    "            dq.popleft()\n",
    "            if M == 0:\n",
    "                print(count)\n",
    "                break               \n",
    "            count += 1\n",
    "        else:\n",
    "            dq.append(dq.popleft())\n",
    "        \n",
    "        # \n",
    "        if M == 0:\n",
    "            M = len(dq) - 1\n",
    "        else:\n",
    "            M -= 1\n",
    "        "
   ]
  },
  {
   "cell_type": "code",
   "execution_count": 9,
   "id": "c71cf22c-8cfa-407f-9710-a6bcd61170db",
   "metadata": {},
   "outputs": [],
   "source": [
    "# 중요도가 높은 문서부터 차례대로 출력된단 말임?\n",
    "# 그러면 \n",
    "# 1. 최대 중요도를 정한다 (max)\n",
    "# 2. 최대 중요도가 아니면 맨 뒤로 보내고\n",
    "# 3. 최대 중요도라면 pop하자\n",
    "# 4. 위 과정에서 인덱스 추적을 계속 해야 함(?)"
   ]
  },
  {
   "cell_type": "code",
   "execution_count": null,
   "id": "f4dfddc5-f37a-4963-b29e-15c8a8b7ceb0",
   "metadata": {},
   "outputs": [],
   "source": []
  }
 ],
 "metadata": {
  "kernelspec": {
   "display_name": "Python 3 (ipykernel)",
   "language": "python",
   "name": "python3"
  },
  "language_info": {
   "codemirror_mode": {
    "name": "ipython",
    "version": 3
   },
   "file_extension": ".py",
   "mimetype": "text/x-python",
   "name": "python",
   "nbconvert_exporter": "python",
   "pygments_lexer": "ipython3",
   "version": "3.9.13"
  }
 },
 "nbformat": 4,
 "nbformat_minor": 5
}
