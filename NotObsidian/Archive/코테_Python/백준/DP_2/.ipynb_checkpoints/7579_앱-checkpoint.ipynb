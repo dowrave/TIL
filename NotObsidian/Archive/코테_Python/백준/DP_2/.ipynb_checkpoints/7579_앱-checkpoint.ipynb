{
 "cells": [
  {
   "cell_type": "code",
   "execution_count": 15,
   "id": "3279bd9a-f076-49cf-b965-6676b2c568be",
   "metadata": {},
   "outputs": [
    {
     "name": "stdout",
     "output_type": "stream",
     "text": [
      "6\n"
     ]
    }
   ],
   "source": [
    "import sys\n",
    "sys.stdin = open('test.txt' ,'r')\n",
    "input = sys.stdin.readline\n",
    "\n",
    "N, M = map(int, input().split())\n",
    "activate = [0] + list(map(int, input().split()))\n",
    "deactivate = [0] + list(map(int, input().split()))\n",
    "\n",
    "# 냅색 알고리즘 구성\n",
    "# row는 해당 row인덱스까지 범위로 지정\n",
    "# col은 비용(의외로 메모리가 아니다 : 메모리로 가면 너무 커지기도 함)\n",
    "# dp[i][j]는 해당 비용을 갖는 최소 메모리 값 : 냅색 알고리즘으로 갱신\n",
    "# 그 최소 메모리가 M을 넘는다면 \"최소 비용\"을 갱신한다\n",
    "dp = [[0] * (sum(deactivate) + 1) for _  in range(N+1)]\n",
    "result = sum(deactivate)\n",
    "\n",
    "\n",
    "\n",
    "for i in range(1, N+1):\n",
    "    for j in range(1, sum(deactivate)+1):\n",
    "        if j < deactivate[i]:\n",
    "            dp[i][j] = dp[i-1][j]\n",
    "        else:\n",
    "            dp[i][j] = max(dp[i-1][j], dp[i-1][j-deactivate[i]] + activate[i])\n",
    "        \n",
    "        if dp[i][j] >= M:\n",
    "            result = min(result, j)\n",
    "        \n",
    "print(result)"
   ]
  },
  {
   "cell_type": "markdown",
   "id": "2bfef215-56f9-4fe2-95fa-76397554a8b7",
   "metadata": {},
   "source": [
    "- 현재 M 바이트의 메모리를 추가로 확보해야 한다\n",
    "- 현재 활성화된 앱 중 몇 개를 비활성화해서 M 바이트의 메모리를 확보해야 하는데, 비활성화하는 비용의 합을 최소화해야 한다\n",
    "- 비용은 꺼졌다가 다시 키는데 드는 비용임"
   ]
  },
  {
   "cell_type": "markdown",
   "id": "cb076619-0c37-4e2f-b4b2-c74c2bd352f1",
   "metadata": {},
   "source": [
    "- 냅색 문제인데\n",
    "- 조금 특이한 거는 열에 Byte, 값에 비용을 넣는 게 아니라\n",
    "- 열에 비용, 값에 Byte를 넣는 방식이라는 것\n",
    "- 그래서 `[i][j]`는 어떤 비용을 만족하는 최소 Byte가 들어가게 된다\n",
    "    - Byte를 넣을 때마다 문제에서 준 조건(이번에 넣는 Byte는 M 이상인가?)을 만족하면 최솟값을 갱신하는 방식이다"
   ]
  },
  {
   "cell_type": "markdown",
   "id": "51f5a154-75a5-4f6b-92d5-2c867baf2168",
   "metadata": {},
   "source": []
  },
  {
   "cell_type": "code",
   "execution_count": null,
   "id": "68d440d8-51d9-4d0b-a677-8b9427c398ac",
   "metadata": {},
   "outputs": [],
   "source": []
  }
 ],
 "metadata": {
  "kernelspec": {
   "display_name": "Python 3 (ipykernel)",
   "language": "python",
   "name": "python3"
  },
  "language_info": {
   "codemirror_mode": {
    "name": "ipython",
    "version": 3
   },
   "file_extension": ".py",
   "mimetype": "text/x-python",
   "name": "python",
   "nbconvert_exporter": "python",
   "pygments_lexer": "ipython3",
   "version": "3.9.13"
  }
 },
 "nbformat": 4,
 "nbformat_minor": 5
}
