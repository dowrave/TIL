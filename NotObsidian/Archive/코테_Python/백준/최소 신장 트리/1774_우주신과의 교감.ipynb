{
 "cells": [
  {
   "cell_type": "markdown",
   "id": "afdd64fa-f368-485b-a501-36dd475287cf",
   "metadata": {},
   "source": [
    "- [문제 링크](https://www.acmicpc.net/problem/1774)"
   ]
  },
  {
   "cell_type": "markdown",
   "id": "c1fac219-47cb-4193-8e33-31a3cbc6df28",
   "metadata": {},
   "source": [
    "### 풀이\n",
    "- 이미 주어진 간선이 있으면 어떻게 할 것인가?를 묻는 문제임\n",
    "1. Kruskal : 해당 간선들을 먼저 Union하고, 값은 더하지 않음\n",
    "2. Prim : 해당 간선들의 가중치를 0으로 함"
   ]
  },
  {
   "cell_type": "code",
   "execution_count": 15,
   "id": "a08914ba-ed6c-4168-a275-49ed72f77eb2",
   "metadata": {},
   "outputs": [
    {
     "name": "stdout",
     "output_type": "stream",
     "text": [
      "4.00\n"
     ]
    }
   ],
   "source": [
    "# 1. Kruskal\n",
    "\n",
    "import sys\n",
    "sys.stdin = open('test.txt', 'r')\n",
    "input = sys.stdin.readline\n",
    "sys.setrecursionlimit(int(1e6))\n",
    "\n",
    "def find(x):\n",
    "    if parent[x] != x:\n",
    "        parent[x] = find(parent[x])\n",
    "    return parent[x]\n",
    "\n",
    "def union(a, b):\n",
    "    if a == b:\n",
    "        return\n",
    "    \n",
    "    a = find(a)\n",
    "    b = find(b)\n",
    "    \n",
    "    if a > b:\n",
    "        a, b  = b, a\n",
    "    \n",
    "    parent[b] = a\n",
    "    \n",
    "def dist(a, b):\n",
    "    dist = ((loc[b][0] - loc[a][0])**2 + \n",
    "            (loc[b][1] - loc[a][1])**2 )**(1/2)\n",
    "    return dist\n",
    "\n",
    "\n",
    "N, M = map(int, input().split())\n",
    "\n",
    "# 1. 좌표를 얻고 점들을 구성하는 모든 간선의 가중치를 구함\n",
    "loc = [(-1, -1)] * (N + 1)\n",
    "edges = []\n",
    "for i in range(1, N + 1):\n",
    "    loc[i] = tuple(map(int, input().split()))\n",
    "    for j in range(1, i):\n",
    "        w = dist(i, j)\n",
    "        edges.append((w, i, j))\n",
    "        \n",
    "edges.sort()\n",
    "\n",
    "# 2. 가장 작은 점들부터 union을 시도함\n",
    "parent = [i for i in range(N + 1)] # 1 ~ N만 사용\n",
    "min_span = 0\n",
    "\n",
    "# 이미 연결된 간선부터 union해준다\n",
    "for _ in range(M):\n",
    "    a, b = map(int, input().split())\n",
    "    if find(a) == find(b):\n",
    "        continue\n",
    "    union(a, b)\n",
    "\n",
    "# 이미 연결되었다면 if 조건으로 걸러짐\n",
    "for w, a, b in edges:\n",
    "    if find(a) == find(b):\n",
    "        continue\n",
    "    \n",
    "    union(a, b)\n",
    "    min_span += w\n",
    "\n",
    "print(\"{:.2f}\".format(min_span))"
   ]
  },
  {
   "cell_type": "markdown",
   "id": "3c85a817-e364-442c-84e9-28929df2344c",
   "metadata": {},
   "source": [
    "- 모든 간선을 구하지 않고 문제를 푸는 방법은 없겠지?"
   ]
  },
  {
   "cell_type": "code",
   "execution_count": 60,
   "id": "0fd0c882-a32c-4152-a2ca-826d1a811f22",
   "metadata": {},
   "outputs": [
    {
     "name": "stdout",
     "output_type": "stream",
     "text": [
      "1.41\n"
     ]
    }
   ],
   "source": [
    "# 2. Prim\n",
    "# 예제 잘 풀리고 다르게 값을 줘도 잘 풀리는데 뭐가 문제인지 모르겠다.\n",
    "import sys\n",
    "import heapq\n",
    "import math\n",
    "sys.stdin = open('test.txt', 'r')\n",
    "input = sys.stdin.readline\n",
    "\n",
    "N, M = map(int, input().split())\n",
    "graph = [[(-1, -1, -1)] * (N + 1) for _ in range(N + 1)]\n",
    "\n",
    "loc = [(-1, -1)] * (N + 1)\n",
    "\n",
    "# 이미 연결된 점 처리하기\n",
    "\n",
    "# 1. 각 점의 좌표를 구함\n",
    "for i in range(1, N + 1):\n",
    "    a, b = map(int, input().split())\n",
    "    loc[i] = (a, b)\n",
    "\n",
    "    \n",
    "# 2. 그래프 그리기 : 이미 연결된 점들은 거리를 0으로 넣는다\n",
    "graph = [[[-1, -1, -1]] * (N + 1) for _ in range(N + 1)]\n",
    "\n",
    "def dist(a, b):\n",
    "    dist = math.sqrt(((loc[b][0] - loc[a][0])** 2 +\n",
    "           (loc[b][1] - loc[a][1]) ** 2))\n",
    "    return dist\n",
    "\n",
    "for i in range(1, N + 1):\n",
    "    for j in range(i, N + 1):\n",
    "        graph[i][j] = [dist(i, j), i, j]\n",
    "        graph[j][i] = [dist(i, j), j, i]\n",
    "\n",
    "# 3. 이미 연결된 값들은 길이를 0으로 갱신함\n",
    "for _ in range(M):\n",
    "    a, b = map(int, input().split())\n",
    "    graph[a][b][0] = 0\n",
    "    graph[b][a][0] = 0\n",
    "    \n",
    "def prim(start_node):\n",
    "    visited = [0] * (N + 1)\n",
    "    hp = []\n",
    "    visited[start_node] = 1\n",
    "    length = 0\n",
    "    \n",
    "    for w, a, b in graph[start_node]:\n",
    "        if w != -1:\n",
    "            heapq.heappush(hp, (w, a, b))\n",
    "\n",
    "    while hp:\n",
    "        w, _, now = heapq.heappop(hp)\n",
    "        if visited[now] == 0:\n",
    "            visited[now] = 1\n",
    "            length += w\n",
    "            for next_w, now, next_ in graph[now]:\n",
    "                if visited[next_] == 0:\n",
    "                    heapq.heappush(hp, (next_w, now, next_))\n",
    "            \n",
    "    return length\n",
    "\n",
    "\n",
    "ans = prim(1)\n",
    "print(\"{:.2f}\".format(ans))"
   ]
  },
  {
   "cell_type": "markdown",
   "id": "49a59cdf-785b-4e72-ad92-8b4358601938",
   "metadata": {},
   "source": [
    "### Prim으로 풀다가 든 궁금증\n",
    "- 이런 상황을 가정해보자\n",
    "    - 4개의 점이 있고, 1을 중심으로 2, 3, 4가 연결됐을 때가 최소\n",
    "    - 1, 2가 이미 연결된 상황\n",
    "---\n",
    "- Prim은 방문 리스트를 이용한다고 생각하고, 이미 연결됐으니까 1, 2를 방문 리스트에 방문했다고 찍어버리면 `3-1-4`를 연결할 수 없음. `1`이 이미 방문한적이 있기 때문에 `heapq`에 들어가는 요소로 고려되지 않기 때문에\n",
    "- 찾아보니까, **이미 연결된 값들은 거리를 0으로 해서 그래프에 넣으면 된다고 한다.**"
   ]
  },
  {
   "cell_type": "code",
   "execution_count": 61,
   "id": "cdef670e-1996-4d22-afdc-0dd4a2b4323c",
   "metadata": {},
   "outputs": [
    {
     "ename": "ValueError",
     "evalue": "not enough values to unpack (expected 2, got 0)",
     "output_type": "error",
     "traceback": [
      "\u001b[1;31m---------------------------------------------------------------------------\u001b[0m",
      "\u001b[1;31mValueError\u001b[0m                                Traceback (most recent call last)",
      "\u001b[1;32m~\\AppData\\Local\\Temp/ipykernel_6584/2485505296.py\u001b[0m in \u001b[0;36m<module>\u001b[1;34m\u001b[0m\n\u001b[0;32m      3\u001b[0m \u001b[1;32mimport\u001b[0m \u001b[0msys\u001b[0m\u001b[1;33m\u001b[0m\u001b[1;33m\u001b[0m\u001b[0m\n\u001b[0;32m      4\u001b[0m \u001b[0minput\u001b[0m \u001b[1;33m=\u001b[0m \u001b[0msys\u001b[0m\u001b[1;33m.\u001b[0m\u001b[0mstdin\u001b[0m\u001b[1;33m.\u001b[0m\u001b[0mreadline\u001b[0m\u001b[1;33m\u001b[0m\u001b[1;33m\u001b[0m\u001b[0m\n\u001b[1;32m----> 5\u001b[1;33m \u001b[0mN\u001b[0m\u001b[1;33m,\u001b[0m \u001b[0mM\u001b[0m \u001b[1;33m=\u001b[0m \u001b[0mmap\u001b[0m\u001b[1;33m(\u001b[0m\u001b[0mint\u001b[0m\u001b[1;33m,\u001b[0m \u001b[0minput\u001b[0m\u001b[1;33m(\u001b[0m\u001b[1;33m)\u001b[0m\u001b[1;33m.\u001b[0m\u001b[0msplit\u001b[0m\u001b[1;33m(\u001b[0m\u001b[1;33m)\u001b[0m\u001b[1;33m)\u001b[0m\u001b[1;33m\u001b[0m\u001b[1;33m\u001b[0m\u001b[0m\n\u001b[0m\u001b[0;32m      6\u001b[0m \u001b[1;33m\u001b[0m\u001b[0m\n\u001b[0;32m      7\u001b[0m \u001b[1;33m\u001b[0m\u001b[0m\n",
      "\u001b[1;31mValueError\u001b[0m: not enough values to unpack (expected 2, got 0)"
     ]
    }
   ],
   "source": [
    "import math\n",
    "import heapq\n",
    "import sys\n",
    "input = sys.stdin.readline\n",
    "N, M = map(int, input().split())\n",
    "\n",
    "\n",
    "def prim(start):\n",
    "    result = 0\n",
    "    visited = [False] * (N+1)\n",
    "    q = []\n",
    "    heapq.heappush(q, (0, start))\n",
    "    while q:\n",
    "        dist, node = heapq.heappop(q)\n",
    "        if visited[node]:\n",
    "            continue\n",
    "        visited[node] = True\n",
    "        result += dist\n",
    "        for ndist, nnode in arr[node]:\n",
    "            heapq.heappush(q, (ndist, nnode))\n",
    "    return result\n",
    "\n",
    "\n",
    "# 노드 위치 정보\n",
    "nodes = [[]]\n",
    "for _ in range(N):\n",
    "    nodes.append(list(map(int, input().split())))\n",
    "\n",
    "# 이미 연결되어 있는 값을 저장\n",
    "connected = set()\n",
    "for _ in range(M):\n",
    "    x, y = map(int, input().split())\n",
    "    connected.add((x, y))\n",
    "    connected.add((y, x))\n",
    "\n",
    "# 연결리스트\n",
    "arr = [[] for _ in range(N+1)]\n",
    "for i in range(1, N+1):\n",
    "    for j in range(i+1, N+1):\n",
    "        # 이미 연결되어 있다면 dist를 0으로\n",
    "        if (i, j) in connected:\n",
    "            arr[i].append((0, j))\n",
    "            arr[j].append((0, i))\n",
    "            continue\n",
    "        # 연결 되지 않았다면\n",
    "        dist = math.sqrt((nodes[i][0]-nodes[j][0])**2 +\n",
    "                         (nodes[i][1]-nodes[j][1])**2)\n",
    "        arr[i].append((dist, j))\n",
    "        arr[j].append((dist, i))\n",
    "\n",
    "print(\"%.2f\" % prim(1))"
   ]
  },
  {
   "cell_type": "code",
   "execution_count": null,
   "id": "2c16f4d3-bcbb-4d1e-9ff1-feef32370ea1",
   "metadata": {},
   "outputs": [],
   "source": []
  }
 ],
 "metadata": {
  "kernelspec": {
   "display_name": "Python 3 (ipykernel)",
   "language": "python",
   "name": "python3"
  },
  "language_info": {
   "codemirror_mode": {
    "name": "ipython",
    "version": 3
   },
   "file_extension": ".py",
   "mimetype": "text/x-python",
   "name": "python",
   "nbconvert_exporter": "python",
   "pygments_lexer": "ipython3",
   "version": "3.9.13"
  }
 },
 "nbformat": 4,
 "nbformat_minor": 5
}
