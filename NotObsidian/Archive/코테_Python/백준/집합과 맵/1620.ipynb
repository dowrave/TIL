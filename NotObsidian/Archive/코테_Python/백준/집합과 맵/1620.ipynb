{
 "cells": [
  {
   "cell_type": "code",
   "execution_count": 6,
   "id": "42bc5d0a-4181-4d7c-aebe-62e4dc52a4ae",
   "metadata": {},
   "outputs": [
    {
     "name": "stdout",
     "output_type": "stream",
     "text": [
      "Pikachu\n",
      "26\n",
      "Venusaur\n",
      "16\n",
      "14\n"
     ]
    }
   ],
   "source": [
    "import sys\n",
    "sys.stdin = open('test.txt', 'r')\n",
    "N, M = map(int, sys.stdin.readline().split())\n",
    "\n",
    "dct = {}\n",
    "for i in range(1, N+1):\n",
    "    inp = sys.stdin.readline().rstrip()\n",
    "    dct[inp] = i\n",
    "    dct[str(i)] = inp\n",
    "\n",
    "for j in range(M):\n",
    "    print(dct[sys.stdin.readline().rstrip()])"
   ]
  },
  {
   "cell_type": "code",
   "execution_count": null,
   "id": "abe9808e-021f-465d-b3f4-7d3bf09404e4",
   "metadata": {},
   "outputs": [],
   "source": []
  }
 ],
 "metadata": {
  "kernelspec": {
   "display_name": "Python 3 (ipykernel)",
   "language": "python",
   "name": "python3"
  },
  "language_info": {
   "codemirror_mode": {
    "name": "ipython",
    "version": 3
   },
   "file_extension": ".py",
   "mimetype": "text/x-python",
   "name": "python",
   "nbconvert_exporter": "python",
   "pygments_lexer": "ipython3",
   "version": "3.9.13"
  }
 },
 "nbformat": 4,
 "nbformat_minor": 5
}
