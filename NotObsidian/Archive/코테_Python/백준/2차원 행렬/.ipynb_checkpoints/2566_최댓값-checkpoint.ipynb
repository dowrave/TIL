{
 "cells": [
  {
   "cell_type": "code",
   "execution_count": 8,
   "id": "d293dd2b-235f-4c78-95ae-d05db21c6ded",
   "metadata": {},
   "outputs": [
    {
     "name": "stdout",
     "output_type": "stream",
     "text": [
      "90\n",
      "5 7\n"
     ]
    }
   ],
   "source": [
    "import sys\n",
    "sys.stdin = open('test.txt', 'r')\n",
    "\n",
    "matrix = [[0] * 10 for i in range(10)]\n",
    "maximum = [0, 1, 1]\n",
    "\n",
    "\n",
    "for i in range(1, 10):\n",
    "    input = [0] + list(map(int, sys.stdin.readline().split()))\n",
    "    for j in range(1, 10):\n",
    "        matrix[i][j] = input[j]\n",
    "        \n",
    "        if input[j] > maximum[0]:\n",
    "            maximum[0] = input[j]\n",
    "            maximum[1] = i\n",
    "            maximum[2] = j\n",
    "\n",
    "print(maximum[0])\n",
    "print(maximum[1], maximum[2])\n"
   ]
  },
  {
   "cell_type": "code",
   "execution_count": null,
   "id": "139919f0-55c7-44a4-a69b-232c37e8817b",
   "metadata": {},
   "outputs": [],
   "source": []
  }
 ],
 "metadata": {
  "kernelspec": {
   "display_name": "Python 3 (ipykernel)",
   "language": "python",
   "name": "python3"
  },
  "language_info": {
   "codemirror_mode": {
    "name": "ipython",
    "version": 3
   },
   "file_extension": ".py",
   "mimetype": "text/x-python",
   "name": "python",
   "nbconvert_exporter": "python",
   "pygments_lexer": "ipython3",
   "version": "3.9.13"
  }
 },
 "nbformat": 4,
 "nbformat_minor": 5
}
