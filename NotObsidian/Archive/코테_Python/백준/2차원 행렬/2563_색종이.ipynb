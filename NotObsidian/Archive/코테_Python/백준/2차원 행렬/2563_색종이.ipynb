{
 "cells": [
  {
   "cell_type": "code",
   "execution_count": 9,
   "id": "61a6c0a4-3e2f-403d-8069-3afcb1764d1a",
   "metadata": {},
   "outputs": [
    {
     "name": "stdout",
     "output_type": "stream",
     "text": [
      "[[3, 7], [15, 7], [5, 2]]\n"
     ]
    }
   ],
   "source": [
    "\n",
    "print(lst)"
   ]
  },
  {
   "cell_type": "markdown",
   "id": "376fa31d-42c5-44ce-912b-07bd83d258c5",
   "metadata": {},
   "source": [
    "- 겹쳐진 두 영역의 넓이는 아래와 같을 것으로 보임\n",
    "$$(|x_2 - x_1 + 10|) * (|y_2 - y_1 + 10|)\n",
    "$$\n",
    "\n",
    "- 그렇다면 모든 두 좌표에 대해서\n",
    "1. 어느 하나라도 10 이상이 차이나면 그냥 넘어감\n",
    "2. 그렇지 않다면 겹쳐진 영역을 제외함 : 위 공식으로"
   ]
  },
  {
   "cell_type": "code",
   "execution_count": 48,
   "id": "ee959914-ab6a-4b90-b604-13b7b71096d1",
   "metadata": {},
   "outputs": [
    {
     "name": "stdout",
     "output_type": "stream",
     "text": [
      "[[1, 1]]\n",
      "[[1, 1], [1, 1]]\n",
      "[[1, 1], [1, 1], [1, 2]]\n"
     ]
    },
    {
     "data": {
      "text/plain": [
       "20"
      ]
     },
     "execution_count": 48,
     "metadata": {},
     "output_type": "execute_result"
    }
   ],
   "source": [
    "import sys\n",
    "sys.stdin = open('test.txt', 'r')\n",
    "\n",
    "def find_area(loc: list):\n",
    "    \n",
    "    final_area = 100 * len(loc)\n",
    "    \n",
    "    for i in range(len(loc)):\n",
    "        \n",
    "        x1 = loc[i][0]\n",
    "        y1 = loc[i][1]\n",
    "        \n",
    "        for j in range(i+1, len(loc)):\n",
    "            \n",
    "            x2 = loc[j][0]\n",
    "            y2 = loc[j][1]\n",
    "            if abs(x2 - x1) >= 10 or abs(y2 - y1) >= 10:\n",
    "                continue\n",
    "            else:\n",
    "                dupl_area = (10 - abs(x2 - x1)) * (10 - abs(y2 - y1))\n",
    "                # print(dupl_area)\n",
    "                final_area -= dupl_area\n",
    "                \n",
    "    return final_area\n",
    "\n",
    "\n",
    "N = int(sys.stdin.readline())\n",
    "\n",
    "lst = []\n",
    "\n",
    "for i in range(N):\n",
    "    a, b = map(int, sys.stdin.readline().split())\n",
    "    lst.append([a, b])\n",
    "    \n",
    "find_area(lst)"
   ]
  },
  {
   "cell_type": "markdown",
   "id": "00acb98c-8b54-480d-9d69-ba0f9f0268a5",
   "metadata": {},
   "source": [
    "- 틀린 이유 : **3개 이상의 종이가 겹치면 어쩔거?**"
   ]
  },
  {
   "cell_type": "markdown",
   "id": "06aee722-9bdd-4ed5-98dd-046629beed96",
   "metadata": {},
   "source": [
    "- 직접 그려서 구현한다? 로 가봄"
   ]
  },
  {
   "cell_type": "code",
   "execution_count": 53,
   "id": "d0f1e291-e774-43ce-a29e-413ed540b097",
   "metadata": {},
   "outputs": [
    {
     "name": "stdout",
     "output_type": "stream",
     "text": [
      "260\n"
     ]
    }
   ],
   "source": [
    "import sys\n",
    "sys.stdin = open('test.txt', 'r')\n",
    "matrix = [[0] * 101 for i in range(101)]\n",
    "\n",
    "N = int(sys.stdin.readline())\n",
    "\n",
    "area = 0\n",
    "\n",
    "for i in range(N):\n",
    "    a, b = map(int, sys.stdin.readline().split())\n",
    "    for j in range(a, a+10):\n",
    "        for k in range(b, b+10):\n",
    "            if matrix[j][k] == False:\n",
    "                matrix[j][k] = 1\n",
    "                area += 1\n",
    "\n",
    "print(area)"
   ]
  },
  {
   "cell_type": "markdown",
   "id": "b47e598b-0f6d-4bb7-8d0f-5639e270a466",
   "metadata": {},
   "source": [
    "- 아니 이게 맞네?"
   ]
  },
  {
   "cell_type": "code",
   "execution_count": null,
   "id": "92c0235f-00a6-498f-8d30-824aa9387bb9",
   "metadata": {},
   "outputs": [],
   "source": []
  }
 ],
 "metadata": {
  "kernelspec": {
   "display_name": "Python 3 (ipykernel)",
   "language": "python",
   "name": "python3"
  },
  "language_info": {
   "codemirror_mode": {
    "name": "ipython",
    "version": 3
   },
   "file_extension": ".py",
   "mimetype": "text/x-python",
   "name": "python",
   "nbconvert_exporter": "python",
   "pygments_lexer": "ipython3",
   "version": "3.9.13"
  }
 },
 "nbformat": 4,
 "nbformat_minor": 5
}
