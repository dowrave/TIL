{
 "cells": [
  {
   "cell_type": "code",
   "execution_count": 15,
   "id": "cfd18205-7c6c-4c81-86fc-156cb3f98515",
   "metadata": {},
   "outputs": [
    {
     "data": {
      "text/plain": [
       "2"
      ]
     },
     "execution_count": 15,
     "metadata": {},
     "output_type": "execute_result"
    }
   ],
   "source": [
    "import sys\n",
    "sys.stdin = open('test.txt', 'r')\n",
    "inp = sys.stdin.readline\n",
    "\n",
    "N, R = map(int, inp().split())\n",
    "\n",
    "# 답지 아이디어 참고했음(;)\n",
    "# 팩토리얼과 달리, 2가 많은지 5가 많은지 알 수 없음\n",
    "# 따라서 들어오는 수를 2와 5로 계속 나눔(나머지가 0이면 계속? ㄴㄴ 몫이 0보다 크면 계속)\n",
    "# 2 * 5가 10이니까 그 중 작은 숫자가 0의 갯수라고 할 수 있음\n",
    "# 주의할 건 이 문제는 조합임\n",
    "# 조합은 이전 이항계수 문제처럼 구현할 수도 있지만 n! / ((n-r)! * r!)으로도 볼 수 있음\n",
    "\n",
    "# n팩토리얼 속의 5와 2의 개수에 대한 함수임 (인풋 n은 n이지만 n!)으로 봐야 함\n",
    "\n",
    "def find_5(n: int):\n",
    "    i = 5\n",
    "    five_count = 0\n",
    "    \n",
    "    while n // i > 0:\n",
    "        five_count += n // i # 5라는 값은 5 단위로 나타남 : 예를 들면 10!에 들어간 5는 5와 10에서 1번씩 나옴\n",
    "        i *= 5\n",
    "    \n",
    "    return five_count\n",
    "\n",
    "def find_2(n: int):\n",
    "    i = 2\n",
    "    two_count = 0\n",
    "    \n",
    "    while n // i > 0:\n",
    "        two_count += n // i\n",
    "        i *= 2\n",
    "        \n",
    "    return two_count\n",
    "\n",
    "def find_answer(n, r):\n",
    "    total_5 = find_5(n) - find_5(n-r) - find_5(r)\n",
    "    total_2 = find_2(n) - find_2(n-r) - find_2(r)\n",
    "    return min(total_5, total_2)\n",
    "\n",
    "print(find_answer(N, R))"
   ]
  },
  {
   "cell_type": "code",
   "execution_count": null,
   "id": "5d597464-1e0f-4578-819b-02c6240b573f",
   "metadata": {},
   "outputs": [],
   "source": []
  }
 ],
 "metadata": {
  "kernelspec": {
   "display_name": "Python 3 (ipykernel)",
   "language": "python",
   "name": "python3"
  },
  "language_info": {
   "codemirror_mode": {
    "name": "ipython",
    "version": 3
   },
   "file_extension": ".py",
   "mimetype": "text/x-python",
   "name": "python",
   "nbconvert_exporter": "python",
   "pygments_lexer": "ipython3",
   "version": "3.9.13"
  }
 },
 "nbformat": 4,
 "nbformat_minor": 5
}
