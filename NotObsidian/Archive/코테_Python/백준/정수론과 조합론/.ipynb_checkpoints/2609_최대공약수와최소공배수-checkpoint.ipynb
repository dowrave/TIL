{
 "cells": [
  {
   "cell_type": "code",
   "execution_count": 24,
   "id": "905fbe32-8cf9-4f09-a131-9e8e5968a37b",
   "metadata": {},
   "outputs": [
    {
     "name": "stdout",
     "output_type": "stream",
     "text": [
      "6\n",
      "72\n"
     ]
    }
   ],
   "source": [
    "import sys\n",
    "sys.stdin = open('정수론과 조합론/test.txt', 'r')\n",
    "x, y = map(int, sys.stdin.readline().split())\n",
    "\n",
    "# 기억나는대로 해봄\n",
    "# gcd : greatest common divisor\n",
    "# lcm : least common multiple\n",
    "def find_gcd(a, b):\n",
    "    \n",
    "    if b > a:\n",
    "        a, b = b, a\n",
    "        \n",
    "    while b > 0 :\n",
    "        i = a % b\n",
    "        a = b\n",
    "        b = i\n",
    "    \n",
    "    return a\n",
    "\n",
    "def find_lcm(a, b):\n",
    "    return a * b // find_gcd(a, b)\n",
    "\n",
    "print(find_gcd(x, y))\n",
    "print(find_lcm(x, y))"
   ]
  },
  {
   "cell_type": "code",
   "execution_count": null,
   "id": "c62b1395-1c6c-49f1-b0f2-c1c0a392fccd",
   "metadata": {},
   "outputs": [],
   "source": []
  }
 ],
 "metadata": {
  "kernelspec": {
   "display_name": "Python 3 (ipykernel)",
   "language": "python",
   "name": "python3"
  },
  "language_info": {
   "codemirror_mode": {
    "name": "ipython",
    "version": 3
   },
   "file_extension": ".py",
   "mimetype": "text/x-python",
   "name": "python",
   "nbconvert_exporter": "python",
   "pygments_lexer": "ipython3",
   "version": "3.9.13"
  }
 },
 "nbformat": 4,
 "nbformat_minor": 5
}
