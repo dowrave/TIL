{
 "cells": [
  {
   "cell_type": "code",
   "execution_count": 28,
   "id": "e2131401-dd22-4649-8b65-6f92b2a5b38b",
   "metadata": {},
   "outputs": [
    {
     "name": "stdout",
     "output_type": "stream",
     "text": [
      "w(1, 1, 1) = 2\n",
      "w(2, 2, 2) = 4\n",
      "w(10, 4, 6) = 523\n",
      "w(50, 50, 50) = 1048576\n",
      "w(-1, 7, 18) = 1\n"
     ]
    }
   ],
   "source": [
    "import sys\n",
    "sys.stdin = open('test.txt', 'r')\n",
    "inp = sys.stdin.readline\n",
    "\n",
    "def w(a, b, c):\n",
    "    \n",
    "    if a <= 0 or b <= 0 or c <= 0:\n",
    "        return lst[0][0][0]\n",
    "    \n",
    "    if a > 20 or b > 20 or c > 20:\n",
    "        return w(20, 20, 20)\n",
    "    \n",
    "    # 이게 맨 위로 가면 인덱스 제한에 걸림\n",
    "    if lst[a][b][c]:\n",
    "        return lst[a][b][c]\n",
    "    \n",
    "    # 여기서 재귀호출을 할 때 유의할 점 : 값을 저장해야 함!\n",
    "    if a < b and b < c:\n",
    "        lst[a][b][c] = w(a, b, c-1) + w(a, b-1, c-1) - w(a, b-1, c)\n",
    "        return lst[a][b][c]\n",
    "    \n",
    "    else:\n",
    "        lst[a][b][c] = w(a-1, b, c) + w(a-1, b-1, c) + w(a-1, b, c-1) - w(a-1, b-1, c-1)\n",
    "        return lst[a][b][c]\n",
    "    \n",
    "lst = [[[0] * 21 for i in range(21)] for i in range(21)]\n",
    "lst[0][0][0] = 1\n",
    "\n",
    "while True:\n",
    "    A, B, C = map(int, sys.stdin.readline().split())\n",
    "    if A == -1 and B == -1 and C == -1:\n",
    "        break\n",
    "    value = w(A, B, C)\n",
    "    print(f\"w({A}, {B}, {C}) = {value}\")\n"
   ]
  },
  {
   "cell_type": "code",
   "execution_count": null,
   "id": "09c14325-67b8-44dc-8228-f67f586876ba",
   "metadata": {},
   "outputs": [],
   "source": []
  }
 ],
 "metadata": {
  "kernelspec": {
   "display_name": "Python 3 (ipykernel)",
   "language": "python",
   "name": "python3"
  },
  "language_info": {
   "codemirror_mode": {
    "name": "ipython",
    "version": 3
   },
   "file_extension": ".py",
   "mimetype": "text/x-python",
   "name": "python",
   "nbconvert_exporter": "python",
   "pygments_lexer": "ipython3",
   "version": "3.9.13"
  }
 },
 "nbformat": 4,
 "nbformat_minor": 5
}
