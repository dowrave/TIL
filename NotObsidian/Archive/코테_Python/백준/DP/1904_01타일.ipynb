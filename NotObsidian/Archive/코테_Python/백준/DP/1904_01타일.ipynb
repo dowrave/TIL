{
 "cells": [
  {
   "cell_type": "code",
   "execution_count": 21,
   "id": "5cf7ad77-1670-4cb0-a3d9-863444f3198c",
   "metadata": {},
   "outputs": [
    {
     "name": "stdout",
     "output_type": "stream",
     "text": [
      "5\n"
     ]
    }
   ],
   "source": [
    "import sys\n",
    "sys.stdin = open('test.txt', 'r')\n",
    "N = int(sys.stdin.readline())\n",
    "lst = [0] * (N+1)\n",
    "lst[0] = 1\n",
    "lst[1] = 2\n",
    "\n",
    "def func(n):\n",
    "    if n > 1:\n",
    "        for i in range(2, n + 1):\n",
    "            lst[i] = (lst[i-1] + lst[i-2]) % 15746\n",
    "    return lst[n-1]\n",
    "\n",
    "print(func(N))"
   ]
  },
  {
   "cell_type": "code",
   "execution_count": null,
   "id": "a0c44af6-4a5f-41e9-bda4-18b2cf0eb1a4",
   "metadata": {},
   "outputs": [],
   "source": []
  },
  {
   "cell_type": "code",
   "execution_count": null,
   "id": "52211526-f006-4494-bcd5-6845a4646ad5",
   "metadata": {},
   "outputs": [],
   "source": []
  }
 ],
 "metadata": {
  "kernelspec": {
   "display_name": "Python 3 (ipykernel)",
   "language": "python",
   "name": "python3"
  },
  "language_info": {
   "codemirror_mode": {
    "name": "ipython",
    "version": 3
   },
   "file_extension": ".py",
   "mimetype": "text/x-python",
   "name": "python",
   "nbconvert_exporter": "python",
   "pygments_lexer": "ipython3",
   "version": "3.9.13"
  }
 },
 "nbformat": 4,
 "nbformat_minor": 5
}
