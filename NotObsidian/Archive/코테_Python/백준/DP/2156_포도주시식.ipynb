{
 "cells": [
  {
   "cell_type": "markdown",
   "id": "d3dbbf81-74a7-4924-9bc7-52a14f13c1ed",
   "metadata": {},
   "source": [
    "## 풀이는 아래에 : 이거는 틀림으로 뜸\n",
    "- 과정을 따라가고자 위부터 헤멘 순서대로 작성함"
   ]
  },
  {
   "cell_type": "code",
   "execution_count": 72,
   "id": "6c0673e2-08ab-42cd-bc32-71cc7375ad8c",
   "metadata": {},
   "outputs": [
    {
     "name": "stdout",
     "output_type": "stream",
     "text": [
      "[0, 0, 10, 0, 5, 10, 0, 0, 1, 10]\n",
      "[[0, 0], [0, 0], [10, 10], [10, 0], [5, 15], [25, 20], [20, 15], [15, 25], [26, 21], [31, 35]]\n",
      "35\n"
     ]
    }
   ],
   "source": [
    "import sys\n",
    "sys.stdin = open('test.txt', 'r')\n",
    "input = sys.stdin.readline\n",
    "n = int(input())\n",
    "lst = []\n",
    "for _ in range(n):\n",
    "    lst.append(int(input()))\n",
    "print(lst)\n",
    "if n == 1:\n",
    "    print(lst[0])\n",
    "else:\n",
    "    dp = [[0] * 2 for _ in range(n)]\n",
    "    dp[0][0] = lst[0] # 필요할 거 같진 않지만?\n",
    "    dp[0][1] = lst[0]\n",
    "    dp[1][0] = dp[0][1] + lst[1]\n",
    "    dp[1][1] = lst[1]\n",
    "    \n",
    "    for i in range(2, n):\n",
    "        dp[i][0] = dp[i-1][1] + lst[i]\n",
    "        dp[i][1] = max(dp[i-2][0], dp[i-2][1]) + lst[i]\n",
    "    print(dp)\n",
    "    dp = sum(dp[-2:], []) \n",
    "    \n",
    "    print(max(dp))"
   ]
  },
  {
   "cell_type": "markdown",
   "id": "a4d1dd09-f736-4590-94b4-b083e82c4e58",
   "metadata": {},
   "source": [
    "## 아 뭐가 문젠지 알았다\n",
    "- 이전 문제는 반드시 1칸이나 2칸을 건너뛰어야 했음\n",
    "- 근데 이 문제는 3칸 이상 건너뛰어도 상관이 없음\n",
    "\n",
    "- 그러면 2차원으로 구성하는 게 의미가 없어 보임 : 몇 칸 건너뛰느냐로 계속 다차원 리스트를 만들 수는 없기 때문임\n",
    "\n",
    "- N번째 인덱스까지의 최댓값을 갱신해나가는 방식이 가장 적절해보임"
   ]
  },
  {
   "cell_type": "code",
   "execution_count": null,
   "id": "8603cb54-bdd7-41ed-a3eb-ba8a63f2a42b",
   "metadata": {},
   "outputs": [],
   "source": [
    "import sys\n",
    "\n",
    "input = sys.stdin.readline\n",
    "\n",
    "# 과연 나는 잘 기억하고 있는가?\n",
    "N = int(input())\n",
    "lst = [0] # 인덱스 통일시켜주려고 0을 넣어줌\n",
    "\n",
    "for i in range(N):\n",
    "    lst.append(int(input().rstrip()))\n",
    "    \n",
    "\n",
    "sum_lst = [0] *(N + 1)\n",
    "sum_lst[1] = lst[1]\n",
    "if N == 1:\n",
    "    print(sum_lst[1])\n",
    "elif N == 2:\n",
    "    sum_lst[2] = lst[1] + lst[2]\n",
    "    print(sum_lst[2])\n",
    "else:\n",
    "    sum_lst[2] = lst[1] + lst[2]\n",
    "    \n",
    "    # 즉 여기서\n",
    "#     sum_lst[3] = max(lst[1], lst[2]) + lst[3] # 이 아니라(sum_lst[2]가 더 클 수도 있잖아! : 이번 와인을 스킵하는 케이스)\n",
    "    sum_lst[3] = max(lst[1] + lst[3], lst[2] + lst[3], sum_lst[2])\n",
    "    \n",
    "    for i in range(4, N + 1):\n",
    "        # 여기도 마찬가지\n",
    "#         sum_lst[i] = max(sum_lst[i-3] + lst[i-1], sum_lst[i-2]) + lst[i]\n",
    "        sum_lst[i] = max(sum_lst[i-1], # 이번 인덱스의 와인을 마시지 않는 경우\n",
    "                      sum_lst[i-3] + lst[i-1] + lst[i], # 저번 인덱스의 와인을 마시고, 바로 다음 인덱스가 지금인 경우\n",
    "                      sum_lst[i-2] + lst[i]) # 저번 인덱스를 마시고 한 칸 건너 뛴 경우\n",
    "    g\n",
    "    # 따라서 모든 인덱스에서는 지금까지 누적합 중 최댓값을 출력하게 된다\n",
    "    print(sum_lst[-1])"
   ]
  },
  {
   "cell_type": "markdown",
   "id": "eacb77a6-acaa-4542-a2c4-c80554549ffd",
   "metadata": {},
   "source": [
    "- 저 반복문에 들어가는 **점화식을 생각하기가 제일 어려움**\n",
    "- 이번 값이 포함되지 않는 경우 `dp[i-1]`\n",
    "- 포함된다면 이번 인덱스는\n",
    "    1. 연속된 두 값 중 뒤에 있는 경우\n",
    "    2. 연속인지 아닌지는 모르고 몇 번이나 건너뛰었는지 모르겠지만 건너뛴 다음에 나오는 가장 첫번째인 경우\n",
    "    \n",
    "- 이렇게 3가지로 정리할 수 있는 것 같다. 근데 탁 떠올리기가 어려울 듯"
   ]
  },
  {
   "cell_type": "code",
   "execution_count": null,
   "id": "3ea85a3c-beec-45d5-b6de-d966da572373",
   "metadata": {},
   "outputs": [],
   "source": []
  }
 ],
 "metadata": {
  "kernelspec": {
   "display_name": "Python 3 (ipykernel)",
   "language": "python",
   "name": "python3"
  },
  "language_info": {
   "codemirror_mode": {
    "name": "ipython",
    "version": 3
   },
   "file_extension": ".py",
   "mimetype": "text/x-python",
   "name": "python",
   "nbconvert_exporter": "python",
   "pygments_lexer": "ipython3",
   "version": "3.9.13"
  }
 },
 "nbformat": 4,
 "nbformat_minor": 5
}
