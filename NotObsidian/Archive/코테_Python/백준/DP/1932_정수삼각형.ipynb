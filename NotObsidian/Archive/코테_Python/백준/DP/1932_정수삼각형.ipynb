{
 "cells": [
  {
   "cell_type": "code",
   "execution_count": 26,
   "id": "aad3bac0-4cc9-4a97-9e12-9ac501791616",
   "metadata": {},
   "outputs": [
    {
     "name": "stdout",
     "output_type": "stream",
     "text": [
      "30\n"
     ]
    }
   ],
   "source": [
    "import sys\n",
    "sys.stdin = open('test.txt', 'r')\n",
    "input = sys.stdin.readline\n",
    "\n",
    "n = int(input())\n",
    "lst = []\n",
    "for i in range(n):\n",
    "    if i == 0:\n",
    "        lst.append([(int(input()))])\n",
    "        # 특이하게 list(int(input()))은 작동안함\n",
    "    else:\n",
    "        lst.append(list(map(int, input().split())))\n",
    "\n",
    "def func(n):\n",
    "    if n == 1:\n",
    "        return lst[0][0]\n",
    "    \n",
    "    dp = [[0] * i for i in range(1, n+1)]\n",
    "    dp[0][0] = lst[0][0]\n",
    "\n",
    "    for i in range(n): # 각 층\n",
    "        for j in range(i+1): # 각 층 내부\n",
    "            if j-1 < 0 :\n",
    "                dp[i][j] = dp[i-1][j] + lst[i][j]\n",
    "            elif i-1 < j:\n",
    "                dp[i][j] = dp[i-1][j-1] + lst[i][j]\n",
    "            else:\n",
    "                dp[i][j] = max(dp[i][j], dp[i-1][j] + lst[i][j], dp[i-1][j-1] + lst[i][j])\n",
    "\n",
    "    return max(dp[-1])\n",
    "print(func(n))"
   ]
  },
  {
   "cell_type": "code",
   "execution_count": null,
   "id": "f09a5a79-9da7-4763-afdf-6771cf2d2a60",
   "metadata": {},
   "outputs": [],
   "source": []
  }
 ],
 "metadata": {
  "kernelspec": {
   "display_name": "Python 3 (ipykernel)",
   "language": "python",
   "name": "python3"
  },
  "language_info": {
   "codemirror_mode": {
    "name": "ipython",
    "version": 3
   },
   "file_extension": ".py",
   "mimetype": "text/x-python",
   "name": "python",
   "nbconvert_exporter": "python",
   "pygments_lexer": "ipython3",
   "version": "3.9.13"
  }
 },
 "nbformat": 4,
 "nbformat_minor": 5
}
