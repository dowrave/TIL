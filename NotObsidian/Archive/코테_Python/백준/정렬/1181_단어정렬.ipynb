{
 "cells": [
  {
   "cell_type": "code",
   "execution_count": 18,
   "id": "72dd142d-5ebc-4de3-9589-bb9c68a041dd",
   "metadata": {},
   "outputs": [
    {
     "name": "stdout",
     "output_type": "stream",
     "text": [
      "i\n",
      "im\n",
      "it\n",
      "no\n",
      "but\n",
      "more\n",
      "wait\n",
      "wont\n",
      "yours\n",
      "cannot\n",
      "hesitate\n"
     ]
    }
   ],
   "source": [
    "import sys\n",
    "sys.stdin = open('test.txt', 'r')\n",
    "N = int(sys.stdin.readline())\n",
    "dct = {}\n",
    "for i in range(N):\n",
    "    inp = sys.stdin.readline().rstrip()\n",
    "    dct[inp] = len(inp)\n",
    "\n",
    "# 리스트를 쓸 경우 글자에 대한 오름차순이 안 되나봄\n",
    "result = sorted(dct.items(), key = lambda x : (x[1], x[0]))\n",
    "for i in result:\n",
    "    print(i[0])"
   ]
  },
  {
   "cell_type": "code",
   "execution_count": 10,
   "id": "5b72a17c-eb74-4d87-af85-0bb032c2adf5",
   "metadata": {},
   "outputs": [
    {
     "name": "stdout",
     "output_type": "stream",
     "text": [
      "['i', 'no', 'no', 'it', 'im', 'but', 'wont', 'more', 'more', 'wait', 'yours', 'cannot', 'hesitate']\n"
     ]
    }
   ],
   "source": []
  },
  {
   "cell_type": "code",
   "execution_count": null,
   "id": "b9ff02e0-7588-4ddd-b7c6-457697d3e445",
   "metadata": {},
   "outputs": [],
   "source": []
  }
 ],
 "metadata": {
  "kernelspec": {
   "display_name": "Python 3 (ipykernel)",
   "language": "python",
   "name": "python3"
  },
  "language_info": {
   "codemirror_mode": {
    "name": "ipython",
    "version": 3
   },
   "file_extension": ".py",
   "mimetype": "text/x-python",
   "name": "python",
   "nbconvert_exporter": "python",
   "pygments_lexer": "ipython3",
   "version": "3.9.13"
  }
 },
 "nbformat": 4,
 "nbformat_minor": 5
}
