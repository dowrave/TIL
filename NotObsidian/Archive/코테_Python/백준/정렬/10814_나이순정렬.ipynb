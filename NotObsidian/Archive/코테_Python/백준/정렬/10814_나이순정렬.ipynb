{
 "cells": [
  {
   "cell_type": "code",
   "execution_count": 10,
   "id": "27aea011-bc88-41b8-ad59-b67166322db5",
   "metadata": {},
   "outputs": [
    {
     "name": "stdout",
     "output_type": "stream",
     "text": [
      "21 Junkyu\n",
      "21 Dohyun2\n",
      "21 Dohyun\n"
     ]
    }
   ],
   "source": [
    "import sys\n",
    "sys.stdin = open('test.txt', 'r')\n",
    "N = int(sys.stdin.readline())\n",
    "lst = []\n",
    "\n",
    "for i in range(N):\n",
    "    inp = sys.stdin.readline().split()\n",
    "    inp[0] = int(inp[0])\n",
    "    lst.append(inp)\n",
    "\n",
    "lst.sort(key = lambda x: x[0])\n",
    "\n",
    "for i in lst:\n",
    "    print(i[0], i[1])"
   ]
  },
  {
   "cell_type": "code",
   "execution_count": null,
   "id": "eb561071-f3b3-428f-88bc-27a0ac310583",
   "metadata": {},
   "outputs": [],
   "source": []
  }
 ],
 "metadata": {
  "kernelspec": {
   "display_name": "Python 3 (ipykernel)",
   "language": "python",
   "name": "python3"
  },
  "language_info": {
   "codemirror_mode": {
    "name": "ipython",
    "version": 3
   },
   "file_extension": ".py",
   "mimetype": "text/x-python",
   "name": "python",
   "nbconvert_exporter": "python",
   "pygments_lexer": "ipython3",
   "version": "3.9.13"
  }
 },
 "nbformat": 4,
 "nbformat_minor": 5
}
