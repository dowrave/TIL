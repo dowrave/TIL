{
 "cells": [
  {
   "cell_type": "code",
   "execution_count": 14,
   "id": "a9c82536-9311-484d-8f6a-a3c71ff21861",
   "metadata": {},
   "outputs": [
    {
     "name": "stdout",
     "output_type": "stream",
     "text": [
      "0\n"
     ]
    }
   ],
   "source": [
    "import sys\n",
    "sys.stdin = open('test.txt', 'r')\n",
    "\n",
    "N, k = map(int, sys.stdin.readline().split())\n",
    "inp = list(map(int, sys.stdin.readline().split()))\n",
    "\n",
    "# 이거도 카운팅 정렬로 감\n",
    "# 수상자 k명이면 못 받는 사람은 N - k \n",
    "# N - k 번째 인덱스가 커트라인 아닐까?\n",
    "idx_lst = [0] * 10001\n",
    "\n",
    "for i in inp:\n",
    "    idx_lst[i] += 1\n",
    "    \n",
    "target = []\n",
    "for i in range(len(idx_lst)):\n",
    "    for j in range(idx_lst[i]):\n",
    "        target.append(i)     \n",
    "        \n",
    "print(target[N-k])"
   ]
  },
  {
   "cell_type": "code",
   "execution_count": 8,
   "id": "978d3bfd-24a4-4be5-bcc5-0178f478e7b1",
   "metadata": {},
   "outputs": [
    {
     "data": {
      "text/plain": [
       "[76, 85, 93, 98, 100]"
      ]
     },
     "execution_count": 8,
     "metadata": {},
     "output_type": "execute_result"
    }
   ],
   "source": []
  },
  {
   "cell_type": "code",
   "execution_count": null,
   "id": "861dbf0b-d3b6-45fa-a58b-23f72f513dc1",
   "metadata": {},
   "outputs": [],
   "source": []
  }
 ],
 "metadata": {
  "kernelspec": {
   "display_name": "Python 3 (ipykernel)",
   "language": "python",
   "name": "python3"
  },
  "language_info": {
   "codemirror_mode": {
    "name": "ipython",
    "version": 3
   },
   "file_extension": ".py",
   "mimetype": "text/x-python",
   "name": "python",
   "nbconvert_exporter": "python",
   "pygments_lexer": "ipython3",
   "version": "3.9.13"
  }
 },
 "nbformat": 4,
 "nbformat_minor": 5
}
