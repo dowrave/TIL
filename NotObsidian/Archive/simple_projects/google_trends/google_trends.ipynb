{
 "cells": [
  {
   "cell_type": "code",
   "execution_count": 150,
   "id": "e8117c7c-8154-4f9e-971b-bc966734fa38",
   "metadata": {},
   "outputs": [],
   "source": [
    "from pytrends.request import TrendReq\n",
    "import pandas as pd\n",
    "import matplotlib.pyplot as plt\n",
    "import seaborn as sns\n",
    "import datetime\n",
    "\n",
    "plt.rcParams['font.family'] = 'NanumGothic'\n",
    "\n",
    "pytrends = TrendReq()"
   ]
  },
  {
   "cell_type": "code",
   "execution_count": 151,
   "id": "602f89a0-28c1-4621-a1ba-60dd06c1f962",
   "metadata": {
    "tags": []
   },
   "outputs": [],
   "source": [
    "pytrends = TrendReq(tz= 360)\n",
    "kws = ['코로나', '우크라이나', '러시아', '러시아 우크라이나', '월드컵']\n",
    "\n",
    "pytrends.build_payload(kws,\n",
    "                       geo = 'KR',\n",
    "                      timeframe = '2022-01-01 2022-12-31')"
   ]
  },
  {
   "cell_type": "code",
   "execution_count": 152,
   "id": "54a8419a-3f3a-42a8-ae5e-6f028b4fbda7",
   "metadata": {
    "tags": []
   },
   "outputs": [],
   "source": [
    "df = pytrends.interest_over_time().drop('isPartial', axis = 1)\n",
    "df = df * 100 / df.max()"
   ]
  },
  {
   "cell_type": "code",
   "execution_count": 153,
   "id": "87d332de-7565-4cc9-aa82-90a97ed73443",
   "metadata": {},
   "outputs": [],
   "source": [
    "df = df.reset_index()\n",
    "df_long = df.melt(id_vars = [\"date\"],\n",
    "                 var_name = \"Keyword\",\n",
    "                 value_name = \"Interest\")"
   ]
  },
  {
   "cell_type": "code",
   "execution_count": 155,
   "id": "adddb4a3-c726-4754-9bb7-0519d1b6dd5d",
   "metadata": {},
   "outputs": [
    {
     "name": "stderr",
     "output_type": "stream",
     "text": [
      "C:\\Users\\dowra\\AppData\\Roaming\\Python\\Python39\\site-packages\\seaborn\\axisgrid.py:88: UserWarning: Tight layout not applied. tight_layout cannot make axes height small enough to accommodate all axes decorations\n",
      "  self._figure.tight_layout(*args, **kwargs)\n",
      "C:\\Users\\dowra\\AppData\\Roaming\\Python\\Python39\\site-packages\\seaborn\\axisgrid.py:88: UserWarning: Tight layout not applied. tight_layout cannot make axes height small enough to accommodate all axes decorations\n",
      "  self._figure.tight_layout(*args, **kwargs)\n"
     ]
    },
    {
     "data": {
      "text/plain": [
       "Text(0.5, 0.98, '구글 서치 결과 : 2022')"
      ]
     },
     "execution_count": 155,
     "metadata": {},
     "output_type": "execute_result"
    },
    {
     "data": {
      "image/png": "[encoded data removed]",
      "text/plain": [
       "<Figure size 594x198 with 5 Axes>"
      ]
     },
     "metadata": {},
     "output_type": "display_data"
    }
   ],
   "source": [
    "# 병렬로 나열 https://seaborn.pydata.org/examples/kde_ridgeplot.html\n",
    "\n",
    "g = sns.FacetGrid(df_long, \n",
    "                  row = 'Keyword', \n",
    "                  hue = 'Keyword', # 색깔 다르게 주려고 넣음\n",
    "                  aspect = 15,\n",
    "                  height = 0.55,\n",
    "                  palette = \"viridis\"\n",
    "                 )\n",
    "\n",
    "indent = 70\n",
    "\n",
    "def label(x, color, label):\n",
    "    ax = plt.gca()\n",
    "    ax.text(0, \n",
    "           .2, \n",
    "           label,\n",
    "           fontsize = 14,\n",
    "           fontweight = \"bold\",\n",
    "           color = color,\n",
    "            # 왼쪽 가운데에 축처럼 텍스트가 박힘\n",
    "           ha = \"left\",\n",
    "           va = \"center\",\n",
    "           transform = ax.transAxes)\n",
    "\n",
    "g.map(label, \"date\")\n",
    "\n",
    "\n",
    "g.map(plt.plot, \"date\", \"Interest\", color = 'white')\n",
    "g.map(plt.fill_between, \"date\", \"Interest\", alpha = 1)\n",
    "\n",
    "\n",
    "g.refline(y = 0 , color = \"white\",\n",
    "          linestyle = '-',\n",
    "          linewidth = .1,\n",
    "          clip_on = False) # reference line\n",
    "\n",
    "g.figure.subplots_adjust(hspace = -.05)\n",
    "g.set_titles(\"\")\n",
    "g.despine(bottom = True, left = True)\n",
    "g.set(\n",
    "    yticks = [],\n",
    "    ylabel = \"\",\n",
    "    xlabel = \"\",\n",
    "    xlim = [df_long.date.min() - datetime.timedelta(indent), df_long.date.max()],\n",
    "    xticks = [datetime.datetime(df_long.date.min().year, i, 10) for i in range(1, 13)],\n",
    "    xticklabels = [\"JAN\", \"FEB\", \"MAR\", \"APR\", \"MAY\", \"JUN\", \"JUL\", \"AUG\",\n",
    "                  \"SEP\", \"OCT\", \"NOV\", \"DEC\"]\n",
    ")\n",
    "\n",
    "plt.suptitle(f\"구글 서치 결과 : {df_long.date.min().year}\", fontsize = 20)"
   ]
  },
  {
   "cell_type": "code",
   "execution_count": null,
   "id": "c46a6b23-6a76-4639-9053-f4850bb220df",
   "metadata": {},
   "outputs": [],
   "source": []
  }
 ],
 "metadata": {
  "kernelspec": {
   "display_name": "Python 3 (ipykernel)",
   "language": "python",
   "name": "python3"
  },
  "language_info": {
   "codemirror_mode": {
    "name": "ipython",
    "version": 3
   },
   "file_extension": ".py",
   "mimetype": "text/x-python",
   "name": "python",
   "nbconvert_exporter": "python",
   "pygments_lexer": "ipython3",
   "version": "3.9.13"
  }
 },
 "nbformat": 4,
 "nbformat_minor": 5
}
