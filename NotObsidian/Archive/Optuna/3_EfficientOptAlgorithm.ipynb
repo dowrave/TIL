{
 "cells": [
  {
   "cell_type": "markdown",
   "id": "365751d1-4225-42c5-885c-b0b9eadd899b",
   "metadata": {},
   "source": [
    "# Sampling Algorithm\n",
    "- `Sampler`는 기본적으로 제안된 매개변수 값과 평가된 목표 값의 기록을 사용, 검색 공간을 지속적으로 좁혀줌\n",
    "- `Sampler`가 매개변수를 제안하는 방법은 [BaseSampler](https://optuna.readthedocs.io/en/stable/reference/samplers/generated/optuna.samplers.BaseSampler.html#optuna.samplers.BaseSampler)에 들어가 있음\n",
    "    - `Relative Sampling` : 샘플링 알고리즘이 매개변수 간의 상관관계를 사용할 수 있도록 **여러 매개변수의 값을 동시에 결정**함\n",
    "        - 대상 매개변수는 `infer_relative_search_space()`**에 의해 결정되는 상대 검색 공간으로 기술**됨\n",
    "    - `Independent Sampling` : **매개변수 간의 관계를 고려하지 않고 단일 매개변수의 값을 결정**함. \n",
    "    \n",
    "    - Trial 시작 시 `infer_relative_search_space()`가 호출됨 : 그 다음 `sample_relative()`가 호출되어 상대 검색 공간에서 매개변수를 샘플링함\n",
    "    - 목적 함수를 실행하는 동안 `sample_independent()`는 상대 검색 공간에 속하지 않는 매개변수를 샘플링하는 데 사용됨"
   ]
  },
  {
   "cell_type": "markdown",
   "id": "607e58cc-43d7-4207-b748-676d608dac76",
   "metadata": {},
   "source": [
    "- 샘플링 알고리즘엔 요런 것들이 있다\n",
    "    - `GridSampler`\n",
    "    - `RandomSampler`\n",
    "    - `TPESampler` : Tree-structured Parzen Estimator\n",
    "    - `CmaEsSampler` : CMA-ES\n",
    "    - `PartialFixedSampler` : Algorithm to enable partial fixed parameters\n",
    "    - `NSGAIISampler` : Nondominated Sorting Genetic Algorithm II\n",
    "    - `QMCSampler` : A Quasi Monte Carlo sampling algorithm"
   ]
  },
  {
   "cell_type": "markdown",
   "id": "8123f9cf-8dd4-4036-b2a0-3fabc2535c49",
   "metadata": {},
   "source": [
    "- 디폴트는 `TPESampler`를 사용함"
   ]
  },
  {
   "cell_type": "code",
   "execution_count": 1,
   "id": "3a8535cc-8ca1-4f59-b4c5-61d934c9ca89",
   "metadata": {},
   "outputs": [],
   "source": [
    "import optuna"
   ]
  },
  {
   "cell_type": "code",
   "execution_count": 2,
   "id": "445280a3-cfcf-4722-9776-dcf2cf065b87",
   "metadata": {},
   "outputs": [
    {
     "name": "stderr",
     "output_type": "stream",
     "text": [
      "\u001b[32m[I 2022-12-10 15:41:14,254]\u001b[0m A new study created in memory with name: no-name-1a539655-99c0-43f9-b9b0-72d61cd373c9\u001b[0m\n"
     ]
    },
    {
     "name": "stdout",
     "output_type": "stream",
     "text": [
      "Sampler is TPESampler\n"
     ]
    }
   ],
   "source": [
    "study = optuna.create_study()\n",
    "print(f\"Sampler is {study.sampler.__class__.__name__}\")"
   ]
  },
  {
   "cell_type": "code",
   "execution_count": 3,
   "id": "2b6226e2-3a50-4bf2-8782-7cdf948a59b7",
   "metadata": {},
   "outputs": [
    {
     "name": "stderr",
     "output_type": "stream",
     "text": [
      "\u001b[32m[I 2022-12-10 15:42:20,424]\u001b[0m A new study created in memory with name: no-name-6b7e8ad4-bd47-473f-83ad-6fd2a100ef26\u001b[0m\n",
      "\u001b[32m[I 2022-12-10 15:42:20,429]\u001b[0m A new study created in memory with name: no-name-6c436f61-2653-4828-8c76-1ff6c3992e81\u001b[0m\n"
     ]
    },
    {
     "name": "stdout",
     "output_type": "stream",
     "text": [
      "Sampler is RandomSampler\n",
      "Sampler is CmaEsSampler\n"
     ]
    }
   ],
   "source": [
    "# sampler는 study를 정의할 떄 지정함\n",
    "study = optuna.create_study(sampler = optuna.samplers.RandomSampler())\n",
    "print(f\"Sampler is {study.sampler.__class__.__name__}\")\n",
    "\n",
    "study = optuna.create_study(sampler = optuna.samplers.CmaEsSampler())\n",
    "print(f\"Sampler is {study.sampler.__class__.__name__}\")\n"
   ]
  },
  {
   "cell_type": "markdown",
   "id": "8dc85862-eacf-42a2-8100-2dc0936a4aed",
   "metadata": {},
   "source": [
    "# Pruning Algorithm"
   ]
  },
  {
   "cell_type": "markdown",
   "id": "fd70afa3-e470-4bf3-93b8-59fe9d09659a",
   "metadata": {},
   "source": [
    "- `Pruner`는 훈련 초기 단계에서 유망하지 못한 `Trial`들을 자동적으로 멈춤\n",
    "- 요런 것들이 있다\n",
    "    - `MedianPruner`\n",
    "    - `NopPruner`\n",
    "    - `PatientPruner`\n",
    "    - `PercentilePruner`\n",
    "    - `SuccessiveHalvingPruner`\n",
    "    - `HyperBandPruner`\n",
    "    - `ThresholdPruner`"
   ]
  },
  {
   "cell_type": "markdown",
   "id": "c852f39b-1eef-4db3-a86b-c6a5d23e9a65",
   "metadata": {},
   "source": [
    "- 예시에서는 `MedianPruner`를 사용하지만 `SuccessiveHalvingPruner`, `HyperbandPruner`가 벤치마크 결과에선 가장 좋은 성능을 냈다."
   ]
  },
  {
   "cell_type": "markdown",
   "id": "60c4536e-7a9c-44f6-885a-1bf957ee9b62",
   "metadata": {},
   "source": [
    "### Pruner 이용하기"
   ]
  },
  {
   "cell_type": "code",
   "execution_count": 5,
   "id": "e98d182c-000c-4f20-99a6-0cce3c073c3e",
   "metadata": {},
   "outputs": [],
   "source": [
    "import logging\n",
    "import sys\n",
    "\n",
    "import sklearn.datasets\n",
    "import sklearn.linear_model\n",
    "import sklearn.model_selection\n",
    "\n",
    "def objective(trial):\n",
    "    iris = sklearn.datasets.load_iris()\n",
    "    classes = list(set(iris.target))\n",
    "    \n",
    "    train_x, valid_x, train_y, valid_y = sklearn.model_selection.train_test_split(\n",
    "        iris.data, iris.target, test_size = 0.25, random_state = 0\n",
    "    )\n",
    "    \n",
    "    alpha = trial.suggest_float('alpha', 1e-5, 1e-1, log = True)\n",
    "    clf = sklearn.linear_model.SGDClassifier(alpha = alpha)\n",
    "    \n",
    "    for step in range(100):\n",
    "        clf.partial_fit(train_x, train_y, classes = classes) # 1번의 에포크만을 수행함\n",
    "        \n",
    "        # 중간값 report\n",
    "        intermediate_value = 1.0 - clf.score(valid_x, valid_y)\n",
    "        trial.report(intermediate_value, step)\n",
    "        \n",
    "        # 중간값에 의해 Pruning을 함 : 그 기준은 알고리즘으로 따로 있는 듯\n",
    "        if trial.should_prune():\n",
    "            raise optuna.TrialPruned()\n",
    "            \n",
    "    return 1.0 - clf.score(valid_x, valid_y)"
   ]
  },
  {
   "cell_type": "code",
   "execution_count": 8,
   "id": "b340e82e-5c61-45ee-8df5-0668e0ec7bf2",
   "metadata": {},
   "outputs": [
    {
     "name": "stderr",
     "output_type": "stream",
     "text": [
      "\u001b[32m[I 2022-12-10 15:56:38,176]\u001b[0m A new study created in memory with name: no-name-8e7b50fa-5d7c-46a2-93e2-b8f04103d41b\u001b[0m\n"
     ]
    },
    {
     "name": "stdout",
     "output_type": "stream",
     "text": [
      "A new study created in memory with name: no-name-8e7b50fa-5d7c-46a2-93e2-b8f04103d41b\n"
     ]
    },
    {
     "name": "stderr",
     "output_type": "stream",
     "text": [
      "\u001b[32m[I 2022-12-10 15:56:38,668]\u001b[0m Trial 0 finished with value: 0.07894736842105265 and parameters: {'alpha': 0.0003734747131584509}. Best is trial 0 with value: 0.07894736842105265.\u001b[0m\n"
     ]
    },
    {
     "name": "stdout",
     "output_type": "stream",
     "text": [
      "Trial 0 finished with value: 0.07894736842105265 and parameters: {'alpha': 0.0003734747131584509}. Best is trial 0 with value: 0.07894736842105265.\n"
     ]
    },
    {
     "name": "stderr",
     "output_type": "stream",
     "text": [
      "\u001b[32m[I 2022-12-10 15:56:39,030]\u001b[0m Trial 1 finished with value: 0.39473684210526316 and parameters: {'alpha': 3.926612831807714e-05}. Best is trial 0 with value: 0.07894736842105265.\u001b[0m\n"
     ]
    },
    {
     "name": "stdout",
     "output_type": "stream",
     "text": [
      "Trial 1 finished with value: 0.39473684210526316 and parameters: {'alpha': 3.926612831807714e-05}. Best is trial 0 with value: 0.07894736842105265.\n"
     ]
    },
    {
     "name": "stderr",
     "output_type": "stream",
     "text": [
      "\u001b[32m[I 2022-12-10 15:56:39,594]\u001b[0m Trial 2 finished with value: 0.39473684210526316 and parameters: {'alpha': 0.00011696498418405236}. Best is trial 0 with value: 0.07894736842105265.\u001b[0m\n"
     ]
    },
    {
     "name": "stdout",
     "output_type": "stream",
     "text": [
      "Trial 2 finished with value: 0.39473684210526316 and parameters: {'alpha': 0.00011696498418405236}. Best is trial 0 with value: 0.07894736842105265.\n"
     ]
    },
    {
     "name": "stderr",
     "output_type": "stream",
     "text": [
      "\u001b[32m[I 2022-12-10 15:56:40,061]\u001b[0m Trial 3 finished with value: 0.02631578947368418 and parameters: {'alpha': 0.013760202509079297}. Best is trial 3 with value: 0.02631578947368418.\u001b[0m\n"
     ]
    },
    {
     "name": "stdout",
     "output_type": "stream",
     "text": [
      "Trial 3 finished with value: 0.02631578947368418 and parameters: {'alpha': 0.013760202509079297}. Best is trial 3 with value: 0.02631578947368418.\n"
     ]
    },
    {
     "name": "stderr",
     "output_type": "stream",
     "text": [
      "\u001b[32m[I 2022-12-10 15:56:40,420]\u001b[0m Trial 4 finished with value: 0.10526315789473684 and parameters: {'alpha': 7.345676956045534e-05}. Best is trial 3 with value: 0.02631578947368418.\u001b[0m\n"
     ]
    },
    {
     "name": "stdout",
     "output_type": "stream",
     "text": [
      "Trial 4 finished with value: 0.10526315789473684 and parameters: {'alpha': 7.345676956045534e-05}. Best is trial 3 with value: 0.02631578947368418.\n"
     ]
    },
    {
     "name": "stderr",
     "output_type": "stream",
     "text": [
      "\u001b[32m[I 2022-12-10 15:56:40,450]\u001b[0m Trial 5 pruned. \u001b[0m\n"
     ]
    },
    {
     "name": "stdout",
     "output_type": "stream",
     "text": [
      "Trial 5 pruned. \n"
     ]
    },
    {
     "name": "stderr",
     "output_type": "stream",
     "text": [
      "\u001b[32m[I 2022-12-10 15:56:40,482]\u001b[0m Trial 6 pruned. \u001b[0m\n"
     ]
    },
    {
     "name": "stdout",
     "output_type": "stream",
     "text": [
      "Trial 6 pruned. \n"
     ]
    },
    {
     "name": "stderr",
     "output_type": "stream",
     "text": [
      "\u001b[32m[I 2022-12-10 15:56:40,577]\u001b[0m Trial 7 pruned. \u001b[0m\n"
     ]
    },
    {
     "name": "stdout",
     "output_type": "stream",
     "text": [
      "Trial 7 pruned. \n"
     ]
    },
    {
     "name": "stderr",
     "output_type": "stream",
     "text": [
      "\u001b[32m[I 2022-12-10 15:56:40,599]\u001b[0m Trial 8 pruned. \u001b[0m\n"
     ]
    },
    {
     "name": "stdout",
     "output_type": "stream",
     "text": [
      "Trial 8 pruned. \n"
     ]
    },
    {
     "name": "stderr",
     "output_type": "stream",
     "text": [
      "\u001b[32m[I 2022-12-10 15:56:40,626]\u001b[0m Trial 9 pruned. \u001b[0m\n"
     ]
    },
    {
     "name": "stdout",
     "output_type": "stream",
     "text": [
      "Trial 9 pruned. \n"
     ]
    },
    {
     "name": "stderr",
     "output_type": "stream",
     "text": [
      "\u001b[32m[I 2022-12-10 15:56:40,659]\u001b[0m Trial 10 pruned. \u001b[0m\n"
     ]
    },
    {
     "name": "stdout",
     "output_type": "stream",
     "text": [
      "Trial 10 pruned. \n"
     ]
    },
    {
     "name": "stderr",
     "output_type": "stream",
     "text": [
      "\u001b[32m[I 2022-12-10 15:56:40,695]\u001b[0m Trial 11 pruned. \u001b[0m\n"
     ]
    },
    {
     "name": "stdout",
     "output_type": "stream",
     "text": [
      "Trial 11 pruned. \n"
     ]
    },
    {
     "name": "stderr",
     "output_type": "stream",
     "text": [
      "\u001b[32m[I 2022-12-10 15:56:40,736]\u001b[0m Trial 12 pruned. \u001b[0m\n"
     ]
    },
    {
     "name": "stdout",
     "output_type": "stream",
     "text": [
      "Trial 12 pruned. \n"
     ]
    },
    {
     "name": "stderr",
     "output_type": "stream",
     "text": [
      "\u001b[32m[I 2022-12-10 15:56:40,778]\u001b[0m Trial 13 pruned. \u001b[0m\n"
     ]
    },
    {
     "name": "stdout",
     "output_type": "stream",
     "text": [
      "Trial 13 pruned. \n"
     ]
    },
    {
     "name": "stderr",
     "output_type": "stream",
     "text": [
      "\u001b[32m[I 2022-12-10 15:56:40,813]\u001b[0m Trial 14 pruned. \u001b[0m\n"
     ]
    },
    {
     "name": "stdout",
     "output_type": "stream",
     "text": [
      "Trial 14 pruned. \n"
     ]
    },
    {
     "name": "stderr",
     "output_type": "stream",
     "text": [
      "\u001b[32m[I 2022-12-10 15:56:40,914]\u001b[0m Trial 15 pruned. \u001b[0m\n"
     ]
    },
    {
     "name": "stdout",
     "output_type": "stream",
     "text": [
      "Trial 15 pruned. \n"
     ]
    },
    {
     "name": "stderr",
     "output_type": "stream",
     "text": [
      "\u001b[32m[I 2022-12-10 15:56:40,951]\u001b[0m Trial 16 pruned. \u001b[0m\n"
     ]
    },
    {
     "name": "stdout",
     "output_type": "stream",
     "text": [
      "Trial 16 pruned. \n"
     ]
    },
    {
     "name": "stderr",
     "output_type": "stream",
     "text": [
      "\u001b[32m[I 2022-12-10 15:56:41,060]\u001b[0m Trial 17 pruned. \u001b[0m\n"
     ]
    },
    {
     "name": "stdout",
     "output_type": "stream",
     "text": [
      "Trial 17 pruned. \n"
     ]
    },
    {
     "name": "stderr",
     "output_type": "stream",
     "text": [
      "\u001b[32m[I 2022-12-10 15:56:41,098]\u001b[0m Trial 18 pruned. \u001b[0m\n"
     ]
    },
    {
     "name": "stdout",
     "output_type": "stream",
     "text": [
      "Trial 18 pruned. \n"
     ]
    },
    {
     "name": "stderr",
     "output_type": "stream",
     "text": [
      "\u001b[32m[I 2022-12-10 15:56:41,702]\u001b[0m Trial 19 finished with value: 0.052631578947368474 and parameters: {'alpha': 0.0015926384389243736}. Best is trial 3 with value: 0.02631578947368418.\u001b[0m\n"
     ]
    },
    {
     "name": "stdout",
     "output_type": "stream",
     "text": [
      "Trial 19 finished with value: 0.052631578947368474 and parameters: {'alpha': 0.0015926384389243736}. Best is trial 3 with value: 0.02631578947368418.\n"
     ]
    }
   ],
   "source": [
    "# Pruner는 함수 바깥에서 정의함\n",
    "# optuna.logging.get_logger('optuna').addHandler(logging.StreamHandler(sys.stdout))\n",
    "\n",
    "study = optuna.create_study(pruner = optuna.pruners.MedianPruner())\n",
    "study.optimize(objective, n_trials = 20)"
   ]
  },
  {
   "cell_type": "markdown",
   "id": "1f876ad9-0a16-4006-8f96-c95eb92385c3",
   "metadata": {},
   "source": [
    "## Sampler와 Pruner의 조합\n",
    "- 딥러닝에 쓰이지 않을 때 벤치마크 결과가 있다.\n",
    "    - `RandomSampler` + `MedianPruner`\n",
    "    - `TPESampler` + `HyperBandPruner`\n",
    "    \n",
    "- 딥러닝에선 어떨까?\n",
    "    - 병렬처리 제한됐을 때 : `TPE` / 저차원&연속적 차원이라면 `GP-EI`\n",
    "    - 병렬처리 충분할 때\n",
    "        - 범주/조건 하이퍼파라미터 없을 경우 : `CMA-ES`, `Random Search`\n",
    "        - 범주/조건 하이퍼파라미터 있을 경우 : `Random Search` or `Genetic Algorithm`\n",
    "        \n",
    "        \n",
    "- **범주/조건 하이퍼파라미터가 무슨 얘기**임?"
   ]
  },
  {
   "cell_type": "markdown",
   "id": "2a1dfffa-6a58-42db-99b4-d0b3e3c6f2a9",
   "metadata": {},
   "source": [
    "### Pruning을 위한 통합 알고리즘"
   ]
  },
  {
   "cell_type": "code",
   "execution_count": 10,
   "id": "bf8920a0-8d78-4549-a61d-b8178bdc8135",
   "metadata": {},
   "outputs": [
    {
     "ename": "NameError",
     "evalue": "name 'trial' is not defined",
     "output_type": "error",
     "traceback": [
      "\u001b[1;31m---------------------------------------------------------------------------\u001b[0m",
      "\u001b[1;31mNameError\u001b[0m                                 Traceback (most recent call last)",
      "\u001b[1;32m~\\AppData\\Local\\Temp/ipykernel_14248/284476728.py\u001b[0m in \u001b[0;36m<module>\u001b[1;34m\u001b[0m\n\u001b[1;32m----> 1\u001b[1;33m \u001b[0mpruning_callbackc\u001b[0m \u001b[1;33m=\u001b[0m \u001b[0moptuna\u001b[0m\u001b[1;33m.\u001b[0m\u001b[0mintegration\u001b[0m\u001b[1;33m.\u001b[0m\u001b[0mXGBoostPruningCallback\u001b[0m\u001b[1;33m(\u001b[0m\u001b[0mtrial\u001b[0m\u001b[1;33m,\u001b[0m \u001b[1;34m'validation-error'\u001b[0m\u001b[1;33m)\u001b[0m\u001b[1;33m\u001b[0m\u001b[1;33m\u001b[0m\u001b[0m\n\u001b[0m\u001b[0;32m      2\u001b[0m \u001b[0mbst\u001b[0m \u001b[1;33m=\u001b[0m \u001b[0mxgb\u001b[0m\u001b[1;33m.\u001b[0m\u001b[0mtrain\u001b[0m\u001b[1;33m(\u001b[0m\u001b[0mparam\u001b[0m\u001b[1;33m,\u001b[0m \u001b[0mdtrain\u001b[0m\u001b[1;33m,\u001b[0m \u001b[0mevals\u001b[0m \u001b[1;33m=\u001b[0m \u001b[1;33m[\u001b[0m\u001b[1;33m(\u001b[0m\u001b[0mdvalid\u001b[0m\u001b[1;33m,\u001b[0m \u001b[1;34m'validation'\u001b[0m\u001b[1;33m)\u001b[0m\u001b[1;33m]\u001b[0m\u001b[1;33m,\u001b[0m \u001b[0mcallbacks\u001b[0m \u001b[1;33m=\u001b[0m \u001b[1;33m[\u001b[0m\u001b[0mpruning_callback\u001b[0m\u001b[1;33m]\u001b[0m\u001b[1;33m)\u001b[0m\u001b[1;33m\u001b[0m\u001b[1;33m\u001b[0m\u001b[0m\n",
      "\u001b[1;31mNameError\u001b[0m: name 'trial' is not defined"
     ]
    }
   ],
   "source": [
    "pruning_callback = optuna.integration.XGBoostPruningCallback(trial, 'validation-error')\n",
    "bst = xgb.train(param, dtrain, evals = [(dvalid, 'validation')], callbacks = [pruning_callback])"
   ]
  },
  {
   "cell_type": "code",
   "execution_count": null,
   "id": "666efda7-9012-471e-a8ba-06e714b0086c",
   "metadata": {},
   "outputs": [],
   "source": []
  }
 ],
 "metadata": {
  "kernelspec": {
   "display_name": "Python 3 (ipykernel)",
   "language": "python",
   "name": "python3"
  },
  "language_info": {
   "codemirror_mode": {
    "name": "ipython",
    "version": 3
   },
   "file_extension": ".py",
   "mimetype": "text/x-python",
   "name": "python",
   "nbconvert_exporter": "python",
   "pygments_lexer": "ipython3",
   "version": "3.9.13"
  }
 },
 "nbformat": 4,
 "nbformat_minor": 5
}
