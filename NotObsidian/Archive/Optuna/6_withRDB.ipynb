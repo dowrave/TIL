{
 "cells": [
  {
   "cell_type": "markdown",
   "id": "b4d26f6d-446a-4c57-b4d6-008875069a72",
   "metadata": {},
   "source": [
    "# RDB 백엔드와 연동한 Study"
   ]
  },
  {
   "cell_type": "markdown",
   "id": "70045bdb-cbd3-4f1d-8a1f-bf4e7160bf38",
   "metadata": {},
   "source": [
    "- 예제는 `SQLite`를 이용했으며 `DB`의 URL을 세팅하면 `PostgreSQL`이나 `MySQL`을 이용할 수도 있다."
   ]
  },
  {
   "cell_type": "markdown",
   "id": "51e1dd1e-8ff6-43f1-920f-ffafdad9622b",
   "metadata": {},
   "source": [
    "1. 새로운 Study 만들기"
   ]
  },
  {
   "cell_type": "code",
   "execution_count": 12,
   "id": "e48e40d6-7651-4825-ba18-9cb5a5fdcb9e",
   "metadata": {},
   "outputs": [],
   "source": [
    "import logging\n",
    "import sys\n",
    "import optuna\n",
    "\n",
    "# 빨간 바탕에 뜨는 메시지 끄기\n",
    "# optuna.logging.set_verbosity(optuna.logging.WARNING)\n",
    "\n",
    "optuna.logging.set_verbosity(optuna.logging.INFO) # 기본 설정"
   ]
  },
  {
   "cell_type": "code",
   "execution_count": 6,
   "id": "5524c8d3-a01b-4d97-97fc-5e53adf88034",
   "metadata": {},
   "outputs": [],
   "source": [
    "# 메시지를 보여주기 위한 StreamHandler를 추가\n",
    "optuna.logging.get_logger('optuna').addHandler(logging.StreamHandler(sys.stdout))\n",
    "\n",
    "study_name= 'example-study'\n",
    "storage_name = 'sqlite:///{}.db'.format(study_name)\n",
    "\n",
    "study = optuna.create_study(study_name = study_name,\n",
    "                            storage = storage_name)"
   ]
  },
  {
   "cell_type": "code",
   "execution_count": 11,
   "id": "356cb71a-d5a8-4f2f-a4d0-e538ea5a551c",
   "metadata": {},
   "outputs": [
    {
     "name": "stderr",
     "output_type": "stream",
     "text": [
      "\u001b[32m[I 2022-12-10 19:21:29,951]\u001b[0m Trial 12 finished with value: 0.7287456380235955 and parameters: {'x': 2.8536659991024567}. Best is trial 12 with value: 0.7287456380235955.\u001b[0m\n"
     ]
    },
    {
     "name": "stdout",
     "output_type": "stream",
     "text": [
      "Trial 12 finished with value: 0.7287456380235955 and parameters: {'x': 2.8536659991024567}. Best is trial 12 with value: 0.7287456380235955.\n",
      "Trial 12 finished with value: 0.7287456380235955 and parameters: {'x': 2.8536659991024567}. Best is trial 12 with value: 0.7287456380235955.\n"
     ]
    },
    {
     "name": "stderr",
     "output_type": "stream",
     "text": [
      "\u001b[32m[I 2022-12-10 19:21:30,218]\u001b[0m Trial 13 finished with value: 3.4982374382210764 and parameters: {'x': 3.8703575696163224}. Best is trial 12 with value: 0.7287456380235955.\u001b[0m\n"
     ]
    },
    {
     "name": "stdout",
     "output_type": "stream",
     "text": [
      "Trial 13 finished with value: 3.4982374382210764 and parameters: {'x': 3.8703575696163224}. Best is trial 12 with value: 0.7287456380235955.\n",
      "Trial 13 finished with value: 3.4982374382210764 and parameters: {'x': 3.8703575696163224}. Best is trial 12 with value: 0.7287456380235955.\n"
     ]
    },
    {
     "name": "stderr",
     "output_type": "stream",
     "text": [
      "\u001b[32m[I 2022-12-10 19:21:30,536]\u001b[0m Trial 14 finished with value: 4.7082179329057325 and parameters: {'x': 4.169842835991983}. Best is trial 12 with value: 0.7287456380235955.\u001b[0m\n"
     ]
    },
    {
     "name": "stdout",
     "output_type": "stream",
     "text": [
      "Trial 14 finished with value: 4.7082179329057325 and parameters: {'x': 4.169842835991983}. Best is trial 12 with value: 0.7287456380235955.\n",
      "Trial 14 finished with value: 4.7082179329057325 and parameters: {'x': 4.169842835991983}. Best is trial 12 with value: 0.7287456380235955.\n"
     ]
    }
   ],
   "source": [
    "def objective(trial):\n",
    "    x = trial.suggest_float('x', -10, 10)\n",
    "    return (x-2) ** 2\n",
    "\n",
    "study.optimize(objective, n_trials = 3)"
   ]
  },
  {
   "cell_type": "markdown",
   "id": "7595f7cc-38cf-4089-a9db-1bd9b655dcd1",
   "metadata": {},
   "source": [
    "## Study 재개하기\n",
    "- `study`를 인스턴스화 & `example-study`를 통과시킴"
   ]
  },
  {
   "cell_type": "code",
   "execution_count": 9,
   "id": "d3696a9e-42c1-40d2-b8ed-eb37c06b1740",
   "metadata": {},
   "outputs": [],
   "source": [
    "study = optuna.create_study(study_name = study_name,\n",
    "                            storage = storage_name,\n",
    "                            load_if_exists = True)\n",
    "\n",
    "study.optimize(objective, n_trials = 3)"
   ]
  },
  {
   "cell_type": "markdown",
   "id": "96fe3606-c949-47a9-b8cd-e17692fa9eb0",
   "metadata": {},
   "source": [
    "## 실험 기록\n"
   ]
  },
  {
   "cell_type": "code",
   "execution_count": 13,
   "id": "ee6c420a-a1d3-4d09-960e-f45dd0ea1006",
   "metadata": {},
   "outputs": [
    {
     "name": "stderr",
     "output_type": "stream",
     "text": [
      "\u001b[32m[I 2022-12-10 19:22:52,293]\u001b[0m Using an existing study with name 'example-study' instead of creating a new one.\u001b[0m\n"
     ]
    },
    {
     "name": "stdout",
     "output_type": "stream",
     "text": [
      "Using an existing study with name 'example-study' instead of creating a new one.\n",
      "Using an existing study with name 'example-study' instead of creating a new one.\n"
     ]
    }
   ],
   "source": [
    "study = optuna.create_study(study_name = study_name,\n",
    "                            storage = storage_name,\n",
    "                            load_if_exists = True)\n",
    "\n",
    "df = study.trials_dataframe(attrs = (\"number\", 'value', 'params', 'state'))"
   ]
  },
  {
   "cell_type": "code",
   "execution_count": 15,
   "id": "730025e3-faed-40fc-86f7-4eb4591f6fe6",
   "metadata": {},
   "outputs": [
    {
     "name": "stdout",
     "output_type": "stream",
     "text": [
      "    number      value  params_x     state\n",
      "0        0   7.113070 -0.667034  COMPLETE\n",
      "1        1   2.717845  0.351411  COMPLETE\n",
      "2        2  65.881712 -6.116755  COMPLETE\n",
      "3        3  97.549451 -7.876713  COMPLETE\n",
      "4        4   1.561810  0.750276  COMPLETE\n",
      "5        5  10.160352 -1.187531  COMPLETE\n",
      "6        6   3.095390  0.240628  COMPLETE\n",
      "7        7   5.980064 -0.445417  COMPLETE\n",
      "8        8  26.684644  7.165718  COMPLETE\n",
      "9        9   0.881741  2.939010  COMPLETE\n",
      "10      10  58.523531  9.650067  COMPLETE\n",
      "11      11   7.730021  4.780292  COMPLETE\n",
      "12      12   0.728746  2.853666  COMPLETE\n",
      "13      13   3.498237  3.870358  COMPLETE\n",
      "14      14   4.708218  4.169843  COMPLETE\n"
     ]
    }
   ],
   "source": [
    "print(df)"
   ]
  },
  {
   "cell_type": "code",
   "execution_count": 16,
   "id": "e7a0b408-aeff-48d4-96fd-3afd3680da6f",
   "metadata": {},
   "outputs": [
    {
     "name": "stdout",
     "output_type": "stream",
     "text": [
      "Best params:  {'x': 2.8536659991024567}\n",
      "Best value:  0.7287456380235955\n",
      "Best Trial:  FrozenTrial(number=12, values=[0.7287456380235955], datetime_start=datetime.datetime(2022, 12, 10, 19, 21, 29, 806957), datetime_complete=datetime.datetime(2022, 12, 10, 19, 21, 29, 890537), params={'x': 2.8536659991024567}, distributions={'x': FloatDistribution(high=10.0, log=False, low=-10.0, step=None)}, user_attrs={}, system_attrs={}, intermediate_values={}, trial_id=13, state=TrialState.COMPLETE, value=None)\n",
      "Trials:  [FrozenTrial(number=0, values=[7.113070102632075], datetime_start=datetime.datetime(2022, 12, 10, 19, 16, 44, 562564), datetime_complete=datetime.datetime(2022, 12, 10, 19, 16, 44, 668279), params={'x': -0.6670339522833366}, distributions={'x': FloatDistribution(high=10.0, log=False, low=-10.0, step=None)}, user_attrs={}, system_attrs={}, intermediate_values={}, trial_id=1, state=TrialState.COMPLETE, value=None), FrozenTrial(number=1, values=[2.7178452567299494], datetime_start=datetime.datetime(2022, 12, 10, 19, 16, 44, 817072), datetime_complete=datetime.datetime(2022, 12, 10, 19, 16, 44, 908809), params={'x': 0.35141113168566207}, distributions={'x': FloatDistribution(high=10.0, log=False, low=-10.0, step=None)}, user_attrs={}, system_attrs={}, intermediate_values={}, trial_id=2, state=TrialState.COMPLETE, value=None), FrozenTrial(number=2, values=[65.8817123519742], datetime_start=datetime.datetime(2022, 12, 10, 19, 16, 44, 978487), datetime_complete=datetime.datetime(2022, 12, 10, 19, 16, 45, 56194), params={'x': -6.116755038312675}, distributions={'x': FloatDistribution(high=10.0, log=False, low=-10.0, step=None)}, user_attrs={}, system_attrs={}, intermediate_values={}, trial_id=3, state=TrialState.COMPLETE, value=None), FrozenTrial(number=3, values=[97.54945129226425], datetime_start=datetime.datetime(2022, 12, 10, 19, 18, 37, 134242), datetime_complete=datetime.datetime(2022, 12, 10, 19, 18, 37, 229194), params={'x': -7.876712575156992}, distributions={'x': FloatDistribution(high=10.0, log=False, low=-10.0, step=None)}, user_attrs={}, system_attrs={}, intermediate_values={}, trial_id=4, state=TrialState.COMPLETE, value=None), FrozenTrial(number=4, values=[1.5618099103679084], datetime_start=datetime.datetime(2022, 12, 10, 19, 18, 37, 311501), datetime_complete=datetime.datetime(2022, 12, 10, 19, 18, 37, 429428), params={'x': 0.7502760663378858}, distributions={'x': FloatDistribution(high=10.0, log=False, low=-10.0, step=None)}, user_attrs={}, system_attrs={}, intermediate_values={}, trial_id=5, state=TrialState.COMPLETE, value=None), FrozenTrial(number=5, values=[10.160352151405657], datetime_start=datetime.datetime(2022, 12, 10, 19, 18, 37, 586992), datetime_complete=datetime.datetime(2022, 12, 10, 19, 18, 37, 750634), params={'x': -1.1875307294841342}, distributions={'x': FloatDistribution(high=10.0, log=False, low=-10.0, step=None)}, user_attrs={}, system_attrs={}, intermediate_values={}, trial_id=6, state=TrialState.COMPLETE, value=None), FrozenTrial(number=6, values=[3.0953903144201433], datetime_start=datetime.datetime(2022, 12, 10, 19, 20, 27, 958445), datetime_complete=datetime.datetime(2022, 12, 10, 19, 20, 28, 92676), params={'x': 0.24062786357742283}, distributions={'x': FloatDistribution(high=10.0, log=False, low=-10.0, step=None)}, user_attrs={}, system_attrs={}, intermediate_values={}, trial_id=7, state=TrialState.COMPLETE, value=None), FrozenTrial(number=7, values=[5.980064431541086], datetime_start=datetime.datetime(2022, 12, 10, 19, 20, 28, 192247), datetime_complete=datetime.datetime(2022, 12, 10, 19, 20, 28, 283218), params={'x': -0.44541702610026945}, distributions={'x': FloatDistribution(high=10.0, log=False, low=-10.0, step=None)}, user_attrs={}, system_attrs={}, intermediate_values={}, trial_id=8, state=TrialState.COMPLETE, value=None), FrozenTrial(number=8, values=[26.68464390016455], datetime_start=datetime.datetime(2022, 12, 10, 19, 20, 28, 354240), datetime_complete=datetime.datetime(2022, 12, 10, 19, 20, 28, 499874), params={'x': 7.165718139829597}, distributions={'x': FloatDistribution(high=10.0, log=False, low=-10.0, step=None)}, user_attrs={}, system_attrs={}, intermediate_values={}, trial_id=9, state=TrialState.COMPLETE, value=None), FrozenTrial(number=9, values=[0.8817406171705744], datetime_start=datetime.datetime(2022, 12, 10, 19, 20, 33, 515092), datetime_complete=datetime.datetime(2022, 12, 10, 19, 20, 33, 608257), params={'x': 2.939010445719628}, distributions={'x': FloatDistribution(high=10.0, log=False, low=-10.0, step=None)}, user_attrs={}, system_attrs={}, intermediate_values={}, trial_id=10, state=TrialState.COMPLETE, value=None), FrozenTrial(number=10, values=[58.523531401385526], datetime_start=datetime.datetime(2022, 12, 10, 19, 20, 33, 675040), datetime_complete=datetime.datetime(2022, 12, 10, 19, 20, 33, 772438), params={'x': 9.650067411558249}, distributions={'x': FloatDistribution(high=10.0, log=False, low=-10.0, step=None)}, user_attrs={}, system_attrs={}, intermediate_values={}, trial_id=11, state=TrialState.COMPLETE, value=None), FrozenTrial(number=11, values=[7.730021467260722], datetime_start=datetime.datetime(2022, 12, 10, 19, 20, 33, 825147), datetime_complete=datetime.datetime(2022, 12, 10, 19, 20, 33, 916904), params={'x': 4.780291615507395}, distributions={'x': FloatDistribution(high=10.0, log=False, low=-10.0, step=None)}, user_attrs={}, system_attrs={}, intermediate_values={}, trial_id=12, state=TrialState.COMPLETE, value=None), FrozenTrial(number=12, values=[0.7287456380235955], datetime_start=datetime.datetime(2022, 12, 10, 19, 21, 29, 806957), datetime_complete=datetime.datetime(2022, 12, 10, 19, 21, 29, 890537), params={'x': 2.8536659991024567}, distributions={'x': FloatDistribution(high=10.0, log=False, low=-10.0, step=None)}, user_attrs={}, system_attrs={}, intermediate_values={}, trial_id=13, state=TrialState.COMPLETE, value=None), FrozenTrial(number=13, values=[3.4982374382210764], datetime_start=datetime.datetime(2022, 12, 10, 19, 21, 29, 968130), datetime_complete=datetime.datetime(2022, 12, 10, 19, 21, 30, 98081), params={'x': 3.8703575696163224}, distributions={'x': FloatDistribution(high=10.0, log=False, low=-10.0, step=None)}, user_attrs={}, system_attrs={}, intermediate_values={}, trial_id=14, state=TrialState.COMPLETE, value=None), FrozenTrial(number=14, values=[4.7082179329057325], datetime_start=datetime.datetime(2022, 12, 10, 19, 21, 30, 258207), datetime_complete=datetime.datetime(2022, 12, 10, 19, 21, 30, 425910), params={'x': 4.169842835991983}, distributions={'x': FloatDistribution(high=10.0, log=False, low=-10.0, step=None)}, user_attrs={}, system_attrs={}, intermediate_values={}, trial_id=15, state=TrialState.COMPLETE, value=None)]\n"
     ]
    }
   ],
   "source": [
    "print(\"Best params: \", study.best_params)\n",
    "print(\"Best value: \", study.best_value)\n",
    "print(\"Best Trial: \", study.best_trial)\n",
    "print(\"Trials: \", study.trials)"
   ]
  },
  {
   "cell_type": "code",
   "execution_count": null,
   "id": "bc738c45-1a39-4f01-87b2-d8def2645622",
   "metadata": {},
   "outputs": [],
   "source": []
  }
 ],
 "metadata": {
  "kernelspec": {
   "display_name": "Python 3 (ipykernel)",
   "language": "python",
   "name": "python3"
  },
  "language_info": {
   "codemirror_mode": {
    "name": "ipython",
    "version": 3
   },
   "file_extension": ".py",
   "mimetype": "text/x-python",
   "name": "python",
   "nbconvert_exporter": "python",
   "pygments_lexer": "ipython3",
   "version": "3.9.13"
  }
 },
 "nbformat": 4,
 "nbformat_minor": 5
}
