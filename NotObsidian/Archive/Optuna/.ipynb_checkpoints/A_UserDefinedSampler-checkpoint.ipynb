{
 "cells": [
  {
   "cell_type": "markdown",
   "id": "db67a89a-f9d0-4c13-98c3-d7b0f23f9ac3",
   "metadata": {},
   "source": [
    "# 유저 정의 Sampler\n",
    "- 나만의 샘플링 알고리즘을 실험할 수 있다\n",
    "- 작업별로 알고리즘을 구현한다\n",
    "- 다른 최적화 라이브러리를 래핑해서 Optuna 파이프라인에 통합한다"
   ]
  },
  {
   "cell_type": "markdown",
   "id": "acc212f3-902c-42b2-adc2-1fdae04eda24",
   "metadata": {},
   "source": [
    "# Sampler 개요"
   ]
  },
  {
   "cell_type": "markdown",
   "id": "1bbdf62b-eac6-4e19-91d5-f5a6242a9bbf",
   "metadata": {},
   "source": [
    "- `Suggest API`(ex : `suggest_float()`)이 목적 함수 내에서 호출되면, `Distribution Object` (ex : `FloatDistribution`)이 내부적으로 생성된다. \n",
    "- Sampler는 이 Distribution에서 파라미터 값을 선택하여 `Suggest API`로 반환되고 목적함수에 의해 평가된다."
   ]
  },
  {
   "cell_type": "markdown",
   "id": "6f112130-ef4f-490e-9fc2-0dfa6db93a43",
   "metadata": {},
   "source": [
    "- 새로운 샘플러는 `BaseSampler`에서 시작한다. \n",
    "- 3개의 추상 메서드를 가진다.\n",
    "    1. `infer_relative_serach_space()`\n",
    "    2. `sample_relative()`\n",
    "    3. `sample_independent()`  \n",
    "  \n",
    "  \n",
    "  \n",
    "  \n",
    "- `Trial`이 시작되면 `infer_relative_search_space()`가 호출되어 상대 탐색 공간을 제공한다. 이후, `sample_relative()`가 간단한 상대 파라미터들을 샘플링한다. `sample_independent()`는 위의 관계성 탐색 공간에 상관 없이 독자적으로 파라미터를 샘플링한다.\n",
    "\n",
    "- 자세한 내용은 [BaseSampler](https://optuna.readthedocs.io/en/stable/reference/samplers/generated/optuna.samplers.BaseSampler.html#optuna.samplers.BaseSampler)를 볼 것"
   ]
  },
  {
   "cell_type": "markdown",
   "id": "b3509d61-52e3-4866-bce4-11647cddb482",
   "metadata": {},
   "source": [
    "# 예제 : SimulatedAnnealingSampler"
   ]
  },
  {
   "cell_type": "code",
   "execution_count": 5,
   "id": "ed4be0af-1850-4527-817c-ae7e6b069470",
   "metadata": {},
   "outputs": [],
   "source": [
    "import numpy as np\n",
    "import optuna\n",
    "\n",
    "class SimulatedAnnealingSampler(optuna.samplers.BaseSampler):\n",
    "    def __init__(self, temperature = 100):\n",
    "        self._rng = np.random.RandomState() # 난수생성기 객체를 만듦\n",
    "        self._temperature = temperature\n",
    "        self._current_trial = None\n",
    "        \n",
    "    def sample_relative(self, study, trial, search_space):\n",
    "        if search_space == {}:\n",
    "            return {}\n",
    "        \n",
    "        # Simulated Annealing\n",
    "        # 1. Transition Probability 계산\n",
    "        prev_trial = study.trials[-2]\n",
    "        if self._current_trial is None or prev_trial.value <= self._current_trial.value:\n",
    "            probability = 1.0\n",
    "        else:\n",
    "            probability = np.exp(\n",
    "                (self._current_trial.value) - prev_trial.value\n",
    "            ) / self._temperature\n",
    "        self._temperature *= 0.9\n",
    "        \n",
    "        # 2. 이전 결과가 받아진다면 Current Value를 옮김\n",
    "        if self._rng.uniform(0, 1) < probability: # .uniform : 균등분포\n",
    "            self._current_trial = prev_trial\n",
    "            \n",
    "        # 3. 현재 지점의 근처에서 파라미터를 샘플링함\n",
    "        # 여기서 샘플링된 파라미터는 다음 목적 함수의 실행에서 통과될 변수\n",
    "        params = {}\n",
    "        for param_name, param_distribution in search_space.items():\n",
    "            if (\n",
    "                # isinstance(a, b) : a가 b 타입이면 True, 아니면 False를 반환함\n",
    "                not isinstance(param_distribution, optuna.distributions.FloatDistribution\n",
    "                or (param_distribution.step is not None and param_distribution.step != 1)\n",
    "                or param_distribution.log\n",
    "            ):\n",
    "                msg = (\n",
    "                    \"Only suggest_float() with 'step' 'None' or 1.0 and 'log' 'False' is supported\"\n",
    "                )\n",
    "                raise NotImplementedError(msg)\n",
    "            \n",
    "            current_value = self._current_trial.params[param_name]\n",
    "            width = (param_distribution.high - param_distribution.low) * 0.1\n",
    "            neighbor_low = max(current_value - width, param_distribution.low)\n",
    "            neighbor_high = min(current_value + width, param_distribution.high)\n",
    "            params[param_name] = self._rng.uniform(neighbor_low, neighbor_high)\n",
    "            \n",
    "        return params\n",
    "    \n",
    "    def infer_relative_search_space(self, study, trial):\n",
    "        return optuna.samplers.intersection_search_space(study)\n",
    "    \n",
    "    def sample_independent(self, study, trial, param_name, param_distribution):\n",
    "        independent_sampler = optuna.samplers.RandomSampler()\n",
    "        return independent_sampler.sample_independent(study, trial, param_name, param_distribution)\n",
    "                "
   ]
  },
  {
   "cell_type": "code",
   "execution_count": 6,
   "id": "dde77b27-74af-483a-b7b9-dd260f1cc8a0",
   "metadata": {
    "collapsed": true,
    "jupyter": {
     "outputs_hidden": true
    },
    "tags": []
   },
   "outputs": [
    {
     "name": "stderr",
     "output_type": "stream",
     "text": [
      "\u001b[32m[I 2022-12-12 14:36:41,817]\u001b[0m A new study created in memory with name: no-name-86646c65-c24d-4caa-91cf-d83ca6ac82c7\u001b[0m\n",
      "\u001b[32m[I 2022-12-12 14:36:41,823]\u001b[0m Trial 0 finished with value: 41.47600495972536 and parameters: {'x': -6.357852830110609, 'y': 1.0537123503798762}. Best is trial 0 with value: 41.47600495972536.\u001b[0m\n",
      "\u001b[32m[I 2022-12-12 14:36:41,827]\u001b[0m Trial 1 finished with value: 23.251029213087083 and parameters: {'x': -4.759151014721757, 'y': 0.601510832159952}. Best is trial 1 with value: 23.251029213087083.\u001b[0m\n",
      "\u001b[32m[I 2022-12-12 14:36:41,830]\u001b[0m Trial 2 finished with value: 28.930873344497133 and parameters: {'x': -5.276211926750573, 'y': 1.09246104851214}. Best is trial 1 with value: 23.251029213087083.\u001b[0m\n",
      "\u001b[32m[I 2022-12-12 14:36:41,835]\u001b[0m Trial 3 finished with value: 8.6350247618999 and parameters: {'x': -2.8318336516190556, 'y': 0.6157429314577845}. Best is trial 3 with value: 8.6350247618999.\u001b[0m\n",
      "\u001b[32m[I 2022-12-12 14:36:41,838]\u001b[0m Trial 4 finished with value: 2.678746148502399 and parameters: {'x': -1.452177377574519, 'y': 0.5699270125631921}. Best is trial 4 with value: 2.678746148502399.\u001b[0m\n",
      "\u001b[32m[I 2022-12-12 14:36:41,842]\u001b[0m Trial 5 finished with value: 3.237907451761355 and parameters: {'x': -1.5562972163706568, 'y': 0.8158464260782998}. Best is trial 4 with value: 2.678746148502399.\u001b[0m\n",
      "\u001b[32m[I 2022-12-12 14:36:41,845]\u001b[0m Trial 6 finished with value: 4.132265711956958 and parameters: {'x': -2.0431350847312597, 'y': -0.0421352625028546}. Best is trial 4 with value: 2.678746148502399.\u001b[0m\n",
      "\u001b[32m[I 2022-12-12 14:36:41,850]\u001b[0m Trial 7 finished with value: 8.985507024391646 and parameters: {'x': -2.8906435855284154, 'y': 0.6296866858350738}. Best is trial 4 with value: 2.678746148502399.\u001b[0m\n",
      "\u001b[32m[I 2022-12-12 14:36:41,855]\u001b[0m Trial 8 finished with value: 1.7904592547142086 and parameters: {'x': -1.2285708440582481, 'y': 0.28107293584421233}. Best is trial 8 with value: 1.7904592547142086.\u001b[0m\n",
      "\u001b[32m[I 2022-12-12 14:36:41,858]\u001b[0m Trial 9 finished with value: 5.704718483946417 and parameters: {'x': -2.5042737081140953, 'y': -0.5666683212051038}. Best is trial 8 with value: 1.7904592547142086.\u001b[0m\n",
      "\u001b[32m[I 2022-12-12 14:36:41,863]\u001b[0m Trial 10 finished with value: 1.7407544824700862 and parameters: {'x': -1.151484788545512, 'y': 0.41483726421838396}. Best is trial 10 with value: 1.7407544824700862.\u001b[0m\n",
      "\u001b[32m[I 2022-12-12 14:36:41,868]\u001b[0m Trial 11 finished with value: 8.012129255132086 and parameters: {'x': -2.8521908151111277, 'y': -0.12286319067219353}. Best is trial 10 with value: 1.7407544824700862.\u001b[0m\n",
      "\u001b[32m[I 2022-12-12 14:36:41,872]\u001b[0m Trial 12 finished with value: 0.03436661152471793 and parameters: {'x': 0.5847045028676914, 'y': -0.3075127441490362}. Best is trial 12 with value: 0.03436661152471793.\u001b[0m\n",
      "\u001b[32m[I 2022-12-12 14:36:41,877]\u001b[0m Trial 13 finished with value: 2.822326405336077 and parameters: {'x': 1.8879209664368357, 'y': -0.7419191701757184}. Best is trial 12 with value: 0.03436661152471793.\u001b[0m\n",
      "\u001b[32m[I 2022-12-12 14:36:41,881]\u001b[0m Trial 14 finished with value: 5.612794117073758 and parameters: {'x': 2.2829931417340648, 'y': 0.400736431868983}. Best is trial 12 with value: 0.03436661152471793.\u001b[0m\n",
      "\u001b[32m[I 2022-12-12 14:36:41,886]\u001b[0m Trial 15 finished with value: 1.3827356016738657 and parameters: {'x': 1.1861095192835296, 'y': -0.02412019006114008}. Best is trial 12 with value: 0.03436661152471793.\u001b[0m\n",
      "\u001b[32m[I 2022-12-12 14:36:41,889]\u001b[0m Trial 16 finished with value: 10.17431825647849 and parameters: {'x': 3.061417307621334, 'y': 0.8020423250750341}. Best is trial 12 with value: 0.03436661152471793.\u001b[0m\n",
      "\u001b[32m[I 2022-12-12 14:36:41,894]\u001b[0m Trial 17 finished with value: -0.2932972029257763 and parameters: {'x': 0.3974747429205747, 'y': -0.4512833741855533}. Best is trial 17 with value: -0.2932972029257763.\u001b[0m\n",
      "\u001b[32m[I 2022-12-12 14:36:41,900]\u001b[0m Trial 18 finished with value: 0.6366802185190958 and parameters: {'x': -1.0597475287316551, 'y': -0.48638460613375445}. Best is trial 17 with value: -0.2932972029257763.\u001b[0m\n",
      "\u001b[32m[I 2022-12-12 14:36:41,905]\u001b[0m Trial 19 finished with value: 2.137656672176737 and parameters: {'x': 1.5080742444448139, 'y': -0.13663125458105885}. Best is trial 17 with value: -0.2932972029257763.\u001b[0m\n",
      "\u001b[32m[I 2022-12-12 14:36:41,911]\u001b[0m Trial 20 finished with value: 2.382856575441238 and parameters: {'x': -1.4015247096930463, 'y': 0.4185850635610606}. Best is trial 17 with value: -0.2932972029257763.\u001b[0m\n",
      "\u001b[32m[I 2022-12-12 14:36:41,919]\u001b[0m Trial 21 finished with value: 1.7616303927429906 and parameters: {'x': 1.2514745719887204, 'y': 0.19544178840863968}. Best is trial 17 with value: -0.2932972029257763.\u001b[0m\n",
      "\u001b[32m[I 2022-12-12 14:36:41,924]\u001b[0m Trial 22 finished with value: -1.2207851480555367 and parameters: {'x': -0.23653919016540526, 'y': -1.2767359365396425}. Best is trial 22 with value: -1.2207851480555367.\u001b[0m\n",
      "\u001b[32m[I 2022-12-12 14:36:41,929]\u001b[0m Trial 23 finished with value: 1.5598444425259614 and parameters: {'x': 1.5671089617019618, 'y': -0.8959860553206391}. Best is trial 22 with value: -1.2207851480555367.\u001b[0m\n",
      "\u001b[32m[I 2022-12-12 14:36:41,935]\u001b[0m Trial 24 finished with value: -0.6969832568540378 and parameters: {'x': -0.9250476125144758, 'y': -1.5526963422727695}. Best is trial 22 with value: -1.2207851480555367.\u001b[0m\n",
      "\u001b[32m[I 2022-12-12 14:36:41,941]\u001b[0m Trial 25 finished with value: 1.8445575381432857 and parameters: {'x': -1.6151588637446275, 'y': -0.7641806169895504}. Best is trial 22 with value: -1.2207851480555367.\u001b[0m\n",
      "\u001b[32m[I 2022-12-12 14:36:41,946]\u001b[0m Trial 26 finished with value: 0.0490684577797319 and parameters: {'x': 0.6945236588493531, 'y': -0.43329465492176067}. Best is trial 22 with value: -1.2207851480555367.\u001b[0m\n",
      "\u001b[32m[I 2022-12-12 14:36:41,953]\u001b[0m Trial 27 finished with value: -1.3412774574902455 and parameters: {'x': 0.5360787564763765, 'y': -1.6286578906355036}. Best is trial 27 with value: -1.3412774574902455.\u001b[0m\n",
      "\u001b[32m[I 2022-12-12 14:36:41,961]\u001b[0m Trial 28 finished with value: -1.0445173577518785 and parameters: {'x': -1.1687340964557613, 'y': -2.4104567459701434}. Best is trial 27 with value: -1.3412774574902455.\u001b[0m\n",
      "\u001b[32m[I 2022-12-12 14:36:41,966]\u001b[0m Trial 29 finished with value: -1.8414741807709432 and parameters: {'x': 0.3676198151457184, 'y': -1.9766185092587154}. Best is trial 29 with value: -1.8414741807709432.\u001b[0m\n",
      "\u001b[32m[I 2022-12-12 14:36:41,971]\u001b[0m Trial 30 finished with value: -1.036762326639641 and parameters: {'x': 1.3745135930112093, 'y': -2.9260499440122256}. Best is trial 29 with value: -1.8414741807709432.\u001b[0m\n",
      "\u001b[32m[I 2022-12-12 14:36:41,978]\u001b[0m Trial 31 finished with value: 0.4135702166147648 and parameters: {'x': 1.2246945531933329, 'y': -1.0863065320066525}. Best is trial 29 with value: -1.8414741807709432.\u001b[0m\n",
      "\u001b[32m[I 2022-12-12 14:36:41,983]\u001b[0m Trial 32 finished with value: -0.8058543077534297 and parameters: {'x': -0.7182467497494733, 'y': -1.3217327012791122}. Best is trial 29 with value: -1.8414741807709432.\u001b[0m\n",
      "\u001b[32m[I 2022-12-12 14:36:41,992]\u001b[0m Trial 33 finished with value: -1.6898559365594787 and parameters: {'x': -0.20252909352576376, 'y': -1.7308739702838463}. Best is trial 29 with value: -1.8414741807709432.\u001b[0m\n",
      "\u001b[32m[I 2022-12-12 14:36:41,998]\u001b[0m Trial 34 finished with value: 0.6013461904524164 and parameters: {'x': -1.3152939648851314, 'y': -1.1286520236108328}. Best is trial 29 with value: -1.8414741807709432.\u001b[0m\n",
      "\u001b[32m[I 2022-12-12 14:36:42,005]\u001b[0m Trial 35 finished with value: 0.8082205233112214 and parameters: {'x': 1.6851344378983035, 'y': -2.03145755047961}. Best is trial 29 with value: -1.8414741807709432.\u001b[0m\n",
      "\u001b[32m[I 2022-12-12 14:36:42,011]\u001b[0m Trial 36 finished with value: -1.3576290283945291 and parameters: {'x': 0.6671167411568164, 'y': -1.8026737747262198}. Best is trial 29 with value: -1.8414741807709432.\u001b[0m\n",
      "\u001b[32m[I 2022-12-12 14:36:42,018]\u001b[0m Trial 37 finished with value: -2.444419863633109 and parameters: {'x': -0.5844229558161422, 'y': -2.7859700549179855}. Best is trial 37 with value: -2.444419863633109.\u001b[0m\n",
      "\u001b[32m[I 2022-12-12 14:36:42,030]\u001b[0m Trial 38 finished with value: -1.8539500909782418 and parameters: {'x': -0.5107784378381717, 'y': -2.114844703538645}. Best is trial 37 with value: -2.444419863633109.\u001b[0m\n",
      "\u001b[32m[I 2022-12-12 14:36:42,038]\u001b[0m Trial 39 finished with value: 1.2500090252400957 and parameters: {'x': -1.8100837590399, 'y': -2.0263941894999187}. Best is trial 37 with value: -2.444419863633109.\u001b[0m\n",
      "\u001b[32m[I 2022-12-12 14:36:42,045]\u001b[0m Trial 40 finished with value: -1.1942792203125936 and parameters: {'x': -1.1856832613552157, 'y': -2.6001240165705344}. Best is trial 37 with value: -2.444419863633109.\u001b[0m\n",
      "\u001b[32m[I 2022-12-12 14:36:42,053]\u001b[0m Trial 41 finished with value: 3.634429475417722 and parameters: {'x': -2.455498077863275, 'y': -2.3950413349725155}. Best is trial 37 with value: -2.444419863633109.\u001b[0m\n",
      "\u001b[32m[I 2022-12-12 14:36:42,060]\u001b[0m Trial 42 finished with value: 3.518138171297105 and parameters: {'x': -2.4084699239075107, 'y': -2.2825892030699455}. Best is trial 37 with value: -2.444419863633109.\u001b[0m\n",
      "\u001b[32m[I 2022-12-12 14:36:42,069]\u001b[0m Trial 43 finished with value: -3.0752403194900753 and parameters: {'x': -0.2670999253719506, 'y': -3.1465826896237767}. Best is trial 43 with value: -3.0752403194900753.\u001b[0m\n",
      "\u001b[32m[I 2022-12-12 14:36:42,077]\u001b[0m Trial 44 finished with value: -0.5935925930039763 and parameters: {'x': 1.3734465930925048, 'y': -2.4799481370813847}. Best is trial 43 with value: -3.0752403194900753.\u001b[0m\n",
      "\u001b[32m[I 2022-12-12 14:36:42,089]\u001b[0m Trial 45 finished with value: -3.291999389615085 and parameters: {'x': 0.07102336038320134, 'y': -3.2970437073352072}. Best is trial 45 with value: -3.291999389615085.\u001b[0m\n",
      "\u001b[32m[I 2022-12-12 14:36:42,098]\u001b[0m Trial 46 finished with value: -0.8606669058376839 and parameters: {'x': 1.3677922311972504, 'y': -2.7315224935612363}. Best is trial 45 with value: -3.291999389615085.\u001b[0m\n",
      "\u001b[32m[I 2022-12-12 14:36:42,108]\u001b[0m Trial 47 finished with value: -2.775034546430203 and parameters: {'x': 0.34010380925336303, 'y': -2.890705147498851}. Best is trial 45 with value: -3.291999389615085.\u001b[0m\n",
      "\u001b[32m[I 2022-12-12 14:36:42,116]\u001b[0m Trial 48 finished with value: -2.0149696439493137 and parameters: {'x': 0.5701946258918595, 'y': -2.3400915553452712}. Best is trial 45 with value: -3.291999389615085.\u001b[0m\n",
      "\u001b[32m[I 2022-12-12 14:36:42,125]\u001b[0m Trial 49 finished with value: -1.012032104001815 and parameters: {'x': 0.8461201911252525, 'y': -1.7279514818316488}. Best is trial 45 with value: -3.291999389615085.\u001b[0m\n",
      "\u001b[32m[I 2022-12-12 14:36:42,133]\u001b[0m Trial 50 finished with value: 5.2810822896644485 and parameters: {'x': 2.780769109815651, 'y': -2.4515945524404805}. Best is trial 45 with value: -3.291999389615085.\u001b[0m\n",
      "\u001b[32m[I 2022-12-12 14:36:42,142]\u001b[0m Trial 51 finished with value: 2.562898442284921 and parameters: {'x': 2.0630012613340627, 'y': -1.6930757619810133}. Best is trial 45 with value: -3.291999389615085.\u001b[0m\n",
      "\u001b[32m[I 2022-12-12 14:36:42,151]\u001b[0m Trial 52 finished with value: -1.3334526016269614 and parameters: {'x': -0.6011447580489278, 'y': -1.6948276217566653}. Best is trial 45 with value: -3.291999389615085.\u001b[0m\n",
      "\u001b[32m[I 2022-12-12 14:36:42,162]\u001b[0m Trial 53 finished with value: 1.8918393942507084 and parameters: {'x': -1.9178547494647669, 'y': -1.7863274457938554}. Best is trial 45 with value: -3.291999389615085.\u001b[0m\n",
      "\u001b[32m[I 2022-12-12 14:36:42,171]\u001b[0m Trial 54 finished with value: 1.5203393082936303 and parameters: {'x': -1.542235702110446, 'y': -0.8581516525704702}. Best is trial 45 with value: -3.291999389615085.\u001b[0m\n",
      "\u001b[32m[I 2022-12-12 14:36:42,180]\u001b[0m Trial 55 finished with value: 10.713930040735335 and parameters: {'x': -3.3644307743245863, 'y': -0.605464394487}. Best is trial 45 with value: -3.291999389615085.\u001b[0m\n",
      "\u001b[32m[I 2022-12-12 14:36:42,189]\u001b[0m Trial 56 finished with value: 3.1852156525732545 and parameters: {'x': -2.191159019576459, 'y': -1.6159621964980146}. Best is trial 45 with value: -3.291999389615085.\u001b[0m\n",
      "\u001b[32m[I 2022-12-12 14:36:42,266]\u001b[0m Trial 57 finished with value: -1.9181018769961944 and parameters: {'x': -0.48701864027865804, 'y': -2.1552890329750674}. Best is trial 45 with value: -3.291999389615085.\u001b[0m\n",
      "\u001b[32m[I 2022-12-12 14:36:42,277]\u001b[0m Trial 58 finished with value: 3.517863086477708 and parameters: {'x': -2.1754970251924846, 'y': -1.2149242201436417}. Best is trial 45 with value: -3.291999389615085.\u001b[0m\n",
      "\u001b[32m[I 2022-12-12 14:36:42,290]\u001b[0m Trial 59 finished with value: -1.3472715087078002 and parameters: {'x': -1.3275269753592105, 'y': -3.109599379014174}. Best is trial 45 with value: -3.291999389615085.\u001b[0m\n",
      "\u001b[32m[I 2022-12-12 14:36:42,312]\u001b[0m Trial 60 finished with value: -2.347148448041269 and parameters: {'x': 0.051851744398205835, 'y': -2.349837051438406}. Best is trial 45 with value: -3.291999389615085.\u001b[0m\n",
      "\u001b[32m[I 2022-12-12 14:36:42,339]\u001b[0m Trial 61 finished with value: -1.7891043949263985 and parameters: {'x': 0.9026595073488335, 'y': -2.6038985811336373}. Best is trial 45 with value: -3.291999389615085.\u001b[0m\n",
      "\u001b[32m[I 2022-12-12 14:36:42,351]\u001b[0m Trial 62 finished with value: -3.1930883467769755 and parameters: {'x': 0.23657543383504764, 'y': -3.2490562826712166}. Best is trial 45 with value: -3.291999389615085.\u001b[0m\n",
      "\u001b[32m[I 2022-12-12 14:36:42,362]\u001b[0m Trial 63 finished with value: -2.0368806014259855 and parameters: {'x': -1.1194081368473539, 'y': -3.2899551782660494}. Best is trial 45 with value: -3.291999389615085.\u001b[0m\n",
      "\u001b[32m[I 2022-12-12 14:36:42,374]\u001b[0m Trial 64 finished with value: -1.638108434725444 and parameters: {'x': -1.6267445333291723, 'y': -4.284406211441791}. Best is trial 45 with value: -3.291999389615085.\u001b[0m\n",
      "\u001b[32m[I 2022-12-12 14:36:42,391]\u001b[0m Trial 65 finished with value: -1.676729065318181 and parameters: {'x': -1.5882474726182867, 'y': -4.199259099596556}. Best is trial 45 with value: -3.291999389615085.\u001b[0m\n",
      "\u001b[32m[I 2022-12-12 14:36:42,408]\u001b[0m Trial 66 finished with value: -3.829766831274167 and parameters: {'x': -0.050705320636265316, 'y': -3.8323378608149934}. Best is trial 66 with value: -3.829766831274167.\u001b[0m\n",
      "\u001b[32m[I 2022-12-12 14:36:42,419]\u001b[0m Trial 67 finished with value: -3.5624888347812744 and parameters: {'x': -0.981383493673273, 'y': -4.525602396435634}. Best is trial 66 with value: -3.829766831274167.\u001b[0m\n",
      "\u001b[32m[I 2022-12-12 14:36:42,430]\u001b[0m Trial 68 finished with value: -0.3663943474545368 and parameters: {'x': -2.040293185189359, 'y': -4.5291906289846775}. Best is trial 66 with value: -3.829766831274167.\u001b[0m\n",
      "\u001b[32m[I 2022-12-12 14:36:42,442]\u001b[0m Trial 69 finished with value: 2.525402180642881 and parameters: {'x': -2.589715798874058, 'y': -4.181225738295019}. Best is trial 66 with value: -3.829766831274167.\u001b[0m\n",
      "\u001b[32m[I 2022-12-12 14:36:42,454]\u001b[0m Trial 70 finished with value: 4.340650328793247 and parameters: {'x': -2.8840394343675078, 'y': -3.977033130193607}. Best is trial 66 with value: -3.829766831274167.\u001b[0m\n",
      "\u001b[32m[I 2022-12-12 14:36:42,467]\u001b[0m Trial 71 finished with value: -1.5054602783771354 and parameters: {'x': -1.715150119207295, 'y': -4.447200209793934}. Best is trial 66 with value: -3.829766831274167.\u001b[0m\n",
      "\u001b[32m[I 2022-12-12 14:36:42,478]\u001b[0m Trial 72 finished with value: 3.0586382805324206 and parameters: {'x': -2.628009391082894, 'y': -3.8477950790874633}. Best is trial 66 with value: -3.829766831274167.\u001b[0m\n",
      "\u001b[32m[I 2022-12-12 14:36:42,491]\u001b[0m Trial 73 finished with value: 7.024166629627401 and parameters: {'x': -3.3510064225012615, 'y': -4.205077414017302}. Best is trial 66 with value: -3.829766831274167.\u001b[0m\n",
      "\u001b[32m[I 2022-12-12 14:36:42,511]\u001b[0m Trial 74 finished with value: 11.577091565518465 and parameters: {'x': -4.0130974664118675, 'y': -4.527859709402887}. Best is trial 66 with value: -3.829766831274167.\u001b[0m\n",
      "\u001b[32m[I 2022-12-12 14:36:42,523]\u001b[0m Trial 75 finished with value: 12.573215663081063 and parameters: {'x': -4.058061727166876, 'y': -3.8946493184155475}. Best is trial 66 with value: -3.829766831274167.\u001b[0m\n",
      "\u001b[32m[I 2022-12-12 14:36:42,536]\u001b[0m Trial 76 finished with value: -1.8119543638761726 and parameters: {'x': -1.4044363989460904, 'y': -3.7843959625608345}. Best is trial 66 with value: -3.829766831274167.\u001b[0m\n",
      "\u001b[32m[I 2022-12-12 14:36:42,549]\u001b[0m Trial 77 finished with value: 5.892671541347817 and parameters: {'x': -3.18279691029398, 'y': -4.237524630829088}. Best is trial 66 with value: -3.829766831274167.\u001b[0m\n",
      "\u001b[32m[I 2022-12-12 14:36:42,561]\u001b[0m Trial 78 finished with value: -3.7009969385760586 and parameters: {'x': 0.024278757014613017, 'y': -3.701586396618233}. Best is trial 66 with value: -3.829766831274167.\u001b[0m\n",
      "\u001b[32m[I 2022-12-12 14:36:42,577]\u001b[0m Trial 79 finished with value: -1.089244776625144 and parameters: {'x': 1.5674523738378405, 'y': -3.5461517208750255}. Best is trial 66 with value: -3.829766831274167.\u001b[0m\n",
      "\u001b[32m[I 2022-12-12 14:36:42,590]\u001b[0m Trial 80 finished with value: 4.031304764253219 and parameters: {'x': 2.6841641622934476, 'y': -3.173432485887265}. Best is trial 66 with value: -3.829766831274167.\u001b[0m\n",
      "\u001b[32m[I 2022-12-12 14:36:42,605]\u001b[0m Trial 81 finished with value: 10.164455363250099 and parameters: {'x': 3.591310541849157, 'y': -2.733056044746786}. Best is trial 66 with value: -3.829766831274167.\u001b[0m\n",
      "\u001b[32m[I 2022-12-12 14:36:42,621]\u001b[0m Trial 82 finished with value: 12.498215225090064 and parameters: {'x': 4.022954278262363, 'y': -3.6859458998993846}. Best is trial 66 with value: -3.829766831274167.\u001b[0m\n",
      "\u001b[32m[I 2022-12-12 14:36:42,640]\u001b[0m Trial 83 finished with value: 5.276901306299335 and parameters: {'x': 2.9007828811698686, 'y': -3.1376400173888292}. Best is trial 66 with value: -3.829766831274167.\u001b[0m\n",
      "\u001b[32m[I 2022-12-12 14:36:42,654]\u001b[0m Trial 84 finished with value: 0.263364132702228 and parameters: {'x': 1.552137893019205, 'y': -2.1457679062438686}. Best is trial 66 with value: -3.829766831274167.\u001b[0m\n",
      "\u001b[32m[I 2022-12-12 14:36:42,668]\u001b[0m Trial 85 finished with value: -2.2861554081698894 and parameters: {'x': 0.46637655274458645, 'y': -2.5036624971198136}. Best is trial 66 with value: -3.829766831274167.\u001b[0m\n",
      "\u001b[32m[I 2022-12-12 14:36:42,686]\u001b[0m Trial 86 finished with value: 0.7687542514933721 and parameters: {'x': 1.5803141215042298, 'y': -1.7286384711323135}. Best is trial 66 with value: -3.829766831274167.\u001b[0m\n",
      "\u001b[32m[I 2022-12-12 14:36:42,724]\u001b[0m Trial 87 finished with value: 9.014793152636884 and parameters: {'x': 3.411430670619114, 'y': -2.6230660678038955}. Best is trial 66 with value: -3.829766831274167.\u001b[0m\n",
      "\u001b[32m[I 2022-12-12 14:36:42,737]\u001b[0m Trial 88 finished with value: -0.10488803284508408 and parameters: {'x': 1.0078625654240883, 'y': -1.1206749836283088}. Best is trial 66 with value: -3.829766831274167.\u001b[0m\n",
      "\u001b[32m[I 2022-12-12 14:36:42,756]\u001b[0m Trial 89 finished with value: 5.084746449691501 and parameters: {'x': 2.4811440750507074, 'y': -1.0713294714677288}. Best is trial 66 with value: -3.829766831274167.\u001b[0m\n",
      "\u001b[32m[I 2022-12-12 14:36:42,772]\u001b[0m Trial 90 finished with value: 1.021746068430424 and parameters: {'x': 1.2331730895181714, 'y': -0.49896980028136784}. Best is trial 66 with value: -3.829766831274167.\u001b[0m\n",
      "\u001b[32m[I 2022-12-12 14:36:42,790]\u001b[0m Trial 91 finished with value: -0.9710387738376705 and parameters: {'x': 0.01507160676420849, 'y': -0.9712659271681254}. Best is trial 66 with value: -3.829766831274167.\u001b[0m\n",
      "\u001b[32m[I 2022-12-12 14:36:42,805]\u001b[0m Trial 92 finished with value: -0.5110016885074338 and parameters: {'x': 0.19098890564580184, 'y': -0.5474784505872148}. Best is trial 66 with value: -3.829766831274167.\u001b[0m\n",
      "\u001b[32m[I 2022-12-12 14:36:42,829]\u001b[0m Trial 93 finished with value: 2.980098206486449 and parameters: {'x': 1.8054100649076168, 'y': -0.27940729598327607}. Best is trial 66 with value: -3.829766831274167.\u001b[0m\n",
      "\u001b[32m[I 2022-12-12 14:36:42,843]\u001b[0m Trial 94 finished with value: 7.069535572203888 and parameters: {'x': 2.7428138617088953, 'y': -0.4534923077785744}. Best is trial 66 with value: -3.829766831274167.\u001b[0m\n",
      "\u001b[32m[I 2022-12-12 14:36:42,858]\u001b[0m Trial 95 finished with value: -0.16308248121353586 and parameters: {'x': 1.0321893857522535, 'y': -1.2284974092731502}. Best is trial 66 with value: -3.829766831274167.\u001b[0m\n",
      "\u001b[32m[I 2022-12-12 14:36:42,878]\u001b[0m Trial 96 finished with value: 4.706648496398611 and parameters: {'x': 2.3499135193927065, 'y': -0.8154450522260053}. Best is trial 66 with value: -3.829766831274167.\u001b[0m\n",
      "\u001b[32m[I 2022-12-12 14:36:42,895]\u001b[0m Trial 97 finished with value: 2.180282879265449 and parameters: {'x': 1.6730675305835727, 'y': -0.6188720826275647}. Best is trial 66 with value: -3.829766831274167.\u001b[0m\n",
      "\u001b[32m[I 2022-12-12 14:36:42,911]\u001b[0m Trial 98 finished with value: -0.88625529908731 and parameters: {'x': 0.6172439929806561, 'y': -1.2672454459580142}. Best is trial 66 with value: -3.829766831274167.\u001b[0m\n",
      "\u001b[32m[I 2022-12-12 14:36:42,927]\u001b[0m Trial 99 finished with value: 0.6931282265691843 and parameters: {'x': 1.4413825709501409, 'y': -1.3844554892696534}. Best is trial 66 with value: -3.829766831274167.\u001b[0m\n"
     ]
    },
    {
     "name": "stdout",
     "output_type": "stream",
     "text": [
      "Best Value :  -3.829766831274167\n",
      "Parameters that achieve the best value :  {'x': -0.050705320636265316, 'y': -3.8323378608149934}\n"
     ]
    }
   ],
   "source": [
    "def objective(trial):\n",
    "    x = trial.suggest_float('x', -10, 10)\n",
    "    y = trial.suggest_float('y', -5, 5)\n",
    "    return x**2 + y\n",
    "\n",
    "sampler = SimulatedAnnealingSampler()\n",
    "study = optuna.create_study(sampler = sampler)\n",
    "study.optimize(objective, n_trials = 100)\n",
    "\n",
    "best_trial = study.best_trial\n",
    "print('Best Value : ', best_trial.value)\n",
    "print('Parameters that achieve the best value : ', best_trial.params)"
   ]
  },
  {
   "cell_type": "markdown",
   "id": "6dd6ff09-1b4c-4608-9dc0-bc909d9bcfdc",
   "metadata": {},
   "source": [
    "- 위 최적화에서 `x`, `y` 파라미터는 `SimulatedAnnealingSampler.sample_relative` 메서드를 사용해서 샘플링됨"
   ]
  },
  {
   "cell_type": "markdown",
   "id": "3b2f8ef6-0de8-44e1-a0ca-466adf1c1286",
   "metadata": {},
   "source": [
    "엄밀히 말해, 1번째 Trial에서 `sample_independent` 메서드가 샘플링에 사용되었음. 왜냐면 `infer_relative_search_space()` 내의 `intersection_search_space()`는 완료된 trial이 없으면 탐색 공간을 추론하지 못하기 때문임"
   ]
  },
  {
   "cell_type": "code",
   "execution_count": null,
   "id": "bdd05462-0a05-4eae-b65e-ee7d15eff74d",
   "metadata": {},
   "outputs": [],
   "source": []
  }
 ],
 "metadata": {
  "kernelspec": {
   "display_name": "Python 3 (ipykernel)",
   "language": "python",
   "name": "python3"
  },
  "language_info": {
   "codemirror_mode": {
    "name": "ipython",
    "version": 3
   },
   "file_extension": ".py",
   "mimetype": "text/x-python",
   "name": "python",
   "nbconvert_exporter": "python",
   "pygments_lexer": "ipython3",
   "version": "3.9.13"
  }
 },
 "nbformat": 4,
 "nbformat_minor": 5
}
