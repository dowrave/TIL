{
 "cells": [
  {
   "cell_type": "markdown",
   "id": "f5f5b55f-8bb3-4b39-a09b-3148cf34f528",
   "metadata": {},
   "source": [
    "# 사용자 정의 Pruner"
   ]
  },
  {
   "cell_type": "markdown",
   "id": "d1419ec3-64c5-4227-9127-7661d89890ec",
   "metadata": {},
   "source": [
    "`create_study()` 내에는 선택할 수 있는 인자로 `BasePruner`를 갖고 있음  \n",
    "- 가지치기가 필요하면 True, 아니면 False를 반환함\n",
    "- 모든 `trial` 객체에 `get_trial()`로 접근할 수 있고, 각 trial의 중윗값을 받을 수 있음\n",
    "- [BasePruner](https://optuna.readthedocs.io/en/stable/reference/generated/optuna.pruners.BasePruner.html#optuna.pruners.BasePruner), [ThresholdPruner](https://optuna.readthedocs.io/en/stable/reference/generated/optuna.pruners.ThresholdPruner.html#optuna.pruners.ThresholdPruner), \n",
    "[PercentilePruner](https://optuna.readthedocs.io/en/stable/reference/generated/optuna.pruners.PercentilePruner.html#optuna.pruners.PercentilePruner) 등이 좋은 예시가 되겠다."
   ]
  },
  {
   "cell_type": "markdown",
   "id": "1b8b6747-5618-4c1f-8667-68e55b0ebd5f",
   "metadata": {},
   "source": [
    "# 예제 : LastPlacePruner\n",
    "- 아이리스 데이터셋을 `SGDClassifier`로 볼 건데, `loss`, `alpha` 값을 최적화할 것임\n",
    "- `warmup`의 의미는 해당 값까지는 가지치기를 하지 않겠다는 말로 보임\n",
    "- 근데 `Step`이란 말이 헷갈림 : `Trial`은 각각의 하이퍼파라미터 쌍을 탐색했을 때를 의미한다고 치면 `Step`은 뭐지"
   ]
  },
  {
   "cell_type": "code",
   "execution_count": 3,
   "id": "227c4dd7-86ab-4597-bb7d-efa2d23896eb",
   "metadata": {},
   "outputs": [],
   "source": [
    "import numpy as np\n",
    "from sklearn.datasets import load_iris\n",
    "from sklearn.model_selection import train_test_split\n",
    "from sklearn.linear_model import SGDClassifier\n",
    "\n",
    "import optuna\n",
    "from optuna.pruners import BasePruner\n",
    "from optuna.trial._state import TrialState\n",
    "\n",
    "class LastPlacePruner(BasePruner):\n",
    "    \n",
    "    def __init__(self, warmup_steps, warmup_trials):\n",
    "        self._warmup_steps = warmup_steps\n",
    "        self._warmup_trials = warmup_trials\n",
    "        \n",
    "    def prune(self, study = \"optuna.study.Study\", trial = \"optuna.trial.FrozenTrial\") -> bool:\n",
    "        \n",
    "        # 가장 최근 trial 점수 가져옴\n",
    "        step = trial.last_step\n",
    "        \n",
    "        if step:\n",
    "            this_score = trial.intermediate_values[step]\n",
    "            \n",
    "            # 같은 단계에서 시도된 다른 trial들의 스코어를 가져옴\n",
    "            completed_trials = study.get_trials(deepcopy = False, states = (TrialState.COMPLETE,))\n",
    "            other_scores = [\n",
    "                t.intermediate_values[step] for t in completed_trials if step in t.intermediate_values\n",
    "            ]\n",
    "            other_scores = sorted(other_scores)\n",
    "            \n",
    "            # 같은 시도에서 측정된 다른 완료된 trial보다 값이 낮다면 가지치기함\n",
    "            # Step은 objective function에서 정의된 넘버링을 따라감 : 여기서는 0\n",
    "            if step >= self._warmup_steps and len(other_scores) > self._warmup_trials:\n",
    "                if this_score < other_scores[0]:\n",
    "                    print(f\"prune() True : Trial {trial.number}, Step {step}, Score {this_score}\")\n",
    "                    return True\n",
    "                \n",
    "        return False"
   ]
  },
  {
   "cell_type": "code",
   "execution_count": 4,
   "id": "6f85f203-f2cb-47ec-b7e5-444984ae0152",
   "metadata": {
    "collapsed": true,
    "jupyter": {
     "outputs_hidden": true
    },
    "tags": []
   },
   "outputs": [
    {
     "name": "stderr",
     "output_type": "stream",
     "text": [
      "\u001b[32m[I 2022-12-12 15:01:26,001]\u001b[0m A new study created in memory with name: no-name-b8884228-8a90-4305-aed3-cb4f3e1820d2\u001b[0m\n",
      "\u001b[32m[I 2022-12-12 15:01:26,040]\u001b[0m Trial 0 finished with value: 0.92 and parameters: {'loss': 'hinge', 'alpha': 1.3897184276856216e-05}. Best is trial 0 with value: 0.92.\u001b[0m\n",
      "\u001b[32m[I 2022-12-12 15:01:26,078]\u001b[0m Trial 1 finished with value: 0.78 and parameters: {'loss': 'log', 'alpha': 0.00013915662831368036}. Best is trial 0 with value: 0.92.\u001b[0m\n",
      "\u001b[32m[I 2022-12-12 15:01:26,118]\u001b[0m Trial 2 finished with value: 0.92 and parameters: {'loss': 'log', 'alpha': 2.4251316521818753e-05}. Best is trial 0 with value: 0.92.\u001b[0m\n",
      "\u001b[32m[I 2022-12-12 15:01:26,157]\u001b[0m Trial 3 finished with value: 0.86 and parameters: {'loss': 'perceptron', 'alpha': 0.0004795783828593267}. Best is trial 0 with value: 0.92.\u001b[0m\n",
      "\u001b[32m[I 2022-12-12 15:01:26,194]\u001b[0m Trial 4 finished with value: 0.72 and parameters: {'loss': 'hinge', 'alpha': 0.0009214390818080659}. Best is trial 0 with value: 0.92.\u001b[0m\n",
      "\u001b[32m[I 2022-12-12 15:01:26,231]\u001b[0m Trial 5 finished with value: 0.86 and parameters: {'loss': 'perceptron', 'alpha': 0.0005693597481115065}. Best is trial 0 with value: 0.92.\u001b[0m\n",
      "\u001b[32m[I 2022-12-12 15:01:26,278]\u001b[0m Trial 6 pruned. \u001b[0m\n",
      "\u001b[32m[I 2022-12-12 15:01:26,322]\u001b[0m Trial 7 finished with value: 0.72 and parameters: {'loss': 'perceptron', 'alpha': 9.37788612406508e-05}. Best is trial 0 with value: 0.92.\u001b[0m\n",
      "\u001b[32m[I 2022-12-12 15:01:26,365]\u001b[0m Trial 8 finished with value: 0.72 and parameters: {'loss': 'hinge', 'alpha': 0.0001594279243493594}. Best is trial 0 with value: 0.92.\u001b[0m\n",
      "\u001b[32m[I 2022-12-12 15:01:26,409]\u001b[0m Trial 9 finished with value: 0.92 and parameters: {'loss': 'log', 'alpha': 1.743868823453762e-05}. Best is trial 0 with value: 0.92.\u001b[0m\n",
      "\u001b[32m[I 2022-12-12 15:01:26,464]\u001b[0m Trial 10 finished with value: 0.84 and parameters: {'loss': 'hinge', 'alpha': 1.0968860110970098e-05}. Best is trial 0 with value: 0.92.\u001b[0m\n"
     ]
    },
    {
     "name": "stdout",
     "output_type": "stream",
     "text": [
      "prune() True : Trial 6, Step 4, Score 0.6\n"
     ]
    },
    {
     "name": "stderr",
     "output_type": "stream",
     "text": [
      "\u001b[32m[I 2022-12-12 15:01:26,496]\u001b[0m Trial 11 pruned. \u001b[0m\n",
      "\u001b[32m[I 2022-12-12 15:01:26,545]\u001b[0m Trial 12 pruned. \u001b[0m\n",
      "\u001b[32m[I 2022-12-12 15:01:26,591]\u001b[0m Trial 13 finished with value: 0.72 and parameters: {'loss': 'hinge', 'alpha': 4.533926811613112e-05}. Best is trial 0 with value: 0.92.\u001b[0m\n",
      "\u001b[32m[I 2022-12-12 15:01:26,637]\u001b[0m Trial 14 finished with value: 0.9 and parameters: {'loss': 'log', 'alpha': 1.0395957346976997e-05}. Best is trial 0 with value: 0.92.\u001b[0m\n"
     ]
    },
    {
     "name": "stdout",
     "output_type": "stream",
     "text": [
      "prune() True : Trial 11, Step 1, Score 0.6\n",
      "prune() True : Trial 12, Step 4, Score 0.68\n"
     ]
    },
    {
     "name": "stderr",
     "output_type": "stream",
     "text": [
      "\u001b[32m[I 2022-12-12 15:01:26,685]\u001b[0m Trial 15 pruned. \u001b[0m\n",
      "\u001b[32m[I 2022-12-12 15:01:26,784]\u001b[0m Trial 16 pruned. \u001b[0m\n",
      "\u001b[32m[I 2022-12-12 15:01:26,874]\u001b[0m Trial 17 pruned. \u001b[0m\n"
     ]
    },
    {
     "name": "stdout",
     "output_type": "stream",
     "text": [
      "prune() True : Trial 15, Step 2, Score 0.5\n",
      "prune() True : Trial 16, Step 4, Score 0.68\n",
      "prune() True : Trial 17, Step 3, Score 0.64\n"
     ]
    },
    {
     "name": "stderr",
     "output_type": "stream",
     "text": [
      "\u001b[32m[I 2022-12-12 15:01:26,969]\u001b[0m Trial 18 finished with value: 0.72 and parameters: {'loss': 'hinge', 'alpha': 4.853824967944024e-05}. Best is trial 0 with value: 0.92.\u001b[0m\n",
      "\u001b[32m[I 2022-12-12 15:01:27,063]\u001b[0m Trial 19 finished with value: 0.72 and parameters: {'loss': 'perceptron', 'alpha': 0.00022208588119944453}. Best is trial 0 with value: 0.92.\u001b[0m\n",
      "\u001b[32m[I 2022-12-12 15:01:27,123]\u001b[0m Trial 20 pruned. \u001b[0m\n",
      "\u001b[32m[I 2022-12-12 15:01:27,206]\u001b[0m Trial 21 finished with value: 0.88 and parameters: {'loss': 'log', 'alpha': 1.633068639061442e-05}. Best is trial 0 with value: 0.92.\u001b[0m\n",
      "\u001b[32m[I 2022-12-12 15:01:27,282]\u001b[0m Trial 22 pruned. \u001b[0m\n"
     ]
    },
    {
     "name": "stdout",
     "output_type": "stream",
     "text": [
      "prune() True : Trial 20, Step 1, Score 0.34\n",
      "prune() True : Trial 22, Step 3, Score 0.62\n"
     ]
    },
    {
     "name": "stderr",
     "output_type": "stream",
     "text": [
      "\u001b[32m[I 2022-12-12 15:01:27,381]\u001b[0m Trial 23 finished with value: 0.94 and parameters: {'loss': 'log', 'alpha': 2.373962805113241e-05}. Best is trial 23 with value: 0.94.\u001b[0m\n",
      "\u001b[32m[I 2022-12-12 15:01:27,469]\u001b[0m Trial 24 finished with value: 0.88 and parameters: {'loss': 'log', 'alpha': 4.9102366826956355e-05}. Best is trial 23 with value: 0.94.\u001b[0m\n",
      "\u001b[32m[I 2022-12-12 15:01:27,556]\u001b[0m Trial 25 pruned. \u001b[0m\n",
      "\u001b[32m[I 2022-12-12 15:01:27,643]\u001b[0m Trial 26 finished with value: 0.78 and parameters: {'loss': 'log', 'alpha': 6.75211107195995e-05}. Best is trial 23 with value: 0.94.\u001b[0m\n",
      "\u001b[32m[I 2022-12-12 15:01:27,718]\u001b[0m Trial 27 finished with value: 0.72 and parameters: {'loss': 'hinge', 'alpha': 3.737663794402404e-05}. Best is trial 23 with value: 0.94.\u001b[0m\n"
     ]
    },
    {
     "name": "stdout",
     "output_type": "stream",
     "text": [
      "prune() True : Trial 25, Step 4, Score 0.68\n"
     ]
    },
    {
     "name": "stderr",
     "output_type": "stream",
     "text": [
      "\u001b[32m[I 2022-12-12 15:01:27,775]\u001b[0m Trial 28 pruned. \u001b[0m\n",
      "\u001b[32m[I 2022-12-12 15:01:27,849]\u001b[0m Trial 29 finished with value: 0.72 and parameters: {'loss': 'perceptron', 'alpha': 7.222236636011793e-05}. Best is trial 23 with value: 0.94.\u001b[0m\n",
      "\u001b[32m[I 2022-12-12 15:01:27,924]\u001b[0m Trial 30 finished with value: 0.92 and parameters: {'loss': 'log', 'alpha': 2.2358391806454734e-05}. Best is trial 23 with value: 0.94.\u001b[0m\n"
     ]
    },
    {
     "name": "stdout",
     "output_type": "stream",
     "text": [
      "prune() True : Trial 28, Step 1, Score 0.32\n"
     ]
    },
    {
     "name": "stderr",
     "output_type": "stream",
     "text": [
      "\u001b[32m[I 2022-12-12 15:01:28,003]\u001b[0m Trial 31 finished with value: 0.94 and parameters: {'loss': 'log', 'alpha': 1.8884836096012097e-05}. Best is trial 23 with value: 0.94.\u001b[0m\n",
      "\u001b[32m[I 2022-12-12 15:01:28,083]\u001b[0m Trial 32 finished with value: 0.92 and parameters: {'loss': 'log', 'alpha': 1.9491647419550245e-05}. Best is trial 23 with value: 0.94.\u001b[0m\n",
      "\u001b[32m[I 2022-12-12 15:01:28,163]\u001b[0m Trial 33 pruned. \u001b[0m\n",
      "\u001b[32m[I 2022-12-12 15:01:28,247]\u001b[0m Trial 34 finished with value: 0.94 and parameters: {'loss': 'log', 'alpha': 1.835444439595845e-05}. Best is trial 23 with value: 0.94.\u001b[0m\n",
      "\u001b[32m[I 2022-12-12 15:01:28,337]\u001b[0m Trial 35 finished with value: 0.92 and parameters: {'loss': 'log', 'alpha': 3.843032525736804e-05}. Best is trial 23 with value: 0.94.\u001b[0m\n"
     ]
    },
    {
     "name": "stdout",
     "output_type": "stream",
     "text": [
      "prune() True : Trial 33, Step 4, Score 0.7\n"
     ]
    },
    {
     "name": "stderr",
     "output_type": "stream",
     "text": [
      "\u001b[32m[I 2022-12-12 15:01:28,424]\u001b[0m Trial 36 finished with value: 0.84 and parameters: {'loss': 'perceptron', 'alpha': 1.1403891581334192e-05}. Best is trial 23 with value: 0.94.\u001b[0m\n",
      "\u001b[32m[I 2022-12-12 15:01:28,502]\u001b[0m Trial 37 pruned. \u001b[0m\n",
      "\u001b[32m[I 2022-12-12 15:01:28,582]\u001b[0m Trial 38 pruned. \u001b[0m\n",
      "\u001b[32m[I 2022-12-12 15:01:28,662]\u001b[0m Trial 39 finished with value: 0.92 and parameters: {'loss': 'log', 'alpha': 0.00011029087624639607}. Best is trial 23 with value: 0.94.\u001b[0m\n"
     ]
    },
    {
     "name": "stdout",
     "output_type": "stream",
     "text": [
      "prune() True : Trial 37, Step 4, Score 0.64\n",
      "prune() True : Trial 38, Step 4, Score 0.68\n"
     ]
    },
    {
     "name": "stderr",
     "output_type": "stream",
     "text": [
      "\u001b[32m[I 2022-12-12 15:01:28,747]\u001b[0m Trial 40 finished with value: 0.92 and parameters: {'loss': 'perceptron', 'alpha': 1.5353232966920816e-05}. Best is trial 23 with value: 0.94.\u001b[0m\n",
      "\u001b[32m[I 2022-12-12 15:01:28,825]\u001b[0m Trial 41 finished with value: 0.86 and parameters: {'loss': 'log', 'alpha': 3.951126028542008e-05}. Best is trial 23 with value: 0.94.\u001b[0m\n",
      "\u001b[32m[I 2022-12-12 15:01:28,900]\u001b[0m Trial 42 pruned. \u001b[0m\n",
      "\u001b[32m[I 2022-12-12 15:01:28,980]\u001b[0m Trial 43 finished with value: 0.92 and parameters: {'loss': 'perceptron', 'alpha': 1.5196381818003372e-05}. Best is trial 23 with value: 0.94.\u001b[0m\n",
      "\u001b[32m[I 2022-12-12 15:01:29,065]\u001b[0m Trial 44 finished with value: 0.84 and parameters: {'loss': 'perceptron', 'alpha': 1.2780000678165467e-05}. Best is trial 23 with value: 0.94.\u001b[0m\n"
     ]
    },
    {
     "name": "stdout",
     "output_type": "stream",
     "text": [
      "prune() True : Trial 42, Step 3, Score 0.48\n"
     ]
    },
    {
     "name": "stderr",
     "output_type": "stream",
     "text": [
      "\u001b[32m[I 2022-12-12 15:01:29,150]\u001b[0m Trial 45 finished with value: 0.9 and parameters: {'loss': 'log', 'alpha': 2.143993931400824e-05}. Best is trial 23 with value: 0.94.\u001b[0m\n",
      "\u001b[32m[I 2022-12-12 15:01:29,225]\u001b[0m Trial 46 finished with value: 0.92 and parameters: {'loss': 'perceptron', 'alpha': 2.8585985595871913e-05}. Best is trial 23 with value: 0.94.\u001b[0m\n",
      "\u001b[32m[I 2022-12-12 15:01:29,301]\u001b[0m Trial 47 finished with value: 0.92 and parameters: {'loss': 'perceptron', 'alpha': 1.636857974637368e-05}. Best is trial 23 with value: 0.94.\u001b[0m\n",
      "\u001b[32m[I 2022-12-12 15:01:29,379]\u001b[0m Trial 48 finished with value: 0.92 and parameters: {'loss': 'perceptron', 'alpha': 1.5606708068471066e-05}. Best is trial 23 with value: 0.94.\u001b[0m\n",
      "\u001b[32m[I 2022-12-12 15:01:29,456]\u001b[0m Trial 49 pruned. \u001b[0m\n",
      "\u001b[32m[I 2022-12-12 15:01:29,532]\u001b[0m Trial 50 pruned. \u001b[0m\n",
      "\u001b[32m[I 2022-12-12 15:01:29,611]\u001b[0m Trial 51 finished with value: 0.82 and parameters: {'loss': 'log', 'alpha': 3.3960451227449746e-05}. Best is trial 23 with value: 0.94.\u001b[0m\n"
     ]
    },
    {
     "name": "stdout",
     "output_type": "stream",
     "text": [
      "prune() True : Trial 49, Step 4, Score 0.68\n",
      "prune() True : Trial 50, Step 4, Score 0.68\n"
     ]
    },
    {
     "name": "stderr",
     "output_type": "stream",
     "text": [
      "\u001b[32m[I 2022-12-12 15:01:29,707]\u001b[0m Trial 52 finished with value: 0.76 and parameters: {'loss': 'perceptron', 'alpha': 0.00012632093450680887}. Best is trial 23 with value: 0.94.\u001b[0m\n",
      "\u001b[32m[I 2022-12-12 15:01:29,790]\u001b[0m Trial 53 finished with value: 0.86 and parameters: {'loss': 'log', 'alpha': 9.105864154531102e-05}. Best is trial 23 with value: 0.94.\u001b[0m\n",
      "\u001b[32m[I 2022-12-12 15:01:29,869]\u001b[0m Trial 54 finished with value: 0.8 and parameters: {'loss': 'log', 'alpha': 2.0859150318326818e-05}. Best is trial 23 with value: 0.94.\u001b[0m\n",
      "\u001b[32m[I 2022-12-12 15:01:29,946]\u001b[0m Trial 55 finished with value: 0.92 and parameters: {'loss': 'log', 'alpha': 1.05355958637083e-05}. Best is trial 23 with value: 0.94.\u001b[0m\n",
      "\u001b[32m[I 2022-12-12 15:01:30,027]\u001b[0m Trial 56 finished with value: 0.92 and parameters: {'loss': 'perceptron', 'alpha': 1.7632566945591958e-05}. Best is trial 23 with value: 0.94.\u001b[0m\n",
      "\u001b[32m[I 2022-12-12 15:01:30,113]\u001b[0m Trial 57 finished with value: 0.84 and parameters: {'loss': 'perceptron', 'alpha': 1.2449502155996913e-05}. Best is trial 23 with value: 0.94.\u001b[0m\n",
      "\u001b[32m[I 2022-12-12 15:01:30,245]\u001b[0m Trial 58 finished with value: 0.92 and parameters: {'loss': 'log', 'alpha': 2.5052805615386474e-05}. Best is trial 23 with value: 0.94.\u001b[0m\n",
      "\u001b[32m[I 2022-12-12 15:01:30,284]\u001b[0m Trial 59 finished with value: 0.92 and parameters: {'loss': 'hinge', 'alpha': 1.1889286040749334e-05}. Best is trial 23 with value: 0.94.\u001b[0m\n",
      "\u001b[32m[I 2022-12-12 15:01:30,320]\u001b[0m Trial 60 finished with value: 0.94 and parameters: {'loss': 'log', 'alpha': 1.0057808635225317e-05}. Best is trial 23 with value: 0.94.\u001b[0m\n",
      "\u001b[32m[I 2022-12-12 15:01:30,352]\u001b[0m Trial 61 pruned. \u001b[0m\n",
      "\u001b[32m[I 2022-12-12 15:01:30,385]\u001b[0m Trial 62 pruned. \u001b[0m\n",
      "\u001b[32m[I 2022-12-12 15:01:30,419]\u001b[0m Trial 63 finished with value: 0.94 and parameters: {'loss': 'log', 'alpha': 1.0185563090962995e-05}. Best is trial 23 with value: 0.94.\u001b[0m\n",
      "\u001b[32m[I 2022-12-12 15:01:30,443]\u001b[0m Trial 64 pruned. \u001b[0m\n",
      "\u001b[32m[I 2022-12-12 15:01:30,491]\u001b[0m Trial 65 finished with value: 0.94 and parameters: {'loss': 'log', 'alpha': 8.673053158347683e-05}. Best is trial 23 with value: 0.94.\u001b[0m\n"
     ]
    },
    {
     "name": "stdout",
     "output_type": "stream",
     "text": [
      "prune() True : Trial 61, Step 3, Score 0.48\n",
      "prune() True : Trial 62, Step 4, Score 0.66\n",
      "prune() True : Trial 64, Step 1, Score 0.36\n"
     ]
    },
    {
     "name": "stderr",
     "output_type": "stream",
     "text": [
      "\u001b[32m[I 2022-12-12 15:01:30,573]\u001b[0m Trial 66 finished with value: 0.92 and parameters: {'loss': 'log', 'alpha': 2.4223465032470378e-05}. Best is trial 23 with value: 0.94.\u001b[0m\n",
      "\u001b[32m[I 2022-12-12 15:01:30,631]\u001b[0m Trial 67 pruned. \u001b[0m\n",
      "\u001b[32m[I 2022-12-12 15:01:30,714]\u001b[0m Trial 68 finished with value: 0.84 and parameters: {'loss': 'log', 'alpha': 2.8296062105009457e-05}. Best is trial 23 with value: 0.94.\u001b[0m\n",
      "\u001b[32m[I 2022-12-12 15:01:30,791]\u001b[0m Trial 69 finished with value: 0.72 and parameters: {'loss': 'hinge', 'alpha': 0.0007454542687073979}. Best is trial 23 with value: 0.94.\u001b[0m\n"
     ]
    },
    {
     "name": "stdout",
     "output_type": "stream",
     "text": [
      "prune() True : Trial 67, Step 1, Score 0.48\n"
     ]
    },
    {
     "name": "stderr",
     "output_type": "stream",
     "text": [
      "\u001b[32m[I 2022-12-12 15:01:30,871]\u001b[0m Trial 70 pruned. \u001b[0m\n",
      "\u001b[32m[I 2022-12-12 15:01:30,951]\u001b[0m Trial 71 finished with value: 0.92 and parameters: {'loss': 'log', 'alpha': 5.9043769058581e-05}. Best is trial 23 with value: 0.94.\u001b[0m\n",
      "\u001b[32m[I 2022-12-12 15:01:31,014]\u001b[0m Trial 72 pruned. \u001b[0m\n"
     ]
    },
    {
     "name": "stdout",
     "output_type": "stream",
     "text": [
      "prune() True : Trial 70, Step 4, Score 0.7\n",
      "prune() True : Trial 72, Step 2, Score 0.52\n"
     ]
    },
    {
     "name": "stderr",
     "output_type": "stream",
     "text": [
      "\u001b[32m[I 2022-12-12 15:01:31,094]\u001b[0m Trial 73 finished with value: 0.94 and parameters: {'loss': 'log', 'alpha': 1.8534429278566547e-05}. Best is trial 23 with value: 0.94.\u001b[0m\n",
      "\u001b[32m[I 2022-12-12 15:01:31,169]\u001b[0m Trial 74 pruned. \u001b[0m\n",
      "\u001b[32m[I 2022-12-12 15:01:31,243]\u001b[0m Trial 75 pruned. \u001b[0m\n",
      "\u001b[32m[I 2022-12-12 15:01:31,331]\u001b[0m Trial 76 pruned. \u001b[0m\n"
     ]
    },
    {
     "name": "stdout",
     "output_type": "stream",
     "text": [
      "prune() True : Trial 74, Step 4, Score 0.54\n",
      "prune() True : Trial 75, Step 3, Score 0.64\n",
      "prune() True : Trial 76, Step 4, Score 0.7\n"
     ]
    },
    {
     "name": "stderr",
     "output_type": "stream",
     "text": [
      "\u001b[32m[I 2022-12-12 15:01:31,416]\u001b[0m Trial 77 pruned. \u001b[0m\n",
      "\u001b[32m[I 2022-12-12 15:01:31,457]\u001b[0m Trial 78 finished with value: 0.94 and parameters: {'loss': 'log', 'alpha': 1.4529680304687142e-05}. Best is trial 23 with value: 0.94.\u001b[0m\n",
      "\u001b[32m[I 2022-12-12 15:01:31,490]\u001b[0m Trial 79 pruned. \u001b[0m\n",
      "\u001b[32m[I 2022-12-12 15:01:31,540]\u001b[0m Trial 80 finished with value: 0.9 and parameters: {'loss': 'log', 'alpha': 1.6521461121050177e-05}. Best is trial 23 with value: 0.94.\u001b[0m\n",
      "\u001b[32m[I 2022-12-12 15:01:31,617]\u001b[0m Trial 81 finished with value: 0.94 and parameters: {'loss': 'log', 'alpha': 2.0539802956838627e-05}. Best is trial 23 with value: 0.94.\u001b[0m\n"
     ]
    },
    {
     "name": "stdout",
     "output_type": "stream",
     "text": [
      "prune() True : Trial 77, Step 4, Score 0.6\n",
      "prune() True : Trial 79, Step 3, Score 0.64\n"
     ]
    },
    {
     "name": "stderr",
     "output_type": "stream",
     "text": [
      "\u001b[32m[I 2022-12-12 15:01:31,688]\u001b[0m Trial 82 pruned. \u001b[0m\n",
      "\u001b[32m[I 2022-12-12 15:01:31,765]\u001b[0m Trial 83 pruned. \u001b[0m\n",
      "\u001b[32m[I 2022-12-12 15:01:31,848]\u001b[0m Trial 84 pruned. \u001b[0m\n"
     ]
    },
    {
     "name": "stdout",
     "output_type": "stream",
     "text": [
      "prune() True : Trial 82, Step 2, Score 0.4\n",
      "prune() True : Trial 83, Step 4, Score 0.7\n",
      "prune() True : Trial 84, Step 4, Score 0.5\n"
     ]
    },
    {
     "name": "stderr",
     "output_type": "stream",
     "text": [
      "\u001b[32m[I 2022-12-12 15:01:31,923]\u001b[0m Trial 85 pruned. \u001b[0m\n",
      "\u001b[32m[I 2022-12-12 15:01:31,992]\u001b[0m Trial 86 pruned. \u001b[0m\n",
      "\u001b[32m[I 2022-12-12 15:01:32,078]\u001b[0m Trial 87 pruned. \u001b[0m\n"
     ]
    },
    {
     "name": "stdout",
     "output_type": "stream",
     "text": [
      "prune() True : Trial 85, Step 2, Score 0.58\n",
      "prune() True : Trial 86, Step 2, Score 0.4\n",
      "prune() True : Trial 87, Step 4, Score 0.48\n"
     ]
    },
    {
     "name": "stderr",
     "output_type": "stream",
     "text": [
      "\u001b[32m[I 2022-12-12 15:01:32,169]\u001b[0m Trial 88 finished with value: 0.92 and parameters: {'loss': 'log', 'alpha': 2.1739081427610436e-05}. Best is trial 23 with value: 0.94.\u001b[0m\n",
      "\u001b[32m[I 2022-12-12 15:01:32,262]\u001b[0m Trial 89 finished with value: 0.92 and parameters: {'loss': 'log', 'alpha': 1.1648759540594044e-05}. Best is trial 23 with value: 0.94.\u001b[0m\n",
      "\u001b[32m[I 2022-12-12 15:01:32,337]\u001b[0m Trial 90 finished with value: 0.96 and parameters: {'loss': 'log', 'alpha': 1.5266616659954202e-05}. Best is trial 90 with value: 0.96.\u001b[0m\n",
      "\u001b[32m[I 2022-12-12 15:01:32,426]\u001b[0m Trial 91 finished with value: 0.92 and parameters: {'loss': 'log', 'alpha': 1.574121095227209e-05}. Best is trial 90 with value: 0.96.\u001b[0m\n",
      "\u001b[32m[I 2022-12-12 15:01:32,516]\u001b[0m Trial 92 pruned. \u001b[0m\n",
      "\u001b[32m[I 2022-12-12 15:01:32,600]\u001b[0m Trial 93 finished with value: 0.92 and parameters: {'loss': 'log', 'alpha': 1.3518383534853884e-05}. Best is trial 90 with value: 0.96.\u001b[0m\n",
      "\u001b[32m[I 2022-12-12 15:01:32,632]\u001b[0m Trial 94 pruned. \u001b[0m\n",
      "\u001b[32m[I 2022-12-12 15:01:32,665]\u001b[0m Trial 95 pruned. \u001b[0m\n",
      "\u001b[32m[I 2022-12-12 15:01:32,700]\u001b[0m Trial 96 pruned. \u001b[0m\n",
      "\u001b[32m[I 2022-12-12 15:01:32,728]\u001b[0m Trial 97 pruned. \u001b[0m\n"
     ]
    },
    {
     "name": "stdout",
     "output_type": "stream",
     "text": [
      "prune() True : Trial 92, Step 1, Score 0.32\n",
      "prune() True : Trial 94, Step 1, Score 0.34\n",
      "prune() True : Trial 95, Step 2, Score 0.4\n",
      "prune() True : Trial 96, Step 2, Score 0.52\n",
      "prune() True : Trial 97, Step 1, Score 0.58\n"
     ]
    },
    {
     "name": "stderr",
     "output_type": "stream",
     "text": [
      "\u001b[32m[I 2022-12-12 15:01:32,782]\u001b[0m Trial 98 finished with value: 0.92 and parameters: {'loss': 'log', 'alpha': 3.1574305061787856e-05}. Best is trial 90 with value: 0.96.\u001b[0m\n",
      "\u001b[32m[I 2022-12-12 15:01:32,830]\u001b[0m Trial 99 finished with value: 0.94 and parameters: {'loss': 'log', 'alpha': 1.002650689482576e-05}. Best is trial 90 with value: 0.96.\u001b[0m\n"
     ]
    }
   ],
   "source": [
    "def objective(trial):\n",
    "    iris = load_iris()\n",
    "    classes = np.unique(iris.target)\n",
    "    X_train, X_valid, y_train, y_valid = train_test_split(\n",
    "        iris.data, iris.target, train_size = 100, test_size = 50, random_state = 0\n",
    "    )\n",
    "    \n",
    "    loss = trial.suggest_categorical('loss', ['hinge', 'log', 'perceptron'])\n",
    "    alpha = trial.suggest_float('alpha', 1e-5, 1e-3, log = True)\n",
    "    clf = SGDClassifier(loss = loss, alpha = alpha, random_state = 0 )\n",
    "    score = 0\n",
    "    \n",
    "    for step in range(0, 5):\n",
    "        clf.partial_fit(X_train, y_train, classes = classes)\n",
    "        score = clf.score(X_valid, y_valid)\n",
    "        \n",
    "        trial.report(score, step)\n",
    "        \n",
    "        if trial.should_prune():\n",
    "            raise optuna.TrialPruned()\n",
    "    \n",
    "    return score\n",
    "\n",
    "pruner = LastPlacePruner(warmup_steps = 1, warmup_trials = 5)\n",
    "study = optuna.create_study(direction = 'maximize', pruner = pruner)\n",
    "study.optimize(objective, n_trials = 100)"
   ]
  },
  {
   "cell_type": "code",
   "execution_count": null,
   "id": "4e755c82-b1c3-4bce-bc57-4c9068a8dfee",
   "metadata": {},
   "outputs": [],
   "source": []
  }
 ],
 "metadata": {
  "kernelspec": {
   "display_name": "Python 3 (ipykernel)",
   "language": "python",
   "name": "python3"
  },
  "language_info": {
   "codemirror_mode": {
    "name": "ipython",
    "version": 3
   },
   "file_extension": ".py",
   "mimetype": "text/x-python",
   "name": "python",
   "nbconvert_exporter": "python",
   "pygments_lexer": "ipython3",
   "version": "3.9.13"
  }
 },
 "nbformat": 4,
 "nbformat_minor": 5
}
