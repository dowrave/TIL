{
 "cells": [
  {
   "cell_type": "markdown",
   "id": "891a44bb-233c-4fc6-aa2c-26512e52d66a",
   "metadata": {},
   "source": [
    "# Search Space에 대해"
   ]
  },
  {
   "cell_type": "markdown",
   "id": "394b9986-a35a-4b39-a45f-96078825dc22",
   "metadata": {},
   "source": [
    "- 패키지 :`optuna.trial.Trial`\n",
    "    - `suggest_categorical()`\n",
    "    - `suggest_int()`\n",
    "    - `suggest_float()`\n"
   ]
  },
  {
   "cell_type": "code",
   "execution_count": 1,
   "id": "443634f4-e8f1-428e-a5f6-f37ba754cbb7",
   "metadata": {},
   "outputs": [],
   "source": [
    "import optuna\n",
    "import optuna.trial.Trial as trial"
   ]
  },
  {
   "cell_type": "code",
   "execution_count": 2,
   "id": "1982706f-2cf7-40b4-b4e1-12f3415b0ba0",
   "metadata": {},
   "outputs": [],
   "source": [
    "def object(trial):\n",
    "    optimizer = trial.suggest_categorical('optimizer', ['MomentumSGD', 'Adam'])\n",
    "    \n",
    "    num_layers = trial.suggest_int('num_layers', 1, 3)\n",
    "    \n",
    "    # Int에는 log도 넣을 수 있음\n",
    "    # int에는 밑이 2인가?\n",
    "    num_channels = trial.suggest_int('num_channels', 32, 512, log = True)\n",
    "    \n",
    "    # 이산형\n",
    "    num_units = trial.suggest_int('num_units', 10, 100, step = 5)\n",
    "    \n",
    "    dropout_rate = trial.suggest_float('dropout_rate', 0.0, 1.0)\n",
    "    \n",
    "    # float에 쓰이는 log는 밑이 10인가?\n",
    "    learning_rate = trial.suggest_float('learning_rate', 1e-5, 1e-2, log = True)\n",
    "    \n",
    "    drop_path_rate = trial.suggest_float('drop_path_rate', 0.0, 1.0, step = 0.1)"
   ]
  },
  {
   "cell_type": "markdown",
   "id": "5cc5ebac-849e-4d3f-803d-36a1e22af64a",
   "metadata": {},
   "source": [
    "- 사용 예시\n",
    "- 파이썬 문법으로 `Branch`도 가능\n",
    "- `Loop`도 가능"
   ]
  },
  {
   "cell_type": "code",
   "execution_count": 3,
   "id": "7acbaab0-dc4c-4617-8904-ace199abfd6e",
   "metadata": {},
   "outputs": [],
   "source": [
    "# Branch\n",
    "import sklearn.ensemble\n",
    "import sklearn.svm\n",
    "\n",
    "def objective(trial):\n",
    "    classifier_name = trial.suggest_categorical('classifier', ['svc', 'RandomForest'])\n",
    "    if classifier_name == 'SVC':\n",
    "        svc_c = trial.suggest_float('svc_c', 1e-10, 1e10, log = True)\n",
    "        classifier_obj = sklearn.svm.SVC(C = svc_c)\n",
    "        \n",
    "    else:\n",
    "        rf_max_depth = trial.suggest_int('rf_max_depth', 2, 32, log = True)\n",
    "        classifier_obj = sklearn.ensemble.RandomForestClassifier(max_depth = rf_max_depth)"
   ]
  },
  {
   "cell_type": "code",
   "execution_count": 4,
   "id": "28c0088f-71a6-46e0-a2d9-63594a317427",
   "metadata": {},
   "outputs": [
    {
     "ename": "ModuleNotFoundError",
     "evalue": "No module named 'torch'",
     "output_type": "error",
     "traceback": [
      "\u001b[1;31m---------------------------------------------------------------------------\u001b[0m",
      "\u001b[1;31mModuleNotFoundError\u001b[0m                       Traceback (most recent call last)",
      "\u001b[1;32m~\\AppData\\Local\\Temp/ipykernel_9776/3957913252.py\u001b[0m in \u001b[0;36m<module>\u001b[1;34m\u001b[0m\n\u001b[0;32m      1\u001b[0m \u001b[1;31m# Loop\u001b[0m\u001b[1;33m\u001b[0m\u001b[1;33m\u001b[0m\u001b[0m\n\u001b[1;32m----> 2\u001b[1;33m \u001b[1;32mimport\u001b[0m \u001b[0mtorch\u001b[0m\u001b[1;33m\u001b[0m\u001b[1;33m\u001b[0m\u001b[0m\n\u001b[0m",
      "\u001b[1;31mModuleNotFoundError\u001b[0m: No module named 'torch'"
     ]
    }
   ],
   "source": [
    "# Loop\n",
    "import torch\n",
    "import torch.nn as nn\n",
    "\n",
    "def create_model(trial, in_size):\n",
    "    n_layers = trial.suggest_int('n_layers', 1, 3)\n",
    "    \n",
    "    layers = []\n",
    "    for i in range(n_layers):\n",
    "        n_units : trial.suggest_int('n_units_l{}'.format(i), 4, 128, log = True)\n",
    "        layers.append(nn.Linear(in_size, n_units))\n",
    "        layers.append(nn.ReLU())\n",
    "        in_size = n_units\n",
    "        \n",
    "    layers.append(nn.Linear(in_size, 10))\n",
    "    \n",
    "    return nn.Sequential(*layers)"
   ]
  },
  {
   "cell_type": "markdown",
   "id": "e3f2a963-f3c6-4b5b-b22c-ffa2a294310a",
   "metadata": {},
   "source": [
    "- 최적화의 난이도는 파라미터의 수에 `Exponential`하게 증가함. \n",
    "- 따라서 중요하지 않은 파라미터는 제외하는 것이 좋다."
   ]
  },
  {
   "cell_type": "code",
   "execution_count": null,
   "id": "3c2c2d46-1121-42ad-8ceb-9c3af37a8747",
   "metadata": {},
   "outputs": [],
   "source": []
  }
 ],
 "metadata": {
  "kernelspec": {
   "display_name": "Python 3 (ipykernel)",
   "language": "python",
   "name": "python3"
  },
  "language_info": {
   "codemirror_mode": {
    "name": "ipython",
    "version": 3
   },
   "file_extension": ".py",
   "mimetype": "text/x-python",
   "name": "python",
   "nbconvert_exporter": "python",
   "pygments_lexer": "ipython3",
   "version": "3.9.13"
  }
 },
 "nbformat": 4,
 "nbformat_minor": 5
}
