{
 "cells": [
  {
   "cell_type": "markdown",
   "id": "5d433ae6-f04d-474b-8d10-c509bf235acb",
   "metadata": {},
   "source": [
    "# 하이퍼파라미터 최적화 후 재평가할 필요가 있다"
   ]
  },
  {
   "cell_type": "markdown",
   "id": "93a5238c-7747-4eb2-90c0-5b303c4877e4",
   "metadata": {},
   "source": [
    "- 예시\n",
    "    1. 좋은 하이퍼파라미터를 찾음 -> 결과를 분석하기 위해 가장 좋은 하이퍼파라미터로 목적함수 실행\n",
    "    2. Train 시간을 줄이기 위해 부분 데이터 세트로 하이퍼파라미터 값을 찾은 뒤 전체 데이터세트를 이용할 경우\n",
    "    \n",
    "- `best_trial`은 가장 좋은 하이퍼파라미토로 목적함수를 재평가하는 데 쓸 수 있다.\n",
    "- 이 예제는 예시 1.의 케이스를 따라감"
   ]
  },
  {
   "cell_type": "code",
   "execution_count": 2,
   "id": "d980cc81-aa5c-4aeb-9672-5f3d9e022feb",
   "metadata": {},
   "outputs": [
    {
     "name": "stderr",
     "output_type": "stream",
     "text": [
      "\u001b[32m[I 2022-12-12 16:29:54,378]\u001b[0m A new study created in memory with name: no-name-992c27b0-4fb8-429a-94ca-5e19a936df00\u001b[0m\n",
      "\u001b[32m[I 2022-12-12 16:29:54,396]\u001b[0m Trial 0 finished with value: 0.44 and parameters: {'C': 3.850703502055514e-07}. Best is trial 0 with value: 0.44.\u001b[0m\n",
      "\u001b[32m[I 2022-12-12 16:29:54,407]\u001b[0m Trial 1 finished with value: 0.44 and parameters: {'C': 0.00011418652512111388}. Best is trial 0 with value: 0.44.\u001b[0m\n",
      "\u001b[32m[I 2022-12-12 16:29:54,419]\u001b[0m Trial 2 finished with value: 0.92 and parameters: {'C': 0.9328850130551871}. Best is trial 2 with value: 0.92.\u001b[0m\n",
      "\u001b[32m[I 2022-12-12 16:29:54,429]\u001b[0m Trial 3 finished with value: 0.92 and parameters: {'C': 0.7834705892070642}. Best is trial 2 with value: 0.92.\u001b[0m\n",
      "\u001b[32m[I 2022-12-12 16:29:54,442]\u001b[0m Trial 4 finished with value: 0.88 and parameters: {'C': 0.006448574593019414}. Best is trial 2 with value: 0.92.\u001b[0m\n",
      "\u001b[32m[I 2022-12-12 16:29:54,460]\u001b[0m Trial 5 finished with value: 0.88 and parameters: {'C': 0.008282547274306785}. Best is trial 2 with value: 0.92.\u001b[0m\n",
      "\u001b[32m[I 2022-12-12 16:29:54,478]\u001b[0m Trial 6 finished with value: 0.44 and parameters: {'C': 7.318802284216029e-07}. Best is trial 2 with value: 0.92.\u001b[0m\n",
      "\u001b[32m[I 2022-12-12 16:29:54,494]\u001b[0m Trial 7 finished with value: 0.44 and parameters: {'C': 2.1302116958024855e-07}. Best is trial 2 with value: 0.92.\u001b[0m\n",
      "\u001b[32m[I 2022-12-12 16:29:54,507]\u001b[0m Trial 8 finished with value: 0.92 and parameters: {'C': 0.7605993368370746}. Best is trial 2 with value: 0.92.\u001b[0m\n",
      "\u001b[32m[I 2022-12-12 16:29:54,521]\u001b[0m Trial 9 finished with value: 0.88 and parameters: {'C': 0.02797689959667602}. Best is trial 2 with value: 0.92.\u001b[0m\n"
     ]
    },
    {
     "name": "stdout",
     "output_type": "stream",
     "text": [
      "0.92\n"
     ]
    }
   ],
   "source": [
    "from sklearn import metrics\n",
    "from sklearn.datasets import make_classification\n",
    "from sklearn.linear_model import LogisticRegression\n",
    "from sklearn.model_selection import train_test_split\n",
    "\n",
    "import optuna\n",
    "\n",
    "def objective(trial):\n",
    "    X, y = make_classification(n_features = 10, random_state = 1)\n",
    "    X_train, X_test, y_train, y_test = train_test_split(X, y, random_state = 1)\n",
    "    \n",
    "    C = trial.suggest_float('C', 1e-7, 10.0, log = True)\n",
    "    \n",
    "    clf = LogisticRegression(C = C)\n",
    "    clf.fit(X_train, y_train)\n",
    "    \n",
    "    return clf.score(X_test, y_test)\n",
    "\n",
    "study = optuna.create_study(direction = 'maximize')\n",
    "study.optimize(objective, n_trials = 10)\n",
    "\n",
    "print(study.best_trial.value)"
   ]
  },
  {
   "cell_type": "markdown",
   "id": "6026e49d-c172-4a6a-acad-f589dcdabac1",
   "metadata": {},
   "source": [
    "HPO 후, 같은 데이터세트에서 Recall, Precision, f1-score 등의 평가 지표를 계산한다고 가정한다. 이 때, 대부분의 요소를 공유하는 **또다른 목적함수를 정의**하여 모델을 재현할 수 있다."
   ]
  },
  {
   "cell_type": "code",
   "execution_count": 3,
   "id": "8a0e99f4-d97e-4962-abae-f1c29e06e580",
   "metadata": {},
   "outputs": [],
   "source": [
    "def detailed_objective(trial):\n",
    "    X, y = make_classification(n_features = 10, random_state = 1)\n",
    "    X_train, X_test, y_train, y_test = train_test_split(X, y, random_state = 1)\n",
    "    \n",
    "    C = trial.suggest_float('C', 1e-7, 10.0, log = True)\n",
    "    \n",
    "    clf = LogisticRegression(C = C)\n",
    "    clf.fit(X_train, y_train)\n",
    "    \n",
    "    # 다른 지표들 계산하기\n",
    "    pred = clf.predict(X_test)\n",
    "    \n",
    "    acc = metrics.accuracy_score(pred, y_test)\n",
    "    recall = metrics.recall_score(pred, y_test)\n",
    "    precision = metrics.precision_score(pred, y_test)\n",
    "    f1 = metrics.f1_score(pred, y_test)\n",
    "    \n",
    "    return acc, f1, recall, precision"
   ]
  },
  {
   "cell_type": "code",
   "execution_count": 4,
   "id": "9ea2764e-1313-43d0-9a1c-eb8d5a41b230",
   "metadata": {},
   "outputs": [
    {
     "data": {
      "text/plain": [
       "(0.92, 0.9285714285714286, 0.9285714285714286, 0.9285714285714286)"
      ]
     },
     "execution_count": 4,
     "metadata": {},
     "output_type": "execute_result"
    }
   ],
   "source": [
    "detailed_objective(study.best_trial) # acc, f1, recall, precision"
   ]
  },
  {
   "cell_type": "markdown",
   "id": "6e0ea592-d239-4fbd-b128-5b058074bb96",
   "metadata": {},
   "source": [
    "## `best_trial`과 `Ordinal Trials`의 차이점\n",
    "- `best_trial`은 `FrozenTrial`을 반환한다 : `FrozenTrial`은 특정 상황에선 `Trial`과 다르게 반응한다.\n",
    "    - 예를 들면 Pruning은 `should_prune`이 항상 False이기 때문에 작동하지 않음\n",
    "- 다목적함수의 경우, `best_trials`(s가 붙음) Pareto Front에서의 `FrozenTrial`의 리스트를 반환한다"
   ]
  },
  {
   "cell_type": "code",
   "execution_count": null,
   "id": "a3a0e1d0-4e8c-4636-9b03-55a880dd2111",
   "metadata": {},
   "outputs": [],
   "source": []
  }
 ],
 "metadata": {
  "kernelspec": {
   "display_name": "Python 3 (ipykernel)",
   "language": "python",
   "name": "python3"
  },
  "language_info": {
   "codemirror_mode": {
    "name": "ipython",
    "version": 3
   },
   "file_extension": ".py",
   "mimetype": "text/x-python",
   "name": "python",
   "nbconvert_exporter": "python",
   "pygments_lexer": "ipython3",
   "version": "3.9.13"
  }
 },
 "nbformat": 4,
 "nbformat_minor": 5
}
