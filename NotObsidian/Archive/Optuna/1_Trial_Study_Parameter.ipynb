{
 "cells": [
  {
   "cell_type": "code",
   "execution_count": 3,
   "id": "42d230f6-1d52-4d77-b65a-6bf91df1fde7",
   "metadata": {},
   "outputs": [],
   "source": [
    "import optuna"
   ]
  },
  {
   "cell_type": "markdown",
   "id": "6f7d27b8-a4c5-4bd5-acbb-7c912f71e94b",
   "metadata": {},
   "source": [
    "- `objective`의 목표는 아웃풋을 최소화하는 값을 찾는 것임 : 이를 `Optimization`이라고 함\n",
    "- `Optimization` 동안 `Optuna`는 다른 x로 반복적으로 함수를 호출하고 평가함"
   ]
  },
  {
   "cell_type": "code",
   "execution_count": 1,
   "id": "ee647aa9-78d0-4f34-9d24-509dff8cc605",
   "metadata": {
    "tags": []
   },
   "outputs": [],
   "source": [
    "def objective(trial):\n",
    "    x = trial.suggest_float(\"x\", -10, 10)\n",
    "    return (x - 2) ** 2"
   ]
  },
  {
   "cell_type": "markdown",
   "id": "a4ca939c-c66e-4ed1-9cb1-7ec83714431c",
   "metadata": {},
   "source": [
    "- `Trial` Object : 목적 함수의 단일 개체, 함수를 호출할 때마다 반복적으로 인스턴스화 된다.\n",
    "\n",
    "- `Suggest` API : 위 예시에서 `suggest_float` API는 주어진 범위의 x 값들을 호출함"
   ]
  },
  {
   "cell_type": "code",
   "execution_count": 4,
   "id": "1bb2fafb-1f4e-4b7f-b47d-8d855f63bb0d",
   "metadata": {
    "collapsed": true,
    "jupyter": {
     "outputs_hidden": true
    },
    "tags": []
   },
   "outputs": [
    {
     "name": "stderr",
     "output_type": "stream",
     "text": [
      "\u001b[32m[I 2022-12-10 15:10:13,995]\u001b[0m A new study created in memory with name: no-name-f69dda43-6634-47c6-9c4f-ca596e6e2ade\u001b[0m\n",
      "\u001b[32m[I 2022-12-10 15:10:14,012]\u001b[0m Trial 0 finished with value: 125.96841935827479 and parameters: {'x': -9.223565358578119}. Best is trial 0 with value: 125.96841935827479.\u001b[0m\n",
      "\u001b[32m[I 2022-12-10 15:10:14,014]\u001b[0m Trial 1 finished with value: 2.178191188662092 and parameters: {'x': 3.475869638098871}. Best is trial 1 with value: 2.178191188662092.\u001b[0m\n",
      "\u001b[32m[I 2022-12-10 15:10:14,017]\u001b[0m Trial 2 finished with value: 57.731745255028606 and parameters: {'x': -5.598140907816109}. Best is trial 1 with value: 2.178191188662092.\u001b[0m\n",
      "\u001b[32m[I 2022-12-10 15:10:14,022]\u001b[0m Trial 3 finished with value: 25.494686671733128 and parameters: {'x': 7.049226343880132}. Best is trial 1 with value: 2.178191188662092.\u001b[0m\n",
      "\u001b[32m[I 2022-12-10 15:10:14,026]\u001b[0m Trial 4 finished with value: 60.604505864641126 and parameters: {'x': -5.784889585899156}. Best is trial 1 with value: 2.178191188662092.\u001b[0m\n",
      "\u001b[32m[I 2022-12-10 15:10:14,029]\u001b[0m Trial 5 finished with value: 110.49564916290544 and parameters: {'x': -8.511691070560694}. Best is trial 1 with value: 2.178191188662092.\u001b[0m\n",
      "\u001b[32m[I 2022-12-10 15:10:14,033]\u001b[0m Trial 6 finished with value: 1.9464067689643327 and parameters: {'x': 3.395136828043878}. Best is trial 6 with value: 1.9464067689643327.\u001b[0m\n",
      "\u001b[32m[I 2022-12-10 15:10:14,037]\u001b[0m Trial 7 finished with value: 2.0716058631927434 and parameters: {'x': 3.4393074248376347}. Best is trial 6 with value: 1.9464067689643327.\u001b[0m\n",
      "\u001b[32m[I 2022-12-10 15:10:14,041]\u001b[0m Trial 8 finished with value: 85.7435788176966 and parameters: {'x': -7.259782870980107}. Best is trial 6 with value: 1.9464067689643327.\u001b[0m\n",
      "\u001b[32m[I 2022-12-10 15:10:14,049]\u001b[0m Trial 9 finished with value: 0.16689697597400846 and parameters: {'x': 2.408530263229064}. Best is trial 9 with value: 0.16689697597400846.\u001b[0m\n",
      "\u001b[32m[I 2022-12-10 15:10:14,075]\u001b[0m Trial 10 finished with value: 12.00805732368855 and parameters: {'x': -1.465264394485441}. Best is trial 9 with value: 0.16689697597400846.\u001b[0m\n",
      "\u001b[32m[I 2022-12-10 15:10:14,093]\u001b[0m Trial 11 finished with value: 2.7146029039343444 and parameters: {'x': 0.3523947973090325}. Best is trial 9 with value: 0.16689697597400846.\u001b[0m\n",
      "\u001b[32m[I 2022-12-10 15:10:14,106]\u001b[0m Trial 12 finished with value: 62.672961958536774 and parameters: {'x': 9.916625667450544}. Best is trial 9 with value: 0.16689697597400846.\u001b[0m\n",
      "\u001b[32m[I 2022-12-10 15:10:14,123]\u001b[0m Trial 13 finished with value: 0.04920710530081183 and parameters: {'x': 2.2218267461349326}. Best is trial 13 with value: 0.04920710530081183.\u001b[0m\n",
      "\u001b[32m[I 2022-12-10 15:10:14,139]\u001b[0m Trial 14 finished with value: 6.313646692542834 and parameters: {'x': -0.5126970952629435}. Best is trial 13 with value: 0.04920710530081183.\u001b[0m\n",
      "\u001b[32m[I 2022-12-10 15:10:14,151]\u001b[0m Trial 15 finished with value: 17.28511184282178 and parameters: {'x': 6.157536751830557}. Best is trial 13 with value: 0.04920710530081183.\u001b[0m\n",
      "\u001b[32m[I 2022-12-10 15:10:14,166]\u001b[0m Trial 16 finished with value: 20.25767472703831 and parameters: {'x': -2.5008526666664297}. Best is trial 13 with value: 0.04920710530081183.\u001b[0m\n",
      "\u001b[32m[I 2022-12-10 15:10:14,183]\u001b[0m Trial 17 finished with value: 1.6001373805900305 and parameters: {'x': 0.7350346326519328}. Best is trial 13 with value: 0.04920710530081183.\u001b[0m\n",
      "\u001b[32m[I 2022-12-10 15:10:14,197]\u001b[0m Trial 18 finished with value: 29.46126702450753 and parameters: {'x': -3.427823415007855}. Best is trial 13 with value: 0.04920710530081183.\u001b[0m\n",
      "\u001b[32m[I 2022-12-10 15:10:14,214]\u001b[0m Trial 19 finished with value: 0.01946660490564684 and parameters: {'x': 1.8604772244196424}. Best is trial 19 with value: 0.01946660490564684.\u001b[0m\n",
      "\u001b[32m[I 2022-12-10 15:10:14,231]\u001b[0m Trial 20 finished with value: 13.1568971074878 and parameters: {'x': 5.62724373422683}. Best is trial 19 with value: 0.01946660490564684.\u001b[0m\n",
      "\u001b[32m[I 2022-12-10 15:10:14,245]\u001b[0m Trial 21 finished with value: 0.05108470985668043 and parameters: {'x': 1.7739807312270026}. Best is trial 19 with value: 0.01946660490564684.\u001b[0m\n",
      "\u001b[32m[I 2022-12-10 15:10:14,258]\u001b[0m Trial 22 finished with value: 0.19326531212044268 and parameters: {'x': 1.5603804916516526}. Best is trial 19 with value: 0.01946660490564684.\u001b[0m\n",
      "\u001b[32m[I 2022-12-10 15:10:14,281]\u001b[0m Trial 23 finished with value: 9.584049149066578 and parameters: {'x': 5.095811549346403}. Best is trial 19 with value: 0.01946660490564684.\u001b[0m\n",
      "\u001b[32m[I 2022-12-10 15:10:14,302]\u001b[0m Trial 24 finished with value: 35.48067070255483 and parameters: {'x': 7.956565344437584}. Best is trial 19 with value: 0.01946660490564684.\u001b[0m\n",
      "\u001b[32m[I 2022-12-10 15:10:14,317]\u001b[0m Trial 25 finished with value: 8.862035836428866 and parameters: {'x': -0.9769171698972188}. Best is trial 19 with value: 0.01946660490564684.\u001b[0m\n",
      "\u001b[32m[I 2022-12-10 15:10:14,333]\u001b[0m Trial 26 finished with value: 0.03360629172832723 and parameters: {'x': 2.1833201890909106}. Best is trial 19 with value: 0.01946660490564684.\u001b[0m\n",
      "\u001b[32m[I 2022-12-10 15:10:14,347]\u001b[0m Trial 27 finished with value: 7.730118582191361 and parameters: {'x': 4.78030908033466}. Best is trial 19 with value: 0.01946660490564684.\u001b[0m\n",
      "\u001b[32m[I 2022-12-10 15:10:14,365]\u001b[0m Trial 28 finished with value: 30.646608227600005 and parameters: {'x': -3.535937881479524}. Best is trial 19 with value: 0.01946660490564684.\u001b[0m\n",
      "\u001b[32m[I 2022-12-10 15:10:14,383]\u001b[0m Trial 29 finished with value: 0.26355089469325604 and parameters: {'x': 2.5133720821132135}. Best is trial 19 with value: 0.01946660490564684.\u001b[0m\n",
      "\u001b[32m[I 2022-12-10 15:10:14,400]\u001b[0m Trial 30 finished with value: 1.6764953347425975 and parameters: {'x': 0.7052045201103776}. Best is trial 19 with value: 0.01946660490564684.\u001b[0m\n",
      "\u001b[32m[I 2022-12-10 15:10:14,415]\u001b[0m Trial 31 finished with value: 0.051208728955801315 and parameters: {'x': 1.7737065423928449}. Best is trial 19 with value: 0.01946660490564684.\u001b[0m\n",
      "\u001b[32m[I 2022-12-10 15:10:14,431]\u001b[0m Trial 32 finished with value: 4.672696041809234 and parameters: {'x': 4.16164197817521}. Best is trial 19 with value: 0.01946660490564684.\u001b[0m\n",
      "\u001b[32m[I 2022-12-10 15:10:14,445]\u001b[0m Trial 33 finished with value: 15.378602064725678 and parameters: {'x': -1.921556076957931}. Best is trial 19 with value: 0.01946660490564684.\u001b[0m\n",
      "\u001b[32m[I 2022-12-10 15:10:14,463]\u001b[0m Trial 34 finished with value: 0.49496156139544795 and parameters: {'x': 2.7035350463164205}. Best is trial 19 with value: 0.01946660490564684.\u001b[0m\n",
      "\u001b[32m[I 2022-12-10 15:10:14,481]\u001b[0m Trial 35 finished with value: 1.0097381190393526 and parameters: {'x': 0.995142736982335}. Best is trial 19 with value: 0.01946660490564684.\u001b[0m\n",
      "\u001b[32m[I 2022-12-10 15:10:14,495]\u001b[0m Trial 36 finished with value: 30.955526745298993 and parameters: {'x': 7.563769113227021}. Best is trial 19 with value: 0.01946660490564684.\u001b[0m\n",
      "\u001b[32m[I 2022-12-10 15:10:14,511]\u001b[0m Trial 37 finished with value: 3.2619633657783567 and parameters: {'x': 3.8060906305549445}. Best is trial 19 with value: 0.01946660490564684.\u001b[0m\n",
      "\u001b[32m[I 2022-12-10 15:10:14,526]\u001b[0m Trial 38 finished with value: 5.809745886047841 and parameters: {'x': -0.41034144594657795}. Best is trial 19 with value: 0.01946660490564684.\u001b[0m\n",
      "\u001b[32m[I 2022-12-10 15:10:14,542]\u001b[0m Trial 39 finished with value: 22.22139263622914 and parameters: {'x': 6.713957216206904}. Best is trial 19 with value: 0.01946660490564684.\u001b[0m\n",
      "\u001b[32m[I 2022-12-10 15:10:14,557]\u001b[0m Trial 40 finished with value: 0.0032820087699216914 and parameters: {'x': 1.9427111811090358}. Best is trial 40 with value: 0.0032820087699216914.\u001b[0m\n",
      "\u001b[32m[I 2022-12-10 15:10:14,574]\u001b[0m Trial 41 finished with value: 0.05823114833950413 and parameters: {'x': 1.7586886899884215}. Best is trial 40 with value: 0.0032820087699216914.\u001b[0m\n",
      "\u001b[32m[I 2022-12-10 15:10:14,592]\u001b[0m Trial 42 finished with value: 1.0235932867197273 and parameters: {'x': 3.0117278718705576}. Best is trial 40 with value: 0.0032820087699216914.\u001b[0m\n",
      "\u001b[32m[I 2022-12-10 15:10:14,611]\u001b[0m Trial 43 finished with value: 6.32236914628874 and parameters: {'x': 4.514432171741513}. Best is trial 40 with value: 0.0032820087699216914.\u001b[0m\n",
      "\u001b[32m[I 2022-12-10 15:10:14,627]\u001b[0m Trial 44 finished with value: 4.029719724662447 and parameters: {'x': -0.007416181229604302}. Best is trial 40 with value: 0.0032820087699216914.\u001b[0m\n",
      "\u001b[32m[I 2022-12-10 15:10:14,644]\u001b[0m Trial 45 finished with value: 0.039067670789699735 and parameters: {'x': 1.8023445654941415}. Best is trial 40 with value: 0.0032820087699216914.\u001b[0m\n",
      "\u001b[32m[I 2022-12-10 15:10:14,662]\u001b[0m Trial 46 finished with value: 2.3213850494079598 and parameters: {'x': 3.5236092180765906}. Best is trial 40 with value: 0.0032820087699216914.\u001b[0m\n",
      "\u001b[32m[I 2022-12-10 15:10:14,678]\u001b[0m Trial 47 finished with value: 0.2798463011092967 and parameters: {'x': 2.529005010476552}. Best is trial 40 with value: 0.0032820087699216914.\u001b[0m\n",
      "\u001b[32m[I 2022-12-10 15:10:14,701]\u001b[0m Trial 48 finished with value: 3.2949871748835484 and parameters: {'x': 0.18479004661070997}. Best is trial 40 with value: 0.0032820087699216914.\u001b[0m\n",
      "\u001b[32m[I 2022-12-10 15:10:14,720]\u001b[0m Trial 49 finished with value: 10.238168167068993 and parameters: {'x': -1.1997137633027415}. Best is trial 40 with value: 0.0032820087699216914.\u001b[0m\n",
      "\u001b[32m[I 2022-12-10 15:10:14,741]\u001b[0m Trial 50 finished with value: 22.470795443831655 and parameters: {'x': -2.740337060150011}. Best is trial 40 with value: 0.0032820087699216914.\u001b[0m\n",
      "\u001b[32m[I 2022-12-10 15:10:14,761]\u001b[0m Trial 51 finished with value: 0.11078690731002792 and parameters: {'x': 1.6671533276266264}. Best is trial 40 with value: 0.0032820087699216914.\u001b[0m\n",
      "\u001b[32m[I 2022-12-10 15:10:14,781]\u001b[0m Trial 52 finished with value: 0.7072358035368194 and parameters: {'x': 1.159026871097049}. Best is trial 40 with value: 0.0032820087699216914.\u001b[0m\n",
      "\u001b[32m[I 2022-12-10 15:10:14,803]\u001b[0m Trial 53 finished with value: 0.00988729200317471 and parameters: {'x': 2.099434863117393}. Best is trial 40 with value: 0.0032820087699216914.\u001b[0m\n",
      "\u001b[32m[I 2022-12-10 15:10:14,825]\u001b[0m Trial 54 finished with value: 127.04244785453876 and parameters: {'x': -9.271310831244907}. Best is trial 40 with value: 0.0032820087699216914.\u001b[0m\n",
      "\u001b[32m[I 2022-12-10 15:10:14,848]\u001b[0m Trial 55 finished with value: 2.2783222902762637 and parameters: {'x': 3.509411239615057}. Best is trial 40 with value: 0.0032820087699216914.\u001b[0m\n",
      "\u001b[32m[I 2022-12-10 15:10:14,866]\u001b[0m Trial 56 finished with value: 10.583195053850316 and parameters: {'x': 5.2531822964368775}. Best is trial 40 with value: 0.0032820087699216914.\u001b[0m\n",
      "\u001b[32m[I 2022-12-10 15:10:14,884]\u001b[0m Trial 57 finished with value: 0.04076686471853595 and parameters: {'x': 2.2019080600633267}. Best is trial 40 with value: 0.0032820087699216914.\u001b[0m\n",
      "\u001b[32m[I 2022-12-10 15:10:14,917]\u001b[0m Trial 58 finished with value: 5.4702680945103666 and parameters: {'x': -0.33886042647062764}. Best is trial 40 with value: 0.0032820087699216914.\u001b[0m\n",
      "\u001b[32m[I 2022-12-10 15:10:14,933]\u001b[0m Trial 59 finished with value: 52.93753058718098 and parameters: {'x': -5.275818207403273}. Best is trial 40 with value: 0.0032820087699216914.\u001b[0m\n",
      "\u001b[32m[I 2022-12-10 15:10:14,953]\u001b[0m Trial 60 finished with value: 1.3737792981831909 and parameters: {'x': 3.1720833153761685}. Best is trial 40 with value: 0.0032820087699216914.\u001b[0m\n",
      "\u001b[32m[I 2022-12-10 15:10:14,968]\u001b[0m Trial 61 finished with value: 0.05708031275551914 and parameters: {'x': 2.2389148650785864}. Best is trial 40 with value: 0.0032820087699216914.\u001b[0m\n",
      "\u001b[32m[I 2022-12-10 15:10:14,989]\u001b[0m Trial 62 finished with value: 0.9093967944326313 and parameters: {'x': 1.0463770166189201}. Best is trial 40 with value: 0.0032820087699216914.\u001b[0m\n",
      "\u001b[32m[I 2022-12-10 15:10:15,007]\u001b[0m Trial 63 finished with value: 4.821725363590858 and parameters: {'x': 4.195842745642515}. Best is trial 40 with value: 0.0032820087699216914.\u001b[0m\n",
      "\u001b[32m[I 2022-12-10 15:10:15,022]\u001b[0m Trial 64 finished with value: 0.043341638243256396 and parameters: {'x': 2.208186546739352}. Best is trial 40 with value: 0.0032820087699216914.\u001b[0m\n",
      "\u001b[32m[I 2022-12-10 15:10:15,035]\u001b[0m Trial 65 finished with value: 2.529018870060352 and parameters: {'x': 0.4097110734019582}. Best is trial 40 with value: 0.0032820087699216914.\u001b[0m\n",
      "\u001b[32m[I 2022-12-10 15:10:15,051]\u001b[0m Trial 66 finished with value: 0.031565619011228736 and parameters: {'x': 2.177667157942116}. Best is trial 40 with value: 0.0032820087699216914.\u001b[0m\n",
      "\u001b[32m[I 2022-12-10 15:10:15,066]\u001b[0m Trial 67 finished with value: 0.4885223108488322 and parameters: {'x': 1.3010562892129065}. Best is trial 40 with value: 0.0032820087699216914.\u001b[0m\n",
      "\u001b[32m[I 2022-12-10 15:10:15,077]\u001b[0m Trial 68 finished with value: 0.9307276787249481 and parameters: {'x': 2.964742286170223}. Best is trial 40 with value: 0.0032820087699216914.\u001b[0m\n",
      "\u001b[32m[I 2022-12-10 15:10:15,087]\u001b[0m Trial 69 finished with value: 4.505136164043246 and parameters: {'x': 4.122530603794265}. Best is trial 40 with value: 0.0032820087699216914.\u001b[0m\n",
      "\u001b[32m[I 2022-12-10 15:10:15,096]\u001b[0m Trial 70 finished with value: 15.372459228834492 and parameters: {'x': 5.9207727846477525}. Best is trial 40 with value: 0.0032820087699216914.\u001b[0m\n",
      "\u001b[32m[I 2022-12-10 15:10:15,107]\u001b[0m Trial 71 finished with value: 0.037630906086255855 and parameters: {'x': 2.1939868709120693}. Best is trial 40 with value: 0.0032820087699216914.\u001b[0m\n",
      "\u001b[32m[I 2022-12-10 15:10:15,116]\u001b[0m Trial 72 finished with value: 0.002944392495428945 and parameters: {'x': 1.9457377433621772}. Best is trial 72 with value: 0.002944392495428945.\u001b[0m\n",
      "\u001b[32m[I 2022-12-10 15:10:15,128]\u001b[0m Trial 73 finished with value: 1.9844299236623564 and parameters: {'x': 0.5913020466890866}. Best is trial 72 with value: 0.002944392495428945.\u001b[0m\n",
      "\u001b[32m[I 2022-12-10 15:10:15,142]\u001b[0m Trial 74 finished with value: 0.8015201182943548 and parameters: {'x': 2.8952765596698904}. Best is trial 72 with value: 0.002944392495428945.\u001b[0m\n",
      "\u001b[32m[I 2022-12-10 15:10:15,155]\u001b[0m Trial 75 finished with value: 0.14430857539408976 and parameters: {'x': 1.6201203145809324}. Best is trial 72 with value: 0.002944392495428945.\u001b[0m\n",
      "\u001b[32m[I 2022-12-10 15:10:15,177]\u001b[0m Trial 76 finished with value: 6.893614614472841 and parameters: {'x': -0.62556938862275}. Best is trial 72 with value: 0.002944392495428945.\u001b[0m\n",
      "\u001b[32m[I 2022-12-10 15:10:15,192]\u001b[0m Trial 77 finished with value: 3.130911729599824 and parameters: {'x': 3.769438252553568}. Best is trial 72 with value: 0.002944392495428945.\u001b[0m\n",
      "\u001b[32m[I 2022-12-10 15:10:15,203]\u001b[0m Trial 78 finished with value: 0.012820246107076346 and parameters: {'x': 2.1132265256336886}. Best is trial 72 with value: 0.002944392495428945.\u001b[0m\n",
      "\u001b[32m[I 2022-12-10 15:10:15,214]\u001b[0m Trial 79 finished with value: 1.2090137433766337 and parameters: {'x': 0.9004483898531029}. Best is trial 72 with value: 0.002944392495428945.\u001b[0m\n",
      "\u001b[32m[I 2022-12-10 15:10:15,229]\u001b[0m Trial 80 finished with value: 142.23949886625616 and parameters: {'x': -9.926420203324053}. Best is trial 72 with value: 0.002944392495428945.\u001b[0m\n",
      "\u001b[32m[I 2022-12-10 15:10:15,241]\u001b[0m Trial 81 finished with value: 0.05243277512723683 and parameters: {'x': 2.228982041058326}. Best is trial 72 with value: 0.002944392495428945.\u001b[0m\n",
      "\u001b[32m[I 2022-12-10 15:10:15,251]\u001b[0m Trial 82 finished with value: 0.028546950897649994 and parameters: {'x': 1.8310415705043102}. Best is trial 72 with value: 0.002944392495428945.\u001b[0m\n",
      "\u001b[32m[I 2022-12-10 15:10:15,266]\u001b[0m Trial 83 finished with value: 0.4652399981386771 and parameters: {'x': 2.68208503732209}. Best is trial 72 with value: 0.002944392495428945.\u001b[0m\n",
      "\u001b[32m[I 2022-12-10 15:10:15,276]\u001b[0m Trial 84 finished with value: 3.8213804213090086 and parameters: {'x': 0.045164860836339304}. Best is trial 72 with value: 0.002944392495428945.\u001b[0m\n",
      "\u001b[32m[I 2022-12-10 15:10:15,288]\u001b[0m Trial 85 finished with value: 1.409061696396227 and parameters: {'x': 3.1870390458600033}. Best is trial 72 with value: 0.002944392495428945.\u001b[0m\n",
      "\u001b[32m[I 2022-12-10 15:10:15,298]\u001b[0m Trial 86 finished with value: 0.3922591912541063 and parameters: {'x': 1.3736940114815233}. Best is trial 72 with value: 0.002944392495428945.\u001b[0m\n",
      "\u001b[32m[I 2022-12-10 15:10:15,308]\u001b[0m Trial 87 finished with value: 8.885191857941686 and parameters: {'x': 4.98080389457973}. Best is trial 72 with value: 0.002944392495428945.\u001b[0m\n",
      "\u001b[32m[I 2022-12-10 15:10:15,319]\u001b[0m Trial 88 finished with value: 1.5210185909613412 and parameters: {'x': 0.7667041754058596}. Best is trial 72 with value: 0.002944392495428945.\u001b[0m\n",
      "\u001b[32m[I 2022-12-10 15:10:15,329]\u001b[0m Trial 89 finished with value: 0.028893372935721646 and parameters: {'x': 1.8300194924830449}. Best is trial 72 with value: 0.002944392495428945.\u001b[0m\n",
      "\u001b[32m[I 2022-12-10 15:10:15,346]\u001b[0m Trial 90 finished with value: 0.045251347299168444 and parameters: {'x': 1.7872763593317178}. Best is trial 72 with value: 0.002944392495428945.\u001b[0m\n",
      "\u001b[32m[I 2022-12-10 15:10:15,362]\u001b[0m Trial 91 finished with value: 0.3654817824411209 and parameters: {'x': 2.6045508931770103}. Best is trial 72 with value: 0.002944392495428945.\u001b[0m\n",
      "\u001b[32m[I 2022-12-10 15:10:15,372]\u001b[0m Trial 92 finished with value: 0.001900773139998823 and parameters: {'x': 2.0435978570574154}. Best is trial 92 with value: 0.001900773139998823.\u001b[0m\n",
      "\u001b[32m[I 2022-12-10 15:10:15,382]\u001b[0m Trial 93 finished with value: 2.617832383119379 and parameters: {'x': 3.6179716879844896}. Best is trial 92 with value: 0.001900773139998823.\u001b[0m\n",
      "\u001b[32m[I 2022-12-10 15:10:15,393]\u001b[0m Trial 94 finished with value: 0.386711896631762 and parameters: {'x': 1.3781383621481689}. Best is trial 92 with value: 0.001900773139998823.\u001b[0m\n",
      "\u001b[32m[I 2022-12-10 15:10:15,405]\u001b[0m Trial 95 finished with value: 6.348322344526848 and parameters: {'x': 4.519587733048176}. Best is trial 92 with value: 0.001900773139998823.\u001b[0m\n",
      "\u001b[32m[I 2022-12-10 15:10:15,418]\u001b[0m Trial 96 finished with value: 60.58217514403188 and parameters: {'x': 9.783455218862114}. Best is trial 92 with value: 0.001900773139998823.\u001b[0m\n",
      "\u001b[32m[I 2022-12-10 15:10:15,430]\u001b[0m Trial 97 finished with value: 3.2419878626042133 and parameters: {'x': 0.19944790061375528}. Best is trial 92 with value: 0.001900773139998823.\u001b[0m\n",
      "\u001b[32m[I 2022-12-10 15:10:15,441]\u001b[0m Trial 98 finished with value: 0.02600967549632914 and parameters: {'x': 1.8387248453842653}. Best is trial 92 with value: 0.001900773139998823.\u001b[0m\n",
      "\u001b[32m[I 2022-12-10 15:10:15,455]\u001b[0m Trial 99 finished with value: 7.801024194587492 and parameters: {'x': -0.793031362979566}. Best is trial 92 with value: 0.001900773139998823.\u001b[0m\n"
     ]
    }
   ],
   "source": [
    "study = optuna.create_study()\n",
    "study.optimize(objective, n_trials=100)"
   ]
  },
  {
   "cell_type": "markdown",
   "id": "a4f98edc-f7df-4ec2-93b3-b6eab161da0b",
   "metadata": {
    "tags": []
   },
   "source": [
    "- 이를 머신러닝 모델에 적용한다면 위에 들어갈 함수는 손실 함수에 적용될 거임"
   ]
  },
  {
   "cell_type": "markdown",
   "id": "8394a847-06fc-4f8d-ad4b-78b1d0a1b1ca",
   "metadata": {},
   "source": [
    "- 가장 좋은 파라미터는 아래처럼 찾으면 됨"
   ]
  },
  {
   "cell_type": "code",
   "execution_count": 4,
   "id": "87947ccd-f7bf-4564-920e-4272968077c8",
   "metadata": {},
   "outputs": [
    {
     "name": "stdout",
     "output_type": "stream",
     "text": [
      "Found x: 1.9891459742559832, (x - 2)^2: 0.00011780987485178026\n"
     ]
    }
   ],
   "source": [
    "best_params = study.best_params\n",
    "found_x = best_params[\"x\"]\n",
    "print(\"Found x: {}, (x - 2)^2: {}\".format(found_x, (found_x - 2) ** 2))"
   ]
  },
  {
   "cell_type": "markdown",
   "id": "61cb1d91-5e28-4580-890f-4d446ca3aa11",
   "metadata": {},
   "source": [
    "## Study Object\n",
    "- 용어부터 정리해보자\n",
    "- `Trial` : 목적 함수의 단일 호출\n",
    "- `Study` : 최적화 과정에서 `Trial`들의 집합\n",
    "- `Parameter` : 위의 `x`처럼 최적화되는 대상"
   ]
  },
  {
   "cell_type": "code",
   "execution_count": 5,
   "id": "d18697d7-c125-4c38-9afc-a2cff68ad5dc",
   "metadata": {},
   "outputs": [
    {
     "data": {
      "text/plain": [
       "{'x': 2.0435978570574154}"
      ]
     },
     "execution_count": 5,
     "metadata": {},
     "output_type": "execute_result"
    }
   ],
   "source": [
    "# 가장 좋은 인풋값\n",
    "# 머신러닝이라면 하이퍼파라미터\n",
    "study.best_params"
   ]
  },
  {
   "cell_type": "code",
   "execution_count": 6,
   "id": "12c626ee-17b0-4a82-8c48-73a6c9a02a4e",
   "metadata": {},
   "outputs": [
    {
     "data": {
      "text/plain": [
       "0.001900773139998823"
      ]
     },
     "execution_count": 6,
     "metadata": {},
     "output_type": "execute_result"
    }
   ],
   "source": [
    "# 가장 좋은 아웃풋 값\n",
    "# 머신러닝에서는 손실함수\n",
    "study.best_value"
   ]
  },
  {
   "cell_type": "code",
   "execution_count": 7,
   "id": "85f54d25-b8a0-4b4e-b725-7170b7165944",
   "metadata": {},
   "outputs": [
    {
     "data": {
      "text/plain": [
       "FrozenTrial(number=92, values=[0.001900773139998823], datetime_start=datetime.datetime(2022, 12, 10, 15, 10, 15, 363429), datetime_complete=datetime.datetime(2022, 12, 10, 15, 10, 15, 371845), params={'x': 2.0435978570574154}, distributions={'x': FloatDistribution(high=10.0, log=False, low=-10.0, step=None)}, user_attrs={}, system_attrs={}, intermediate_values={}, trial_id=92, state=TrialState.COMPLETE, value=None)"
      ]
     },
     "execution_count": 7,
     "metadata": {},
     "output_type": "execute_result"
    }
   ],
   "source": [
    "study.best_trial"
   ]
  },
  {
   "cell_type": "code",
   "execution_count": 9,
   "id": "a4cd7aa3-0812-4999-8dda-afd9f7c5e2ef",
   "metadata": {},
   "outputs": [
    {
     "data": {
      "text/plain": [
       "100"
      ]
     },
     "execution_count": 9,
     "metadata": {},
     "output_type": "execute_result"
    }
   ],
   "source": [
    "# 모든 시도 얻기\n",
    "study.trials\n",
    "len(study.trials)"
   ]
  },
  {
   "cell_type": "markdown",
   "id": "d491308d-dba9-4e17-90fc-2bc9fb355512",
   "metadata": {},
   "source": [
    "- **최적화를 나눠서 진행할 수 있음!**"
   ]
  },
  {
   "cell_type": "code",
   "execution_count": 11,
   "id": "227b7dae-db20-46e5-8aed-61ff9b0c1ed0",
   "metadata": {
    "collapsed": true,
    "jupyter": {
     "outputs_hidden": true
    },
    "tags": []
   },
   "outputs": [
    {
     "name": "stderr",
     "output_type": "stream",
     "text": [
      "\u001b[32m[I 2022-12-10 15:15:30,577]\u001b[0m Trial 200 finished with value: 1.2369624702087731 and parameters: {'x': 0.8878118548515395}. Best is trial 191 with value: 7.07140342396479e-06.\u001b[0m\n",
      "\u001b[32m[I 2022-12-10 15:15:30,597]\u001b[0m Trial 201 finished with value: 0.003244987366029144 and parameters: {'x': 1.9430352094181929}. Best is trial 191 with value: 7.07140342396479e-06.\u001b[0m\n",
      "\u001b[32m[I 2022-12-10 15:15:30,615]\u001b[0m Trial 202 finished with value: 1.1475063513985287e-06 and parameters: {'x': 1.9989287827711437}. Best is trial 202 with value: 1.1475063513985287e-06.\u001b[0m\n",
      "\u001b[32m[I 2022-12-10 15:15:30,637]\u001b[0m Trial 203 finished with value: 51.8263757342294 and parameters: {'x': -5.199053808260458}. Best is trial 202 with value: 1.1475063513985287e-06.\u001b[0m\n",
      "\u001b[32m[I 2022-12-10 15:15:30,660]\u001b[0m Trial 204 finished with value: 0.06768092828086354 and parameters: {'x': 2.2601555847581665}. Best is trial 202 with value: 1.1475063513985287e-06.\u001b[0m\n",
      "\u001b[32m[I 2022-12-10 15:15:30,677]\u001b[0m Trial 205 finished with value: 0.11693776015594158 and parameters: {'x': 1.6580383644969197}. Best is trial 202 with value: 1.1475063513985287e-06.\u001b[0m\n",
      "\u001b[32m[I 2022-12-10 15:15:30,694]\u001b[0m Trial 206 finished with value: 0.4675027495227683 and parameters: {'x': 2.683741727206091}. Best is trial 202 with value: 1.1475063513985287e-06.\u001b[0m\n",
      "\u001b[32m[I 2022-12-10 15:15:30,713]\u001b[0m Trial 207 finished with value: 0.008822629319122626 and parameters: {'x': 2.0939288524316284}. Best is trial 202 with value: 1.1475063513985287e-06.\u001b[0m\n",
      "\u001b[32m[I 2022-12-10 15:15:30,732]\u001b[0m Trial 208 finished with value: 0.5283483286121949 and parameters: {'x': 1.2731242687967943}. Best is trial 202 with value: 1.1475063513985287e-06.\u001b[0m\n",
      "\u001b[32m[I 2022-12-10 15:15:30,752]\u001b[0m Trial 209 finished with value: 0.7908959430339781 and parameters: {'x': 2.889323306246934}. Best is trial 202 with value: 1.1475063513985287e-06.\u001b[0m\n",
      "\u001b[32m[I 2022-12-10 15:15:30,768]\u001b[0m Trial 210 finished with value: 0.1140533298626574 and parameters: {'x': 2.3377178257993756}. Best is trial 202 with value: 1.1475063513985287e-06.\u001b[0m\n",
      "\u001b[32m[I 2022-12-10 15:15:30,787]\u001b[0m Trial 211 finished with value: 0.01929304910360148 and parameters: {'x': 1.8611005791819077}. Best is trial 202 with value: 1.1475063513985287e-06.\u001b[0m\n",
      "\u001b[32m[I 2022-12-10 15:15:30,804]\u001b[0m Trial 212 finished with value: 0.005480314808427412 and parameters: {'x': 1.9259708516297303}. Best is trial 202 with value: 1.1475063513985287e-06.\u001b[0m\n",
      "\u001b[32m[I 2022-12-10 15:15:30,819]\u001b[0m Trial 213 finished with value: 0.07859909461283764 and parameters: {'x': 1.7196446993316559}. Best is trial 202 with value: 1.1475063513985287e-06.\u001b[0m\n",
      "\u001b[32m[I 2022-12-10 15:15:30,838]\u001b[0m Trial 214 finished with value: 0.06975649882535544 and parameters: {'x': 2.2641145562542047}. Best is trial 202 with value: 1.1475063513985287e-06.\u001b[0m\n",
      "\u001b[32m[I 2022-12-10 15:15:30,859]\u001b[0m Trial 215 finished with value: 0.3153666744873935 and parameters: {'x': 1.438424827394058}. Best is trial 202 with value: 1.1475063513985287e-06.\u001b[0m\n",
      "\u001b[32m[I 2022-12-10 15:15:30,880]\u001b[0m Trial 216 finished with value: 0.0001814314496190622 and parameters: {'x': 2.013469649201782}. Best is trial 202 with value: 1.1475063513985287e-06.\u001b[0m\n",
      "\u001b[32m[I 2022-12-10 15:15:30,904]\u001b[0m Trial 217 finished with value: 0.43815507746780435 and parameters: {'x': 2.6619328345593716}. Best is trial 202 with value: 1.1475063513985287e-06.\u001b[0m\n",
      "\u001b[32m[I 2022-12-10 15:15:30,927]\u001b[0m Trial 218 finished with value: 1.6763761304570008 and parameters: {'x': 3.2947494469807665}. Best is trial 202 with value: 1.1475063513985287e-06.\u001b[0m\n",
      "\u001b[32m[I 2022-12-10 15:15:30,950]\u001b[0m Trial 219 finished with value: 0.7365398727427355 and parameters: {'x': 1.141780987892522}. Best is trial 202 with value: 1.1475063513985287e-06.\u001b[0m\n",
      "\u001b[32m[I 2022-12-10 15:15:30,975]\u001b[0m Trial 220 finished with value: 0.045247306104957606 and parameters: {'x': 2.212714141760621}. Best is trial 202 with value: 1.1475063513985287e-06.\u001b[0m\n",
      "\u001b[32m[I 2022-12-10 15:15:30,998]\u001b[0m Trial 221 finished with value: 0.021051226525453017 and parameters: {'x': 1.8549095918902527}. Best is trial 202 with value: 1.1475063513985287e-06.\u001b[0m\n",
      "\u001b[32m[I 2022-12-10 15:15:31,020]\u001b[0m Trial 222 finished with value: 0.004238021307114517 and parameters: {'x': 1.9348999131558604}. Best is trial 202 with value: 1.1475063513985287e-06.\u001b[0m\n",
      "\u001b[32m[I 2022-12-10 15:15:31,044]\u001b[0m Trial 223 finished with value: 0.15453003379610264 and parameters: {'x': 1.6068969170864942}. Best is trial 202 with value: 1.1475063513985287e-06.\u001b[0m\n",
      "\u001b[32m[I 2022-12-10 15:15:31,067]\u001b[0m Trial 224 finished with value: 0.12312503454211805 and parameters: {'x': 2.350891770410932}. Best is trial 202 with value: 1.1475063513985287e-06.\u001b[0m\n",
      "\u001b[32m[I 2022-12-10 15:15:31,093]\u001b[0m Trial 225 finished with value: 6.255688903441405e-06 and parameters: {'x': 2.002501137521897}. Best is trial 202 with value: 1.1475063513985287e-06.\u001b[0m\n",
      "\u001b[32m[I 2022-12-10 15:15:31,114]\u001b[0m Trial 226 finished with value: 0.3850688748099234 and parameters: {'x': 2.620539180721027}. Best is trial 202 with value: 1.1475063513985287e-06.\u001b[0m\n",
      "\u001b[32m[I 2022-12-10 15:15:31,138]\u001b[0m Trial 227 finished with value: 0.22135002023736638 and parameters: {'x': 1.5295214986448729}. Best is trial 202 with value: 1.1475063513985287e-06.\u001b[0m\n",
      "\u001b[32m[I 2022-12-10 15:15:31,162]\u001b[0m Trial 228 finished with value: 0.007623573746211322 and parameters: {'x': 1.9126869211045028}. Best is trial 202 with value: 1.1475063513985287e-06.\u001b[0m\n",
      "\u001b[32m[I 2022-12-10 15:15:31,187]\u001b[0m Trial 229 finished with value: 0.6962748148395448 and parameters: {'x': 1.1655691671327426}. Best is trial 202 with value: 1.1475063513985287e-06.\u001b[0m\n",
      "\u001b[32m[I 2022-12-10 15:15:31,211]\u001b[0m Trial 230 finished with value: 0.23715671836780988 and parameters: {'x': 2.486987390358118}. Best is trial 202 with value: 1.1475063513985287e-06.\u001b[0m\n",
      "\u001b[32m[I 2022-12-10 15:15:31,240]\u001b[0m Trial 231 finished with value: 0.005692400400856992 and parameters: {'x': 2.0754479979910467}. Best is trial 202 with value: 1.1475063513985287e-06.\u001b[0m\n",
      "\u001b[32m[I 2022-12-10 15:15:31,261]\u001b[0m Trial 232 finished with value: 0.0065596179010639685 and parameters: {'x': 2.080991468075742}. Best is trial 202 with value: 1.1475063513985287e-06.\u001b[0m\n",
      "\u001b[32m[I 2022-12-10 15:15:31,284]\u001b[0m Trial 233 finished with value: 0.16108578070148455 and parameters: {'x': 1.5986450689209306}. Best is trial 202 with value: 1.1475063513985287e-06.\u001b[0m\n",
      "\u001b[32m[I 2022-12-10 15:15:31,315]\u001b[0m Trial 234 finished with value: 0.5163973009716013 and parameters: {'x': 2.7186078909750444}. Best is trial 202 with value: 1.1475063513985287e-06.\u001b[0m\n",
      "\u001b[32m[I 2022-12-10 15:15:31,340]\u001b[0m Trial 235 finished with value: 0.03812647716222636 and parameters: {'x': 2.1952600244858798}. Best is trial 202 with value: 1.1475063513985287e-06.\u001b[0m\n",
      "\u001b[32m[I 2022-12-10 15:15:31,368]\u001b[0m Trial 236 finished with value: 0.11294960564308447 and parameters: {'x': 1.6639202391647416}. Best is trial 202 with value: 1.1475063513985287e-06.\u001b[0m\n",
      "\u001b[32m[I 2022-12-10 15:15:31,394]\u001b[0m Trial 237 finished with value: 1.2218669724829687 and parameters: {'x': 3.105380917368745}. Best is trial 202 with value: 1.1475063513985287e-06.\u001b[0m\n",
      "\u001b[32m[I 2022-12-10 15:15:31,418]\u001b[0m Trial 238 finished with value: 0.6533513474707242 and parameters: {'x': 1.1916984798537589}. Best is trial 202 with value: 1.1475063513985287e-06.\u001b[0m\n",
      "\u001b[32m[I 2022-12-10 15:15:31,440]\u001b[0m Trial 239 finished with value: 0.001412991484027078 and parameters: {'x': 2.0375897789834827}. Best is trial 202 with value: 1.1475063513985287e-06.\u001b[0m\n",
      "\u001b[32m[I 2022-12-10 15:15:31,462]\u001b[0m Trial 240 finished with value: 0.21481403933411816 and parameters: {'x': 2.4634803548524125}. Best is trial 202 with value: 1.1475063513985287e-06.\u001b[0m\n",
      "\u001b[32m[I 2022-12-10 15:15:31,478]\u001b[0m Trial 241 finished with value: 0.003950981139852111 and parameters: {'x': 1.9371431695051993}. Best is trial 202 with value: 1.1475063513985287e-06.\u001b[0m\n",
      "\u001b[32m[I 2022-12-10 15:15:31,494]\u001b[0m Trial 242 finished with value: 0.022311380797251375 and parameters: {'x': 1.8506300539022278}. Best is trial 202 with value: 1.1475063513985287e-06.\u001b[0m\n",
      "\u001b[32m[I 2022-12-10 15:15:31,511]\u001b[0m Trial 243 finished with value: 0.2058873754843763 and parameters: {'x': 1.5462518589741923}. Best is trial 202 with value: 1.1475063513985287e-06.\u001b[0m\n",
      "\u001b[32m[I 2022-12-10 15:15:31,528]\u001b[0m Trial 244 finished with value: 0.020285869558866673 and parameters: {'x': 2.1424284717283264}. Best is trial 202 with value: 1.1475063513985287e-06.\u001b[0m\n",
      "\u001b[32m[I 2022-12-10 15:15:31,547]\u001b[0m Trial 245 finished with value: 0.019263729351738385 and parameters: {'x': 1.8612061624143983}. Best is trial 202 with value: 1.1475063513985287e-06.\u001b[0m\n",
      "\u001b[32m[I 2022-12-10 15:15:31,564]\u001b[0m Trial 246 finished with value: 0.231230648803382 and parameters: {'x': 2.4808644807046805}. Best is trial 202 with value: 1.1475063513985287e-06.\u001b[0m\n",
      "\u001b[32m[I 2022-12-10 15:15:31,582]\u001b[0m Trial 247 finished with value: 1.3413633994213279 and parameters: {'x': 0.841827560584639}. Best is trial 202 with value: 1.1475063513985287e-06.\u001b[0m\n",
      "\u001b[32m[I 2022-12-10 15:15:31,602]\u001b[0m Trial 248 finished with value: 0.43425128428601584 and parameters: {'x': 1.3410225464509307}. Best is trial 202 with value: 1.1475063513985287e-06.\u001b[0m\n",
      "\u001b[32m[I 2022-12-10 15:15:31,619]\u001b[0m Trial 249 finished with value: 0.7087590748261994 and parameters: {'x': 2.8418783016720406}. Best is trial 202 with value: 1.1475063513985287e-06.\u001b[0m\n",
      "\u001b[32m[I 2022-12-10 15:15:31,635]\u001b[0m Trial 250 finished with value: 0.038500403153264834 and parameters: {'x': 2.196215196030442}. Best is trial 202 with value: 1.1475063513985287e-06.\u001b[0m\n",
      "\u001b[32m[I 2022-12-10 15:15:31,652]\u001b[0m Trial 251 finished with value: 0.020851866522605917 and parameters: {'x': 1.8555982461235117}. Best is trial 202 with value: 1.1475063513985287e-06.\u001b[0m\n",
      "\u001b[32m[I 2022-12-10 15:15:31,668]\u001b[0m Trial 252 finished with value: 0.17656277162356188 and parameters: {'x': 1.5798062689382886}. Best is trial 202 with value: 1.1475063513985287e-06.\u001b[0m\n",
      "\u001b[32m[I 2022-12-10 15:15:31,685]\u001b[0m Trial 253 finished with value: 0.19771482513549013 and parameters: {'x': 2.444651352337413}. Best is trial 202 with value: 1.1475063513985287e-06.\u001b[0m\n",
      "\u001b[32m[I 2022-12-10 15:15:31,700]\u001b[0m Trial 254 finished with value: 0.0006320996344820282 and parameters: {'x': 2.025141591725307}. Best is trial 202 with value: 1.1475063513985287e-06.\u001b[0m\n",
      "\u001b[32m[I 2022-12-10 15:15:31,716]\u001b[0m Trial 255 finished with value: 0.5994564902549684 and parameters: {'x': 1.2257542442770717}. Best is trial 202 with value: 1.1475063513985287e-06.\u001b[0m\n",
      "\u001b[32m[I 2022-12-10 15:15:31,735]\u001b[0m Trial 256 finished with value: 0.7211695250862739 and parameters: {'x': 2.849217007063727}. Best is trial 202 with value: 1.1475063513985287e-06.\u001b[0m\n",
      "\u001b[32m[I 2022-12-10 15:15:31,775]\u001b[0m Trial 257 finished with value: 0.06086121877289811 and parameters: {'x': 2.246700666340604}. Best is trial 202 with value: 1.1475063513985287e-06.\u001b[0m\n",
      "\u001b[32m[I 2022-12-10 15:15:31,791]\u001b[0m Trial 258 finished with value: 0.12755265827319343 and parameters: {'x': 1.6428548498534616}. Best is trial 202 with value: 1.1475063513985287e-06.\u001b[0m\n",
      "\u001b[32m[I 2022-12-10 15:15:31,820]\u001b[0m Trial 259 finished with value: 0.2835591207144766 and parameters: {'x': 2.5325026954997285}. Best is trial 202 with value: 1.1475063513985287e-06.\u001b[0m\n",
      "\u001b[32m[I 2022-12-10 15:15:31,837]\u001b[0m Trial 260 finished with value: 0.004024620315555586 and parameters: {'x': 2.063439895299059}. Best is trial 202 with value: 1.1475063513985287e-06.\u001b[0m\n",
      "\u001b[32m[I 2022-12-10 15:15:31,857]\u001b[0m Trial 261 finished with value: 1.5185777479693776 and parameters: {'x': 0.7676941337600565}. Best is trial 202 with value: 1.1475063513985287e-06.\u001b[0m\n",
      "\u001b[32m[I 2022-12-10 15:15:31,876]\u001b[0m Trial 262 finished with value: 0.26248594727942 and parameters: {'x': 1.4876661759366068}. Best is trial 202 with value: 1.1475063513985287e-06.\u001b[0m\n",
      "\u001b[32m[I 2022-12-10 15:15:31,896]\u001b[0m Trial 263 finished with value: 1.1371504726729391 and parameters: {'x': 3.066372576857141}. Best is trial 202 with value: 1.1475063513985287e-06.\u001b[0m\n",
      "\u001b[32m[I 2022-12-10 15:15:31,914]\u001b[0m Trial 264 finished with value: 0.005568583102154584 and parameters: {'x': 1.9253770604830218}. Best is trial 202 with value: 1.1475063513985287e-06.\u001b[0m\n",
      "\u001b[32m[I 2022-12-10 15:15:31,934]\u001b[0m Trial 265 finished with value: 13.894055055029046 and parameters: {'x': -1.7274730119786308}. Best is trial 202 with value: 1.1475063513985287e-06.\u001b[0m\n",
      "\u001b[32m[I 2022-12-10 15:15:31,955]\u001b[0m Trial 266 finished with value: 0.21016837753892234 and parameters: {'x': 2.4584412476413116}. Best is trial 202 with value: 1.1475063513985287e-06.\u001b[0m\n",
      "\u001b[32m[I 2022-12-10 15:15:31,973]\u001b[0m Trial 267 finished with value: 0.8424060147085225 and parameters: {'x': 1.0821732109441768}. Best is trial 202 with value: 1.1475063513985287e-06.\u001b[0m\n",
      "\u001b[32m[I 2022-12-10 15:15:31,992]\u001b[0m Trial 268 finished with value: 0.09717449774399757 and parameters: {'x': 1.6882717565827607}. Best is trial 202 with value: 1.1475063513985287e-06.\u001b[0m\n",
      "\u001b[32m[I 2022-12-10 15:15:32,011]\u001b[0m Trial 269 finished with value: 0.020449952910596834 and parameters: {'x': 2.143003331816419}. Best is trial 202 with value: 1.1475063513985287e-06.\u001b[0m\n",
      "\u001b[32m[I 2022-12-10 15:15:32,029]\u001b[0m Trial 270 finished with value: 0.6380815246380177 and parameters: {'x': 2.7988000529782266}. Best is trial 202 with value: 1.1475063513985287e-06.\u001b[0m\n",
      "\u001b[32m[I 2022-12-10 15:15:32,047]\u001b[0m Trial 271 finished with value: 0.4938628127647472 and parameters: {'x': 1.297246264496056}. Best is trial 202 with value: 1.1475063513985287e-06.\u001b[0m\n",
      "\u001b[32m[I 2022-12-10 15:15:32,066]\u001b[0m Trial 272 finished with value: 0.0837656633740058 and parameters: {'x': 2.2894229834930284}. Best is trial 202 with value: 1.1475063513985287e-06.\u001b[0m\n",
      "\u001b[32m[I 2022-12-10 15:15:32,089]\u001b[0m Trial 273 finished with value: 0.05106409687162077 and parameters: {'x': 1.7740263358892883}. Best is trial 202 with value: 1.1475063513985287e-06.\u001b[0m\n",
      "\u001b[32m[I 2022-12-10 15:15:32,125]\u001b[0m Trial 274 finished with value: 0.26941497488232785 and parameters: {'x': 2.5190519963186038}. Best is trial 202 with value: 1.1475063513985287e-06.\u001b[0m\n",
      "\u001b[32m[I 2022-12-10 15:15:32,136]\u001b[0m Trial 275 finished with value: 0.0006534136036670414 and parameters: {'x': 2.0255619561784117}. Best is trial 202 with value: 1.1475063513985287e-06.\u001b[0m\n",
      "\u001b[32m[I 2022-12-10 15:15:32,149]\u001b[0m Trial 276 finished with value: 0.3592115692127563 and parameters: {'x': 1.4006573857860962}. Best is trial 202 with value: 1.1475063513985287e-06.\u001b[0m\n",
      "\u001b[32m[I 2022-12-10 15:15:32,164]\u001b[0m Trial 277 finished with value: 1.6178317588865159 and parameters: {'x': 3.27194015538724}. Best is trial 202 with value: 1.1475063513985287e-06.\u001b[0m\n",
      "\u001b[32m[I 2022-12-10 15:15:32,174]\u001b[0m Trial 278 finished with value: 0.012005664308240446 and parameters: {'x': 2.1095703623624584}. Best is trial 202 with value: 1.1475063513985287e-06.\u001b[0m\n",
      "\u001b[32m[I 2022-12-10 15:15:32,189]\u001b[0m Trial 279 finished with value: 0.5172160061916462 and parameters: {'x': 2.719177312066813}. Best is trial 202 with value: 1.1475063513985287e-06.\u001b[0m\n",
      "\u001b[32m[I 2022-12-10 15:15:32,202]\u001b[0m Trial 280 finished with value: 1.4936335137535783 and parameters: {'x': 0.7778569994662743}. Best is trial 202 with value: 1.1475063513985287e-06.\u001b[0m\n",
      "\u001b[32m[I 2022-12-10 15:15:32,213]\u001b[0m Trial 281 finished with value: 0.11153586595526614 and parameters: {'x': 1.666030142145633}. Best is trial 202 with value: 1.1475063513985287e-06.\u001b[0m\n",
      "\u001b[32m[I 2022-12-10 15:15:32,227]\u001b[0m Trial 282 finished with value: 0.06582014867736716 and parameters: {'x': 2.2565543776226926}. Best is trial 202 with value: 1.1475063513985287e-06.\u001b[0m\n",
      "\u001b[32m[I 2022-12-10 15:15:32,240]\u001b[0m Trial 283 finished with value: 0.6352878044305829 and parameters: {'x': 1.2029505633710147}. Best is trial 202 with value: 1.1475063513985287e-06.\u001b[0m\n",
      "\u001b[32m[I 2022-12-10 15:15:32,252]\u001b[0m Trial 284 finished with value: 0.01609445138548967 and parameters: {'x': 1.8731360910838324}. Best is trial 202 with value: 1.1475063513985287e-06.\u001b[0m\n",
      "\u001b[32m[I 2022-12-10 15:15:32,263]\u001b[0m Trial 285 finished with value: 0.8743428615421456 and parameters: {'x': 2.9350630254384704}. Best is trial 202 with value: 1.1475063513985287e-06.\u001b[0m\n",
      "\u001b[32m[I 2022-12-10 15:15:32,276]\u001b[0m Trial 286 finished with value: 0.18235645578365506 and parameters: {'x': 2.427032148419361}. Best is trial 202 with value: 1.1475063513985287e-06.\u001b[0m\n",
      "\u001b[32m[I 2022-12-10 15:15:32,290]\u001b[0m Trial 287 finished with value: 0.13699980914229712 and parameters: {'x': 1.6298651473553225}. Best is trial 202 with value: 1.1475063513985287e-06.\u001b[0m\n",
      "\u001b[32m[I 2022-12-10 15:15:32,310]\u001b[0m Trial 288 finished with value: 0.014097817310258888 and parameters: {'x': 2.118734229732874}. Best is trial 202 with value: 1.1475063513985287e-06.\u001b[0m\n",
      "\u001b[32m[I 2022-12-10 15:15:32,325]\u001b[0m Trial 289 finished with value: 0.4137052478365408 and parameters: {'x': 1.3568007712718082}. Best is trial 202 with value: 1.1475063513985287e-06.\u001b[0m\n",
      "\u001b[32m[I 2022-12-10 15:15:32,341]\u001b[0m Trial 290 finished with value: 0.4180496848077356 and parameters: {'x': 2.6465676181249225}. Best is trial 202 with value: 1.1475063513985287e-06.\u001b[0m\n",
      "\u001b[32m[I 2022-12-10 15:15:32,357]\u001b[0m Trial 291 finished with value: 22.862359630247404 and parameters: {'x': 6.781459989401501}. Best is trial 202 with value: 1.1475063513985287e-06.\u001b[0m\n",
      "\u001b[32m[I 2022-12-10 15:15:32,373]\u001b[0m Trial 292 finished with value: 0.006176705449570905 and parameters: {'x': 1.9214079810058877}. Best is trial 202 with value: 1.1475063513985287e-06.\u001b[0m\n",
      "\u001b[32m[I 2022-12-10 15:15:32,386]\u001b[0m Trial 293 finished with value: 2.718797298640636 and parameters: {'x': 0.3511224124754937}. Best is trial 202 with value: 1.1475063513985287e-06.\u001b[0m\n",
      "\u001b[32m[I 2022-12-10 15:15:32,397]\u001b[0m Trial 294 finished with value: 0.13997933158960915 and parameters: {'x': 2.374138118332801}. Best is trial 202 with value: 1.1475063513985287e-06.\u001b[0m\n",
      "\u001b[32m[I 2022-12-10 15:15:32,413]\u001b[0m Trial 295 finished with value: 2.620226889856711 and parameters: {'x': 3.618711490617371}. Best is trial 202 with value: 1.1475063513985287e-06.\u001b[0m\n",
      "\u001b[32m[I 2022-12-10 15:15:32,426]\u001b[0m Trial 296 finished with value: 0.7438191318036332 and parameters: {'x': 1.1375505047809273}. Best is trial 202 with value: 1.1475063513985287e-06.\u001b[0m\n",
      "\u001b[32m[I 2022-12-10 15:15:32,440]\u001b[0m Trial 297 finished with value: 0.0641302138261591 and parameters: {'x': 1.7467605602869902}. Best is trial 202 with value: 1.1475063513985287e-06.\u001b[0m\n",
      "\u001b[32m[I 2022-12-10 15:15:32,454]\u001b[0m Trial 298 finished with value: 40.41568053133504 and parameters: {'x': -4.35733281583834}. Best is trial 202 with value: 1.1475063513985287e-06.\u001b[0m\n",
      "\u001b[32m[I 2022-12-10 15:15:32,470]\u001b[0m Trial 299 finished with value: 1.2413359413846938 and parameters: {'x': 3.1141525664758367}. Best is trial 202 with value: 1.1475063513985287e-06.\u001b[0m\n"
     ]
    },
    {
     "data": {
      "text/plain": [
       "300"
      ]
     },
     "execution_count": 11,
     "metadata": {},
     "output_type": "execute_result"
    }
   ],
   "source": [
    "study.optimize(objective, n_trials = 100)\n",
    "len(study.trials)"
   ]
  },
  {
   "cell_type": "code",
   "execution_count": 12,
   "id": "291401ef-1675-4cd6-8b61-eb9d8d9ef4ff",
   "metadata": {},
   "outputs": [
    {
     "name": "stdout",
     "output_type": "stream",
     "text": [
      "Found x: 1.9989287827711437, (x - 2)^2: 1.1475063513985287e-06\n"
     ]
    }
   ],
   "source": [
    "best_params = study.best_params\n",
    "found_x = best_params['x']\n",
    "print(\"Found x: {}, (x - 2)^2: {}\".format(found_x, (found_x - 2) ** 2))\n"
   ]
  },
  {
   "cell_type": "code",
   "execution_count": null,
   "id": "12d6cff2-1388-45c2-90fb-1d5c6543b1f3",
   "metadata": {},
   "outputs": [],
   "source": []
  }
 ],
 "metadata": {
  "kernelspec": {
   "display_name": "Python 3 (ipykernel)",
   "language": "python",
   "name": "python3"
  },
  "language_info": {
   "codemirror_mode": {
    "name": "ipython",
    "version": 3
   },
   "file_extension": ".py",
   "mimetype": "text/x-python",
   "name": "python",
   "nbconvert_exporter": "python",
   "pygments_lexer": "ipython3",
   "version": "3.9.13"
  }
 },
 "nbformat": 4,
 "nbformat_minor": 5
}
