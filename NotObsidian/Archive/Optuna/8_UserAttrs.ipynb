{
 "cells": [
  {
   "cell_type": "markdown",
   "id": "d79dd76a-1ec8-46c5-97d4-397cf1ee659c",
   "metadata": {},
   "source": [
    "# 사용자 정의 속성\n",
    "- `Study` 객체는 `set_user_attr()`을 제공함\n",
    "    - key는 `str`\n",
    "    - value는 `json.dumps`로 직렬화할 수 있는 모든 개체이다"
   ]
  },
  {
   "cell_type": "code",
   "execution_count": 2,
   "id": "01026f9e-5df3-4c2a-bb9d-38c8e10b2cb0",
   "metadata": {},
   "outputs": [
    {
     "name": "stderr",
     "output_type": "stream",
     "text": [
      "\u001b[32m[I 2022-12-12 13:40:33,704]\u001b[0m A new study created in RDB with name: no-name-18a9c442-397e-4ee8-a515-3e76523a9e98\u001b[0m\n"
     ]
    }
   ],
   "source": [
    "import sklearn.datasets\n",
    "import sklearn.model_selection\n",
    "import sklearn.svm\n",
    "\n",
    "import optuna\n",
    "\n",
    "study = optuna.create_study(storage = 'sqlite:///example.db')\n",
    "study.set_user_attr('contributors', ['Akiba', 'Sano'])\n",
    "study.set_user_attr('dataset', 'MNIST')"
   ]
  },
  {
   "cell_type": "markdown",
   "id": "7a75df43-2c84-4bd9-a3b4-25c938036f12",
   "metadata": {},
   "source": [
    "- 명시한 속성엔 `user_attrs` 메서드로 접근함"
   ]
  },
  {
   "cell_type": "code",
   "execution_count": 3,
   "id": "9f5acec8-4a82-4282-9419-0a17b5962448",
   "metadata": {},
   "outputs": [
    {
     "data": {
      "text/plain": [
       "{'contributors': ['Akiba', 'Sano'], 'dataset': 'MNIST'}"
      ]
     },
     "execution_count": 3,
     "metadata": {},
     "output_type": "execute_result"
    }
   ],
   "source": [
    "study.user_attrs"
   ]
  },
  {
   "cell_type": "markdown",
   "id": "e6399db3-4302-4e87-96f0-2f3ece8f9d37",
   "metadata": {},
   "source": [
    "`StudySummary` 객체 : `get_all_study_summaries()`로 만들 수 있고, `study.user_attrs`와 동일"
   ]
  },
  {
   "cell_type": "code",
   "execution_count": 5,
   "id": "febf1cc0-3102-4775-ba2a-4d48913a1b60",
   "metadata": {},
   "outputs": [
    {
     "data": {
      "text/plain": [
       "{'contributors': ['Akiba', 'Sano'], 'dataset': 'MNIST'}"
      ]
     },
     "execution_count": 5,
     "metadata": {},
     "output_type": "execute_result"
    }
   ],
   "source": [
    "summaries = optuna.get_all_study_summaries('sqlite:///example.db')\n",
    "summaries[0].user_attrs"
   ]
  },
  {
   "cell_type": "markdown",
   "id": "12fbca15-31b6-4f5f-9bb5-c3619f47107d",
   "metadata": {},
   "source": [
    "# Trial에 사용자 속성 추가하기"
   ]
  },
  {
   "cell_type": "code",
   "execution_count": 7,
   "id": "d7ae71b3-6aaa-4df6-9737-09bce0a52320",
   "metadata": {},
   "outputs": [
    {
     "name": "stderr",
     "output_type": "stream",
     "text": [
      "\u001b[32m[I 2022-12-12 13:43:43,807]\u001b[0m Trial 0 finished with value: 0.05999999999999994 and parameters: {'svc_c': 3493585.896113314}. Best is trial 0 with value: 0.05999999999999994.\u001b[0m\n"
     ]
    }
   ],
   "source": [
    "def objective(trial):\n",
    "    iris = sklearn.datasets.load_iris()\n",
    "    x, y = iris.data, iris.target\n",
    "    \n",
    "    svc_c = trial.suggest_float('svc_c', 1e-10, 1e10, log = True)\n",
    "    clf = sklearn.svm.SVC(C = svc_c)\n",
    "    \n",
    "    # 사용자 속성 추가\n",
    "    accuracy = sklearn.model_selection.cross_val_score(clf, x, y).mean()\n",
    "    \n",
    "    # 사용자 속성 정의\n",
    "    trial.set_user_attr('accuracy', accuracy)\n",
    "    \n",
    "    return 1.0 - accuracy\n",
    "    \n",
    "study.optimize(objective, n_trials = 1)"
   ]
  },
  {
   "cell_type": "code",
   "execution_count": 8,
   "id": "bc20c8ef-977f-4201-ac53-764aa53b3885",
   "metadata": {},
   "outputs": [
    {
     "data": {
      "text/plain": [
       "{'accuracy': 0.9400000000000001}"
      ]
     },
     "execution_count": 8,
     "metadata": {},
     "output_type": "execute_result"
    }
   ],
   "source": [
    "study.trials[0].user_attrs"
   ]
  },
  {
   "cell_type": "code",
   "execution_count": null,
   "id": "03f6e264-3d10-4d9b-be03-7a52114372c9",
   "metadata": {},
   "outputs": [],
   "source": []
  }
 ],
 "metadata": {
  "kernelspec": {
   "display_name": "Python 3 (ipykernel)",
   "language": "python",
   "name": "python3"
  },
  "language_info": {
   "codemirror_mode": {
    "name": "ipython",
    "version": 3
   },
   "file_extension": ".py",
   "mimetype": "text/x-python",
   "name": "python",
   "nbconvert_exporter": "python",
   "pygments_lexer": "ipython3",
   "version": "3.9.13"
  }
 },
 "nbformat": 4,
 "nbformat_minor": 5
}
