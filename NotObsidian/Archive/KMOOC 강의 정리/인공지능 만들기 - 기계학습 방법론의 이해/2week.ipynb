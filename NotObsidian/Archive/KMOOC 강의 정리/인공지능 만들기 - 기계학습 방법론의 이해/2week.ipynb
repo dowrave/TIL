{
 "cells": [
  {
   "cell_type": "code",
   "execution_count": 4,
   "metadata": {},
   "outputs": [],
   "source": [
    "import numpy as np\n",
    "import statsmodels.api as sm"
   ]
  },
  {
   "cell_type": "code",
   "execution_count": 5,
   "metadata": {},
   "outputs": [
    {
     "data": {
      "text/plain": [
       "array([[ 3.39189469],\n",
       "       [ 4.92026689],\n",
       "       [ 5.92016309],\n",
       "       [ 2.16488958],\n",
       "       [-1.56718559],\n",
       "       [ 1.56096152]])"
      ]
     },
     "execution_count": 5,
     "metadata": {},
     "output_type": "execute_result"
    }
   ],
   "source": [
    "# 관측치 개수\n",
    "N = 1000\n",
    "\n",
    "# 정규분포로 데이터 생성\n",
    "X = np.random.normal(loc = 0, scale = 1, size = (N, 1))\n",
    "\n",
    "# 절편 추가\n",
    "X = sm.add_constant(X)\n",
    "X[:6, :]\n",
    "\n",
    "# 정규분포로 오차항 생성\n",
    "epsilon = np.random.normal(loc = 0, scale = 1, size = (N, 1))\n",
    "\n",
    "Y = X @ np.array([[2], [3]]) + epsilon  # @ : 행렬곱(n, m) @ (m, k) = (n, k) - 행렬곱은 2차원에선 내적, 3차원부터는 외적을 구할 때 사용함\n",
    "\n",
    "Y[:6, :]"
   ]
  },
  {
   "cell_type": "code",
   "execution_count": 7,
   "metadata": {},
   "outputs": [
    {
     "data": {
      "text/html": [
       "<table class=\"simpletable\">\n",
       "<caption>OLS Regression Results</caption>\n",
       "<tr>\n",
       "  <th>Dep. Variable:</th>            <td>y</td>        <th>  R-squared:         </th> <td>   0.903</td>\n",
       "</tr>\n",
       "<tr>\n",
       "  <th>Model:</th>                   <td>OLS</td>       <th>  Adj. R-squared:    </th> <td>   0.903</td>\n",
       "</tr>\n",
       "<tr>\n",
       "  <th>Method:</th>             <td>Least Squares</td>  <th>  F-statistic:       </th> <td>   9305.</td>\n",
       "</tr>\n",
       "<tr>\n",
       "  <th>Date:</th>             <td>Fri, 07 Jul 2023</td> <th>  Prob (F-statistic):</th>  <td>  0.00</td> \n",
       "</tr>\n",
       "<tr>\n",
       "  <th>Time:</th>                 <td>17:11:12</td>     <th>  Log-Likelihood:    </th> <td> -1425.8</td>\n",
       "</tr>\n",
       "<tr>\n",
       "  <th>No. Observations:</th>      <td>  1000</td>      <th>  AIC:               </th> <td>   2856.</td>\n",
       "</tr>\n",
       "<tr>\n",
       "  <th>Df Residuals:</th>          <td>   998</td>      <th>  BIC:               </th> <td>   2865.</td>\n",
       "</tr>\n",
       "<tr>\n",
       "  <th>Df Model:</th>              <td>     1</td>      <th>                     </th>     <td> </td>   \n",
       "</tr>\n",
       "<tr>\n",
       "  <th>Covariance Type:</th>      <td>nonrobust</td>    <th>                     </th>     <td> </td>   \n",
       "</tr>\n",
       "</table>\n",
       "<table class=\"simpletable\">\n",
       "<tr>\n",
       "    <td></td>       <th>coef</th>     <th>std err</th>      <th>t</th>      <th>P>|t|</th>  <th>[0.025</th>    <th>0.975]</th>  \n",
       "</tr>\n",
       "<tr>\n",
       "  <th>const</th> <td>    2.0151</td> <td>    0.032</td> <td>   63.206</td> <td> 0.000</td> <td>    1.953</td> <td>    2.078</td>\n",
       "</tr>\n",
       "<tr>\n",
       "  <th>x1</th>    <td>    3.0222</td> <td>    0.031</td> <td>   96.462</td> <td> 0.000</td> <td>    2.961</td> <td>    3.084</td>\n",
       "</tr>\n",
       "</table>\n",
       "<table class=\"simpletable\">\n",
       "<tr>\n",
       "  <th>Omnibus:</th>       <td> 0.758</td> <th>  Durbin-Watson:     </th> <td>   2.014</td>\n",
       "</tr>\n",
       "<tr>\n",
       "  <th>Prob(Omnibus):</th> <td> 0.685</td> <th>  Jarque-Bera (JB):  </th> <td>   0.782</td>\n",
       "</tr>\n",
       "<tr>\n",
       "  <th>Skew:</th>          <td> 0.067</td> <th>  Prob(JB):          </th> <td>   0.676</td>\n",
       "</tr>\n",
       "<tr>\n",
       "  <th>Kurtosis:</th>      <td> 2.968</td> <th>  Cond. No.          </th> <td>    1.03</td>\n",
       "</tr>\n",
       "</table><br/><br/>Notes:<br/>[1] Standard Errors assume that the covariance matrix of the errors is correctly specified."
      ],
      "text/plain": [
       "<class 'statsmodels.iolib.summary.Summary'>\n",
       "\"\"\"\n",
       "                            OLS Regression Results                            \n",
       "==============================================================================\n",
       "Dep. Variable:                      y   R-squared:                       0.903\n",
       "Model:                            OLS   Adj. R-squared:                  0.903\n",
       "Method:                 Least Squares   F-statistic:                     9305.\n",
       "Date:                Fri, 07 Jul 2023   Prob (F-statistic):               0.00\n",
       "Time:                        17:11:12   Log-Likelihood:                -1425.8\n",
       "No. Observations:                1000   AIC:                             2856.\n",
       "Df Residuals:                     998   BIC:                             2865.\n",
       "Df Model:                           1                                         \n",
       "Covariance Type:            nonrobust                                         \n",
       "==============================================================================\n",
       "                 coef    std err          t      P>|t|      [0.025      0.975]\n",
       "------------------------------------------------------------------------------\n",
       "const          2.0151      0.032     63.206      0.000       1.953       2.078\n",
       "x1             3.0222      0.031     96.462      0.000       2.961       3.084\n",
       "==============================================================================\n",
       "Omnibus:                        0.758   Durbin-Watson:                   2.014\n",
       "Prob(Omnibus):                  0.685   Jarque-Bera (JB):                0.782\n",
       "Skew:                           0.067   Prob(JB):                        0.676\n",
       "Kurtosis:                       2.968   Cond. No.                         1.03\n",
       "==============================================================================\n",
       "\n",
       "Notes:\n",
       "[1] Standard Errors assume that the covariance matrix of the errors is correctly specified.\n",
       "\"\"\""
      ]
     },
     "execution_count": 7,
     "metadata": {},
     "output_type": "execute_result"
    }
   ],
   "source": [
    "# 단순회귀모형 적합\n",
    "simple_reg = sm.OLS(Y, X).fit()\n",
    "\n",
    "# 결과 확인\n",
    "simple_reg.summary()"
   ]
  },
  {
   "cell_type": "code",
   "execution_count": null,
   "metadata": {},
   "outputs": [],
   "source": []
  }
 ],
 "metadata": {
  "kernelspec": {
   "display_name": "kmooc_230707",
   "language": "python",
   "name": "python3"
  },
  "language_info": {
   "codemirror_mode": {
    "name": "ipython",
    "version": 3
   },
   "file_extension": ".py",
   "mimetype": "text/x-python",
   "name": "python",
   "nbconvert_exporter": "python",
   "pygments_lexer": "ipython3",
   "version": "3.7.0"
  },
  "orig_nbformat": 4,
  "vscode": {
   "interpreter": {
    "hash": "3705f32b110045f723f0b25033904fb04a2c9dc0225af03b5f6a472895a6cce6"
   }
  }
 },
 "nbformat": 4,
 "nbformat_minor": 2
}
