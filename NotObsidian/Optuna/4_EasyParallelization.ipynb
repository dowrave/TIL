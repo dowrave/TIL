{
 "cells": [
  {
   "cell_type": "markdown",
   "id": "85a88af4-2cae-4ad6-89b7-4527feb8fc0e",
   "metadata": {},
   "source": [
    "## 병렬화하기\n",
    "- Optuna Optimization을 수동으로 하려면\n",
    "    1. RDB 서버 켜기(예제에선 MySQL)\n",
    "    2. `-storage` 인자를 넣어 `study`를 만듦\n",
    "    3. `study`를 여러 노드, 프로세스에 나눔\n",
    "    \n",
    "- 위 과정은 [쿠버네티스 예제](https://github.com/optuna/optuna-examples/tree/main/kubernetes)로도 할 수 있음"
   ]
  },
  {
   "cell_type": "markdown",
   "id": "d029a9f0-dab2-4a8a-ac5e-3d9ad4b7eac6",
   "metadata": {},
   "source": [
    "- python cmd 창에서..\n",
    "```\n",
    "mysql -u root -e \"CREATE DATABASE IF NOT EXISTS example\"\n",
    "optuna create-study --study-name 'distributed-example' --storage 'mysql://root@localhost/example'\n",
    "```"
   ]
  },
  {
   "cell_type": "markdown",
   "id": "e89526cf-cd57-4e46-b745-cda9a2478056",
   "metadata": {},
   "source": [
    "- 이 다음 Optimization Script를 짬\n",
    "\n",
    "- 파일명 : `foo.py`\n",
    "```python\n",
    "import optuna\n",
    "\n",
    "def objective(trial):\n",
    "    x = trial.suggest_float('x', -10, 10)\n",
    "    return (x-2) ** 2\n",
    "\n",
    "if __name__ == \"__main__\":\n",
    "    study = optuna.load_study(\n",
    "        study_name = 'distribute-example', storage = 'mysql://root@localhost/example')\n",
    "    study.optimize(objective, n_trials = 100)\n",
    "```"
   ]
  },
  {
   "cell_type": "markdown",
   "id": "ce59697b-f4c5-43c8-82bf-c86df37d2c59",
   "metadata": {},
   "source": [
    "- 이후는 여러 터미널을 띄우고 각 터미널에 `python foo.py`를 입력하면 병렬로 처리되는 걸 볼 수 있음"
   ]
  },
  {
   "cell_type": "markdown",
   "id": "9e021262-c8df-4b1d-9e97-96e44aa25670",
   "metadata": {},
   "source": [
    "#### 참고사항\n",
    "1. `n_trials`는 각 프로세스(즉 각 터미널)에서 실행되는 `trial`의 숫자임. 즉 2개의 터미널을 켜고 `n_trials = 100`일 경우 총 200 `trials`이 되는 것임\n",
    "    - 전체 수를 보려면 `optuna.study.MaxTrialsCallback`이 있다\n",
    "    \n",
    "2. SQLite는 성능 상의 이유로 추천하지 않으며, `MySQL`이나 `PostgreSQL`을 추천한다."
   ]
  },
  {
   "cell_type": "code",
   "execution_count": null,
   "id": "1eb09f19-dbfd-4900-9d86-802f392ba38e",
   "metadata": {},
   "outputs": [],
   "source": []
  }
 ],
 "metadata": {
  "kernelspec": {
   "display_name": "Python 3 (ipykernel)",
   "language": "python",
   "name": "python3"
  },
  "language_info": {
   "codemirror_mode": {
    "name": "ipython",
    "version": 3
   },
   "file_extension": ".py",
   "mimetype": "text/x-python",
   "name": "python",
   "nbconvert_exporter": "python",
   "pygments_lexer": "ipython3",
   "version": "3.9.13"
  }
 },
 "nbformat": 4,
 "nbformat_minor": 5
}
