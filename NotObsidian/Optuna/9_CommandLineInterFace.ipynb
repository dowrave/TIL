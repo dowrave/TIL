{
 "cells": [
  {
   "cell_type": "markdown",
   "id": "fb74565f-37f6-4dfb-aaba-246b83db029e",
   "metadata": {},
   "source": [
    "# 커맨드 인터페이스"
   ]
  },
  {
   "cell_type": "code",
   "execution_count": 1,
   "id": "6f23e35f-a468-463a-98a4-d9a114f6cf55",
   "metadata": {
    "collapsed": true,
    "jupyter": {
     "outputs_hidden": true
    },
    "tags": []
   },
   "outputs": [
    {
     "name": "stderr",
     "output_type": "stream",
     "text": [
      "\u001b[32m[I 2022-12-12 13:46:24,482]\u001b[0m A new study created in memory with name: no-name-6a958ac9-edbd-4ea1-b789-e62c1e4ebddf\u001b[0m\n",
      "\u001b[32m[I 2022-12-12 13:46:24,495]\u001b[0m Trial 0 finished with value: 22.81748402024271 and parameters: {'x': -2.776765016226223}. Best is trial 0 with value: 22.81748402024271.\u001b[0m\n",
      "\u001b[32m[I 2022-12-12 13:46:24,501]\u001b[0m Trial 1 finished with value: 101.59746167737153 and parameters: {'x': -8.079556621070767}. Best is trial 0 with value: 22.81748402024271.\u001b[0m\n",
      "\u001b[32m[I 2022-12-12 13:46:24,507]\u001b[0m Trial 2 finished with value: 5.039195162171716 and parameters: {'x': 4.244815173276347}. Best is trial 2 with value: 5.039195162171716.\u001b[0m\n",
      "\u001b[32m[I 2022-12-12 13:46:24,517]\u001b[0m Trial 3 finished with value: 0.4203816166328286 and parameters: {'x': 2.6483684266162477}. Best is trial 3 with value: 0.4203816166328286.\u001b[0m\n",
      "\u001b[32m[I 2022-12-12 13:46:24,523]\u001b[0m Trial 4 finished with value: 136.68823208528795 and parameters: {'x': -9.691374259910079}. Best is trial 3 with value: 0.4203816166328286.\u001b[0m\n",
      "\u001b[32m[I 2022-12-12 13:46:24,530]\u001b[0m Trial 5 finished with value: 0.8546219271602216 and parameters: {'x': 1.0755423605376926}. Best is trial 3 with value: 0.4203816166328286.\u001b[0m\n",
      "\u001b[32m[I 2022-12-12 13:46:24,536]\u001b[0m Trial 6 finished with value: 0.31509548513067576 and parameters: {'x': 2.5613336664860533}. Best is trial 6 with value: 0.31509548513067576.\u001b[0m\n",
      "\u001b[32m[I 2022-12-12 13:46:24,542]\u001b[0m Trial 7 finished with value: 45.44539652213939 and parameters: {'x': 8.741320087500622}. Best is trial 6 with value: 0.31509548513067576.\u001b[0m\n",
      "\u001b[32m[I 2022-12-12 13:46:24,548]\u001b[0m Trial 8 finished with value: 37.47236174076755 and parameters: {'x': -4.121467286588041}. Best is trial 6 with value: 0.31509548513067576.\u001b[0m\n",
      "\u001b[32m[I 2022-12-12 13:46:24,554]\u001b[0m Trial 9 finished with value: 43.499562882020285 and parameters: {'x': -4.595419841224688}. Best is trial 6 with value: 0.31509548513067576.\u001b[0m\n",
      "\u001b[32m[I 2022-12-12 13:46:24,587]\u001b[0m Trial 10 finished with value: 20.86574687240629 and parameters: {'x': 6.567903991154618}. Best is trial 6 with value: 0.31509548513067576.\u001b[0m\n",
      "\u001b[32m[I 2022-12-12 13:46:24,607]\u001b[0m Trial 11 finished with value: 0.40312789078428213 and parameters: {'x': 1.3650764685536674}. Best is trial 6 with value: 0.31509548513067576.\u001b[0m\n",
      "\u001b[32m[I 2022-12-12 13:46:24,628]\u001b[0m Trial 12 finished with value: 6.900270834365193 and parameters: {'x': -0.6268366592472385}. Best is trial 6 with value: 0.31509548513067576.\u001b[0m\n",
      "\u001b[32m[I 2022-12-12 13:46:24,648]\u001b[0m Trial 13 finished with value: 5.583082139114383 and parameters: {'x': 4.362854658906126}. Best is trial 6 with value: 0.31509548513067576.\u001b[0m\n",
      "\u001b[32m[I 2022-12-12 13:46:24,675]\u001b[0m Trial 14 finished with value: 9.207525741596125 and parameters: {'x': -1.034390505784667}. Best is trial 6 with value: 0.31509548513067576.\u001b[0m\n",
      "\u001b[32m[I 2022-12-12 13:46:24,695]\u001b[0m Trial 15 finished with value: 57.592136673082294 and parameters: {'x': 9.58894832457583}. Best is trial 6 with value: 0.31509548513067576.\u001b[0m\n",
      "\u001b[32m[I 2022-12-12 13:46:24,714]\u001b[0m Trial 16 finished with value: 0.0749248661702767 and parameters: {'x': 2.273724069402522}. Best is trial 16 with value: 0.0749248661702767.\u001b[0m\n",
      "\u001b[32m[I 2022-12-12 13:46:24,733]\u001b[0m Trial 17 finished with value: 17.68755502595598 and parameters: {'x': 6.205657502217219}. Best is trial 16 with value: 0.0749248661702767.\u001b[0m\n",
      "\u001b[32m[I 2022-12-12 13:46:24,754]\u001b[0m Trial 18 finished with value: 2.535491231376522 and parameters: {'x': 3.5923225902362}. Best is trial 16 with value: 0.0749248661702767.\u001b[0m\n",
      "\u001b[32m[I 2022-12-12 13:46:24,774]\u001b[0m Trial 19 finished with value: 16.92518840611776 and parameters: {'x': 6.114023384245374}. Best is trial 16 with value: 0.0749248661702767.\u001b[0m\n",
      "\u001b[32m[I 2022-12-12 13:46:24,797]\u001b[0m Trial 20 finished with value: 15.035308906503625 and parameters: {'x': -1.8775390270767907}. Best is trial 16 with value: 0.0749248661702767.\u001b[0m\n",
      "\u001b[32m[I 2022-12-12 13:46:24,818]\u001b[0m Trial 21 finished with value: 0.5196195889413215 and parameters: {'x': 1.279153560776415}. Best is trial 16 with value: 0.0749248661702767.\u001b[0m\n",
      "\u001b[32m[I 2022-12-12 13:46:24,838]\u001b[0m Trial 22 finished with value: 0.24363008003039213 and parameters: {'x': 1.5064110211619468}. Best is trial 16 with value: 0.0749248661702767.\u001b[0m\n",
      "\u001b[32m[I 2022-12-12 13:46:24,863]\u001b[0m Trial 23 finished with value: 0.0966582868030789 and parameters: {'x': 2.310899158575701}. Best is trial 16 with value: 0.0749248661702767.\u001b[0m\n",
      "\u001b[32m[I 2022-12-12 13:46:24,886]\u001b[0m Trial 24 finished with value: 2.9646527929594657 and parameters: {'x': 0.27818328706001183}. Best is trial 16 with value: 0.0749248661702767.\u001b[0m\n",
      "\u001b[32m[I 2022-12-12 13:46:24,911]\u001b[0m Trial 25 finished with value: 9.793968162394858 and parameters: {'x': 5.129531620289985}. Best is trial 16 with value: 0.0749248661702767.\u001b[0m\n",
      "\u001b[32m[I 2022-12-12 13:46:24,937]\u001b[0m Trial 26 finished with value: 31.115786781095807 and parameters: {'x': 7.578152631570402}. Best is trial 16 with value: 0.0749248661702767.\u001b[0m\n",
      "\u001b[32m[I 2022-12-12 13:46:24,968]\u001b[0m Trial 27 finished with value: 0.4858888160080598 and parameters: {'x': 2.697057254469143}. Best is trial 16 with value: 0.0749248661702767.\u001b[0m\n",
      "\u001b[32m[I 2022-12-12 13:46:24,995]\u001b[0m Trial 28 finished with value: 71.48374538324609 and parameters: {'x': -6.454806052373176}. Best is trial 16 with value: 0.0749248661702767.\u001b[0m\n",
      "\u001b[32m[I 2022-12-12 13:46:25,016]\u001b[0m Trial 29 finished with value: 26.934552866891977 and parameters: {'x': -3.1898509484273228}. Best is trial 16 with value: 0.0749248661702767.\u001b[0m\n",
      "\u001b[32m[I 2022-12-12 13:46:25,041]\u001b[0m Trial 30 finished with value: 13.955957247104832 and parameters: {'x': -1.7357672902771704}. Best is trial 16 with value: 0.0749248661702767.\u001b[0m\n",
      "\u001b[32m[I 2022-12-12 13:46:25,069]\u001b[0m Trial 31 finished with value: 0.2618879761138557 and parameters: {'x': 2.5117499155973118}. Best is trial 16 with value: 0.0749248661702767.\u001b[0m\n",
      "\u001b[32m[I 2022-12-12 13:46:25,093]\u001b[0m Trial 32 finished with value: 1.787723698732641 and parameters: {'x': 0.6629421483224293}. Best is trial 16 with value: 0.0749248661702767.\u001b[0m\n",
      "\u001b[32m[I 2022-12-12 13:46:25,117]\u001b[0m Trial 33 finished with value: 0.1451557130242424 and parameters: {'x': 2.3809930616484274}. Best is trial 16 with value: 0.0749248661702767.\u001b[0m\n",
      "\u001b[32m[I 2022-12-12 13:46:25,140]\u001b[0m Trial 34 finished with value: 2.9368352912411626 and parameters: {'x': 3.7137197236541226}. Best is trial 16 with value: 0.0749248661702767.\u001b[0m\n",
      "\u001b[32m[I 2022-12-12 13:46:25,165]\u001b[0m Trial 35 finished with value: 9.042261263439416 and parameters: {'x': 5.007035294678035}. Best is trial 16 with value: 0.0749248661702767.\u001b[0m\n",
      "\u001b[32m[I 2022-12-12 13:46:25,191]\u001b[0m Trial 36 finished with value: 0.009441804699303133 and parameters: {'x': 1.9028310507450907}. Best is trial 36 with value: 0.009441804699303133.\u001b[0m\n",
      "\u001b[32m[I 2022-12-12 13:46:25,222]\u001b[0m Trial 37 finished with value: 6.868663428209625 and parameters: {'x': -0.6208135050418266}. Best is trial 36 with value: 0.009441804699303133.\u001b[0m\n",
      "\u001b[32m[I 2022-12-12 13:46:25,255]\u001b[0m Trial 38 finished with value: 0.24754121001814355 and parameters: {'x': 2.4975351344559935}. Best is trial 36 with value: 0.009441804699303133.\u001b[0m\n",
      "\u001b[32m[I 2022-12-12 13:46:25,285]\u001b[0m Trial 39 finished with value: 3.5860197019320843 and parameters: {'x': 3.8936788803627937}. Best is trial 36 with value: 0.009441804699303133.\u001b[0m\n",
      "\u001b[32m[I 2022-12-12 13:46:25,314]\u001b[0m Trial 40 finished with value: 0.10625867030025006 and parameters: {'x': 1.6740265803777092}. Best is trial 36 with value: 0.009441804699303133.\u001b[0m\n",
      "\u001b[32m[I 2022-12-12 13:46:25,340]\u001b[0m Trial 41 finished with value: 0.0003413576382153782 and parameters: {'x': 1.9815241336274756}. Best is trial 41 with value: 0.0003413576382153782.\u001b[0m\n",
      "\u001b[32m[I 2022-12-12 13:46:25,368]\u001b[0m Trial 42 finished with value: 2.372058434948652 and parameters: {'x': 0.45985116467639653}. Best is trial 41 with value: 0.0003413576382153782.\u001b[0m\n",
      "\u001b[32m[I 2022-12-12 13:46:25,392]\u001b[0m Trial 43 finished with value: 0.05414902942016542 and parameters: {'x': 1.7673005599057758}. Best is trial 41 with value: 0.0003413576382153782.\u001b[0m\n",
      "\u001b[32m[I 2022-12-12 13:46:25,423]\u001b[0m Trial 44 finished with value: 1.4363081734490848 and parameters: {'x': 3.198460751734943}. Best is trial 41 with value: 0.0003413576382153782.\u001b[0m\n",
      "\u001b[32m[I 2022-12-12 13:46:25,449]\u001b[0m Trial 45 finished with value: 8.66829440602695 and parameters: {'x': 4.944196733580647}. Best is trial 41 with value: 0.0003413576382153782.\u001b[0m\n",
      "\u001b[32m[I 2022-12-12 13:46:25,479]\u001b[0m Trial 46 finished with value: 6.961843684495807 and parameters: {'x': -0.6385305919196402}. Best is trial 41 with value: 0.0003413576382153782.\u001b[0m\n",
      "\u001b[32m[I 2022-12-12 13:46:25,504]\u001b[0m Trial 47 finished with value: 0.0822611583543494 and parameters: {'x': 1.7131879389663862}. Best is trial 41 with value: 0.0003413576382153782.\u001b[0m\n",
      "\u001b[32m[I 2022-12-12 13:46:25,534]\u001b[0m Trial 48 finished with value: 15.327197684241833 and parameters: {'x': -1.91499651139587}. Best is trial 41 with value: 0.0003413576382153782.\u001b[0m\n",
      "\u001b[32m[I 2022-12-12 13:46:25,562]\u001b[0m Trial 49 finished with value: 4.783221381445214 and parameters: {'x': -0.18705769961499064}. Best is trial 41 with value: 0.0003413576382153782.\u001b[0m\n",
      "\u001b[32m[I 2022-12-12 13:46:25,590]\u001b[0m Trial 50 finished with value: 27.076452806465397 and parameters: {'x': -3.2035038970356693}. Best is trial 41 with value: 0.0003413576382153782.\u001b[0m\n",
      "\u001b[32m[I 2022-12-12 13:46:25,617]\u001b[0m Trial 51 finished with value: 0.18248363877999796 and parameters: {'x': 1.5728189625229159}. Best is trial 41 with value: 0.0003413576382153782.\u001b[0m\n",
      "\u001b[32m[I 2022-12-12 13:46:25,647]\u001b[0m Trial 52 finished with value: 5.447886459204088 and parameters: {'x': 4.334070791386604}. Best is trial 41 with value: 0.0003413576382153782.\u001b[0m\n",
      "\u001b[32m[I 2022-12-12 13:46:25,678]\u001b[0m Trial 53 finished with value: 0.0008923901253574007 and parameters: {'x': 2.02987289951373}. Best is trial 41 with value: 0.0003413576382153782.\u001b[0m\n",
      "\u001b[32m[I 2022-12-12 13:46:25,711]\u001b[0m Trial 54 finished with value: 1.456973411729121 and parameters: {'x': 3.207051536484305}. Best is trial 41 with value: 0.0003413576382153782.\u001b[0m\n",
      "\u001b[32m[I 2022-12-12 13:46:25,735]\u001b[0m Trial 55 finished with value: 2.2613445202592666 and parameters: {'x': 0.4962232478658055}. Best is trial 41 with value: 0.0003413576382153782.\u001b[0m\n",
      "\u001b[32m[I 2022-12-12 13:46:25,763]\u001b[0m Trial 56 finished with value: 0.027750293951694534 and parameters: {'x': 1.8334158052164176}. Best is trial 41 with value: 0.0003413576382153782.\u001b[0m\n",
      "\u001b[32m[I 2022-12-12 13:46:25,790]\u001b[0m Trial 57 finished with value: 1.086494963140235 and parameters: {'x': 0.9576493089462477}. Best is trial 41 with value: 0.0003413576382153782.\u001b[0m\n",
      "\u001b[32m[I 2022-12-12 13:46:25,821]\u001b[0m Trial 58 finished with value: 129.22831419070837 and parameters: {'x': -9.367863220091468}. Best is trial 41 with value: 0.0003413576382153782.\u001b[0m\n",
      "\u001b[32m[I 2022-12-12 13:46:25,847]\u001b[0m Trial 59 finished with value: 13.078835060511109 and parameters: {'x': 5.616467207166561}. Best is trial 41 with value: 0.0003413576382153782.\u001b[0m\n",
      "\u001b[32m[I 2022-12-12 13:46:25,872]\u001b[0m Trial 60 finished with value: 1.490698330282231 and parameters: {'x': 3.2209415752943427}. Best is trial 41 with value: 0.0003413576382153782.\u001b[0m\n",
      "\u001b[32m[I 2022-12-12 13:46:25,903]\u001b[0m Trial 61 finished with value: 0.0007971079712184528 and parameters: {'x': 1.9717668993693847}. Best is trial 41 with value: 0.0003413576382153782.\u001b[0m\n",
      "\u001b[32m[I 2022-12-12 13:46:25,936]\u001b[0m Trial 62 finished with value: 0.007766245881683666 and parameters: {'x': 1.9118736935887832}. Best is trial 41 with value: 0.0003413576382153782.\u001b[0m\n",
      "\u001b[32m[I 2022-12-12 13:46:25,967]\u001b[0m Trial 63 finished with value: 3.834487233053655 and parameters: {'x': 0.04181532202561278}. Best is trial 41 with value: 0.0003413576382153782.\u001b[0m\n",
      "\u001b[32m[I 2022-12-12 13:46:25,991]\u001b[0m Trial 64 finished with value: 0.008128307155586918 and parameters: {'x': 1.909842875181232}. Best is trial 41 with value: 0.0003413576382153782.\u001b[0m\n",
      "\u001b[32m[I 2022-12-12 13:46:26,022]\u001b[0m Trial 65 finished with value: 1.132351126226124 and parameters: {'x': 0.9358801166099169}. Best is trial 41 with value: 0.0003413576382153782.\u001b[0m\n",
      "\u001b[32m[I 2022-12-12 13:46:26,049]\u001b[0m Trial 66 finished with value: 12.258835644541794 and parameters: {'x': -1.5012620074112983}. Best is trial 41 with value: 0.0003413576382153782.\u001b[0m\n",
      "\u001b[32m[I 2022-12-12 13:46:26,071]\u001b[0m Trial 67 finished with value: 1.0499804401864694 and parameters: {'x': 3.0246855323397854}. Best is trial 41 with value: 0.0003413576382153782.\u001b[0m\n",
      "\u001b[32m[I 2022-12-12 13:46:26,093]\u001b[0m Trial 68 finished with value: 5.514239319151592 and parameters: {'x': 4.348241750576714}. Best is trial 41 with value: 0.0003413576382153782.\u001b[0m\n",
      "\u001b[32m[I 2022-12-12 13:46:26,124]\u001b[0m Trial 69 finished with value: 0.007177660752027371 and parameters: {'x': 2.084721076197292}. Best is trial 41 with value: 0.0003413576382153782.\u001b[0m\n",
      "\u001b[32m[I 2022-12-12 13:46:26,154]\u001b[0m Trial 70 finished with value: 0.017552136394897538 and parameters: {'x': 2.13248447605247}. Best is trial 41 with value: 0.0003413576382153782.\u001b[0m\n",
      "\u001b[32m[I 2022-12-12 13:46:26,185]\u001b[0m Trial 71 finished with value: 0.04658357640736076 and parameters: {'x': 2.2158322876850467}. Best is trial 41 with value: 0.0003413576382153782.\u001b[0m\n",
      "\u001b[32m[I 2022-12-12 13:46:26,216]\u001b[0m Trial 72 finished with value: 0.7083153546276223 and parameters: {'x': 1.1583852694803742}. Best is trial 41 with value: 0.0003413576382153782.\u001b[0m\n",
      "\u001b[32m[I 2022-12-12 13:46:26,241]\u001b[0m Trial 73 finished with value: 2.7693207334600904 and parameters: {'x': 3.664127619342967}. Best is trial 41 with value: 0.0003413576382153782.\u001b[0m\n",
      "\u001b[32m[I 2022-12-12 13:46:26,270]\u001b[0m Trial 74 finished with value: 0.48075080218693617 and parameters: {'x': 2.6933619561145075}. Best is trial 41 with value: 0.0003413576382153782.\u001b[0m\n",
      "\u001b[32m[I 2022-12-12 13:46:26,303]\u001b[0m Trial 75 finished with value: 5.92543612755755 and parameters: {'x': -0.43422187311624283}. Best is trial 41 with value: 0.0003413576382153782.\u001b[0m\n",
      "\u001b[32m[I 2022-12-12 13:46:26,330]\u001b[0m Trial 76 finished with value: 25.22119994718866 and parameters: {'x': 7.022071280576238}. Best is trial 41 with value: 0.0003413576382153782.\u001b[0m\n",
      "\u001b[32m[I 2022-12-12 13:46:26,359]\u001b[0m Trial 77 finished with value: 3.1507702003393847 and parameters: {'x': 0.2249590989671859}. Best is trial 41 with value: 0.0003413576382153782.\u001b[0m\n",
      "\u001b[32m[I 2022-12-12 13:46:26,387]\u001b[0m Trial 78 finished with value: 0.00926535928553351 and parameters: {'x': 2.0962567363124966}. Best is trial 41 with value: 0.0003413576382153782.\u001b[0m\n",
      "\u001b[32m[I 2022-12-12 13:46:26,410]\u001b[0m Trial 79 finished with value: 0.6933401996673613 and parameters: {'x': 1.1673294771235376}. Best is trial 41 with value: 0.0003413576382153782.\u001b[0m\n",
      "\u001b[32m[I 2022-12-12 13:46:26,474]\u001b[0m Trial 80 finished with value: 10.231503202368232 and parameters: {'x': -1.198672099851473}. Best is trial 41 with value: 0.0003413576382153782.\u001b[0m\n",
      "\u001b[32m[I 2022-12-12 13:46:26,508]\u001b[0m Trial 81 finished with value: 0.004499199313932402 and parameters: {'x': 2.067076071097914}. Best is trial 41 with value: 0.0003413576382153782.\u001b[0m\n",
      "\u001b[32m[I 2022-12-12 13:46:26,523]\u001b[0m Trial 82 finished with value: 4.005323133313857 and parameters: {'x': 4.001330340876752}. Best is trial 41 with value: 0.0003413576382153782.\u001b[0m\n",
      "\u001b[32m[I 2022-12-12 13:46:26,535]\u001b[0m Trial 83 finished with value: 1.1246644412109872 and parameters: {'x': 3.0605019760523726}. Best is trial 41 with value: 0.0003413576382153782.\u001b[0m\n",
      "\u001b[32m[I 2022-12-12 13:46:26,547]\u001b[0m Trial 84 finished with value: 4.8625777545965855e-05 and parameters: {'x': 2.0069732185930147}. Best is trial 84 with value: 4.8625777545965855e-05.\u001b[0m\n",
      "\u001b[32m[I 2022-12-12 13:46:26,559]\u001b[0m Trial 85 finished with value: 0.5571982348074295 and parameters: {'x': 2.7464571218813774}. Best is trial 84 with value: 4.8625777545965855e-05.\u001b[0m\n",
      "\u001b[32m[I 2022-12-12 13:46:26,577]\u001b[0m Trial 86 finished with value: 1.5928130327783616 and parameters: {'x': 0.7379330315794008}. Best is trial 84 with value: 4.8625777545965855e-05.\u001b[0m\n",
      "\u001b[32m[I 2022-12-12 13:46:26,597]\u001b[0m Trial 87 finished with value: 0.3760613759266368 and parameters: {'x': 1.3867615668219768}. Best is trial 84 with value: 4.8625777545965855e-05.\u001b[0m\n",
      "\u001b[32m[I 2022-12-12 13:46:26,615]\u001b[0m Trial 88 finished with value: 2.4185269486442826 and parameters: {'x': 3.5551613899027594}. Best is trial 84 with value: 4.8625777545965855e-05.\u001b[0m\n",
      "\u001b[32m[I 2022-12-12 13:46:26,635]\u001b[0m Trial 89 finished with value: 0.02128637451976527 and parameters: {'x': 2.1458985075995134}. Best is trial 84 with value: 4.8625777545965855e-05.\u001b[0m\n",
      "\u001b[32m[I 2022-12-12 13:46:26,656]\u001b[0m Trial 90 finished with value: 6.477595565906495 and parameters: {'x': 4.545112092994431}. Best is trial 84 with value: 4.8625777545965855e-05.\u001b[0m\n",
      "\u001b[32m[I 2022-12-12 13:46:26,675]\u001b[0m Trial 91 finished with value: 0.0005384647666645927 and parameters: {'x': 1.9767951563964634}. Best is trial 84 with value: 4.8625777545965855e-05.\u001b[0m\n",
      "\u001b[32m[I 2022-12-12 13:46:26,697]\u001b[0m Trial 92 finished with value: 0.6286326582427396 and parameters: {'x': 2.7928635811050597}. Best is trial 84 with value: 4.8625777545965855e-05.\u001b[0m\n",
      "\u001b[32m[I 2022-12-12 13:46:26,717]\u001b[0m Trial 93 finished with value: 0.5761155443055387 and parameters: {'x': 1.240977243881622}. Best is trial 84 with value: 4.8625777545965855e-05.\u001b[0m\n",
      "\u001b[32m[I 2022-12-12 13:46:26,737]\u001b[0m Trial 94 finished with value: 0.00026195804582913884 and parameters: {'x': 2.0161851180356876}. Best is trial 84 with value: 4.8625777545965855e-05.\u001b[0m\n",
      "\u001b[32m[I 2022-12-12 13:46:26,751]\u001b[0m Trial 95 finished with value: 1.8928472193724006 and parameters: {'x': 0.6241921575407412}. Best is trial 84 with value: 4.8625777545965855e-05.\u001b[0m\n",
      "\u001b[32m[I 2022-12-12 13:46:26,768]\u001b[0m Trial 96 finished with value: 0.03592141869321954 and parameters: {'x': 1.810470533443426}. Best is trial 84 with value: 4.8625777545965855e-05.\u001b[0m\n",
      "\u001b[32m[I 2022-12-12 13:46:26,788]\u001b[0m Trial 97 finished with value: 4.53429475412229 and parameters: {'x': -0.12938835211482513}. Best is trial 84 with value: 4.8625777545965855e-05.\u001b[0m\n",
      "\u001b[32m[I 2022-12-12 13:46:26,807]\u001b[0m Trial 98 finished with value: 2.098173412636517 and parameters: {'x': 3.448507304999363}. Best is trial 84 with value: 4.8625777545965855e-05.\u001b[0m\n",
      "\u001b[32m[I 2022-12-12 13:46:26,823]\u001b[0m Trial 99 finished with value: 0.14784091649631584 and parameters: {'x': 2.3845008667042453}. Best is trial 84 with value: 4.8625777545965855e-05.\u001b[0m\n"
     ]
    },
    {
     "name": "stdout",
     "output_type": "stream",
     "text": [
      "best value : 4.8625777545965855e-05 (params : {'x': 2.0069732185930147})\n"
     ]
    }
   ],
   "source": [
    "import optuna\n",
    "\n",
    "def objective(trial):\n",
    "    x = trial.suggest_float('x', -10, 10)\n",
    "    return (x-2) ** 2\n",
    "\n",
    "if __name__ == \"__main__\":\n",
    "    study = optuna.create_study()\n",
    "    study.optimize(objective, n_trials = 100)\n",
    "    print('best value : {} (params : {})'.format(study.best_value, study.best_params))"
   ]
  },
  {
   "cell_type": "markdown",
   "id": "81eac290-9cb3-42a3-b750-17c3d934429c",
   "metadata": {},
   "source": [
    "## 여기부턴 커맨드라인을 따로 켜서 해야 함\n",
    "```\n",
    "$ cat foo.py\n",
    "\n",
    "# 위는 리눅스 명령어니까 된다고 치더라도 아래는 원리도 모르겠고 어떻게 된다고 하는지도 모르겠음\n",
    "# 파워쉘, cmd 다 써봤는데 둘 다 안됐다.\n",
    "$ STUDY_NAME = `optuna create-study --storage sqlite:///example.db`\n",
    "$ optuna study optimize foo.py objective --n-trials = 100 --storage sqlite:///example.db --study-name $STUDY-NAME\n",
    "```\n",
    "- 이걸 어떻게 입력하라는 건지 모르겠다"
   ]
  },
  {
   "cell_type": "markdown",
   "id": "ad02829b-8e33-4f2f-b747-0d56eb5d1e20",
   "metadata": {},
   "source": [
    "# 커맨드 목록\n",
    "- `ask` : 새 trial을 만들고 파라미터를 제안\n",
    "- `best-trial` : 가장 좋은 trial을 보여줌\n",
    "- `best-trials` : `Pareto Front`에 위치한 trial들의 리스트를 보여줌\n",
    "- `create-study`\n",
    "- `delete-study` : 뒤에 study의 이름을 같이 지정해줘야 함\n",
    "- `storage upgrade` : 스키마 업그레이드\n",
    "- `studies` : study의 목록 보여줌\n",
    "- `study optimize` : 최적화 시작\n",
    "- `study set-user-attr` : 유저 속성을 보여줌\n",
    "- `tell` : ask로 시작된 trial을 끝냄\n",
    "- `trials` : trial들을 보여줌"
   ]
  },
  {
   "cell_type": "code",
   "execution_count": null,
   "id": "03de2d1b-a8e8-4cb1-8941-79ab38be01ac",
   "metadata": {},
   "outputs": [],
   "source": []
  }
 ],
 "metadata": {
  "kernelspec": {
   "display_name": "Python 3 (ipykernel)",
   "language": "python",
   "name": "python3"
  },
  "language_info": {
   "codemirror_mode": {
    "name": "ipython",
    "version": 3
   },
   "file_extension": ".py",
   "mimetype": "text/x-python",
   "name": "python",
   "nbconvert_exporter": "python",
   "pygments_lexer": "ipython3",
   "version": "3.9.13"
  }
 },
 "nbformat": 4,
 "nbformat_minor": 5
}
