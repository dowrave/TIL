{
 "cells": [
  {
   "cell_type": "markdown",
   "metadata": {},
   "source": [
    "## [문제 링크](https://school.programmers.co.kr/learn/courses/30/lessons/42860)\n",
    "- 문자열이 주어질 때, 같은 길이의 A로만 구성된 문자열이 있다고 하자\n",
    "- 조이스틱은 4개의 조작법이 있다. 위 : 다음 알파벳 / 아래 : 이전 알파벳(A -> Z), 오른쪽 : 커서 오른쪽 이동, 왼쪽 : 커서 왼쪽 이동\n",
    "- 같은 길이의 A로만 구성된 문자열 -> 주어진 문자열을 얻기 위한 최소 조이스틱 조작 횟수를 구하시오 "
   ]
  },
  {
   "cell_type": "markdown",
   "metadata": {},
   "source": [
    "### 걸리는 지점\n",
    "1. 좌우 이동 구현에서, A가 이미 있는 경우는 굳이 지나가지 않아도 될 수도, 지나가야 할 수도 있다. 이 차이를 어떻게 구현할 것인가?\n",
    "    - XAXAAAAAAX 와 XAXAAX를 생각해보면 전자는 오른쪽으로 갔다가 다시 왼쪽으로, 후자는 오른쪽으로 쭉 가는 게 더 이득이다."
   ]
  },
  {
   "cell_type": "code",
   "execution_count": 53,
   "metadata": {},
   "outputs": [
    {
     "name": "stdout",
     "output_type": "stream",
     "text": [
      "0\n",
      "A A\n"
     ]
    },
    {
     "ename": "IndexError",
     "evalue": "string index out of range",
     "output_type": "error",
     "traceback": [
      "\u001b[1;31m---------------------------------------------------------------------------\u001b[0m",
      "\u001b[1;31mIndexError\u001b[0m                                Traceback (most recent call last)",
      "Cell \u001b[1;32mIn[53], line 29\u001b[0m\n\u001b[0;32m     25\u001b[0m \u001b[39mprint\u001b[39m(left_shift, right_shift) \n\u001b[0;32m     27\u001b[0m \u001b[39m# 2. 반대쪽 방향으로, 끄트머리에 A가 없을 때까지 추가로 이동한다.\u001b[39;00m\n\u001b[0;32m     28\u001b[0m \u001b[39m# 이를 위해 left_shift, right_shift의 마지막에 있는 A를 모두 제거해준다.\u001b[39;00m\n\u001b[1;32m---> 29\u001b[0m \u001b[39mwhile\u001b[39;00m left_shift[\u001b[39m-\u001b[39;49m\u001b[39m1\u001b[39;49m] \u001b[39m==\u001b[39m \u001b[39m\"\u001b[39m\u001b[39mA\u001b[39m\u001b[39m\"\u001b[39m:\n\u001b[0;32m     30\u001b[0m     left_shift \u001b[39m=\u001b[39m left_shift[:\u001b[39m-\u001b[39m\u001b[39m1\u001b[39m]\n\u001b[0;32m     31\u001b[0m \u001b[39mwhile\u001b[39;00m right_shift[\u001b[39m-\u001b[39m\u001b[39m1\u001b[39m] \u001b[39m==\u001b[39m \u001b[39m\"\u001b[39m\u001b[39mA\u001b[39m\u001b[39m\"\u001b[39m:\n",
      "\u001b[1;31mIndexError\u001b[0m: string index out of range"
     ]
    }
   ],
   "source": [
    "name = \"A\"\n",
    "\n",
    "if set(name) == {\"A\"}:\n",
    "    # return 0\n",
    "    print(0)\n",
    "\n",
    "# 추가로 더할 값은 n-1번(오른쪽 입력)\n",
    "n = len(name)\n",
    "\n",
    "# 총 조작 횟수\n",
    "count = 0 \n",
    "\n",
    "# 좌우조작 : 일차적으로 i만큼 이동한 다음 반대방향으로 꺾는다.\n",
    "# i가 절반을 넘어가면 돌아가는 게 손해이므로 그 경우는 포함하지 않는다.\n",
    "# 참고) 슬라이스 :0 은 빈 리스트를 반환한다.\n",
    "\n",
    "horizontal_move = 30 # 40을 넘지 않음\n",
    "for i in range(n // 2 + 1):\n",
    "\n",
    "    # 1. 한쪽 방향으로 i칸 만큼 진행하고, 반대쪽을 본다\n",
    "    #\n",
    "    left_shift = name[-i:] + name[:-i] # 왼쪽으로 i칸 이동 후 오른쪽을 봄\n",
    "    right_shift = name[i::-1] + name[:i:-1] # 오른쪽으로 i칸 이동 후 왼쪽을 봄. 순서를 뒤집어서 리스트로는 똑같이 오른쪽을 보는 것으로 표현.\n",
    "\n",
    "    print(left_shift, right_shift) \n",
    "    \n",
    "    # 2. 반대쪽 방향으로, 끄트머리에 A가 없을 때까지 추가로 이동한다.\n",
    "    # 이를 위해 left_shift, right_shift의 마지막에 있는 A를 모두 제거해준다.\n",
    "    while left_shift[-1] == \"A\":\n",
    "        left_shift = left_shift[:-1]\n",
    "    while right_shift[-1] == \"A\":\n",
    "        right_shift = right_shift[:-1]\n",
    "    print(left_shift, right_shift)\n",
    "\n",
    "    # 3. 최초 이동한 i와 마지막으로 남은 글자의 길이 - 1을 더해준다.\n",
    "    left_move = i + len(left_shift) - 1\n",
    "    right_move = i + len(right_shift) - 1\n",
    "\n",
    "    print(i, left_move, right_move)\n",
    "    horizontal_move = min(horizontal_move, left_move, right_move)\n",
    "\n",
    "\n",
    "# 위아래 조작 - 좌우 조작과 별개로 그 횟수는 고정되어 있음\n",
    "vertical_move = 0\n",
    "\n",
    "start_idx = ord(\"A\") - ord(\"A\")\n",
    "end_idx = ord(\"Z\") - ord(\"A\")\n",
    "mid_idx = (end_idx - start_idx) // 2\n",
    "\n",
    "for i in name:\n",
    "\n",
    "    chr_idx = (ord(i) - ord(\"A\")) # 0 ~ 25\n",
    "\n",
    "    if chr_idx > mid_idx:\n",
    "        move = abs(chr_idx - (end_idx + 1)) # A : 0 = 26에서 출발한다고 생각\n",
    "        vertical_move += move \n",
    "    else:\n",
    "        move = abs(chr_idx - start_idx)\n",
    "        vertical_move += move \n",
    "\n",
    "print(horizontal_move)\n",
    "print(vertical_move)\n",
    "print(horizontal_move + vertical_move)"
   ]
  },
  {
   "cell_type": "code",
   "execution_count": 34,
   "metadata": {},
   "outputs": [],
   "source": [
    "# 모든 순서는 1부터 센다.\n",
    "\n",
    "# 12345가 있다고 치자\n",
    "# 중간에 꺾는 상황이 1번 있다고 가정함. 2번 이상 꺾는 건 방향까지 같은 중복 경로가 생기므로 비효율적임.\n",
    "    # 꺾는 지점을 최초 지점으로 삼으면 한 쪽 방향의 이동도 이 안에 포함되는 개념이다.\n",
    "    # 그리고 절반 길이를 넘어가면 꺾는 것보다 그냥 진행하는 게 더 유리하다. \n",
    "\n",
    "# 예를 들어 오른쪽으로 진행하다가 2번째 인덱스 2에서 꺾는다고 생각하면, 해당 시점에서 보는 방향은 34512(<-)이 된다.\n",
    "# 이 때 만약에 끄트머리에 A가 있다면 굳이 거기까지는 진행하지 않아도 된다!\n",
    "\n",
    "# 예를 들어 ABAAB가 있다면\n",
    "# 1번 인덱스에서 왼쪽을 보면 AABAB (<-)이 되는데, 끝의 AA는 갈 필요가 없는 지점이므로, 마지막 B에서 3번째 B까지만 두 칸 이동하면 되는 개념이다.\n",
    "\n",
    "# 왼쪽을 보는 경우도 세준다\n",
    "# 45123(->) // ABAAB(좌로 이동 1) ABABA(우로 이동) "
   ]
  },
  {
   "cell_type": "code",
   "execution_count": 44,
   "metadata": {},
   "outputs": [
    {
     "name": "stdout",
     "output_type": "stream",
     "text": [
      "DEABC\n",
      "CDEAB\n",
      "CBAED\n"
     ]
    }
   ],
   "source": [
    "text = 'ABCDE'\n",
    "\n",
    "# 왼쪽 이동\n",
    "left = text[-2:] + text[:-2]\n",
    "print(left)\n",
    "\n",
    "# 오른쪽 이동\n",
    "right = text[2:] + text[:2]\n",
    "print(right)\n",
    "\n",
    "# 근데 오른쪽은 방향을 통일해주고 싶다. 즉 CBAED로.\n",
    "right = text[2::-1] + text[:2:-1]\n",
    "print(right)"
   ]
  },
  {
   "cell_type": "code",
   "execution_count": 52,
   "metadata": {},
   "outputs": [
    {
     "data": {
      "text/plain": [
       "{'A'}"
      ]
     },
     "execution_count": 52,
     "metadata": {},
     "output_type": "execute_result"
    }
   ],
   "source": [
    "name = \"AAAA\"\n",
    "set(name)"
   ]
  },
  {
   "cell_type": "code",
   "execution_count": null,
   "metadata": {},
   "outputs": [],
   "source": []
  }
 ],
 "metadata": {
  "kernelspec": {
   "display_name": "Python 3",
   "language": "python",
   "name": "python3"
  },
  "language_info": {
   "codemirror_mode": {
    "name": "ipython",
    "version": 3
   },
   "file_extension": ".py",
   "mimetype": "text/x-python",
   "name": "python",
   "nbconvert_exporter": "python",
   "pygments_lexer": "ipython3",
   "version": "3.10.8"
  },
  "orig_nbformat": 4
 },
 "nbformat": 4,
 "nbformat_minor": 2
}
