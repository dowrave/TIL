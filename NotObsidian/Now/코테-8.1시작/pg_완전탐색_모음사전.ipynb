{
 "cells": [
  {
   "cell_type": "markdown",
   "metadata": {},
   "source": [
    "### [문제 링크](https://school.programmers.co.kr/learn/courses/30/lessons/84512)\n",
    "- A, E, I, O, U를 중복해서 만들 수 있는 길이 5 이하의 모든 단어가 있는 사전이 있다고 하자\n",
    "- `word`가 주어지면 이 단어가 사전에서 몇 번째 단어인지 return하는 함수를 완성하시오"
   ]
  },
  {
   "cell_type": "code",
   "execution_count": 14,
   "metadata": {},
   "outputs": [
    {
     "name": "stdout",
     "output_type": "stream",
     "text": [
      "6\n"
     ]
    }
   ],
   "source": [
    "from itertools import product\n",
    "\n",
    "lst = ['A', 'E', 'I', 'O', 'U']\n",
    "\n",
    "ans = []\n",
    "for i in range(1, 6):\n",
    "    temp_lst = list(product(lst, repeat = i))\n",
    "    for i in range(len(temp_lst)):\n",
    "        ans.append(\"\".join(temp_lst[i]))\n",
    "\n",
    "ans.sort()\n",
    "\n",
    "word = \"AAAAE\"\n",
    "number = ans.index(word)\n",
    "print(number + 1)"
   ]
  },
  {
   "cell_type": "code",
   "execution_count": 7,
   "metadata": {},
   "outputs": [
    {
     "name": "stdout",
     "output_type": "stream",
     "text": [
      "('A', 'B')\n",
      "('A', 'C')\n",
      "('B', 'C')\n"
     ]
    }
   ],
   "source": [
    "from itertools import combinations\n",
    "\n",
    "sets = ['A', 'B', 'C']\n",
    "\n",
    "data = combinations(sets, 2)\n",
    "\n",
    "for i in data:\n",
    "   print(i)"
   ]
  },
  {
   "cell_type": "code",
   "execution_count": 8,
   "metadata": {},
   "outputs": [
    {
     "name": "stdout",
     "output_type": "stream",
     "text": [
      "(1, 1)\n",
      "(1, 2)\n",
      "(1, 3)\n",
      "(2, 1)\n",
      "(2, 2)\n",
      "(2, 3)\n",
      "(3, 1)\n",
      "(3, 2)\n",
      "(3, 3)\n"
     ]
    }
   ],
   "source": [
    "from itertools import product\n",
    "\n",
    "sets = [1,2,3]\n",
    "\n",
    "#2개를 뽑아 일렬로 나열하는 경우의 수(단, 중복 허용)\n",
    "data = product(sets, repeat = 2)\n",
    "\n",
    "for i in data:\n",
    "   print(i)"
   ]
  },
  {
   "cell_type": "code",
   "execution_count": 10,
   "metadata": {},
   "outputs": [
    {
     "name": "stdout",
     "output_type": "stream",
     "text": [
      "('A', 'A')\n",
      "('A', 'B')\n",
      "('A', 'C')\n",
      "('B', 'B')\n",
      "('B', 'C')\n",
      "('C', 'C')\n"
     ]
    }
   ],
   "source": [
    "from itertools import combinations_with_replacement\n",
    "\n",
    "sets = ['A', 'B', 'C']\n",
    "\n",
    "data = combinations_with_replacement(sets, 2)\n",
    "\n",
    "for i in data:\n",
    "   print(i)"
   ]
  },
  {
   "cell_type": "code",
   "execution_count": null,
   "metadata": {},
   "outputs": [],
   "source": []
  }
 ],
 "metadata": {
  "kernelspec": {
   "display_name": "Python 3",
   "language": "python",
   "name": "python3"
  },
  "language_info": {
   "codemirror_mode": {
    "name": "ipython",
    "version": 3
   },
   "file_extension": ".py",
   "mimetype": "text/x-python",
   "name": "python",
   "nbconvert_exporter": "python",
   "pygments_lexer": "ipython3",
   "version": "3.10.8"
  },
  "orig_nbformat": 4
 },
 "nbformat": 4,
 "nbformat_minor": 2
}
