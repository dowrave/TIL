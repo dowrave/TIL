{
 "cells": [
  {
   "cell_type": "code",
   "execution_count": 7,
   "metadata": {},
   "outputs": [
    {
     "name": "stdout",
     "output_type": "stream",
     "text": [
      "5\n"
     ]
    }
   ],
   "source": [
    "from collections import defaultdict\n",
    "clothes = [[\"yellow_hat\", \"headgear\"], [\"blue_sunglasses\", \"eyewear\"], [\"green_turban\", \"headgear\"]]\n",
    "\n",
    "\n",
    "dct = defaultdict(int) # defaultdict 쓸 때 여기\n",
    "for i, j in clothes:\n",
    "    dct[j] += 1\n",
    "\n",
    "# 떠올랐다 -> 각 종류에 들어가는 자리를 0부터 센다고 생각하면 됨\n",
    "# 그러면 헤드기어는 3개, 아이웨어는 2개가 들어가는데, 둘 다 0인 경우는 제외라서 1을 빼준다.\n",
    "ans = 1\n",
    "for i in dct:\n",
    "    ans *= (dct[i] + 1)\n",
    "ans -= 1\n",
    "print(ans)"
   ]
  },
  {
   "cell_type": "code",
   "execution_count": null,
   "metadata": {},
   "outputs": [],
   "source": []
  }
 ],
 "metadata": {
  "kernelspec": {
   "display_name": "Python 3",
   "language": "python",
   "name": "python3"
  },
  "language_info": {
   "codemirror_mode": {
    "name": "ipython",
    "version": 3
   },
   "file_extension": ".py",
   "mimetype": "text/x-python",
   "name": "python",
   "nbconvert_exporter": "python",
   "pygments_lexer": "ipython3",
   "version": "3.10.8"
  },
  "orig_nbformat": 4
 },
 "nbformat": 4,
 "nbformat_minor": 2
}
