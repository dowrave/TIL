{
 "cells": [
  {
   "cell_type": "markdown",
   "metadata": {},
   "source": [
    "### [문제 링크](https://school.programmers.co.kr/learn/courses/30/lessons/87946)\n",
    "- 최대한 많은 던전을 탐험하고자 할 때, 유저가 탐험할 수 있는 최대 던전 수를 return하시오"
   ]
  },
  {
   "cell_type": "code",
   "execution_count": 33,
   "metadata": {},
   "outputs": [
    {
     "name": "stdout",
     "output_type": "stream",
     "text": [
      "3\n"
     ]
    }
   ],
   "source": [
    "from itertools import permutations as p\n",
    "\n",
    "dungeons = [[80,20],[50,40],[30,10]] # 각각 최소 필요 피로도, 소모 피로도\n",
    "\n",
    "cases = p(dungeons)\n",
    "max_dungeons = 0\n",
    "k = 80\n",
    "\n",
    "for case in cases:\n",
    "    k_copy = k # 케이스마다 초기화 필요\n",
    "    now_dungeons = 0\n",
    "\n",
    "    for need, usage in case:\n",
    "        if k_copy >= need:\n",
    "            k_copy -= usage\n",
    "            now_dungeons += 1\n",
    "        else:\n",
    "            continue\n",
    "\n",
    "    max_dungeons = max(max_dungeons, now_dungeons)\n",
    "\n",
    "\n",
    "print(max_dungeons)\n"
   ]
  },
  {
   "cell_type": "code",
   "execution_count": 34,
   "metadata": {},
   "outputs": [],
   "source": [
    "# 이상한 데서 헤맸넹 ㅎ"
   ]
  },
  {
   "cell_type": "code",
   "execution_count": null,
   "metadata": {},
   "outputs": [],
   "source": []
  },
  {
   "cell_type": "code",
   "execution_count": null,
   "metadata": {},
   "outputs": [],
   "source": []
  }
 ],
 "metadata": {
  "kernelspec": {
   "display_name": "Python 3",
   "language": "python",
   "name": "python3"
  },
  "language_info": {
   "codemirror_mode": {
    "name": "ipython",
    "version": 3
   },
   "file_extension": ".py",
   "mimetype": "text/x-python",
   "name": "python",
   "nbconvert_exporter": "python",
   "pygments_lexer": "ipython3",
   "version": "3.10.8"
  },
  "orig_nbformat": 4
 },
 "nbformat": 4,
 "nbformat_minor": 2
}
