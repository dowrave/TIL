{
 "cells": [
  {
   "cell_type": "markdown",
   "metadata": {},
   "source": [
    "## 문제\n",
    "- `numbers`에 값이 들어올 때, 순서를 재배치하여 만들 수 있는 가장 큰 수를 문자열로 바꿔서 리턴하도록 하시오\n"
   ]
  },
  {
   "cell_type": "code",
   "execution_count": 21,
   "metadata": {},
   "outputs": [
    {
     "name": "stdout",
     "output_type": "stream",
     "text": [
      "0000\n"
     ]
    }
   ],
   "source": [
    "# numbers로 만들 수 있는 가장 큰 수를 알아내보자. \n",
    "\n",
    "numbers = [0, 0, 0, 0]\n",
    "\n",
    "# 가장 큰 숫자가 앞으로 와야 함. 근데 두자리수부터는 아니다\n",
    "# 근데 두자리수도 뒤 숫자가 앞 숫자보다 작으면 한자리수가 앞에 와야 함\n",
    "sorted_numbers = list(map(str, numbers))\n",
    "\n",
    "\n",
    "# 미친 풀이를 봤다. 이용해보자.\n",
    "# 정수가 1000 이하라는 것을 이용해, 각 문자를 확장시켜보고 4자리까지만 비교해본다\n",
    "# 그러면 기존 내림차순에는 30 - 3 순으로 나타나는 것이, 3030과 3333으로 비교하면서 3 - 30 순으로 오게 된다.\n",
    "sorted_numbers.sort(key = lambda x : (x*4)[:4], reverse = True)\n",
    "\n",
    "\n",
    "answer = \"\".join(sorted_numbers)\n",
    "\n",
    "# 0부터니까, 0이 여러개 오는 경우가 있을 수 있다.\n",
    "if answer[0] == '0':\n",
    "    answer = 0\n"
   ]
  },
  {
   "cell_type": "markdown",
   "metadata": {},
   "source": [
    "- 그냥 내림차순으로 구현하면, 앞 자리 수가 뒷 자리 수보다 큰 경우가 작동하지 않는다. \n",
    "- 예를 들면 `3`과 `30`이 있다면, `3`이 앞에 와야 가장 큰 수를 만들 수 있다. 반면 `34`와 `3`을 비교하면 `34`가 앞에 와야 함.\n",
    "- 프로그래머스의 풀이 중 이런 트릭이 있었다 : **모든 숫자를 4자리수로 맞춘 상태에서(문자열에 x4를 한 뒤, 4번째 값까지만 이용한다) 내림차순 정렬을 이용하는 것이다.**\n",
    "  - 인풋이 1000까지라서 4자리로 맞춰준 것임\n",
    "  - 숫자로 된 문자열의 정렬도 숫자형의 정렬처럼 작동한다."
   ]
  },
  {
   "cell_type": "code",
   "execution_count": null,
   "metadata": {},
   "outputs": [],
   "source": []
  }
 ],
 "metadata": {
  "kernelspec": {
   "display_name": "Python 3",
   "language": "python",
   "name": "python3"
  },
  "language_info": {
   "codemirror_mode": {
    "name": "ipython",
    "version": 3
   },
   "file_extension": ".py",
   "mimetype": "text/x-python",
   "name": "python",
   "nbconvert_exporter": "python",
   "pygments_lexer": "ipython3",
   "version": "3.10.8"
  },
  "orig_nbformat": 4
 },
 "nbformat": 4,
 "nbformat_minor": 2
}
