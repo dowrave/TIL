{
 "cells": [
  {
   "cell_type": "markdown",
   "metadata": {},
   "source": [
    "- 작업이 요청되는 시점, 작업의 소요 시간을 담은 2차원 배열 `jobs`가 들어올 때 작업의 요청부터 종료까지 걸린 시간까지의 최소 평균 소요 시간은?\n",
    "- 소수점 이하는 버린다.\n",
    "[문제](https://school.programmers.co.kr/learn/courses/30/lessons/42627)\n",
    "- 하드디스크 작업 수행이 아닐 때는 먼저 들어온 것부터 처리한다"
   ]
  },
  {
   "cell_type": "code",
   "execution_count": 1,
   "metadata": {},
   "outputs": [],
   "source": []
  },
  {
   "cell_type": "code",
   "execution_count": 26,
   "metadata": {},
   "outputs": [
    {
     "name": "stdout",
     "output_type": "stream",
     "text": [
      "jobs :  [[1, 9], [2, 6]]\n",
      "access :  []\n",
      "arr :  [3, 0, 0]\n",
      "1\n",
      "jobs :  []\n",
      "access :  [[9, 1]]\n",
      "arr :  [3, 7, 0]\n",
      "3\n",
      "jobs :  []\n",
      "access :  []\n",
      "arr :  [3, 7, 17]\n",
      "9\n"
     ]
    }
   ],
   "source": [
    "import heapq\n",
    "\n",
    "jobs = [[0, 3], [1, 9], [2, 6]]\n",
    "\n",
    "arr = [0] * len(jobs)\n",
    "arr_idx = 0 \n",
    "time_elapsed = 0\n",
    "access = []\n",
    "\n",
    "heapq.heapify(jobs)\n",
    "\n",
    "while jobs or access:\n",
    "\n",
    "    # 당장 후보로 오는 애들임\n",
    "    while jobs:\n",
    "        if jobs and jobs[0][0] > time_elapsed:\n",
    "            break\n",
    "\n",
    "        input_time, time = heapq.heappop(jobs)\n",
    "        heapq.heappush(access, [time, input_time]) # 푸는 아이디어는 힙의 원소를 뒤집는 거임 (근데 이게 어떤 원리로 작용하는지는 모름. 예제 따라함 ㅎ)\n",
    "\n",
    "    if access == []:\n",
    "        time_elapsed += 1\n",
    "        continue\n",
    "\n",
    "    time, input_time = heapq.heappop(access)\n",
    "\n",
    "    time_elapsed += time \n",
    "    arr[arr_idx] = time_elapsed - input_time \n",
    "    arr_idx += 1\n",
    "\n",
    "    print(\"jobs : \", jobs)\n",
    "    print(\"access : \", access)\n",
    "    print(\"arr : \", arr)\n",
    "\n",
    "    print(sum(arr) // len(arr))"
   ]
  },
  {
   "cell_type": "code",
   "execution_count": 2,
   "metadata": {},
   "outputs": [],
   "source": [
    "# 뭐를 기준으로 최소단위 큐를 구현할 것이냐?\n",
    "# 생각해보자 : 0, 3이라는 작업이 끝난 시점에서 다음에 들어올 값들은 1, 9나 2, 6임\n",
    "# 1. 이 때 총 지난 시간보다 앞의 인덱스 값이 작아야 들어올 수 있음\n",
    "# 2. 어떤 값을 기준으로 넣을 거냐 : 각 값이 갖고 있는 값을 이용해 작업이 끝나는 시간을 계산할 수 있음\n",
    "# 1, 9는 3+9니까 12, (2, 6)은 3 + 6이니까 9\n",
    "# 여기서 각각 인풋부터 실행까지 걸린 시간은 앞의 인덱스를 빼주면 됨 : 11, 7\n",
    "# 이렇게 계산한 최솟값을 이용하나??\n",
    "\n",
    "## 일단 어떤 원리로 저게 구현되는지를 몰라서 위 방식처럼 가보고 오답을 맞춰나가는 식으로 하자\n",
    "## 사실 왜 힙큐를 써야하는 지도 이해가 안됨 ㅋㅋ"
   ]
  },
  {
   "cell_type": "code",
   "execution_count": null,
   "metadata": {},
   "outputs": [],
   "source": []
  }
 ],
 "metadata": {
  "kernelspec": {
   "display_name": "Python 3",
   "language": "python",
   "name": "python3"
  },
  "language_info": {
   "codemirror_mode": {
    "name": "ipython",
    "version": 3
   },
   "file_extension": ".py",
   "mimetype": "text/x-python",
   "name": "python",
   "nbconvert_exporter": "python",
   "pygments_lexer": "ipython3",
   "version": "3.10.8"
  },
  "orig_nbformat": 4
 },
 "nbformat": 4,
 "nbformat_minor": 2
}
