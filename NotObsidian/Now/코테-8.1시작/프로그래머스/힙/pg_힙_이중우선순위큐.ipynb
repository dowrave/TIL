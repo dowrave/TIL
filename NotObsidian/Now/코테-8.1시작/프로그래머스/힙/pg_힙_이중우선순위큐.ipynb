{
 "cells": [
  {
   "cell_type": "markdown",
   "metadata": {},
   "source": [
    "```\n",
    "명령어\t수신 탑(높이)\n",
    "I 숫자\t큐에 주어진 숫자를 삽입합니다.\n",
    "D 1\t큐에서 최댓값을 삭제합니다.\n",
    "D -1\t큐에서 최솟값을 삭제합니다.\n",
    "```\n",
    "- 이중 우선순위 큐가 위와 같을 때, `operations` 매개변수를 받은 상황에서 모든 연산 처리 후 큐가 비어 있으면 `[0, 0]`, 아니면 `[최댓값, 최솟값]`을 리턴하는 함수 구현하시오"
   ]
  },
  {
   "cell_type": "code",
   "execution_count": 20,
   "metadata": {},
   "outputs": [
    {
     "name": "stdout",
     "output_type": "stream",
     "text": [
      "[16]\n",
      "[-5643, 16]\n",
      "[16]\n",
      "[]\n",
      "[]\n",
      "[123]\n",
      "[]\n",
      "[0, 0]\n"
     ]
    }
   ],
   "source": [
    "import heapq \n",
    "operations = [\"I 16\", \"I -5643\", \"D -1\", \"D 1\", \"D 1\", \"I 123\", \"D -1\"]\n",
    "\n",
    "answer = []\n",
    "\n",
    "for i in operations:\n",
    "\n",
    "   \n",
    "\n",
    "    if i == \"D 1\" and answer: # 최댓값 삭제\n",
    "        answer = heapq.nlargest(len(answer), answer)[1:]\n",
    "        heapq.heapify(answer)\n",
    "\n",
    "    elif i == \"D -1\" and answer: # 최솟값 삭제\n",
    "        heapq.heappop(answer)\n",
    "\n",
    "    elif i[0] == \"I\": # answer 때문에 else로 쓰면 안됨\n",
    "        value = int(i.split(\" \")[1])\n",
    "        heapq.heappush(answer, value)\n",
    "    \n",
    "    print(answer)\n",
    "\n",
    "if answer:\n",
    "    print([max(answer), min(answer)])\n",
    "else:\n",
    "    print([0, 0])"
   ]
  },
  {
   "cell_type": "markdown",
   "metadata": {},
   "source": [
    "## 지식이 늘었다 : `heapq.nlargest(n, arr)`\n",
    "- 해당 arr에서 최댓값부터 순서대로 정렬해줌.\n",
    "- 이를 이용하면 최대우선순위 큐를 `(-value, +value)`로 구현하는 대신 최소 우선순위 큐를 이용하면서도 최댓값을 제외할 수 있다."
   ]
  },
  {
   "cell_type": "code",
   "execution_count": null,
   "metadata": {},
   "outputs": [],
   "source": []
  },
  {
   "cell_type": "code",
   "execution_count": null,
   "metadata": {},
   "outputs": [],
   "source": []
  }
 ],
 "metadata": {
  "kernelspec": {
   "display_name": "Python 3",
   "language": "python",
   "name": "python3"
  },
  "language_info": {
   "codemirror_mode": {
    "name": "ipython",
    "version": 3
   },
   "file_extension": ".py",
   "mimetype": "text/x-python",
   "name": "python",
   "nbconvert_exporter": "python",
   "pygments_lexer": "ipython3",
   "version": "3.10.8"
  },
  "orig_nbformat": 4
 },
 "nbformat": 4,
 "nbformat_minor": 2
}
