{
 "cells": [
  {
   "cell_type": "code",
   "execution_count": 74,
   "metadata": {},
   "outputs": [],
   "source": [
    "import heapq\n",
    "scoville = [100000, 99999]\n",
    "K = 100000 # K 이상이 될 때까지 반복하여 섞는다 -> 섞을 때 그 값은 가장 덜 매운 지수 + 두 번째로 맵지 않은 지수 * 2\n"
   ]
  },
  {
   "cell_type": "code",
   "execution_count": 75,
   "metadata": {},
   "outputs": [
    {
     "name": "stdout",
     "output_type": "stream",
     "text": [
      "[99999, 100000]\n",
      "1\n"
     ]
    }
   ],
   "source": [
    "count = 0\n",
    "heapq.heapify(scoville) # 처음에 리스트가 어떻게 들어올지 모르니 heap으로 만들고 시작함. 이게 성능에도 영향이 큰가 보다.\n",
    "\n",
    "while len(scoville) > 1 and scoville[0] < K:\n",
    "    print(scoville)\n",
    "    a = heapq.heappop(scoville)\n",
    "    b = heapq.heappop(scoville)\n",
    "\n",
    "    heapq.heappush(scoville, a + 2 * b)\n",
    "    count += 1\n",
    "\n",
    "if scoville[0] < K:\n",
    "    print(-1)\n",
    "else:\n",
    "    print(count)\n",
    "\n"
   ]
  },
  {
   "cell_type": "code",
   "execution_count": 16,
   "metadata": {},
   "outputs": [
    {
     "name": "stdout",
     "output_type": "stream",
     "text": [
      "[3, 5, 10, 12, 9]\n"
     ]
    }
   ],
   "source": [
    "print(scoville)"
   ]
  },
  {
   "cell_type": "code",
   "execution_count": null,
   "metadata": {},
   "outputs": [],
   "source": []
  }
 ],
 "metadata": {
  "kernelspec": {
   "display_name": "Python 3",
   "language": "python",
   "name": "python3"
  },
  "language_info": {
   "codemirror_mode": {
    "name": "ipython",
    "version": 3
   },
   "file_extension": ".py",
   "mimetype": "text/x-python",
   "name": "python",
   "nbconvert_exporter": "python",
   "pygments_lexer": "ipython3",
   "version": "3.10.8"
  },
  "orig_nbformat": 4
 },
 "nbformat": 4,
 "nbformat_minor": 2
}
