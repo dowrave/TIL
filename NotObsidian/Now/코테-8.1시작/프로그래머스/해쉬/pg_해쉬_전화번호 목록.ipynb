{
 "cells": [
  {
   "cell_type": "code",
   "execution_count": 24,
   "metadata": {},
   "outputs": [
    {
     "data": {
      "text/plain": [
       "True"
      ]
     },
     "execution_count": 24,
     "metadata": {},
     "output_type": "execute_result"
    }
   ],
   "source": [
    "from collections import defaultdict\n",
    "phone_book = [\"123\",\"456\",\"789\"]\n",
    "# 1. Hash 풀이\n",
    "def solution(phone_book):\n",
    "    dct = defaultdict()\n",
    "\n",
    "    for i in phone_book:\n",
    "        dct[i] = 0\n",
    "\n",
    "    for i in dct:\n",
    "        for j in range(len(i)):\n",
    "            if i[:j] in dct:\n",
    "                return False\n",
    "    \n",
    "    return True\n",
    "\n",
    "solution(phone_book)\n",
    "        "
   ]
  },
  {
   "cell_type": "code",
   "execution_count": 26,
   "metadata": {},
   "outputs": [
    {
     "data": {
      "text/plain": [
       "True"
      ]
     },
     "execution_count": 26,
     "metadata": {},
     "output_type": "execute_result"
    }
   ],
   "source": [
    "# 2. sort 풀이 - 문자열은 앞부터 순서대로 오는 원리를 이용함\n",
    "def solution(phone_book):\n",
    "    \n",
    "    phone_book.sort()\n",
    "\n",
    "    for i in range(len(phone_book) - 1):\n",
    "        for j in range(len(phone_book[i+1])): # 뒷글자의 길이 전체 검사\n",
    "            if phone_book[i+1][:j] == phone_book[i]:\n",
    "                return False\n",
    "    \n",
    "    return True\n",
    "\n",
    "solution(phone_book)\n"
   ]
  },
  {
   "cell_type": "code",
   "execution_count": null,
   "metadata": {},
   "outputs": [],
   "source": []
  }
 ],
 "metadata": {
  "kernelspec": {
   "display_name": "Python 3",
   "language": "python",
   "name": "python3"
  },
  "language_info": {
   "codemirror_mode": {
    "name": "ipython",
    "version": 3
   },
   "file_extension": ".py",
   "mimetype": "text/x-python",
   "name": "python",
   "nbconvert_exporter": "python",
   "pygments_lexer": "ipython3",
   "version": "3.10.8"
  },
  "orig_nbformat": 4
 },
 "nbformat": 4,
 "nbformat_minor": 2
}
