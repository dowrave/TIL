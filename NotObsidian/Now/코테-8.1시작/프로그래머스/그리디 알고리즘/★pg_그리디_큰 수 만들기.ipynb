{
 "cells": [
  {
   "cell_type": "markdown",
   "metadata": {},
   "source": [
    "### [문제 링크](https://school.programmers.co.kr/learn/courses/30/lessons/42883)\n",
    "- 숫자 k개를 제거했을 때 얻을 수 있는 가장 큰 숫자?\n",
    "- **숫자 순서가 뒤집히면 안된다**\n",
    "- 참고) 작은 숫자부터 제거하는 건 아니다. 4177252841에서 4개 제거했을 때 제일 큰 수는 775841임"
   ]
  },
  {
   "cell_type": "code",
   "execution_count": 5,
   "metadata": {},
   "outputs": [
    {
     "name": "stdout",
     "output_type": "stream",
     "text": [
      "95\n",
      "95\n"
     ]
    }
   ],
   "source": [
    "number = \"9543\"\n",
    "k = 2\n",
    "\n",
    "# 검색 결과 : 스택으로 구현 가능\n",
    "# 1. 탑이 없다면 푸시\n",
    "# 2. 다음에 들어올 수가 top보다 크다면, 스택에 들어 있는 수가 top보다 모두 작아질 때 까지 pop한다.\n",
    "# 3. 여기서 제거되어야 할 숫자의 갯수가 k이며, k가 0이면 더 이상 pop 되지 않는다.\n",
    "\n",
    "k_init = k\n",
    "stack = []\n",
    "for i in number:\n",
    "    while k > 0 and stack and stack[-1] < i:\n",
    "        stack.pop()\n",
    "        k -= 1\n",
    "    stack.append(i)\n",
    "\n",
    "# len(stack) 자체는 결국 (len(number) - 빠진 값의 개수) 만큼 들어가 있음\n",
    "# k값이 남아 있는 경우가 있을 수 있으며, 이 떄 k는 (k_init - 빠진 값의 개수)임.\n",
    "# 따라서 스택 슬라이싱은 결국 (len(number) - k_init)와 동일함\n",
    "print(\"\".join(stack[:len(stack) - k]))\n",
    "print(\"\".join(stack[:len(number) - k_init]))\n",
    "\n"
   ]
  },
  {
   "cell_type": "markdown",
   "metadata": {},
   "source": [
    "### 시간 초과"
   ]
  },
  {
   "cell_type": "code",
   "execution_count": 64,
   "metadata": {},
   "outputs": [
    {
     "data": {
      "text/plain": [
       "'775841'"
      ]
     },
     "execution_count": 64,
     "metadata": {},
     "output_type": "execute_result"
    }
   ],
   "source": [
    "from itertools import combinations\n",
    "\n",
    "number = \"4177252841\"\n",
    "k = 4\n",
    "\n",
    "idx_lst = [i for i in range(len(number))]\n",
    "idx_comb = combinations(idx_lst, k)\n",
    "\n",
    "max_number = 0\n",
    "\n",
    "for i in idx_comb:\n",
    "\n",
    "    temp_number = list(number)\n",
    "    \n",
    "    # 리스트에서 ''.join(['1', '', '3'])이 13이 될 수 있음!\n",
    "    for j in range(len(i)):\n",
    "        temp_number[i[j]] = ''\n",
    "\n",
    "    temp_number = \"\".join(temp_number)\n",
    "    max_number = max(int(max_number), int(temp_number))\n",
    "\n",
    "str(max_number)"
   ]
  },
  {
   "cell_type": "code",
   "execution_count": 65,
   "metadata": {},
   "outputs": [
    {
     "data": {
      "text/plain": [
       "True"
      ]
     },
     "execution_count": 65,
     "metadata": {},
     "output_type": "execute_result"
    }
   ],
   "source": [
    "\"3\" <\"7\""
   ]
  },
  {
   "cell_type": "code",
   "execution_count": null,
   "metadata": {},
   "outputs": [],
   "source": []
  }
 ],
 "metadata": {
  "kernelspec": {
   "display_name": "Python 3",
   "language": "python",
   "name": "python3"
  },
  "language_info": {
   "codemirror_mode": {
    "name": "ipython",
    "version": 3
   },
   "file_extension": ".py",
   "mimetype": "text/x-python",
   "name": "python",
   "nbconvert_exporter": "python",
   "pygments_lexer": "ipython3",
   "version": "3.10.8"
  },
  "orig_nbformat": 4
 },
 "nbformat": 4,
 "nbformat_minor": 2
}
