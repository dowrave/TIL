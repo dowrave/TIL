{
 "cells": [
  {
   "cell_type": "markdown",
   "metadata": {},
   "source": [
    "## [섬 연결하기](https://school.programmers.co.kr/learn/courses/30/lessons/42861)\n",
    "- 두 섬 사이의 건설 비용을 `costs`라 할 때, 최소 비용으로 모든 섬이 통행가능하도록 만드는 데 필요한 최소 비용을 `return`하시오"
   ]
  },
  {
   "cell_type": "code",
   "execution_count": 12,
   "metadata": {},
   "outputs": [
    {
     "name": "stdout",
     "output_type": "stream",
     "text": [
      "4\n"
     ]
    }
   ],
   "source": [
    "\n",
    "costs = [[0,1,1],[0,2,2],[1,2,5],[1,3,1],[2,3,8]]\n",
    "n = 4\n",
    "\n",
    "def kruskal():\n",
    "\n",
    "    dist = 0\n",
    "\n",
    "    # 1. 오름차순 정렬\n",
    "    costs.sort(key = lambda x:x[2])\n",
    "\n",
    "    # 2. 간선 선택\n",
    "    parent = [i for i in range(n + 1)]\n",
    "\n",
    "    def find(x):\n",
    "\n",
    "        if parent[x] != x: # 초기화 조건과 다르다면\n",
    "            parent[x] = find(parent[x]) # 연결된 조상(루트) 노드를 찾는다\n",
    "        return parent[x]\n",
    "    \n",
    "    def union(a, b):\n",
    "        if a == b:\n",
    "            return\n",
    "        \n",
    "        a = find(a)\n",
    "        b = find(b)\n",
    "\n",
    "        # 이거는 크기 때문에 정렬(작은 노드가 더 루트노드가 되게 함)\n",
    "        if a> b:\n",
    "            a, b = b, a\n",
    "\n",
    "        parent[b] = a\n",
    "\n",
    "    # 두 노드가 사이클을 형성하는지 체크\n",
    "    # 사이클을 형성한다 = 가리키는 루트 노드가 동일하다\n",
    "    for a, b, w in costs:\n",
    "        if find(a) == find(b):\n",
    "            continue\n",
    "\n",
    "        union(a, b)\n",
    "        dist += w\n",
    "\n",
    "    return dist \n",
    "\n",
    "ans = kruskal()\n",
    "print(ans)\n",
    "\n",
    "\n"
   ]
  },
  {
   "cell_type": "code",
   "execution_count": null,
   "metadata": {},
   "outputs": [],
   "source": []
  }
 ],
 "metadata": {
  "kernelspec": {
   "display_name": "Python 3",
   "language": "python",
   "name": "python3"
  },
  "language_info": {
   "codemirror_mode": {
    "name": "ipython",
    "version": 3
   },
   "file_extension": ".py",
   "mimetype": "text/x-python",
   "name": "python",
   "nbconvert_exporter": "python",
   "pygments_lexer": "ipython3",
   "version": "3.10.8"
  },
  "orig_nbformat": 4
 },
 "nbformat": 4,
 "nbformat_minor": 2
}
