{
 "cells": [
  {
   "cell_type": "markdown",
   "metadata": {},
   "source": [
    "## [단속 카메라](https://school.programmers.co.kr/learn/courses/30/lessons/42884)\n",
    "- `routes`가 주어질 때, 모든 차량이 1번은 단속용 카메라를 만나도록 하려면 최소 몇 대의 카메라를 설치해야 하는가?\n",
    "- `routes`의 각 인덱스는 차가 들어온 지점과 나가는 지점을 의미하며, 끝부분에 위치해도 만난 것으로 간주함"
   ]
  },
  {
   "cell_type": "code",
   "execution_count": 25,
   "metadata": {},
   "outputs": [
    {
     "name": "stdout",
     "output_type": "stream",
     "text": [
      "[[-20, -15], [-18, -13], [-14, -5], [-5, -3]]\n",
      "[]\n",
      "[(-20, -15)]\n",
      "[(-20, -15), (-18, -13)]\n",
      "[(-14, -5)]\n",
      "[(-14, -5), (-5, -3)]\n",
      "2\n"
     ]
    }
   ],
   "source": [
    "routes = [[-20,-15], [-14,-5], [-18,-13], [-5,-3]]\n",
    "\n",
    "routes.sort()\n",
    "\n",
    "cameras = 0\n",
    "stack = []\n",
    "for in_point, out_point in routes:\n",
    "\n",
    "    # 새로 들어오는 진입 지점이 스택에 있는 어떤 나가는 지점보다도 크다면\n",
    "    # 스택에 있는 값들에서 카메라를 1대만 설치하면 됨\n",
    "    # 스택에 있는 구간들에 대해 카메라가 설치되었기 때문에 스택의 모든 값을 pop함\n",
    "    for _, j in stack:\n",
    "        if j < in_point: \n",
    "            while stack:\n",
    "                stack.pop()\n",
    "            cameras += 1\n",
    "\n",
    "    stack.append((in_point, out_point))\n",
    "\n",
    "cameras += 1 # 스택에 남은 값들이 있기 때문에 마지막으로 1을 더해줌\n",
    "print(cameras)\n",
    "# return cameras"
   ]
  },
  {
   "cell_type": "code",
   "execution_count": null,
   "metadata": {},
   "outputs": [],
   "source": [
    "# 언제 하나로 묶을 것인가?를 찾아보자\n",
    "\n",
    "# 1. 웬만하면 그냥 append가 가능하다\n",
    "# 2. 조건 ) stack 내에서 반복문을 돌려서, 1번째 원소가 들어오는 원소보다 작은 게 하나라도 있으면 지금 stack에 있는 값들은 한 덩어리로 묶인다"
   ]
  }
 ],
 "metadata": {
  "kernelspec": {
   "display_name": "Python 3",
   "language": "python",
   "name": "python3"
  },
  "language_info": {
   "codemirror_mode": {
    "name": "ipython",
    "version": 3
   },
   "file_extension": ".py",
   "mimetype": "text/x-python",
   "name": "python",
   "nbconvert_exporter": "python",
   "pygments_lexer": "ipython3",
   "version": "3.10.8"
  },
  "orig_nbformat": 4
 },
 "nbformat": 4,
 "nbformat_minor": 2
}
