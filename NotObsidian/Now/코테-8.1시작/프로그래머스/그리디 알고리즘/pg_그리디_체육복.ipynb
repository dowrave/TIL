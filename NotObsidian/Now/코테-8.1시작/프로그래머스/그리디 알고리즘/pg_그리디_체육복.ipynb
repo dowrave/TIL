{
 "cells": [
  {
   "cell_type": "markdown",
   "metadata": {},
   "source": [
    "## [문제 링크](https://school.programmers.co.kr/learn/courses/30/lessons/42862)\n",
    "\n",
    "- 특히 `lost.sort()` 부분이 왜 필요한건지 모르겠다? 반례를 못찾음\n",
    "- `13, 14`번 문제 "
   ]
  },
  {
   "cell_type": "code",
   "execution_count": 94,
   "metadata": {},
   "outputs": [],
   "source": [
    "n = 5\n",
    "lost = [4, 2] # 옷이 없다\n",
    "reserve = [3, 5]\t# 여벌이 있다\n",
    "\n",
    "# lost와 reserve에 모두 있다면 빌려줄 수 없다\n",
    "# 수업을 들을 수 있는 학생 최댓값?"
   ]
  },
  {
   "cell_type": "code",
   "execution_count": 96,
   "metadata": {},
   "outputs": [
    {
     "name": "stdout",
     "output_type": "stream",
     "text": [
      "5\n"
     ]
    }
   ],
   "source": [
    "from collections import defaultdict\n",
    "\n",
    "dct = defaultdict(int)\n",
    "\n",
    "for i in range(1, n + 1):\n",
    "    if i in lost and i in reserve:\n",
    "        dct[i] = 1\n",
    "    elif i in lost:\n",
    "        dct[i] = 0\n",
    "    elif i in reserve:\n",
    "        dct[i] = 2\n",
    "    else:\n",
    "        dct[i] = 1\n",
    "\n",
    "\n",
    "nearby = [1, -1]\n",
    "\n",
    "lost.sort()\n",
    "\n",
    "# lost의 앞뒤만 보고 갱신함\n",
    "for i in lost:\n",
    "\n",
    "    if dct[i] == 1:\n",
    "        continue\n",
    "\n",
    "    for j in nearby:\n",
    "\n",
    "        if i + j < 1 or i + j > n:\n",
    "            continue\n",
    "    \n",
    "        if dct[i + j] == 2:\n",
    "            dct[i+j] = 1\n",
    "            dct[i] = 1\n",
    "            break\n",
    "\n",
    "ans = 0\n",
    "for _, v in dct.items():\n",
    "    if v >= 1:\n",
    "        ans += 1\n",
    "\n",
    "print(ans)"
   ]
  },
  {
   "cell_type": "code",
   "execution_count": null,
   "metadata": {},
   "outputs": [],
   "source": []
  },
  {
   "cell_type": "code",
   "execution_count": null,
   "metadata": {},
   "outputs": [],
   "source": []
  },
  {
   "cell_type": "code",
   "execution_count": null,
   "metadata": {},
   "outputs": [],
   "source": []
  }
 ],
 "metadata": {
  "kernelspec": {
   "display_name": "Python 3",
   "language": "python",
   "name": "python3"
  },
  "language_info": {
   "codemirror_mode": {
    "name": "ipython",
    "version": 3
   },
   "file_extension": ".py",
   "mimetype": "text/x-python",
   "name": "python",
   "nbconvert_exporter": "python",
   "pygments_lexer": "ipython3",
   "version": "3.10.8"
  },
  "orig_nbformat": 4
 },
 "nbformat": 4,
 "nbformat_minor": 2
}
