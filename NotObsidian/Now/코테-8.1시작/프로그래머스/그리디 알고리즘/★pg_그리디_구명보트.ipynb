{
 "cells": [
  {
   "cell_type": "markdown",
   "metadata": {},
   "source": [
    "## [구명 보트](https://school.programmers.co.kr/learn/courses/30/lessons/42885)\n",
    "- 2명만 탈 수 있다, 무게 제한도 있다.\n",
    "- 최대한 적게 사용하여 모든 사람을 구출하려 한다. 최소 사용 횟수를 구하시오\n",
    "- 구명 보트가 여러 개임 : 즉 한 구명보트로 왔다갔다 하는 개념이 아님!\n",
    "- 그러면 순서가 딱히 중요한 건 아니고, `주어진 리스트를 어떻게 최소한의 묶음으로 묶냐`는 문제가 됨"
   ]
  },
  {
   "cell_type": "code",
   "execution_count": 10,
   "metadata": {},
   "outputs": [
    {
     "name": "stdout",
     "output_type": "stream",
     "text": [
      "2\n",
      "2 0\n"
     ]
    }
   ],
   "source": [
    "people = [98, 2, 1]\n",
    "limit = 101\n",
    "\n",
    "people.sort(reverse = True)\n",
    "\n",
    "l = 0\n",
    "r = len(people) - 1\n",
    "\n",
    "ans = 0\n",
    "\n",
    "# 내림차순인 상태에서\n",
    "# 1. 양 끝의 값을 합친게 limit보다 크다면 l만 포함시켜준다. 이후 l은 오른쪽으로 1칸 이동.\n",
    "# 2. 양 끝의 값을 합친게 limit보다 작거나 같다면 l, r 모두를 포함시켜준다 \n",
    "# 왜냐면 지금 l, r을 합친 거보다 더 좋은 케이스가 없기 떄문임(100을 맞추는 게 목표가 아님에 유의)\n",
    "\n",
    "while l <= r:\n",
    "\n",
    "    if people[l] + people[r] > limit: \n",
    "        ans += 1\n",
    "        l += 1\n",
    "\n",
    "    else:\n",
    "        ans += 1\n",
    "        l += 1\n",
    "        r -= 1\n",
    "\n",
    "print(ans)\n",
    "print(l, r)"
   ]
  }
 ],
 "metadata": {
  "kernelspec": {
   "display_name": "Python 3",
   "language": "python",
   "name": "python3"
  },
  "language_info": {
   "codemirror_mode": {
    "name": "ipython",
    "version": 3
   },
   "file_extension": ".py",
   "mimetype": "text/x-python",
   "name": "python",
   "nbconvert_exporter": "python",
   "pygments_lexer": "ipython3",
   "version": "3.10.8"
  },
  "orig_nbformat": 4
 },
 "nbformat": 4,
 "nbformat_minor": 2
}
