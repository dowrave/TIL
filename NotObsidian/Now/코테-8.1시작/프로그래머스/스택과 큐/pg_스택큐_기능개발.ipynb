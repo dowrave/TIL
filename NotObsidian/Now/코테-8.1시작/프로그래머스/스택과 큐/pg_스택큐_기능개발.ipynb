{
 "cells": [
  {
   "cell_type": "markdown",
   "metadata": {},
   "source": [
    "## 문제\n",
    "- Progress는 배포되어야 하는 순서이다. 뒤의 순서가 먼저 완성된 경우, 앞에 있는 값이 완성될 때 같이 배포된다.\n",
    "- 이 때 각 배포마다 몇 개의 기능이 배포되는지를 return하는 함수를 작성하시오"
   ]
  },
  {
   "cell_type": "code",
   "execution_count": 17,
   "metadata": {},
   "outputs": [
    {
     "name": "stdout",
     "output_type": "stream",
     "text": [
      "[1, 3, 2]\n"
     ]
    }
   ],
   "source": [
    "from collections import deque\n",
    "\n",
    "progresses = [95, 90, 99, 99, 80, 99]\n",
    "speeds = [1, 1, 1, 1, 1, 1]\t\n",
    "combined = []\n",
    "\n",
    "# 남은 일 수 계산\n",
    "for i in range(len(progresses)):\n",
    "\n",
    "    left_date = (100 - progresses[i]) // speeds[i]\n",
    "    modulo = (100 - progresses[i]) % speeds[i]\n",
    "    if modulo > 0:\n",
    "        left_date += 1\n",
    "    \n",
    "    combined.append(left_date)\n",
    "\n",
    "# 큐로 구현\n",
    "dq = deque()\n",
    "ans = []\n",
    "\n",
    "for i in combined:\n",
    "    \n",
    "    if len(dq) > 0:\n",
    "        now_max = dq[0] # 현재까지 가장 큰 값. 작은 값이 들어오면 그냥 append됨\n",
    "        if now_max < i : # 새로 들어오는 값이 가장 큰 값보다 크다면\n",
    "            N = 0\n",
    "            while len(dq) > 0: # 지금 dq에 있는 모든 값들을 내보내고\n",
    "                dq.popleft()\n",
    "                N += 1 # 그 개수를 세서\n",
    "            ans.append(N) # 더한다\n",
    "\n",
    "    dq.append(i) # 그리고 새로 들어오는 값을 추가한다\n",
    "\n",
    "if len(dq) > 0:\n",
    "    N = 0\n",
    "    while len(dq) > 0:\n",
    "        dq.popleft()\n",
    "        N += 1\n",
    "    ans.append(N)\n",
    "\n"
   ]
  },
  {
   "cell_type": "code",
   "execution_count": null,
   "metadata": {},
   "outputs": [],
   "source": []
  },
  {
   "cell_type": "code",
   "execution_count": 15,
   "metadata": {},
   "outputs": [
    {
     "name": "stdout",
     "output_type": "stream",
     "text": [
      "[15, 10, 14, 16]\n"
     ]
    }
   ],
   "source": [
    "progresses = [85, 90, 86, 84]\n",
    "speeds = [1, 1, 1, 1]\n",
    "combined = []\n",
    "\n",
    "# 남은 일 수 계산\n",
    "for i in range(len(progresses)):\n",
    "\n",
    "    left_date = (100 - progresses[i]) // speeds[i]\n",
    "    modulo = (100 - progresses[i]) % speeds[i]\n",
    "    if modulo > 0:\n",
    "        left_date += 1\n",
    "    \n",
    "    combined.append(left_date)\n",
    "\n",
    "print(combined)"
   ]
  },
  {
   "cell_type": "code",
   "execution_count": null,
   "metadata": {},
   "outputs": [],
   "source": []
  }
 ],
 "metadata": {
  "kernelspec": {
   "display_name": "Python 3",
   "language": "python",
   "name": "python3"
  },
  "language_info": {
   "codemirror_mode": {
    "name": "ipython",
    "version": 3
   },
   "file_extension": ".py",
   "mimetype": "text/x-python",
   "name": "python",
   "nbconvert_exporter": "python",
   "pygments_lexer": "ipython3",
   "version": "3.10.8"
  },
  "orig_nbformat": 4
 },
 "nbformat": 4,
 "nbformat_minor": 2
}
