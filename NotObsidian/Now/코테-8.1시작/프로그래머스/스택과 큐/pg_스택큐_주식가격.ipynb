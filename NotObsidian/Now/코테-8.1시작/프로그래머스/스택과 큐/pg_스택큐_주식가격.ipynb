{
 "cells": [
  {
   "cell_type": "markdown",
   "metadata": {},
   "source": [
    "## 문제\n",
    "- 초 단위로 기록된 주식 가격 배열 `prices`가 주어질 때 가격이 떨어지지 않은 기간을 return하도록 함수를 만드시오"
   ]
  },
  {
   "cell_type": "code",
   "execution_count": 23,
   "metadata": {},
   "outputs": [],
   "source": [
    "prices = [1, 2, 3, 2, 3] \n",
    "# 4 3 1 1 0 \n"
   ]
  },
  {
   "cell_type": "code",
   "execution_count": 24,
   "metadata": {},
   "outputs": [
    {
     "name": "stdout",
     "output_type": "stream",
     "text": [
      "[1, 0]\n"
     ]
    }
   ],
   "source": [
    "prices = [2, 1] # 문제가 개억진데\n",
    "idx = [i for i in range(len(prices))]\n",
    "prices = list(zip(idx, prices))\n",
    "stack = []\n",
    "ans = [0] * len(prices)\n",
    "\n",
    "\n",
    "for i in prices:\n",
    "\n",
    "    # 스택에 있는 인덱스들에 대해, times의 값을 1 올림\n",
    "    for idx, _ in stack:\n",
    "        ans[idx] += 1\n",
    "\n",
    "    if stack and stack[-1][1] > i[1]:\n",
    "        while stack and stack[-1][1] > i[1]:\n",
    "            idx, _ = stack.pop()\n",
    "    \n",
    "    stack.append(i)\n",
    "\n",
    "print(ans)\n"
   ]
  },
  {
   "cell_type": "markdown",
   "metadata": {},
   "source": [
    "- 스택큐 6문제에 108분이면 나쁘지 않은 듯?\n"
   ]
  },
  {
   "cell_type": "code",
   "execution_count": null,
   "metadata": {},
   "outputs": [],
   "source": []
  },
  {
   "cell_type": "code",
   "execution_count": null,
   "metadata": {},
   "outputs": [],
   "source": [
    "ㅎ"
   ]
  }
 ],
 "metadata": {
  "kernelspec": {
   "display_name": "Python 3",
   "language": "python",
   "name": "python3"
  },
  "language_info": {
   "codemirror_mode": {
    "name": "ipython",
    "version": 3
   },
   "file_extension": ".py",
   "mimetype": "text/x-python",
   "name": "python",
   "nbconvert_exporter": "python",
   "pygments_lexer": "ipython3",
   "version": "3.10.8"
  },
  "orig_nbformat": 4
 },
 "nbformat": 4,
 "nbformat_minor": 2
}
