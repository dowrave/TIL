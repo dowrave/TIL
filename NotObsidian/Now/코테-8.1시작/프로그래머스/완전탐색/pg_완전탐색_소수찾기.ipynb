{
 "cells": [
  {
   "cell_type": "markdown",
   "metadata": {},
   "source": [
    "## [문제 링크](https://school.programmers.co.kr/learn/courses/30/lessons/42839)"
   ]
  },
  {
   "cell_type": "code",
   "execution_count": 33,
   "metadata": {},
   "outputs": [
    {
     "name": "stdout",
     "output_type": "stream",
     "text": [
      "2\n"
     ]
    }
   ],
   "source": [
    "# 1자리 숫자가 적힌 종이조각들이 주어질 때, 만들 수 있는 소수의 개수?\n",
    "# 하나로만 만들어도 됨\n",
    "from itertools import permutations\n",
    "import math\n",
    "\n",
    "def is_prime(number):\n",
    "    if number == 0 or number == 1:\n",
    "        return False\n",
    "    \n",
    "    for i in range(2, int(math.sqrt(number)) + 1):\n",
    "        if number % i == 0:\n",
    "            return False\n",
    "    return True \n",
    "\n",
    "numbers = \"011\"\n",
    "num_lst = []\n",
    "\n",
    "# 주어진 문자열로 숫자 만드는 방법 : permutation을 이용한다\n",
    "for i in range(1, len(numbers) + 1): \n",
    "    permutation = permutations(numbers, i) # 주어진 문자열을 원소 i개로 구성된 순열들로 나타냄\n",
    "    for j in permutation:\n",
    "        j = int(\"\".join(j)) # j는 원소 i개로 구성된 순열 튜플임. 이를 숫자로 바꿔주고\n",
    "        num_lst.append(j) # 더해준다\n",
    "\n",
    "num_lst = set(num_lst) # 중복 제거\n",
    "ans = 0\n",
    "for i in num_lst:\n",
    "    if is_prime(i):\n",
    "        ans += 1\n",
    "\n",
    "print(ans)\n",
    "# return ans"
   ]
  },
  {
   "cell_type": "markdown",
   "metadata": {},
   "source": [
    "### 숫자 만드는 방법에서 막힘\n",
    "- `itertools.permutations`를 이용해 만들 수 있다고 한다."
   ]
  },
  {
   "cell_type": "code",
   "execution_count": 26,
   "metadata": {},
   "outputs": [
    {
     "name": "stdout",
     "output_type": "stream",
     "text": [
      "[1, 2, 3, 12, 13, 21, 23, 31, 32, 123, 132, 213, 231, 312, 321]\n"
     ]
    }
   ],
   "source": [
    "from itertools import permutations \n",
    "numbers = \"123\"\n",
    "lst = []\n",
    "for i in range(1, len(numbers) + 1):\n",
    "    x = permutations(numbers, i)\n",
    "    for j in x:\n",
    "        lst.append(int(\"\".join(j)))\n",
    "\n",
    "print(lst)\n"
   ]
  },
  {
   "cell_type": "markdown",
   "metadata": {},
   "source": []
  }
 ],
 "metadata": {
  "kernelspec": {
   "display_name": "Python 3",
   "language": "python",
   "name": "python3"
  },
  "language_info": {
   "codemirror_mode": {
    "name": "ipython",
    "version": 3
   },
   "file_extension": ".py",
   "mimetype": "text/x-python",
   "name": "python",
   "nbconvert_exporter": "python",
   "pygments_lexer": "ipython3",
   "version": "3.10.8"
  },
  "orig_nbformat": 4
 },
 "nbformat": 4,
 "nbformat_minor": 2
}
