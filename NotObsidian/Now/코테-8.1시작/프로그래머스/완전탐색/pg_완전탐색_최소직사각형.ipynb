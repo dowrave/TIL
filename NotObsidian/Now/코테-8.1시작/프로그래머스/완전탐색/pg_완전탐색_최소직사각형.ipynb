{
 "cells": [
  {
   "cell_type": "markdown",
   "metadata": {},
   "source": [
    "### [문제 링크](https://school.programmers.co.kr/learn/courses/30/lessons/86491)"
   ]
  },
  {
   "cell_type": "code",
   "execution_count": 11,
   "metadata": {},
   "outputs": [
    {
     "name": "stdout",
     "output_type": "stream",
     "text": [
      "4000\n"
     ]
    }
   ],
   "source": [
    "sizes = [[60, 50], [30, 70], [60, 30], [80, 40]]\n",
    "max_width = 0\n",
    "max_height = 0\n",
    "\n",
    "for a, b in sizes:\n",
    "    \n",
    "    # 1. 회전 없이 값을 비교해서 큰 값을 넣는다\n",
    "    max_width1 = max(max_width, a)\n",
    "    max_height1 = max(max_height, b)\n",
    "    area1 = max_width1 * max_height1\n",
    "    \n",
    "    # 2. 회전해서 큰 값을 넣는다\n",
    "    max_width2 = max(max_width, b)\n",
    "    max_height2 = max(max_height, a)\n",
    "    area2 = max_width2 * max_height2\n",
    "\n",
    "    if area1 >= area2:\n",
    "        max_width = max_width2\n",
    "        max_height = max_height2\n",
    "    else:\n",
    "        max_width = max_width1\n",
    "        max_height = max_height1\n",
    "\n",
    "\n",
    "area = max_width * max_height\n",
    "print(area)\n",
    "\n",
    "    \n",
    "\n",
    "\n",
    "\n"
   ]
  },
  {
   "cell_type": "code",
   "execution_count": null,
   "metadata": {},
   "outputs": [],
   "source": [
    "# 예제로 보면\n",
    "# 1. 60, 50\n",
    "# 2. 60, 70 vs 70 50 여기서 영역 넓이를 구하는 게 아니라 가장 큰 길이만 갖고 간다\n",
    "# 3. 70 50에서 60 30과 30 60을 넣고 비교해보자 -> 70 50"
   ]
  }
 ],
 "metadata": {
  "kernelspec": {
   "display_name": "Python 3",
   "language": "python",
   "name": "python3"
  },
  "language_info": {
   "codemirror_mode": {
    "name": "ipython",
    "version": 3
   },
   "file_extension": ".py",
   "mimetype": "text/x-python",
   "name": "python",
   "nbconvert_exporter": "python",
   "pygments_lexer": "ipython3",
   "version": "3.10.8"
  },
  "orig_nbformat": 4
 },
 "nbformat": 4,
 "nbformat_minor": 2
}
