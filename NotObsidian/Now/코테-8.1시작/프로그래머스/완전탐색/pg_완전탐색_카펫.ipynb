{
 "cells": [
  {
   "cell_type": "markdown",
   "metadata": {},
   "source": [
    "### [문제 링크](https://school.programmers.co.kr/learn/courses/30/lessons/42842)\n",
    "- `brown`은 `yellow`를 둘러싼 모양임(패딩 생각하면 됨)\n",
    "- 이 때 전체 카펫의 (가로, 세로) 크기를 구하시오\n",
    "  - 가로는 세로 길이와 같거나, 세로보다 길다"
   ]
  },
  {
   "cell_type": "code",
   "execution_count": 10,
   "metadata": {},
   "outputs": [
    {
     "name": "stdout",
     "output_type": "stream",
     "text": [
      "[8, 6]\n"
     ]
    }
   ],
   "source": [
    "import math\n",
    "\n",
    "yellow = 24\n",
    "brown = 24\n",
    "\n",
    "# yellow를 쪼갠다 -> 가로 x 세로 길이가 나온다 -> 2 x (가로 + 세로) + 4가 되면 됨\n",
    "def find_divisor(number):\n",
    "    divisor_lst = []\n",
    "    for i in range(1, int(math.sqrt(number)) + 1):\n",
    "        if number % i == 0:\n",
    "            divisor = number // i\n",
    "\n",
    "            divisor_lst.append(i)\n",
    "            divisor_lst.append(divisor)\n",
    "\n",
    "    divisor_lst.sort()\n",
    "    return divisor_lst\n",
    "\n",
    "lst = find_divisor(yellow)\n",
    "\n",
    "for i in range(len(lst) // 2):\n",
    "    width = lst[-(i + 1)]\n",
    "    height = lst[i]\n",
    "    if brown == 2 * (width + height) + 4:\n",
    "        print([width + 2, height + 2])\n",
    "        break\n",
    "        # return [width + 2, height + 2]"
   ]
  },
  {
   "cell_type": "code",
   "execution_count": null,
   "metadata": {},
   "outputs": [],
   "source": []
  }
 ],
 "metadata": {
  "kernelspec": {
   "display_name": "Python 3",
   "language": "python",
   "name": "python3"
  },
  "language_info": {
   "codemirror_mode": {
    "name": "ipython",
    "version": 3
   },
   "file_extension": ".py",
   "mimetype": "text/x-python",
   "name": "python",
   "nbconvert_exporter": "python",
   "pygments_lexer": "ipython3",
   "version": "3.10.8"
  },
  "orig_nbformat": 4
 },
 "nbformat": 4,
 "nbformat_minor": 2
}
