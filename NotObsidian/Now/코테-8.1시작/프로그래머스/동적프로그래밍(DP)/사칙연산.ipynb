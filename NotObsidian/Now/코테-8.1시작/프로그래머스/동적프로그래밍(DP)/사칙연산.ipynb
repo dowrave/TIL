{
 "cells": [
  {
   "cell_type": "markdown",
   "metadata": {},
   "source": [
    "## [사칙연산](https://school.programmers.co.kr/learn/courses/30/lessons/1843)\n",
    "- 사칙연산에서 더하기는 결합법칙이 성립하지만, 빼기는 성립하지 않는다. \n",
    "- 또한, 뺄셈은 연산 순서에 따라 결과가 바뀔 수 있다.\n",
    "- 문자열 형태의 숫자와, 더하기, 빼기 기호가 들어있는 배열 `arr`이 매개변수로 주어질 때, 서로 다른 연산순서의 계산 결과 중 최댓값을 리턴하도록 함수를 완성하시오\n",
    "- 참고) **숫자 이어붙이는 거 불가능**\n"
   ]
  },
  {
   "cell_type": "code",
   "execution_count": 46,
   "metadata": {},
   "outputs": [
    {
     "name": "stdout",
     "output_type": "stream",
     "text": [
      "[1, 3, 5, 8] ['-', '+', '-']\n",
      "1\n"
     ]
    }
   ],
   "source": [
    "arr = [\"1\", \"-\", \"3\", \"+\", \"5\", \"-\", \"8\"]\n",
    "\n",
    "number = [int(arr[i]) for i in range(0, len(arr), 2)]\n",
    "operator = [arr[i] for i in range(1, len(arr), 2)]\n",
    "\n",
    "N = len(number)\n",
    "INF = float('inf')\n",
    "\n",
    "max_dp = [[-INF] * N for _ in range(N)]\n",
    "min_dp = [[INF] * N for _ in range(N)]\n",
    "\n",
    "# 모든 값은 범위를 2개로 쪼개서 계산할 수 있다\n",
    "\n",
    "for step in range(N): # 간격\n",
    "\n",
    "    for start in range(N - step): # 시작점\n",
    "\n",
    "        if step == 0:\n",
    "            max_dp[start][start] = number[start]\n",
    "            min_dp[start][start] = number[start]\n",
    "\n",
    "        end = start + step # 도착점\n",
    "\n",
    "        for middle in range(start, end): # 범위를 나누는 중간 지점 : 왼쪽 범위는 middle을 포함한다\n",
    "            if operator[middle] == '+':\n",
    "                max_dp[start][end] = max(max_dp[start][end], max_dp[start][middle] + max_dp[middle + 1][end])\n",
    "                min_dp[start][end] = min(min_dp[start][end], min_dp[start][middle] + min_dp[middle + 1][end])\n",
    "            else:\n",
    "                max_dp[start][end] = max(max_dp[start][end], max_dp[start][middle] - min_dp[middle + 1][end]) # 최댓값을 가지려면..\n",
    "                min_dp[start][end] = min(min_dp[start][end], min_dp[start][middle] - max_dp[middle + 1][end]) # 최솟값을 가지려면..\n",
    "\n",
    "\n",
    "print(max_dp[0][N-1])\n",
    "# return max_dp[0][N-1]\n"
   ]
  },
  {
   "cell_type": "code",
   "execution_count": 33,
   "metadata": {},
   "outputs": [
    {
     "data": {
      "text/plain": [
       "100"
      ]
     },
     "execution_count": 33,
     "metadata": {},
     "output_type": "execute_result"
    }
   ],
   "source": [
    "a = min(float('inf'), 100)\n",
    "a"
   ]
  },
  {
   "cell_type": "markdown",
   "metadata": {},
   "source": [
    "### 이 문제는 해설을 봤다\n",
    "- 주어진 리스트에서의 최댓값을 구하려면 일단 범위 1부터 시작한다. 자기 자신이 최댓값인게 일반적임.\n",
    "- 범위 2가 되면, (1, -3), (3 + 5), (5, -8)이 되겠다. 이 값을 저장해둘 수 있다. \n",
    "- 이런 식으로 반복해 나가면 결국 최댓값을 구할 수 있지만, 이 문제는 **뺄셈 연산**이 있다.\n",
    "- 가장 큰 값에서 가장 작은 값을 빼야 **최댓값이 나오기 때문에 최솟값 DP도 구현**해야 한다.\n",
    "\n",
    "```python\n",
    "INF = -float('inf')\n",
    "n = len(arr) // 2 + 1\n",
    "MIN_DP = [[INF for _ in range(n)] for _ in range(n)]\n",
    "MAX_DP = [[-INF for _ in range(n)] for _ in range(n)]\n",
    "\n",
    "# 여기서 step이랑 i 구성을 잘 보자\n",
    "# 바깥 for문은 \"간격\"을, 안쪽 for문은 시작점을 의미함\n",
    "# 가장 안쪽에 k에 관한 for문이 또 있죠? : 주어진 범위 내에서의 각 값임 \n",
    "    # 이게 왜 필요하냐면 i와 i + step이 정해져도, 그 안에서 범위를 또 쪼갤 수 있기 때문이다\n",
    "\n",
    "for step in range(n): # 간격(0은 자기 자신만)\n",
    "\n",
    "    for i in range(n - step): # i : 범위의 시작점\n",
    "\n",
    "        j = i + step # 종료지점\n",
    "\n",
    "        if step == 0:\n",
    "            DP[i][i] = # 해당되는 숫자\n",
    "        \n",
    "        else:\n",
    "            for k in range(i, j): # j는 안들어간다. \n",
    "\n",
    "                if k번째의 연산자 == '+': # k번째에 해당되는 연산이 + 일 경우:\n",
    "                    MAX_DP[i][j] = max(MAX_DP[i][j], MAX_DP[i][k] + MAX_DP[k+1][j]) # + 일 경우 최댓값은 최댓값 + 최댓값임.\n",
    "                    MIN_DP[i][j] = min(MIN_DP[i][j], MIN_DP[i][k] + MIN_DP[k+1][j]) # + 일 경우 최솟값은 최솟값 + 최솟값임.\n",
    "                \n",
    "               else: #k번째에 해당되는 연산이 - 일 경우.\n",
    "                    MAX_DP[i][j] = max(MAX_DP[i][j], MAX_DP[i][k] - MIN_DP[k+1][j]) # - 일 경우 최댓값은 최댓값 - 최솟값임.\n",
    "                    MIN_DP[i][j] = min(MIN_DP[i][j], MIN_DP[i][k] - MAX_DP[k+1][j])# - 일 경우 최솟값은 최솟값 - 최댓값임.\n",
    "\n",
    "return MAX_DP[0][n-1]\n",
    "```\n"
   ]
  },
  {
   "cell_type": "markdown",
   "metadata": {},
   "source": [
    "### 제일 고민이었던 부분 2개\n",
    "1. 반복문 어떻게 구현하는가?\n",
    "   - 0부터 출발하는 범위 `step`\n",
    "   - 시작점 `i`\n",
    "   - 시작점과 끝점 사이의 `k`(끝점인 j가 포함되지 않는다. 2개로 안쪼개지니까)\n",
    "\n",
    "2. 4개의 원소가 있는 경우, 1개 / 2개 / 1개인 경우는 어떻게 계산되어야 하는가?\n",
    "   - 2개가 먼저 계산이 되고, 앞의 1개로 계산이 된다고 생각해보자\n",
    "   - 그러면 결국 3개 / 1개와 같은 경우잖아? -> 이미 고려되었기 때문에 따로 생각하지 않는다.\n",
    "\n",
    "### 고민도 안했는데 튀어나온 부분\n",
    "- 최댓값을 구하기 위해, 최솟값 DP도 구해야 한다는 것 : 왜냐하면 최댓값을 구하려면 가장 큰 값에서 가장 작은 값을 빼야 하니까\n"
   ]
  },
  {
   "cell_type": "markdown",
   "metadata": {},
   "source": []
  }
 ],
 "metadata": {
  "kernelspec": {
   "display_name": "Python 3",
   "language": "python",
   "name": "python3"
  },
  "language_info": {
   "codemirror_mode": {
    "name": "ipython",
    "version": 3
   },
   "file_extension": ".py",
   "mimetype": "text/x-python",
   "name": "python",
   "nbconvert_exporter": "python",
   "pygments_lexer": "ipython3",
   "version": "3.10.8"
  },
  "orig_nbformat": 4
 },
 "nbformat": 4,
 "nbformat_minor": 2
}
