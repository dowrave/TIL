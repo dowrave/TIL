{
 "cells": [
  {
   "cell_type": "markdown",
   "metadata": {},
   "source": [
    "## [도둑질](https://school.programmers.co.kr/learn/courses/30/lessons/42897)\n",
    "- 집들이 동그랗게 배치되어 있다. 인접한 두 집을 털면 경보가 울린다고 한다.\n",
    "- 각 집에는 돈이 있다고 할 때, 돈의 최댓값을 리턴하도록 함수를 작성하시오\n",
    "- 집은 3부터 100만, money는 0이상 1000이하이다."
   ]
  },
  {
   "cell_type": "code",
   "execution_count": 31,
   "metadata": {},
   "outputs": [
    {
     "name": "stdout",
     "output_type": "stream",
     "text": [
      "200\n"
     ]
    }
   ],
   "source": [
    "money = [1, 100, 1, 100, 1] # return 4 : 1, 3임\n",
    "\n",
    "N = len(money)\n",
    "\n",
    "# 0번 인덱스 선택\n",
    "dp1 = [0] * N \n",
    "dp1[0] = money[0]\n",
    "\n",
    "for i in range(1, N):\n",
    "\n",
    "    if i == 1:\n",
    "        dp1[1] = max(money[0], money[1])\n",
    "        continue\n",
    "\n",
    "    if i ==  N - 1:\n",
    "        # 마지막 인덱스를 선택 못함 : i-1에서 i-3 + money[i]와 i-2 중 큰 값이 이미 들어갔다.\n",
    "        dp1[i] = dp1[i-1] \n",
    "        continue\n",
    "\n",
    "    dp1[i] = max(dp1[i - 2] + money[i], dp1[i - 1])\n",
    "\n",
    "# 0번 인덱스 선택 X\n",
    "dp2 = [0] * N\n",
    "\n",
    "for i in range(1, N):\n",
    "\n",
    "    if i == 1:\n",
    "        dp2[1] = money[1]\n",
    "        continue\n",
    "\n",
    "    dp2[i] = max(dp2[i - 2] + money[i], dp2[i - 1]) # 마지막 값이 포함될지 말지까지 포함된 식임\n",
    "\n",
    "print(max(max(dp1), max(dp2)))"
   ]
  },
  {
   "cell_type": "markdown",
   "metadata": {},
   "source": [
    "## 정답 찾아봄.. 너무 어렵게 갔다.\n",
    "- 연속된 두 집을 털면 안됨\n",
    "- 모든 money가 0 이상이고, `len(money) >= 3`이다.\n",
    "- i 입장에서, 원소 i까지의 최댓값은 아래 2가지 중 하나로 구성된다. (**점화식**)\n",
    "  - `dp[i-2] + money[i]`\n",
    "  - `dp[i-1]`\n",
    "- 1, 2번째 원소에서는 각각 `money[0]`, `max(money[0] , money[1])`이 되겠다.\n",
    "- 예를 들어서 **내가 고민했던 부분인 `O X X O`도, `j = i-2` 에서 `dp[j-1]`로 고려된 부분인 거임**. 굳이 `[i-3] + 현재값`으로 고려할 필요가 없음!\n",
    "---\n",
    "그리고, 주어진 값들이 원으로 구성되어 있기 때문에 케이스를 2가지로 나눠야 한다.\n",
    "1. 1번째 원소를 선택하고, 마지막 원소를 선택하지 않는 경우\n",
    "2. 1번째 원소를 선택하지 않고, 마지막 원소에게 선택권을 주는 경우"
   ]
  },
  {
   "cell_type": "markdown",
   "metadata": {},
   "source": [
    "### 풀이 과정\n",
    "- 연속된 인덱스를 뽑지 않은 상태의 최댓값을 구하라는 의미\n",
    "\n",
    "### 규칙\n",
    "- **어떤 칸을 뽑았다면, 그 다음 칸은 뽑지 못한다.**\n",
    "  - 연속된 칸을 뽑지 않을 수 있다\n",
    "- 어떤 칸 i가 있다고 했을 때, 얘가 가질 수 있는 최댓값은\n",
    "  - `[i-2]` 까지의 최댓값 + 현재의 값\n",
    "  - `[i-1]` 까지의 최댓값\n",
    "\n",
    "\n",
    "\n",
    "- 그 외의 경우의 수가 있을까? 없는 것 같다. \n",
    "```\n",
    "`[i-3]`이 고려된 이유는, `99 1 1 100 ...` 같은 상황이 있다면, `99 x x 100`을 고르는 게 더 최댓값이니까 그런 거임\n",
    "그렇다면 `[i-4]`를 고려할 필요가 있을까?\n",
    "일단 `money`는 0은 있어도 음수는 없다\n",
    "그러면 `99 0 0 0 100 ...` 같은 상황이 있다고 치면 `100`을 선택\n",
    "```"
   ]
  },
  {
   "cell_type": "markdown",
   "metadata": {},
   "source": []
  }
 ],
 "metadata": {
  "kernelspec": {
   "display_name": "Python 3",
   "language": "python",
   "name": "python3"
  },
  "language_info": {
   "codemirror_mode": {
    "name": "ipython",
    "version": 3
   },
   "file_extension": ".py",
   "mimetype": "text/x-python",
   "name": "python",
   "nbconvert_exporter": "python",
   "pygments_lexer": "ipython3",
   "version": "3.10.8"
  },
  "orig_nbformat": 4
 },
 "nbformat": 4,
 "nbformat_minor": 2
}
