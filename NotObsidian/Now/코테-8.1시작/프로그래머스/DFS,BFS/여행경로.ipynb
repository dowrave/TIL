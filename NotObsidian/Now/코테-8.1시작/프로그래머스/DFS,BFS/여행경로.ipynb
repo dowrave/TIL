{
 "cells": [
  {
   "cell_type": "markdown",
   "metadata": {},
   "source": [
    "## [여행 경로](https://school.programmers.co.kr/learn/courses/30/lessons/43164)\n",
    "- 항상 ICN에서 출발, 방문하는 경로를 배열에 담아 리턴하시오\n",
    "- 주어진 항공권을 모두 써야 하며, 가능한 경로가 2개 이상이라면 알파벳 순서가 앞서는 경로를 리턴한다.\n",
    "- 갔던 곳을 또 갈 수도 있음. 모두 못 가는 경우는 주어지지 않음\n",
    "\n",
    "---\n",
    "`visited`를 구현할 때 원래는 노드에 대해서 하는데, 여기서는 티켓에 대해서 하면 되지 않을까?"
   ]
  },
  {
   "cell_type": "code",
   "execution_count": 88,
   "metadata": {},
   "outputs": [
    {
     "name": "stdout",
     "output_type": "stream",
     "text": [
      "now :  ICN\n",
      "path :  ['ICN']\n",
      "now :  ATL\n",
      "path :  ['ICN', 'ATL']\n",
      "now :  ICN\n",
      "path :  ['ICN', 'ATL', 'ICN']\n",
      "now :  SFO\n",
      "path :  ['ICN', 'ATL', 'ICN', 'SFO']\n",
      "now :  ATL\n",
      "path :  ['ICN', 'ATL', 'ICN', 'SFO', 'ATL']\n",
      "now :  SFO\n",
      "path :  ['ICN', 'ATL', 'SFO']\n",
      "now :  ATL\n",
      "path :  ['ICN', 'ATL', 'SFO', 'ATL']\n",
      "now :  ICN\n",
      "path :  ['ICN', 'ATL', 'SFO', 'ATL', 'ICN']\n",
      "now :  SFO\n",
      "path :  ['ICN', 'SFO']\n",
      "now :  ATL\n",
      "path :  ['ICN', 'SFO', 'ATL']\n",
      "now :  ICN\n",
      "path :  ['ICN', 'SFO', 'ATL', 'ICN']\n",
      "now :  ATL\n",
      "path :  ['ICN', 'SFO', 'ATL', 'ICN', 'ATL']\n",
      "['ICN', 'ATL', 'ICN', 'SFO', 'ATL', 'SFO']\n"
     ]
    }
   ],
   "source": [
    "\n",
    "# tickets = [[\"ICN\", \"JFK\"], [\"ICN\", \"AAD\"], [\"JFK\", \"ICN\"]]\n",
    "tickets = [[\"ICN\", \"SFO\"], [\"ICN\", \"ATL\"], [\"SFO\", \"ATL\"], [\"ATL\", \"ICN\"], [\"ATL\", \"SFO\"]]\n",
    "visited = [0] * len(tickets) # 티켓을 썼는지 아닌지 여부를 봄 : 지역은 여러 번 가도 됨!\n",
    "\n",
    "path = [] # dfs로 왔다갔다 해야함\n",
    "answer = [] # 정답인 순간을 저장함 : 전역변수라서 밖에서 선언\n",
    "def dfs(now_loc, path):\n",
    "\n",
    "    path.append(now_loc)\n",
    "\n",
    "    if len(path) == len(tickets) + 1:\n",
    "        \n",
    "        for i in visited:\n",
    "            if i == 0:\n",
    "                return\n",
    "        global answer\n",
    "        answer.append(path.copy()) # append도 참조해서 더해지나보네;\n",
    "    \n",
    "    # 다음에 올 목적지 정렬하기\n",
    "    temp_next = []\n",
    "    for ticket_idx, (now, next) in enumerate(tickets):\n",
    "        if now == now_loc and visited[ticket_idx] == 0:\n",
    "            temp_next.append((ticket_idx, now, next))\n",
    "    temp_next.sort(key = lambda x : x[2])\n",
    "    if temp_next == []:\n",
    "        return\n",
    "\n",
    "    print(\"now : \", now_loc)\n",
    "    print(\"path : \", path)\n",
    "\n",
    "    for ticket_idx, now, next in temp_next:\n",
    "\n",
    "        if visited[ticket_idx] == 0:\n",
    "            visited[ticket_idx] = 1\n",
    "            dfs(next, path)\n",
    "            visited[ticket_idx] = 0\n",
    "            path.pop()\n",
    "\n",
    "    \n",
    "ans = dfs(\"ICN\", [])\n",
    "print(answer[0])"
   ]
  },
  {
   "cell_type": "markdown",
   "metadata": {},
   "source": [
    "- dfs에 참조형 변수를 쓸 경우 `pop`으로 다시 거슬러 올라가는 과정이 약간 꼬이는 이슈가 있다\n",
    "- 그래서 마지막에 정답을 반환할 때 그 순간의 배열을 저장하는 방식으로 구현해봄"
   ]
  },
  {
   "cell_type": "code",
   "execution_count": null,
   "metadata": {},
   "outputs": [],
   "source": [
    "dfs(\"ICN\", 1)"
   ]
  }
 ],
 "metadata": {
  "kernelspec": {
   "display_name": "Python 3",
   "language": "python",
   "name": "python3"
  },
  "language_info": {
   "codemirror_mode": {
    "name": "ipython",
    "version": 3
   },
   "file_extension": ".py",
   "mimetype": "text/x-python",
   "name": "python",
   "nbconvert_exporter": "python",
   "pygments_lexer": "ipython3",
   "version": "3.10.8"
  },
  "orig_nbformat": 4
 },
 "nbformat": 4,
 "nbformat_minor": 2
}
