{
 "cells": [
  {
   "cell_type": "markdown",
   "metadata": {},
   "source": [
    "## [네트워크](https://school.programmers.co.kr/learn/courses/30/lessons/43162)\n",
    "- 네트워크 : 컴퓨터 간 정보를 교환할 수 있게 연결된 형태. A - B - C 간의 연결은 A - C 간 직접 연결이 없더라도 거쳐서 갈 수 있으므로, 모두 같은 네트워크라고 할 수 있다.\n",
    "- 네트워크의 개수를 리턴하는 함수를 작성하시오\n",
    "- `computers[i][i]`는 항상 1이다. 1개의 노드만 갖는 네트워크도 네트워크다."
   ]
  },
  {
   "cell_type": "code",
   "execution_count": 11,
   "metadata": {},
   "outputs": [],
   "source": [
    "n = 3\n",
    "computers = [[1, 1, 0], [1, 1, 0], [0, 0, 1]]"
   ]
  },
  {
   "cell_type": "code",
   "execution_count": 12,
   "metadata": {},
   "outputs": [
    {
     "name": "stdout",
     "output_type": "stream",
     "text": [
      "2\n"
     ]
    }
   ],
   "source": [
    "# bfs, dfs 모두 가능한 문제임\n",
    "# 저번 문제를 dfs로 했으니까 이번엔 bfs로 해보자\n",
    "from collections import deque\n",
    "\n",
    "dq = deque([])\n",
    "visited = [0] * len(computers)\n",
    "\n",
    "def bfs(init_node):\n",
    "    dq.append(init_node)\n",
    "    visited[init_node] = 1\n",
    "    \n",
    "    while dq:\n",
    "        now_node = dq.popleft()\n",
    "        for i in range(n):\n",
    "            \n",
    "            if now_node == i:\n",
    "                continue\n",
    "            \n",
    "            if computers[now_node][i] == 1 and visited[i] == 0:\n",
    "                visited[i] = 1\n",
    "                dq.append(i)\n",
    "                \n",
    "                \n",
    "networks = 0\n",
    "for init_node in range(len(computers)):\n",
    "    if visited[init_node] == 0:\n",
    "        bfs(init_node)\n",
    "        networks += 1\n",
    "\n",
    "print(networks)\n"
   ]
  },
  {
   "cell_type": "code",
   "execution_count": null,
   "metadata": {},
   "outputs": [],
   "source": []
  }
 ],
 "metadata": {
  "kernelspec": {
   "display_name": "Python 3",
   "language": "python",
   "name": "python3"
  },
  "language_info": {
   "codemirror_mode": {
    "name": "ipython",
    "version": 3
   },
   "file_extension": ".py",
   "mimetype": "text/x-python",
   "name": "python",
   "nbconvert_exporter": "python",
   "pygments_lexer": "ipython3",
   "version": "3.10.8"
  },
  "orig_nbformat": 4
 },
 "nbformat": 4,
 "nbformat_minor": 2
}
