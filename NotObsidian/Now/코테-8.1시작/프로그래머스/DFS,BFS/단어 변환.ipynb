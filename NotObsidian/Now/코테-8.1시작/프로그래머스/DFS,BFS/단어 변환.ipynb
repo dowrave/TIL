{
 "cells": [
  {
   "cell_type": "markdown",
   "metadata": {},
   "source": [
    "## [단어 변환](https://school.programmers.co.kr/learn/courses/30/lessons/43163)\n",
    "- `begin` -> `target` 변환하는 가장 짧은 과정을 찾는다\n",
    "- 1번에 1개의 알파벳만 바꿀 수 있고, `words`에 있는 단어로만 바꿀 수 있다.\n",
    "- 변환할 수 없다면 0을 반환한다"
   ]
  },
  {
   "cell_type": "code",
   "execution_count": 4,
   "metadata": {},
   "outputs": [],
   "source": [
    "begin = \"hit\"\n",
    "target = \"cog\"\n",
    "words = [\"hot\", \"dot\", \"dog\", \"lot\", \"log\"]"
   ]
  },
  {
   "cell_type": "markdown",
   "metadata": {},
   "source": [
    "- 한 글자만 다른 단어를 어떻게 찾지?만 해결하면 될 듯?\n",
    "- `words`는 결국 그래프 개념이란 말임?\n",
    "1. 1글자만 다른 단어를 찾는다.\n",
    "   - 이걸 어떻게 구현함?\n",
    "   - 모든 words에 대해 반복문을 돌림\n",
    "     - 모든 글자를 탐색, 다른 글자가 1개인 것만 채택함\n",
    "2. 거리와 함께 deque에 append한다. 이미 나온 적 있는 단어를 표시하기 위해 dict를 작성한다\n",
    "3. 1과 2를 반복한다  \n",
    "\n",
    "4. \n",
    "   1. `dq`가 끝나면 도착 불가능이니까 리턴한다  \n",
    "   2. `dq` 반복문 속에서 이번에 나온 단어를 점검, 맞으면 거리를 표시한다."
   ]
  },
  {
   "cell_type": "code",
   "execution_count": 5,
   "metadata": {},
   "outputs": [
    {
     "data": {
      "text/plain": [
       "0"
      ]
     },
     "execution_count": 5,
     "metadata": {},
     "output_type": "execute_result"
    }
   ],
   "source": [
    "# 가장 짧은이니까 BFS임\n",
    "from collections import deque\n",
    "\n",
    "def bfs(begin):\n",
    "    \n",
    "    if target not in words:\n",
    "        return 0\n",
    "    \n",
    "    dq = deque([])\n",
    "    dct = {}\n",
    "    \n",
    "    dq.append((begin, 0))\n",
    "    dct[begin] = 0\n",
    "    n = len(begin) # 글자수\n",
    "    \n",
    "    while dq:\n",
    "        now, dist = dq.popleft()\n",
    "        \n",
    "        if now == target:\n",
    "            return dist\n",
    "        \n",
    "        # 다른 글자 수를 센다\n",
    "        for word in words:\n",
    "            diff_characters = 0\n",
    "            \n",
    "            for j in range(n):\n",
    "                if now[j] != word[j]:\n",
    "                    diff_characters += 1\n",
    "                if diff_characters >= 2: # 없어도 됨\n",
    "                    break\n",
    "            \n",
    "            if diff_characters == 1:\n",
    "                dq.append((word, dist + 1))\n",
    "    \n",
    "    return 0\n",
    "\n",
    "bfs(begin)"
   ]
  },
  {
   "cell_type": "code",
   "execution_count": null,
   "metadata": {},
   "outputs": [],
   "source": []
  }
 ],
 "metadata": {
  "kernelspec": {
   "display_name": "Python 3",
   "language": "python",
   "name": "python3"
  },
  "language_info": {
   "codemirror_mode": {
    "name": "ipython",
    "version": 3
   },
   "file_extension": ".py",
   "mimetype": "text/x-python",
   "name": "python",
   "nbconvert_exporter": "python",
   "pygments_lexer": "ipython3",
   "version": "3.10.8"
  },
  "orig_nbformat": 4
 },
 "nbformat": 4,
 "nbformat_minor": 2
}
