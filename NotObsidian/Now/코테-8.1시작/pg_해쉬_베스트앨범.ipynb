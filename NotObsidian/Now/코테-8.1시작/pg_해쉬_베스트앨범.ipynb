{
 "cells": [
  {
   "cell_type": "markdown",
   "metadata": {},
   "source": [
    "## 내가 푼 방법이 그리 깔끔하지 못하여, 이  예제를 보자\n",
    "문제 ) `Genre`, `Play`가 주어졌으며 인덱스는 곡 고유 번호를 의미한다. 가장 많이 플레이된 장르부터 가장 많이 플레이된 노래 2곡 씩을 베스트 앨범에 저장하려고 할 때, 노래의 고유 번호를 리턴하도록 하자"
   ]
  },
  {
   "cell_type": "code",
   "execution_count": 42,
   "metadata": {},
   "outputs": [
    {
     "data": {
      "text/plain": [
       "[5, 6, 2, 3, 1, 4]"
      ]
     },
     "execution_count": 42,
     "metadata": {},
     "output_type": "execute_result"
    }
   ],
   "source": [
    "# 깔끔한 방법 보자\n",
    "\n",
    "def solution(genres, plays):\n",
    "    answer = []\n",
    "\n",
    "    dic1 = {} # 개별 인덱스에 대해 장르를 키로, 인덱스와 플레이 횟수를 값으로 지정함. 값에는 여러 값이 올 수 있음(여러 인덱스가 있으니까)\n",
    "    dic2 = {} # 개별 인덱스에 대해 플레이 횟수의 합만 저장함\n",
    "\n",
    "    for i, (g, p) in enumerate(zip(genres, plays)):\n",
    "        \n",
    "        \n",
    "        if g not in dic1:\n",
    "            dic1[g] = [(i, p)]\n",
    "        else:\n",
    "            dic1[g].append((i, p))\n",
    "\n",
    "        if g not in dic2:\n",
    "            dic2[g] = p\n",
    "        else:\n",
    "            dic2[g] += p\n",
    "\n",
    "    for (k, _) in sorted(dic2.items(), key=lambda x:x[1], reverse=True): # 많이 플레이된 장르 순으로 내림차순\n",
    "        for (i, p) in sorted(dic1[k], key=lambda x:x[1], reverse=True)[:2]: # 장르와 개별 곡은 장르1에 저장되어 있으며, 역시 가장 많이 플레이된 순으로 내림차순, 2곡 선정\n",
    "            answer.append(i)\n",
    "\n",
    "    return answer\n",
    "\n",
    "solution(genres, plays)"
   ]
  },
  {
   "cell_type": "markdown",
   "metadata": {},
   "source": [
    "- 2개의 `dict`을 구현하는 점, 특히 1번째 dict에서 초기화는 `[]`으로 하고 각 원소에 인덱스와 값을 저장하는 방법을 주목하자\n",
    "- 사전 세팅을 어떻게 하느냐에 따라 이후 코드가 달라짐"
   ]
  },
  {
   "cell_type": "markdown",
   "metadata": {},
   "source": [
    "## 내 풀이 "
   ]
  },
  {
   "cell_type": "code",
   "execution_count": 41,
   "metadata": {},
   "outputs": [
    {
     "name": "stdout",
     "output_type": "stream",
     "text": [
      "[5, 6, 2, 3, 1, 4]\n"
     ]
    }
   ],
   "source": [
    "from collections import defaultdict\n",
    "\n",
    "genres = [\"classic\", \"pop\", \"classic\", \"classic\", \"pop\", 'jazz', 'jazz', 'jazz']\n",
    "plays = [1, 2, 3, 3, 2, 4, 4, 4]\n",
    "\n",
    "# 1. 가장 많이 실행된 장르 먼저 수록\n",
    "N = len(genres)\n",
    "\n",
    "genre_dct = defaultdict(int)\n",
    "\n",
    "for i in range(len(genres)):\n",
    "    genre_dct[genres[i]] += plays[i]\n",
    "\n",
    "genre_sort = sorted(genre_dct.items(), key = lambda x : x[1], reverse = True)\n",
    "genre_sort = [i[0] for i in genre_sort]\n",
    "\n",
    "\n",
    "# 2. 가장 많이 재생된 노래 먼저 수록 : 2개씩 넣는다.\n",
    "combined = list(zip(genres, plays))\n",
    "ans = []\n",
    "for genre in genre_sort:\n",
    "\n",
    "    first = 0\n",
    "    first_idx = -1\n",
    "    second = 0\n",
    "    second_idx = -1\n",
    "\n",
    "    for j in range(N):\n",
    "\n",
    "        if combined[j][0] == genre:\n",
    "\n",
    "            if first <= combined[j][1]:\n",
    "\n",
    "                if first == combined[j][1]: # 같은 값이 인풋이라면, 지금 들어오는 값을 second에 넣는다.\n",
    "                    \n",
    "                    if second == combined[j][1]:\n",
    "                        continue\n",
    "\n",
    "                    second = combined[j][1]\n",
    "                    second_idx = j\n",
    "                    continue\n",
    "            \n",
    "                # 갱신되는 상황에서 first 값은 second로 밀린다\n",
    "                second_idx = first_idx \n",
    "                second = first\n",
    "\n",
    "                first = combined[j][1]\n",
    "                first_idx = j\n",
    "\n",
    "            elif second <= combined[j][1]:\n",
    "\n",
    "                if second == combined[j][1]: # second와 동일 값이라면 추가할 필요 없음\n",
    "                    continue\n",
    "\n",
    "                second = combined[j][1]\n",
    "                second_idx = j\n",
    "    \n",
    "    ans.append(first_idx)\n",
    "\n",
    "    if second_idx != -1:\n",
    "        ans.append(second_idx) \n"
   ]
  },
  {
   "cell_type": "code",
   "execution_count": null,
   "metadata": {},
   "outputs": [],
   "source": []
  }
 ],
 "metadata": {
  "kernelspec": {
   "display_name": "Python 3",
   "language": "python",
   "name": "python3"
  },
  "language_info": {
   "codemirror_mode": {
    "name": "ipython",
    "version": 3
   },
   "file_extension": ".py",
   "mimetype": "text/x-python",
   "name": "python",
   "nbconvert_exporter": "python",
   "pygments_lexer": "ipython3",
   "version": "3.10.8"
  },
  "orig_nbformat": 4
 },
 "nbformat": 4,
 "nbformat_minor": 2
}
