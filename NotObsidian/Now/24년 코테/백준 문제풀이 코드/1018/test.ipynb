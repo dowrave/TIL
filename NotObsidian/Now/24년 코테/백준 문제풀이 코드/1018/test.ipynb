{
 "cells": [
  {
   "cell_type": "code",
   "execution_count": 1,
   "metadata": {},
   "outputs": [
    {
     "name": "stdout",
     "output_type": "stream",
     "text": [
      "85\n",
      "8\n"
     ]
    }
   ],
   "source": [
    "# 인풋 9개 정해짐\n",
    "import sys\n",
    "sys.stdin = open('test.txt', 'r')\n",
    "\n",
    "max = 0\n",
    "index = 0\n",
    "for i in range(9):\n",
    "    input = int(sys.stdin.readline())\n",
    "    if input > max:\n",
    "        max = input\n",
    "        index = i + 1\n",
    "        \n",
    "print(max)\n",
    "print(index)"
   ]
  },
  {
   "cell_type": "code",
   "execution_count": 2,
   "metadata": {},
   "outputs": [
    {
     "name": "stdout",
     "output_type": "stream",
     "text": [
      "[1, 2, 3]\n"
     ]
    }
   ],
   "source": [
    "stringArray = ['1', '2', '3']\n",
    "numberArray = list(map(int, stringArray))\n",
    "print(numberArray)"
   ]
  },
  {
   "cell_type": "code",
   "execution_count": 7,
   "metadata": {},
   "outputs": [
    {
     "data": {
      "text/plain": [
       "['The', 'first', 'Character', 'is', 'a', 'blank']"
      ]
     },
     "execution_count": 7,
     "metadata": {},
     "output_type": "execute_result"
    }
   ],
   "source": [
    "\" The first Character is a blank\".strip().split(' ')"
   ]
  },
  {
   "cell_type": "code",
   "execution_count": 1,
   "metadata": {},
   "outputs": [
    {
     "data": {
      "text/plain": [
       "48"
      ]
     },
     "execution_count": 1,
     "metadata": {},
     "output_type": "execute_result"
    }
   ],
   "source": [
    "ord('0')"
   ]
  },
  {
   "cell_type": "code",
   "execution_count": 14,
   "metadata": {},
   "outputs": [
    {
     "name": "stdout",
     "output_type": "stream",
     "text": [
      "54321\n",
      "15\n"
     ]
    }
   ],
   "source": [
    "import sys\n",
    "sys.stdin = open('test.txt', 'r')\n",
    "N = int(sys.stdin.readline())\n",
    "\n",
    "numbers = sys.stdin.readline().rstrip()\n",
    "print(numbers)\n",
    "\n",
    "ans = 0\n",
    "for i in range(N):\n",
    "    ans += int(i)\n",
    "    \n",
    "print(ans)"
   ]
  },
  {
   "cell_type": "code",
   "execution_count": 25,
   "metadata": {},
   "outputs": [
    {
     "name": "stdout",
     "output_type": "stream",
     "text": [
      "0\n"
     ]
    }
   ],
   "source": [
    "import sys\n",
    "sys.stdin = open('test.txt', 'r')\n",
    "\n",
    "# 열의 개수 M 행의 개수 N\n",
    "N, M = map(int, sys.stdin.readline().split())\n",
    "matrix = [sys.stdin.readline().strip() for _ in range(N)]\n",
    "\n",
    "# 8x8 체스판은 크게 2종류 : 왼쪽 위가 B냐 W냐 \n",
    "# 자기 자신부터 +7까지의 인덱스를 돌리게 됨\n",
    "def B_Matrix(row, col):\n",
    "    \"\"\"\n",
    "    수정해야 할 칸의 개수를 구함\n",
    "    \"\"\"\n",
    "    need_to_fix = 0\n",
    "\n",
    "    for r in range(8):\n",
    "        for c in range(8):\n",
    "            cell_value = matrix[row + r][col + c]\n",
    "            if (r + c) % 2 == 0 and cell_value == 'W':\n",
    "                need_to_fix += 1\n",
    "            elif (r + c) % 2 == 1 and cell_value == 'B':\n",
    "                need_to_fix += 1\n",
    "    \n",
    "    return need_to_fix\n",
    "    \n",
    "def W_Matrix(row, col):\n",
    "    \"\"\"\n",
    "    수정해야 할 칸의 개수를 구함\n",
    "    \"\"\"\n",
    "    need_to_fix = 0\n",
    "\n",
    "    for r in range(8):\n",
    "        for c in range(8):\n",
    "            cell_value = matrix[row + r][col + c]\n",
    "            if (r + c) % 2 == 0 and cell_value == 'B':\n",
    "                need_to_fix += 1\n",
    "            elif (r + c) % 2 == 1 and cell_value == 'W':\n",
    "                need_to_fix += 1\n",
    "    \n",
    "    return need_to_fix\n",
    "\n",
    "\n",
    "#  전체 순회 갯수 : (M-8+1)*(N-8+1)\n",
    "ans = 1251\n",
    "for i in range(N - 7):\n",
    "    for j in range(M - 7):\n",
    "        min_to_fix = min(B_Matrix(i, j), W_Matrix(i, j))\n",
    "        ans = min(ans, min_to_fix)\n",
    "\n",
    "print(ans)"
   ]
  },
  {
   "cell_type": "code",
   "execution_count": null,
   "metadata": {},
   "outputs": [],
   "source": []
  }
 ],
 "metadata": {
  "kernelspec": {
   "display_name": "Python 3",
   "language": "python",
   "name": "python3"
  },
  "language_info": {
   "codemirror_mode": {
    "name": "ipython",
    "version": 3
   },
   "file_extension": ".py",
   "mimetype": "text/x-python",
   "name": "python",
   "nbconvert_exporter": "python",
   "pygments_lexer": "ipython3",
   "version": "3.10.8"
  }
 },
 "nbformat": 4,
 "nbformat_minor": 2
}
