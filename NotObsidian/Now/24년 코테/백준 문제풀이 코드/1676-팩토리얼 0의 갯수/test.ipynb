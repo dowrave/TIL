{
 "cells": [
  {
   "cell_type": "code",
   "execution_count": 1,
   "metadata": {},
   "outputs": [],
   "source": [
    "# 팩토리얼 구현하기 : 재귀 / 반복문 / 메모이제이션(DP)이 있다\n",
    "\n",
    "def iter_factorial(n):\n",
    "    result = 1\n",
    "    for i in range (1, n + 1):\n",
    "        result *= i\n",
    "    return result\n",
    "\n",
    "def recursive_factorial(n):\n",
    "    if n == 0 or n == 1:\n",
    "        return 1\n",
    "    else:\n",
    "        return n * recursive_factorial(n-1)\n",
    "\n",
    "def memo_factorial(n):\n",
    "    memo = {0: 1, 1: 1}\n",
    "    if n in memo:\n",
    "        return memo[n]\n",
    "    \n",
    "    else:\n",
    "        memo[n] = n * memo_factorial(n-1)\n",
    "        return memo[n]\n",
    "\n",
    "# 팩토리얼 값이 여러 번 요구된다면 메모이제이션을, 아니라면 반복문을 사용해 구하는 게 효율적이다.\n",
    "# 메모이제이션도 결국 재귀함수니까"
   ]
  },
  {
   "cell_type": "code",
   "execution_count": 2,
   "metadata": {},
   "outputs": [
    {
     "name": "stdout",
     "output_type": "stream",
     "text": [
      "2\n"
     ]
    }
   ],
   "source": [
    "import sys\n",
    "sys.stdin = open('test.txt', 'r')\n",
    "n = int(sys.stdin.readline())\n",
    "n_factorial = iter_factorial(n)\n",
    "\n",
    "ans = 0\n",
    "while True:\n",
    "    if n_factorial % 10 == 0:\n",
    "        n_factorial = n_factorial // 10 \n",
    "        ans += 1\n",
    "    else:\n",
    "        break\n",
    "\n",
    "print(ans)"
   ]
  },
  {
   "cell_type": "code",
   "execution_count": null,
   "metadata": {},
   "outputs": [],
   "source": []
  }
 ],
 "metadata": {
  "kernelspec": {
   "display_name": "Python 3",
   "language": "python",
   "name": "python3"
  },
  "language_info": {
   "codemirror_mode": {
    "name": "ipython",
    "version": 3
   },
   "file_extension": ".py",
   "mimetype": "text/x-python",
   "name": "python",
   "nbconvert_exporter": "python",
   "pygments_lexer": "ipython3",
   "version": "3.10.8"
  }
 },
 "nbformat": 4,
 "nbformat_minor": 2
}
