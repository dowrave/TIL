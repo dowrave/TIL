{
 "cells": [
  {
   "cell_type": "code",
   "execution_count": 18,
   "metadata": {},
   "outputs": [
    {
     "name": "stdout",
     "output_type": "stream",
     "text": [
      "13\n"
     ]
    }
   ],
   "source": [
    "import sys\n",
    "sys.stdin = open('test.txt', 'r')\n",
    "input = sys.stdin.readline\n",
    "N, M = map(int, input().split()) # 행의 갯수, 열의 갯수\n",
    "\n",
    "# (1, 1)에서 출발한다니까 실제 인덱스는 -1씩 해주겠음\n",
    "\n",
    "graph = [input().strip() for _ in range(N)]\n",
    "\n",
    "visited = [[0] * M for _ in range(N)]\n",
    "\n",
    "moves = [(-1, 0), (1, 0), (0, -1), (0, 1)]\n",
    "\n",
    "def bfs(row, col):    \n",
    "    from collections import deque\n",
    "    visited[row][col] = 1 # 시작이 1\n",
    "    dq = deque([(row, col, 1)])\n",
    "\n",
    "    while dq:\n",
    "        r, c, dist = dq.popleft()\n",
    "\n",
    "        if r == N - 1 and c == M - 1:\n",
    "            print(dist)\n",
    "            return \n",
    "        \n",
    "        for move in moves:\n",
    "            dr = r + move[0]\n",
    "            dc = c + move[1]\n",
    "            if 0 <= dr < N and 0 <= dc < M and visited[dr][dc] == 0 and graph[dr][dc] == \"1\":\n",
    "                dq.append((dr, dc, dist + 1))\n",
    "                visited[dr][dc] = dist + 1\n",
    "\n",
    "bfs(0, 0)"
   ]
  },
  {
   "cell_type": "code",
   "execution_count": null,
   "metadata": {},
   "outputs": [],
   "source": [
    "# 간단한 bfs 문제임"
   ]
  }
 ],
 "metadata": {
  "kernelspec": {
   "display_name": "base",
   "language": "python",
   "name": "python3"
  },
  "language_info": {
   "codemirror_mode": {
    "name": "ipython",
    "version": 3
   },
   "file_extension": ".py",
   "mimetype": "text/x-python",
   "name": "python",
   "nbconvert_exporter": "python",
   "pygments_lexer": "ipython3",
   "version": "3.10.9"
  }
 },
 "nbformat": 4,
 "nbformat_minor": 2
}
