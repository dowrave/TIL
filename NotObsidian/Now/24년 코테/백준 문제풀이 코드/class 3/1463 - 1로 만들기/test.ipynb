{
 "cells": [
  {
   "cell_type": "code",
   "execution_count": 42,
   "metadata": {},
   "outputs": [
    {
     "name": "stdout",
     "output_type": "stream",
     "text": [
      "0\n"
     ]
    }
   ],
   "source": [
    "import sys\n",
    "from collections import deque\n",
    "sys.stdin = open('test.txt', 'r')\n",
    "input = sys.stdin.readline\n",
    "N = int(input())\n",
    "\n",
    "# dp로 풀기\n",
    "\n",
    "if N == 1:\n",
    "    print(0)\n",
    "elif N == 2 or N == 3:\n",
    "    print(1)\n",
    "else:\n",
    "    lst = [0] * (N + 1)\n",
    "    lst[2], lst[3] = 1, 1\n",
    "\n",
    "    for i in range(4, N + 1):\n",
    "        # 기본적으로 아무리 횟수가 많아도 lst[i]는 lst[i-1] + 1이 최대임\n",
    "        lst[i] = lst[i-1] + 1\n",
    "        if i % 3 == 0:\n",
    "            lst[i] = min(lst[i // 3] + 1, lst[i])\n",
    "        if i % 2 == 0:\n",
    "            lst[i] = min(lst[i // 2] + 1, lst[i])\n",
    "    \n",
    "    print(lst[N])\n"
   ]
  },
  {
   "cell_type": "code",
   "execution_count": 7,
   "metadata": {},
   "outputs": [
    {
     "name": "stdout",
     "output_type": "stream",
     "text": [
      "3\n"
     ]
    }
   ],
   "source": [
    "# BFS로 풀이 - \n",
    "\n",
    "import sys\n",
    "from collections import deque\n",
    "sys.stdin = open('test.txt', 'r')\n",
    "input = sys.stdin.readline\n",
    "N = int(input())\n",
    "\n",
    "# 숫자가 주어질 때, 필요한 연산 횟수의 최솟값?\n",
    "# 1을 만들기 위한 연산 횟수의 최솟값임 : 3으로 나누기 / 2로 나누기 / 1을 빼기\n",
    "\n",
    "# lst = [-1] * (N + 1) # 해당 숫자에 도달하기 위한 최소 연산 수\n",
    "dct = {}\n",
    "dct[1] = int(1e6 + 1)\n",
    "\n",
    "dq = deque([]) \n",
    "dq.append((N, 0)) # N에서 출발\n",
    "visited = {N: 0}\n",
    "\n",
    "while True:\n",
    "    now, depth = dq.popleft()\n",
    "\n",
    "    if now == 1:\n",
    "        print(depth)\n",
    "        break\n",
    "\n",
    "    # dict의 조회 시 `in`을 쓰는 방법이 있다\n",
    "    if now % 3 == 0 and now // 3 not in visited:\n",
    "        dq.append((now // 3, depth + 1))\n",
    "        visited[now // 3] = depth + 1\n",
    "\n",
    "    if now % 2 == 0 and now // 2 not in visited:\n",
    "        dq.append((now // 2, depth + 1))\n",
    "        visited[now // 2] = depth + 1\n",
    "\n",
    "    if now - 1 not in visited:\n",
    "        dq.append((now - 1, depth + 1))\n",
    "        visited[now + 1] = depth  + 1\n",
    "\n",
    "\n"
   ]
  },
  {
   "cell_type": "code",
   "execution_count": null,
   "metadata": {},
   "outputs": [],
   "source": []
  }
 ],
 "metadata": {
  "kernelspec": {
   "display_name": "base",
   "language": "python",
   "name": "python3"
  },
  "language_info": {
   "codemirror_mode": {
    "name": "ipython",
    "version": 3
   },
   "file_extension": ".py",
   "mimetype": "text/x-python",
   "name": "python",
   "nbconvert_exporter": "python",
   "pygments_lexer": "ipython3",
   "version": "3.10.9"
  }
 },
 "nbformat": 4,
 "nbformat_minor": 2
}
