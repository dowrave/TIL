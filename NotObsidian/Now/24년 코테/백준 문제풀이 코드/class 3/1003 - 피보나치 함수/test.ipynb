{
 "cells": [
  {
   "cell_type": "code",
   "execution_count": 6,
   "metadata": {},
   "outputs": [
    {
     "name": "stdout",
     "output_type": "stream",
     "text": [
      "5 8\n",
      "10946 17711\n"
     ]
    }
   ],
   "source": [
    "import sys\n",
    "sys.stdin = open('test.txt', 'r')\n",
    "input = sys.stdin.readline\n",
    "\n",
    "T = int(input())\n",
    "\n",
    "# 각 리스트는 해당 인덱스에서 0 / 1이 몇번이나 나왔는지를 메모해놓는 리스트임\n",
    "lst_0 = [0] * 41 \n",
    "lst_0[0] = 1\n",
    "\n",
    "lst_1 = [0] * 41\n",
    "lst_1[1] = 1\n",
    "\n",
    "for _ in range(T):\n",
    "    N = int(input())\n",
    "\n",
    "    for i in range(2, N+1):\n",
    "        lst_0[i] = lst_0[i-1] + lst_0[i-2]\n",
    "        lst_1[i] = lst_1[i-1] + lst_1[i-2]\n",
    "\n",
    "    print(lst_0[N], lst_1[N])\n"
   ]
  },
  {
   "cell_type": "code",
   "execution_count": null,
   "metadata": {},
   "outputs": [],
   "source": []
  }
 ],
 "metadata": {
  "kernelspec": {
   "display_name": "base",
   "language": "python",
   "name": "python3"
  },
  "language_info": {
   "codemirror_mode": {
    "name": "ipython",
    "version": 3
   },
   "file_extension": ".py",
   "mimetype": "text/x-python",
   "name": "python",
   "nbconvert_exporter": "python",
   "pygments_lexer": "ipython3",
   "version": "3.10.9"
  }
 },
 "nbformat": 4,
 "nbformat_minor": 2
}
