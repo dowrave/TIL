{
 "cells": [
  {
   "cell_type": "code",
   "execution_count": 1,
   "metadata": {},
   "outputs": [
    {
     "name": "stdout",
     "output_type": "stream",
     "text": [
      "0\n",
      "1\n",
      "2\n",
      "12345678\n",
      "0\n"
     ]
    }
   ],
   "source": [
    "import heapq\n",
    "import sys\n",
    "sys.stdin = open('test.txt', 'r')\n",
    "input = sys.stdin.readline\n",
    "\n",
    "N = int(input())\n",
    "heap = []\n",
    "for _ in range(N):\n",
    "    x = int(input())\n",
    "    if x == 0:\n",
    "        print(heapq.heappop(heap) if heap != [] else '0')\n",
    "    else:\n",
    "        heapq.heappush(heap, x)"
   ]
  },
  {
   "cell_type": "markdown",
   "metadata": {},
   "source": [
    "- `heapq`는 기본적으로 최소 힙으로 구현된다.\n",
    "- 최대 힙은 위에서 넣는 `x` 값 대신, `(-x, x)`의 튜플 형태로 넣어서 구현할 수 있다"
   ]
  },
  {
   "cell_type": "code",
   "execution_count": null,
   "metadata": {},
   "outputs": [],
   "source": []
  }
 ],
 "metadata": {
  "kernelspec": {
   "display_name": "base",
   "language": "python",
   "name": "python3"
  },
  "language_info": {
   "codemirror_mode": {
    "name": "ipython",
    "version": 3
   },
   "file_extension": ".py",
   "mimetype": "text/x-python",
   "name": "python",
   "nbconvert_exporter": "python",
   "pygments_lexer": "ipython3",
   "version": "3.10.9"
  }
 },
 "nbformat": 4,
 "nbformat_minor": 2
}
