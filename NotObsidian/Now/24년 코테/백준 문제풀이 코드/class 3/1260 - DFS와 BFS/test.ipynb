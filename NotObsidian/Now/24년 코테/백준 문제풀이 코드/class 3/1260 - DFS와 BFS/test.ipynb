{
 "cells": [
  {
   "cell_type": "code",
   "execution_count": 16,
   "metadata": {},
   "outputs": [
    {
     "name": "stdout",
     "output_type": "stream",
     "text": [
      "1 2 4 3\n",
      "1 2 3 4\n"
     ]
    }
   ],
   "source": [
    "import sys\n",
    "sys.stdin = open('test.txt', 'r')\n",
    "input = sys.stdin.readline\n",
    "\n",
    "N, M, v = map(int, input().split())\n",
    "\n",
    "graph = {}\n",
    "for i in range(1, N+1):\n",
    "    graph[i] = []\n",
    "\n",
    "for _ in range(M):\n",
    "    a, b = map(int, input().split())\n",
    "    graph[a].append(b)\n",
    "    graph[b].append(a)\n",
    "\n",
    "dfs_visited = [0] * (N + 1)\n",
    "dfs_order = []\n",
    "\n",
    "def dfs(node):\n",
    "    dfs_visited[node] = 1\n",
    "    dfs_order.append(node)\n",
    "    graph[node].sort()\n",
    "    for next_node in graph[node]:\n",
    "        if dfs_visited[next_node] == 0:\n",
    "            dfs(next_node)\n",
    "\n",
    "dfs(v)\n",
    "print(*dfs_order)\n",
    "\n",
    "bfs_visited = [0] * (N+1)\n",
    "bfs_order = []\n",
    "def bfs(node):\n",
    "    from collections import deque\n",
    "    dq = deque([])\n",
    "\n",
    "    dq.append(node)\n",
    "    bfs_order.append(node)\n",
    "    bfs_visited[node] = 1\n",
    "\n",
    "    while dq:\n",
    "        now_node = dq.popleft()\n",
    "        graph[now_node].sort()\n",
    "        \n",
    "        for next_node in graph[now_node]:\n",
    "            if bfs_visited[next_node] == 0:\n",
    "                dq.append(next_node)\n",
    "                bfs_visited[next_node] = 1\n",
    "                bfs_order.append(next_node)\n",
    "                \n",
    "\n",
    "bfs(v)\n",
    "print(*bfs_order)\n",
    "    "
   ]
  },
  {
   "cell_type": "code",
   "execution_count": null,
   "metadata": {},
   "outputs": [],
   "source": []
  }
 ],
 "metadata": {
  "kernelspec": {
   "display_name": "base",
   "language": "python",
   "name": "python3"
  },
  "language_info": {
   "codemirror_mode": {
    "name": "ipython",
    "version": 3
   },
   "file_extension": ".py",
   "mimetype": "text/x-python",
   "name": "python",
   "nbconvert_exporter": "python",
   "pygments_lexer": "ipython3",
   "version": "3.10.9"
  }
 },
 "nbformat": 4,
 "nbformat_minor": 2
}
