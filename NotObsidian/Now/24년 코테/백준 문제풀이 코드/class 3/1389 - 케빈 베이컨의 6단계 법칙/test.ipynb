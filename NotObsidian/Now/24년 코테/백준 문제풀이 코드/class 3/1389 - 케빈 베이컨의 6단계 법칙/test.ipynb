{
 "cells": [
  {
   "cell_type": "code",
   "execution_count": 19,
   "metadata": {},
   "outputs": [
    {
     "name": "stdout",
     "output_type": "stream",
     "text": [
      "3\n"
     ]
    }
   ],
   "source": [
    "import sys\n",
    "from collections import deque \n",
    "sys.stdin = open('test.txt', 'r')\n",
    "input = sys.stdin.readline\n",
    "N, M = map(int, input().split())\n",
    "\n",
    "graph = {}\n",
    "for i in range(1, N+1):\n",
    "    graph[i] = []\n",
    "\n",
    "\n",
    "for _ in range(M):\n",
    "    a, b = map(int, input().split())\n",
    "    graph[a].append(b)\n",
    "    graph[b].append(a)\n",
    "\n",
    "# 케빈 베이컨 게임 = 임의의 두 사람이 최소 몇 단계만에 이어질 수 있는가?\n",
    "# 친구 관계가 입력일 때, 케빈 베이컨의 수가 가장 작은 사람을 구하시오(다른 모든 사람과의 거리의 합이 가장 작은 사람)\n",
    "\n",
    "ans_lst = [1e9] # 각 인덱스의 케빈 베이컨 수, 0번 인덱스는 제외\n",
    "def bfs(node):\n",
    "    \n",
    "    visited = [0] * (N + 1) \n",
    "    visited[node] = 1\n",
    "    dq = deque([])\n",
    "    dq.append((node, 0))\n",
    "    kevin_bacon = 0\n",
    "\n",
    "    while dq:\n",
    "        now, depth = dq.popleft()\n",
    "        kevin_bacon += depth\n",
    "        for i in graph[now]:\n",
    "            if visited[i] == 0:\n",
    "                dq.append((i, depth + 1))\n",
    "                visited[i] = 1\n",
    "    return kevin_bacon\n",
    "\n",
    "for i in range(1, N + 1):\n",
    "    ans = bfs(i)\n",
    "    ans_lst.append(ans)\n",
    "\n",
    "print(ans_lst.index(min(ans_lst)))"
   ]
  },
  {
   "cell_type": "code",
   "execution_count": 39,
   "metadata": {},
   "outputs": [
    {
     "name": "stdout",
     "output_type": "stream",
     "text": [
      "[[0, 0, 1, 1, 0], [0, 0, 1, 0, 0], [1, 1, 0, 1, 0], [1, 0, 1, 0, 1], [0, 0, 0, 1, 0]]\n",
      "3\n"
     ]
    }
   ],
   "source": [
    "# 풀이 2 : 플로이드-워셜\n",
    "# 모든 정점 쌍 간의 최단 경로 찾기\n",
    "# DP의 일종, 모든 정점을 중간점으로 고려해 최단 경로를 업데이트한다.\n",
    "# 시간 복잡도 : O(V^3)\n",
    "import sys\n",
    "from collections import deque \n",
    "sys.stdin = open('test.txt', 'r')\n",
    "input = sys.stdin.readline\n",
    "N, M = map(int, input().split())\n",
    "\n",
    "graph = [[0] * N for _ in range(N)]\n",
    "for _ in range(M):\n",
    "    a, b = map(int, input().split())\n",
    "    graph[a-1][b-1] = 1\n",
    "    graph[b-1][a-1] = 1\n",
    "\n",
    "def floyd_warshall(graph):\n",
    "    \n",
    "    INF = float('inf')\n",
    "    dist = [[INF] * (N) for _ in range(N)]\n",
    "\n",
    "    # dist 행렬 초기화\n",
    "    for i in range(N):\n",
    "        for j in range(N):\n",
    "            if graph[i][j] == 1:\n",
    "                dist[i][j] = 1\n",
    "            if i == j:\n",
    "                dist[i][j] = 0\n",
    "                \n",
    "    # k : 모든 노드 간의 중간점이라고 생각 -> i, j는 시작점과 끝점\n",
    "    for k in range(N):\n",
    "        for i in range(N):\n",
    "            for j in range(N):\n",
    "                dist[i][j] = min(dist[i][j], dist[i][k] + dist[k][j])\n",
    "\n",
    "    return dist\n",
    "\n",
    "# 위 함수를 돌리면 각 row는 각 노드로부터 모든 노드까지의 최단거리 리스트가 나옴\n",
    "dist = floyd_warshall(graph)\n",
    "sum_lst = []\n",
    "for i in dist:\n",
    "    sum_lst.append(sum(i))\n",
    "\n",
    "print(sum_lst.index(min(sum_lst)) + 1)"
   ]
  }
 ],
 "metadata": {
  "kernelspec": {
   "display_name": "base",
   "language": "python",
   "name": "python3"
  },
  "language_info": {
   "codemirror_mode": {
    "name": "ipython",
    "version": 3
   },
   "file_extension": ".py",
   "mimetype": "text/x-python",
   "name": "python",
   "nbconvert_exporter": "python",
   "pygments_lexer": "ipython3",
   "version": "3.10.9"
  }
 },
 "nbformat": 4,
 "nbformat_minor": 2
}
