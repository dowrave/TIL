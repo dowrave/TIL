{
 "cells": [
  {
   "cell_type": "code",
   "execution_count": 23,
   "metadata": {},
   "outputs": [
    {
     "name": "stdout",
     "output_type": "stream",
     "text": [
      "4\n"
     ]
    }
   ],
   "source": [
    "import sys\n",
    "sys.stdin = open('test.txt', 'r')\n",
    "input = sys.stdin.readline\n",
    "N = int(input())\n",
    "\n",
    "# 각 인풋은 시작~끝 시간이다\n",
    "# 각 회의가 겹치지 않게 하면서 사용할 수 있는 최대 회의의 개수?\n",
    "\n",
    "lst = []\n",
    "for _ in range(N):\n",
    "    lst.append(tuple(map(int, input().split())))\n",
    "\n",
    "lst.sort(key = lambda x : (x[1], x[0]))\n",
    "global_end = 0\n",
    "ans = 0\n",
    "\n",
    "# 1. x[1]에 대한 오름차순, 끝나는 시간이 가장 빠른 회의부터 선택함\n",
    "# 2. x[0]에 대한 오름차순이므로, 같은 끝나는 시간이라면 가장 늦게 시작하는 회의를 선택하게 됨\n",
    "for i in lst:\n",
    "    start, end = i[0], i[1]\n",
    "    if global_end <= start:\n",
    "        global_end = end\n",
    "        ans += 1 # 3. 그래서 실제로 값이 더해지는 시점이랑 어떤 회의를 선택하느냐의 시점은 다를 수 있음\n",
    "\n",
    "print(ans)\n"
   ]
  },
  {
   "cell_type": "code",
   "execution_count": null,
   "metadata": {},
   "outputs": [],
   "source": []
  }
 ],
 "metadata": {
  "kernelspec": {
   "display_name": "base",
   "language": "python",
   "name": "python3"
  },
  "language_info": {
   "codemirror_mode": {
    "name": "ipython",
    "version": 3
   },
   "file_extension": ".py",
   "mimetype": "text/x-python",
   "name": "python",
   "nbconvert_exporter": "python",
   "pygments_lexer": "ipython3",
   "version": "3.10.9"
  }
 },
 "nbformat": 4,
 "nbformat_minor": 2
}
