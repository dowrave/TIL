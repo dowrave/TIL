{
 "cells": [
  {
   "cell_type": "code",
   "execution_count": 11,
   "metadata": {},
   "outputs": [
    {
     "name": "stdout",
     "output_type": "stream",
     "text": [
      "10\n"
     ]
    }
   ],
   "source": [
    "import sys\n",
    "sys.stdin = open('test.txt', 'r')\n",
    "input = sys.stdin.readline\n",
    "N = int(input())\n",
    "\n",
    "lst = [0] * 300\n",
    "\n",
    "for i in range(N):\n",
    "    lst[i] = int(input())\n",
    "\n",
    "dp = [0] * 300\n",
    "dp[0] = lst[0]\n",
    "dp[1] = lst[0] + lst[1]\n",
    "dp[2] = max(lst[0] + lst[2], lst[1] + lst[2])\n",
    "# 조건\n",
    "# 1. 연속된 3개를 밟을 수 없다, 건너뛰는 건 1칸까지만 허용한다.\n",
    "# 2. 마지막은 반드시 밟아야 한다\n",
    "\n",
    "# \"지금 칸을 밟을 때\"의 지금 칸 까지의 최댓값 : 결국 직전 칸을 밟았냐 밟지 않았냐로 나뉨\n",
    "# 1. 직전 칸을 밟았다 = i-2를 밟지 않음\n",
    "# 2. 직전 칸을 밟지 않았다 = i-2를 밟음\n",
    "\n",
    "# 그럼 이게 쌓였을 때 문제를 해결할 수 있는가? <-- 이걸 생각하는게 어려움. 보장이 되는가도 잘 모르겠고.\n",
    "# - 모든 dp[i]값은 lst[i]값을 반드시 더함\n",
    "# - 그러면 지금 dp[i-3]과 dp[i-2]에 대해, dp[i]값은 반드시 아래 둘 중 하나가 됨(모양을 생각하면 더 쉬울 듯)\n",
    "for i in range(3, N):\n",
    "    dp[i] = max(dp[i-3] + lst[i-1] + lst[i], dp[i-2] + lst[i])\n",
    "\n",
    "print(dp[N-1])"
   ]
  },
  {
   "cell_type": "code",
   "execution_count": null,
   "metadata": {},
   "outputs": [],
   "source": []
  }
 ],
 "metadata": {
  "kernelspec": {
   "display_name": "base",
   "language": "python",
   "name": "python3"
  },
  "language_info": {
   "codemirror_mode": {
    "name": "ipython",
    "version": 3
   },
   "file_extension": ".py",
   "mimetype": "text/x-python",
   "name": "python",
   "nbconvert_exporter": "python",
   "pygments_lexer": "ipython3",
   "version": "3.10.9"
  }
 },
 "nbformat": 4,
 "nbformat_minor": 2
}
