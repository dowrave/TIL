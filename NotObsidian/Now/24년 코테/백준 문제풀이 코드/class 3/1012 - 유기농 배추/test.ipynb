{
 "cells": [
  {
   "cell_type": "code",
   "execution_count": 23,
   "metadata": {},
   "outputs": [
    {
     "name": "stdout",
     "output_type": "stream",
     "text": [
      "5\n",
      "1\n"
     ]
    }
   ],
   "source": [
    "import sys\n",
    "sys.setrecursionlimit(int(1e9))\n",
    "# sys.stdin = open('test.txt', 'r')\n",
    "input = sys.stdin.readline\n",
    "\n",
    "T = int(input())\n",
    "for _ in range(T):\n",
    "    M, N, K = map(int, input().split()) # 가로길이, 세로길이, 1의 갯수 (열 갯수, 행 갯수, 1의 갯수)\n",
    "\n",
    "    # 이렇게 만들면 graph[a][b]는 각각 a가 n번째 row값, b는 m번째 col값이 되겠죠?\n",
    "    graph = [[0] * N for _ in range(M)]\n",
    "    visited = [[0] * N for _ in range(M)]\n",
    "\n",
    "    # 그러면 여기 x, y값은 각각 배추의 위치 x, y가 됨 -> \n",
    "    for _ in range(K):\n",
    "        x, y = map(int, input().split())\n",
    "        graph[x][y] = 1\n",
    "\n",
    "    # 쉽게 말하면 1로 뭉쳐진 덩어리의 개수 구하는 문제임\n",
    "    moves = [(-1, 0), (1, 0), (0, -1), (0, 1)]\n",
    "\n",
    "    def dfs(row, col):\n",
    "        visited[row][col] = num_of_areas\n",
    "        for move in moves:\n",
    "            drow = row + move[0]\n",
    "            dcol = col + move[1]\n",
    "\n",
    "            # 영역 벗어난 경우\n",
    "            if drow < 0 or drow > M-1 or dcol < 0 or dcol > N-1:\n",
    "                continue\n",
    "\n",
    "            # 방문한 적 있음\n",
    "            if visited[drow][dcol] != 0: \n",
    "                continue\n",
    "\n",
    "            # 값이 1이 아님\n",
    "            if graph[drow][dcol] != 1:\n",
    "                continue\n",
    "\n",
    "            dfs(drow, dcol)\n",
    "        \n",
    "    num_of_areas = 0\n",
    "    for i in range(M):\n",
    "        for j in range(N):\n",
    "            if graph[i][j] == 1 and not visited[i][j]:\n",
    "                num_of_areas += 1\n",
    "                dfs(i, j)\n",
    "\n",
    "    print(num_of_areas)\n"
   ]
  },
  {
   "cell_type": "code",
   "execution_count": null,
   "metadata": {},
   "outputs": [],
   "source": []
  }
 ],
 "metadata": {
  "kernelspec": {
   "display_name": "base",
   "language": "python",
   "name": "python3"
  },
  "language_info": {
   "codemirror_mode": {
    "name": "ipython",
    "version": 3
   },
   "file_extension": ".py",
   "mimetype": "text/x-python",
   "name": "python",
   "nbconvert_exporter": "python",
   "pygments_lexer": "ipython3",
   "version": "3.10.9"
  }
 },
 "nbformat": 4,
 "nbformat_minor": 2
}
