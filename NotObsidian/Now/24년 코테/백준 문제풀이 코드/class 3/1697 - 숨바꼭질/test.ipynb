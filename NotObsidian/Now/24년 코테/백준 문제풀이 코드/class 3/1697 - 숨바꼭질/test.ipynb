{
 "cells": [
  {
   "cell_type": "code",
   "execution_count": 12,
   "metadata": {},
   "outputs": [
    {
     "name": "stdout",
     "output_type": "stream",
     "text": [
      "4\n"
     ]
    }
   ],
   "source": [
    "import sys\n",
    "from collections import deque\n",
    "sys.stdin = open('test.txt', 'r')\n",
    "input = sys.stdin.readline\n",
    "\n",
    "N, K = map(int, input().split())\n",
    "\n",
    "# BFS를 구현하는데 방문한 리스트를 구현을 안해놨다 ㅋㅋ\n",
    "def bfs(n, k):\n",
    "    dq.append(n)\n",
    "    visited[n] = 0\n",
    "    while dq:\n",
    "        loc = dq.popleft()\n",
    "\n",
    "        if loc == k:\n",
    "            return visited[loc]\n",
    "        \n",
    "        moves = [loc + 1, loc - 1, 2 * loc]\n",
    "\n",
    "        for move in moves:\n",
    "            if (move >= 0 and \n",
    "                move <= int(1e5) and\n",
    "                visited[move] == -1\n",
    "               ):\n",
    "                dq.append(move)\n",
    "                visited[move] = visited[loc] + 1\n",
    "\n",
    "dq = deque([])\n",
    "visited = [-1] * int(1e5 + 1)\n",
    "print(bfs(N, K))"
   ]
  },
  {
   "cell_type": "code",
   "execution_count": null,
   "metadata": {},
   "outputs": [],
   "source": []
  },
  {
   "cell_type": "code",
   "execution_count": null,
   "metadata": {},
   "outputs": [],
   "source": []
  },
  {
   "cell_type": "code",
   "execution_count": null,
   "metadata": {},
   "outputs": [],
   "source": [
    "import sys\n",
    "from collections import deque\n",
    "input = sys.stdin.readline\n",
    "\n",
    "N, K = map(int, input().split())\n",
    "\n",
    "# BFS를 구현하는데 방문한 리스트를 구현을 안해놨다 ㅋㅋ\n",
    "def bfs(n, k):\n",
    "    dq.append(n)\n",
    "    visited[n] = 0\n",
    "    while dq:\n",
    "        loc = dq.popleft()\n",
    "        if loc == k:\n",
    "            return visited[loc]\n",
    "        moves = [loc + 1, loc - 1, 2 * loc]\n",
    "        for move in moves:\n",
    "            if (move >= 0 and \n",
    "                move <= int(1e5) and\n",
    "                visited[move] == -1\n",
    "               ):\n",
    "                dq.append(move)\n",
    "                visited[move] = visited[loc] + 1\n",
    "\n",
    "dq = deque([])\n",
    "visited = [-1] * int(1e5 + 1)\n",
    "print(bfs(N, K))"
   ]
  }
 ],
 "metadata": {
  "kernelspec": {
   "display_name": "base",
   "language": "python",
   "name": "python3"
  },
  "language_info": {
   "codemirror_mode": {
    "name": "ipython",
    "version": 3
   },
   "file_extension": ".py",
   "mimetype": "text/x-python",
   "name": "python",
   "nbconvert_exporter": "python",
   "pygments_lexer": "ipython3",
   "version": "3.10.9"
  }
 },
 "nbformat": 4,
 "nbformat_minor": 2
}
