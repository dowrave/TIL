{
 "cells": [
  {
   "cell_type": "markdown",
   "metadata": {},
   "source": [
    "## 메모리 초과\n",
    "- 가로, 세로가 2^15까지 가능하다"
   ]
  },
  {
   "cell_type": "code",
   "execution_count": 9,
   "metadata": {},
   "outputs": [
    {
     "name": "stdout",
     "output_type": "stream",
     "text": [
      "786432\n"
     ]
    }
   ],
   "source": [
    "import sys \n",
    "sys.stdin = open('test.txt', 'r')\n",
    "sys.setrecursionlimit(int(1e6))\n",
    "input = sys.stdin.readline\n",
    "\n",
    "# N(2^N * 2^N 행렬)이 주어졌을 때, r행 c열을 몇 번째르 방문하는가?\n",
    "# 0번째부터 방문함\n",
    "N, r, c = map(int, input().split())\n",
    "graph = [[-1] * (2**N) for _ in range(2**N)]\n",
    "\n",
    "# 방문 순서 : 주어진 행렬을 2^N-1 * 2^N-1로 쪼갠 다음, 왼쪽 위 - 오른쪽 위 - 왼쪽 아래 - 오른쪽 아래 순서대로 방문함\n",
    "# 그러려면 N 값 외에도 각 행렬의 왼쪽 위 위치를 알아야 할 듯?\n",
    "# 이전 좌측 상단 좌표 를 기준, +{ (0, 0) / (2^(N-1), 0) / (0, 2^(N-1)), (2^(N-1), 2^(N-1))}\n",
    "\n",
    "order = 0\n",
    "\n",
    "def funcZ(N, row, col):\n",
    "    global order\n",
    "\n",
    "    # 재귀 종료 조건\n",
    "    if N == 0:\n",
    "        graph[row][col] = order\n",
    "        order += 1\n",
    "    \n",
    "    else:\n",
    "        funcZ(N-1, row, col)\n",
    "        funcZ(N-1, row, col + 2**(N-1))\n",
    "        funcZ(N-1, row + 2**(N-1), col)\n",
    "        funcZ(N-1, row + 2**(N-1), col + 2**(N-1))\n",
    "\n",
    "\n",
    "funcZ(N, 0, 0)\n",
    "print(graph[r][c])"
   ]
  },
  {
   "cell_type": "markdown",
   "metadata": {},
   "source": [
    "## 다른 답변 참고\n",
    "- 그래프는 그리지 않는 게 맞다! 2^30의 그래프를 그릴 수는 없으니까!\n",
    "- 그래프를 그리지 않고, r행 c열의 값을 어떻게 알 수 있는가?"
   ]
  },
  {
   "cell_type": "markdown",
   "metadata": {},
   "source": [
    "### 1. 분할 정복\n",
    "- N = 3일 때 4분할할 경우, 분할된 각 행렬의 좌측상단 값은4^2(2^4)의 배수임\n",
    "- N = 2일 때 4분할할 경우, 분할된 각 행렬의 좌측상단 값은 4^1의 배수임\n",
    "- N = 1일 때 4분할할 경우, 분할된 각 행렬의 좌측상단 값은 4^0의 배수임\n",
    "\n",
    "- 그리고 분할된 행렬 중, r행 c열이 어떤 행렬에 속하는지는 자명함"
   ]
  },
  {
   "cell_type": "code",
   "execution_count": 13,
   "metadata": {},
   "outputs": [
    {
     "name": "stdout",
     "output_type": "stream",
     "text": [
      "262143\n"
     ]
    }
   ],
   "source": [
    "import sys \n",
    "sys.stdin = open('test.txt', 'r')\n",
    "input = sys.stdin.readline\n",
    "\n",
    "N, r, c = map(int, input().split())\n",
    "\n",
    "ans = 0 \n",
    "\n",
    "# 현재 행렬의 좌측 상단 row, col 값\n",
    "base_row = 0\n",
    "base_col = 0\n",
    "\n",
    "while N > 0:\n",
    "    # 2^N * 2^N 행렬에서 절반으로 자르는 값을 설정\n",
    "    value = 2 ** (N - 1)\n",
    "    half_row = base_row + value\n",
    "    half_col = base_col + value\n",
    "\n",
    "    # 조건은 좌상 / 우상 / 좌하 / 우하 순서\n",
    "    # r, c가 둘 다 작다 / 둘 중 하나만 크거나 같다[(0, col), (row, 0)] 순서 / 둘 다 크거나 같다\n",
    "    if r < half_row and c < half_col:\n",
    "        ans += 4 ** (N - 1) * 0\n",
    "        base_row += 0\n",
    "        base_col += 0\n",
    "    elif r < half_row and c >= half_col:\n",
    "        ans += 4 ** (N - 1) * 1\n",
    "        base_row += 0\n",
    "        base_col += value\n",
    "    elif r >= half_row and c < half_col:\n",
    "        ans += 4 ** (N - 1) * 2\n",
    "        base_row += value\n",
    "        base_col += 0\n",
    "    else:\n",
    "        ans += 4 ** (N - 1) * 3\n",
    "        base_row += value\n",
    "        base_col += value\n",
    "    N -= 1\n",
    "\n",
    "print(ans)"
   ]
  },
  {
   "cell_type": "markdown",
   "metadata": {},
   "source": [
    "### 2. 재귀\n",
    "- `arr[a][b] = c` 일 때, `arr[2a][2b] = 4c` 라는 규칙이 있기는 하다\n",
    "- 그렇게 접근하면 `4 * funcZ(N-1, r//2, c//2)`로 재귀식을 짤 수 있기는 한데..\n",
    "- 그러면 나머지는 어떻게 하지?\n",
    "\n",
    "---\n",
    "#### 홀수 인덱스의 처리\n",
    "- 저 논리대로면 결국 걸리는 지점은 홀수 인덱스가 있을 때란 말임?\n",
    "- 가장 작은 2x2 행렬에서, **홀수 인덱스가 있는 경우는 왼쪽 상단의 칸을 제외한 모든 경우**임\n",
    "- 그러면 좌측 상단의 값으로 표준화를 해서 줄일 수도 있겠다\n",
    "- 즉, 모든 2x2 행렬에서 우측 상단은 col 값이 홀수, 좌측 하단은 row 값이 홀수, 우측 하단은 row, col 모두 홀수임\n",
    "- 그렇게 생각하면 표준화를 할 때 아래처럼 이동시키면 됨\n",
    "  - row 값은 2로 나눈 나머지 값 * 2\n",
    "  - col 값은 2로 나눈 나머지 값"
   ]
  },
  {
   "cell_type": "code",
   "execution_count": 18,
   "metadata": {},
   "outputs": [
    {
     "data": {
      "text/plain": [
       "11"
      ]
     },
     "execution_count": 18,
     "metadata": {},
     "output_type": "execute_result"
    }
   ],
   "source": [
    "import sys \n",
    "sys.stdin = open('test.txt', 'r')\n",
    "input = sys.stdin.readline\n",
    "\n",
    "N, r, c = map(int, input().split())\n",
    "\n",
    "def funcZ(N, r, c):\n",
    "    if N == 0:\n",
    "        return 0\n",
    "\n",
    "    return (2 * (r % 2) + c % 2) + 4 * funcZ(N - 1, r // 2, c // 2)\n",
    "    \n",
    "print(funcZ(N, r, c))"
   ]
  },
  {
   "cell_type": "code",
   "execution_count": null,
   "metadata": {},
   "outputs": [],
   "source": []
  }
 ],
 "metadata": {
  "kernelspec": {
   "display_name": "base",
   "language": "python",
   "name": "python3"
  },
  "language_info": {
   "codemirror_mode": {
    "name": "ipython",
    "version": 3
   },
   "file_extension": ".py",
   "mimetype": "text/x-python",
   "name": "python",
   "nbconvert_exporter": "python",
   "pygments_lexer": "ipython3",
   "version": "3.10.9"
  }
 },
 "nbformat": 4,
 "nbformat_minor": 2
}
