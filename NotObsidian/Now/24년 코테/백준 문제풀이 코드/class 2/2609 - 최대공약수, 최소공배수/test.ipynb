{
 "cells": [
  {
   "cell_type": "code",
   "execution_count": 6,
   "metadata": {},
   "outputs": [
    {
     "name": "stdout",
     "output_type": "stream",
     "text": [
      "6\n",
      "72\n"
     ]
    }
   ],
   "source": [
    "import sys\n",
    "sys.stdin = open('test.txt', 'r')\n",
    "input = sys.stdin.readline\n",
    "a , b = map(int, input().split())\n",
    "\n",
    "def gcd(a, b):\n",
    "\n",
    "    while b != 0:\n",
    "        c = a % b \n",
    "        a = b\n",
    "        b = c\n",
    "\n",
    "    return a\n",
    "\n",
    "def lcm(a, b):\n",
    "    return int(a * b / gcd(a, b))\n",
    "\n",
    "print(gcd(a, b))\n",
    "print(lcm(a, b))"
   ]
  },
  {
   "cell_type": "code",
   "execution_count": null,
   "metadata": {},
   "outputs": [],
   "source": []
  }
 ],
 "metadata": {
  "kernelspec": {
   "display_name": "base",
   "language": "python",
   "name": "python3"
  },
  "language_info": {
   "codemirror_mode": {
    "name": "ipython",
    "version": 3
   },
   "file_extension": ".py",
   "mimetype": "text/x-python",
   "name": "python",
   "nbconvert_exporter": "python",
   "pygments_lexer": "ipython3",
   "version": "3.10.9"
  }
 },
 "nbformat": 4,
 "nbformat_minor": 2
}
