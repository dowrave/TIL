{
 "cells": [
  {
   "cell_type": "code",
   "execution_count": 13,
   "metadata": {},
   "outputs": [
    {
     "name": "stdout",
     "output_type": "stream",
     "text": [
      "3\n"
     ]
    }
   ],
   "source": [
    "import sys\n",
    "sys.stdin = open('test.txt', 'r')\n",
    "input = sys.stdin.readline\n",
    "\n",
    "N = int(input())\n",
    "\n",
    "# 아이디어 : 최소 개수의 방을 n(1, 2, 3, ...)이라고 하면, \n",
    "# 모든 n에 대한 가장 큰 숫자값을 1로 빼고 6으로 나눈 값은 n(n-1) / 2 이다\n",
    "# 그렇다면 N에 대한 크기 비교 조건만 하면 된다 : 모든 N에 대해, 3 * n * (n-1) + 1\n",
    "# 단 N = 1일 경우는 좀 특수 취급을 하겠음 \n",
    "\n",
    "\n",
    "\n",
    "if N == 1:\n",
    "    print(1)\n",
    "\n",
    "else:\n",
    "    n = 1\n",
    "    while True:\n",
    "        condition = lambda x : 3 * (x - 1) * x + 1\n",
    "\n",
    "        if N > condition(n) and N <= condition(n+1):\n",
    "            break\n",
    "        else:\n",
    "            n += 1\n",
    "\n",
    "    print(n + 1)"
   ]
  },
  {
   "cell_type": "code",
   "execution_count": null,
   "metadata": {},
   "outputs": [],
   "source": []
  }
 ],
 "metadata": {
  "kernelspec": {
   "display_name": "base",
   "language": "python",
   "name": "python3"
  },
  "language_info": {
   "codemirror_mode": {
    "name": "ipython",
    "version": 3
   },
   "file_extension": ".py",
   "mimetype": "text/x-python",
   "name": "python",
   "nbconvert_exporter": "python",
   "pygments_lexer": "ipython3",
   "version": "3.10.9"
  }
 },
 "nbformat": 4,
 "nbformat_minor": 2
}
