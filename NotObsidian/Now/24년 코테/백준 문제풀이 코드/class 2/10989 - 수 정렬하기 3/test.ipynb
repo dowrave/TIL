{
 "cells": [
  {
   "cell_type": "code",
   "execution_count": 2,
   "metadata": {},
   "outputs": [
    {
     "name": "stdout",
     "output_type": "stream",
     "text": [
      "1\n",
      "1\n",
      "2\n",
      "2\n",
      "3\n",
      "3\n",
      "4\n",
      "5\n",
      "5\n",
      "7\n"
     ]
    }
   ],
   "source": [
    "import sys\n",
    "sys.stdin = open('test.txt', 'r')\n",
    "input = sys.stdin.readline\n",
    "N = int(input())\n",
    "\n",
    "# N개의 수 10000보다 작거나 같은 자연수가 주어질 때, 오름차순으로 정렬하는 프로그램을 작성하시오\n",
    "# 자연수니까 가능한 Count 정렬 문제임 \n",
    "# 원리가 뭐냐면\n",
    "# 1. 길이 (최대 범위 + 1)의 배열을 만듦 (0은 비운다).\n",
    "# 2. 수가 들어올 때마다 인덱스 i에 값을 더한다\n",
    "# 3. 인풋을 모두 받은 다음, 인덱스 1부터 그 값만큼 반복해서 해당 인덱스를 출력한다\n",
    "\n",
    "\n",
    "# 1) 인풋값들을 받는 배열 만들기\n",
    "lst = [0] * (10000 + 1) # 10000은 문제에서 주어짐. 10000보다 작은 자연수이다.\n",
    "\n",
    "# 2) 인풋 받기\n",
    "for _ in range(N):\n",
    "    n = int(input())\n",
    "    lst[n] += 1\n",
    "\n",
    "# 3) 1번 인덱스부터 차례대로 출력하기\n",
    "for i in range(1, len(lst)):\n",
    "    if lst[i]:\n",
    "        for _ in range(lst[i]):\n",
    "            print(i)\n",
    "\n"
   ]
  },
  {
   "cell_type": "code",
   "execution_count": null,
   "metadata": {},
   "outputs": [],
   "source": []
  }
 ],
 "metadata": {
  "kernelspec": {
   "display_name": "base",
   "language": "python",
   "name": "python3"
  },
  "language_info": {
   "codemirror_mode": {
    "name": "ipython",
    "version": 3
   },
   "file_extension": ".py",
   "mimetype": "text/x-python",
   "name": "python",
   "nbconvert_exporter": "python",
   "pygments_lexer": "ipython3",
   "version": "3.10.9"
  }
 },
 "nbformat": 4,
 "nbformat_minor": 2
}
