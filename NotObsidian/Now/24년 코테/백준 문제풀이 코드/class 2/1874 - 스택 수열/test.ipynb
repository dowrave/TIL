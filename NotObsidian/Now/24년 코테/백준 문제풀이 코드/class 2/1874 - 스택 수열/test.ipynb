{
 "cells": [
  {
   "cell_type": "code",
   "execution_count": 13,
   "metadata": {},
   "outputs": [
    {
     "name": "stdout",
     "output_type": "stream",
     "text": [
      "NO\n"
     ]
    }
   ],
   "source": [
    "import sys\n",
    "sys.stdin = open('test.txt', 'r')\n",
    "\n",
    "# 아 문제가\n",
    "# 1부터 n까지의 수를 차례대로 쫙 나열함(스택에 푸시하는 순서는 반드시 오름차순)\n",
    "# 이 때, 주어진 숫자의 순서대로 만들어진 배열을 만들 수 있냐?는 문제임\n",
    "\n",
    "N = int(sys.stdin.readline())\n",
    "question = [-1]\n",
    "for _ in range(N):\n",
    "    question.append(int(sys.stdin.readline()))\n",
    "\n",
    "stack = []\n",
    "ans = []\n",
    "now_number = 1\n",
    "\n",
    "# 주어진 수열에 대해 반복문을 돌림\n",
    "for n in range(1, N+1):\n",
    "    target = question[n]\n",
    "\n",
    "    if stack == []:\n",
    "        stack.append(now_number)\n",
    "        ans.append('+')\n",
    "        now_number += 1\n",
    "\n",
    "    # 1. top의 값이 없거나, q보다 작다면 append\n",
    "    while stack[-1] < target:\n",
    "        stack.append(now_number)\n",
    "        ans.append('+')\n",
    "        now_number += 1\n",
    "\n",
    "    # 2. top의 값이 수열과 같다면 pop\n",
    "    if stack[-1] == target:\n",
    "        stack.pop()\n",
    "        ans.append('-')\n",
    "        continue\n",
    "\n",
    "if stack == []:\n",
    "    for i in ans:\n",
    "        print(i)\n",
    "else:\n",
    "    print(\"NO\")"
   ]
  },
  {
   "cell_type": "code",
   "execution_count": null,
   "metadata": {},
   "outputs": [],
   "source": []
  }
 ],
 "metadata": {
  "kernelspec": {
   "display_name": "Python 3",
   "language": "python",
   "name": "python3"
  },
  "language_info": {
   "codemirror_mode": {
    "name": "ipython",
    "version": 3
   },
   "file_extension": ".py",
   "mimetype": "text/x-python",
   "name": "python",
   "nbconvert_exporter": "python",
   "pygments_lexer": "ipython3",
   "version": "3.10.8"
  }
 },
 "nbformat": 4,
 "nbformat_minor": 2
}
