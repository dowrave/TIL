{
 "cells": [
  {
   "cell_type": "code",
   "execution_count": 6,
   "metadata": {},
   "outputs": [
    {
     "name": "stdout",
     "output_type": "stream",
     "text": [
      "3\n"
     ]
    }
   ],
   "source": [
    "import sys\n",
    "sys.stdin = open('test.txt', 'r')\n",
    "input = sys.stdin.readline\n",
    "N = int(input())\n",
    "\n",
    "# N kg을 배달한다. 최대한 적은 봉지를 들려고 한다. 5kg, 3kg 봉지가 있다.\n",
    "# 정확한 값을 만들 수 없다면 -1\n",
    "# 그러면 5kg 짜리를 i개, 3kg 짜리를 j개 라고 해서 계산해야 하나?\n",
    "min_count = 5000 # kg가 5000이므로\n",
    "can_make = False\n",
    "for i in range(N // 5 + 1):\n",
    "    for j in range(N // 3 + 1):\n",
    "        value = 5*i + 3*j \n",
    "        if value == N:\n",
    "            can_make = True\n",
    "            min_count = min(min_count, i + j)\n",
    "\n",
    "print(min_count) if can_make else print(-1)"
   ]
  },
  {
   "cell_type": "code",
   "execution_count": 7,
   "metadata": {},
   "outputs": [],
   "source": [
    "# 참고) 이전 풀이는 이랬음 - 성능적인 측면에선 이게 더 좋았다(300ms vs 60ms)"
   ]
  },
  {
   "cell_type": "code",
   "execution_count": null,
   "metadata": {},
   "outputs": [],
   "source": [
    "import sys\n",
    "\n",
    "N = int(sys.stdin.readline())\n",
    "\n",
    "if N >= 3 and N <= 5000:\n",
    "    if N % 5 == 0 and N % 3 == 0:\n",
    "        count = N // 5\n",
    "    elif N % 5 == 0 and N % 3 != 0:\n",
    "        count = N // 5\n",
    "    elif N >= 3 and (N - 3) % 5 == 0:\n",
    "        count = (N - 3) // 5 + 1\n",
    "    elif N >= 6 and(N - 6) % 5 == 0:\n",
    "        count = (N - 6) // 5 + 2\n",
    "    elif N >= 9 and (N - 9) % 5 == 0:\n",
    "        count = (N - 9) // 5 + 3\n",
    "    elif N >= 12 and (N - 12) % 5 == 0:\n",
    "        count = (N - 12) // 5 + 4\n",
    "    elif N % 5 != 0 and N % 3 == 0:\n",
    "        count = N // 3\n",
    "    else:\n",
    "        count = -1\n",
    "\n",
    "print(count)"
   ]
  }
 ],
 "metadata": {
  "kernelspec": {
   "display_name": "base",
   "language": "python",
   "name": "python3"
  },
  "language_info": {
   "codemirror_mode": {
    "name": "ipython",
    "version": 3
   },
   "file_extension": ".py",
   "mimetype": "text/x-python",
   "name": "python",
   "nbconvert_exporter": "python",
   "pygments_lexer": "ipython3",
   "version": "3.10.9"
  }
 },
 "nbformat": 4,
 "nbformat_minor": 2
}
