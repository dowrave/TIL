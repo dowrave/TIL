{
 "cells": [
  {
   "cell_type": "markdown",
   "metadata": {},
   "source": [
    "\n",
    "# 해시 함수 : 임의의 길이의 입력을 받아 고정된 길이의 출력을 내보내는 함수\n",
    "- 해시 값을 계산하기 위해, 문자열과 수열을 하나의 정수로 치환한다\n",
    "1. 간단하게, 수열의 값을 모두 더한다. 범위가 유한해야 하므로, 적당히 큰 수 M으로 나눠준다.\n",
    "$$\n",
    "H = \\Sigma^{l-1}_{i=0}a_{i} mod M\n",
    "$$\n",
    "- 입력 문자열의 종류는 무한하지만 출력 범위는 정해져 있다. \n",
    "\n",
    "- `해시 충돌`이라는 게 있다 : 서로 다른 문자열이더라도 동일한 해시 값을 갖는 현상.\n",
    "- 당연히 충돌이 최대한 적게 일어나는 게 좋은 해시 함수이다. 위의 경우, 알파벳 순서(1~26 할당)만 바꿔도 충돌이 일어나므로 나쁜 해시 함수가 된다.\n",
    "\n",
    "2. 순서가 달라졌을 때 충돌도 달라지게 하려면, 수열의 각 항마다 고유한 계수를 부여한다는 아이디어가 있다.\n",
    "- 대표적으로 항의 번호에 해당하는 만큼 특정 숫자를 거듭제곱해서 곱한 다음 더하는 것이 있다.\n",
    "$$\n",
    "H = \\Sigma^{l-1}_{i=0}a_{i} \\gamma^{i} mod M\n",
    "$$\n",
    "\n",
    "- 보통 r, M은 서로소인 숫자로 정한다. 문제에서 r은 26보다 큰 소수 31, M은 1234567891(소수임!)로 한다.\n"
   ]
  },
  {
   "cell_type": "code",
   "execution_count": 5,
   "metadata": {},
   "outputs": [
    {
     "name": "stdout",
     "output_type": "stream",
     "text": [
      "9\n"
     ]
    }
   ],
   "source": [
    "import sys\n",
    "sys.stdin = open('test.txt', 'r')\n",
    "input = sys.stdin.readline\n",
    "L = int(input())\n",
    "\n",
    "input_string = input().strip()\n",
    "\n",
    "def hash_function(inp: str):\n",
    "    hash_value = 0\n",
    "    r = 31\n",
    "    M = 1234567891\n",
    "    for i in range(len(inp)):\n",
    "        char_number = ord(inp[i]) - 96  # ord('a') = 97이고, 모든 인풋은 소문자이므로 이렇게 풀 수 있다\n",
    "        hash_value += char_number * (r ** i) # 여기서 % M을 넣으면 50점만 나온다.\n",
    "    return hash_value % M\n",
    "\n",
    "print(hash_function(input_string))"
   ]
  },
  {
   "cell_type": "code",
   "execution_count": null,
   "metadata": {},
   "outputs": [],
   "source": []
  },
  {
   "cell_type": "code",
   "execution_count": null,
   "metadata": {},
   "outputs": [],
   "source": []
  }
 ],
 "metadata": {
  "kernelspec": {
   "display_name": "base",
   "language": "python",
   "name": "python3"
  },
  "language_info": {
   "codemirror_mode": {
    "name": "ipython",
    "version": 3
   },
   "file_extension": ".py",
   "mimetype": "text/x-python",
   "name": "python",
   "nbconvert_exporter": "python",
   "pygments_lexer": "ipython3",
   "version": "3.10.9"
  }
 },
 "nbformat": 4,
 "nbformat_minor": 2
}
