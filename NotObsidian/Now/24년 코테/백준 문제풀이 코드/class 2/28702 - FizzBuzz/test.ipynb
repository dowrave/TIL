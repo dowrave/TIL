{
 "cells": [
  {
   "cell_type": "code",
   "execution_count": 8,
   "metadata": {},
   "outputs": [
    {
     "name": "stdout",
     "output_type": "stream",
     "text": [
      "980806\n"
     ]
    }
   ],
   "source": [
    "import sys\n",
    "sys.stdin = open('test.txt', 'r')\n",
    "input = sys.stdin.readline\n",
    "\n",
    "# 15의 배수는 FizzBuzz\n",
    "# 5의 배수는 Buzz\n",
    "# 3의 배수는 Fizz\n",
    "# 그 외에는 i가 주어진다\n",
    "# 이 때 3개의 문자열(=연속된 숫자 3개가 FizzBuzz 조건식을 탄 것)이 주어진다면, 다음에 나올 값을 구하시오\n",
    "# 여러 개가 올 수 있다면 아무거나 하나 출력하시오\n",
    "\n",
    "# 3의 배수랑 5의 배수를 따지는 문제에서, 연속된 3개의 숫자를 보여준다고 했을 때\n",
    "# 숫자가 하나도 안 나올 가능성이 있나???\n",
    "\n",
    "ans = 0\n",
    "for i in range(3):\n",
    "    now_value = input().strip()\n",
    "    if (now_value != 'FizzBuzz') and (now_value != 'Fizz') and (now_value != 'Buzz'): \n",
    "        ans = int(now_value) + (3 - i)\n",
    "        if ans % 15 == 0:\n",
    "            print(\"FizzBuzz\")\n",
    "        elif ans % 5 == 0:\n",
    "            print(\"Buzz\")\n",
    "        elif ans % 3 == 0:\n",
    "            print(\"Fizz\")\n",
    "        else:\n",
    "            print(ans)\n",
    "        break\n",
    "        "
   ]
  },
  {
   "cell_type": "markdown",
   "metadata": {},
   "source": [
    "- 3의 배수랑 5의 배수를 따지는 문제에서, 연속된 3개의 숫자를 보여준다고 했을 때\n",
    "- 숫자가 하나도 안 나올 가능성이 있나???\n"
   ]
  },
  {
   "cell_type": "code",
   "execution_count": null,
   "metadata": {},
   "outputs": [],
   "source": []
  }
 ],
 "metadata": {
  "kernelspec": {
   "display_name": "base",
   "language": "python",
   "name": "python3"
  },
  "language_info": {
   "codemirror_mode": {
    "name": "ipython",
    "version": 3
   },
   "file_extension": ".py",
   "mimetype": "text/x-python",
   "name": "python",
   "nbconvert_exporter": "python",
   "pygments_lexer": "ipython3",
   "version": "3.10.9"
  }
 },
 "nbformat": 4,
 "nbformat_minor": 2
}
