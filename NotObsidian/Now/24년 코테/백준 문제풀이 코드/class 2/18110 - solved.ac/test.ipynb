{
 "cells": [
  {
   "cell_type": "code",
   "execution_count": 22,
   "metadata": {},
   "outputs": [
    {
     "name": "stdout",
     "output_type": "stream",
     "text": [
      "3\n"
     ]
    }
   ],
   "source": [
    "import sys\n",
    "import math \n",
    "input = sys.stdin.readline\n",
    "\n",
    "n = int(input())\n",
    "lst = []\n",
    "for _ in range(n):\n",
    "    lst.append(int(input()))\n",
    "\n",
    "# 난이도 결정 방식 : 극단적인 값들 (30% 절사평균 : 상하위 15% 제외)을 제외한 나머지 값들로 평균을 냄\n",
    "# 이 때 제외되는 수와 계산된 값 모두 반올림한다\n",
    "lst.sort()\n",
    "except_number = math.floor(n * 0.15) if n * 0.15 - math.floor(n * 0.15) < 0.5 else math.ceil(n * 0.15)\n",
    "\n",
    "if n == 0:\n",
    "    avg_score = 0\n",
    "else:\n",
    "    target_lst = lst[except_number : n - except_number]\n",
    "    avg_score = sum(target_lst) / len(target_lst)\n",
    "    if avg_score - int(avg_score) >= 0.5:\n",
    "        avg_score = int(avg_score) + 1\n",
    "    else:\n",
    "        avg_score = int(avg_score)\n",
    "\n",
    "print(avg_score)"
   ]
  },
  {
   "cell_type": "markdown",
   "metadata": {},
   "source": [
    "## 와 round 함수 겁나 충격적이다"
   ]
  },
  {
   "cell_type": "code",
   "execution_count": 24,
   "metadata": {},
   "outputs": [
    {
     "name": "stdout",
     "output_type": "stream",
     "text": [
      "2\n",
      "4\n",
      "4\n"
     ]
    }
   ],
   "source": [
    "print(round(2.5))\n",
    "print(round(3.5))\n",
    "print(round(4.5))\n"
   ]
  },
  {
   "cell_type": "code",
   "execution_count": null,
   "metadata": {},
   "outputs": [],
   "source": []
  }
 ],
 "metadata": {
  "kernelspec": {
   "display_name": "base",
   "language": "python",
   "name": "python3"
  },
  "language_info": {
   "codemirror_mode": {
    "name": "ipython",
    "version": 3
   },
   "file_extension": ".py",
   "mimetype": "text/x-python",
   "name": "python",
   "nbconvert_exporter": "python",
   "pygments_lexer": "ipython3",
   "version": "3.10.9"
  }
 },
 "nbformat": 4,
 "nbformat_minor": 2
}
