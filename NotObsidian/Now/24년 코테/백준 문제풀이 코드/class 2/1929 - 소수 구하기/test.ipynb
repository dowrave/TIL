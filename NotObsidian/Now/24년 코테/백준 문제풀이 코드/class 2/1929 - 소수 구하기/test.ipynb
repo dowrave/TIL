{
 "cells": [
  {
   "cell_type": "code",
   "execution_count": 19,
   "metadata": {},
   "outputs": [
    {
     "name": "stdout",
     "output_type": "stream",
     "text": [
      "3\n",
      "5\n",
      "7\n",
      "11\n",
      "13\n"
     ]
    }
   ],
   "source": [
    "import sys \n",
    "sys.stdin = open('test.txt', 'r')\n",
    "input = sys.stdin.readline\n",
    "\n",
    "M, N = map(int, input().split()) # M 이상 N 이하의 소수를 1줄씩 출력하시오\n",
    "\n",
    "def primeNumber(number):\n",
    "    lst = [1 for _ in range(number + 1)] \n",
    "    lst[0] = 0\n",
    "    lst[1] = 0\n",
    "    \n",
    "    for i in range(2, int(number**0.5) + 1):\n",
    "        if lst[i]:\n",
    "            for j in range(i*i, number + 1, i):\n",
    "                lst[j] = 0\n",
    "\n",
    "    return lst\n",
    "\n",
    "ans = primeNumber(N)\n",
    "\n",
    "for i in range(M, N+1):\n",
    "    if ans[i] == 1:\n",
    "        print(i)\n"
   ]
  },
  {
   "cell_type": "code",
   "execution_count": null,
   "metadata": {},
   "outputs": [],
   "source": []
  }
 ],
 "metadata": {
  "kernelspec": {
   "display_name": "base",
   "language": "python",
   "name": "python3"
  },
  "language_info": {
   "codemirror_mode": {
    "name": "ipython",
    "version": 3
   },
   "file_extension": ".py",
   "mimetype": "text/x-python",
   "name": "python",
   "nbconvert_exporter": "python",
   "pygments_lexer": "ipython3",
   "version": "3.10.9"
  }
 },
 "nbformat": 4,
 "nbformat_minor": 2
}
