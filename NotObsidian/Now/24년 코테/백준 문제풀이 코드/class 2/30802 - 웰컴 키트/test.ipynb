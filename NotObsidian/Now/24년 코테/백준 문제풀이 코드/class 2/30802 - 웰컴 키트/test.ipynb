{
 "cells": [
  {
   "cell_type": "code",
   "execution_count": 3,
   "metadata": {},
   "outputs": [
    {
     "name": "stdout",
     "output_type": "stream",
     "text": [
      "7\n",
      "3 2\n"
     ]
    }
   ],
   "source": [
    "import sys\n",
    "sys.stdin = open('test.txt', 'r')\n",
    "input = sys.stdin.readline\n",
    "\n",
    "N = int(input())\n",
    "tshirts_lst = list(map(int, input().split()))\n",
    "T, P = map(int, input().split())\n",
    "\n",
    "# 문제가 왤케 안 읽히지;;\n",
    "# T는 S + M + L + ... + XXXL 보다 커도 되지만 부족해선 안된다\n",
    "# 티셔츠를 T장씩 최소 몇 묶음 주문할 수 있는지,\n",
    "# 펜을 P자루씩 최대 몇 묶음 주문할 수 있는지,\n",
    "# 그 때 펜을 한 자루씩 몇 개 주문하는지\n",
    "\n",
    "# 1. 티셔츠 묶음 구하기\n",
    "T_bundle = 0\n",
    "for i in tshirts_lst:\n",
    "    if i % T == 0:\n",
    "        T_bundle += i // T\n",
    "    else:\n",
    "        T_bundle += i // T + 1\n",
    "\n",
    "# 2. 펜 묶음 수, 나머지 구하기\n",
    "pen_bundle = N // P\n",
    "pen_else = N % P \n",
    "\n",
    "print(T_bundle)\n",
    "print(pen_bundle, pen_else)"
   ]
  },
  {
   "cell_type": "code",
   "execution_count": null,
   "metadata": {},
   "outputs": [],
   "source": []
  }
 ],
 "metadata": {
  "kernelspec": {
   "display_name": "base",
   "language": "python",
   "name": "python3"
  },
  "language_info": {
   "codemirror_mode": {
    "name": "ipython",
    "version": 3
   },
   "file_extension": ".py",
   "mimetype": "text/x-python",
   "name": "python",
   "nbconvert_exporter": "python",
   "pygments_lexer": "ipython3",
   "version": "3.10.9"
  }
 },
 "nbformat": 4,
 "nbformat_minor": 2
}
