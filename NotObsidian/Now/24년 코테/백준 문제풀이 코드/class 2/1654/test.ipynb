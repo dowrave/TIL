{
 "cells": [
  {
   "cell_type": "code",
   "execution_count": 2,
   "metadata": {},
   "outputs": [
    {
     "name": "stdout",
     "output_type": "stream",
     "text": [
      "200\n"
     ]
    }
   ],
   "source": [
    "import sys\n",
    "sys.stdin = open('test.txt', 'r')\n",
    "K, N = map(int, sys.stdin.readline().strip().split(' '))\n",
    "lst = []\n",
    "for i in range(K):\n",
    "    lst.append(int(sys.stdin.readline()))\n",
    "\n",
    "# 구해야 하는 값이 '길이'임 -> 길이에 대한 탐색을 한다\n",
    "start = 1\n",
    "end = max(lst)\n",
    "ans = 0\n",
    "\n",
    "while start <= end:\n",
    "    mid = (start + end) // 2\n",
    "    count = 0\n",
    "    \n",
    "    for i in lst:\n",
    "        count += i // mid # 나머지는 버린다\n",
    "    \n",
    "    # 너무 크게 잘랐다\n",
    "    if count < N:\n",
    "        end = mid - 1\n",
    "        \n",
    "    # N개보다 많이 만드는 것도 N개를 만드는 것에 포함된다 라는 언급이 있다.\n",
    "    else:\n",
    "        ans = mid\n",
    "        start = mid + 1\n",
    "        \n",
    "print(ans)"
   ]
  },
  {
   "cell_type": "code",
   "execution_count": 2,
   "metadata": {},
   "outputs": [
    {
     "name": "stdout",
     "output_type": "stream",
     "text": [
      "True\n"
     ]
    }
   ],
   "source": [
    "print('ftw' in 'From Software')"
   ]
  },
  {
   "cell_type": "code",
   "execution_count": null,
   "metadata": {},
   "outputs": [],
   "source": []
  }
 ],
 "metadata": {
  "kernelspec": {
   "display_name": "Python 3",
   "language": "python",
   "name": "python3"
  },
  "language_info": {
   "codemirror_mode": {
    "name": "ipython",
    "version": 3
   },
   "file_extension": ".py",
   "mimetype": "text/x-python",
   "name": "python",
   "nbconvert_exporter": "python",
   "pygments_lexer": "ipython3",
   "version": "3.10.8"
  }
 },
 "nbformat": 4,
 "nbformat_minor": 2
}
