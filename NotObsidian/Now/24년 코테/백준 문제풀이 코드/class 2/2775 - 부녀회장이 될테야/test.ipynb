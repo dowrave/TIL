{
 "cells": [
  {
   "cell_type": "code",
   "execution_count": 9,
   "metadata": {},
   "outputs": [
    {
     "name": "stdout",
     "output_type": "stream",
     "text": [
      "6\n",
      "10\n"
     ]
    }
   ],
   "source": [
    "import sys\n",
    "sys.stdin = open('test.txt', 'r')\n",
    "input = sys.stdin.readline\n",
    "\n",
    "T = int(input())\n",
    "# k층의 n호에 몇 명이 살고 있는가? \n",
    "# a층의 b호에 사는 사람은 (a-1)층의 1~b호에 사는 사람들의 수의 합이다\n",
    "# 0층부터 있고, 0층의 i호에는 i명이 산다.\n",
    "\n",
    "for _ in range(T):\n",
    "    k = int(input())\n",
    "    n = int(input())\n",
    "\n",
    "    graph = [[0] * (n + 1) for _ in range(k + 1)]\n",
    "    graph[0] = [i for i in range(n + 1)]\n",
    "    for i in range(1, k+1):\n",
    "        for j in range(1, n+1):\n",
    "            # i층의 j호에 사는 사람은, i-1층의 1호부터 j호까지 사는 사람들의 합이다\n",
    "            graph[i][j] = sum(graph[i-1][:j+1])\n",
    "\n",
    "    print(graph[k][n])\n",
    "\n",
    "\n"
   ]
  },
  {
   "cell_type": "code",
   "execution_count": null,
   "metadata": {},
   "outputs": [],
   "source": []
  }
 ],
 "metadata": {
  "kernelspec": {
   "display_name": "base",
   "language": "python",
   "name": "python3"
  },
  "language_info": {
   "codemirror_mode": {
    "name": "ipython",
    "version": 3
   },
   "file_extension": ".py",
   "mimetype": "text/x-python",
   "name": "python",
   "nbconvert_exporter": "python",
   "pygments_lexer": "ipython3",
   "version": "3.10.9"
  }
 },
 "nbformat": 4,
 "nbformat_minor": 2
}
