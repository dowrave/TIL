{
 "cells": [
  {
   "cell_type": "code",
   "execution_count": 5,
   "metadata": {},
   "outputs": [
    {
     "name": "stdout",
     "output_type": "stream",
     "text": [
      "1\n",
      "1\n",
      "0\n",
      "0\n",
      "1\n"
     ]
    }
   ],
   "source": [
    "import sys\n",
    "sys.stdin = open('test.txt', 'r')\n",
    "input = sys.stdin.readline\n",
    "\n",
    "\n",
    "N = int(input())\n",
    "integers = list(map(int, input().split(' ')))\n",
    "M = int(input())\n",
    "targets = list(map(int, input().split(' ')))\n",
    "\n",
    "# targets 안의 수들이 integers에 있으면 1을 출력, 아니면 0을 출력\n",
    "# 정수의 범위는 -2^31 ~ +2^31\n",
    "# N, M도 10만개까지 있음\n",
    "# 따라서 그냥 이중 for문을 돌리면 최대 10^10 의 복잡도를 가짐\n",
    "\n",
    "# 이진 탐색 문제일 거 같은데?\n",
    "def binary_search(target):\n",
    "    # integers는 정렬한 상태라고 가정하고 품\n",
    "    start = 0\n",
    "    end = len(integers) - 1\n",
    "\n",
    "    while start <= end: \n",
    "        # 인덱스에 대한 서치니까 정수\n",
    "        mid = (start + end) // 2\n",
    "\n",
    "        if integers[mid] > target:\n",
    "            end = mid - 1\n",
    "        elif integers[mid] < target:\n",
    "            start = mid + 1\n",
    "        else:\n",
    "            return 1\n",
    "        \n",
    "    return 0\n",
    "\n",
    "integers.sort()\n",
    "for target in targets:\n",
    "    print(binary_search(target))"
   ]
  }
 ],
 "metadata": {
  "kernelspec": {
   "display_name": "Python 3",
   "language": "python",
   "name": "python3"
  },
  "language_info": {
   "codemirror_mode": {
    "name": "ipython",
    "version": 3
   },
   "file_extension": ".py",
   "mimetype": "text/x-python",
   "name": "python",
   "nbconvert_exporter": "python",
   "pygments_lexer": "ipython3",
   "version": "3.10.9"
  }
 },
 "nbformat": 4,
 "nbformat_minor": 2
}
