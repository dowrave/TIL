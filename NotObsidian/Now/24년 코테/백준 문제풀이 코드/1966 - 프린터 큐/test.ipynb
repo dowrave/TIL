{
 "cells": [
  {
   "cell_type": "code",
   "execution_count": 17,
   "metadata": {},
   "outputs": [
    {
     "name": "stdout",
     "output_type": "stream",
     "text": [
      "1\n",
      "2\n",
      "5\n"
     ]
    }
   ],
   "source": [
    "from collections import deque \n",
    "import sys\n",
    "sys.stdin = open('test.txt', 'r')\n",
    "input = sys.stdin.readline \n",
    "\n",
    "T = int(input())\n",
    "for _ in range(T):\n",
    "    # N : 문서 갯수, M : 몇 번째로 출력되는 지 알고 싶은 문서(0부터 시작)\n",
    "    N, M = map(int, input().split())\n",
    "    lst = map(int, input().split())\n",
    "    dq = deque(lst)\n",
    "    ans = 1\n",
    "    most_important = max(dq)\n",
    "\n",
    "    while True:\n",
    "        x = dq.popleft() # 1개의 값을 빼야 한다\n",
    "\n",
    "        # 가장 중요도가 큰 경우 - 내가 추적하고 있는 인덱스인가 아닌가를 판단한다\n",
    "        if most_important == x: \n",
    "            if M == 0:\n",
    "                break\n",
    "            else:\n",
    "                ans += 1\n",
    "                N -= 1\n",
    "                most_important = max(dq)\n",
    "        # 가장 중요도가 크지 않다면 다시 queue에 넣는다\n",
    "        else:\n",
    "            dq.append(x)\n",
    "\n",
    "        # break이 아닌 이상 항상 M의 인덱스는 M-1이 된다 / 단 0보다 작아지면 N-1이 된다\n",
    "        if M == 0:\n",
    "            M = N - 1\n",
    "        else:\n",
    "            M -= 1\n",
    "        \n",
    "\n",
    "    print(ans)\n"
   ]
  },
  {
   "cell_type": "code",
   "execution_count": null,
   "metadata": {},
   "outputs": [],
   "source": []
  }
 ],
 "metadata": {
  "kernelspec": {
   "display_name": "base",
   "language": "python",
   "name": "python3"
  },
  "language_info": {
   "codemirror_mode": {
    "name": "ipython",
    "version": 3
   },
   "file_extension": ".py",
   "mimetype": "text/x-python",
   "name": "python",
   "nbconvert_exporter": "python",
   "pygments_lexer": "ipython3",
   "version": "3.10.9"
  }
 },
 "nbformat": 4,
 "nbformat_minor": 2
}
