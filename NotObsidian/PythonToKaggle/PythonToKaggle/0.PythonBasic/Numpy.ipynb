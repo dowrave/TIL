{
 "cells": [
  {
   "cell_type": "code",
   "execution_count": 7,
   "id": "896788bd-275b-4185-b3bb-ca78da085e0c",
   "metadata": {},
   "outputs": [],
   "source": [
    "import numpy as np"
   ]
  },
  {
   "cell_type": "code",
   "execution_count": 8,
   "id": "2dc174d8-3872-44f9-a08a-24b697215787",
   "metadata": {},
   "outputs": [
    {
     "name": "stdout",
     "output_type": "stream",
     "text": [
      "1.20.1\n"
     ]
    }
   ],
   "source": [
    "print(np.__version__) # 1.20.1"
   ]
  },
  {
   "cell_type": "markdown",
   "id": "aa603a7f-12ad-4777-bfcb-40c69e80db48",
   "metadata": {},
   "source": [
    "### Numpy를 다룰 때 주의할 점\n",
    "- .dtype으로 데이터타입을 확인할 수 있다.\n",
    "- int8, int16, int32, int64 등으로 세분화된다.\n",
    "- <b> 같은 타입이라도 유형이 다르면 오류가 날 가능성이 크기 때문에 자료 유형은 중간중간 확인해주자 </b>"
   ]
  },
  {
   "cell_type": "markdown",
   "id": "eba9f676-11ca-41ec-9d75-b78c60fcf173",
   "metadata": {},
   "source": [
    "- np.array() : array 만들기\n",
    "    - .shape : 자료 구조(행, 열)\n",
    "    - .dtype : 자료 형태"
   ]
  },
  {
   "cell_type": "markdown",
   "id": "c45ea965-99ab-45a1-a11f-2a9e37c3b1a8",
   "metadata": {},
   "source": [
    "- np.arange() : python의 range()함수와 유사. \n",
    "    - np.arange(a, b, c) : a부터 b - 1까지, 각 간격은 c"
   ]
  },
  {
   "cell_type": "markdown",
   "id": "7d1d052d-ae26-4bee-a7d3-6ac5eb667460",
   "metadata": {},
   "source": [
    "- np.zeros(), np.ones() : () 내부에는 shape 가 들어가며 shape 내부는 각각 0과 1로 채워짐"
   ]
  },
  {
   "cell_type": "markdown",
   "id": "88c158dd-80d3-41b2-aaca-71c6020cb9f9",
   "metadata": {},
   "source": [
    "- <b> np.array().reshape() : () 내부에는 바꾸고 싶은 shape가 들어감. shape를 바꾸고 싶을 때 사용 </b>\n",
    "    - -1을 넣는 경우가 있다 : 나머지 구조가 정해졌을 경우 -1 위치는 자동으로 채워줌"
   ]
  },
  {
   "cell_type": "markdown",
   "id": "7b184370-4484-41fc-bd46-364da378bfab",
   "metadata": {},
   "source": [
    "### Numpy 인덱싱, 슬라이싱\n",
    "- [a:b] : <b> b는 포함하지 않는다. 즉 b-1까지. </b>\n",
    "- 숫자 없이 [:] 만 쓰는 경우 : 모든 요소를 의미함"
   ]
  },
  {
   "cell_type": "code",
   "execution_count": 17,
   "id": "d8310064-e7bf-4285-954b-7260a0b37328",
   "metadata": {},
   "outputs": [
    {
     "data": {
      "text/plain": [
       "array([[7, 6, 3, 5, 5, 8, 4, 2, 9, 4],\n",
       "       [3, 7, 6, 3, 7, 3, 1, 3, 8, 1],\n",
       "       [4, 6, 4, 8, 4, 2, 3, 9, 1, 6],\n",
       "       [6, 8, 4, 4, 5, 1, 9, 5, 6, 7],\n",
       "       [1, 9, 5, 7, 2, 3, 3, 2, 7, 7],\n",
       "       [5, 5, 3, 5, 1, 2, 3, 5, 4, 2],\n",
       "       [2, 9, 2, 3, 2, 4, 5, 3, 9, 9],\n",
       "       [3, 7, 8, 1, 7, 9, 7, 9, 8, 2],\n",
       "       [4, 4, 3, 8, 3, 9, 5, 3, 5, 2],\n",
       "       [7, 6, 6, 2, 3, 2, 6, 4, 6, 9]])"
      ]
     },
     "execution_count": 17,
     "metadata": {},
     "output_type": "execute_result"
    }
   ],
   "source": [
    "np.random.randint(1, 10, # 여기도 마찬가지로 뒤의 값은 포함되지 않는다\n",
    "                  size = (10, 10)) # 사실 이거 찾아보려고 함 ㅎㅎ! size를 지정해주면 주어진 범위의 array를 생성해준다"
   ]
  },
  {
   "cell_type": "markdown",
   "id": "6e89a65d-bb23-43bb-b058-fa732b1fc2c8",
   "metadata": {},
   "source": [
    "#### numpy의 정렬\n",
    "<b>1. sort()</b>"
   ]
  },
  {
   "cell_type": "code",
   "execution_count": 18,
   "id": "f1ddfc2a-bf19-4b13-97f7-f813e1662f29",
   "metadata": {},
   "outputs": [
    {
     "data": {
      "text/plain": [
       "array([165, 168, 174, 180, 182])"
      ]
     },
     "execution_count": 18,
     "metadata": {},
     "output_type": "execute_result"
    }
   ],
   "source": [
    "# 기본 : 오름차순\n",
    "np.sort(np.array([174, 165, 180, 182, 168]))"
   ]
  },
  {
   "cell_type": "code",
   "execution_count": 20,
   "id": "abed0e97-e2a6-4c28-a32f-2fe017c20b84",
   "metadata": {},
   "outputs": [
    {
     "data": {
      "text/plain": [
       "array([182, 180, 174, 168, 165])"
      ]
     },
     "execution_count": 20,
     "metadata": {},
     "output_type": "execute_result"
    }
   ],
   "source": [
    "# 내림차순\n",
    "np.sort(np.array([174, 165, 180, 182, 168]))[::-1] # 슬라이싱을 요래 넣어주면 됨\n",
    "# 관련 파라미터가 있나 찾아봤는데 보이진 않고 대신 kind로 정렬 알고리즘을 지정할 수는 있음"
   ]
  },
  {
   "cell_type": "markdown",
   "id": "41680a61-23af-4f6d-a442-62d242e694a9",
   "metadata": {},
   "source": [
    "<b>2. argsort()</b> \n",
    "- 정렬한 결과의 \"현재\" 인덱스를 반환함"
   ]
  },
  {
   "cell_type": "code",
   "execution_count": 22,
   "id": "69675147-ae6d-4dc5-8db7-c958884347b7",
   "metadata": {},
   "outputs": [
    {
     "data": {
      "text/plain": [
       "array([1, 4, 0, 2, 3], dtype=int64)"
      ]
     },
     "execution_count": 22,
     "metadata": {},
     "output_type": "execute_result"
    }
   ],
   "source": [
    "np.argsort(np.array([174, 165, 180, 182, 168]))\n",
    "# 즉 이 배열의 원래 인덱스는 0 1 2 3 4\n",
    "# 오름차순으로 정렬하면 165 168 174 180 182\n",
    "# 이들의 \"현재\" 인덱스  1   4   0   2   3 "
   ]
  },
  {
   "cell_type": "markdown",
   "id": "1af3c8d4-9d9d-483b-8053-4694c856e0ae",
   "metadata": {},
   "source": [
    "- 너무 조금만 다루고 넘어가는 거 아닌가..?"
   ]
  },
  {
   "cell_type": "code",
   "execution_count": null,
   "id": "be315e33-3c6a-44ba-8403-e3a20a632f6c",
   "metadata": {},
   "outputs": [],
   "source": []
  }
 ],
 "metadata": {
  "kernelspec": {
   "display_name": "Python 3",
   "language": "python",
   "name": "python3"
  },
  "language_info": {
   "codemirror_mode": {
    "name": "ipython",
    "version": 3
   },
   "file_extension": ".py",
   "mimetype": "text/x-python",
   "name": "python",
   "nbconvert_exporter": "python",
   "pygments_lexer": "ipython3",
   "version": "3.8.8"
  }
 },
 "nbformat": 4,
 "nbformat_minor": 5
}
