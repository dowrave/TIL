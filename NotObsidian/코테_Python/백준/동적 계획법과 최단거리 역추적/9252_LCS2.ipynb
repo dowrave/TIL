{
 "cells": [
  {
   "cell_type": "code",
   "execution_count": 61,
   "id": "8a2bff83-dbff-4b76-bab0-9e3a98ecf0ec",
   "metadata": {},
   "outputs": [
    {
     "name": "stdout",
     "output_type": "stream",
     "text": [
      "4\n",
      "CACA\n"
     ]
    }
   ],
   "source": [
    "import sys\n",
    "sys.stdin = open('test.txt', 'r')\n",
    "input = sys.stdin.readline\n",
    "\n",
    "txt1 = [0] + list(input().strip())\n",
    "txt2 = [0] + list(input().strip())\n",
    "\n",
    "length1 = len(txt1)\n",
    "length2 = len(txt2)\n",
    "\n",
    "dp = [[0] * (length2) for _ in range(length1)]\n",
    "\n",
    "\n",
    "for i in range(1, length1):\n",
    "    for j in range(1, length2):\n",
    "\n",
    "        if txt1[i] == txt2[j]:\n",
    "            dp[i][j] = dp[i-1][j-1] + 1\n",
    "\n",
    "        else:\n",
    "            dp[i][j] = max(dp[i-1][j], dp[i][j-1])\n",
    "\n",
    "# LCS 길이\n",
    "print(dp[-1][-1])\n",
    "\n",
    "# 백트래킹\n",
    "# 마지막 점에서 출발\n",
    "ans = [] # 마지막에 뒤집어줘야 함\n",
    "i, j = length1 - 1, length2 - 1\n",
    "while dp[i][j] > 0:\n",
    "    \n",
    "    # 1. 위나 왼쪽에 같은 값이 있다면 그 쪽으로 이동한다\n",
    "    if dp[i][j] == dp[i-1][j]:\n",
    "        i -= 1\n",
    "        \n",
    "    elif dp[i][j] == dp[i][j-1]:\n",
    "        j -= 1\n",
    "        \n",
    "    # 2. 위나 왼쪽에 같은 값이 없다면, 좌측 상단에서 +1 되었다는 뜻이 된다\n",
    "    # 이 떄 LCS를 구성하는 원소가 된다\n",
    "    else:\n",
    "        ans.append(txt1[i])\n",
    "        i -= 1\n",
    "        j -= 1\n",
    "\n",
    "print(\"\".join(ans[::-1]))\n"
   ]
  },
  {
   "cell_type": "markdown",
   "id": "4ade5c1d-c8bf-4f16-b242-fc3ec83ce08b",
   "metadata": {},
   "source": [
    "### 역과정 추적하는 방법\n",
    "- LCS의 정 알고리즘을 생각하고 그걸 거꾸로 생각하면 됨\n",
    "- 정 알고리즘 : (문자열이 같다면) 좌상단의 값 + 1 / 나머지는 위나 왼쪽 중 큰 값 선택\n",
    "> 즉, 행렬의 어떤 점을 봤을 때, `[i-1][j-1]`, `[i-1][j]`, `[i][j-1]` 이렇게 3개의 점이 있다고 하자  \n",
    "> 1. 왼쪽이나 위에 같은 값이 있다면 그 쪽으로 이동함\n",
    "> 2. 같은 값이 없다는 건 대각선으로 +1 되었다는 얘기임 -> 따라서 얘는 LCS를 구성하는 원소가 됨"
   ]
  },
  {
   "cell_type": "markdown",
   "id": "8791ccbe-2f37-4df0-9040-7273244e5555",
   "metadata": {},
   "source": []
  }
 ],
 "metadata": {
  "kernelspec": {
   "display_name": "Python 3 (ipykernel)",
   "language": "python",
   "name": "python3"
  },
  "language_info": {
   "codemirror_mode": {
    "name": "ipython",
    "version": 3
   },
   "file_extension": ".py",
   "mimetype": "text/x-python",
   "name": "python",
   "nbconvert_exporter": "python",
   "pygments_lexer": "ipython3",
   "version": "3.9.13"
  }
 },
 "nbformat": 4,
 "nbformat_minor": 5
}
