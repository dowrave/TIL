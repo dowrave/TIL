{
 "cells": [
  {
   "cell_type": "code",
   "execution_count": 32,
   "id": "7292a08a-083a-4a6a-9c58-69263547b8cf",
   "metadata": {},
   "outputs": [
    {
     "name": "stdout",
     "output_type": "stream",
     "text": [
      "5\n",
      "3\n"
     ]
    }
   ],
   "source": [
    "import sys\n",
    "sys.stdin = open('test.txt', 'r')\n",
    "inp = sys.stdin.readline\n",
    "\n",
    "T = int(inp())\n",
    "\n",
    "\n",
    "for _ in range(T):\n",
    "    dct = {}\n",
    "    name_lst = []\n",
    "    n = int(inp())\n",
    "    \n",
    "    if n == 0:\n",
    "        print(0)\n",
    "        continue\n",
    "    \n",
    "    for _ in range(n):\n",
    "        _, sort = inp().split()\n",
    "        if sort not in dct.keys():\n",
    "            dct[sort] = 0\n",
    "        dct[sort] += 1\n",
    "\n",
    "    # 아래에서 쥐어짜낸 기억으로 풀면\n",
    "    total = 1\n",
    "    for i in dct.values():\n",
    "        total *= i + 1\n",
    "    print(total - 1)\n"
   ]
  },
  {
   "cell_type": "markdown",
   "id": "23756766-547d-42df-846a-5c5583812c26",
   "metadata": {},
   "source": [
    "### 겨우 쥐어짜낸 기억이 있다\n",
    "- N개의 종류와 그 안의 값 a, b, c, ... 가 있다고 하면\n",
    "- **값에 넣는 경우의 수에 +1**을 해주면 됨\n",
    "    - 이 `+1`은 **0**을 의미함 (그 종류는 입지 않을 수도 있기 때문에)\n",
    "    - 즉 예제에서 준 2개와 1개를 생각해보면\n",
    "        - $(2 + 1) \\times (1 + 1)$ 를 해주면 6임\n",
    "        - 단, **모두 입지 않는 경우(0 0)를 제외해야 하므로 1을 빼준다**\n",
    "        - 그래서 5임"
   ]
  },
  {
   "cell_type": "code",
   "execution_count": null,
   "id": "eff474ab-8770-4f82-adb2-e44ee6025e53",
   "metadata": {},
   "outputs": [],
   "source": []
  }
 ],
 "metadata": {
  "kernelspec": {
   "display_name": "Python 3 (ipykernel)",
   "language": "python",
   "name": "python3"
  },
  "language_info": {
   "codemirror_mode": {
    "name": "ipython",
    "version": 3
   },
   "file_extension": ".py",
   "mimetype": "text/x-python",
   "name": "python",
   "nbconvert_exporter": "python",
   "pygments_lexer": "ipython3",
   "version": "3.9.13"
  }
 },
 "nbformat": 4,
 "nbformat_minor": 5
}
