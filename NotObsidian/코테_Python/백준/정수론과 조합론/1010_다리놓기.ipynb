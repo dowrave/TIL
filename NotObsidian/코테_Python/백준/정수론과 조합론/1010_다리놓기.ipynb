{
 "cells": [
  {
   "cell_type": "code",
   "execution_count": 70,
   "id": "73b1404c-9439-42cf-8342-7332dfd1b84c",
   "metadata": {},
   "outputs": [
    {
     "name": "stdout",
     "output_type": "stream",
     "text": [
      "1\n",
      "5\n",
      "67863915\n"
     ]
    }
   ],
   "source": [
    "import sys\n",
    "sys.stdin = open('test.txt', 'r')\n",
    "inp = sys.stdin.readline\n",
    "\n",
    "T = int(inp())\n",
    "\n",
    "matrix = [[0] * 31 for i in range(31)]\n",
    "\n",
    "def find_case(n, m):\n",
    "\n",
    "    if n == 1:\n",
    "        if matrix[n][m] == False:\n",
    "            matrix[n][m] = m\n",
    "        return matrix[n][m]\n",
    "    \n",
    "    # 반환 위치 중요함\n",
    "    if matrix[n][m]:\n",
    "        return matrix[n][m]\n",
    "    \n",
    "    value = 0\n",
    "    \n",
    "    for i in range(1, m-n+2):\n",
    "        \n",
    "        value += find_case(n-1, m-i)\n",
    "    \n",
    "    matrix[n][m] = value\n",
    "    return matrix[n][m]\n",
    "\n",
    "for i in range(T):\n",
    "    N, M = map(int, inp().split())\n",
    "    \n",
    "    if N == 0 or M == 0:\n",
    "        print(0)\n",
    "        continue\n",
    "    \n",
    "    print(find_case(N, M))\n"
   ]
  },
  {
   "cell_type": "markdown",
   "id": "d021972c-56b6-4c1f-9c82-c21d518a9575",
   "metadata": {},
   "source": [
    "![에이](1010_다리놓기.jpg)"
   ]
  },
  {
   "cell_type": "code",
   "execution_count": null,
   "id": "dbcf1a15-2a2b-4906-90ab-66aa0452eb96",
   "metadata": {},
   "outputs": [],
   "source": []
  }
 ],
 "metadata": {
  "kernelspec": {
   "display_name": "Python 3 (ipykernel)",
   "language": "python",
   "name": "python3"
  },
  "language_info": {
   "codemirror_mode": {
    "name": "ipython",
    "version": 3
   },
   "file_extension": ".py",
   "mimetype": "text/x-python",
   "name": "python",
   "nbconvert_exporter": "python",
   "pygments_lexer": "ipython3",
   "version": "3.9.13"
  }
 },
 "nbformat": 4,
 "nbformat_minor": 5
}
