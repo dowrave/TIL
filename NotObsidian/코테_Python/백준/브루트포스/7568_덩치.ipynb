{
 "cells": [
  {
   "cell_type": "code",
   "execution_count": 15,
   "id": "11dd1d15-1f6b-4d95-8fd0-e28a8f2ad3c5",
   "metadata": {},
   "outputs": [
    {
     "name": "stdout",
     "output_type": "stream",
     "text": [
      "2 2 1 2 5\n"
     ]
    }
   ],
   "source": [
    "import sys\n",
    "sys.stdin = open('test.txt', 'r')\n",
    "\n",
    "N = int(sys.stdin.readline())\n",
    "\n",
    "# 데이터가 다 들어와야 크기를 정할 수 있음\n",
    "# 두 값이 모두 더 커야만 크다고 할 수 있다(하나라도 같으면 해당X)\n",
    "lst = []\n",
    "for i in range(N):\n",
    "    lst.append(list(map(int, sys.stdin.readline().split())))\n",
    "\n",
    "    \n",
    "rank = [1] * N\n",
    "for i in range(len(lst)):\n",
    "    for j in range(i+1, len(lst)):\n",
    "        \n",
    "        if i == j :\n",
    "            continue\n",
    "        \n",
    "        if lst[i][0] > lst[j][0] and lst[i][1] > lst[j][1]:\n",
    "            rank[j] += 1\n",
    "            \n",
    "        elif lst[i][0] < lst[j][0] and lst[i][1] < lst[j][1]:\n",
    "            rank[i] += 1\n",
    "\n",
    "print(\" \".join(map(str, rank)))"
   ]
  },
  {
   "cell_type": "code",
   "execution_count": 14,
   "id": "ea7ca66b-7b00-421f-afd3-cd48815185b8",
   "metadata": {},
   "outputs": [
    {
     "name": "stdout",
     "output_type": "stream",
     "text": [
      "Hello\n"
     ]
    }
   ],
   "source": []
  },
  {
   "cell_type": "code",
   "execution_count": null,
   "id": "892148cd-871e-4649-8ab7-d0b5f7ea0e89",
   "metadata": {},
   "outputs": [],
   "source": []
  }
 ],
 "metadata": {
  "kernelspec": {
   "display_name": "Python 3 (ipykernel)",
   "language": "python",
   "name": "python3"
  },
  "language_info": {
   "codemirror_mode": {
    "name": "ipython",
    "version": 3
   },
   "file_extension": ".py",
   "mimetype": "text/x-python",
   "name": "python",
   "nbconvert_exporter": "python",
   "pygments_lexer": "ipython3",
   "version": "3.9.13"
  }
 },
 "nbformat": 4,
 "nbformat_minor": 5
}
