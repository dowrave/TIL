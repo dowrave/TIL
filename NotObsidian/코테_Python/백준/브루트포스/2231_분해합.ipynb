{
 "cells": [
  {
   "cell_type": "code",
   "execution_count": 75,
   "id": "e922d1d7-3a15-4c9d-974d-d8e7127c8f71",
   "metadata": {
    "tags": []
   },
   "outputs": [
    {
     "name": "stdout",
     "output_type": "stream",
     "text": [
      "0\n"
     ]
    }
   ],
   "source": [
    "import sys\n",
    "sys.stdin = open('test.txt', 'r')\n",
    "\n",
    "N = int(sys.stdin.readline())\n",
    "\n",
    "def find_sol(N):\n",
    "    \n",
    "    min_val = N + 1\n",
    "    \n",
    "    # 개량 2. 자릿수 찾기 - 모든 지점을 찾을 필요는 없다\n",
    "    lst = [10 ** i for i in range(8)]\n",
    "    tenth = -1\n",
    "    for i in range(len(lst)):\n",
    "        if N // lst[i] == 0:\n",
    "            tenth = i\n",
    "            break\n",
    "\n",
    "    start_range = max(1, N - 9 * tenth)\n",
    "\n",
    "\n",
    "    for i in range(start_range, N+1):\n",
    "        # 개량버전 1.\n",
    "        raw_i = i\n",
    "        divsum = i\n",
    "        \n",
    "        while i > 0:\n",
    "            \n",
    "            divsum += i % 10\n",
    "            i = i // 10\n",
    "    \n",
    "        if N == divsum:\n",
    "            return raw_i\n",
    "\n",
    "    return 0\n",
    "\n",
    "\n",
    "\n",
    "print(find_sol(N))"
   ]
  },
  {
   "cell_type": "code",
   "execution_count": 33,
   "id": "a0678b4b-8d94-4894-ac72-91601d59198b",
   "metadata": {},
   "outputs": [
    {
     "ename": "ValueError",
     "evalue": "min() arg is an empty sequence",
     "output_type": "error",
     "traceback": [
      "\u001b[1;31m---------------------------------------------------------------------------\u001b[0m",
      "\u001b[1;31mValueError\u001b[0m                                Traceback (most recent call last)",
      "\u001b[1;32m~\\AppData\\Local\\Temp/ipykernel_14512/1600699526.py\u001b[0m in \u001b[0;36m<module>\u001b[1;34m\u001b[0m\n\u001b[0;32m     18\u001b[0m     \u001b[1;32mreturn\u001b[0m \u001b[0mmin\u001b[0m\u001b[1;33m(\u001b[0m\u001b[0mlst\u001b[0m\u001b[1;33m)\u001b[0m\u001b[1;33m\u001b[0m\u001b[1;33m\u001b[0m\u001b[0m\n\u001b[0;32m     19\u001b[0m \u001b[1;33m\u001b[0m\u001b[0m\n\u001b[1;32m---> 20\u001b[1;33m \u001b[0mprint\u001b[0m\u001b[1;33m(\u001b[0m\u001b[0mfind_sol\u001b[0m\u001b[1;33m(\u001b[0m\u001b[0mN\u001b[0m\u001b[1;33m)\u001b[0m\u001b[1;33m)\u001b[0m\u001b[1;33m\u001b[0m\u001b[1;33m\u001b[0m\u001b[0m\n\u001b[0m",
      "\u001b[1;32m~\\AppData\\Local\\Temp/ipykernel_14512/1600699526.py\u001b[0m in \u001b[0;36mfind_sol\u001b[1;34m(N)\u001b[0m\n\u001b[0;32m     16\u001b[0m         \u001b[1;32mreturn\u001b[0m \u001b[1;36m0\u001b[0m\u001b[1;33m\u001b[0m\u001b[1;33m\u001b[0m\u001b[0m\n\u001b[0;32m     17\u001b[0m \u001b[1;33m\u001b[0m\u001b[0m\n\u001b[1;32m---> 18\u001b[1;33m     \u001b[1;32mreturn\u001b[0m \u001b[0mmin\u001b[0m\u001b[1;33m(\u001b[0m\u001b[0mlst\u001b[0m\u001b[1;33m)\u001b[0m\u001b[1;33m\u001b[0m\u001b[1;33m\u001b[0m\u001b[0m\n\u001b[0m\u001b[0;32m     19\u001b[0m \u001b[1;33m\u001b[0m\u001b[0m\n\u001b[0;32m     20\u001b[0m \u001b[0mprint\u001b[0m\u001b[1;33m(\u001b[0m\u001b[0mfind_sol\u001b[0m\u001b[1;33m(\u001b[0m\u001b[0mN\u001b[0m\u001b[1;33m)\u001b[0m\u001b[1;33m)\u001b[0m\u001b[1;33m\u001b[0m\u001b[1;33m\u001b[0m\u001b[0m\n",
      "\u001b[1;31mValueError\u001b[0m: min() arg is an empty sequence"
     ]
    }
   ],
   "source": [
    "def find_sol(N):\n",
    "    lst = []\n",
    "    for i in range(1, N+1):\n",
    "        sub_lst = []\n",
    "        sub_lst.append(i)\n",
    "       \n",
    "        while i > 0:\n",
    "            mod = i % 10\n",
    "            sub_lst.append(mod)\n",
    "            i = i // 10\n",
    "        \n",
    "        if N == sum(sub_lst):\n",
    "            lst.append(sub_lst[0])\n",
    "\n",
    "    if lst == False:\n",
    "        return 0\n",
    "    \n",
    "    return min(lst)\n",
    "\n",
    "print(find_sol(N))"
   ]
  },
  {
   "cell_type": "code",
   "execution_count": 64,
   "id": "69022e2d-7d71-4eea-b2c0-89233ee28357",
   "metadata": {},
   "outputs": [
    {
     "data": {
      "text/plain": [
       "256"
      ]
     },
     "execution_count": 64,
     "metadata": {},
     "output_type": "execute_result"
    }
   ],
   "source": [
    "256 // 1"
   ]
  },
  {
   "cell_type": "code",
   "execution_count": null,
   "id": "f946a876-487d-4be8-ab86-865606d0e4d5",
   "metadata": {},
   "outputs": [],
   "source": []
  }
 ],
 "metadata": {
  "kernelspec": {
   "display_name": "Python 3 (ipykernel)",
   "language": "python",
   "name": "python3"
  },
  "language_info": {
   "codemirror_mode": {
    "name": "ipython",
    "version": 3
   },
   "file_extension": ".py",
   "mimetype": "text/x-python",
   "name": "python",
   "nbconvert_exporter": "python",
   "pygments_lexer": "ipython3",
   "version": "3.9.13"
  }
 },
 "nbformat": 4,
 "nbformat_minor": 5
}
