{
 "cells": [
  {
   "cell_type": "markdown",
   "id": "614c503e-ea6f-4afd-af31-ac325d4633a9",
   "metadata": {},
   "source": [
    "- [문제 링크](https://www.acmicpc.net/problem/20040)\n",
    "- 사이클 : 모든 선분을 1번씩만 지나서 출발점으로 돌아올 수 있는 상태\n",
    "- 각 인풋은 두 점을 연결하는 과정을 의미함\n",
    "- 각 인풋 과정에서 사이클이 완성되었는가를 확인하고\n",
    "    - 완성되었다면 몇 번째에서 완성되었는지를 출력한다 \n",
    "    - 아니라면 0을 반환함"
   ]
  },
  {
   "cell_type": "code",
   "execution_count": 12,
   "id": "f3cf5829-0188-46fd-baa2-e7977ee82301",
   "metadata": {},
   "outputs": [
    {
     "name": "stdout",
     "output_type": "stream",
     "text": [
      "1\n"
     ]
    }
   ],
   "source": [
    "import sys\n",
    "sys.setrecursionlimit(int(1e6))\n",
    "sys.stdin = open('test2.txt', 'r')\n",
    "input = sys.stdin.readline\n",
    "\n",
    "def find(x):\n",
    "    if parent[x] != x:\n",
    "        parent[x] = find(parent[x])\n",
    "    return parent[x]\n",
    "    \n",
    "def union(a, b):\n",
    "    if a == b: \n",
    "        return\n",
    "    \n",
    "    root_a = find(a)\n",
    "    root_b = find(b)\n",
    "\n",
    "    # a <= b로 크기 고정\n",
    "    if root_a > root_b: \n",
    "        root_a, root_b = root_b, root_a\n",
    "    \n",
    "    parent[root_b] = root_a # 변경은 루트노드에서 일어남\n",
    "\n",
    "n, m = map(int, input().split())\n",
    "parent = [i for i in range(n)] \n",
    "ans = 0\n",
    "for i in range(1, m + 1):\n",
    "\n",
    "    a, b = map(int, input().split())\n",
    "    \n",
    "    if find(a) == find(b):\n",
    "        ans = i\n",
    "        break\n",
    "    union(a, b)\n",
    "\n",
    "print(ans)"
   ]
  },
  {
   "cell_type": "markdown",
   "id": "2eb6b38c-3d45-4145-a98d-3abe253e5efe",
   "metadata": {},
   "source": [
    "1. 사이클은 그려진 선분들의 **부분집합** 이므로, 그려진 **모든 선분을 통해 원위치로 돌아오지 않아도 된다.(일부만 이용해도 됨)** \n",
    "2. 그렇게 생각한다면, 어떤 두 점이 주어졌을 때 두 점이 가리키는 루트 노드가 동일하다면 이미 이 두 점은 연결되었다고 생각할 수 있다.\n",
    "3. 따라서, 이미 연결된 두 점을 다른 간선으로 연결한다면 사이클이 만들어졌다고 할 수 있음\n",
    "---\n",
    "### 착각한 점\n",
    "- 그려진 모든 선분을 이용해야만 사이클이 되는 건줄 알았음\n",
    "- `find` 함수에서 `parent` 배열을 갱신하는 걸 계속 까먹음\n",
    "- `union`도 이번에는 `root`로 따로 구분해서 줘봤는데, 마지막에 갱신하는 값을 `parent[b] = a` 같은 식으로 진행해버림"
   ]
  },
  {
   "cell_type": "markdown",
   "id": "9e31dcc0-0db9-4d6a-9e43-82b9240ce285",
   "metadata": {},
   "source": []
  }
 ],
 "metadata": {
  "kernelspec": {
   "display_name": "Python 3 (ipykernel)",
   "language": "python",
   "name": "python3"
  },
  "language_info": {
   "codemirror_mode": {
    "name": "ipython",
    "version": 3
   },
   "file_extension": ".py",
   "mimetype": "text/x-python",
   "name": "python",
   "nbconvert_exporter": "python",
   "pygments_lexer": "ipython3",
   "version": "3.9.13"
  }
 },
 "nbformat": 4,
 "nbformat_minor": 5
}
