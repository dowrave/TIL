{
 "cells": [
  {
   "cell_type": "markdown",
   "id": "f01240ee-511f-4076-b813-036fde12ead7",
   "metadata": {},
   "source": [
    "- [문제 링크](https://www.acmicpc.net/problem/9372)"
   ]
  },
  {
   "cell_type": "code",
   "execution_count": 5,
   "id": "f720da2a-7d5b-4f59-9af7-b2d7456632b3",
   "metadata": {},
   "outputs": [
    {
     "name": "stdout",
     "output_type": "stream",
     "text": [
      "2\n",
      "4\n"
     ]
    }
   ],
   "source": [
    "import sys\n",
    "sys.stdin = open('test.txt', 'r')\n",
    "input = sys.stdin.readline\n",
    "\n",
    "T = int(input())\n",
    "for _ in range(T):\n",
    "    N, M = map(int, input().split())\n",
    "    \n",
    "    for _ in range(M):\n",
    "        input()\n",
    "        \n",
    "    print(N-1)"
   ]
  },
  {
   "cell_type": "markdown",
   "id": "8b87f222-063c-4468-b077-5f075fd1a14f",
   "metadata": {},
   "source": [
    "- 가장 적은 종류의 비행기를 타서 다른 국가로 이동한다\n",
    "- 이미 방문한 곳을 다시 방문해도 상관 없다\n",
    "---"
   ]
  },
  {
   "cell_type": "markdown",
   "id": "8fe55d96-04d2-4775-9a34-0702df429576",
   "metadata": {},
   "source": [
    "- 아..\n",
    "- **모든 경우에서, 모든 그래프의 노드를 방문하는 간선의 개수는 항상 노드 - 1 개이다 (간선 트리의 성질)**\n",
    "- 문제에서 **항상 연결 그래프를 준다**고 했기 때문에 가능한 풀이임"
   ]
  },
  {
   "cell_type": "code",
   "execution_count": null,
   "id": "f0e54aa6-e37a-442d-bf5f-da8dc2856c09",
   "metadata": {},
   "outputs": [],
   "source": []
  }
 ],
 "metadata": {
  "kernelspec": {
   "display_name": "Python 3 (ipykernel)",
   "language": "python",
   "name": "python3"
  },
  "language_info": {
   "codemirror_mode": {
    "name": "ipython",
    "version": 3
   },
   "file_extension": ".py",
   "mimetype": "text/x-python",
   "name": "python",
   "nbconvert_exporter": "python",
   "pygments_lexer": "ipython3",
   "version": "3.9.13"
  }
 },
 "nbformat": 4,
 "nbformat_minor": 5
}
