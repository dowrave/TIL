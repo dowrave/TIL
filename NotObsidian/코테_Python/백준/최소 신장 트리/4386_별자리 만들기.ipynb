{
 "cells": [
  {
   "cell_type": "markdown",
   "id": "4279992b-096c-499e-90f4-6d0d25d400af",
   "metadata": {},
   "source": [
    "- [문제 링크](https://www.acmicpc.net/problem/4386)"
   ]
  },
  {
   "cell_type": "code",
   "execution_count": 21,
   "id": "abb01012-703e-476e-aa3f-24cc7a579789",
   "metadata": {},
   "outputs": [
    {
     "name": "stdout",
     "output_type": "stream",
     "text": [
      "3.41\n"
     ]
    }
   ],
   "source": [
    "# 1. Kruskal 알고리즘\n",
    "\n",
    "import sys\n",
    "sys.stdin = open('test.txt' , 'r')\n",
    "sys.setrecursionlimit(int(1e6))\n",
    "input = sys.stdin.readline\n",
    "\n",
    "N = int(input())\n",
    "\n",
    "vertex = []\n",
    "edge = []\n",
    "for i in range(N):\n",
    "    a1, b1 = map(float, input().split())\n",
    "    vertex.append((a1, b1))\n",
    "    \n",
    "    for j in range(i):\n",
    "        a2, b2 = vertex[j][0], vertex[j][1] \n",
    "        w = ((a2 - a1) ** 2 + (b2 - b1) ** 2)**(1/2)\n",
    "        w = round(w, 2)\n",
    "        # heapq.heappush(edge, (w, i, j))\n",
    "        edge.append((w, i, j))\n",
    "\n",
    "def find(x):\n",
    "    if parent[x] != x:\n",
    "        parent[x] = find(parent[x])\n",
    "    return parent[x]\n",
    "\n",
    "def union(a, b):\n",
    "    if a == b:\n",
    "        return\n",
    "    \n",
    "    a = find(a)\n",
    "    b = find(b)\n",
    "    \n",
    "    if a > b:\n",
    "        a, b = b, a\n",
    "    \n",
    "    parent[b] = a\n",
    "    \n",
    "edge.sort()\n",
    "parent = [i for i in range(N)]\n",
    "min_dist = 0\n",
    "\n",
    "for i in edge:\n",
    "    w, a, b = i[0], i[1], i[2]\n",
    "    \n",
    "    if find(a) == find(b): # 사이클 발생\n",
    "        continue\n",
    "        \n",
    "    union(a, b)\n",
    "    \n",
    "    min_dist += w\n",
    "    \n",
    "print(min_dist)"
   ]
  },
  {
   "cell_type": "code",
   "execution_count": 41,
   "id": "6a078b9a-0c87-4168-80b2-e533fc0a8689",
   "metadata": {},
   "outputs": [
    {
     "name": "stdout",
     "output_type": "stream",
     "text": [
      "[(1.41, 0, 1), (3.16, 0, 2)]\n",
      "[(2.0, 1, 2), (3.16, 0, 2)]\n",
      "[(3.16, 0, 2)]\n"
     ]
    },
    {
     "data": {
      "text/plain": [
       "3.41"
      ]
     },
     "execution_count": 41,
     "metadata": {},
     "output_type": "execute_result"
    }
   ],
   "source": [
    "# 2. Prim 알고리즘\n",
    "import sys\n",
    "import heapq\n",
    "sys.stdin = open('test.txt' , 'r')\n",
    "input = sys.stdin.readline\n",
    "\n",
    "N = int(input())\n",
    "vertex = []\n",
    "for i in range(N):\n",
    "    a1, b1 = map(float, input().split())\n",
    "    vertex.append((a1, b1))\n",
    "    \n",
    "graph = [[0] * N for _ in range(N)] # 0번부터 시작해도 되니까 걍 N으로 구현\n",
    "for i in range(N):\n",
    "    for j in range(N):\n",
    "        \n",
    "        if i == j: \n",
    "            graph[i][j] = (0, i, j)\n",
    "        \n",
    "        graph[i][j] = (round(\n",
    "                        ((vertex[j][0] - vertex[i][0])** 2 +\n",
    "                         ( vertex[j][1] - vertex[i][1])**2)**(1/2), \n",
    "                        2), i, j)\n",
    "\n",
    "def prim(start_node):\n",
    "    visited = [0] * (N)\n",
    "    # mst = []\n",
    "    min_w = 0\n",
    "    hp = []\n",
    "    for i in graph[start_node]:\n",
    "        if i[1] == i[2]: continue\n",
    "        heapq.heappush(heap, i)\n",
    "    visited[start_node] = 1\n",
    "    \n",
    "    while hp:\n",
    "        \n",
    "        w, prev, now = heapq.heappop(hp)\n",
    "        \n",
    "        if visited[now] == 0:\n",
    "            visited[now] = 1\n",
    "            min_w += w\n",
    "            # mst.append(now)\n",
    "            for i in graph[now]:\n",
    "                next_ = i[2]\n",
    "                if visited[next_] == 0:\n",
    "                    heapq.heappush(hp, i)\n",
    "                    \n",
    "    return min_w\n",
    "\n",
    "print(prim(0))"
   ]
  },
  {
   "cell_type": "code",
   "execution_count": null,
   "id": "43fc9024-8c05-4510-9cc8-c268a59cea93",
   "metadata": {},
   "outputs": [],
   "source": []
  }
 ],
 "metadata": {
  "kernelspec": {
   "display_name": "Python 3 (ipykernel)",
   "language": "python",
   "name": "python3"
  },
  "language_info": {
   "codemirror_mode": {
    "name": "ipython",
    "version": 3
   },
   "file_extension": ".py",
   "mimetype": "text/x-python",
   "name": "python",
   "nbconvert_exporter": "python",
   "pygments_lexer": "ipython3",
   "version": "3.9.13"
  }
 },
 "nbformat": 4,
 "nbformat_minor": 5
}
