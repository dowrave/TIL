{
 "cells": [
  {
   "cell_type": "code",
   "execution_count": 42,
   "id": "ab5984ab-6530-47ee-ad52-52f4b5874c12",
   "metadata": {},
   "outputs": [
    {
     "name": "stdout",
     "output_type": "stream",
     "text": [
      "1000 999\n",
      "1000 999\n"
     ]
    }
   ],
   "source": [
    "import sys\n",
    "from collections import deque\n",
    "sys.setrecursionlimit(int(1e9))\n",
    "sys.stdin = open('test.txt', 'r')\n",
    "input = sys.stdin.readline\n",
    "\n",
    "N, M, V = map(int, input().split())\n",
    "\n",
    "graph = [[] for _ in range(N + 1)]\n",
    "\n",
    "for _ in range(M):\n",
    "    a, b = map(int, input().split())\n",
    "    graph[a].append(b)\n",
    "    graph[b].append(a)\n",
    "    \n",
    "# 출력 : 방문된 점 순서를 스페이스바를 사이에 두시오\n",
    "# 방문 순서는 오름차순\n",
    "\n",
    "visited_dfs = [0] * (N + 1)\n",
    "dfs_lst = [] # 아니 왜 이걸 생각을 못하지?\n",
    "\n",
    "def dfs(now_node):\n",
    "    \n",
    "    visited_dfs[now_node] = 1\n",
    "    dfs_lst.append(now_node)\n",
    "    graph[now_node].sort()\n",
    "        \n",
    "    for i in graph[now_node]:\n",
    "        if visited_dfs[i] == 0:\n",
    "            dfs(i)\n",
    "            \n",
    "dfs(V)\n",
    "print(*dfs_lst)\n",
    "\n",
    "visited_bfs = [0] * (N + 1)\n",
    "bfs_lst = []\n",
    "dq = deque([])\n",
    "\n",
    "def bfs(start_node):\n",
    "    \n",
    "    bfs_lst.append(start_node)\n",
    "    dq.append(start_node)\n",
    "    visited_bfs[start_node] = 1\n",
    "    \n",
    "    while dq:\n",
    "        now_node = dq.popleft()\n",
    "        graph[now_node].sort()\n",
    "        \n",
    "        for i in graph[now_node]:\n",
    "            if visited_bfs[i] == 0:\n",
    "                dq.append(i)\n",
    "                bfs_lst.append(i)\n",
    "                visited_bfs[i] = 1\n",
    "                \n",
    "bfs(V)\n",
    "print(*bfs_lst)"
   ]
  },
  {
   "cell_type": "code",
   "execution_count": null,
   "id": "b22024c1-c8cd-42c4-b374-88274f6acd60",
   "metadata": {},
   "outputs": [],
   "source": []
  }
 ],
 "metadata": {
  "kernelspec": {
   "display_name": "Python 3 (ipykernel)",
   "language": "python",
   "name": "python3"
  },
  "language_info": {
   "codemirror_mode": {
    "name": "ipython",
    "version": 3
   },
   "file_extension": ".py",
   "mimetype": "text/x-python",
   "name": "python",
   "nbconvert_exporter": "python",
   "pygments_lexer": "ipython3",
   "version": "3.9.13"
  }
 },
 "nbformat": 4,
 "nbformat_minor": 5
}
