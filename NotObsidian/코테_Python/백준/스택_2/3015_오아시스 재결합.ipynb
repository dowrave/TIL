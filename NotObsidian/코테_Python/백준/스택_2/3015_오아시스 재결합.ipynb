{
 "cells": [
  {
   "cell_type": "code",
   "execution_count": 3,
   "id": "307b9b11-5105-4009-b010-0d767c21d7a4",
   "metadata": {},
   "outputs": [
    {
     "name": "stdout",
     "output_type": "stream",
     "text": [
      "10\n"
     ]
    }
   ],
   "source": [
    "import sys\n",
    "sys.stdin = open('test.txt', 'r')\n",
    "input = sys.stdin.readline\n",
    "N = int(input())\n",
    "stack = [] # 스택은 (값, 연속한 갯수)로 구성한다.\n",
    "ans = 0\n",
    "\n",
    "\n",
    "for _ in range(N): \n",
    "    \n",
    "    # 기본적으로 스택은 \"지금 들어오는 값\"과 스택의 상태 사이에만 작용한다고 생각하자. 이게 정말 기본임.\n",
    "    \n",
    "    val = int(input()) # 지금 들어오려 하는 값 val\n",
    "    \n",
    "    # val이 스택의 top보다 크다면, val보다 작은 수들은 val과 순서쌍을 이룬다(기본적으로 스택은 내림차순으로 구성되기 때문임)\n",
    "    # 따라서 그 값들을 모두 더해준다.\n",
    "    while stack and stack[-1][0] < val:\n",
    "        ans += stack.pop()[1] \n",
    "    \n",
    "    if stack == []:\n",
    "        stack.append([val, 1])\n",
    "        continue \n",
    "    \n",
    "    # 같은 값 조건 - top을 갱신하는데, 지금까지의 경우의 수를 센 다음 갱신한다.\n",
    "    if val == stack[-1][0]:\n",
    "        \n",
    "        # 이 값이 더해지는 원리는 위의 while문과 동일함 : val와 top 숫자(들) 간의 순서쌍의 수\n",
    "        cnt = stack.pop()[1] \n",
    "        ans += cnt\n",
    "        \n",
    "        # 그 결과 스택에는 값이 남지 않거나, val보다 큰 값이 남는다. \n",
    "        # 예를 들어 4(1) 4(2) 2 2 2 + \"2\"를 생각해보면  4(1) + 2는 순서쌍이 성립하지 않는다. 2보다 큰 4(2)가 사이에 있기 때문이다.\n",
    "        # 한편 4(2)와 \"2\"는 순서쌍이 성립한다. 따라서 스택에 값이 남는다면, 순서쌍 1개가 반드시 또 생긴다.\n",
    "        if stack: \n",
    "            ans += 1\n",
    "    \n",
    "        # 그 다음은 [같은 값, 갯수 + 1]로 top을 갱신해주면 된다.\n",
    "        stack.append([val, cnt + 1])\n",
    "    \n",
    "    else: # val은 top보다 작은 개별의 값임\n",
    "        stack.append([val, 1])\n",
    "        ans += 1 # 이웃한 경우의 수는 무조건 + 1\n",
    "        \n",
    "print(ans)"
   ]
  },
  {
   "cell_type": "markdown",
   "id": "48b15689-b779-4023-a4bb-d9943c86148e",
   "metadata": {},
   "source": [
    "## 풀이\n",
    "![요것](3015.jpg)\n"
   ]
  },
  {
   "cell_type": "code",
   "execution_count": null,
   "id": "f456a340-2991-4dc3-9f18-2a156202873b",
   "metadata": {},
   "outputs": [],
   "source": []
  }
 ],
 "metadata": {
  "kernelspec": {
   "display_name": "Python 3 (ipykernel)",
   "language": "python",
   "name": "python3"
  },
  "language_info": {
   "codemirror_mode": {
    "name": "ipython",
    "version": 3
   },
   "file_extension": ".py",
   "mimetype": "text/x-python",
   "name": "python",
   "nbconvert_exporter": "python",
   "pygments_lexer": "ipython3",
   "version": "3.9.13"
  }
 },
 "nbformat": 4,
 "nbformat_minor": 5
}
