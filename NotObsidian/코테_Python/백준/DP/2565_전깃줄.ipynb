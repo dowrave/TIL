{
 "cells": [
  {
   "cell_type": "code",
   "execution_count": 12,
   "id": "6fe425ec-c96e-423a-9f0a-b4dc5f85d833",
   "metadata": {
    "collapsed": true,
    "jupyter": {
     "outputs_hidden": true,
     "source_hidden": true
    },
    "tags": []
   },
   "outputs": [
    {
     "name": "stdout",
     "output_type": "stream",
     "text": [
      "[[1, 8], [3, 9], [2, 2], [4, 1], [6, 4], [10, 10], [9, 7], [7, 6]]\n",
      "(2, 2) (1, 8)\n",
      "(4, 1) (1, 8)\n",
      "(4, 1) (3, 9)\n",
      "(4, 1) (2, 2)\n",
      "(6, 4) (1, 8)\n",
      "(6, 4) (3, 9)\n",
      "(9, 7) (1, 8)\n",
      "(9, 7) (3, 9)\n",
      "(7, 6) (1, 8)\n",
      "(7, 6) (3, 9)\n",
      "[0, 0, 1, 2, 2, 2, 2, 2]\n",
      "2\n"
     ]
    }
   ],
   "source": [
    "import sys\n",
    "sys.stdin = open('test.txt' ,'r')\n",
    "input = sys.stdin.readline\n",
    "\n",
    "N = int(input())\n",
    "lst = []\n",
    "for _ in range(N):\n",
    "    lst.append(list(map(int, input().split())))\n",
    "print(lst)\n",
    "dp = [0] * N\n",
    "for i in range(1, N):\n",
    "    dp[i] = dp[i-1] # 전체에서 몇 개를 빼줘야 하는가는 선이 추가되어도 없을 때와 기본적으로 같음\n",
    "    for j in range(i):\n",
    "        if (lst[i][0] - lst[j][0]) * (lst[i][1] - lst[j][1]) < 0:\n",
    "            print((lst[i][0], lst[i][1]), (lst[j][0], lst[j][1]))\n",
    "            dp[i] = max(dp[j] + 1, dp[i])\n",
    "            \n",
    "print(dp)\n",
    "print(max(dp))"
   ]
  },
  {
   "cell_type": "markdown",
   "id": "ded6b8af-ec3f-44ee-b67b-5743bda5123c",
   "metadata": {},
   "source": [
    "- 전깃줄이 교차하지 않을 조건\n",
    "    - 0번째 인덱스끼리 비교했을 때의 크기 조건과 \n",
    "    - 1번째 인덱스끼리 비교했을 때 크기 조건이 같으면 됨\n",
    "    - 그거만 생각해보면 LIS랑 똑같음\n",
    "    \n",
    "- 이걸 조건문으로 생각해보면 \n",
    "$(lst[i][0] - lst[j][0]) * (lst[i][1] - lst[j][1]) < 0$이면 됨\n",
    "- 문제의 조건에서 같은 위치에 2개 이상의 전깃줄이 연결되지 않는다고 했기 때문에 0일 걱정도 없음\n",
    "\n",
    "#### 점화식 이슈\n",
    "- 각 값에서 이전 값에 대해 교차하는지 여부만을 검토하는 것 : 여러 개의 선과 교차할 때 몇 개의 선만 빼면 되는가를 나타낼 수 있음\n",
    "- 근데 전체 개수를 나타낼 수 없음\n",
    "\n",
    "- 이 문제의 경우 전체 전깃줄 중에서 몇 개의 선을 빼야 하는가를 물어봤기 때문에, **바로 이전 인덱스까지의 최댓값**을 받아줘야 함"
   ]
  },
  {
   "cell_type": "markdown",
   "id": "b23bc67f-138c-44ba-9766-b24e5d4bd0ab",
   "metadata": {},
   "source": [
    "## 왜 LIS로 풀 수 있는가"
   ]
  },
  {
   "cell_type": "markdown",
   "id": "fe972d89-52c5-4e05-899d-06d1ca2e82f0",
   "metadata": {},
   "source": [
    "- 교차의 점화식은 선을 구성하는 두 점의 각 인덱스에 대해, 대소 관계가 다를 때 교차한다고 할 수 있음\n",
    "- 그렇다면 주어진 리스트를 정렬한 다음, 1번째 인덱스(도착점) 값의 대소관계만 비교할 수 있음"
   ]
  },
  {
   "cell_type": "code",
   "execution_count": 24,
   "id": "8d1dee2e-c03a-40af-ba6a-846bfaa63c1f",
   "metadata": {},
   "outputs": [
    {
     "name": "stdout",
     "output_type": "stream",
     "text": [
      "3\n"
     ]
    }
   ],
   "source": [
    "import sys\n",
    "sys.stdin = open('test.txt', 'r')\n",
    "input = sys.stdin.readline\n",
    "N = int(input())\n",
    "lst = []\n",
    "for _ in range(N):\n",
    "    lst.append(list(map(int, input().split())))\n",
    "    \n",
    "lst.sort()\n",
    "\n",
    "dp = [1] * N # 기본적으로 스스로와 평행하다고 놓음\n",
    "for i in range(N):\n",
    "    for j in range(i):\n",
    "        if lst[i][1] > lst[j][1]: # 대소 관계가 같다 = 평행하다\n",
    "            dp[i] = max(dp[j] + 1, dp[i])\n",
    "print(N - max(dp))"
   ]
  },
  {
   "cell_type": "code",
   "execution_count": null,
   "id": "3224a671-4cb6-4e49-841a-aca4d66c1ffa",
   "metadata": {},
   "outputs": [],
   "source": []
  }
 ],
 "metadata": {
  "kernelspec": {
   "display_name": "Python 3 (ipykernel)",
   "language": "python",
   "name": "python3"
  },
  "language_info": {
   "codemirror_mode": {
    "name": "ipython",
    "version": 3
   },
   "file_extension": ".py",
   "mimetype": "text/x-python",
   "name": "python",
   "nbconvert_exporter": "python",
   "pygments_lexer": "ipython3",
   "version": "3.9.13"
  }
 },
 "nbformat": 4,
 "nbformat_minor": 5
}
