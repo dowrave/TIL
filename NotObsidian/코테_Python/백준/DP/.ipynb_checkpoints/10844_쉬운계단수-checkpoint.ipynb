{
 "cells": [
  {
   "cell_type": "code",
   "execution_count": 16,
   "id": "666d10fd-3741-4c6b-a724-a3f810ab3047",
   "metadata": {},
   "outputs": [
    {
     "name": "stdout",
     "output_type": "stream",
     "text": [
      "9\n"
     ]
    }
   ],
   "source": [
    "import sys\n",
    "sys.stdin = open('test.txt', 'r')\n",
    "input = sys.stdin.readline\n",
    "n = int(input())\n",
    "\n",
    "def func(n):\n",
    "    lst = [1] * 10\n",
    "    lst[0] = 0\n",
    "\n",
    "    for i in range(n-1):\n",
    "        new_lst = lst.copy()\n",
    "        lst[0] = new_lst[1]\n",
    "        lst[9] = new_lst[8]\n",
    "        for j in range(1,9):\n",
    "            lst[j] = new_lst[j-1] + new_lst[j+1]\n",
    "    \n",
    "    return (sum(lst) % int(1e9))  # 않이 int(1e9)여야 함?\n",
    "\n",
    "print(func(n))"
   ]
  },
  {
   "cell_type": "code",
   "execution_count": 8,
   "id": "c74efbf9-0034-4c4a-a318-06298a8f5c73",
   "metadata": {},
   "outputs": [
    {
     "name": "stdout",
     "output_type": "stream",
     "text": [
      "32\n"
     ]
    }
   ],
   "source": []
  },
  {
   "cell_type": "code",
   "execution_count": null,
   "id": "d532603e-a9d5-484a-91bf-734f1881637a",
   "metadata": {},
   "outputs": [],
   "source": []
  }
 ],
 "metadata": {
  "kernelspec": {
   "display_name": "Python 3 (ipykernel)",
   "language": "python",
   "name": "python3"
  },
  "language_info": {
   "codemirror_mode": {
    "name": "ipython",
    "version": 3
   },
   "file_extension": ".py",
   "mimetype": "text/x-python",
   "name": "python",
   "nbconvert_exporter": "python",
   "pygments_lexer": "ipython3",
   "version": "3.9.13"
  }
 },
 "nbformat": 4,
 "nbformat_minor": 5
}
