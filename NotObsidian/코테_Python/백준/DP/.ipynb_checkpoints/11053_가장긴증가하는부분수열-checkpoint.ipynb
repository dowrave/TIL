{
 "cells": [
  {
   "cell_type": "code",
   "execution_count": 18,
   "id": "a3e2d108-52cb-4946-9eb3-cb0ac54e6bc3",
   "metadata": {},
   "outputs": [
    {
     "name": "stdout",
     "output_type": "stream",
     "text": [
      "1\n"
     ]
    }
   ],
   "source": [
    "import sys\n",
    "sys.stdin = open('test.txt', 'r')\n",
    "input = sys.stdin.readline\n",
    "n = int(input())\n",
    "lst = list(map(int, input().split()))\n",
    "dp = [1] * n\n",
    "\n",
    "for i in range(1, n):\n",
    "    for j in range(i):\n",
    "        if lst[i] > lst[j]:\n",
    "            dp[i] = max(dp[j] + 1, dp[i])\n",
    "print(max(dp))"
   ]
  },
  {
   "cell_type": "markdown",
   "id": "b1a145e5-8c52-4e4c-b207-546fe1f52779",
   "metadata": {},
   "source": [
    "### 이진 탐색으로 구현해보자"
   ]
  },
  {
   "cell_type": "code",
   "execution_count": 43,
   "id": "6b60548e-e57d-4fc6-a154-e35182c3fc3a",
   "metadata": {
    "scrolled": true,
    "tags": []
   },
   "outputs": [
    {
     "name": "stdout",
     "output_type": "stream",
     "text": [
      "5\n"
     ]
    }
   ],
   "source": [
    "import sys\n",
    "sys.stdin = open('test.txt', 'r')\n",
    "input = sys.stdin.readline\n",
    "n = int(input())\n",
    "lst = list(map(int, input().split()))\n",
    "\n",
    "\n",
    "def bi_search(left, right, target):\n",
    "    \n",
    "    while left < right:\n",
    "        \n",
    "        mid = (left + right) // 2\n",
    "        \n",
    "        if dp[mid] < target:\n",
    "            left = mid + 1\n",
    "        else:\n",
    "            right = mid\n",
    "    \n",
    "    return right\n",
    "\n",
    "dp = []\n",
    "dp.append(lst[0])\n",
    "dp_idx = 0\n",
    "\n",
    "for i in range(1, n):\n",
    "    if dp[dp_idx] < lst[i]:\n",
    "        dp.append(lst[i])\n",
    "        dp_idx += 1\n",
    "    else:\n",
    "        new_idx = bi_search(0, dp_idx, lst[i]) # lst[i]가 들어갈 곳을 찾는다\n",
    "        dp[new_idx] = lst[i]\n",
    "\n",
    "# dp의 길이를 물어보니까\n",
    "print(dp_idx + 1)"
   ]
  },
  {
   "cell_type": "markdown",
   "id": "dba6cf5f-2a04-46e4-9bba-3e451508bcd8",
   "metadata": {},
   "source": [
    "![d](LIS-1.jpg)"
   ]
  },
  {
   "cell_type": "code",
   "execution_count": null,
   "id": "18f06272-ee8f-4091-9b33-b0a60556c82f",
   "metadata": {},
   "outputs": [],
   "source": []
  }
 ],
 "metadata": {
  "kernelspec": {
   "display_name": "Python 3 (ipykernel)",
   "language": "python",
   "name": "python3"
  },
  "language_info": {
   "codemirror_mode": {
    "name": "ipython",
    "version": 3
   },
   "file_extension": ".py",
   "mimetype": "text/x-python",
   "name": "python",
   "nbconvert_exporter": "python",
   "pygments_lexer": "ipython3",
   "version": "3.9.13"
  }
 },
 "nbformat": 4,
 "nbformat_minor": 5
}
