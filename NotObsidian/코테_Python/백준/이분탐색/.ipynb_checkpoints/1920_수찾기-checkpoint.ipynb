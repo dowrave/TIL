{
 "cells": [
  {
   "cell_type": "code",
   "execution_count": 37,
   "id": "db2bfea5-71c2-4dea-8b64-972dd381ca86",
   "metadata": {},
   "outputs": [
    {
     "name": "stdout",
     "output_type": "stream",
     "text": [
      "1\n",
      "1\n",
      "0\n",
      "0\n",
      "1\n"
     ]
    }
   ],
   "source": [
    "import sys\n",
    "sys.stdin = open('test.txt', 'r')\n",
    "input = sys.stdin.readline\n",
    "\n",
    "def binary_search(input_list, target):\n",
    "    \n",
    "    left = 0\n",
    "    right = len(input_list)\n",
    "    \n",
    "    while left < right:\n",
    "        mid = (left + right) // 2\n",
    "        \n",
    "        if input_list[mid] > target:\n",
    "            right = mid\n",
    "        elif input_list[mid] < target:\n",
    "            left = mid + 1\n",
    "        else:\n",
    "            return 1\n",
    "\n",
    "    return 0\n",
    "    \n",
    "N = int(input())\n",
    "lst = list(map(int, input().split()))\n",
    "lst.sort()\n",
    "\n",
    "M = int(input())\n",
    "targets = list(map(int, input().split()))\n",
    "\n",
    "for i in targets:\n",
    "    print(binary_search(lst, i))\n",
    "    "
   ]
  },
  {
   "cell_type": "markdown",
   "id": "781458d2-0bea-4c98-9de9-1be862b540e0",
   "metadata": {},
   "source": [
    "- 이분 탐색 구현\n",
    "\n",
    "1. `Check(low) != Check(high)`가 되도록 초기값을 설정한다.\n",
    "2. `mid = (low + high) // 2`로 설정한다.\n",
    "3. `Check(low) == Check(mid)`라면 `low = mid`로, `Check(high) == Check(mid)`라면 `high = mid`로 바꾼다(**재귀 호출 안 해도 가능!**)\n",
    "4. 위 과정을 `low + 1 < high`인 동안 반복해주면 된다."
   ]
  },
  {
   "cell_type": "code",
   "execution_count": null,
   "id": "e2b7bfbe-a562-4029-aac3-104a49c28ab2",
   "metadata": {},
   "outputs": [],
   "source": []
  }
 ],
 "metadata": {
  "kernelspec": {
   "display_name": "Python 3 (ipykernel)",
   "language": "python",
   "name": "python3"
  },
  "language_info": {
   "codemirror_mode": {
    "name": "ipython",
    "version": 3
   },
   "file_extension": ".py",
   "mimetype": "text/x-python",
   "name": "python",
   "nbconvert_exporter": "python",
   "pygments_lexer": "ipython3",
   "version": "3.9.13"
  }
 },
 "nbformat": 4,
 "nbformat_minor": 5
}
