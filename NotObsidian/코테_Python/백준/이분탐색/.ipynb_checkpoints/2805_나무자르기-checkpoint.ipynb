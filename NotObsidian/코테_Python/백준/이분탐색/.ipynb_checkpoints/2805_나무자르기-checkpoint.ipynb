{
 "cells": [
  {
   "cell_type": "code",
   "execution_count": 7,
   "id": "39adcf2a-85f6-4019-a310-5d20ae54290f",
   "metadata": {},
   "outputs": [
    {
     "name": "stdout",
     "output_type": "stream",
     "text": [
      "36\n"
     ]
    }
   ],
   "source": [
    "import sys\n",
    "sys.stdin = open('test.txt', 'r')\n",
    "input = sys.stdin.readline\n",
    "\n",
    "N, M  = map(int, input().split())\n",
    "heights = list(map(int, input().split()))\n",
    "\n",
    "start = 1\n",
    "end = max(heights)\n",
    "ans = 0\n",
    "\n",
    "while start <= end:\n",
    "    mid = (start + end) // 2\n",
    "    \n",
    "    # 이거는 시간초과가 떴다\n",
    "    # for i in range(N):\n",
    "    #     if heights[i] > mid:\n",
    "    #         cnt += heights[i] - mid\n",
    "    \n",
    "    # 시간초과 이슈 때문에 map 함수로 수정해준다\n",
    "    cnt = sum(map(lambda x : x - mid if x - mid >= 0 else 0, heights))\n",
    "    \n",
    "    \n",
    "    \n",
    "    # 자른 나무의 합은 최솟값을 찾는 문제이긴 한데\n",
    "    # 결국 우리가 탐색하는 건 나무의 높이들임\n",
    "    # 즉, 이 높이가 높을수록 M값이 작아지므로\n",
    "    # ans에 들어가야 할 건 자른 길이 = M을 만족하는 최댓값임\n",
    "    if cnt >= M:\n",
    "        ans = mid\n",
    "        start = mid + 1\n",
    "        \n",
    "    else:\n",
    "        end = mid - 1\n",
    "\n",
    "print(ans)"
   ]
  },
  {
   "cell_type": "code",
   "execution_count": null,
   "id": "a1bd01f9-c6ff-4d06-a921-737606de76d1",
   "metadata": {},
   "outputs": [],
   "source": []
  }
 ],
 "metadata": {
  "kernelspec": {
   "display_name": "Python 3 (ipykernel)",
   "language": "python",
   "name": "python3"
  },
  "language_info": {
   "codemirror_mode": {
    "name": "ipython",
    "version": 3
   },
   "file_extension": ".py",
   "mimetype": "text/x-python",
   "name": "python",
   "nbconvert_exporter": "python",
   "pygments_lexer": "ipython3",
   "version": "3.9.13"
  }
 },
 "nbformat": 4,
 "nbformat_minor": 5
}
