{
 "cells": [
  {
   "cell_type": "markdown",
   "id": "a31bbcb7-83c4-42a4-8bb2-4933c28786cc",
   "metadata": {},
   "source": [
    "### 물론 hashmap을 쓰면 간단하게 풀림"
   ]
  },
  {
   "cell_type": "code",
   "execution_count": 17,
   "id": "ea68f485-6b42-4d2f-a2fe-0dc3aa76de8f",
   "metadata": {},
   "outputs": [
    {
     "name": "stdout",
     "output_type": "stream",
     "text": [
      "3 0 0 1 2 0 0 2 "
     ]
    }
   ],
   "source": [
    "import sys\n",
    "sys.stdin = open('test.txt', 'r')\n",
    "input = sys.stdin.readline\n",
    "N = int(input())\n",
    "lst = list(map(int, input().split()))\n",
    "dct = {}\n",
    "for i in lst:\n",
    "    if i not in dct.keys():\n",
    "        dct[i] = 0\n",
    "    dct[i] += 1\n",
    "\n",
    "M = int(input())\n",
    "\n",
    "for m in map(int, input().split()):\n",
    "    print(dct[m] if m in dct.keys() else 0, end = \" \")\n",
    "\n"
   ]
  },
  {
   "cell_type": "markdown",
   "id": "e618db12-ad20-43c9-913e-eeca8884a087",
   "metadata": {},
   "source": [
    "### 그러나 이분 탐색을 이용해서 푸는 방법도 생각해보자\n",
    "1. **이분 탐색을 2번 쓰는 방법**이 있다 : 타겟 숫자가 시작하는 인덱스와 끝나는 인덱스를 이분 탐색으로 찾으면 됨\n",
    "    - 이분 탐색은 동일하게 하되, 타겟 값을 찾았다면\n",
    "    - 그 값과 -1번째 인덱스가 같은지 비교해보고, 같다면 `right` 값을`mid -1` 로 바꾸고 다시 탐색을 한다\n",
    "    - 마찬가지로 끝 값을 찾으려면 `left` 값을 `mid + 1`로 바꾸고 다시 탐색한다\n",
    "    "
   ]
  },
  {
   "cell_type": "code",
   "execution_count": 22,
   "id": "1917707b-5e58-473c-b6ee-0788b35a74cd",
   "metadata": {},
   "outputs": [
    {
     "ename": "KeyboardInterrupt",
     "evalue": "",
     "output_type": "error",
     "traceback": [
      "\u001b[1;31m---------------------------------------------------------------------------\u001b[0m",
      "\u001b[1;31mKeyboardInterrupt\u001b[0m                         Traceback (most recent call last)",
      "\u001b[1;32m~\\AppData\\Local\\Temp/ipykernel_2432/519964261.py\u001b[0m in \u001b[0;36m<module>\u001b[1;34m\u001b[0m\n\u001b[0;32m     42\u001b[0m \u001b[1;32mfor\u001b[0m \u001b[0mm\u001b[0m \u001b[1;32min\u001b[0m \u001b[0mmap\u001b[0m\u001b[1;33m(\u001b[0m\u001b[0mint\u001b[0m\u001b[1;33m,\u001b[0m \u001b[0minput\u001b[0m\u001b[1;33m(\u001b[0m\u001b[1;33m)\u001b[0m\u001b[1;33m.\u001b[0m\u001b[0msplit\u001b[0m\u001b[1;33m(\u001b[0m\u001b[1;33m)\u001b[0m\u001b[1;33m)\u001b[0m\u001b[1;33m:\u001b[0m\u001b[1;33m\u001b[0m\u001b[1;33m\u001b[0m\u001b[0m\n\u001b[0;32m     43\u001b[0m     print(binary_end_search(lst, m) - \n\u001b[1;32m---> 44\u001b[1;33m           binary_start_search(lst, m) + 1, end = \" \")\n\u001b[0m\u001b[0;32m     45\u001b[0m \u001b[1;33m\u001b[0m\u001b[0m\n",
      "\u001b[1;32m~\\AppData\\Local\\Temp/ipykernel_2432/4040788250.py\u001b[0m in \u001b[0;36mbinary_start_search\u001b[1;34m(arr, target)\u001b[0m\n\u001b[0;32m     22\u001b[0m             \u001b[0mend\u001b[0m \u001b[1;33m=\u001b[0m \u001b[0mmid\u001b[0m \u001b[1;33m-\u001b[0m \u001b[1;36m1\u001b[0m\u001b[1;33m\u001b[0m\u001b[1;33m\u001b[0m\u001b[0m\n\u001b[0;32m     23\u001b[0m         \u001b[1;32melse\u001b[0m\u001b[1;33m:\u001b[0m\u001b[1;33m\u001b[0m\u001b[1;33m\u001b[0m\u001b[0m\n\u001b[1;32m---> 24\u001b[1;33m             \u001b[0mstart\u001b[0m \u001b[1;33m=\u001b[0m \u001b[0mmid\u001b[0m \u001b[1;33m+\u001b[0m \u001b[1;36m1\u001b[0m\u001b[1;33m\u001b[0m\u001b[1;33m\u001b[0m\u001b[0m\n\u001b[0m\u001b[0;32m     25\u001b[0m \u001b[1;33m\u001b[0m\u001b[0m\n\u001b[0;32m     26\u001b[0m \u001b[1;33m\u001b[0m\u001b[0m\n",
      "\u001b[1;31mKeyboardInterrupt\u001b[0m: "
     ]
    }
   ],
   "source": [
    "import sys\n",
    "sys.stdin = open('test.txt', 'r')\n",
    "input = sys.stdin.readline\n",
    "\n",
    "# x의 첫 번째 위치 구하기\n",
    "def binary_search_start(array, target, start, end):\n",
    "    while start <= end:\n",
    "        mid = (start + end) // 2\n",
    "        if array[mid] == target:\n",
    "            if mid - 1 < 0 or array[mid - 1] != target:\n",
    "                return mid\n",
    "            else:\n",
    "                end = mid - 1 \n",
    "        elif array[mid] >= target:\n",
    "            end = mid - 1\n",
    "        else:\n",
    "            start = mid + 1\n",
    "    return -1\n",
    "\n",
    "# x의 마지막 위치 구하기\n",
    "def binary_search_end(array, target, start, end):\n",
    "    while start <= end:\n",
    "        mid = (start + end) // 2\n",
    "        if array[mid] == target:\n",
    "            if mid + 1 >= len(array) or array[mid + 1] != target:\n",
    "                return mid\n",
    "            else:\n",
    "                start = mid + 1 \n",
    "        elif array[mid] >= target:\n",
    "            end = mid - 1\n",
    "        else:\n",
    "            start = mid + 1\n",
    "    return -1\n",
    "\n",
    "\n",
    "N = int(input())\n",
    "lst = list(map(int, input().split()))\n",
    "lst.sort()\n",
    "\n",
    "M = int(input())\n",
    "\n",
    "for m in map(int, input().split()):\n",
    "    print(binary_end_search(lst, m) - \n",
    "          binary_start_search(lst, m) + 1, end = \" \")\n",
    "\n"
   ]
  },
  {
   "cell_type": "markdown",
   "id": "b617104c-a489-4115-9ccc-5f7ee18a584b",
   "metadata": {},
   "source": [
    "**풀이 2.** Bisect 라이브러리\n",
    "- `bisect_left(a, x)` : 리스트 a에서 데이터 x를 삽입할 가장 왼쪽 인덱스를 찾아줌\n",
    "- `bisect_right(a, x)` : 리스트 a에서 데이터 x를 삽입할 가장 오른쪽 인덱스를 찾아줌"
   ]
  },
  {
   "cell_type": "code",
   "execution_count": 23,
   "id": "b0fddc77-911e-455c-98de-0bad41e6ed4d",
   "metadata": {},
   "outputs": [
    {
     "name": "stdout",
     "output_type": "stream",
     "text": [
      "3 0 0 1 2 0 0 2 "
     ]
    }
   ],
   "source": [
    "from bisect import bisect_left, bisect_right\n",
    "import sys\n",
    "sys.stdin = open('test.txt', 'r')\n",
    "input = sys.stdin.readline\n",
    "\n",
    "N = int(input())\n",
    "lst = list(map(int, input().split()))\n",
    "lst.sort()\n",
    "\n",
    "M = int(input())\n",
    "\n",
    "for m in map(int, input().split()):\n",
    "    count = bisect_right(lst, m) - bisect_left(lst, m)\n",
    "    if count == 0:\n",
    "        print(0, end = \" \")\n",
    "    else:\n",
    "        print(count, end = \" \")"
   ]
  },
  {
   "cell_type": "code",
   "execution_count": null,
   "id": "dcf2f912-1012-45ab-bb13-1d37d5cd5605",
   "metadata": {},
   "outputs": [],
   "source": [
    "from bisect import bisect_left, bisect_right\n",
    "N = int(input())\n",
    "lst = list(map(int, input().split()))\n",
    "lst.sort()\n",
    "\n",
    "M = int(input())\n",
    "\n",
    "for m in map(int, input().split()):\n",
    "    print(binary_end_search(lst, m) - \n",
    "          binary_start_search(lst, m) + 1, end = \" \")\n"
   ]
  },
  {
   "cell_type": "markdown",
   "id": "d18df36b-4bf3-4274-bc3e-2e140629f27f",
   "metadata": {},
   "source": [
    "### 시간 초과"
   ]
  },
  {
   "cell_type": "code",
   "execution_count": null,
   "id": "6162a40a-48c7-4447-a4c8-e1c69bb1b4ae",
   "metadata": {},
   "outputs": [],
   "source": [
    "# import sys\n",
    "# sys.stdin = open('test.txt', 'r')\n",
    "# input = sys.stdin.readline\n",
    "\n",
    "# def binary_search(inp_lst, target):\n",
    "#     left = 0\n",
    "#     right = len(inp_lst)\n",
    "\n",
    "#     while left < right:\n",
    "#         mid = (left + right) // 2\n",
    "        \n",
    "#         if inp_lst[mid] < target:\n",
    "#             left = mid + 1\n",
    "#         elif inp_lst[mid] > target:\n",
    "#             right = mid\n",
    "#         else: # mid 값 = target 값일 때임\n",
    "#             # 근데 이 방법은 모든 수가 동일하다면 O(N)이 됨\n",
    "#             i = 1 \n",
    "#             j = 1\n",
    "#             count = 1\n",
    "#             while inp_lst[mid - i] == inp_lst[mid]:\n",
    "#                 i += 1\n",
    "#                 count += 1\n",
    "#             while mid + j < len(inp_lst) and inp_lst[mid + j] == inp_lst[mid]:\n",
    "#                 j += 1\n",
    "#                 count += 1\n",
    "#             return count\n",
    "            \n",
    "#     return 0\n",
    "\n",
    "\n",
    "# N = int(input())\n",
    "# lst = list(map(int, input().split()))\n",
    "# lst.sort()\n",
    "\n",
    "# M = int(input())\n",
    "\n",
    "\n",
    "\n",
    "# for m in map(int, input().split()):\n",
    "#     print(binary_search(lst, m), end = \" \")\n",
    "\n"
   ]
  }
 ],
 "metadata": {
  "kernelspec": {
   "display_name": "Python 3 (ipykernel)",
   "language": "python",
   "name": "python3"
  },
  "language_info": {
   "codemirror_mode": {
    "name": "ipython",
    "version": 3
   },
   "file_extension": ".py",
   "mimetype": "text/x-python",
   "name": "python",
   "nbconvert_exporter": "python",
   "pygments_lexer": "ipython3",
   "version": "3.9.13"
  }
 },
 "nbformat": 4,
 "nbformat_minor": 5
}
