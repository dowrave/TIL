{
 "cells": [
  {
   "cell_type": "markdown",
   "id": "9b68fba2-76b7-4ec9-b732-ee0fb0911cd3",
   "metadata": {},
   "source": [
    "- 파라메틱 서치라고 하지만, 이진 탐색과 크게 다른 건 없음\n",
    "- 오히려 이진 탐색을 할 때 범위를 어떻게 정리할까를 생각해봐야 한다"
   ]
  },
  {
   "cell_type": "code",
   "execution_count": 35,
   "id": "c33cd34e-8aed-4301-b6e1-00df53d0e2cf",
   "metadata": {},
   "outputs": [
    {
     "name": "stdout",
     "output_type": "stream",
     "text": [
      "200\n"
     ]
    }
   ],
   "source": [
    "import sys\n",
    "sys.stdin = open('test.txt', 'r')\n",
    "input = sys.stdin.readline\n",
    "\n",
    "K, target = map(int, input().split())\n",
    "lst = []\n",
    "for _ in range(K):\n",
    "    lst.append(int(input()))\n",
    "\n",
    "start = 1\n",
    "end = max(lst) # 이거 min(lst)로 하면 틀림!!! 왜????\n",
    "ans = 0\n",
    "\n",
    "while start <= end:\n",
    "    \n",
    "    mid = (start + end) // 2\n",
    "    cnt = 0\n",
    "    \n",
    "    for i in range(K):\n",
    "        cnt += lst[i] // mid\n",
    "\n",
    "    if cnt >= target: \n",
    "        ans = mid\n",
    "        start = mid + 1\n",
    "    elif cnt < target:\n",
    "        end = mid - 1\n",
    "        \n",
    "\n",
    "print(ans)"
   ]
  },
  {
   "cell_type": "markdown",
   "id": "e4bb2095-9e4a-4ef5-8e03-c776395c05e2",
   "metadata": {},
   "source": [
    "- 옵시디언에 저장해둔 내용임\n",
    "- `lower_bound`\n",
    "```python\n",
    "def lower_bound(arr, target):\n",
    "\tstart = 0\n",
    "\tend = len(arr) - 1\n",
    "\tans = 0\n",
    "\n",
    "\twhile start <= end: \n",
    "\t\tmid = (start + end) // 2\n",
    "\n",
    "\t\tif arr[mid] >= target: \n",
    "\t\t\tans = mid\n",
    "\t\t\tend = mid - 1 \n",
    "\t\telse:\n",
    "\t\t\tstart = mid + 1\n",
    "\treturn ans\n",
    "```\n",
    "\n",
    "- `upper_bound`\n",
    "```python\n",
    "def upper_bound(arr, target):\n",
    "\tstart = 0\n",
    "\tend = len(arr) - 1\n",
    "\tans = 0 \n",
    "\twhile start <= end: \n",
    "\t\tmid = (start + end) // 2\n",
    "\n",
    "\t\tif arr[mid] <= target: \n",
    "\t\t\tans = mid\n",
    "\t\t\tstart = mid + 1  \n",
    "\t\telse:\n",
    "\t\t\tend = mid - 1 \n",
    "\treturn ans\n",
    "```\n",
    "\n",
    "-  일관성을 유지하고자 `ans`라는 변수를 만들어 넣었다.\n",
    "- `ans`를 쓰고 싶지 않으면 \n",
    "\t- `lower_bound`에서는 `end = mid`로 갱신,  \n",
    "\t- `upper_bound`에서는 `start = mid`로 갱신\n",
    "\t- 한 다음 `end`값을 리턴하면 될 거임"
   ]
  },
  {
   "cell_type": "code",
   "execution_count": null,
   "id": "160e0fd1-0b54-490c-b140-ddd0211445eb",
   "metadata": {},
   "outputs": [],
   "source": []
  }
 ],
 "metadata": {
  "kernelspec": {
   "display_name": "Python 3 (ipykernel)",
   "language": "python",
   "name": "python3"
  },
  "language_info": {
   "codemirror_mode": {
    "name": "ipython",
    "version": 3
   },
   "file_extension": ".py",
   "mimetype": "text/x-python",
   "name": "python",
   "nbconvert_exporter": "python",
   "pygments_lexer": "ipython3",
   "version": "3.9.13"
  }
 },
 "nbformat": 4,
 "nbformat_minor": 5
}
