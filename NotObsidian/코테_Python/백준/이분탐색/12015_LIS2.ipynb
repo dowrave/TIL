{
 "cells": [
  {
   "cell_type": "code",
   "execution_count": 10,
   "id": "8665dae8-ff67-427f-80fb-2c87444cc4c1",
   "metadata": {},
   "outputs": [
    {
     "name": "stdout",
     "output_type": "stream",
     "text": [
      "[0, 10, 20, 30, 50]\n",
      "4\n"
     ]
    }
   ],
   "source": [
    "import sys\n",
    "sys.stdin = open('test.txt', 'r')\n",
    "input = sys.stdin.readline\n",
    "\n",
    "N = int(input())\n",
    "lst = list(map(int, input().split()))\n",
    "LIS = [0]\n",
    "\n",
    "# 이렇게 구현하면 O(n * logn)이라고 함\n",
    "for i in range(len(lst)):\n",
    "    if LIS[-1] < lst[i]:\n",
    "        LIS.append(lst[i])\n",
    "    else: \n",
    "        left = 0\n",
    "        right = len(LIS) - 1\n",
    "        while left < right:\n",
    "            mid = (left + right) // 2\n",
    "            if lst[i] > LIS[mid]:\n",
    "                left = mid + 1\n",
    "            else:\n",
    "                right = mid\n",
    "        LIS[right] = lst[i]\n",
    "\n",
    "print(len(LIS[1:]))"
   ]
  },
  {
   "cell_type": "markdown",
   "id": "15d68377-14a5-45c5-8ce1-2727f3c71a95",
   "metadata": {},
   "source": [
    "![이미지](12015.jpg)"
   ]
  },
  {
   "cell_type": "code",
   "execution_count": 16,
   "id": "d6a78d00-6712-43dc-939a-5ee6362cecea",
   "metadata": {},
   "outputs": [
    {
     "name": "stdout",
     "output_type": "stream",
     "text": [
      "0\n",
      "1\n"
     ]
    }
   ],
   "source": [
    "lst = [15, 20, 30]\n",
    "\n",
    "print(bisect_left(lst, 15))\n",
    "print(bisect_right(lst, 15))"
   ]
  },
  {
   "cell_type": "code",
   "execution_count": null,
   "id": "65e6522d-046f-45e0-97f0-5534fbf1e9f3",
   "metadata": {},
   "outputs": [],
   "source": [
    "b"
   ]
  }
 ],
 "metadata": {
  "kernelspec": {
   "display_name": "Python 3 (ipykernel)",
   "language": "python",
   "name": "python3"
  },
  "language_info": {
   "codemirror_mode": {
    "name": "ipython",
    "version": 3
   },
   "file_extension": ".py",
   "mimetype": "text/x-python",
   "name": "python",
   "nbconvert_exporter": "python",
   "pygments_lexer": "ipython3",
   "version": "3.9.13"
  }
 },
 "nbformat": 4,
 "nbformat_minor": 5
}
