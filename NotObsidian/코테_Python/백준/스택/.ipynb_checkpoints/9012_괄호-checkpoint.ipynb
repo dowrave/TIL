{
 "cells": [
  {
   "cell_type": "code",
   "execution_count": 16,
   "id": "f0a07e98-cee1-475d-8bad-88d37065209f",
   "metadata": {},
   "outputs": [
    {
     "name": "stdout",
     "output_type": "stream",
     "text": [
      "NO\n",
      "NO\n",
      "YES\n",
      "NO\n",
      "YES\n",
      "NO\n"
     ]
    }
   ],
   "source": [
    "import sys\n",
    "sys.stdin = open('test.txt', 'r')\n",
    "input = sys.stdin.readline\n",
    "\n",
    "T = int(input())\n",
    "\n",
    "# 멍때리니까 생각났다\n",
    "# 1. 문자열에 대해 반복문을 돌림\n",
    "# 2. '('이면 stack에 append한다\n",
    "# 3. ')'이면 stack의 마지막 원소를 pop한다.\n",
    "# 4. 반복문을 끝까지 돌렸을 때, 스택에 남은 원소가 있으면 NO, 아니면 YES\n",
    "for _ in range(T):\n",
    "    string = input().strip()\n",
    "    stack = []\n",
    "    for i in string:\n",
    "        if i == '(':\n",
    "            stack.append(i)\n",
    "        elif stack == [] and i == ')':\n",
    "            stack.append(')')\n",
    "            break\n",
    "        else:\n",
    "            stack.pop()\n",
    "        \n",
    "    if stack:\n",
    "        print(\"NO\")\n",
    "    else:\n",
    "        print(\"YES\")\n",
    "        "
   ]
  },
  {
   "cell_type": "code",
   "execution_count": null,
   "id": "ab6fc123-04e0-4fb4-b7e2-298c8fdc3a7a",
   "metadata": {},
   "outputs": [],
   "source": []
  }
 ],
 "metadata": {
  "kernelspec": {
   "display_name": "Python 3 (ipykernel)",
   "language": "python",
   "name": "python3"
  },
  "language_info": {
   "codemirror_mode": {
    "name": "ipython",
    "version": 3
   },
   "file_extension": ".py",
   "mimetype": "text/x-python",
   "name": "python",
   "nbconvert_exporter": "python",
   "pygments_lexer": "ipython3",
   "version": "3.9.13"
  }
 },
 "nbformat": 4,
 "nbformat_minor": 5
}
