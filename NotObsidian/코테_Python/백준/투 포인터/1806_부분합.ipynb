{
 "cells": [
  {
   "cell_type": "markdown",
   "id": "ed037afb-27e3-43a4-b67a-046e083fd46f",
   "metadata": {},
   "source": [
    "- [문제 링크](https://www.acmicpc.net/problem/1806)\n",
    "- 부분합의 크기가 S 이상인 것 중, 가장 짧은 것의 **길이**를 구하시오"
   ]
  },
  {
   "cell_type": "code",
   "execution_count": 6,
   "id": "0c068fc7-6d8e-4248-8c95-7580c89a7bf4",
   "metadata": {},
   "outputs": [
    {
     "name": "stdout",
     "output_type": "stream",
     "text": [
      "2\n"
     ]
    }
   ],
   "source": [
    "import sys\n",
    "sys.stdin = open('test.txt', 'r')\n",
    "input = sys.stdin.readline\n",
    "\n",
    "N, S = map(int, input().split())\n",
    "arr = [0] + list(map(int, input().split()))\n",
    "\n",
    "# 부분합을 구하기 위한 누적합 리스트\n",
    "cumul_arr = [0] * (N + 1)\n",
    "for i in range(1, N+1):\n",
    "    cumul_arr[i] = cumul_arr[i-1] + arr[i]\n",
    "\n",
    "ans = N + 1\n",
    "\n",
    "# 누적합 리스트에 대해 2개의 포인터를 잡는다\n",
    "left, right = 1, 1\n",
    "while right < N + 1: # 누적합을 구현하기 위해 원소를 1개 추가했으니까\n",
    "    part_sum = cumul_arr[right] - cumul_arr[left - 1]\n",
    "    \n",
    "    if part_sum >= S:\n",
    "        ans = min(ans, right - left + 1)\n",
    "        left += 1\n",
    "    \n",
    "    else:\n",
    "        right += 1\n",
    "\n",
    "if ans == N + 1:\n",
    "    print(0)\n",
    "else:\n",
    "    print(ans)"
   ]
  },
  {
   "cell_type": "code",
   "execution_count": null,
   "id": "c691d132-95c8-4f8b-beb1-8bec265c73f4",
   "metadata": {},
   "outputs": [],
   "source": []
  }
 ],
 "metadata": {
  "kernelspec": {
   "display_name": "Python 3 (ipykernel)",
   "language": "python",
   "name": "python3"
  },
  "language_info": {
   "codemirror_mode": {
    "name": "ipython",
    "version": 3
   },
   "file_extension": ".py",
   "mimetype": "text/x-python",
   "name": "python",
   "nbconvert_exporter": "python",
   "pygments_lexer": "ipython3",
   "version": "3.9.13"
  }
 },
 "nbformat": 4,
 "nbformat_minor": 5
}
