{
 "cells": [
  {
   "cell_type": "markdown",
   "id": "f3b80822-a48c-402b-94a5-ca7778c2c46f",
   "metadata": {},
   "source": [
    "- [문제 링크](https://www.acmicpc.net/problem/1967)\n"
   ]
  },
  {
   "cell_type": "code",
   "execution_count": 12,
   "id": "10d14998-cce3-43d6-8fab-d981b7554649",
   "metadata": {},
   "outputs": [
    {
     "name": "stdout",
     "output_type": "stream",
     "text": [
      "45\n"
     ]
    }
   ],
   "source": [
    "import sys\n",
    "sys.setrecursionlimit(int(1e6))\n",
    "# sys.stdin = open('test.txt', 'r')\n",
    "input = sys.stdin.readline\n",
    "\n",
    "N = int(input())\n",
    "graph = [[] for _ in range(N+1)]\n",
    "\n",
    "for _ in range(N - 1):\n",
    "    a, b, w = map(int, input().split())\n",
    "    graph[a].append((b, w))\n",
    "    graph[b].append((a, w)) # 지름을 구하려면 무방향 그래프를 이용함\n",
    "    \n",
    "# 트리의 지름을 구하는 알고리즘은 루트 노드가 주어지든 아니든 성립함\n",
    "\n",
    "visited = [-1] * (N + 1)\n",
    "visited[1] = 0 #\n",
    "def dfs(start_node):\n",
    "    for i, w in graph[start_node]:\n",
    "        if visited[i] == -1 :\n",
    "            visited[i] = visited[start_node] + w\n",
    "            dfs(i)\n",
    "dfs(1)\n",
    "\n",
    "# 1. 최댓값을 갖는 인덱스를 구한다\n",
    "u = visited.index(max(visited))\n",
    "\n",
    "# 2. u에 대한 dfs를 다시 돌려서 나오는 거리 값이 답임\n",
    "visited = [-1] * (N + 1)\n",
    "visited[u] = 0\n",
    "dfs(u)\n",
    "print(max(visited))"
   ]
  },
  {
   "cell_type": "code",
   "execution_count": null,
   "id": "4fea49c7-94d1-4d2b-9a86-82562ebeae69",
   "metadata": {},
   "outputs": [],
   "source": [
    "                "
   ]
  }
 ],
 "metadata": {
  "kernelspec": {
   "display_name": "Python 3 (ipykernel)",
   "language": "python",
   "name": "python3"
  },
  "language_info": {
   "codemirror_mode": {
    "name": "ipython",
    "version": 3
   },
   "file_extension": ".py",
   "mimetype": "text/x-python",
   "name": "python",
   "nbconvert_exporter": "python",
   "pygments_lexer": "ipython3",
   "version": "3.9.13"
  }
 },
 "nbformat": 4,
 "nbformat_minor": 5
}
