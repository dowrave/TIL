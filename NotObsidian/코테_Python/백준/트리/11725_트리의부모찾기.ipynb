{
 "cells": [
  {
   "cell_type": "markdown",
   "id": "f419cdf3-92bb-49b0-984a-382d4d4cf676",
   "metadata": {},
   "source": [
    "- [문제 링크](https://www.acmicpc.net/problem/11725)"
   ]
  },
  {
   "cell_type": "code",
   "execution_count": 7,
   "id": "4b981bbe-9a1a-42e4-91e9-3e6d657e6140",
   "metadata": {
    "tags": []
   },
   "outputs": [
    {
     "name": "stdout",
     "output_type": "stream",
     "text": [
      "1\n",
      "1\n",
      "2\n",
      "3\n",
      "3\n",
      "4\n",
      "4\n",
      "5\n",
      "5\n",
      "6\n",
      "6\n"
     ]
    }
   ],
   "source": [
    "import sys\n",
    "sys.setrecursionlimit(int(1e6))\n",
    "# sys.stdin = open('test.txt','r')\n",
    "input = sys.stdin.readline\n",
    "\n",
    "N = int(input())\n",
    "graph = [[] for _ in range(N + 1)]\n",
    "for _ in range(N-1):\n",
    "    a, b= map(int, input().split())\n",
    "    graph[a].append(b)\n",
    "    graph[b].append(a)\n",
    "\n",
    "visited = [-1] * (N + 1)\n",
    "parent_node = [0] * (N + 1)\n",
    "def dfs(start_node, depth):\n",
    "    visited[start_node] = depth\n",
    "    for i in graph[start_node]:\n",
    "        if visited[i] == -1:\n",
    "            parent_node[i] = start_node\n",
    "            dfs(i, depth + 1)\n",
    "            \n",
    "dfs(1, 0)\n",
    "\n",
    "for i in parent_node[2:]:\n",
    "    print(i)\n"
   ]
  },
  {
   "cell_type": "markdown",
   "id": "3b0c017e-25c9-4186-8f50-e4b64651dab1",
   "metadata": {},
   "source": [
    "## DFS로 구현하기\n",
    "1. 기본적으로 풀이는 그래프처럼 가져감\n",
    "2. 트리가 그래프와 다른 점은, 부모 - 자식 노드 간의 관계가 정해져 있는 것과 사이클을 이루지 않는다는 점이 있다.**이 문제의 경우는 그냥 그래프처럼 DFS를 하되 부모 노드의 위치만 표시해주면 됨** (당연히 BFS도 가능함)"
   ]
  },
  {
   "cell_type": "code",
   "execution_count": null,
   "id": "fe2b98e0-3dbe-42eb-aec4-6a4e515561c5",
   "metadata": {},
   "outputs": [],
   "source": []
  }
 ],
 "metadata": {
  "kernelspec": {
   "display_name": "Python 3 (ipykernel)",
   "language": "python",
   "name": "python3"
  },
  "language_info": {
   "codemirror_mode": {
    "name": "ipython",
    "version": 3
   },
   "file_extension": ".py",
   "mimetype": "text/x-python",
   "name": "python",
   "nbconvert_exporter": "python",
   "pygments_lexer": "ipython3",
   "version": "3.9.13"
  }
 },
 "nbformat": 4,
 "nbformat_minor": 5
}
