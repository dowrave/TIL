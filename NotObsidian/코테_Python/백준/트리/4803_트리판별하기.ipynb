{
 "cells": [
  {
   "cell_type": "markdown",
   "id": "d53a364b-39d8-4a0e-8ef7-5b274a005bba",
   "metadata": {},
   "source": [
    "- [문제 링크](https://www.acmicpc.net/problem/4803)"
   ]
  },
  {
   "cell_type": "code",
   "execution_count": 10,
   "id": "b4c9bee8-ee36-48fb-ab3c-dbd0dd18fbb1",
   "metadata": {},
   "outputs": [
    {
     "name": "stdout",
     "output_type": "stream",
     "text": [
      "Case 1: A forest of 3 trees.\n",
      "Case 2: There is one tree.\n",
      "Case 3: No trees.\n"
     ]
    }
   ],
   "source": [
    "import sys\n",
    "sys.setrecursionlimit(int(1e6))\n",
    "sys.stdin = open('test.txt', 'r')\n",
    "input = sys.stdin.readline\n",
    "\n",
    "def dfs(prev_node, start_node):\n",
    "    \n",
    "    visited[start_node] = 1\n",
    "    for i in graph[start_node]:\n",
    "        \n",
    "        # 직전 노드는 생각할 필요 X\n",
    "        if i == prev_node: \n",
    "            continue\n",
    "        \n",
    "        # 사이클, 중복 경로 처리\n",
    "        if visited[i] == 1:\n",
    "            return False\n",
    "        \n",
    "        # 이미 False가 재귀식에서 나왔다면 그대로 올려줌\n",
    "        if not dfs(start_node, i):\n",
    "            return False\n",
    "    \n",
    "    return True\n",
    "\n",
    "T= 1\n",
    "while True:\n",
    "    # vertex, edge\n",
    "    n, m = map(int, input().split())\n",
    "    \n",
    "    if n == 0 and m == 0:\n",
    "        break\n",
    "    \n",
    "    graph = [[] for _ in range(n+1)]\n",
    "    visited = [0] * (n + 1)\n",
    "    \n",
    "    for _ in range(m):\n",
    "        a, b = map(int, input().split())\n",
    "        graph[a].append(b)\n",
    "        graph[b].append(a)\n",
    "    \n",
    "    trees = 0\n",
    "    for i in range(1, n+1): # 아 이걸 0부터 n-1까지 돌렸네 ㅋㅋ;\n",
    "        if not visited[i]:\n",
    "            if dfs(0, i):\n",
    "                trees += 1\n",
    "        # print(i, trees)\n",
    "\n",
    "    if trees == 0:\n",
    "        print(f\"Case {T}: No trees.\")\n",
    "    elif trees == 1:\n",
    "        print(f\"Case {T}: There is one tree.\")\n",
    "    else:\n",
    "        print(f\"Case {T}: A forest of {trees} trees.\")\n",
    "\n",
    "        \n",
    "    T += 1\n",
    "    "
   ]
  },
  {
   "cell_type": "markdown",
   "id": "29f4b05b-63c7-4398-90e8-fec862dbd63f",
   "metadata": {},
   "source": [
    "## 풀이\n",
    "- 결국 주어진 트리에 관한 조건을 탐색 알고리즘에 적용하는 문제임\n",
    "---\n",
    "1. 주어진 그래프 속의 각 정점에 대해 탐색을 돌림\n",
    "2. 이 탐색 함수는 이전 노드를 인풋으로도 받음 : 무방향 그래프이기 때문에, 그래프 구현 시 1개의 간선임에도 2개로 구현될 때 탐색 알고리즘을 돌리면 `1->2->1`이라는 사이클이 나오지 않도록 하기 위함임 : 즉, **직전 노드를 저장해서 직전 노드는 현재 탐색에 걸리지 않게 함**\n",
    "3. 다음에 방문할 노드가 **직전 노드가 아니고, 방문한 적이 있다면 이는 사이클을 이룬 것과 같다.** \n",
    "    - 또한, \"방문한 적이 있다\"는 조건식만으로 **두 정점 사이의 중복 경로 조건도 살피는 것이 된다.** : `graph[1]`에 `[2, 2]`가 저장되었다면, 앞의 `2`에 대한 탐색을 마친 후 뒤의 `2`는 이미 방문한 적이 있기 때문에 자동으로 걸러짐\n",
    "4. 1개의 노드만 있어도 트리가 될 수 있다. "
   ]
  },
  {
   "cell_type": "markdown",
   "id": "505cfeaa-b69d-4fb8-8876-46e37ee86e04",
   "metadata": {},
   "source": [
    "### 연결 요소\n",
    "- 모든 정점이 서로 연결되어 있는 정점의 부분 집합이다\n",
    "- 그래프는 1개 이상의 연결 요소로 이루어져 있다.\n",
    "\n",
    "### 트리의 성질\n",
    "1. 사이클이 없다\n",
    "2. 정점이 n개, 간선이 n-1개 있다\n",
    "3. 임의의 두 정점에 대해 경로가 유일하다\n",
    "\n",
    "### 주어진 그래프에는 여러 개의 트리가 있을 수 있다\n",
    "- 케이스 1은 1~4가 연결되어 있고, 5, 6은 연결되어 있지 않은 노드임\n",
    "- 1~4가 사이클을 이루지 않고(1-2-3-4), 간선이 3개임\n",
    "- 5, 6은 따로 있는 노드이며, 간선이 0개임 \n",
    "- 그래서 3개의 트리가 있다고 할 수 있는 것"
   ]
  },
  {
   "cell_type": "code",
   "execution_count": null,
   "id": "2028d232-8fe5-41ac-9aab-d134ed5de572",
   "metadata": {},
   "outputs": [],
   "source": [
    "import sys\n",
    "input = sys.stdin.readline\n",
    "\n",
    "def dfs(prev, node):\n",
    "    visited[node] = True # 방문처리\n",
    "    for n in graph[node]:\n",
    "        if n == prev:\n",
    "            continue\n",
    "        if visited[n]:\n",
    "            return False\n",
    "        if not dfs(node, n):\n",
    "            return False\n",
    "    return True\n",
    "\n",
    "tc = 0\n",
    "while True:\n",
    "    tc += 1\n",
    "    N, M = map(int, input().split())\n",
    "    if [N, M] == [0, 0]: \n",
    "        break\n",
    "    graph = [[] for _ in range(N+1)] \n",
    "    visited = [False] * (N+1) # 방문 여부\n",
    "    for _ in range(M):\n",
    "        a, b = map(int, input().split())\n",
    "        graph[a].append(b) \n",
    "        graph[b].append(a)\n",
    "\n",
    "    cnt = 0 # 트리의 개수\n",
    "    for v in range(1, N+1):\n",
    "        if not visited[v]: # 방문하지 않은 경우만 DFS 수행\n",
    "            if dfs(0, v):\n",
    "                cnt += 1 # 사이클이 없는 경우 트리 개수 증가\n",
    "    if cnt == 0:\n",
    "        print(\"Case {}: No trees.\".format(tc))\n",
    "    elif cnt == 1:\n",
    "        print(\"Case {}: There is one tree.\".format(tc))\n",
    "    else:\n",
    "        print(\"Case {}: A forest of {} trees.\".format(tc, cnt))"
   ]
  }
 ],
 "metadata": {
  "kernelspec": {
   "display_name": "Python 3 (ipykernel)",
   "language": "python",
   "name": "python3"
  },
  "language_info": {
   "codemirror_mode": {
    "name": "ipython",
    "version": 3
   },
   "file_extension": ".py",
   "mimetype": "text/x-python",
   "name": "python",
   "nbconvert_exporter": "python",
   "pygments_lexer": "ipython3",
   "version": "3.9.13"
  }
 },
 "nbformat": 4,
 "nbformat_minor": 5
}
