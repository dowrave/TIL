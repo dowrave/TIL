{
 "cells": [
  {
   "cell_type": "code",
   "execution_count": 49,
   "id": "7924df41-6c2f-4380-831e-b99d5fb5bb5d",
   "metadata": {},
   "outputs": [
    {
     "name": "stdout",
     "output_type": "stream",
     "text": [
      "40\n"
     ]
    }
   ],
   "source": [
    "import sys\n",
    "sys.stdin = open('test.txt', 'r')\n",
    "input = sys.stdin.readline\n",
    "\n",
    "# 2개의 체스판에 대한 누적값이 필요함\n",
    "# 같은 알고리즘을 2번 반복해야 하므로 함수를 구현해서 만든다\n",
    "\n",
    "def get_fault(color: str):\n",
    "\n",
    "    if color == 'B':\n",
    "        another = 'W'\n",
    "    elif color == 'W':\n",
    "        another = 'B'\n",
    "    else:\n",
    "        return\n",
    "    \n",
    "    # 0. 인덱스 문제 해결을 위해 2차원 행렬은 +1로 만들고 1,1부터 시작\n",
    "    dp = [[0] * (M+1) for _ in range(N+1)]\n",
    "\n",
    "    # 1. 각 칸에 대해 고쳐야 하는 칸을 1로 표시함\n",
    "    for i in range(1, N+1):\n",
    "        for j in range(1, M+1):\n",
    "            # 체스판 조건\n",
    "            if (i+j) % 2 == 0 and matrix[i-1][j-1] == color:\n",
    "                dp[i][j] = 0\n",
    "            elif (i+j) % 2 == 1 and matrix[i-1][j-1] == another:\n",
    "                dp[i][j] = 0\n",
    "            else:\n",
    "                dp[i][j] = 1\n",
    "\n",
    "    # 2. 2차원 누적합 행렬 계산\n",
    "    for i in range(1, N+1):\n",
    "        for j in range(1, M+1):\n",
    "            dp[i][j] = dp[i-1][j] + dp[i][j-1] - dp[i-1][j-1] + dp[i][j]\n",
    "\n",
    "    # 3. K*K 행렬을 잘라냈을 때, 그 행렬에서 고쳐야 하는 갯수\n",
    "    count = sys.maxsize \n",
    "    for i in range(1, N-K+2):\n",
    "        for j in range(1, M-K+2):\n",
    "            count = min(count, dp[i+K-1][j+K-1] - dp[i+K-1][j-1] - dp[i-1][j+K-1] + dp[i-1][j-1])\n",
    "\n",
    "    return count\n",
    "\n",
    "N, M, K = map(int, input().split())\n",
    "\n",
    "matrix = []\n",
    "for _ in range(N):\n",
    "    matrix.append(list(input().strip()))\n",
    "\n",
    "print(min(get_fault('B'), get_fault('W')))"
   ]
  },
  {
   "cell_type": "markdown",
   "id": "a8d62b99-279b-43a0-85d2-a5339d99c4f5",
   "metadata": {},
   "source": [
    "![체스판2](체스판2.jpg)"
   ]
  },
  {
   "cell_type": "markdown",
   "id": "8f25e229-4639-435d-9bfa-1ba27ad8c5e5",
   "metadata": {},
   "source": [
    "### Python3으로 제출하면 시간 초과, pypy3으로 제출하면 잘 뜸"
   ]
  },
  {
   "cell_type": "code",
   "execution_count": 48,
   "id": "09c14df6-28bf-413b-a5a0-78e1b0bcbd41",
   "metadata": {},
   "outputs": [
    {
     "data": {
      "text/plain": [
       "9223372036854775807"
      ]
     },
     "execution_count": 48,
     "metadata": {},
     "output_type": "execute_result"
    }
   ],
   "source": []
  },
  {
   "cell_type": "code",
   "execution_count": null,
   "id": "17438628-2a67-4cf8-b8e8-d6b8c28b7844",
   "metadata": {},
   "outputs": [],
   "source": []
  }
 ],
 "metadata": {
  "kernelspec": {
   "display_name": "Python 3 (ipykernel)",
   "language": "python",
   "name": "python3"
  },
  "language_info": {
   "codemirror_mode": {
    "name": "ipython",
    "version": 3
   },
   "file_extension": ".py",
   "mimetype": "text/x-python",
   "name": "python",
   "nbconvert_exporter": "python",
   "pygments_lexer": "ipython3",
   "version": "3.9.13"
  }
 },
 "nbformat": 4,
 "nbformat_minor": 5
}
