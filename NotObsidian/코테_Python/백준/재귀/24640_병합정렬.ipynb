{
 "cells": [
  {
   "cell_type": "code",
   "execution_count": 69,
   "id": "5b684883-ba10-4085-a52b-cfa3cd5462e4",
   "metadata": {},
   "outputs": [
    {
     "name": "stdout",
     "output_type": "stream",
     "text": [
      "-1\n"
     ]
    }
   ],
   "source": [
    "import sys\n",
    "\n",
    "def merge_sort(arr):\n",
    "    global count, target\n",
    "    \n",
    "    if len(arr) < 2:\n",
    "        return arr\n",
    "\n",
    "    \n",
    "    mid = len(arr) // 2\n",
    "    low_arr = merge_sort(arr[:mid])\n",
    "    high_arr = merge_sort(arr[mid:])\n",
    "    merged_arr = []\n",
    "    \n",
    "    low = high = 0\n",
    "    \n",
    "    # n개의 원소를 가진 2개의 리스트를 비교함\n",
    "    # 각각의 array에서 가장 작은 인덱스부터 출발\n",
    "    # 작은 값부터 비어있는 merged_arr에 채워넣음\n",
    "    \n",
    "    # 종결 조건 : 인덱스가 array 길이값에 도달하면 인덱스 초과니까 끝\n",
    "    # 하나라도 넘어가면 반복문 끝냄\n",
    "    while low < len(low_arr) and high < len(high_arr):\n",
    "        if low_arr[low] < high_arr[high]:\n",
    "            merged_arr.append(low_arr[low])\n",
    "            if count == K:\n",
    "                target = low_arr[low]\n",
    "            count += 1\n",
    "            low += 1\n",
    "        else: # 같은 경우는 크게 상관 없을 듯\n",
    "            merged_arr.append(high_arr[high])\n",
    "            if count == K:\n",
    "                target = high_arr[high]\n",
    "            count += 1\n",
    "            high += 1\n",
    "\n",
    "    # 반복문을 끝냈을 때 어느 한 쪽의 값은 남아 있을 거임. 뒤처리\n",
    "    while low < len(low_arr):\n",
    "        merged_arr.append(low_arr[low])\n",
    "        if count == K:\n",
    "            target = low_arr[low]\n",
    "        count += 1\n",
    "        low += 1\n",
    "        \n",
    "    while high < len(high_arr):\n",
    "        merged_arr.append(high_arr[high])\n",
    "        \n",
    "        if count == K:\n",
    "            target = high_arr[high]\n",
    "    \n",
    "        count += 1\n",
    "        high += 1\n",
    "\n",
    "    return merged_arr \n",
    "\n",
    "sys.stdin = open('test.txt')\n",
    "N, K = map(int, sys.stdin.readline().split())\n",
    "\n",
    "lst = list(map(int, sys.stdin.readline().split()))\n",
    "count = 1\n",
    "target = -1\n",
    "\n",
    "lst = merge_sort(lst)\n",
    "\n",
    "if count < K:\n",
    "    target = -1\n",
    "\n",
    "print(target)"
   ]
  },
  {
   "cell_type": "code",
   "execution_count": 60,
   "id": "b15e2afc-1ac5-4298-9dfa-da2b8fc0514e",
   "metadata": {},
   "outputs": [
    {
     "name": "stdout",
     "output_type": "stream",
     "text": [
      "3\n"
     ]
    }
   ],
   "source": [
    "import sys\n",
    "input = sys.stdin.readline\n",
    "\n",
    "def merge_sort(L):\n",
    "    if len(L) == 1:\n",
    "        return L\n",
    "    \n",
    "    mid = (len(L)+1)//2\n",
    "   \n",
    "    left = merge_sort(L[:mid])\n",
    "    right = merge_sort(L[mid:])\n",
    "    \n",
    "    i,j = 0,0\n",
    "    L2 = []\n",
    "    while i < len(left) and j < len(right):\n",
    "        if left[i] < right[j]:\n",
    "            L2.append(left[i])\n",
    "            ans.append(left[i])\n",
    "            i+=1\n",
    "        else:\n",
    "            L2.append(right[j])\n",
    "            ans.append(right[j])\n",
    "            j+=1\n",
    "    while i < len(left):\n",
    "        L2.append(left[i])\n",
    "        ans.append(left[i])\n",
    "        i+=1\n",
    "    while j < len(right):\n",
    "        L2.append(right[j])\n",
    "        ans.append(right[j])\n",
    "        j+=1\n",
    "    \n",
    "    return L2\n",
    "\n",
    "n, k = map(int,input().split())\n",
    "a = list(map(int,input().split()))\n",
    "ans = []\n",
    "merge_sort(a)\n",
    "\n",
    "if len(ans) >= k:\n",
    "    print(ans[k-1])\n",
    "else:\n",
    "    print(-1)"
   ]
  },
  {
   "cell_type": "code",
   "execution_count": null,
   "id": "7b54ccc7-2d0d-412c-b3c6-b2ca45ebbf48",
   "metadata": {},
   "outputs": [],
   "source": []
  },
  {
   "cell_type": "code",
   "execution_count": null,
   "id": "0f0097c7-dc45-4dca-b493-749e6cc0a958",
   "metadata": {},
   "outputs": [],
   "source": []
  }
 ],
 "metadata": {
  "kernelspec": {
   "display_name": "Python 3 (ipykernel)",
   "language": "python",
   "name": "python3"
  },
  "language_info": {
   "codemirror_mode": {
    "name": "ipython",
    "version": 3
   },
   "file_extension": ".py",
   "mimetype": "text/x-python",
   "name": "python",
   "nbconvert_exporter": "python",
   "pygments_lexer": "ipython3",
   "version": "3.9.13"
  }
 },
 "nbformat": 4,
 "nbformat_minor": 5
}
