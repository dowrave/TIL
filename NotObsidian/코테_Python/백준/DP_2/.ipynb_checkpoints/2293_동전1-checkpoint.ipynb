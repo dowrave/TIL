{
 "cells": [
  {
   "cell_type": "code",
   "execution_count": 3,
   "id": "e9048352-6f38-492d-a0ca-8e2dc2bead5a",
   "metadata": {},
   "outputs": [
    {
     "name": "stdout",
     "output_type": "stream",
     "text": [
      "[1, 1, 1, 1, 1, 1, 1, 1, 1, 1, 1]\n",
      "[1, 1, 2, 2, 3, 3, 4, 4, 5, 5, 6]\n",
      "[1, 1, 2, 2, 3, 4, 5, 6, 7, 8, 10]\n",
      "10\n"
     ]
    }
   ],
   "source": [
    "import sys\n",
    "sys.stdin = open('test.txt' ,'r')\n",
    "input = sys.stdin.readline\n",
    "\n",
    "n, k = map(int, input().split())\n",
    "\n",
    "# n가지 종류의 동전을 가치의 합이 k원이 되도록 하고 싶다\n",
    "# 그 경우의 수를 구하시오 (구성이 같고 순서가 다르다면 같은 경우의 수)\n",
    "\n",
    "dp = [0] * (k + 1)\n",
    "dp[0] = 1 # 마지막 dp에 쓰이진 않으나 최초 1개가 들어올 때 더해주기 위한 값\n",
    "\n",
    "for _ in range(n):\n",
    "    INPUT =  int(input())\n",
    "    for i in range(INPUT, k + 1):\n",
    "        dp[i] += dp[i - INPUT]\n",
    "    print(dp)\n",
    "\n",
    "print(dp[-1])"
   ]
  },
  {
   "cell_type": "markdown",
   "id": "a6b8c7e1-5b73-4eb1-ac58-845639dfe678",
   "metadata": {},
   "source": [
    "# 이게 왜 되는가?\n",
    "- 기본 ) dp는 결국 이전 값들을 토대로 해서 다음 값을 계산하는 방식임\n",
    "- 그러면 중요한 건 초기화 + 어떤 값을 구성하는 방식 2가지일 것임\n",
    "\n",
    "1. 우선 각 input 값에 대해, 그 값 \"까지\"를 이용해 어떤 수를 나타낼 수 있는 경우의 수를 계산할 것임. 그래서 부분으로 쪼갬 : 각 input에 대해 k값까지의 경우의 수를 나타내는 행렬 dp를 정의함\n",
    "\n",
    "2. 문제는 이전 값을 어떤 방식으로 참고할 것이냐는 거다. 이를 위해 조건을 나열해봐야 한다.\n",
    "```\n",
    "예제 처럼 k = 10, input = 1, 2, 5라고 생각해보자\n",
    "이 때 dp는 k+1로 구성하므로 [0] * 11이 된다.\n",
    "\n",
    "input = 1이라면 각 값은 1로만 구성되므로 0을 제외하면 모두 1이 되는데,\n",
    "이를 이렇게 생각해보자 : 예를 들어 2는 1 1 이라는 1가지 경우만이 있는데, 이 1 1을 구성하는 방법은 앞에 나온 1 + 이번에 새로 붙일 1 이라고 하는 것이다. 기존 경우의 수만을 이용하므로, 그 값은 1로 동일하다.\n",
    "\n",
    "input = 2와 인덱스 2, 3, 4에 대해 생각해보자\n",
    "2 : dp에는 이미 1 1이라는 경우의 수가 들어가 있다. 거기에 더해, 2라는 경우의 수도 추가되어 dp 값은 2가 된다.\n",
    "3 : dp에는 1 1 1 이라는 경우의 수가 있으며, 거기에 1 2 라는 경우의 수가 추가되어 dp 값은 2가 된다.\n",
    "4 : dp에는 1 1 1 1 이 기존에 있었고, 여기에 더해 1 1 2와 2 2 가 추가되어 dp 값은 3이 된다.\n",
    "\n",
    "위 방식에서 2는 초기화 조건으로 그냥 1을 추가한다고 생각해보자\n",
    "3은 어떨까 : 2가 추가된 조건은 1 2 이다. 이는 dp[1]의 값을 빌려왔다고 생각할 수 있을 것이다. dp[1]은 1로만 구성되었는데, 거기에 지금 추가하는 2의 값을 추가했기 때문이다.\n",
    "4도 마찬가지로 생각할 수 있다. 1 1 1 1이라는 1로만 구성된 기존 dp[4] 외에도 이번에 새로 추가한 2를 제외한 1 1 과 2라는 값은 이미 dp[2]에 있는 조합이다.\n",
    "\n",
    "마지막으로 5에 대해 생각해보자.\n",
    "1에 대해선 1 1 1 1 1.\n",
    "2에 대해선 위의 1가지 + dp[3]이다. dp[3]도 위로 인해 2이므로 2가지.\n",
    "마지막으로 5에 대해 1가지가 추가되므로 4가 된다.\n",
    "\n",
    "...\n",
    "이런 방식으로, 매번 input이 주어질 때 각 dp의 값은 input값부터 출발해서 채워지며, 각 dp가 채워지는 방식은 dp[i-value] 값을 더하는 것 뿐이다.\n",
    "추가로, 최초로 시작하는 값도 dp[0] = 1로 지정해놓으면 간편하게 이용할 수 있다. \n",
    "```"
   ]
  },
  {
   "cell_type": "code",
   "execution_count": null,
   "id": "f0e79886-9cec-4b34-8fd7-6119998ff390",
   "metadata": {},
   "outputs": [],
   "source": []
  }
 ],
 "metadata": {
  "kernelspec": {
   "display_name": "Python 3 (ipykernel)",
   "language": "python",
   "name": "python3"
  },
  "language_info": {
   "codemirror_mode": {
    "name": "ipython",
    "version": 3
   },
   "file_extension": ".py",
   "mimetype": "text/x-python",
   "name": "python",
   "nbconvert_exporter": "python",
   "pygments_lexer": "ipython3",
   "version": "3.9.13"
  }
 },
 "nbformat": 4,
 "nbformat_minor": 5
}
