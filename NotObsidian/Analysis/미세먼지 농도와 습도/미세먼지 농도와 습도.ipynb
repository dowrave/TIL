{
 "cells": [
  {
   "cell_type": "markdown",
   "id": "ffc9ee79-b98c-4050-a9a1-0cd0c4f2fbeb",
   "metadata": {},
   "source": [
    "# 대기 습도와 미세먼지 사이의 관계를 데이터로 보기\n",
    "- 가습기와 공기청정기를 동시에 틀었을 때, 공기 청정기가 팡팡 돌아가는 것을 보면서 들었던 궁금증이다.\n",
    "1. 습도가 높아지면 미세먼지 농도가 높아질까?\n",
    "2. 아니면 공기 중의 수분이 미세먼지를 잡아서 미세먼지 농도를 낮출까?"
   ]
  },
  {
   "cell_type": "markdown",
   "id": "168cc74c-f719-45fa-9b0a-440e9dc7acaa",
   "metadata": {},
   "source": [
    "## 배경 지식을 알기 전에, 2022년 서울시의 습도와 미세먼지 농도를 살펴보자\n",
    "- 데이터 출처 \n",
    "- [습도 데이터](https://data.kma.go.kr/climate/RankState/selectRankStatisticsDivisionList.do)\n",
    "- [미세먼지 데이터]()"
   ]
  },
  {
   "cell_type": "code",
   "execution_count": 70,
   "id": "049b97de-1dd6-44e2-9f7c-1c831e285427",
   "metadata": {},
   "outputs": [
    {
     "data": {
      "text/html": [
       "<div>\n",
       "<style scoped>\n",
       "    .dataframe tbody tr th:only-of-type {\n",
       "        vertical-align: middle;\n",
       "    }\n",
       "\n",
       "    .dataframe tbody tr th {\n",
       "        vertical-align: top;\n",
       "    }\n",
       "\n",
       "    .dataframe thead th {\n",
       "        text-align: right;\n",
       "    }\n",
       "</style>\n",
       "<table border=\"1\" class=\"dataframe\">\n",
       "  <thead>\n",
       "    <tr style=\"text-align: right;\">\n",
       "      <th></th>\n",
       "      <th>\\t\\t지점번호</th>\n",
       "      <th>지점명</th>\n",
       "      <th>일시</th>\n",
       "      <th>평균습도(%rh)</th>\n",
       "      <th>최저습도(%rh)</th>\n",
       "    </tr>\n",
       "  </thead>\n",
       "  <tbody>\n",
       "    <tr>\n",
       "      <th>0</th>\n",
       "      <td>108</td>\n",
       "      <td>서울</td>\n",
       "      <td>2022-01-01</td>\n",
       "      <td>46.3</td>\n",
       "      <td>31.0</td>\n",
       "    </tr>\n",
       "    <tr>\n",
       "      <th>1</th>\n",
       "      <td>108</td>\n",
       "      <td>서울</td>\n",
       "      <td>2022-01-02</td>\n",
       "      <td>57.9</td>\n",
       "      <td>39.0</td>\n",
       "    </tr>\n",
       "    <tr>\n",
       "      <th>2</th>\n",
       "      <td>108</td>\n",
       "      <td>서울</td>\n",
       "      <td>2022-01-03</td>\n",
       "      <td>58.3</td>\n",
       "      <td>35.0</td>\n",
       "    </tr>\n",
       "    <tr>\n",
       "      <th>3</th>\n",
       "      <td>108</td>\n",
       "      <td>서울</td>\n",
       "      <td>2022-01-04</td>\n",
       "      <td>51.8</td>\n",
       "      <td>28.0</td>\n",
       "    </tr>\n",
       "    <tr>\n",
       "      <th>4</th>\n",
       "      <td>108</td>\n",
       "      <td>서울</td>\n",
       "      <td>2022-01-05</td>\n",
       "      <td>47.6</td>\n",
       "      <td>34.0</td>\n",
       "    </tr>\n",
       "  </tbody>\n",
       "</table>\n",
       "</div>"
      ],
      "text/plain": [
       "   \\t\\t지점번호 지점명          일시  평균습도(%rh)  최저습도(%rh)\n",
       "0       108  서울  2022-01-01       46.3       31.0\n",
       "1       108  서울  2022-01-02       57.9       39.0\n",
       "2       108  서울  2022-01-03       58.3       35.0\n",
       "3       108  서울  2022-01-04       51.8       28.0\n",
       "4       108  서울  2022-01-05       47.6       34.0"
      ]
     },
     "metadata": {},
     "output_type": "display_data"
    },
    {
     "data": {
      "text/html": [
       "<div>\n",
       "<style scoped>\n",
       "    .dataframe tbody tr th:only-of-type {\n",
       "        vertical-align: middle;\n",
       "    }\n",
       "\n",
       "    .dataframe tbody tr th {\n",
       "        vertical-align: top;\n",
       "    }\n",
       "\n",
       "    .dataframe thead th {\n",
       "        text-align: right;\n",
       "    }\n",
       "</style>\n",
       "<table border=\"1\" class=\"dataframe\">\n",
       "  <thead>\n",
       "    <tr style=\"text-align: right;\">\n",
       "      <th></th>\n",
       "      <th>일시</th>\n",
       "      <th>구분</th>\n",
       "      <th>미세먼지(PM10)</th>\n",
       "      <th>초미세먼지(PM2.5)</th>\n",
       "    </tr>\n",
       "  </thead>\n",
       "  <tbody>\n",
       "    <tr>\n",
       "      <th>0</th>\n",
       "      <td>2022-12-31 23:00</td>\n",
       "      <td>평균</td>\n",
       "      <td>59.0</td>\n",
       "      <td>46.0</td>\n",
       "    </tr>\n",
       "    <tr>\n",
       "      <th>1</th>\n",
       "      <td>2022-12-31 23:00</td>\n",
       "      <td>강남구</td>\n",
       "      <td>57.0</td>\n",
       "      <td>44.0</td>\n",
       "    </tr>\n",
       "    <tr>\n",
       "      <th>2</th>\n",
       "      <td>2022-12-31 23:00</td>\n",
       "      <td>강동구</td>\n",
       "      <td>68.0</td>\n",
       "      <td>55.0</td>\n",
       "    </tr>\n",
       "    <tr>\n",
       "      <th>3</th>\n",
       "      <td>2022-12-31 23:00</td>\n",
       "      <td>강북구</td>\n",
       "      <td>59.0</td>\n",
       "      <td>42.0</td>\n",
       "    </tr>\n",
       "    <tr>\n",
       "      <th>4</th>\n",
       "      <td>2022-12-31 23:00</td>\n",
       "      <td>강서구</td>\n",
       "      <td>62.0</td>\n",
       "      <td>40.0</td>\n",
       "    </tr>\n",
       "  </tbody>\n",
       "</table>\n",
       "</div>"
      ],
      "text/plain": [
       "                 일시   구분  미세먼지(PM10)  초미세먼지(PM2.5)\n",
       "0  2022-12-31 23:00   평균        59.0          46.0\n",
       "1  2022-12-31 23:00  강남구        57.0          44.0\n",
       "2  2022-12-31 23:00  강동구        68.0          55.0\n",
       "3  2022-12-31 23:00  강북구        59.0          42.0\n",
       "4  2022-12-31 23:00  강서구        62.0          40.0"
      ]
     },
     "execution_count": 70,
     "metadata": {},
     "output_type": "execute_result"
    }
   ],
   "source": [
    "import pandas as pd\n",
    "import chardet # 파일의 인코딩을 자동으로 감지해줌 : GPT 무섭다 ㄹㅇ\n",
    "\n",
    "with open('2022_humidity.csv', 'rb') as f:\n",
    "    result = chardet.detect(f.read())\n",
    "# result : {'encoding': 'EUC-KR', 'confidence': 0.99, 'language': 'Korean'}\n",
    "    \n",
    "humidity = pd.read_csv('2022_humidity.csv', \n",
    "                       encoding = result['encoding'],\n",
    "                      )\n",
    "\n",
    "# 둘다 'EUC-KR'인데, 2번째로 chardet을 실행하면 루프에 빠지는 듯?\n",
    "\n",
    "\n",
    "particle = pd.read_csv('2022_particle.csv', \n",
    "                       encoding = result['encoding'])\n",
    "\n",
    "display(humidity.head(5))\n",
    "particle.head(5)"
   ]
  },
  {
   "cell_type": "markdown",
   "id": "05b2bf9d-a7cf-406b-9689-672fffd70953",
   "metadata": {},
   "source": [
    "### `humidty` 수정 내용\n",
    "1. `지점번호, 지점명` column 제거\n",
    "2. `일시` column 시계열 데이터로 변경"
   ]
  },
  {
   "cell_type": "code",
   "execution_count": 71,
   "id": "b3eddb3e-0d88-4170-a962-3882d7dadefc",
   "metadata": {},
   "outputs": [],
   "source": [
    "humidity = humidity.drop(['\\t\\t지점번호', '지점명'], axis = 1)\n",
    "humidity.sample(5)\n",
    "humidity['일시'] = pd.to_datetime(humidity['일시'])"
   ]
  },
  {
   "cell_type": "code",
   "execution_count": 72,
   "id": "0b67d86f-f4c1-4e47-a35a-5145cef873ce",
   "metadata": {},
   "outputs": [
    {
     "data": {
      "text/html": [
       "<div>\n",
       "<style scoped>\n",
       "    .dataframe tbody tr th:only-of-type {\n",
       "        vertical-align: middle;\n",
       "    }\n",
       "\n",
       "    .dataframe tbody tr th {\n",
       "        vertical-align: top;\n",
       "    }\n",
       "\n",
       "    .dataframe thead th {\n",
       "        text-align: right;\n",
       "    }\n",
       "</style>\n",
       "<table border=\"1\" class=\"dataframe\">\n",
       "  <thead>\n",
       "    <tr style=\"text-align: right;\">\n",
       "      <th></th>\n",
       "      <th>일시</th>\n",
       "      <th>평균습도(%rh)</th>\n",
       "      <th>최저습도(%rh)</th>\n",
       "    </tr>\n",
       "  </thead>\n",
       "  <tbody>\n",
       "    <tr>\n",
       "      <th>0</th>\n",
       "      <td>2022-01-01</td>\n",
       "      <td>46.3</td>\n",
       "      <td>31.0</td>\n",
       "    </tr>\n",
       "    <tr>\n",
       "      <th>1</th>\n",
       "      <td>2022-01-02</td>\n",
       "      <td>57.9</td>\n",
       "      <td>39.0</td>\n",
       "    </tr>\n",
       "  </tbody>\n",
       "</table>\n",
       "</div>"
      ],
      "text/plain": [
       "          일시  평균습도(%rh)  최저습도(%rh)\n",
       "0 2022-01-01       46.3       31.0\n",
       "1 2022-01-02       57.9       39.0"
      ]
     },
     "execution_count": 72,
     "metadata": {},
     "output_type": "execute_result"
    }
   ],
   "source": [
    "humidity.head(2)"
   ]
  },
  {
   "cell_type": "markdown",
   "id": "260d6a94-3a24-4505-b686-33b829b3c39d",
   "metadata": {},
   "source": [
    "### `particle` 수정 내용\n",
    "1. 각 시간과 지역 별로 구분되어 있음 -> 구분에서 \"평균\"만 취한다\n",
    "2. 시간들도 통합한다 : 전체 시간의 평균 값을 취함"
   ]
  },
  {
   "cell_type": "code",
   "execution_count": 74,
   "id": "74882d17-8d2f-4527-92ec-de0538101ce2",
   "metadata": {},
   "outputs": [],
   "source": [
    "particle = particle[particle['구분'] == '평균'][:]\n",
    "particle['일시'] = (pd.to_datetime(particle['일시']).dt\n",
    "                                                    .date # 이거 결과가 의외로 object다.\n",
    "                                                    .astype('datetime64')    \n",
    "                 ) \n",
    "particle = (particle.groupby('일시')\n",
    "         .mean(['미세먼지(PM10)', '초미세먼지(PM2.5)'])\n",
    "         .reset_index()\n",
    "         .set_index('일시')\n",
    ")\n"
   ]
  },
  {
   "cell_type": "code",
   "execution_count": 75,
   "id": "b6d97662-18bc-48dc-bb49-ef3ad3f666ca",
   "metadata": {},
   "outputs": [
    {
     "data": {
      "text/html": [
       "<div>\n",
       "<style scoped>\n",
       "    .dataframe tbody tr th:only-of-type {\n",
       "        vertical-align: middle;\n",
       "    }\n",
       "\n",
       "    .dataframe tbody tr th {\n",
       "        vertical-align: top;\n",
       "    }\n",
       "\n",
       "    .dataframe thead th {\n",
       "        text-align: right;\n",
       "    }\n",
       "</style>\n",
       "<table border=\"1\" class=\"dataframe\">\n",
       "  <thead>\n",
       "    <tr style=\"text-align: right;\">\n",
       "      <th></th>\n",
       "      <th>PM10</th>\n",
       "      <th>PM2.5</th>\n",
       "    </tr>\n",
       "    <tr>\n",
       "      <th>일시</th>\n",
       "      <th></th>\n",
       "      <th></th>\n",
       "    </tr>\n",
       "  </thead>\n",
       "  <tbody>\n",
       "    <tr>\n",
       "      <th>2022-01-01</th>\n",
       "      <td>27.0</td>\n",
       "      <td>15.0</td>\n",
       "    </tr>\n",
       "    <tr>\n",
       "      <th>2022-01-02</th>\n",
       "      <td>35.0</td>\n",
       "      <td>23.0</td>\n",
       "    </tr>\n",
       "    <tr>\n",
       "      <th>2022-01-03</th>\n",
       "      <td>25.0</td>\n",
       "      <td>15.0</td>\n",
       "    </tr>\n",
       "    <tr>\n",
       "      <th>2022-01-04</th>\n",
       "      <td>34.0</td>\n",
       "      <td>20.0</td>\n",
       "    </tr>\n",
       "    <tr>\n",
       "      <th>2022-01-05</th>\n",
       "      <td>48.0</td>\n",
       "      <td>29.0</td>\n",
       "    </tr>\n",
       "  </tbody>\n",
       "</table>\n",
       "</div>"
      ],
      "text/plain": [
       "            PM10  PM2.5\n",
       "일시                     \n",
       "2022-01-01  27.0   15.0\n",
       "2022-01-02  35.0   23.0\n",
       "2022-01-03  25.0   15.0\n",
       "2022-01-04  34.0   20.0\n",
       "2022-01-05  48.0   29.0"
      ]
     },
     "execution_count": 75,
     "metadata": {},
     "output_type": "execute_result"
    }
   ],
   "source": [
    "particle = particle.rename(columns = {'미세먼지(PM10)' : 'PM10', '초미세먼지(PM2.5)' : 'PM2.5'})\n",
    "particle = particle[['PM10', 'PM2.5']].apply(lambda x : round(x, 0))\n",
    "particle.head()"
   ]
  },
  {
   "cell_type": "markdown",
   "id": "26ebb377-91ce-43f5-bee5-f3a9414f5379",
   "metadata": {},
   "source": [
    "## 두 df 합치기"
   ]
  },
  {
   "cell_type": "code",
   "execution_count": 78,
   "id": "3f338d1f-c80e-4a24-9386-d3ed811d4ad3",
   "metadata": {},
   "outputs": [
    {
     "data": {
      "text/html": [
       "<div>\n",
       "<style scoped>\n",
       "    .dataframe tbody tr th:only-of-type {\n",
       "        vertical-align: middle;\n",
       "    }\n",
       "\n",
       "    .dataframe tbody tr th {\n",
       "        vertical-align: top;\n",
       "    }\n",
       "\n",
       "    .dataframe thead th {\n",
       "        text-align: right;\n",
       "    }\n",
       "</style>\n",
       "<table border=\"1\" class=\"dataframe\">\n",
       "  <thead>\n",
       "    <tr style=\"text-align: right;\">\n",
       "      <th></th>\n",
       "      <th>일시</th>\n",
       "      <th>평균습도(%rh)</th>\n",
       "      <th>최저습도(%rh)</th>\n",
       "      <th>PM10</th>\n",
       "      <th>PM2.5</th>\n",
       "    </tr>\n",
       "  </thead>\n",
       "  <tbody>\n",
       "    <tr>\n",
       "      <th>0</th>\n",
       "      <td>2022-01-01</td>\n",
       "      <td>46.3</td>\n",
       "      <td>31.0</td>\n",
       "      <td>27.0</td>\n",
       "      <td>15.0</td>\n",
       "    </tr>\n",
       "    <tr>\n",
       "      <th>1</th>\n",
       "      <td>2022-01-02</td>\n",
       "      <td>57.9</td>\n",
       "      <td>39.0</td>\n",
       "      <td>35.0</td>\n",
       "      <td>23.0</td>\n",
       "    </tr>\n",
       "    <tr>\n",
       "      <th>2</th>\n",
       "      <td>2022-01-03</td>\n",
       "      <td>58.3</td>\n",
       "      <td>35.0</td>\n",
       "      <td>25.0</td>\n",
       "      <td>15.0</td>\n",
       "    </tr>\n",
       "    <tr>\n",
       "      <th>3</th>\n",
       "      <td>2022-01-04</td>\n",
       "      <td>51.8</td>\n",
       "      <td>28.0</td>\n",
       "      <td>34.0</td>\n",
       "      <td>20.0</td>\n",
       "    </tr>\n",
       "    <tr>\n",
       "      <th>4</th>\n",
       "      <td>2022-01-05</td>\n",
       "      <td>47.6</td>\n",
       "      <td>34.0</td>\n",
       "      <td>48.0</td>\n",
       "      <td>29.0</td>\n",
       "    </tr>\n",
       "  </tbody>\n",
       "</table>\n",
       "</div>"
      ],
      "text/plain": [
       "          일시  평균습도(%rh)  최저습도(%rh)  PM10  PM2.5\n",
       "0 2022-01-01       46.3       31.0  27.0   15.0\n",
       "1 2022-01-02       57.9       39.0  35.0   23.0\n",
       "2 2022-01-03       58.3       35.0  25.0   15.0\n",
       "3 2022-01-04       51.8       28.0  34.0   20.0\n",
       "4 2022-01-05       47.6       34.0  48.0   29.0"
      ]
     },
     "execution_count": 78,
     "metadata": {},
     "output_type": "execute_result"
    }
   ],
   "source": [
    "df = pd.merge(humidity, particle, on = '일시')\n",
    "df.head()"
   ]
  },
  {
   "cell_type": "code",
   "execution_count": 82,
   "id": "30320687-dabd-4507-badd-684c5b973499",
   "metadata": {},
   "outputs": [
    {
     "name": "stdout",
     "output_type": "stream",
     "text": [
      "<class 'pandas.core.frame.DataFrame'>\n",
      "Int64Index: 365 entries, 0 to 364\n",
      "Data columns (total 5 columns):\n",
      " #   Column     Non-Null Count  Dtype         \n",
      "---  ------     --------------  -----         \n",
      " 0   일시         365 non-null    datetime64[ns]\n",
      " 1   평균습도(%rh)  365 non-null    float64       \n",
      " 2   최저습도(%rh)  365 non-null    float64       \n",
      " 3   PM10       365 non-null    float64       \n",
      " 4   PM2.5      365 non-null    float64       \n",
      "dtypes: datetime64[ns](1), float64(4)\n",
      "memory usage: 17.1 KB\n"
     ]
    }
   ],
   "source": [
    "df.info()\n",
    "df.to_csv('2022_hum_particle.csv')"
   ]
  },
  {
   "cell_type": "markdown",
   "id": "7167d58d-a39b-4be2-9ba1-babd9d865f7f",
   "metadata": {},
   "source": [
    "## 시각화는 Tableau로 진행함\n",
    "![image](image1.PNG)"
   ]
  },
  {
   "cell_type": "markdown",
   "id": "f8c6da96-e34c-4a6c-9946-61adb71f81ca",
   "metadata": {},
   "source": [
    "1. 여름에는 습도가 높아지는 경향이 있고, 미세먼지 농도는 높아지는 경향이 있다.\n",
    "2. 그러나 일자 데이터를 제외한 평균 습도와 미세먼지 농도 간의 상관관계의 추세선(2차)을 그려보면, \n",
    "    - PM10의 상관계수는 0.077, P-value는 0.0001 미만\n",
    "    - PM2.5의 상관계수는 0.068, P-value는 0.0001 미만이 나왔다.\n",
    "- 즉, 크지 않은 양의 상관관계가 나왔는데..."
   ]
  },
  {
   "cell_type": "markdown",
   "id": "ec4385fa-418a-4ba8-8f37-4e9ec07133d4",
   "metadata": {},
   "source": [
    "# 특성 간의 상관관계"
   ]
  },
  {
   "cell_type": "code",
   "execution_count": null,
   "id": "38cb984a-82a2-438e-9a3b-2de517861def",
   "metadata": {},
   "outputs": [
    {
     "data": {
      "text/plain": [
       "<AxesSubplot:>"
      ]
     },
     "execution_count": 97,
     "metadata": {},
     "output_type": "execute_result"
    },
    {
     "data": {
      "image/png": "[encoded data removed]",
      "text/plain": [
       "<Figure size 432x288 with 2 Axes>"
      ]
     },
     "metadata": {
      "needs_background": "light"
     },
     "output_type": "display_data"
    }
   ],
   "source": [
    "import seaborn as sns\n",
    "import matplotlib.pyplot as plt\n",
    "\n",
    "plt.rc('font', family='NanumGothic')\n",
    "\n",
    "sns.heatmap(data = df.corr(),\n",
    "           annot = True,\n",
    "           fmt = '.2f')"
   ]
  },
  {
   "cell_type": "markdown",
   "id": "ccb5fb7e-64ba-4b19-be2e-f053b3ca9544",
   "metadata": {},
   "source": [
    "- 평균 습도를 기준으로, 둘 모두 약한 음의 상관관계를 보인다."
   ]
  },
  {
   "cell_type": "markdown",
   "id": "1082fe17-3585-4f1b-9041-1312486b44a6",
   "metadata": {},
   "source": [
    "## 왜 Tableau에서 구한 거랑 다를까?"
   ]
  },
  {
   "cell_type": "code",
   "execution_count": 105,
   "id": "700ff858-2015-40fb-bce3-2148379df9dd",
   "metadata": {},
   "outputs": [
    {
     "name": "stdout",
     "output_type": "stream",
     "text": [
      "(-0.2616081564444299, 3.9901337299466494e-07)\n",
      "(-0.10288182238516726, 0.04952696667586136)\n"
     ]
    }
   ],
   "source": [
    "import scipy.stats as stats\n",
    "\n",
    "print(stats.pearsonr(df['평균습도(%rh)'], df['PM10']))\n",
    "print(stats.pearsonr(df['평균습도(%rh)'], df['PM2.5']))"
   ]
  },
  {
   "cell_type": "markdown",
   "id": "9fb8c704-be92-42f6-8111-84eb565a0f60",
   "metadata": {},
   "source": [
    "### 둘의 스케일이 달라서 그런 거 아닐까?\n",
    "- 이를 수정하기 위해 PM10, PM2.5를 0과 100 사이로 스케일링함"
   ]
  },
  {
   "cell_type": "code",
   "execution_count": 119,
   "id": "5bbeebed-4a20-4d81-a20a-b73415cf1342",
   "metadata": {},
   "outputs": [
    {
     "data": {
      "text/html": [
       "<div>\n",
       "<style scoped>\n",
       "    .dataframe tbody tr th:only-of-type {\n",
       "        vertical-align: middle;\n",
       "    }\n",
       "\n",
       "    .dataframe tbody tr th {\n",
       "        vertical-align: top;\n",
       "    }\n",
       "\n",
       "    .dataframe thead th {\n",
       "        text-align: right;\n",
       "    }\n",
       "</style>\n",
       "<table border=\"1\" class=\"dataframe\">\n",
       "  <thead>\n",
       "    <tr style=\"text-align: right;\">\n",
       "      <th></th>\n",
       "      <th>평균습도(%rh)</th>\n",
       "      <th>최저습도(%rh)</th>\n",
       "      <th>PM10</th>\n",
       "      <th>PM2.5</th>\n",
       "      <th>scaled_PM10</th>\n",
       "      <th>scaled_PM2.5</th>\n",
       "    </tr>\n",
       "  </thead>\n",
       "  <tbody>\n",
       "    <tr>\n",
       "      <th>count</th>\n",
       "      <td>365.000000</td>\n",
       "      <td>365.000000</td>\n",
       "      <td>365.000000</td>\n",
       "      <td>365.000000</td>\n",
       "      <td>365.000000</td>\n",
       "      <td>365.000000</td>\n",
       "    </tr>\n",
       "    <tr>\n",
       "      <th>mean</th>\n",
       "      <td>64.510959</td>\n",
       "      <td>44.276712</td>\n",
       "      <td>32.780822</td>\n",
       "      <td>18.361644</td>\n",
       "      <td>15.096164</td>\n",
       "      <td>18.178356</td>\n",
       "    </tr>\n",
       "    <tr>\n",
       "      <th>std</th>\n",
       "      <td>13.719007</td>\n",
       "      <td>16.382872</td>\n",
       "      <td>19.071472</td>\n",
       "      <td>11.768166</td>\n",
       "      <td>10.365689</td>\n",
       "      <td>13.074665</td>\n",
       "    </tr>\n",
       "    <tr>\n",
       "      <th>min</th>\n",
       "      <td>31.500000</td>\n",
       "      <td>15.000000</td>\n",
       "      <td>5.000000</td>\n",
       "      <td>2.000000</td>\n",
       "      <td>0.000000</td>\n",
       "      <td>0.000000</td>\n",
       "    </tr>\n",
       "    <tr>\n",
       "      <th>25%</th>\n",
       "      <td>53.600000</td>\n",
       "      <td>32.000000</td>\n",
       "      <td>22.000000</td>\n",
       "      <td>10.000000</td>\n",
       "      <td>9.200000</td>\n",
       "      <td>8.900000</td>\n",
       "    </tr>\n",
       "    <tr>\n",
       "      <th>50%</th>\n",
       "      <td>64.400000</td>\n",
       "      <td>42.000000</td>\n",
       "      <td>29.000000</td>\n",
       "      <td>16.000000</td>\n",
       "      <td>13.000000</td>\n",
       "      <td>15.600000</td>\n",
       "    </tr>\n",
       "    <tr>\n",
       "      <th>75%</th>\n",
       "      <td>75.000000</td>\n",
       "      <td>55.000000</td>\n",
       "      <td>40.000000</td>\n",
       "      <td>23.000000</td>\n",
       "      <td>19.000000</td>\n",
       "      <td>23.300000</td>\n",
       "    </tr>\n",
       "    <tr>\n",
       "      <th>max</th>\n",
       "      <td>99.300000</td>\n",
       "      <td>97.000000</td>\n",
       "      <td>189.000000</td>\n",
       "      <td>92.000000</td>\n",
       "      <td>100.000000</td>\n",
       "      <td>100.000000</td>\n",
       "    </tr>\n",
       "  </tbody>\n",
       "</table>\n",
       "</div>"
      ],
      "text/plain": [
       "        평균습도(%rh)   최저습도(%rh)        PM10       PM2.5  scaled_PM10  \\\n",
       "count  365.000000  365.000000  365.000000  365.000000   365.000000   \n",
       "mean    64.510959   44.276712   32.780822   18.361644    15.096164   \n",
       "std     13.719007   16.382872   19.071472   11.768166    10.365689   \n",
       "min     31.500000   15.000000    5.000000    2.000000     0.000000   \n",
       "25%     53.600000   32.000000   22.000000   10.000000     9.200000   \n",
       "50%     64.400000   42.000000   29.000000   16.000000    13.000000   \n",
       "75%     75.000000   55.000000   40.000000   23.000000    19.000000   \n",
       "max     99.300000   97.000000  189.000000   92.000000   100.000000   \n",
       "\n",
       "       scaled_PM2.5  \n",
       "count    365.000000  \n",
       "mean      18.178356  \n",
       "std       13.074665  \n",
       "min        0.000000  \n",
       "25%        8.900000  \n",
       "50%       15.600000  \n",
       "75%       23.300000  \n",
       "max      100.000000  "
      ]
     },
     "execution_count": 119,
     "metadata": {},
     "output_type": "execute_result"
    }
   ],
   "source": [
    "df['scaled_PM10'] = (df['PM10'] - min(df['PM10'])) / (max(df['PM10']) - min(df['PM10'])) * 100\n",
    "df['scaled_PM2.5'] = (df['PM2.5'] - min(df['PM2.5'])) / (max(df['PM2.5']) - min(df['PM2.5'])) * 100\n",
    "df[['scaled_PM10', 'scaled_PM2.5']] = df[['scaled_PM10', 'scaled_PM2.5']].apply(lambda x : round(x, 1))\n",
    "df.describe()"
   ]
  },
  {
   "cell_type": "code",
   "execution_count": 121,
   "id": "4b66eae8-0197-4134-8c65-74196aac5fd8",
   "metadata": {},
   "outputs": [
    {
     "name": "stdout",
     "output_type": "stream",
     "text": [
      "(-0.26166871110678225, 3.964720302322316e-07)\n",
      "(-0.10308194496395774, 0.049083253074411366)\n"
     ]
    }
   ],
   "source": [
    "# 정규화한 피쳐에 피어슨 상관계수 & p-value를 구해도 동일한 값임을 확인할 수 있음\n",
    "print(stats.pearsonr(df['평균습도(%rh)'], df['scaled_PM10']))\n",
    "print(stats.pearsonr(df['평균습도(%rh)'], df['scaled_PM2.5']))"
   ]
  },
  {
   "cell_type": "code",
   "execution_count": null,
   "id": "7f35845f-6716-4779-8183-3f680c19f671",
   "metadata": {},
   "outputs": [],
   "source": [
    "df.to_csv('2022_hum_particle_ver2.csv')"
   ]
  },
  {
   "cell_type": "markdown",
   "id": "fb0add19-800b-4532-bdab-c44c7fd12e84",
   "metadata": {},
   "source": [
    "## 값이 다른 이유 : R^2와 피어슨 상관계수는 다른 지표이기 때문\n",
    "- 회귀식에서 나오는 R^2은 **결정 계수**라고 한다. 데이터의 변동량 중, 추세선으로 설명할 수 있는 부분의 비율을 나타낸다.\n",
    "    - 그래서 **선형회귀식의 차수를 늘려줄 때마다 값이 변경된 것이다 : 회귀선이 바뀌었으니까**\n",
    "- 1에 가까울수록 데이터를 잘 설명하는 모델이지만, 그렇다고 모델이 항상 완벽하다는 것은 아니다."
   ]
  },
  {
   "cell_type": "code",
   "execution_count": 127,
   "id": "aba05058-a71f-4a90-b816-fe584794adf4",
   "metadata": {},
   "outputs": [
    {
     "name": "stdout",
     "output_type": "stream",
     "text": [
      "0.06847051437228446\n",
      "0.010625887377552656\n"
     ]
    }
   ],
   "source": [
    "# 결정계수 구하기\n",
    "from sklearn.linear_model import LinearRegression\n",
    "import numpy as np\n",
    "import statmodels.api as sm\n",
    "\n",
    "# 인풋 x데이터는 2차원이어야 함\n",
    "model = LinearRegression().fit(df['평균습도(%rh)'].to_numpy().reshape(-1, 1), df['scaled_PM10'])\n",
    "r_sq = model.score(df['평균습도(%rh)'].to_numpy().reshape(-1, 1), df['scaled_PM10'])\n",
    "print(r_sq)\n",
    "\n",
    "model = LinearRegression().fit(df['평균습도(%rh)'].to_numpy().reshape(-1, 1), df['scaled_PM2.5'])\n",
    "r_sq = model.score(df['평균습도(%rh)'].to_numpy().reshape(-1, 1), df['scaled_PM2.5'])\n",
    "print(r_sq)"
   ]
  },
  {
   "cell_type": "markdown",
   "id": "5140fb29-5b6c-4bfb-82d3-8d95e7251e73",
   "metadata": {},
   "source": [
    "![image](image2.PNG)"
   ]
  },
  {
   "cell_type": "markdown",
   "id": "1c3e4dbd-591f-4ebb-abaa-bf63d56846a4",
   "metadata": {},
   "source": [
    "- 위 태블로에서 파란 선은 PM2.5 : `R^2 = 0.0108985`\n",
    "- 주황색 선은 PM10 : `R^2 = 0.0680269`\n",
    "\n",
    "- 어쨌든 **결정계수 R^2은 회귀선이 데이터를 잘 설명해줄 수 있는가를 나타낸 값**이기 때문에, 이를 통해 회귀선의 형태를 바꾸면서 적절한 모델을 찾을 수는 있으나 이 결정계수 값 자체가 데이터를 설명한다고 보긴 어려울 것 같다."
   ]
  },
  {
   "cell_type": "markdown",
   "id": "d038e629-081f-4d83-ae2d-7a62df7a694d",
   "metadata": {},
   "source": [
    "## 결론\n",
    "1. 습도와 미세먼지 계수 간의 상관관계는 약한 음의 관계를 나타내며, 초미세먼지가 특히 더 낮은 상관관계를 나타냄(-0.26 VS -0.10)\n",
    "2. 여름에 습도가 올라가면서 미세먼지가 낮아지는 경향을 보인다. \n",
    "\n",
    "---\n",
    "### 기타 지식\n",
    "- 실제로 습도가 올라가면 물에 미세먼지들이 뭉치기 때문에 미세먼지 농도가 낮아지는 경향이 있다고 한다. \n",
    "- 공기 청정기와 가습기가 동시에 틀어지면, 공기 청정기는 가습기에 의해 나온 물 입자를 미세먼지로 인식해서 더 팡팡 돌아가고, 수분 입자가 공기 청정기의 수명에 좋지 않다고 하니 틀지 않는 것이 좋겠다.  \n",
    "\n",
    "---\n",
    "- 그 외에도, 중국에서 바람이 부는 계절은 대체로 건조한 편이고, "
   ]
  },
  {
   "cell_type": "code",
   "execution_count": null,
   "id": "94dc3276-03c4-4c07-93e9-8107100963e2",
   "metadata": {},
   "outputs": [],
   "source": []
  }
 ],
 "metadata": {
  "kernelspec": {
   "display_name": "Python 3 (ipykernel)",
   "language": "python",
   "name": "python3"
  },
  "language_info": {
   "codemirror_mode": {
    "name": "ipython",
    "version": 3
   },
   "file_extension": ".py",
   "mimetype": "text/x-python",
   "name": "python",
   "nbconvert_exporter": "python",
   "pygments_lexer": "ipython3",
   "version": "3.9.13"
  }
 },
 "nbformat": 4,
 "nbformat_minor": 5
}
