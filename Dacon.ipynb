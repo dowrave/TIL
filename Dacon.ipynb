{
  "nbformat": 4,
  "nbformat_minor": 0,
  "metadata": {
    "colab": {
      "private_outputs": true,
      "provenance": [],
      "collapsed_sections": [],
      "authorship_tag": "ABX9TyN2ajdFybskib6tVA84InNr",
      "include_colab_link": true
    },
    "kernelspec": {
      "name": "python3",
      "display_name": "Python 3"
    },
    "language_info": {
      "name": "python"
    }
  },
  "cells": [
    {
      "cell_type": "markdown",
      "metadata": {
        "id": "view-in-github",
        "colab_type": "text"
      },
      "source": [
        "<a href=\"https://colab.research.google.com/github/dowrave/TIL/blob/main/Dacon.ipynb\" target=\"_parent\"><img src=\"https://colab.research.google.com/assets/colab-badge.svg\" alt=\"Open In Colab\"/></a>"
      ]
    },
    {
      "cell_type": "code",
      "execution_count": null,
      "metadata": {
        "id": "eHveP5s3HXEr"
      },
      "outputs": [],
      "source": [
        "from google.colab import drive\n",
        "drive.mount('/content/drive')"
      ]
    },
    {
      "cell_type": "code",
      "source": [
        "import pandas as pd\n",
        "import numpy as np \n",
        "import matplotlib.pyplot as plt\n",
        "import seaborn as sns\n",
        "from sklearn.preprocessing import LabelEncoder\n"
      ],
      "metadata": {
        "id": "lPH0x2y9H2E2"
      },
      "execution_count": null,
      "outputs": []
    },
    {
      "cell_type": "code",
      "source": [
        "\n",
        "test = pd.read_csv('./content/drive/MyDrive/data/test.csv')"
      ],
      "metadata": {
        "id": "dxvSBFKAIbWd"
      },
      "execution_count": null,
      "outputs": []
    },
    {
      "cell_type": "code",
      "source": [
        "train.head(2)"
      ],
      "metadata": {
        "id": "9xYQj5fcItnq"
      },
      "execution_count": null,
      "outputs": []
    },
    {
      "cell_type": "code",
      "source": [
        "train.info()"
      ],
      "metadata": {
        "id": "b__-Mh-hIuj0"
      },
      "execution_count": null,
      "outputs": []
    },
    {
      "cell_type": "code",
      "source": [
        "train = pd.read_csv('/content/drive/MyDrive/data/train.csv')"
      ],
      "metadata": {
        "id": "kGj0wqZbO60m"
      },
      "execution_count": null,
      "outputs": []
    },
    {
      "cell_type": "code",
      "source": [
        "train['PreferredFoot'].unique() # Right, Left\n",
        "train['AttackingWorkRate'].unique() # Medium, High, Low\n",
        "train['DefensiveWorkRate'].unique() # Medium, High, Low"
      ],
      "metadata": {
        "id": "gORC_buWI9Cw"
      },
      "execution_count": null,
      "outputs": []
    },
    {
      "cell_type": "code",
      "source": [
        "# Stacked Bar Plot으로, 위 3가지 항목 + 포지션까지 4가지 항목에 대해 Prospect에 대한 Stacked Bar Plot을 만들고, 아래의 정렬 리스트에 따라 그래프를 정렬해보자."
      ],
      "metadata": {
        "id": "zYyPNEHOZZhH"
      },
      "execution_count": null,
      "outputs": []
    },
    {
      "cell_type": "code",
      "source": [],
      "metadata": {
        "id": "jCBAihqxZZjZ"
      },
      "execution_count": null,
      "outputs": []
    },
    {
      "cell_type": "code",
      "source": [],
      "metadata": {
        "id": "_RHPIXCSZZl0"
      },
      "execution_count": null,
      "outputs": []
    },
    {
      "cell_type": "code",
      "source": [],
      "metadata": {
        "id": "qFYNRGtOZZoI"
      },
      "execution_count": null,
      "outputs": []
    },
    {
      "cell_type": "code",
      "source": [
        "# 이거는 모델에 넣기 전에 진행하면 됨 - 먼저 나눠버리면 X축이 뭘 의미하는지 모르게 됨\n",
        "\n",
        "foot = ['Left', 'Right']\n",
        "work_rate = ['Low', 'Medium', 'High']\n",
        "position = ['GK', 'LB', 'CB', 'RB', 'LWB', 'CDM', 'RWB', 'LM', 'CM', 'RM', 'CAM', 'LW', 'CF', 'RW', 'ST']\n",
        "\n",
        "def column_label_order(df, col, order_lst):\n",
        "\n",
        "  LE = LabelEncoder()\n",
        "  LE.fit(df[col])\n",
        "  LE.classes_ = np.array(order_lst)\n",
        "  df[col] = LE.transform(df[col])\n",
        "\n",
        "\n",
        "column_label_order(train, 'PreferredFoot', ['Left', 'Right'])\n",
        "column_label_order(train, 'AttackingWorkRate', ['Low', 'Medium', 'High'])\n",
        "column_label_order(train, 'DefensiveWorkRate', ['Low', 'Medium', 'High'])\n",
        "column_label_order(train, 'Position', position)\n"
      ],
      "metadata": {
        "id": "vzrlkaJdLH5K"
      },
      "execution_count": null,
      "outputs": []
    }
  ]
}