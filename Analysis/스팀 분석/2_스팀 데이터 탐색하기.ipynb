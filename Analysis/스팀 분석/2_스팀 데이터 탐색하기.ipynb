{
 "cells": [
  {
   "cell_type": "code",
   "execution_count": 32,
   "id": "b4f8e0f1-9cb2-4c91-9fa5-b48c57861539",
   "metadata": {},
   "outputs": [
    {
     "data": {
      "text/plain": [
       "(5000, 17)"
      ]
     },
     "execution_count": 32,
     "metadata": {},
     "output_type": "execute_result"
    }
   ],
   "source": [
    "import pandas as pd\n",
    "\n",
    "df = pd.read_csv('2023-03-27_steam_top_5000.csv')\n",
    "\n",
    "df.shape"
   ]
  },
  {
   "cell_type": "markdown",
   "id": "31df0e28-64d3-4c7b-b793-198c66cecc11",
   "metadata": {},
   "source": [
    "## 1. 특성 정리(전처리)\n",
    "1. `score_rank`, `userscore`는 있는 게임이 거의 없으므로 제거한다.\n",
    "2. `owners` : API에서 정확한 게임의 보유자 수를 제공하지 않고 범주형으로 제공하므로 범주형으로 처리한다\n",
    "    - 조금 더 보기 간편하라고 단위를 m(ilion), k(ilo)로 바꿔서 넣음\n",
    "    - `over 2m` 이랑 `2m ~ 5m` 중 뭐가 더 보기 좋은건지는 모르겠다\n",
    "    - 범주형으로 바꾸고 정렬함(Tableau에서 다시 정렬해야 함)\n",
    "3. 평가 수 -`evaluation_count`\n",
    "    - 3-1. 중심극한의 정리 : 표본이 적당히 크다면(>30) 표본평균의 평균이 이루는 분포는 정규분포를 따른다.\n",
    "        - 좋싫비에 들어가는 값 때문에 고민했던 내용인데, 평가 수가 30개 이상인 게임들만을 데이터프레임에 남겨놓겠음\n",
    "4. 좋아요&싫어요 비율 - `good_ratio` : $\\frac{positive}{positive+negative}$\n",
    "5. `free` : 0과 1로 구성되어 있으며, `initial_price`가 0이면 1, 아니면 0\n",
    "6. `median_owners` : `owners`의 가운뎃값을 수치형 데이터로 얻음\n",
    "7. `count_owner_ratio` : $\\frac{evaulation_counts}{MedianOwners}$\n"
   ]
  },
  {
   "cell_type": "code",
   "execution_count": 33,
   "id": "28637a22-f1dd-4983-bb30-2711de671b66",
   "metadata": {},
   "outputs": [],
   "source": [
    "# 1.\n",
    "df = (df.drop(['score_rank', 'userscore'], axis = 1) # 필요 없는 데이터 제거\n",
    "       .dropna() # publisher, developer에 있는 null값을 axis 기준으로 제거\n",
    "     )\n",
    "\n",
    "# 2. \n",
    "df['owners'].unique()\n",
    "df['owners'].replace({'200,000,000 .. 500,000,000' : '200m ~ 500m',\n",
    "                      '100,000,000 .. 200,000,000' : '100m ~ 200m',\n",
    "                     '50,000,000 .. 100,000,000' : '50m ~ 100m',\n",
    "                     '20,000,000 .. 50,000,000' : '20m ~ 50m',\n",
    "                     '10,000,000 .. 20,000,000' : '10m ~ 20m',\n",
    "                     '5,000,000 .. 10,000,000' : '5m ~ 10m',\n",
    "                     '2,000,000 .. 5,000,000': '2m ~ 5m',\n",
    "                     '1,000,000 .. 2,000,000' : '1m ~ 2m',\n",
    "                     '500,000 .. 1,000,000' : '500k ~ 1m',\n",
    "                     '200,000 .. 500,000' : '200k ~ 500k',\n",
    "                     '100,000 .. 200,000' : '100k ~ 200k'}, inplace = True)\n",
    "\n",
    "# object -> Categorical로 바꾸고 수동 sorting (Tableau에는 적용 안되겠지..?)\n",
    "owners_order = pd.CategoricalDtype(['200m ~ 500m', '100m ~ 200m', '50m ~ 100m', \n",
    "                                    '20m ~ 50m', '10m ~ 20m', '5m ~ 10m',\n",
    "                                   '2m ~ 5m', '1m ~ 2m', '500k ~ 1m', '200k ~ 500k',\n",
    "                                   '100k ~ 200k'])\n",
    "df['owners'] = df['owners'].astype(owners_order)\n",
    "# df.sort_values('owners')\n",
    "\n",
    "# 3. \n",
    "df['evaluation_count'] = df['positive'] + df['negative']\n",
    "# 3-1.\n",
    "df.drop(df[df['evaluation_count'] < 30].index, inplace = True)\n",
    "\n",
    "# 4.\n",
    "df['good_ratio'] = df['positive'] / df['evaluation_count']\n",
    "df.dropna(inplace = True)\n",
    "\n",
    "# 5. \n",
    "df.loc[df['initialprice'] == 0, 'free'] = 'free'\n",
    "df.loc[df['initialprice'] != 0, 'free'] = 'paid'\n",
    "\n",
    "# 6. \n",
    "def get_owners_median(x):\n",
    "    # 이건 노가다밖에 답이 없는 것 같다!\n",
    "    if x == '200m ~ 500m':\n",
    "        return int(350 * 1e6)\n",
    "    elif x == '100m ~ 200m':\n",
    "        return int(150 * 1e6)\n",
    "    elif x == '50m ~ 100m':\n",
    "        return int(75 * 1e6)\n",
    "    elif x == '20m ~ 50m':\n",
    "        return int(35 * 1e6)\n",
    "    elif x == '10m ~ 20m':\n",
    "        return int(15 * 1e6)\n",
    "    elif x == '5m ~ 10m':\n",
    "        return int(7.5 * 1e6)\n",
    "    elif x == '2m ~ 5m':\n",
    "        return int(3.5 * 1e6)\n",
    "    elif x == '1m ~ 2m':\n",
    "        return int(1.5 * 1e6)\n",
    "    elif x == '500k ~ 1m':\n",
    "        return int(750 * 1e3)\n",
    "    elif x == '200k ~ 500k':\n",
    "        return int(350 * 1e3)\n",
    "    elif x == '100k ~ 200k':\n",
    "        return int(150 * 1e3)\n",
    "    \n",
    "df['median_owners'] = df['owners'].apply(get_owners_median).astype(\"int64\")\n",
    "\n",
    "# 7.\n",
    "df['count_owner_ratio'] = df['evaluation_count'] / df['median_owners']\n"
   ]
  },
  {
   "cell_type": "code",
   "execution_count": 35,
   "id": "79df1bf0-395e-4fb9-9245-d042c4ddabeb",
   "metadata": {},
   "outputs": [
    {
     "name": "stdout",
     "output_type": "stream",
     "text": [
      "<class 'pandas.core.frame.DataFrame'>\n",
      "Int64Index: 4849 entries, 0 to 4999\n",
      "Data columns (total 20 columns):\n",
      " #   Column             Non-Null Count  Dtype   \n",
      "---  ------             --------------  -----   \n",
      " 0   appid              4849 non-null   int64   \n",
      " 1   name               4849 non-null   object  \n",
      " 2   developer          4849 non-null   object  \n",
      " 3   publisher          4849 non-null   object  \n",
      " 4   positive           4849 non-null   int64   \n",
      " 5   negative           4849 non-null   int64   \n",
      " 6   owners             4849 non-null   category\n",
      " 7   average_forever    4849 non-null   int64   \n",
      " 8   average_2weeks     4849 non-null   int64   \n",
      " 9   median_forever     4849 non-null   int64   \n",
      " 10  median_2weeks      4849 non-null   int64   \n",
      " 11  price              4849 non-null   int64   \n",
      " 12  initialprice       4849 non-null   int64   \n",
      " 13  discount           4849 non-null   int64   \n",
      " 14  ccu                4849 non-null   int64   \n",
      " 15  evaluation_count   4849 non-null   int64   \n",
      " 16  good_ratio         4849 non-null   float64 \n",
      " 17  free               4849 non-null   object  \n",
      " 18  median_owners      4849 non-null   int64   \n",
      " 19  count_owner_ratio  4849 non-null   float64 \n",
      "dtypes: category(1), float64(2), int64(13), object(4)\n",
      "memory usage: 762.8+ KB\n"
     ]
    }
   ],
   "source": [
    "df.info()"
   ]
  },
  {
   "cell_type": "code",
   "execution_count": 36,
   "id": "279925cd-8f44-4137-84e9-c99a6ace252e",
   "metadata": {},
   "outputs": [],
   "source": [
    "df.to_csv('2023-03-27_steam_top_5000_cleaned.csv')"
   ]
  },
  {
   "cell_type": "markdown",
   "id": "d01d8598-ec6a-42c5-a23d-bc80b5e551bb",
   "metadata": {},
   "source": [
    "# 데이터 탐색(with Tableau)"
   ]
  },
  {
   "cell_type": "markdown",
   "id": "092a6a14-a446-4371-8723-2879fba5adec",
   "metadata": {},
   "source": [
    "## 1. 보유자 수보다 CCU가 더 중요하다\n",
    "![image](image2.PNG)"
   ]
  },
  {
   "cell_type": "markdown",
   "id": "e002a1e7-9f7a-497b-a87f-16662bf62bb1",
   "metadata": {},
   "source": [
    "1. 게임을 가지고 있다고 해서 꼭 플레이하고 있는 것은 아니다. 가진 사람이 많다고 플레이하는 사람이 꼭 많지는 않다.\n",
    "    - `New world`처럼 **보유자 수에 비해 현재 플레이하고 있는 인원이 극도로 적은 케이스**가 있다.\n",
    "    - `Dota 2`의 보유자 수가 가장 많지만, CCU가 가장 많은 게임은 `글옵(카운터 스트라이크 : 글로벌 오펜시브)`이다.\n",
    "2. 보유자 수가 많은 게임들은 무료 게임이 많다\n",
    "3. 그러나 CCU 측면에서도 독보적인 **상위 4개의 작품을 제외하면 게임의 유료 / 무료 여부에 CCU가 정해진다고 보기는 힘들다.**"
   ]
  },
  {
   "cell_type": "markdown",
   "id": "3ed2e910-c994-4ce9-b8a9-d57611897506",
   "metadata": {},
   "source": [
    "## 2. 유료 게임의 좋아요 비율과 평가 비율이 더 높다\n",
    "![image](image3.PNG)"
   ]
  },
  {
   "cell_type": "markdown",
   "id": "1216e4bf-adf2-4c93-9cac-419a50ddd578",
   "metadata": {},
   "source": [
    "1. **유료 게임**에서 좋아요 / 싫어요 비율이 더 높고, 게임을 평가한 사람의 비율(0.7% vs 1.25%)도 더 높다.\n",
    "2. 또한, 보유자 수가 많을수록 **좋싫비와 평가자 수가 증가하는 경향**도 보인다.\n",
    "3. 특이한 점이 두 곳 눈에 띈다.\n",
    "    1. 왼쪽의 유료 게임 `50m ~ 100m`에서 좋싫비가 급감하는 지점.\n",
    "    2. 오른쪽의 무료 `50m ~ 100m`에서 평가자 수가 급등하는 지점.\n",
    "    - 이들을 파악하기 위해선 더 자세하게 들여다볼 필요가 있겠다."
   ]
  },
  {
   "cell_type": "code",
   "execution_count": null,
   "id": "3093b7d4-f58b-4233-90de-57f050ac277d",
   "metadata": {},
   "outputs": [],
   "source": []
  }
 ],
 "metadata": {
  "kernelspec": {
   "display_name": "Python 3 (ipykernel)",
   "language": "python",
   "name": "python3"
  },
  "language_info": {
   "codemirror_mode": {
    "name": "ipython",
    "version": 3
   },
   "file_extension": ".py",
   "mimetype": "text/x-python",
   "name": "python",
   "nbconvert_exporter": "python",
   "pygments_lexer": "ipython3",
   "version": "3.9.13"
  }
 },
 "nbformat": 4,
 "nbformat_minor": 5
}
