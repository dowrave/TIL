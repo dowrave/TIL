{
 "cells": [
  {
   "cell_type": "markdown",
   "id": "f62a2330-6e27-4b6e-ac19-aa1c95be042e",
   "metadata": {},
   "source": [
    "# 하이퍼파라미터 수동으로 지정하기\n",
    "\n",
    "- **우선적으로 시도**해야 할 하이퍼파라미터 세트가 있다\n",
    "- 이미 시도한 적 있는 하이퍼파라미터 세트일 수도 있다\n",
    "\n",
    "#### Optuna는 2가지를 제공함\n",
    "1. `enqueue_trial()` : 우선 탐색하고 싶은 하이퍼파라미터가 있을 때 전달\n",
    "2. `add_trial()` : 탐색이 완료된 하이퍼파라미터 세트와 그 결과를 전달"
   ]
  },
  {
   "cell_type": "markdown",
   "id": "6a5af9a3-9a57-4fe9-a000-9a622d8bc902",
   "metadata": {},
   "source": [
    "## 시나리오 1. 하이퍼파라미터를 Optuna로 평가하기\n",
    "- `사용할 수 있는 하이퍼파라미터 세트가 있지만 평가하지 않았고, 더 나은 하이퍼파라미터 세트를 찾기 위해 Optuna를 사용한다`는 가정"
   ]
  },
  {
   "cell_type": "code",
   "execution_count": 1,
   "id": "f1b65a79-56b0-4725-ab8e-48fe7539cb5c",
   "metadata": {},
   "outputs": [],
   "source": [
    "import lightgbm as lgb\n",
    "import numpy as np\n",
    "import sklearn.datasets\n",
    "import sklearn.metrics\n",
    "from sklearn.model_selection import train_test_split\n",
    "\n",
    "import optuna"
   ]
  },
  {
   "cell_type": "markdown",
   "id": "d9f12a2f-566c-44e3-b712-3bdc4e42f625",
   "metadata": {},
   "source": [
    "- 목적함수 정의"
   ]
  },
  {
   "cell_type": "code",
   "execution_count": 5,
   "id": "a7fcceb4-90d2-4497-b36d-f3cb2cc7cebb",
   "metadata": {},
   "outputs": [],
   "source": [
    "def objective(trial):\n",
    "    data, target = sklearn.datasets.load_breast_cancer(return_X_y = True)\n",
    "    train_x, valid_x, train_y, valid_y = train_test_split(data, target, test_size = 0.25)\n",
    "    dtrain = lgb.Dataset(train_x, label = train_y)\n",
    "    dvalid = lgb.Dataset(valid_x, label = valid_y)\n",
    "    \n",
    "    \n",
    "    param = {\n",
    "        'objective' : 'binary',\n",
    "        'metric' : 'auc',\n",
    "        'verbosity' : -1,\n",
    "        'boosting_type' : 'gbdt',\n",
    "        'bagging_fraction' : min(trial.suggest_float('bagging_fraction', 0.4, 1.0 + 1e-12), 1),\n",
    "        'bagging_freq' : trial.suggest_int('bagging_freq', 0, 7),\n",
    "        'min_child_samples' : trial.suggest_int('min_child_samples', 5, 100),\n",
    "    }\n",
    "    \n",
    "    # Pruning Callback 추가\n",
    "    pruning_callback = optuna.integration.LightGBMPruningCallback(trial, 'auc')\n",
    "    gbm = lgb.train(\n",
    "        param, dtrain, valid_sets = [dvalid], verbose_eval = False, callbacks = [pruning_callback]\n",
    "    )\n",
    "    \n",
    "    preds = gbm.predict(valid_x)\n",
    "    pred_labels = np.rint(preds)\n",
    "    accuracy = sklearn.metrics.accuracy_score(valid_y, pred_labels)\n",
    "    \n",
    "    return accuracy"
   ]
  },
  {
   "cell_type": "code",
   "execution_count": 6,
   "id": "7a3bdaf5-73ba-498f-aecc-8327797c92ed",
   "metadata": {},
   "outputs": [
    {
     "name": "stderr",
     "output_type": "stream",
     "text": [
      "\u001b[32m[I 2022-12-12 15:41:14,044]\u001b[0m A new study created in memory with name: no-name-47f001f2-270e-4a70-81bb-211312d35b91\u001b[0m\n"
     ]
    },
    {
     "name": "stdout",
     "output_type": "stream",
     "text": [
      "A new study created in memory with name: no-name-47f001f2-270e-4a70-81bb-211312d35b91\n"
     ]
    }
   ],
   "source": [
    "study = optuna.create_study(direction = 'maximize',\n",
    "                           pruner = optuna.pruners.MedianPruner())"
   ]
  },
  {
   "cell_type": "code",
   "execution_count": 7,
   "id": "da713cf3-00e7-465a-bff3-ad654423195a",
   "metadata": {
    "collapsed": true,
    "jupyter": {
     "outputs_hidden": true
    },
    "tags": []
   },
   "outputs": [
    {
     "name": "stderr",
     "output_type": "stream",
     "text": [
      "C:\\Users\\dowra\\anaconda3\\lib\\site-packages\\lightgbm\\engine.py:239: UserWarning: 'verbose_eval' argument is deprecated and will be removed in a future release of LightGBM. Pass 'log_evaluation()' callback via 'callbacks' argument instead.\n",
      "  _log_warning(\"'verbose_eval' argument is deprecated and will be removed in a future release of LightGBM. \"\n",
      "\u001b[32m[I 2022-12-12 15:41:14,786]\u001b[0m Trial 0 finished with value: 0.9790209790209791 and parameters: {'bagging_fraction': 1.0, 'bagging_freq': 0, 'min_child_samples': 20}. Best is trial 0 with value: 0.9790209790209791.\u001b[0m\n"
     ]
    },
    {
     "name": "stdout",
     "output_type": "stream",
     "text": [
      "Trial 0 finished with value: 0.9790209790209791 and parameters: {'bagging_fraction': 1.0, 'bagging_freq': 0, 'min_child_samples': 20}. Best is trial 0 with value: 0.9790209790209791.\n",
      "Trial 0 finished with value: 0.9790209790209791 and parameters: {'bagging_fraction': 1.0, 'bagging_freq': 0, 'min_child_samples': 20}. Best is trial 0 with value: 0.9790209790209791.\n"
     ]
    },
    {
     "name": "stderr",
     "output_type": "stream",
     "text": [
      "C:\\Users\\dowra\\anaconda3\\lib\\site-packages\\lightgbm\\engine.py:239: UserWarning: 'verbose_eval' argument is deprecated and will be removed in a future release of LightGBM. Pass 'log_evaluation()' callback via 'callbacks' argument instead.\n",
      "  _log_warning(\"'verbose_eval' argument is deprecated and will be removed in a future release of LightGBM. \"\n",
      "\u001b[32m[I 2022-12-12 15:41:14,906]\u001b[0m Trial 1 finished with value: 0.958041958041958 and parameters: {'bagging_fraction': 0.75, 'bagging_freq': 5, 'min_child_samples': 20}. Best is trial 0 with value: 0.9790209790209791.\u001b[0m\n"
     ]
    },
    {
     "name": "stdout",
     "output_type": "stream",
     "text": [
      "Trial 1 finished with value: 0.958041958041958 and parameters: {'bagging_fraction': 0.75, 'bagging_freq': 5, 'min_child_samples': 20}. Best is trial 0 with value: 0.9790209790209791.\n",
      "Trial 1 finished with value: 0.958041958041958 and parameters: {'bagging_fraction': 0.75, 'bagging_freq': 5, 'min_child_samples': 20}. Best is trial 0 with value: 0.9790209790209791.\n"
     ]
    },
    {
     "name": "stderr",
     "output_type": "stream",
     "text": [
      "C:\\Users\\dowra\\anaconda3\\lib\\site-packages\\lightgbm\\engine.py:239: UserWarning: 'verbose_eval' argument is deprecated and will be removed in a future release of LightGBM. Pass 'log_evaluation()' callback via 'callbacks' argument instead.\n",
      "  _log_warning(\"'verbose_eval' argument is deprecated and will be removed in a future release of LightGBM. \"\n",
      "\u001b[32m[I 2022-12-12 15:41:14,988]\u001b[0m Trial 2 finished with value: 0.965034965034965 and parameters: {'bagging_fraction': 0.5699404608279761, 'bagging_freq': 0, 'min_child_samples': 52}. Best is trial 0 with value: 0.9790209790209791.\u001b[0m\n"
     ]
    },
    {
     "name": "stdout",
     "output_type": "stream",
     "text": [
      "Trial 2 finished with value: 0.965034965034965 and parameters: {'bagging_fraction': 0.5699404608279761, 'bagging_freq': 0, 'min_child_samples': 52}. Best is trial 0 with value: 0.9790209790209791.\n",
      "Trial 2 finished with value: 0.965034965034965 and parameters: {'bagging_fraction': 0.5699404608279761, 'bagging_freq': 0, 'min_child_samples': 52}. Best is trial 0 with value: 0.9790209790209791.\n"
     ]
    },
    {
     "name": "stderr",
     "output_type": "stream",
     "text": [
      "C:\\Users\\dowra\\anaconda3\\lib\\site-packages\\lightgbm\\engine.py:239: UserWarning: 'verbose_eval' argument is deprecated and will be removed in a future release of LightGBM. Pass 'log_evaluation()' callback via 'callbacks' argument instead.\n",
      "  _log_warning(\"'verbose_eval' argument is deprecated and will be removed in a future release of LightGBM. \"\n",
      "\u001b[32m[I 2022-12-12 15:41:15,078]\u001b[0m Trial 3 finished with value: 0.958041958041958 and parameters: {'bagging_fraction': 0.6820230451767205, 'bagging_freq': 3, 'min_child_samples': 33}. Best is trial 0 with value: 0.9790209790209791.\u001b[0m\n"
     ]
    },
    {
     "name": "stdout",
     "output_type": "stream",
     "text": [
      "Trial 3 finished with value: 0.958041958041958 and parameters: {'bagging_fraction': 0.6820230451767205, 'bagging_freq': 3, 'min_child_samples': 33}. Best is trial 0 with value: 0.9790209790209791.\n",
      "Trial 3 finished with value: 0.958041958041958 and parameters: {'bagging_fraction': 0.6820230451767205, 'bagging_freq': 3, 'min_child_samples': 33}. Best is trial 0 with value: 0.9790209790209791.\n"
     ]
    },
    {
     "name": "stderr",
     "output_type": "stream",
     "text": [
      "C:\\Users\\dowra\\anaconda3\\lib\\site-packages\\lightgbm\\engine.py:239: UserWarning: 'verbose_eval' argument is deprecated and will be removed in a future release of LightGBM. Pass 'log_evaluation()' callback via 'callbacks' argument instead.\n",
      "  _log_warning(\"'verbose_eval' argument is deprecated and will be removed in a future release of LightGBM. \"\n",
      "\u001b[32m[I 2022-12-12 15:41:15,241]\u001b[0m Trial 4 finished with value: 0.9370629370629371 and parameters: {'bagging_fraction': 0.8739021825515507, 'bagging_freq': 3, 'min_child_samples': 6}. Best is trial 0 with value: 0.9790209790209791.\u001b[0m\n"
     ]
    },
    {
     "name": "stdout",
     "output_type": "stream",
     "text": [
      "Trial 4 finished with value: 0.9370629370629371 and parameters: {'bagging_fraction': 0.8739021825515507, 'bagging_freq': 3, 'min_child_samples': 6}. Best is trial 0 with value: 0.9790209790209791.\n",
      "Trial 4 finished with value: 0.9370629370629371 and parameters: {'bagging_fraction': 0.8739021825515507, 'bagging_freq': 3, 'min_child_samples': 6}. Best is trial 0 with value: 0.9790209790209791.\n"
     ]
    },
    {
     "name": "stderr",
     "output_type": "stream",
     "text": [
      "C:\\Users\\dowra\\anaconda3\\lib\\site-packages\\lightgbm\\engine.py:239: UserWarning: 'verbose_eval' argument is deprecated and will be removed in a future release of LightGBM. Pass 'log_evaluation()' callback via 'callbacks' argument instead.\n",
      "  _log_warning(\"'verbose_eval' argument is deprecated and will be removed in a future release of LightGBM. \"\n",
      "\u001b[32m[I 2022-12-12 15:41:15,272]\u001b[0m Trial 5 pruned. Trial was pruned at iteration 0.\u001b[0m\n"
     ]
    },
    {
     "name": "stdout",
     "output_type": "stream",
     "text": [
      "Trial 5 pruned. Trial was pruned at iteration 0.\n",
      "Trial 5 pruned. Trial was pruned at iteration 0.\n"
     ]
    },
    {
     "name": "stderr",
     "output_type": "stream",
     "text": [
      "\u001b[32m[I 2022-12-12 15:41:15,305]\u001b[0m Trial 6 pruned. Trial was pruned at iteration 0.\u001b[0m\n"
     ]
    },
    {
     "name": "stdout",
     "output_type": "stream",
     "text": [
      "Trial 6 pruned. Trial was pruned at iteration 0.\n",
      "Trial 6 pruned. Trial was pruned at iteration 0.\n"
     ]
    },
    {
     "name": "stderr",
     "output_type": "stream",
     "text": [
      "\u001b[32m[I 2022-12-12 15:41:15,358]\u001b[0m Trial 7 pruned. Trial was pruned at iteration 16.\u001b[0m\n"
     ]
    },
    {
     "name": "stdout",
     "output_type": "stream",
     "text": [
      "Trial 7 pruned. Trial was pruned at iteration 16.\n",
      "Trial 7 pruned. Trial was pruned at iteration 16.\n"
     ]
    },
    {
     "name": "stderr",
     "output_type": "stream",
     "text": [
      "\u001b[32m[I 2022-12-12 15:41:15,395]\u001b[0m Trial 8 pruned. Trial was pruned at iteration 0.\u001b[0m\n"
     ]
    },
    {
     "name": "stdout",
     "output_type": "stream",
     "text": [
      "Trial 8 pruned. Trial was pruned at iteration 0.\n",
      "Trial 8 pruned. Trial was pruned at iteration 0.\n"
     ]
    },
    {
     "name": "stderr",
     "output_type": "stream",
     "text": [
      "\u001b[32m[I 2022-12-12 15:41:15,429]\u001b[0m Trial 9 pruned. Trial was pruned at iteration 0.\u001b[0m\n"
     ]
    },
    {
     "name": "stdout",
     "output_type": "stream",
     "text": [
      "Trial 9 pruned. Trial was pruned at iteration 0.\n",
      "Trial 9 pruned. Trial was pruned at iteration 0.\n"
     ]
    },
    {
     "name": "stderr",
     "output_type": "stream",
     "text": [
      "\u001b[32m[I 2022-12-12 15:41:15,480]\u001b[0m Trial 10 pruned. Trial was pruned at iteration 0.\u001b[0m\n"
     ]
    },
    {
     "name": "stdout",
     "output_type": "stream",
     "text": [
      "Trial 10 pruned. Trial was pruned at iteration 0.\n",
      "Trial 10 pruned. Trial was pruned at iteration 0.\n"
     ]
    },
    {
     "name": "stderr",
     "output_type": "stream",
     "text": [
      "\u001b[32m[I 2022-12-12 15:41:15,524]\u001b[0m Trial 11 pruned. Trial was pruned at iteration 0.\u001b[0m\n"
     ]
    },
    {
     "name": "stdout",
     "output_type": "stream",
     "text": [
      "Trial 11 pruned. Trial was pruned at iteration 0.\n",
      "Trial 11 pruned. Trial was pruned at iteration 0.\n"
     ]
    },
    {
     "name": "stderr",
     "output_type": "stream",
     "text": [
      "\u001b[32m[I 2022-12-12 15:41:15,571]\u001b[0m Trial 12 pruned. Trial was pruned at iteration 0.\u001b[0m\n"
     ]
    },
    {
     "name": "stdout",
     "output_type": "stream",
     "text": [
      "Trial 12 pruned. Trial was pruned at iteration 0.\n",
      "Trial 12 pruned. Trial was pruned at iteration 0.\n"
     ]
    },
    {
     "name": "stderr",
     "output_type": "stream",
     "text": [
      "\u001b[32m[I 2022-12-12 15:41:15,618]\u001b[0m Trial 13 pruned. Trial was pruned at iteration 0.\u001b[0m\n"
     ]
    },
    {
     "name": "stdout",
     "output_type": "stream",
     "text": [
      "Trial 13 pruned. Trial was pruned at iteration 0.\n",
      "Trial 13 pruned. Trial was pruned at iteration 0.\n"
     ]
    },
    {
     "name": "stderr",
     "output_type": "stream",
     "text": [
      "\u001b[32m[I 2022-12-12 15:41:15,661]\u001b[0m Trial 14 pruned. Trial was pruned at iteration 0.\u001b[0m\n"
     ]
    },
    {
     "name": "stdout",
     "output_type": "stream",
     "text": [
      "Trial 14 pruned. Trial was pruned at iteration 0.\n",
      "Trial 14 pruned. Trial was pruned at iteration 0.\n"
     ]
    },
    {
     "name": "stderr",
     "output_type": "stream",
     "text": [
      "\u001b[32m[I 2022-12-12 15:41:15,707]\u001b[0m Trial 15 pruned. Trial was pruned at iteration 0.\u001b[0m\n"
     ]
    },
    {
     "name": "stdout",
     "output_type": "stream",
     "text": [
      "Trial 15 pruned. Trial was pruned at iteration 0.\n",
      "Trial 15 pruned. Trial was pruned at iteration 0.\n"
     ]
    },
    {
     "name": "stderr",
     "output_type": "stream",
     "text": [
      "\u001b[32m[I 2022-12-12 15:41:15,753]\u001b[0m Trial 16 pruned. Trial was pruned at iteration 1.\u001b[0m\n"
     ]
    },
    {
     "name": "stdout",
     "output_type": "stream",
     "text": [
      "Trial 16 pruned. Trial was pruned at iteration 1.\n",
      "Trial 16 pruned. Trial was pruned at iteration 1.\n"
     ]
    },
    {
     "name": "stderr",
     "output_type": "stream",
     "text": [
      "\u001b[32m[I 2022-12-12 15:41:15,800]\u001b[0m Trial 17 pruned. Trial was pruned at iteration 0.\u001b[0m\n"
     ]
    },
    {
     "name": "stdout",
     "output_type": "stream",
     "text": [
      "Trial 17 pruned. Trial was pruned at iteration 0.\n",
      "Trial 17 pruned. Trial was pruned at iteration 0.\n"
     ]
    },
    {
     "name": "stderr",
     "output_type": "stream",
     "text": [
      "\u001b[32m[I 2022-12-12 15:41:15,848]\u001b[0m Trial 18 pruned. Trial was pruned at iteration 0.\u001b[0m\n"
     ]
    },
    {
     "name": "stdout",
     "output_type": "stream",
     "text": [
      "Trial 18 pruned. Trial was pruned at iteration 0.\n",
      "Trial 18 pruned. Trial was pruned at iteration 0.\n"
     ]
    },
    {
     "name": "stderr",
     "output_type": "stream",
     "text": [
      "\u001b[32m[I 2022-12-12 15:41:15,892]\u001b[0m Trial 19 pruned. Trial was pruned at iteration 0.\u001b[0m\n"
     ]
    },
    {
     "name": "stdout",
     "output_type": "stream",
     "text": [
      "Trial 19 pruned. Trial was pruned at iteration 0.\n",
      "Trial 19 pruned. Trial was pruned at iteration 0.\n"
     ]
    },
    {
     "name": "stderr",
     "output_type": "stream",
     "text": [
      "\u001b[32m[I 2022-12-12 15:41:15,935]\u001b[0m Trial 20 pruned. Trial was pruned at iteration 0.\u001b[0m\n"
     ]
    },
    {
     "name": "stdout",
     "output_type": "stream",
     "text": [
      "Trial 20 pruned. Trial was pruned at iteration 0.\n",
      "Trial 20 pruned. Trial was pruned at iteration 0.\n"
     ]
    },
    {
     "name": "stderr",
     "output_type": "stream",
     "text": [
      "\u001b[32m[I 2022-12-12 15:41:15,983]\u001b[0m Trial 21 pruned. Trial was pruned at iteration 0.\u001b[0m\n"
     ]
    },
    {
     "name": "stdout",
     "output_type": "stream",
     "text": [
      "Trial 21 pruned. Trial was pruned at iteration 0.\n",
      "Trial 21 pruned. Trial was pruned at iteration 0.\n"
     ]
    },
    {
     "name": "stderr",
     "output_type": "stream",
     "text": [
      "\u001b[32m[I 2022-12-12 15:41:16,029]\u001b[0m Trial 22 pruned. Trial was pruned at iteration 1.\u001b[0m\n"
     ]
    },
    {
     "name": "stdout",
     "output_type": "stream",
     "text": [
      "Trial 22 pruned. Trial was pruned at iteration 1.\n",
      "Trial 22 pruned. Trial was pruned at iteration 1.\n"
     ]
    },
    {
     "name": "stderr",
     "output_type": "stream",
     "text": [
      "\u001b[32m[I 2022-12-12 15:41:16,075]\u001b[0m Trial 23 pruned. Trial was pruned at iteration 0.\u001b[0m\n"
     ]
    },
    {
     "name": "stdout",
     "output_type": "stream",
     "text": [
      "Trial 23 pruned. Trial was pruned at iteration 0.\n",
      "Trial 23 pruned. Trial was pruned at iteration 0.\n"
     ]
    },
    {
     "name": "stderr",
     "output_type": "stream",
     "text": [
      "\u001b[32m[I 2022-12-12 15:41:16,119]\u001b[0m Trial 24 pruned. Trial was pruned at iteration 0.\u001b[0m\n"
     ]
    },
    {
     "name": "stdout",
     "output_type": "stream",
     "text": [
      "Trial 24 pruned. Trial was pruned at iteration 0.\n",
      "Trial 24 pruned. Trial was pruned at iteration 0.\n"
     ]
    },
    {
     "name": "stderr",
     "output_type": "stream",
     "text": [
      "\u001b[32m[I 2022-12-12 15:41:16,164]\u001b[0m Trial 25 pruned. Trial was pruned at iteration 0.\u001b[0m\n"
     ]
    },
    {
     "name": "stdout",
     "output_type": "stream",
     "text": [
      "Trial 25 pruned. Trial was pruned at iteration 0.\n",
      "Trial 25 pruned. Trial was pruned at iteration 0.\n"
     ]
    },
    {
     "name": "stderr",
     "output_type": "stream",
     "text": [
      "\u001b[32m[I 2022-12-12 15:41:16,296]\u001b[0m Trial 26 finished with value: 0.965034965034965 and parameters: {'bagging_fraction': 0.9284135974997971, 'bagging_freq': 7, 'min_child_samples': 33}. Best is trial 0 with value: 0.9790209790209791.\u001b[0m\n"
     ]
    },
    {
     "name": "stdout",
     "output_type": "stream",
     "text": [
      "Trial 26 finished with value: 0.965034965034965 and parameters: {'bagging_fraction': 0.9284135974997971, 'bagging_freq': 7, 'min_child_samples': 33}. Best is trial 0 with value: 0.9790209790209791.\n",
      "Trial 26 finished with value: 0.965034965034965 and parameters: {'bagging_fraction': 0.9284135974997971, 'bagging_freq': 7, 'min_child_samples': 33}. Best is trial 0 with value: 0.9790209790209791.\n"
     ]
    },
    {
     "name": "stderr",
     "output_type": "stream",
     "text": [
      "C:\\Users\\dowra\\anaconda3\\lib\\site-packages\\lightgbm\\engine.py:239: UserWarning: 'verbose_eval' argument is deprecated and will be removed in a future release of LightGBM. Pass 'log_evaluation()' callback via 'callbacks' argument instead.\n",
      "  _log_warning(\"'verbose_eval' argument is deprecated and will be removed in a future release of LightGBM. \"\n",
      "\u001b[32m[I 2022-12-12 15:41:16,336]\u001b[0m Trial 27 pruned. Trial was pruned at iteration 0.\u001b[0m\n"
     ]
    },
    {
     "name": "stdout",
     "output_type": "stream",
     "text": [
      "Trial 27 pruned. Trial was pruned at iteration 0.\n",
      "Trial 27 pruned. Trial was pruned at iteration 0.\n"
     ]
    },
    {
     "name": "stderr",
     "output_type": "stream",
     "text": [
      "\u001b[32m[I 2022-12-12 15:41:16,374]\u001b[0m Trial 28 pruned. Trial was pruned at iteration 0.\u001b[0m\n"
     ]
    },
    {
     "name": "stdout",
     "output_type": "stream",
     "text": [
      "Trial 28 pruned. Trial was pruned at iteration 0.\n",
      "Trial 28 pruned. Trial was pruned at iteration 0.\n"
     ]
    },
    {
     "name": "stderr",
     "output_type": "stream",
     "text": [
      "\u001b[32m[I 2022-12-12 15:41:16,418]\u001b[0m Trial 29 pruned. Trial was pruned at iteration 0.\u001b[0m\n"
     ]
    },
    {
     "name": "stdout",
     "output_type": "stream",
     "text": [
      "Trial 29 pruned. Trial was pruned at iteration 0.\n",
      "Trial 29 pruned. Trial was pruned at iteration 0.\n"
     ]
    },
    {
     "name": "stderr",
     "output_type": "stream",
     "text": [
      "\u001b[32m[I 2022-12-12 15:41:16,551]\u001b[0m Trial 30 finished with value: 0.9790209790209791 and parameters: {'bagging_fraction': 0.8237649128018639, 'bagging_freq': 3, 'min_child_samples': 40}. Best is trial 0 with value: 0.9790209790209791.\u001b[0m\n"
     ]
    },
    {
     "name": "stdout",
     "output_type": "stream",
     "text": [
      "Trial 30 finished with value: 0.9790209790209791 and parameters: {'bagging_fraction': 0.8237649128018639, 'bagging_freq': 3, 'min_child_samples': 40}. Best is trial 0 with value: 0.9790209790209791.\n",
      "Trial 30 finished with value: 0.9790209790209791 and parameters: {'bagging_fraction': 0.8237649128018639, 'bagging_freq': 3, 'min_child_samples': 40}. Best is trial 0 with value: 0.9790209790209791.\n"
     ]
    },
    {
     "name": "stderr",
     "output_type": "stream",
     "text": [
      "C:\\Users\\dowra\\anaconda3\\lib\\site-packages\\lightgbm\\engine.py:239: UserWarning: 'verbose_eval' argument is deprecated and will be removed in a future release of LightGBM. Pass 'log_evaluation()' callback via 'callbacks' argument instead.\n",
      "  _log_warning(\"'verbose_eval' argument is deprecated and will be removed in a future release of LightGBM. \"\n",
      "\u001b[32m[I 2022-12-12 15:41:16,591]\u001b[0m Trial 31 pruned. Trial was pruned at iteration 2.\u001b[0m\n"
     ]
    },
    {
     "name": "stdout",
     "output_type": "stream",
     "text": [
      "Trial 31 pruned. Trial was pruned at iteration 2.\n",
      "Trial 31 pruned. Trial was pruned at iteration 2.\n"
     ]
    },
    {
     "name": "stderr",
     "output_type": "stream",
     "text": [
      "\u001b[32m[I 2022-12-12 15:41:16,634]\u001b[0m Trial 32 pruned. Trial was pruned at iteration 0.\u001b[0m\n"
     ]
    },
    {
     "name": "stdout",
     "output_type": "stream",
     "text": [
      "Trial 32 pruned. Trial was pruned at iteration 0.\n",
      "Trial 32 pruned. Trial was pruned at iteration 0.\n"
     ]
    },
    {
     "name": "stderr",
     "output_type": "stream",
     "text": [
      "\u001b[32m[I 2022-12-12 15:41:16,675]\u001b[0m Trial 33 pruned. Trial was pruned at iteration 0.\u001b[0m\n"
     ]
    },
    {
     "name": "stdout",
     "output_type": "stream",
     "text": [
      "Trial 33 pruned. Trial was pruned at iteration 0.\n",
      "Trial 33 pruned. Trial was pruned at iteration 0.\n"
     ]
    },
    {
     "name": "stderr",
     "output_type": "stream",
     "text": [
      "\u001b[32m[I 2022-12-12 15:41:16,719]\u001b[0m Trial 34 pruned. Trial was pruned at iteration 0.\u001b[0m\n"
     ]
    },
    {
     "name": "stdout",
     "output_type": "stream",
     "text": [
      "Trial 34 pruned. Trial was pruned at iteration 0.\n",
      "Trial 34 pruned. Trial was pruned at iteration 0.\n"
     ]
    },
    {
     "name": "stderr",
     "output_type": "stream",
     "text": [
      "\u001b[32m[I 2022-12-12 15:41:16,758]\u001b[0m Trial 35 pruned. Trial was pruned at iteration 0.\u001b[0m\n"
     ]
    },
    {
     "name": "stdout",
     "output_type": "stream",
     "text": [
      "Trial 35 pruned. Trial was pruned at iteration 0.\n",
      "Trial 35 pruned. Trial was pruned at iteration 0.\n"
     ]
    },
    {
     "name": "stderr",
     "output_type": "stream",
     "text": [
      "\u001b[32m[I 2022-12-12 15:41:16,801]\u001b[0m Trial 36 pruned. Trial was pruned at iteration 0.\u001b[0m\n"
     ]
    },
    {
     "name": "stdout",
     "output_type": "stream",
     "text": [
      "Trial 36 pruned. Trial was pruned at iteration 0.\n",
      "Trial 36 pruned. Trial was pruned at iteration 0.\n"
     ]
    },
    {
     "name": "stderr",
     "output_type": "stream",
     "text": [
      "\u001b[32m[I 2022-12-12 15:41:16,839]\u001b[0m Trial 37 pruned. Trial was pruned at iteration 0.\u001b[0m\n"
     ]
    },
    {
     "name": "stdout",
     "output_type": "stream",
     "text": [
      "Trial 37 pruned. Trial was pruned at iteration 0.\n",
      "Trial 37 pruned. Trial was pruned at iteration 0.\n"
     ]
    },
    {
     "name": "stderr",
     "output_type": "stream",
     "text": [
      "\u001b[32m[I 2022-12-12 15:41:16,880]\u001b[0m Trial 38 pruned. Trial was pruned at iteration 0.\u001b[0m\n"
     ]
    },
    {
     "name": "stdout",
     "output_type": "stream",
     "text": [
      "Trial 38 pruned. Trial was pruned at iteration 0.\n",
      "Trial 38 pruned. Trial was pruned at iteration 0.\n"
     ]
    },
    {
     "name": "stderr",
     "output_type": "stream",
     "text": [
      "\u001b[32m[I 2022-12-12 15:41:16,927]\u001b[0m Trial 39 pruned. Trial was pruned at iteration 6.\u001b[0m\n"
     ]
    },
    {
     "name": "stdout",
     "output_type": "stream",
     "text": [
      "Trial 39 pruned. Trial was pruned at iteration 6.\n",
      "Trial 39 pruned. Trial was pruned at iteration 6.\n"
     ]
    },
    {
     "name": "stderr",
     "output_type": "stream",
     "text": [
      "\u001b[32m[I 2022-12-12 15:41:16,972]\u001b[0m Trial 40 pruned. Trial was pruned at iteration 0.\u001b[0m\n"
     ]
    },
    {
     "name": "stdout",
     "output_type": "stream",
     "text": [
      "Trial 40 pruned. Trial was pruned at iteration 0.\n",
      "Trial 40 pruned. Trial was pruned at iteration 0.\n"
     ]
    },
    {
     "name": "stderr",
     "output_type": "stream",
     "text": [
      "\u001b[32m[I 2022-12-12 15:41:17,017]\u001b[0m Trial 41 pruned. Trial was pruned at iteration 0.\u001b[0m\n"
     ]
    },
    {
     "name": "stdout",
     "output_type": "stream",
     "text": [
      "Trial 41 pruned. Trial was pruned at iteration 0.\n",
      "Trial 41 pruned. Trial was pruned at iteration 0.\n"
     ]
    },
    {
     "name": "stderr",
     "output_type": "stream",
     "text": [
      "\u001b[32m[I 2022-12-12 15:41:17,075]\u001b[0m Trial 42 pruned. Trial was pruned at iteration 19.\u001b[0m\n"
     ]
    },
    {
     "name": "stdout",
     "output_type": "stream",
     "text": [
      "Trial 42 pruned. Trial was pruned at iteration 19.\n",
      "Trial 42 pruned. Trial was pruned at iteration 19.\n"
     ]
    },
    {
     "name": "stderr",
     "output_type": "stream",
     "text": [
      "\u001b[32m[I 2022-12-12 15:41:17,116]\u001b[0m Trial 43 pruned. Trial was pruned at iteration 0.\u001b[0m\n"
     ]
    },
    {
     "name": "stdout",
     "output_type": "stream",
     "text": [
      "Trial 43 pruned. Trial was pruned at iteration 0.\n",
      "Trial 43 pruned. Trial was pruned at iteration 0.\n"
     ]
    },
    {
     "name": "stderr",
     "output_type": "stream",
     "text": [
      "\u001b[32m[I 2022-12-12 15:41:17,156]\u001b[0m Trial 44 pruned. Trial was pruned at iteration 0.\u001b[0m\n"
     ]
    },
    {
     "name": "stdout",
     "output_type": "stream",
     "text": [
      "Trial 44 pruned. Trial was pruned at iteration 0.\n",
      "Trial 44 pruned. Trial was pruned at iteration 0.\n"
     ]
    },
    {
     "name": "stderr",
     "output_type": "stream",
     "text": [
      "\u001b[32m[I 2022-12-12 15:41:17,199]\u001b[0m Trial 45 pruned. Trial was pruned at iteration 0.\u001b[0m\n"
     ]
    },
    {
     "name": "stdout",
     "output_type": "stream",
     "text": [
      "Trial 45 pruned. Trial was pruned at iteration 0.\n",
      "Trial 45 pruned. Trial was pruned at iteration 0.\n"
     ]
    },
    {
     "name": "stderr",
     "output_type": "stream",
     "text": [
      "\u001b[32m[I 2022-12-12 15:41:17,247]\u001b[0m Trial 46 pruned. Trial was pruned at iteration 0.\u001b[0m\n"
     ]
    },
    {
     "name": "stdout",
     "output_type": "stream",
     "text": [
      "Trial 46 pruned. Trial was pruned at iteration 0.\n",
      "Trial 46 pruned. Trial was pruned at iteration 0.\n"
     ]
    },
    {
     "name": "stderr",
     "output_type": "stream",
     "text": [
      "\u001b[32m[I 2022-12-12 15:41:17,292]\u001b[0m Trial 47 pruned. Trial was pruned at iteration 0.\u001b[0m\n"
     ]
    },
    {
     "name": "stdout",
     "output_type": "stream",
     "text": [
      "Trial 47 pruned. Trial was pruned at iteration 0.\n",
      "Trial 47 pruned. Trial was pruned at iteration 0.\n"
     ]
    },
    {
     "name": "stderr",
     "output_type": "stream",
     "text": [
      "\u001b[32m[I 2022-12-12 15:41:17,341]\u001b[0m Trial 48 pruned. Trial was pruned at iteration 0.\u001b[0m\n"
     ]
    },
    {
     "name": "stdout",
     "output_type": "stream",
     "text": [
      "Trial 48 pruned. Trial was pruned at iteration 0.\n",
      "Trial 48 pruned. Trial was pruned at iteration 0.\n"
     ]
    },
    {
     "name": "stderr",
     "output_type": "stream",
     "text": [
      "\u001b[32m[I 2022-12-12 15:41:17,386]\u001b[0m Trial 49 pruned. Trial was pruned at iteration 0.\u001b[0m\n"
     ]
    },
    {
     "name": "stdout",
     "output_type": "stream",
     "text": [
      "Trial 49 pruned. Trial was pruned at iteration 0.\n",
      "Trial 49 pruned. Trial was pruned at iteration 0.\n"
     ]
    },
    {
     "name": "stderr",
     "output_type": "stream",
     "text": [
      "\u001b[32m[I 2022-12-12 15:41:17,539]\u001b[0m Trial 50 finished with value: 0.986013986013986 and parameters: {'bagging_fraction': 0.8488348518071319, 'bagging_freq': 4, 'min_child_samples': 38}. Best is trial 50 with value: 0.986013986013986.\u001b[0m\n"
     ]
    },
    {
     "name": "stdout",
     "output_type": "stream",
     "text": [
      "Trial 50 finished with value: 0.986013986013986 and parameters: {'bagging_fraction': 0.8488348518071319, 'bagging_freq': 4, 'min_child_samples': 38}. Best is trial 50 with value: 0.986013986013986.\n",
      "Trial 50 finished with value: 0.986013986013986 and parameters: {'bagging_fraction': 0.8488348518071319, 'bagging_freq': 4, 'min_child_samples': 38}. Best is trial 50 with value: 0.986013986013986.\n"
     ]
    },
    {
     "name": "stderr",
     "output_type": "stream",
     "text": [
      "C:\\Users\\dowra\\anaconda3\\lib\\site-packages\\lightgbm\\engine.py:239: UserWarning: 'verbose_eval' argument is deprecated and will be removed in a future release of LightGBM. Pass 'log_evaluation()' callback via 'callbacks' argument instead.\n",
      "  _log_warning(\"'verbose_eval' argument is deprecated and will be removed in a future release of LightGBM. \"\n",
      "\u001b[32m[I 2022-12-12 15:41:17,585]\u001b[0m Trial 51 pruned. Trial was pruned at iteration 0.\u001b[0m\n"
     ]
    },
    {
     "name": "stdout",
     "output_type": "stream",
     "text": [
      "Trial 51 pruned. Trial was pruned at iteration 0.\n",
      "Trial 51 pruned. Trial was pruned at iteration 0.\n"
     ]
    },
    {
     "name": "stderr",
     "output_type": "stream",
     "text": [
      "\u001b[32m[I 2022-12-12 15:41:17,628]\u001b[0m Trial 52 pruned. Trial was pruned at iteration 0.\u001b[0m\n"
     ]
    },
    {
     "name": "stdout",
     "output_type": "stream",
     "text": [
      "Trial 52 pruned. Trial was pruned at iteration 0.\n",
      "Trial 52 pruned. Trial was pruned at iteration 0.\n"
     ]
    },
    {
     "name": "stderr",
     "output_type": "stream",
     "text": [
      "\u001b[32m[I 2022-12-12 15:41:17,669]\u001b[0m Trial 53 pruned. Trial was pruned at iteration 2.\u001b[0m\n"
     ]
    },
    {
     "name": "stdout",
     "output_type": "stream",
     "text": [
      "Trial 53 pruned. Trial was pruned at iteration 2.\n",
      "Trial 53 pruned. Trial was pruned at iteration 2.\n"
     ]
    },
    {
     "name": "stderr",
     "output_type": "stream",
     "text": [
      "\u001b[32m[I 2022-12-12 15:41:17,709]\u001b[0m Trial 54 pruned. Trial was pruned at iteration 0.\u001b[0m\n"
     ]
    },
    {
     "name": "stdout",
     "output_type": "stream",
     "text": [
      "Trial 54 pruned. Trial was pruned at iteration 0.\n",
      "Trial 54 pruned. Trial was pruned at iteration 0.\n"
     ]
    },
    {
     "name": "stderr",
     "output_type": "stream",
     "text": [
      "\u001b[32m[I 2022-12-12 15:41:17,752]\u001b[0m Trial 55 pruned. Trial was pruned at iteration 0.\u001b[0m\n"
     ]
    },
    {
     "name": "stdout",
     "output_type": "stream",
     "text": [
      "Trial 55 pruned. Trial was pruned at iteration 0.\n",
      "Trial 55 pruned. Trial was pruned at iteration 0.\n"
     ]
    },
    {
     "name": "stderr",
     "output_type": "stream",
     "text": [
      "\u001b[32m[I 2022-12-12 15:41:17,790]\u001b[0m Trial 56 pruned. Trial was pruned at iteration 0.\u001b[0m\n"
     ]
    },
    {
     "name": "stdout",
     "output_type": "stream",
     "text": [
      "Trial 56 pruned. Trial was pruned at iteration 0.\n",
      "Trial 56 pruned. Trial was pruned at iteration 0.\n"
     ]
    },
    {
     "name": "stderr",
     "output_type": "stream",
     "text": [
      "\u001b[32m[I 2022-12-12 15:41:17,831]\u001b[0m Trial 57 pruned. Trial was pruned at iteration 0.\u001b[0m\n"
     ]
    },
    {
     "name": "stdout",
     "output_type": "stream",
     "text": [
      "Trial 57 pruned. Trial was pruned at iteration 0.\n",
      "Trial 57 pruned. Trial was pruned at iteration 0.\n"
     ]
    },
    {
     "name": "stderr",
     "output_type": "stream",
     "text": [
      "\u001b[32m[I 2022-12-12 15:41:17,871]\u001b[0m Trial 58 pruned. Trial was pruned at iteration 0.\u001b[0m\n"
     ]
    },
    {
     "name": "stdout",
     "output_type": "stream",
     "text": [
      "Trial 58 pruned. Trial was pruned at iteration 0.\n",
      "Trial 58 pruned. Trial was pruned at iteration 0.\n"
     ]
    },
    {
     "name": "stderr",
     "output_type": "stream",
     "text": [
      "\u001b[32m[I 2022-12-12 15:41:17,929]\u001b[0m Trial 59 pruned. Trial was pruned at iteration 16.\u001b[0m\n"
     ]
    },
    {
     "name": "stdout",
     "output_type": "stream",
     "text": [
      "Trial 59 pruned. Trial was pruned at iteration 16.\n",
      "Trial 59 pruned. Trial was pruned at iteration 16.\n"
     ]
    },
    {
     "name": "stderr",
     "output_type": "stream",
     "text": [
      "\u001b[32m[I 2022-12-12 15:41:17,970]\u001b[0m Trial 60 pruned. Trial was pruned at iteration 0.\u001b[0m\n"
     ]
    },
    {
     "name": "stdout",
     "output_type": "stream",
     "text": [
      "Trial 60 pruned. Trial was pruned at iteration 0.\n",
      "Trial 60 pruned. Trial was pruned at iteration 0.\n"
     ]
    },
    {
     "name": "stderr",
     "output_type": "stream",
     "text": [
      "\u001b[32m[I 2022-12-12 15:41:18,010]\u001b[0m Trial 61 pruned. Trial was pruned at iteration 0.\u001b[0m\n"
     ]
    },
    {
     "name": "stdout",
     "output_type": "stream",
     "text": [
      "Trial 61 pruned. Trial was pruned at iteration 0.\n",
      "Trial 61 pruned. Trial was pruned at iteration 0.\n"
     ]
    },
    {
     "name": "stderr",
     "output_type": "stream",
     "text": [
      "\u001b[32m[I 2022-12-12 15:41:18,054]\u001b[0m Trial 62 pruned. Trial was pruned at iteration 0.\u001b[0m\n"
     ]
    },
    {
     "name": "stdout",
     "output_type": "stream",
     "text": [
      "Trial 62 pruned. Trial was pruned at iteration 0.\n",
      "Trial 62 pruned. Trial was pruned at iteration 0.\n"
     ]
    },
    {
     "name": "stderr",
     "output_type": "stream",
     "text": [
      "\u001b[32m[I 2022-12-12 15:41:18,094]\u001b[0m Trial 63 pruned. Trial was pruned at iteration 0.\u001b[0m\n"
     ]
    },
    {
     "name": "stdout",
     "output_type": "stream",
     "text": [
      "Trial 63 pruned. Trial was pruned at iteration 0.\n",
      "Trial 63 pruned. Trial was pruned at iteration 0.\n"
     ]
    },
    {
     "name": "stderr",
     "output_type": "stream",
     "text": [
      "\u001b[32m[I 2022-12-12 15:41:18,134]\u001b[0m Trial 64 pruned. Trial was pruned at iteration 0.\u001b[0m\n"
     ]
    },
    {
     "name": "stdout",
     "output_type": "stream",
     "text": [
      "Trial 64 pruned. Trial was pruned at iteration 0.\n",
      "Trial 64 pruned. Trial was pruned at iteration 0.\n"
     ]
    },
    {
     "name": "stderr",
     "output_type": "stream",
     "text": [
      "\u001b[32m[I 2022-12-12 15:41:18,171]\u001b[0m Trial 65 pruned. Trial was pruned at iteration 0.\u001b[0m\n"
     ]
    },
    {
     "name": "stdout",
     "output_type": "stream",
     "text": [
      "Trial 65 pruned. Trial was pruned at iteration 0.\n",
      "Trial 65 pruned. Trial was pruned at iteration 0.\n"
     ]
    },
    {
     "name": "stderr",
     "output_type": "stream",
     "text": [
      "\u001b[32m[I 2022-12-12 15:41:18,211]\u001b[0m Trial 66 pruned. Trial was pruned at iteration 0.\u001b[0m\n"
     ]
    },
    {
     "name": "stdout",
     "output_type": "stream",
     "text": [
      "Trial 66 pruned. Trial was pruned at iteration 0.\n",
      "Trial 66 pruned. Trial was pruned at iteration 0.\n"
     ]
    },
    {
     "name": "stderr",
     "output_type": "stream",
     "text": [
      "\u001b[32m[I 2022-12-12 15:41:18,252]\u001b[0m Trial 67 pruned. Trial was pruned at iteration 0.\u001b[0m\n"
     ]
    },
    {
     "name": "stdout",
     "output_type": "stream",
     "text": [
      "Trial 67 pruned. Trial was pruned at iteration 0.\n",
      "Trial 67 pruned. Trial was pruned at iteration 0.\n"
     ]
    },
    {
     "name": "stderr",
     "output_type": "stream",
     "text": [
      "\u001b[32m[I 2022-12-12 15:41:18,291]\u001b[0m Trial 68 pruned. Trial was pruned at iteration 0.\u001b[0m\n"
     ]
    },
    {
     "name": "stdout",
     "output_type": "stream",
     "text": [
      "Trial 68 pruned. Trial was pruned at iteration 0.\n",
      "Trial 68 pruned. Trial was pruned at iteration 0.\n"
     ]
    },
    {
     "name": "stderr",
     "output_type": "stream",
     "text": [
      "\u001b[32m[I 2022-12-12 15:41:18,332]\u001b[0m Trial 69 pruned. Trial was pruned at iteration 0.\u001b[0m\n"
     ]
    },
    {
     "name": "stdout",
     "output_type": "stream",
     "text": [
      "Trial 69 pruned. Trial was pruned at iteration 0.\n",
      "Trial 69 pruned. Trial was pruned at iteration 0.\n"
     ]
    },
    {
     "name": "stderr",
     "output_type": "stream",
     "text": [
      "\u001b[32m[I 2022-12-12 15:41:18,376]\u001b[0m Trial 70 pruned. Trial was pruned at iteration 0.\u001b[0m\n"
     ]
    },
    {
     "name": "stdout",
     "output_type": "stream",
     "text": [
      "Trial 70 pruned. Trial was pruned at iteration 0.\n",
      "Trial 70 pruned. Trial was pruned at iteration 0.\n"
     ]
    },
    {
     "name": "stderr",
     "output_type": "stream",
     "text": [
      "\u001b[32m[I 2022-12-12 15:41:18,533]\u001b[0m Trial 71 finished with value: 0.972027972027972 and parameters: {'bagging_fraction': 0.8863837668557347, 'bagging_freq': 3, 'min_child_samples': 32}. Best is trial 50 with value: 0.986013986013986.\u001b[0m\n"
     ]
    },
    {
     "name": "stdout",
     "output_type": "stream",
     "text": [
      "Trial 71 finished with value: 0.972027972027972 and parameters: {'bagging_fraction': 0.8863837668557347, 'bagging_freq': 3, 'min_child_samples': 32}. Best is trial 50 with value: 0.986013986013986.\n",
      "Trial 71 finished with value: 0.972027972027972 and parameters: {'bagging_fraction': 0.8863837668557347, 'bagging_freq': 3, 'min_child_samples': 32}. Best is trial 50 with value: 0.986013986013986.\n"
     ]
    },
    {
     "name": "stderr",
     "output_type": "stream",
     "text": [
      "C:\\Users\\dowra\\anaconda3\\lib\\site-packages\\lightgbm\\engine.py:239: UserWarning: 'verbose_eval' argument is deprecated and will be removed in a future release of LightGBM. Pass 'log_evaluation()' callback via 'callbacks' argument instead.\n",
      "  _log_warning(\"'verbose_eval' argument is deprecated and will be removed in a future release of LightGBM. \"\n",
      "\u001b[32m[I 2022-12-12 15:41:18,679]\u001b[0m Trial 72 finished with value: 0.993006993006993 and parameters: {'bagging_fraction': 0.8931578524362773, 'bagging_freq': 3, 'min_child_samples': 33}. Best is trial 72 with value: 0.993006993006993.\u001b[0m\n"
     ]
    },
    {
     "name": "stdout",
     "output_type": "stream",
     "text": [
      "Trial 72 finished with value: 0.993006993006993 and parameters: {'bagging_fraction': 0.8931578524362773, 'bagging_freq': 3, 'min_child_samples': 33}. Best is trial 72 with value: 0.993006993006993.\n",
      "Trial 72 finished with value: 0.993006993006993 and parameters: {'bagging_fraction': 0.8931578524362773, 'bagging_freq': 3, 'min_child_samples': 33}. Best is trial 72 with value: 0.993006993006993.\n"
     ]
    },
    {
     "name": "stderr",
     "output_type": "stream",
     "text": [
      "C:\\Users\\dowra\\anaconda3\\lib\\site-packages\\lightgbm\\engine.py:239: UserWarning: 'verbose_eval' argument is deprecated and will be removed in a future release of LightGBM. Pass 'log_evaluation()' callback via 'callbacks' argument instead.\n",
      "  _log_warning(\"'verbose_eval' argument is deprecated and will be removed in a future release of LightGBM. \"\n",
      "\u001b[32m[I 2022-12-12 15:41:18,727]\u001b[0m Trial 73 pruned. Trial was pruned at iteration 0.\u001b[0m\n"
     ]
    },
    {
     "name": "stdout",
     "output_type": "stream",
     "text": [
      "Trial 73 pruned. Trial was pruned at iteration 0.\n",
      "Trial 73 pruned. Trial was pruned at iteration 0.\n"
     ]
    },
    {
     "name": "stderr",
     "output_type": "stream",
     "text": [
      "\u001b[32m[I 2022-12-12 15:41:18,771]\u001b[0m Trial 74 pruned. Trial was pruned at iteration 0.\u001b[0m\n"
     ]
    },
    {
     "name": "stdout",
     "output_type": "stream",
     "text": [
      "Trial 74 pruned. Trial was pruned at iteration 0.\n",
      "Trial 74 pruned. Trial was pruned at iteration 0.\n"
     ]
    },
    {
     "name": "stderr",
     "output_type": "stream",
     "text": [
      "\u001b[32m[I 2022-12-12 15:41:18,815]\u001b[0m Trial 75 pruned. Trial was pruned at iteration 0.\u001b[0m\n"
     ]
    },
    {
     "name": "stdout",
     "output_type": "stream",
     "text": [
      "Trial 75 pruned. Trial was pruned at iteration 0.\n",
      "Trial 75 pruned. Trial was pruned at iteration 0.\n"
     ]
    },
    {
     "name": "stderr",
     "output_type": "stream",
     "text": [
      "\u001b[32m[I 2022-12-12 15:41:18,855]\u001b[0m Trial 76 pruned. Trial was pruned at iteration 0.\u001b[0m\n"
     ]
    },
    {
     "name": "stdout",
     "output_type": "stream",
     "text": [
      "Trial 76 pruned. Trial was pruned at iteration 0.\n",
      "Trial 76 pruned. Trial was pruned at iteration 0.\n"
     ]
    },
    {
     "name": "stderr",
     "output_type": "stream",
     "text": [
      "\u001b[32m[I 2022-12-12 15:41:18,898]\u001b[0m Trial 77 pruned. Trial was pruned at iteration 0.\u001b[0m\n"
     ]
    },
    {
     "name": "stdout",
     "output_type": "stream",
     "text": [
      "Trial 77 pruned. Trial was pruned at iteration 0.\n",
      "Trial 77 pruned. Trial was pruned at iteration 0.\n"
     ]
    },
    {
     "name": "stderr",
     "output_type": "stream",
     "text": [
      "\u001b[32m[I 2022-12-12 15:41:18,939]\u001b[0m Trial 78 pruned. Trial was pruned at iteration 0.\u001b[0m\n"
     ]
    },
    {
     "name": "stdout",
     "output_type": "stream",
     "text": [
      "Trial 78 pruned. Trial was pruned at iteration 0.\n",
      "Trial 78 pruned. Trial was pruned at iteration 0.\n"
     ]
    },
    {
     "name": "stderr",
     "output_type": "stream",
     "text": [
      "\u001b[32m[I 2022-12-12 15:41:18,983]\u001b[0m Trial 79 pruned. Trial was pruned at iteration 0.\u001b[0m\n"
     ]
    },
    {
     "name": "stdout",
     "output_type": "stream",
     "text": [
      "Trial 79 pruned. Trial was pruned at iteration 0.\n",
      "Trial 79 pruned. Trial was pruned at iteration 0.\n"
     ]
    },
    {
     "name": "stderr",
     "output_type": "stream",
     "text": [
      "\u001b[32m[I 2022-12-12 15:41:19,176]\u001b[0m Trial 80 finished with value: 0.9790209790209791 and parameters: {'bagging_fraction': 0.8806638527982317, 'bagging_freq': 1, 'min_child_samples': 9}. Best is trial 72 with value: 0.993006993006993.\u001b[0m\n"
     ]
    },
    {
     "name": "stdout",
     "output_type": "stream",
     "text": [
      "Trial 80 finished with value: 0.9790209790209791 and parameters: {'bagging_fraction': 0.8806638527982317, 'bagging_freq': 1, 'min_child_samples': 9}. Best is trial 72 with value: 0.993006993006993.\n",
      "Trial 80 finished with value: 0.9790209790209791 and parameters: {'bagging_fraction': 0.8806638527982317, 'bagging_freq': 1, 'min_child_samples': 9}. Best is trial 72 with value: 0.993006993006993.\n"
     ]
    },
    {
     "name": "stderr",
     "output_type": "stream",
     "text": [
      "C:\\Users\\dowra\\anaconda3\\lib\\site-packages\\lightgbm\\engine.py:239: UserWarning: 'verbose_eval' argument is deprecated and will be removed in a future release of LightGBM. Pass 'log_evaluation()' callback via 'callbacks' argument instead.\n",
      "  _log_warning(\"'verbose_eval' argument is deprecated and will be removed in a future release of LightGBM. \"\n",
      "\u001b[32m[I 2022-12-12 15:41:19,225]\u001b[0m Trial 81 pruned. Trial was pruned at iteration 0.\u001b[0m\n"
     ]
    },
    {
     "name": "stdout",
     "output_type": "stream",
     "text": [
      "Trial 81 pruned. Trial was pruned at iteration 0.\n",
      "Trial 81 pruned. Trial was pruned at iteration 0.\n"
     ]
    },
    {
     "name": "stderr",
     "output_type": "stream",
     "text": [
      "\u001b[32m[I 2022-12-12 15:41:19,272]\u001b[0m Trial 82 pruned. Trial was pruned at iteration 0.\u001b[0m\n"
     ]
    },
    {
     "name": "stdout",
     "output_type": "stream",
     "text": [
      "Trial 82 pruned. Trial was pruned at iteration 0.\n",
      "Trial 82 pruned. Trial was pruned at iteration 0.\n"
     ]
    },
    {
     "name": "stderr",
     "output_type": "stream",
     "text": [
      "\u001b[32m[I 2022-12-12 15:41:19,482]\u001b[0m Trial 83 finished with value: 0.986013986013986 and parameters: {'bagging_fraction': 0.9611477402816999, 'bagging_freq': 1, 'min_child_samples': 8}. Best is trial 72 with value: 0.993006993006993.\u001b[0m\n"
     ]
    },
    {
     "name": "stdout",
     "output_type": "stream",
     "text": [
      "Trial 83 finished with value: 0.986013986013986 and parameters: {'bagging_fraction': 0.9611477402816999, 'bagging_freq': 1, 'min_child_samples': 8}. Best is trial 72 with value: 0.993006993006993.\n",
      "Trial 83 finished with value: 0.986013986013986 and parameters: {'bagging_fraction': 0.9611477402816999, 'bagging_freq': 1, 'min_child_samples': 8}. Best is trial 72 with value: 0.993006993006993.\n"
     ]
    },
    {
     "name": "stderr",
     "output_type": "stream",
     "text": [
      "C:\\Users\\dowra\\anaconda3\\lib\\site-packages\\lightgbm\\engine.py:239: UserWarning: 'verbose_eval' argument is deprecated and will be removed in a future release of LightGBM. Pass 'log_evaluation()' callback via 'callbacks' argument instead.\n",
      "  _log_warning(\"'verbose_eval' argument is deprecated and will be removed in a future release of LightGBM. \"\n",
      "\u001b[32m[I 2022-12-12 15:41:19,522]\u001b[0m Trial 84 pruned. Trial was pruned at iteration 1.\u001b[0m\n"
     ]
    },
    {
     "name": "stdout",
     "output_type": "stream",
     "text": [
      "Trial 84 pruned. Trial was pruned at iteration 1.\n",
      "Trial 84 pruned. Trial was pruned at iteration 1.\n"
     ]
    },
    {
     "name": "stderr",
     "output_type": "stream",
     "text": [
      "\u001b[32m[I 2022-12-12 15:41:19,565]\u001b[0m Trial 85 pruned. Trial was pruned at iteration 0.\u001b[0m\n"
     ]
    },
    {
     "name": "stdout",
     "output_type": "stream",
     "text": [
      "Trial 85 pruned. Trial was pruned at iteration 0.\n",
      "Trial 85 pruned. Trial was pruned at iteration 0.\n"
     ]
    },
    {
     "name": "stderr",
     "output_type": "stream",
     "text": [
      "\u001b[32m[I 2022-12-12 15:41:19,728]\u001b[0m Trial 86 finished with value: 1.0 and parameters: {'bagging_fraction': 0.98988468227619, 'bagging_freq': 1, 'min_child_samples': 19}. Best is trial 86 with value: 1.0.\u001b[0m\n"
     ]
    },
    {
     "name": "stdout",
     "output_type": "stream",
     "text": [
      "Trial 86 finished with value: 1.0 and parameters: {'bagging_fraction': 0.98988468227619, 'bagging_freq': 1, 'min_child_samples': 19}. Best is trial 86 with value: 1.0.\n",
      "Trial 86 finished with value: 1.0 and parameters: {'bagging_fraction': 0.98988468227619, 'bagging_freq': 1, 'min_child_samples': 19}. Best is trial 86 with value: 1.0.\n"
     ]
    },
    {
     "name": "stderr",
     "output_type": "stream",
     "text": [
      "C:\\Users\\dowra\\anaconda3\\lib\\site-packages\\lightgbm\\engine.py:239: UserWarning: 'verbose_eval' argument is deprecated and will be removed in a future release of LightGBM. Pass 'log_evaluation()' callback via 'callbacks' argument instead.\n",
      "  _log_warning(\"'verbose_eval' argument is deprecated and will be removed in a future release of LightGBM. \"\n",
      "\u001b[32m[I 2022-12-12 15:41:19,769]\u001b[0m Trial 87 pruned. Trial was pruned at iteration 0.\u001b[0m\n"
     ]
    },
    {
     "name": "stdout",
     "output_type": "stream",
     "text": [
      "Trial 87 pruned. Trial was pruned at iteration 0.\n",
      "Trial 87 pruned. Trial was pruned at iteration 0.\n"
     ]
    },
    {
     "name": "stderr",
     "output_type": "stream",
     "text": [
      "\u001b[32m[I 2022-12-12 15:41:19,809]\u001b[0m Trial 88 pruned. Trial was pruned at iteration 0.\u001b[0m\n"
     ]
    },
    {
     "name": "stdout",
     "output_type": "stream",
     "text": [
      "Trial 88 pruned. Trial was pruned at iteration 0.\n",
      "Trial 88 pruned. Trial was pruned at iteration 0.\n"
     ]
    },
    {
     "name": "stderr",
     "output_type": "stream",
     "text": [
      "\u001b[32m[I 2022-12-12 15:41:19,850]\u001b[0m Trial 89 pruned. Trial was pruned at iteration 0.\u001b[0m\n"
     ]
    },
    {
     "name": "stdout",
     "output_type": "stream",
     "text": [
      "Trial 89 pruned. Trial was pruned at iteration 0.\n",
      "Trial 89 pruned. Trial was pruned at iteration 0.\n"
     ]
    },
    {
     "name": "stderr",
     "output_type": "stream",
     "text": [
      "\u001b[32m[I 2022-12-12 15:41:19,889]\u001b[0m Trial 90 pruned. Trial was pruned at iteration 0.\u001b[0m\n"
     ]
    },
    {
     "name": "stdout",
     "output_type": "stream",
     "text": [
      "Trial 90 pruned. Trial was pruned at iteration 0.\n",
      "Trial 90 pruned. Trial was pruned at iteration 0.\n"
     ]
    },
    {
     "name": "stderr",
     "output_type": "stream",
     "text": [
      "\u001b[32m[I 2022-12-12 15:41:19,930]\u001b[0m Trial 91 pruned. Trial was pruned at iteration 0.\u001b[0m\n"
     ]
    },
    {
     "name": "stdout",
     "output_type": "stream",
     "text": [
      "Trial 91 pruned. Trial was pruned at iteration 0.\n",
      "Trial 91 pruned. Trial was pruned at iteration 0.\n"
     ]
    },
    {
     "name": "stderr",
     "output_type": "stream",
     "text": [
      "\u001b[32m[I 2022-12-12 15:41:19,970]\u001b[0m Trial 92 pruned. Trial was pruned at iteration 0.\u001b[0m\n"
     ]
    },
    {
     "name": "stdout",
     "output_type": "stream",
     "text": [
      "Trial 92 pruned. Trial was pruned at iteration 0.\n",
      "Trial 92 pruned. Trial was pruned at iteration 0.\n"
     ]
    },
    {
     "name": "stderr",
     "output_type": "stream",
     "text": [
      "\u001b[32m[I 2022-12-12 15:41:20,014]\u001b[0m Trial 93 pruned. Trial was pruned at iteration 0.\u001b[0m\n"
     ]
    },
    {
     "name": "stdout",
     "output_type": "stream",
     "text": [
      "Trial 93 pruned. Trial was pruned at iteration 0.\n",
      "Trial 93 pruned. Trial was pruned at iteration 0.\n"
     ]
    },
    {
     "name": "stderr",
     "output_type": "stream",
     "text": [
      "\u001b[32m[I 2022-12-12 15:41:20,055]\u001b[0m Trial 94 pruned. Trial was pruned at iteration 0.\u001b[0m\n"
     ]
    },
    {
     "name": "stdout",
     "output_type": "stream",
     "text": [
      "Trial 94 pruned. Trial was pruned at iteration 0.\n",
      "Trial 94 pruned. Trial was pruned at iteration 0.\n"
     ]
    },
    {
     "name": "stderr",
     "output_type": "stream",
     "text": [
      "\u001b[32m[I 2022-12-12 15:41:20,095]\u001b[0m Trial 95 pruned. Trial was pruned at iteration 0.\u001b[0m\n"
     ]
    },
    {
     "name": "stdout",
     "output_type": "stream",
     "text": [
      "Trial 95 pruned. Trial was pruned at iteration 0.\n",
      "Trial 95 pruned. Trial was pruned at iteration 0.\n"
     ]
    },
    {
     "name": "stderr",
     "output_type": "stream",
     "text": [
      "\u001b[32m[I 2022-12-12 15:41:20,135]\u001b[0m Trial 96 pruned. Trial was pruned at iteration 0.\u001b[0m\n"
     ]
    },
    {
     "name": "stdout",
     "output_type": "stream",
     "text": [
      "Trial 96 pruned. Trial was pruned at iteration 0.\n",
      "Trial 96 pruned. Trial was pruned at iteration 0.\n"
     ]
    },
    {
     "name": "stderr",
     "output_type": "stream",
     "text": [
      "\u001b[32m[I 2022-12-12 15:41:20,174]\u001b[0m Trial 97 pruned. Trial was pruned at iteration 0.\u001b[0m\n"
     ]
    },
    {
     "name": "stdout",
     "output_type": "stream",
     "text": [
      "Trial 97 pruned. Trial was pruned at iteration 0.\n",
      "Trial 97 pruned. Trial was pruned at iteration 0.\n"
     ]
    },
    {
     "name": "stderr",
     "output_type": "stream",
     "text": [
      "\u001b[32m[I 2022-12-12 15:41:20,230]\u001b[0m Trial 98 pruned. Trial was pruned at iteration 16.\u001b[0m\n"
     ]
    },
    {
     "name": "stdout",
     "output_type": "stream",
     "text": [
      "Trial 98 pruned. Trial was pruned at iteration 16.\n",
      "Trial 98 pruned. Trial was pruned at iteration 16.\n"
     ]
    },
    {
     "name": "stderr",
     "output_type": "stream",
     "text": [
      "\u001b[32m[I 2022-12-12 15:41:20,273]\u001b[0m Trial 99 pruned. Trial was pruned at iteration 0.\u001b[0m\n"
     ]
    },
    {
     "name": "stdout",
     "output_type": "stream",
     "text": [
      "Trial 99 pruned. Trial was pruned at iteration 0.\n",
      "Trial 99 pruned. Trial was pruned at iteration 0.\n"
     ]
    }
   ],
   "source": [
    "# study에 euqne_trial을 지정하기만 하면 된다.\n",
    "# 이들을 먼저 테스트해본 다음 다른 하이퍼파라미터 집합을 탐색한다\n",
    "study.enqueue_trial(\n",
    "    {\n",
    "        'bagging_fraction' : 1.0,\n",
    "        'bagging_freq' : 0,\n",
    "        'min_child_samples' : 20\n",
    "    })\n",
    "\n",
    "study.enqueue_trial({\n",
    "    'bagging_fraction' : 0.75,\n",
    "    'bagging_freq' : 5,\n",
    "    'min_child_samples' : 20\n",
    "})\n",
    "\n",
    "import logging\n",
    "import sys\n",
    "\n",
    "optuna.logging.get_logger('optuna').addHandler(logging.StreamHandler(sys.stdout))\n",
    "study.optimize(objective, n_trials = 100, timeout = 600)"
   ]
  },
  {
   "cell_type": "markdown",
   "id": "0933823f-f99b-4298-8c74-20fc69a470d2",
   "metadata": {},
   "source": [
    "# 시나리오 2 : 이미 평가된 하이퍼파라미터 활용"
   ]
  },
  {
   "cell_type": "markdown",
   "id": "d42d9fd2-16f5-4e17-a1a2-d5bde6647c62",
   "metadata": {},
   "source": [
    "- 가정 : 이미 평가된 하이퍼파라미터 세트가 있으며, 결과가 바람직하지 않아 Optuna 사용을 고려한다\n",
    "- 이 때 `optuna.study.Study.add_trial()`을 사용할 수 있음"
   ]
  },
  {
   "cell_type": "code",
   "execution_count": 9,
   "id": "b801f3a3-ce71-42a7-8897-ada64327cbf8",
   "metadata": {},
   "outputs": [
    {
     "name": "stderr",
     "output_type": "stream",
     "text": [
      "\u001b[32m[I 2022-12-12 15:46:18,553]\u001b[0m A new study created in memory with name: no-name-46381711-b3f2-4d50-96e6-91b2c53edc18\u001b[0m\n"
     ]
    },
    {
     "name": "stdout",
     "output_type": "stream",
     "text": [
      "A new study created in memory with name: no-name-46381711-b3f2-4d50-96e6-91b2c53edc18\n",
      "A new study created in memory with name: no-name-46381711-b3f2-4d50-96e6-91b2c53edc18\n"
     ]
    },
    {
     "name": "stderr",
     "output_type": "stream",
     "text": [
      "\u001b[32m[I 2022-12-12 15:46:18,674]\u001b[0m Trial 2 finished with value: 0.965034965034965 and parameters: {'bagging_fraction': 0.41041432121187066, 'bagging_freq': 5, 'min_child_samples': 77}. Best is trial 2 with value: 0.965034965034965.\u001b[0m\n"
     ]
    },
    {
     "name": "stdout",
     "output_type": "stream",
     "text": [
      "Trial 2 finished with value: 0.965034965034965 and parameters: {'bagging_fraction': 0.41041432121187066, 'bagging_freq': 5, 'min_child_samples': 77}. Best is trial 2 with value: 0.965034965034965.\n",
      "Trial 2 finished with value: 0.965034965034965 and parameters: {'bagging_fraction': 0.41041432121187066, 'bagging_freq': 5, 'min_child_samples': 77}. Best is trial 2 with value: 0.965034965034965.\n"
     ]
    },
    {
     "name": "stderr",
     "output_type": "stream",
     "text": [
      "C:\\Users\\dowra\\anaconda3\\lib\\site-packages\\lightgbm\\engine.py:239: UserWarning: 'verbose_eval' argument is deprecated and will be removed in a future release of LightGBM. Pass 'log_evaluation()' callback via 'callbacks' argument instead.\n",
      "  _log_warning(\"'verbose_eval' argument is deprecated and will be removed in a future release of LightGBM. \"\n",
      "\u001b[32m[I 2022-12-12 15:46:18,755]\u001b[0m Trial 3 finished with value: 0.958041958041958 and parameters: {'bagging_fraction': 0.42852161909238506, 'bagging_freq': 4, 'min_child_samples': 64}. Best is trial 2 with value: 0.965034965034965.\u001b[0m\n"
     ]
    },
    {
     "name": "stdout",
     "output_type": "stream",
     "text": [
      "Trial 3 finished with value: 0.958041958041958 and parameters: {'bagging_fraction': 0.42852161909238506, 'bagging_freq': 4, 'min_child_samples': 64}. Best is trial 2 with value: 0.965034965034965.\n",
      "Trial 3 finished with value: 0.958041958041958 and parameters: {'bagging_fraction': 0.42852161909238506, 'bagging_freq': 4, 'min_child_samples': 64}. Best is trial 2 with value: 0.965034965034965.\n"
     ]
    },
    {
     "name": "stderr",
     "output_type": "stream",
     "text": [
      "C:\\Users\\dowra\\anaconda3\\lib\\site-packages\\lightgbm\\engine.py:239: UserWarning: 'verbose_eval' argument is deprecated and will be removed in a future release of LightGBM. Pass 'log_evaluation()' callback via 'callbacks' argument instead.\n",
      "  _log_warning(\"'verbose_eval' argument is deprecated and will be removed in a future release of LightGBM. \"\n",
      "\u001b[32m[I 2022-12-12 15:46:18,823]\u001b[0m Trial 4 finished with value: 0.965034965034965 and parameters: {'bagging_fraction': 0.7758924913960881, 'bagging_freq': 5, 'min_child_samples': 76}. Best is trial 2 with value: 0.965034965034965.\u001b[0m\n"
     ]
    },
    {
     "name": "stdout",
     "output_type": "stream",
     "text": [
      "Trial 4 finished with value: 0.965034965034965 and parameters: {'bagging_fraction': 0.7758924913960881, 'bagging_freq': 5, 'min_child_samples': 76}. Best is trial 2 with value: 0.965034965034965.\n",
      "Trial 4 finished with value: 0.965034965034965 and parameters: {'bagging_fraction': 0.7758924913960881, 'bagging_freq': 5, 'min_child_samples': 76}. Best is trial 2 with value: 0.965034965034965.\n"
     ]
    },
    {
     "name": "stderr",
     "output_type": "stream",
     "text": [
      "C:\\Users\\dowra\\anaconda3\\lib\\site-packages\\lightgbm\\engine.py:239: UserWarning: 'verbose_eval' argument is deprecated and will be removed in a future release of LightGBM. Pass 'log_evaluation()' callback via 'callbacks' argument instead.\n",
      "  _log_warning(\"'verbose_eval' argument is deprecated and will be removed in a future release of LightGBM. \"\n",
      "\u001b[32m[I 2022-12-12 15:46:18,941]\u001b[0m Trial 5 finished with value: 0.965034965034965 and parameters: {'bagging_fraction': 0.6150172784950024, 'bagging_freq': 0, 'min_child_samples': 47}. Best is trial 2 with value: 0.965034965034965.\u001b[0m\n"
     ]
    },
    {
     "name": "stdout",
     "output_type": "stream",
     "text": [
      "Trial 5 finished with value: 0.965034965034965 and parameters: {'bagging_fraction': 0.6150172784950024, 'bagging_freq': 0, 'min_child_samples': 47}. Best is trial 2 with value: 0.965034965034965.\n",
      "Trial 5 finished with value: 0.965034965034965 and parameters: {'bagging_fraction': 0.6150172784950024, 'bagging_freq': 0, 'min_child_samples': 47}. Best is trial 2 with value: 0.965034965034965.\n"
     ]
    },
    {
     "name": "stderr",
     "output_type": "stream",
     "text": [
      "C:\\Users\\dowra\\anaconda3\\lib\\site-packages\\lightgbm\\engine.py:239: UserWarning: 'verbose_eval' argument is deprecated and will be removed in a future release of LightGBM. Pass 'log_evaluation()' callback via 'callbacks' argument instead.\n",
      "  _log_warning(\"'verbose_eval' argument is deprecated and will be removed in a future release of LightGBM. \"\n",
      "\u001b[32m[I 2022-12-12 15:46:19,046]\u001b[0m Trial 6 finished with value: 0.972027972027972 and parameters: {'bagging_fraction': 0.5234896528276564, 'bagging_freq': 4, 'min_child_samples': 30}. Best is trial 6 with value: 0.972027972027972.\u001b[0m\n"
     ]
    },
    {
     "name": "stdout",
     "output_type": "stream",
     "text": [
      "Trial 6 finished with value: 0.972027972027972 and parameters: {'bagging_fraction': 0.5234896528276564, 'bagging_freq': 4, 'min_child_samples': 30}. Best is trial 6 with value: 0.972027972027972.\n",
      "Trial 6 finished with value: 0.972027972027972 and parameters: {'bagging_fraction': 0.5234896528276564, 'bagging_freq': 4, 'min_child_samples': 30}. Best is trial 6 with value: 0.972027972027972.\n"
     ]
    },
    {
     "name": "stderr",
     "output_type": "stream",
     "text": [
      "C:\\Users\\dowra\\anaconda3\\lib\\site-packages\\lightgbm\\engine.py:239: UserWarning: 'verbose_eval' argument is deprecated and will be removed in a future release of LightGBM. Pass 'log_evaluation()' callback via 'callbacks' argument instead.\n",
      "  _log_warning(\"'verbose_eval' argument is deprecated and will be removed in a future release of LightGBM. \"\n",
      "\u001b[32m[I 2022-12-12 15:46:19,093]\u001b[0m Trial 7 pruned. Trial was pruned at iteration 14.\u001b[0m\n"
     ]
    },
    {
     "name": "stdout",
     "output_type": "stream",
     "text": [
      "Trial 7 pruned. Trial was pruned at iteration 14.\n",
      "Trial 7 pruned. Trial was pruned at iteration 14.\n"
     ]
    },
    {
     "name": "stderr",
     "output_type": "stream",
     "text": [
      "\u001b[32m[I 2022-12-12 15:46:19,134]\u001b[0m Trial 8 pruned. Trial was pruned at iteration 14.\u001b[0m\n"
     ]
    },
    {
     "name": "stdout",
     "output_type": "stream",
     "text": [
      "Trial 8 pruned. Trial was pruned at iteration 14.\n",
      "Trial 8 pruned. Trial was pruned at iteration 14.\n"
     ]
    },
    {
     "name": "stderr",
     "output_type": "stream",
     "text": [
      "\u001b[32m[I 2022-12-12 15:46:19,230]\u001b[0m Trial 9 finished with value: 0.958041958041958 and parameters: {'bagging_fraction': 0.7630851398196358, 'bagging_freq': 6, 'min_child_samples': 94}. Best is trial 6 with value: 0.972027972027972.\u001b[0m\n"
     ]
    },
    {
     "name": "stdout",
     "output_type": "stream",
     "text": [
      "Trial 9 finished with value: 0.958041958041958 and parameters: {'bagging_fraction': 0.7630851398196358, 'bagging_freq': 6, 'min_child_samples': 94}. Best is trial 6 with value: 0.972027972027972.\n",
      "Trial 9 finished with value: 0.958041958041958 and parameters: {'bagging_fraction': 0.7630851398196358, 'bagging_freq': 6, 'min_child_samples': 94}. Best is trial 6 with value: 0.972027972027972.\n"
     ]
    },
    {
     "name": "stderr",
     "output_type": "stream",
     "text": [
      "C:\\Users\\dowra\\anaconda3\\lib\\site-packages\\lightgbm\\engine.py:239: UserWarning: 'verbose_eval' argument is deprecated and will be removed in a future release of LightGBM. Pass 'log_evaluation()' callback via 'callbacks' argument instead.\n",
      "  _log_warning(\"'verbose_eval' argument is deprecated and will be removed in a future release of LightGBM. \"\n",
      "\u001b[32m[I 2022-12-12 15:46:19,362]\u001b[0m Trial 10 finished with value: 0.965034965034965 and parameters: {'bagging_fraction': 0.5731176870345533, 'bagging_freq': 2, 'min_child_samples': 42}. Best is trial 6 with value: 0.972027972027972.\u001b[0m\n"
     ]
    },
    {
     "name": "stdout",
     "output_type": "stream",
     "text": [
      "Trial 10 finished with value: 0.965034965034965 and parameters: {'bagging_fraction': 0.5731176870345533, 'bagging_freq': 2, 'min_child_samples': 42}. Best is trial 6 with value: 0.972027972027972.\n",
      "Trial 10 finished with value: 0.965034965034965 and parameters: {'bagging_fraction': 0.5731176870345533, 'bagging_freq': 2, 'min_child_samples': 42}. Best is trial 6 with value: 0.972027972027972.\n"
     ]
    },
    {
     "name": "stderr",
     "output_type": "stream",
     "text": [
      "C:\\Users\\dowra\\anaconda3\\lib\\site-packages\\lightgbm\\engine.py:239: UserWarning: 'verbose_eval' argument is deprecated and will be removed in a future release of LightGBM. Pass 'log_evaluation()' callback via 'callbacks' argument instead.\n",
      "  _log_warning(\"'verbose_eval' argument is deprecated and will be removed in a future release of LightGBM. \"\n",
      "\u001b[32m[I 2022-12-12 15:46:19,408]\u001b[0m Trial 11 pruned. Trial was pruned at iteration 0.\u001b[0m\n"
     ]
    },
    {
     "name": "stdout",
     "output_type": "stream",
     "text": [
      "Trial 11 pruned. Trial was pruned at iteration 0.\n",
      "Trial 11 pruned. Trial was pruned at iteration 0.\n"
     ]
    },
    {
     "name": "stderr",
     "output_type": "stream",
     "text": [
      "\u001b[32m[I 2022-12-12 15:46:19,456]\u001b[0m Trial 12 pruned. Trial was pruned at iteration 0.\u001b[0m\n"
     ]
    },
    {
     "name": "stdout",
     "output_type": "stream",
     "text": [
      "Trial 12 pruned. Trial was pruned at iteration 0.\n",
      "Trial 12 pruned. Trial was pruned at iteration 0.\n"
     ]
    },
    {
     "name": "stderr",
     "output_type": "stream",
     "text": [
      "\u001b[32m[I 2022-12-12 15:46:19,499]\u001b[0m Trial 13 pruned. Trial was pruned at iteration 0.\u001b[0m\n"
     ]
    },
    {
     "name": "stdout",
     "output_type": "stream",
     "text": [
      "Trial 13 pruned. Trial was pruned at iteration 0.\n",
      "Trial 13 pruned. Trial was pruned at iteration 0.\n"
     ]
    },
    {
     "name": "stderr",
     "output_type": "stream",
     "text": [
      "\u001b[32m[I 2022-12-12 15:46:19,546]\u001b[0m Trial 14 pruned. Trial was pruned at iteration 0.\u001b[0m\n"
     ]
    },
    {
     "name": "stdout",
     "output_type": "stream",
     "text": [
      "Trial 14 pruned. Trial was pruned at iteration 0.\n",
      "Trial 14 pruned. Trial was pruned at iteration 0.\n"
     ]
    },
    {
     "name": "stderr",
     "output_type": "stream",
     "text": [
      "\u001b[32m[I 2022-12-12 15:46:19,590]\u001b[0m Trial 15 pruned. Trial was pruned at iteration 0.\u001b[0m\n"
     ]
    },
    {
     "name": "stdout",
     "output_type": "stream",
     "text": [
      "Trial 15 pruned. Trial was pruned at iteration 0.\n",
      "Trial 15 pruned. Trial was pruned at iteration 0.\n"
     ]
    },
    {
     "name": "stderr",
     "output_type": "stream",
     "text": [
      "\u001b[32m[I 2022-12-12 15:46:19,650]\u001b[0m Trial 16 pruned. Trial was pruned at iteration 19.\u001b[0m\n"
     ]
    },
    {
     "name": "stdout",
     "output_type": "stream",
     "text": [
      "Trial 16 pruned. Trial was pruned at iteration 19.\n",
      "Trial 16 pruned. Trial was pruned at iteration 19.\n"
     ]
    },
    {
     "name": "stderr",
     "output_type": "stream",
     "text": [
      "\u001b[32m[I 2022-12-12 15:46:19,700]\u001b[0m Trial 17 pruned. Trial was pruned at iteration 0.\u001b[0m\n"
     ]
    },
    {
     "name": "stdout",
     "output_type": "stream",
     "text": [
      "Trial 17 pruned. Trial was pruned at iteration 0.\n",
      "Trial 17 pruned. Trial was pruned at iteration 0.\n"
     ]
    },
    {
     "name": "stderr",
     "output_type": "stream",
     "text": [
      "\u001b[32m[I 2022-12-12 15:46:19,845]\u001b[0m Trial 18 finished with value: 0.972027972027972 and parameters: {'bagging_fraction': 0.9119269357045969, 'bagging_freq': 6, 'min_child_samples': 29}. Best is trial 6 with value: 0.972027972027972.\u001b[0m\n"
     ]
    },
    {
     "name": "stdout",
     "output_type": "stream",
     "text": [
      "Trial 18 finished with value: 0.972027972027972 and parameters: {'bagging_fraction': 0.9119269357045969, 'bagging_freq': 6, 'min_child_samples': 29}. Best is trial 6 with value: 0.972027972027972.\n",
      "Trial 18 finished with value: 0.972027972027972 and parameters: {'bagging_fraction': 0.9119269357045969, 'bagging_freq': 6, 'min_child_samples': 29}. Best is trial 6 with value: 0.972027972027972.\n"
     ]
    },
    {
     "name": "stderr",
     "output_type": "stream",
     "text": [
      "C:\\Users\\dowra\\anaconda3\\lib\\site-packages\\lightgbm\\engine.py:239: UserWarning: 'verbose_eval' argument is deprecated and will be removed in a future release of LightGBM. Pass 'log_evaluation()' callback via 'callbacks' argument instead.\n",
      "  _log_warning(\"'verbose_eval' argument is deprecated and will be removed in a future release of LightGBM. \"\n",
      "\u001b[32m[I 2022-12-12 15:46:19,897]\u001b[0m Trial 19 pruned. Trial was pruned at iteration 6.\u001b[0m\n"
     ]
    },
    {
     "name": "stdout",
     "output_type": "stream",
     "text": [
      "Trial 19 pruned. Trial was pruned at iteration 6.\n",
      "Trial 19 pruned. Trial was pruned at iteration 6.\n"
     ]
    },
    {
     "name": "stderr",
     "output_type": "stream",
     "text": [
      "\u001b[32m[I 2022-12-12 15:46:20,098]\u001b[0m Trial 20 finished with value: 0.993006993006993 and parameters: {'bagging_fraction': 0.964808284345621, 'bagging_freq': 4, 'min_child_samples': 5}. Best is trial 20 with value: 0.993006993006993.\u001b[0m\n"
     ]
    },
    {
     "name": "stdout",
     "output_type": "stream",
     "text": [
      "Trial 20 finished with value: 0.993006993006993 and parameters: {'bagging_fraction': 0.964808284345621, 'bagging_freq': 4, 'min_child_samples': 5}. Best is trial 20 with value: 0.993006993006993.\n",
      "Trial 20 finished with value: 0.993006993006993 and parameters: {'bagging_fraction': 0.964808284345621, 'bagging_freq': 4, 'min_child_samples': 5}. Best is trial 20 with value: 0.993006993006993.\n"
     ]
    },
    {
     "name": "stderr",
     "output_type": "stream",
     "text": [
      "C:\\Users\\dowra\\anaconda3\\lib\\site-packages\\lightgbm\\engine.py:239: UserWarning: 'verbose_eval' argument is deprecated and will be removed in a future release of LightGBM. Pass 'log_evaluation()' callback via 'callbacks' argument instead.\n",
      "  _log_warning(\"'verbose_eval' argument is deprecated and will be removed in a future release of LightGBM. \"\n",
      "\u001b[32m[I 2022-12-12 15:46:20,340]\u001b[0m Trial 21 finished with value: 0.9790209790209791 and parameters: {'bagging_fraction': 0.9715463060220839, 'bagging_freq': 4, 'min_child_samples': 5}. Best is trial 20 with value: 0.993006993006993.\u001b[0m\n"
     ]
    },
    {
     "name": "stdout",
     "output_type": "stream",
     "text": [
      "Trial 21 finished with value: 0.9790209790209791 and parameters: {'bagging_fraction': 0.9715463060220839, 'bagging_freq': 4, 'min_child_samples': 5}. Best is trial 20 with value: 0.993006993006993.\n",
      "Trial 21 finished with value: 0.9790209790209791 and parameters: {'bagging_fraction': 0.9715463060220839, 'bagging_freq': 4, 'min_child_samples': 5}. Best is trial 20 with value: 0.993006993006993.\n"
     ]
    },
    {
     "name": "stderr",
     "output_type": "stream",
     "text": [
      "C:\\Users\\dowra\\anaconda3\\lib\\site-packages\\lightgbm\\engine.py:239: UserWarning: 'verbose_eval' argument is deprecated and will be removed in a future release of LightGBM. Pass 'log_evaluation()' callback via 'callbacks' argument instead.\n",
      "  _log_warning(\"'verbose_eval' argument is deprecated and will be removed in a future release of LightGBM. \"\n",
      "\u001b[32m[I 2022-12-12 15:46:20,392]\u001b[0m Trial 22 pruned. Trial was pruned at iteration 1.\u001b[0m\n"
     ]
    },
    {
     "name": "stdout",
     "output_type": "stream",
     "text": [
      "Trial 22 pruned. Trial was pruned at iteration 1.\n",
      "Trial 22 pruned. Trial was pruned at iteration 1.\n"
     ]
    },
    {
     "name": "stderr",
     "output_type": "stream",
     "text": [
      "\u001b[32m[I 2022-12-12 15:46:20,438]\u001b[0m Trial 23 pruned. Trial was pruned at iteration 1.\u001b[0m\n"
     ]
    },
    {
     "name": "stdout",
     "output_type": "stream",
     "text": [
      "Trial 23 pruned. Trial was pruned at iteration 1.\n",
      "Trial 23 pruned. Trial was pruned at iteration 1.\n"
     ]
    },
    {
     "name": "stderr",
     "output_type": "stream",
     "text": [
      "\u001b[32m[I 2022-12-12 15:46:20,485]\u001b[0m Trial 24 pruned. Trial was pruned at iteration 0.\u001b[0m\n"
     ]
    },
    {
     "name": "stdout",
     "output_type": "stream",
     "text": [
      "Trial 24 pruned. Trial was pruned at iteration 0.\n",
      "Trial 24 pruned. Trial was pruned at iteration 0.\n"
     ]
    },
    {
     "name": "stderr",
     "output_type": "stream",
     "text": [
      "\u001b[32m[I 2022-12-12 15:46:20,531]\u001b[0m Trial 25 pruned. Trial was pruned at iteration 0.\u001b[0m\n"
     ]
    },
    {
     "name": "stdout",
     "output_type": "stream",
     "text": [
      "Trial 25 pruned. Trial was pruned at iteration 0.\n",
      "Trial 25 pruned. Trial was pruned at iteration 0.\n"
     ]
    },
    {
     "name": "stderr",
     "output_type": "stream",
     "text": [
      "\u001b[32m[I 2022-12-12 15:46:20,576]\u001b[0m Trial 26 pruned. Trial was pruned at iteration 1.\u001b[0m\n"
     ]
    },
    {
     "name": "stdout",
     "output_type": "stream",
     "text": [
      "Trial 26 pruned. Trial was pruned at iteration 1.\n",
      "Trial 26 pruned. Trial was pruned at iteration 1.\n"
     ]
    },
    {
     "name": "stderr",
     "output_type": "stream",
     "text": [
      "\u001b[32m[I 2022-12-12 15:46:20,629]\u001b[0m Trial 27 pruned. Trial was pruned at iteration 1.\u001b[0m\n"
     ]
    },
    {
     "name": "stdout",
     "output_type": "stream",
     "text": [
      "Trial 27 pruned. Trial was pruned at iteration 1.\n",
      "Trial 27 pruned. Trial was pruned at iteration 1.\n"
     ]
    },
    {
     "name": "stderr",
     "output_type": "stream",
     "text": [
      "\u001b[32m[I 2022-12-12 15:46:20,682]\u001b[0m Trial 28 pruned. Trial was pruned at iteration 10.\u001b[0m\n"
     ]
    },
    {
     "name": "stdout",
     "output_type": "stream",
     "text": [
      "Trial 28 pruned. Trial was pruned at iteration 10.\n",
      "Trial 28 pruned. Trial was pruned at iteration 10.\n"
     ]
    },
    {
     "name": "stderr",
     "output_type": "stream",
     "text": [
      "\u001b[32m[I 2022-12-12 15:46:20,732]\u001b[0m Trial 29 pruned. Trial was pruned at iteration 6.\u001b[0m\n"
     ]
    },
    {
     "name": "stdout",
     "output_type": "stream",
     "text": [
      "Trial 29 pruned. Trial was pruned at iteration 6.\n",
      "Trial 29 pruned. Trial was pruned at iteration 6.\n"
     ]
    },
    {
     "name": "stderr",
     "output_type": "stream",
     "text": [
      "\u001b[32m[I 2022-12-12 15:46:20,773]\u001b[0m Trial 30 pruned. Trial was pruned at iteration 1.\u001b[0m\n"
     ]
    },
    {
     "name": "stdout",
     "output_type": "stream",
     "text": [
      "Trial 30 pruned. Trial was pruned at iteration 1.\n",
      "Trial 30 pruned. Trial was pruned at iteration 1.\n"
     ]
    },
    {
     "name": "stderr",
     "output_type": "stream",
     "text": [
      "\u001b[32m[I 2022-12-12 15:46:20,898]\u001b[0m Trial 31 finished with value: 0.986013986013986 and parameters: {'bagging_fraction': 0.8986398573395271, 'bagging_freq': 4, 'min_child_samples': 31}. Best is trial 20 with value: 0.993006993006993.\u001b[0m\n"
     ]
    },
    {
     "name": "stdout",
     "output_type": "stream",
     "text": [
      "Trial 31 finished with value: 0.986013986013986 and parameters: {'bagging_fraction': 0.8986398573395271, 'bagging_freq': 4, 'min_child_samples': 31}. Best is trial 20 with value: 0.993006993006993.\n",
      "Trial 31 finished with value: 0.986013986013986 and parameters: {'bagging_fraction': 0.8986398573395271, 'bagging_freq': 4, 'min_child_samples': 31}. Best is trial 20 with value: 0.993006993006993.\n"
     ]
    },
    {
     "name": "stderr",
     "output_type": "stream",
     "text": [
      "C:\\Users\\dowra\\anaconda3\\lib\\site-packages\\lightgbm\\engine.py:239: UserWarning: 'verbose_eval' argument is deprecated and will be removed in a future release of LightGBM. Pass 'log_evaluation()' callback via 'callbacks' argument instead.\n",
      "  _log_warning(\"'verbose_eval' argument is deprecated and will be removed in a future release of LightGBM. \"\n",
      "\u001b[32m[I 2022-12-12 15:46:20,950]\u001b[0m Trial 32 pruned. Trial was pruned at iteration 19.\u001b[0m\n"
     ]
    },
    {
     "name": "stdout",
     "output_type": "stream",
     "text": [
      "Trial 32 pruned. Trial was pruned at iteration 19.\n",
      "Trial 32 pruned. Trial was pruned at iteration 19.\n"
     ]
    },
    {
     "name": "stderr",
     "output_type": "stream",
     "text": [
      "\u001b[32m[I 2022-12-12 15:46:21,099]\u001b[0m Trial 33 finished with value: 0.951048951048951 and parameters: {'bagging_fraction': 0.8826161438111817, 'bagging_freq': 5, 'min_child_samples': 20}. Best is trial 20 with value: 0.993006993006993.\u001b[0m\n"
     ]
    },
    {
     "name": "stdout",
     "output_type": "stream",
     "text": [
      "Trial 33 finished with value: 0.951048951048951 and parameters: {'bagging_fraction': 0.8826161438111817, 'bagging_freq': 5, 'min_child_samples': 20}. Best is trial 20 with value: 0.993006993006993.\n",
      "Trial 33 finished with value: 0.951048951048951 and parameters: {'bagging_fraction': 0.8826161438111817, 'bagging_freq': 5, 'min_child_samples': 20}. Best is trial 20 with value: 0.993006993006993.\n"
     ]
    },
    {
     "name": "stderr",
     "output_type": "stream",
     "text": [
      "C:\\Users\\dowra\\anaconda3\\lib\\site-packages\\lightgbm\\engine.py:239: UserWarning: 'verbose_eval' argument is deprecated and will be removed in a future release of LightGBM. Pass 'log_evaluation()' callback via 'callbacks' argument instead.\n",
      "  _log_warning(\"'verbose_eval' argument is deprecated and will be removed in a future release of LightGBM. \"\n",
      "\u001b[32m[I 2022-12-12 15:46:21,140]\u001b[0m Trial 34 pruned. Trial was pruned at iteration 1.\u001b[0m\n"
     ]
    },
    {
     "name": "stdout",
     "output_type": "stream",
     "text": [
      "Trial 34 pruned. Trial was pruned at iteration 1.\n",
      "Trial 34 pruned. Trial was pruned at iteration 1.\n"
     ]
    },
    {
     "name": "stderr",
     "output_type": "stream",
     "text": [
      "\u001b[32m[I 2022-12-12 15:46:21,278]\u001b[0m Trial 35 finished with value: 0.9790209790209791 and parameters: {'bagging_fraction': 0.900617482500814, 'bagging_freq': 5, 'min_child_samples': 27}. Best is trial 20 with value: 0.993006993006993.\u001b[0m\n"
     ]
    },
    {
     "name": "stdout",
     "output_type": "stream",
     "text": [
      "Trial 35 finished with value: 0.9790209790209791 and parameters: {'bagging_fraction': 0.900617482500814, 'bagging_freq': 5, 'min_child_samples': 27}. Best is trial 20 with value: 0.993006993006993.\n",
      "Trial 35 finished with value: 0.9790209790209791 and parameters: {'bagging_fraction': 0.900617482500814, 'bagging_freq': 5, 'min_child_samples': 27}. Best is trial 20 with value: 0.993006993006993.\n"
     ]
    },
    {
     "name": "stderr",
     "output_type": "stream",
     "text": [
      "C:\\Users\\dowra\\anaconda3\\lib\\site-packages\\lightgbm\\engine.py:239: UserWarning: 'verbose_eval' argument is deprecated and will be removed in a future release of LightGBM. Pass 'log_evaluation()' callback via 'callbacks' argument instead.\n",
      "  _log_warning(\"'verbose_eval' argument is deprecated and will be removed in a future release of LightGBM. \"\n",
      "\u001b[32m[I 2022-12-12 15:46:21,317]\u001b[0m Trial 36 pruned. Trial was pruned at iteration 0.\u001b[0m\n"
     ]
    },
    {
     "name": "stdout",
     "output_type": "stream",
     "text": [
      "Trial 36 pruned. Trial was pruned at iteration 0.\n",
      "Trial 36 pruned. Trial was pruned at iteration 0.\n"
     ]
    },
    {
     "name": "stderr",
     "output_type": "stream",
     "text": [
      "\u001b[32m[I 2022-12-12 15:46:21,358]\u001b[0m Trial 37 pruned. Trial was pruned at iteration 0.\u001b[0m\n"
     ]
    },
    {
     "name": "stdout",
     "output_type": "stream",
     "text": [
      "Trial 37 pruned. Trial was pruned at iteration 0.\n",
      "Trial 37 pruned. Trial was pruned at iteration 0.\n"
     ]
    },
    {
     "name": "stderr",
     "output_type": "stream",
     "text": [
      "\u001b[32m[I 2022-12-12 15:46:21,399]\u001b[0m Trial 38 pruned. Trial was pruned at iteration 0.\u001b[0m\n"
     ]
    },
    {
     "name": "stdout",
     "output_type": "stream",
     "text": [
      "Trial 38 pruned. Trial was pruned at iteration 0.\n",
      "Trial 38 pruned. Trial was pruned at iteration 0.\n"
     ]
    },
    {
     "name": "stderr",
     "output_type": "stream",
     "text": [
      "\u001b[32m[I 2022-12-12 15:46:21,438]\u001b[0m Trial 39 pruned. Trial was pruned at iteration 0.\u001b[0m\n"
     ]
    },
    {
     "name": "stdout",
     "output_type": "stream",
     "text": [
      "Trial 39 pruned. Trial was pruned at iteration 0.\n",
      "Trial 39 pruned. Trial was pruned at iteration 0.\n"
     ]
    },
    {
     "name": "stderr",
     "output_type": "stream",
     "text": [
      "\u001b[32m[I 2022-12-12 15:46:21,476]\u001b[0m Trial 40 pruned. Trial was pruned at iteration 0.\u001b[0m\n"
     ]
    },
    {
     "name": "stdout",
     "output_type": "stream",
     "text": [
      "Trial 40 pruned. Trial was pruned at iteration 0.\n",
      "Trial 40 pruned. Trial was pruned at iteration 0.\n"
     ]
    },
    {
     "name": "stderr",
     "output_type": "stream",
     "text": [
      "\u001b[32m[I 2022-12-12 15:46:21,516]\u001b[0m Trial 41 pruned. Trial was pruned at iteration 3.\u001b[0m\n"
     ]
    },
    {
     "name": "stdout",
     "output_type": "stream",
     "text": [
      "Trial 41 pruned. Trial was pruned at iteration 3.\n",
      "Trial 41 pruned. Trial was pruned at iteration 3.\n"
     ]
    },
    {
     "name": "stderr",
     "output_type": "stream",
     "text": [
      "\u001b[32m[I 2022-12-12 15:46:21,555]\u001b[0m Trial 42 pruned. Trial was pruned at iteration 0.\u001b[0m\n"
     ]
    },
    {
     "name": "stdout",
     "output_type": "stream",
     "text": [
      "Trial 42 pruned. Trial was pruned at iteration 0.\n",
      "Trial 42 pruned. Trial was pruned at iteration 0.\n"
     ]
    },
    {
     "name": "stderr",
     "output_type": "stream",
     "text": [
      "\u001b[32m[I 2022-12-12 15:46:21,596]\u001b[0m Trial 43 pruned. Trial was pruned at iteration 0.\u001b[0m\n"
     ]
    },
    {
     "name": "stdout",
     "output_type": "stream",
     "text": [
      "Trial 43 pruned. Trial was pruned at iteration 0.\n",
      "Trial 43 pruned. Trial was pruned at iteration 0.\n"
     ]
    },
    {
     "name": "stderr",
     "output_type": "stream",
     "text": [
      "\u001b[32m[I 2022-12-12 15:46:21,637]\u001b[0m Trial 44 pruned. Trial was pruned at iteration 4.\u001b[0m\n"
     ]
    },
    {
     "name": "stdout",
     "output_type": "stream",
     "text": [
      "Trial 44 pruned. Trial was pruned at iteration 4.\n",
      "Trial 44 pruned. Trial was pruned at iteration 4.\n"
     ]
    },
    {
     "name": "stderr",
     "output_type": "stream",
     "text": [
      "\u001b[32m[I 2022-12-12 15:46:21,768]\u001b[0m Trial 45 finished with value: 0.951048951048951 and parameters: {'bagging_fraction': 0.901250346558901, 'bagging_freq': 6, 'min_child_samples': 51}. Best is trial 20 with value: 0.993006993006993.\u001b[0m\n"
     ]
    },
    {
     "name": "stdout",
     "output_type": "stream",
     "text": [
      "Trial 45 finished with value: 0.951048951048951 and parameters: {'bagging_fraction': 0.901250346558901, 'bagging_freq': 6, 'min_child_samples': 51}. Best is trial 20 with value: 0.993006993006993.\n",
      "Trial 45 finished with value: 0.951048951048951 and parameters: {'bagging_fraction': 0.901250346558901, 'bagging_freq': 6, 'min_child_samples': 51}. Best is trial 20 with value: 0.993006993006993.\n"
     ]
    },
    {
     "name": "stderr",
     "output_type": "stream",
     "text": [
      "C:\\Users\\dowra\\anaconda3\\lib\\site-packages\\lightgbm\\engine.py:239: UserWarning: 'verbose_eval' argument is deprecated and will be removed in a future release of LightGBM. Pass 'log_evaluation()' callback via 'callbacks' argument instead.\n",
      "  _log_warning(\"'verbose_eval' argument is deprecated and will be removed in a future release of LightGBM. \"\n",
      "\u001b[32m[I 2022-12-12 15:46:21,816]\u001b[0m Trial 46 pruned. Trial was pruned at iteration 0.\u001b[0m\n"
     ]
    },
    {
     "name": "stdout",
     "output_type": "stream",
     "text": [
      "Trial 46 pruned. Trial was pruned at iteration 0.\n",
      "Trial 46 pruned. Trial was pruned at iteration 0.\n"
     ]
    },
    {
     "name": "stderr",
     "output_type": "stream",
     "text": [
      "\u001b[32m[I 2022-12-12 15:46:21,865]\u001b[0m Trial 47 pruned. Trial was pruned at iteration 1.\u001b[0m\n"
     ]
    },
    {
     "name": "stdout",
     "output_type": "stream",
     "text": [
      "Trial 47 pruned. Trial was pruned at iteration 1.\n",
      "Trial 47 pruned. Trial was pruned at iteration 1.\n"
     ]
    },
    {
     "name": "stderr",
     "output_type": "stream",
     "text": [
      "\u001b[32m[I 2022-12-12 15:46:21,911]\u001b[0m Trial 48 pruned. Trial was pruned at iteration 0.\u001b[0m\n"
     ]
    },
    {
     "name": "stdout",
     "output_type": "stream",
     "text": [
      "Trial 48 pruned. Trial was pruned at iteration 0.\n",
      "Trial 48 pruned. Trial was pruned at iteration 0.\n"
     ]
    },
    {
     "name": "stderr",
     "output_type": "stream",
     "text": [
      "\u001b[32m[I 2022-12-12 15:46:21,956]\u001b[0m Trial 49 pruned. Trial was pruned at iteration 1.\u001b[0m\n"
     ]
    },
    {
     "name": "stdout",
     "output_type": "stream",
     "text": [
      "Trial 49 pruned. Trial was pruned at iteration 1.\n",
      "Trial 49 pruned. Trial was pruned at iteration 1.\n"
     ]
    },
    {
     "name": "stderr",
     "output_type": "stream",
     "text": [
      "\u001b[32m[I 2022-12-12 15:46:22,002]\u001b[0m Trial 50 pruned. Trial was pruned at iteration 0.\u001b[0m\n"
     ]
    },
    {
     "name": "stdout",
     "output_type": "stream",
     "text": [
      "Trial 50 pruned. Trial was pruned at iteration 0.\n",
      "Trial 50 pruned. Trial was pruned at iteration 0.\n"
     ]
    },
    {
     "name": "stderr",
     "output_type": "stream",
     "text": [
      "\u001b[32m[I 2022-12-12 15:46:22,143]\u001b[0m Trial 51 finished with value: 0.9790209790209791 and parameters: {'bagging_fraction': 0.9006999503938639, 'bagging_freq': 6, 'min_child_samples': 29}. Best is trial 20 with value: 0.993006993006993.\u001b[0m\n"
     ]
    },
    {
     "name": "stdout",
     "output_type": "stream",
     "text": [
      "Trial 51 finished with value: 0.9790209790209791 and parameters: {'bagging_fraction': 0.9006999503938639, 'bagging_freq': 6, 'min_child_samples': 29}. Best is trial 20 with value: 0.993006993006993.\n",
      "Trial 51 finished with value: 0.9790209790209791 and parameters: {'bagging_fraction': 0.9006999503938639, 'bagging_freq': 6, 'min_child_samples': 29}. Best is trial 20 with value: 0.993006993006993.\n"
     ]
    },
    {
     "name": "stderr",
     "output_type": "stream",
     "text": [
      "C:\\Users\\dowra\\anaconda3\\lib\\site-packages\\lightgbm\\engine.py:239: UserWarning: 'verbose_eval' argument is deprecated and will be removed in a future release of LightGBM. Pass 'log_evaluation()' callback via 'callbacks' argument instead.\n",
      "  _log_warning(\"'verbose_eval' argument is deprecated and will be removed in a future release of LightGBM. \"\n",
      "\u001b[32m[I 2022-12-12 15:46:22,182]\u001b[0m Trial 52 pruned. Trial was pruned at iteration 1.\u001b[0m\n"
     ]
    },
    {
     "name": "stdout",
     "output_type": "stream",
     "text": [
      "Trial 52 pruned. Trial was pruned at iteration 1.\n",
      "Trial 52 pruned. Trial was pruned at iteration 1.\n"
     ]
    },
    {
     "name": "stderr",
     "output_type": "stream",
     "text": [
      "\u001b[32m[I 2022-12-12 15:46:22,323]\u001b[0m Trial 53 finished with value: 0.9790209790209791 and parameters: {'bagging_fraction': 0.9685551916926778, 'bagging_freq': 6, 'min_child_samples': 28}. Best is trial 20 with value: 0.993006993006993.\u001b[0m\n"
     ]
    },
    {
     "name": "stdout",
     "output_type": "stream",
     "text": [
      "Trial 53 finished with value: 0.9790209790209791 and parameters: {'bagging_fraction': 0.9685551916926778, 'bagging_freq': 6, 'min_child_samples': 28}. Best is trial 20 with value: 0.993006993006993.\n",
      "Trial 53 finished with value: 0.9790209790209791 and parameters: {'bagging_fraction': 0.9685551916926778, 'bagging_freq': 6, 'min_child_samples': 28}. Best is trial 20 with value: 0.993006993006993.\n"
     ]
    },
    {
     "name": "stderr",
     "output_type": "stream",
     "text": [
      "C:\\Users\\dowra\\anaconda3\\lib\\site-packages\\lightgbm\\engine.py:239: UserWarning: 'verbose_eval' argument is deprecated and will be removed in a future release of LightGBM. Pass 'log_evaluation()' callback via 'callbacks' argument instead.\n",
      "  _log_warning(\"'verbose_eval' argument is deprecated and will be removed in a future release of LightGBM. \"\n",
      "\u001b[32m[I 2022-12-12 15:46:22,364]\u001b[0m Trial 54 pruned. Trial was pruned at iteration 0.\u001b[0m\n"
     ]
    },
    {
     "name": "stdout",
     "output_type": "stream",
     "text": [
      "Trial 54 pruned. Trial was pruned at iteration 0.\n",
      "Trial 54 pruned. Trial was pruned at iteration 0.\n"
     ]
    },
    {
     "name": "stderr",
     "output_type": "stream",
     "text": [
      "\u001b[32m[I 2022-12-12 15:46:22,489]\u001b[0m Trial 55 finished with value: 0.986013986013986 and parameters: {'bagging_fraction': 0.9700075408905081, 'bagging_freq': 6, 'min_child_samples': 41}. Best is trial 20 with value: 0.993006993006993.\u001b[0m\n"
     ]
    },
    {
     "name": "stdout",
     "output_type": "stream",
     "text": [
      "Trial 55 finished with value: 0.986013986013986 and parameters: {'bagging_fraction': 0.9700075408905081, 'bagging_freq': 6, 'min_child_samples': 41}. Best is trial 20 with value: 0.993006993006993.\n",
      "Trial 55 finished with value: 0.986013986013986 and parameters: {'bagging_fraction': 0.9700075408905081, 'bagging_freq': 6, 'min_child_samples': 41}. Best is trial 20 with value: 0.993006993006993.\n"
     ]
    },
    {
     "name": "stderr",
     "output_type": "stream",
     "text": [
      "C:\\Users\\dowra\\anaconda3\\lib\\site-packages\\lightgbm\\engine.py:239: UserWarning: 'verbose_eval' argument is deprecated and will be removed in a future release of LightGBM. Pass 'log_evaluation()' callback via 'callbacks' argument instead.\n",
      "  _log_warning(\"'verbose_eval' argument is deprecated and will be removed in a future release of LightGBM. \"\n",
      "\u001b[32m[I 2022-12-12 15:46:22,620]\u001b[0m Trial 56 finished with value: 0.993006993006993 and parameters: {'bagging_fraction': 0.9628418831211746, 'bagging_freq': 6, 'min_child_samples': 34}. Best is trial 20 with value: 0.993006993006993.\u001b[0m\n"
     ]
    },
    {
     "name": "stdout",
     "output_type": "stream",
     "text": [
      "Trial 56 finished with value: 0.993006993006993 and parameters: {'bagging_fraction': 0.9628418831211746, 'bagging_freq': 6, 'min_child_samples': 34}. Best is trial 20 with value: 0.993006993006993.\n",
      "Trial 56 finished with value: 0.993006993006993 and parameters: {'bagging_fraction': 0.9628418831211746, 'bagging_freq': 6, 'min_child_samples': 34}. Best is trial 20 with value: 0.993006993006993.\n"
     ]
    },
    {
     "name": "stderr",
     "output_type": "stream",
     "text": [
      "C:\\Users\\dowra\\anaconda3\\lib\\site-packages\\lightgbm\\engine.py:239: UserWarning: 'verbose_eval' argument is deprecated and will be removed in a future release of LightGBM. Pass 'log_evaluation()' callback via 'callbacks' argument instead.\n",
      "  _log_warning(\"'verbose_eval' argument is deprecated and will be removed in a future release of LightGBM. \"\n",
      "\u001b[32m[I 2022-12-12 15:46:22,667]\u001b[0m Trial 57 pruned. Trial was pruned at iteration 1.\u001b[0m\n"
     ]
    },
    {
     "name": "stdout",
     "output_type": "stream",
     "text": [
      "Trial 57 pruned. Trial was pruned at iteration 1.\n",
      "Trial 57 pruned. Trial was pruned at iteration 1.\n"
     ]
    },
    {
     "name": "stderr",
     "output_type": "stream",
     "text": [
      "\u001b[32m[I 2022-12-12 15:46:22,716]\u001b[0m Trial 58 pruned. Trial was pruned at iteration 0.\u001b[0m\n"
     ]
    },
    {
     "name": "stdout",
     "output_type": "stream",
     "text": [
      "Trial 58 pruned. Trial was pruned at iteration 0.\n",
      "Trial 58 pruned. Trial was pruned at iteration 0.\n"
     ]
    },
    {
     "name": "stderr",
     "output_type": "stream",
     "text": [
      "\u001b[32m[I 2022-12-12 15:46:22,770]\u001b[0m Trial 59 pruned. Trial was pruned at iteration 13.\u001b[0m\n"
     ]
    },
    {
     "name": "stdout",
     "output_type": "stream",
     "text": [
      "Trial 59 pruned. Trial was pruned at iteration 13.\n",
      "Trial 59 pruned. Trial was pruned at iteration 13.\n"
     ]
    },
    {
     "name": "stderr",
     "output_type": "stream",
     "text": [
      "\u001b[32m[I 2022-12-12 15:46:22,814]\u001b[0m Trial 60 pruned. Trial was pruned at iteration 0.\u001b[0m\n"
     ]
    },
    {
     "name": "stdout",
     "output_type": "stream",
     "text": [
      "Trial 60 pruned. Trial was pruned at iteration 0.\n",
      "Trial 60 pruned. Trial was pruned at iteration 0.\n"
     ]
    },
    {
     "name": "stderr",
     "output_type": "stream",
     "text": [
      "\u001b[32m[I 2022-12-12 15:46:22,858]\u001b[0m Trial 61 pruned. Trial was pruned at iteration 0.\u001b[0m\n"
     ]
    },
    {
     "name": "stdout",
     "output_type": "stream",
     "text": [
      "Trial 61 pruned. Trial was pruned at iteration 0.\n",
      "Trial 61 pruned. Trial was pruned at iteration 0.\n"
     ]
    },
    {
     "name": "stderr",
     "output_type": "stream",
     "text": [
      "\u001b[32m[I 2022-12-12 15:46:22,900]\u001b[0m Trial 62 pruned. Trial was pruned at iteration 0.\u001b[0m\n"
     ]
    },
    {
     "name": "stdout",
     "output_type": "stream",
     "text": [
      "Trial 62 pruned. Trial was pruned at iteration 0.\n",
      "Trial 62 pruned. Trial was pruned at iteration 0.\n"
     ]
    },
    {
     "name": "stderr",
     "output_type": "stream",
     "text": [
      "\u001b[32m[I 2022-12-12 15:46:22,946]\u001b[0m Trial 63 pruned. Trial was pruned at iteration 1.\u001b[0m\n"
     ]
    },
    {
     "name": "stdout",
     "output_type": "stream",
     "text": [
      "Trial 63 pruned. Trial was pruned at iteration 1.\n",
      "Trial 63 pruned. Trial was pruned at iteration 1.\n"
     ]
    },
    {
     "name": "stderr",
     "output_type": "stream",
     "text": [
      "\u001b[32m[I 2022-12-12 15:46:22,991]\u001b[0m Trial 64 pruned. Trial was pruned at iteration 0.\u001b[0m\n"
     ]
    },
    {
     "name": "stdout",
     "output_type": "stream",
     "text": [
      "Trial 64 pruned. Trial was pruned at iteration 0.\n",
      "Trial 64 pruned. Trial was pruned at iteration 0.\n"
     ]
    },
    {
     "name": "stderr",
     "output_type": "stream",
     "text": [
      "\u001b[32m[I 2022-12-12 15:46:23,038]\u001b[0m Trial 65 pruned. Trial was pruned at iteration 1.\u001b[0m\n"
     ]
    },
    {
     "name": "stdout",
     "output_type": "stream",
     "text": [
      "Trial 65 pruned. Trial was pruned at iteration 1.\n",
      "Trial 65 pruned. Trial was pruned at iteration 1.\n"
     ]
    },
    {
     "name": "stderr",
     "output_type": "stream",
     "text": [
      "\u001b[32m[I 2022-12-12 15:46:23,080]\u001b[0m Trial 66 pruned. Trial was pruned at iteration 0.\u001b[0m\n"
     ]
    },
    {
     "name": "stdout",
     "output_type": "stream",
     "text": [
      "Trial 66 pruned. Trial was pruned at iteration 0.\n",
      "Trial 66 pruned. Trial was pruned at iteration 0.\n"
     ]
    },
    {
     "name": "stderr",
     "output_type": "stream",
     "text": [
      "\u001b[32m[I 2022-12-12 15:46:23,122]\u001b[0m Trial 67 pruned. Trial was pruned at iteration 1.\u001b[0m\n"
     ]
    },
    {
     "name": "stdout",
     "output_type": "stream",
     "text": [
      "Trial 67 pruned. Trial was pruned at iteration 1.\n",
      "Trial 67 pruned. Trial was pruned at iteration 1.\n"
     ]
    },
    {
     "name": "stderr",
     "output_type": "stream",
     "text": [
      "\u001b[32m[I 2022-12-12 15:46:23,163]\u001b[0m Trial 68 pruned. Trial was pruned at iteration 0.\u001b[0m\n"
     ]
    },
    {
     "name": "stdout",
     "output_type": "stream",
     "text": [
      "Trial 68 pruned. Trial was pruned at iteration 0.\n",
      "Trial 68 pruned. Trial was pruned at iteration 0.\n"
     ]
    },
    {
     "name": "stderr",
     "output_type": "stream",
     "text": [
      "\u001b[32m[I 2022-12-12 15:46:23,208]\u001b[0m Trial 69 pruned. Trial was pruned at iteration 0.\u001b[0m\n"
     ]
    },
    {
     "name": "stdout",
     "output_type": "stream",
     "text": [
      "Trial 69 pruned. Trial was pruned at iteration 0.\n",
      "Trial 69 pruned. Trial was pruned at iteration 0.\n"
     ]
    },
    {
     "name": "stderr",
     "output_type": "stream",
     "text": [
      "\u001b[32m[I 2022-12-12 15:46:23,250]\u001b[0m Trial 70 pruned. Trial was pruned at iteration 0.\u001b[0m\n"
     ]
    },
    {
     "name": "stdout",
     "output_type": "stream",
     "text": [
      "Trial 70 pruned. Trial was pruned at iteration 0.\n",
      "Trial 70 pruned. Trial was pruned at iteration 0.\n"
     ]
    },
    {
     "name": "stderr",
     "output_type": "stream",
     "text": [
      "\u001b[32m[I 2022-12-12 15:46:23,295]\u001b[0m Trial 71 pruned. Trial was pruned at iteration 0.\u001b[0m\n"
     ]
    },
    {
     "name": "stdout",
     "output_type": "stream",
     "text": [
      "Trial 71 pruned. Trial was pruned at iteration 0.\n",
      "Trial 71 pruned. Trial was pruned at iteration 0.\n"
     ]
    },
    {
     "name": "stderr",
     "output_type": "stream",
     "text": [
      "\u001b[32m[I 2022-12-12 15:46:23,339]\u001b[0m Trial 72 pruned. Trial was pruned at iteration 1.\u001b[0m\n"
     ]
    },
    {
     "name": "stdout",
     "output_type": "stream",
     "text": [
      "Trial 72 pruned. Trial was pruned at iteration 1.\n",
      "Trial 72 pruned. Trial was pruned at iteration 1.\n"
     ]
    },
    {
     "name": "stderr",
     "output_type": "stream",
     "text": [
      "\u001b[32m[I 2022-12-12 15:46:23,380]\u001b[0m Trial 73 pruned. Trial was pruned at iteration 0.\u001b[0m\n"
     ]
    },
    {
     "name": "stdout",
     "output_type": "stream",
     "text": [
      "Trial 73 pruned. Trial was pruned at iteration 0.\n",
      "Trial 73 pruned. Trial was pruned at iteration 0.\n"
     ]
    },
    {
     "name": "stderr",
     "output_type": "stream",
     "text": [
      "\u001b[32m[I 2022-12-12 15:46:23,441]\u001b[0m Trial 74 pruned. Trial was pruned at iteration 12.\u001b[0m\n"
     ]
    },
    {
     "name": "stdout",
     "output_type": "stream",
     "text": [
      "Trial 74 pruned. Trial was pruned at iteration 12.\n",
      "Trial 74 pruned. Trial was pruned at iteration 12.\n"
     ]
    },
    {
     "name": "stderr",
     "output_type": "stream",
     "text": [
      "\u001b[32m[I 2022-12-12 15:46:23,488]\u001b[0m Trial 75 pruned. Trial was pruned at iteration 0.\u001b[0m\n"
     ]
    },
    {
     "name": "stdout",
     "output_type": "stream",
     "text": [
      "Trial 75 pruned. Trial was pruned at iteration 0.\n",
      "Trial 75 pruned. Trial was pruned at iteration 0.\n"
     ]
    },
    {
     "name": "stderr",
     "output_type": "stream",
     "text": [
      "\u001b[32m[I 2022-12-12 15:46:23,532]\u001b[0m Trial 76 pruned. Trial was pruned at iteration 1.\u001b[0m\n"
     ]
    },
    {
     "name": "stdout",
     "output_type": "stream",
     "text": [
      "Trial 76 pruned. Trial was pruned at iteration 1.\n",
      "Trial 76 pruned. Trial was pruned at iteration 1.\n"
     ]
    },
    {
     "name": "stderr",
     "output_type": "stream",
     "text": [
      "\u001b[32m[I 2022-12-12 15:46:23,589]\u001b[0m Trial 77 pruned. Trial was pruned at iteration 7.\u001b[0m\n"
     ]
    },
    {
     "name": "stdout",
     "output_type": "stream",
     "text": [
      "Trial 77 pruned. Trial was pruned at iteration 7.\n",
      "Trial 77 pruned. Trial was pruned at iteration 7.\n"
     ]
    },
    {
     "name": "stderr",
     "output_type": "stream",
     "text": [
      "\u001b[32m[I 2022-12-12 15:46:23,632]\u001b[0m Trial 78 pruned. Trial was pruned at iteration 0.\u001b[0m\n"
     ]
    },
    {
     "name": "stdout",
     "output_type": "stream",
     "text": [
      "Trial 78 pruned. Trial was pruned at iteration 0.\n",
      "Trial 78 pruned. Trial was pruned at iteration 0.\n"
     ]
    },
    {
     "name": "stderr",
     "output_type": "stream",
     "text": [
      "\u001b[32m[I 2022-12-12 15:46:23,678]\u001b[0m Trial 79 pruned. Trial was pruned at iteration 0.\u001b[0m\n"
     ]
    },
    {
     "name": "stdout",
     "output_type": "stream",
     "text": [
      "Trial 79 pruned. Trial was pruned at iteration 0.\n",
      "Trial 79 pruned. Trial was pruned at iteration 0.\n"
     ]
    },
    {
     "name": "stderr",
     "output_type": "stream",
     "text": [
      "\u001b[32m[I 2022-12-12 15:46:23,729]\u001b[0m Trial 80 pruned. Trial was pruned at iteration 6.\u001b[0m\n"
     ]
    },
    {
     "name": "stdout",
     "output_type": "stream",
     "text": [
      "Trial 80 pruned. Trial was pruned at iteration 6.\n",
      "Trial 80 pruned. Trial was pruned at iteration 6.\n"
     ]
    },
    {
     "name": "stderr",
     "output_type": "stream",
     "text": [
      "\u001b[32m[I 2022-12-12 15:46:23,773]\u001b[0m Trial 81 pruned. Trial was pruned at iteration 0.\u001b[0m\n"
     ]
    },
    {
     "name": "stdout",
     "output_type": "stream",
     "text": [
      "Trial 81 pruned. Trial was pruned at iteration 0.\n",
      "Trial 81 pruned. Trial was pruned at iteration 0.\n"
     ]
    },
    {
     "name": "stderr",
     "output_type": "stream",
     "text": [
      "\u001b[32m[I 2022-12-12 15:46:23,817]\u001b[0m Trial 82 pruned. Trial was pruned at iteration 0.\u001b[0m\n"
     ]
    },
    {
     "name": "stdout",
     "output_type": "stream",
     "text": [
      "Trial 82 pruned. Trial was pruned at iteration 0.\n",
      "Trial 82 pruned. Trial was pruned at iteration 0.\n"
     ]
    },
    {
     "name": "stderr",
     "output_type": "stream",
     "text": [
      "\u001b[32m[I 2022-12-12 15:46:23,862]\u001b[0m Trial 83 pruned. Trial was pruned at iteration 0.\u001b[0m\n"
     ]
    },
    {
     "name": "stdout",
     "output_type": "stream",
     "text": [
      "Trial 83 pruned. Trial was pruned at iteration 0.\n",
      "Trial 83 pruned. Trial was pruned at iteration 0.\n"
     ]
    },
    {
     "name": "stderr",
     "output_type": "stream",
     "text": [
      "\u001b[32m[I 2022-12-12 15:46:23,907]\u001b[0m Trial 84 pruned. Trial was pruned at iteration 0.\u001b[0m\n"
     ]
    },
    {
     "name": "stdout",
     "output_type": "stream",
     "text": [
      "Trial 84 pruned. Trial was pruned at iteration 0.\n",
      "Trial 84 pruned. Trial was pruned at iteration 0.\n"
     ]
    },
    {
     "name": "stderr",
     "output_type": "stream",
     "text": [
      "\u001b[32m[I 2022-12-12 15:46:23,961]\u001b[0m Trial 85 pruned. Trial was pruned at iteration 0.\u001b[0m\n"
     ]
    },
    {
     "name": "stdout",
     "output_type": "stream",
     "text": [
      "Trial 85 pruned. Trial was pruned at iteration 0.\n",
      "Trial 85 pruned. Trial was pruned at iteration 0.\n"
     ]
    },
    {
     "name": "stderr",
     "output_type": "stream",
     "text": [
      "\u001b[32m[I 2022-12-12 15:46:24,006]\u001b[0m Trial 86 pruned. Trial was pruned at iteration 0.\u001b[0m\n"
     ]
    },
    {
     "name": "stdout",
     "output_type": "stream",
     "text": [
      "Trial 86 pruned. Trial was pruned at iteration 0.\n",
      "Trial 86 pruned. Trial was pruned at iteration 0.\n"
     ]
    },
    {
     "name": "stderr",
     "output_type": "stream",
     "text": [
      "\u001b[32m[I 2022-12-12 15:46:24,063]\u001b[0m Trial 87 pruned. Trial was pruned at iteration 1.\u001b[0m\n"
     ]
    },
    {
     "name": "stdout",
     "output_type": "stream",
     "text": [
      "Trial 87 pruned. Trial was pruned at iteration 1.\n",
      "Trial 87 pruned. Trial was pruned at iteration 1.\n"
     ]
    },
    {
     "name": "stderr",
     "output_type": "stream",
     "text": [
      "\u001b[32m[I 2022-12-12 15:46:24,111]\u001b[0m Trial 88 pruned. Trial was pruned at iteration 0.\u001b[0m\n"
     ]
    },
    {
     "name": "stdout",
     "output_type": "stream",
     "text": [
      "Trial 88 pruned. Trial was pruned at iteration 0.\n",
      "Trial 88 pruned. Trial was pruned at iteration 0.\n"
     ]
    },
    {
     "name": "stderr",
     "output_type": "stream",
     "text": [
      "\u001b[32m[I 2022-12-12 15:46:24,295]\u001b[0m Trial 89 finished with value: 0.986013986013986 and parameters: {'bagging_fraction': 0.7167595818739999, 'bagging_freq': 0, 'min_child_samples': 13}. Best is trial 20 with value: 0.993006993006993.\u001b[0m\n"
     ]
    },
    {
     "name": "stdout",
     "output_type": "stream",
     "text": [
      "Trial 89 finished with value: 0.986013986013986 and parameters: {'bagging_fraction': 0.7167595818739999, 'bagging_freq': 0, 'min_child_samples': 13}. Best is trial 20 with value: 0.993006993006993.\n",
      "Trial 89 finished with value: 0.986013986013986 and parameters: {'bagging_fraction': 0.7167595818739999, 'bagging_freq': 0, 'min_child_samples': 13}. Best is trial 20 with value: 0.993006993006993.\n"
     ]
    },
    {
     "name": "stderr",
     "output_type": "stream",
     "text": [
      "C:\\Users\\dowra\\anaconda3\\lib\\site-packages\\lightgbm\\engine.py:239: UserWarning: 'verbose_eval' argument is deprecated and will be removed in a future release of LightGBM. Pass 'log_evaluation()' callback via 'callbacks' argument instead.\n",
      "  _log_warning(\"'verbose_eval' argument is deprecated and will be removed in a future release of LightGBM. \"\n",
      "\u001b[32m[I 2022-12-12 15:46:24,340]\u001b[0m Trial 90 pruned. Trial was pruned at iteration 0.\u001b[0m\n"
     ]
    },
    {
     "name": "stdout",
     "output_type": "stream",
     "text": [
      "Trial 90 pruned. Trial was pruned at iteration 0.\n",
      "Trial 90 pruned. Trial was pruned at iteration 0.\n"
     ]
    },
    {
     "name": "stderr",
     "output_type": "stream",
     "text": [
      "\u001b[32m[I 2022-12-12 15:46:24,383]\u001b[0m Trial 91 pruned. Trial was pruned at iteration 0.\u001b[0m\n"
     ]
    },
    {
     "name": "stdout",
     "output_type": "stream",
     "text": [
      "Trial 91 pruned. Trial was pruned at iteration 0.\n",
      "Trial 91 pruned. Trial was pruned at iteration 0.\n"
     ]
    },
    {
     "name": "stderr",
     "output_type": "stream",
     "text": [
      "\u001b[32m[I 2022-12-12 15:46:24,431]\u001b[0m Trial 92 pruned. Trial was pruned at iteration 0.\u001b[0m\n"
     ]
    },
    {
     "name": "stdout",
     "output_type": "stream",
     "text": [
      "Trial 92 pruned. Trial was pruned at iteration 0.\n",
      "Trial 92 pruned. Trial was pruned at iteration 0.\n"
     ]
    },
    {
     "name": "stderr",
     "output_type": "stream",
     "text": [
      "\u001b[32m[I 2022-12-12 15:46:24,475]\u001b[0m Trial 93 pruned. Trial was pruned at iteration 0.\u001b[0m\n"
     ]
    },
    {
     "name": "stdout",
     "output_type": "stream",
     "text": [
      "Trial 93 pruned. Trial was pruned at iteration 0.\n",
      "Trial 93 pruned. Trial was pruned at iteration 0.\n"
     ]
    },
    {
     "name": "stderr",
     "output_type": "stream",
     "text": [
      "\u001b[32m[I 2022-12-12 15:46:24,518]\u001b[0m Trial 94 pruned. Trial was pruned at iteration 0.\u001b[0m\n"
     ]
    },
    {
     "name": "stdout",
     "output_type": "stream",
     "text": [
      "Trial 94 pruned. Trial was pruned at iteration 0.\n",
      "Trial 94 pruned. Trial was pruned at iteration 0.\n"
     ]
    },
    {
     "name": "stderr",
     "output_type": "stream",
     "text": [
      "\u001b[32m[I 2022-12-12 15:46:24,561]\u001b[0m Trial 95 pruned. Trial was pruned at iteration 0.\u001b[0m\n"
     ]
    },
    {
     "name": "stdout",
     "output_type": "stream",
     "text": [
      "Trial 95 pruned. Trial was pruned at iteration 0.\n",
      "Trial 95 pruned. Trial was pruned at iteration 0.\n"
     ]
    },
    {
     "name": "stderr",
     "output_type": "stream",
     "text": [
      "\u001b[32m[I 2022-12-12 15:46:24,603]\u001b[0m Trial 96 pruned. Trial was pruned at iteration 0.\u001b[0m\n"
     ]
    },
    {
     "name": "stdout",
     "output_type": "stream",
     "text": [
      "Trial 96 pruned. Trial was pruned at iteration 0.\n",
      "Trial 96 pruned. Trial was pruned at iteration 0.\n"
     ]
    },
    {
     "name": "stderr",
     "output_type": "stream",
     "text": [
      "\u001b[32m[I 2022-12-12 15:46:24,646]\u001b[0m Trial 97 pruned. Trial was pruned at iteration 0.\u001b[0m\n"
     ]
    },
    {
     "name": "stdout",
     "output_type": "stream",
     "text": [
      "Trial 97 pruned. Trial was pruned at iteration 0.\n",
      "Trial 97 pruned. Trial was pruned at iteration 0.\n"
     ]
    },
    {
     "name": "stderr",
     "output_type": "stream",
     "text": [
      "\u001b[32m[I 2022-12-12 15:46:24,689]\u001b[0m Trial 98 pruned. Trial was pruned at iteration 0.\u001b[0m\n"
     ]
    },
    {
     "name": "stdout",
     "output_type": "stream",
     "text": [
      "Trial 98 pruned. Trial was pruned at iteration 0.\n",
      "Trial 98 pruned. Trial was pruned at iteration 0.\n"
     ]
    },
    {
     "name": "stderr",
     "output_type": "stream",
     "text": [
      "\u001b[32m[I 2022-12-12 15:46:24,740]\u001b[0m Trial 99 pruned. Trial was pruned at iteration 1.\u001b[0m\n"
     ]
    },
    {
     "name": "stdout",
     "output_type": "stream",
     "text": [
      "Trial 99 pruned. Trial was pruned at iteration 1.\n",
      "Trial 99 pruned. Trial was pruned at iteration 1.\n"
     ]
    },
    {
     "name": "stderr",
     "output_type": "stream",
     "text": [
      "\u001b[32m[I 2022-12-12 15:46:24,787]\u001b[0m Trial 100 pruned. Trial was pruned at iteration 0.\u001b[0m\n"
     ]
    },
    {
     "name": "stdout",
     "output_type": "stream",
     "text": [
      "Trial 100 pruned. Trial was pruned at iteration 0.\n",
      "Trial 100 pruned. Trial was pruned at iteration 0.\n"
     ]
    },
    {
     "name": "stderr",
     "output_type": "stream",
     "text": [
      "\u001b[32m[I 2022-12-12 15:46:24,943]\u001b[0m Trial 101 finished with value: 0.965034965034965 and parameters: {'bagging_fraction': 0.7800947828105104, 'bagging_freq': 4, 'min_child_samples': 25}. Best is trial 20 with value: 0.993006993006993.\u001b[0m\n"
     ]
    },
    {
     "name": "stdout",
     "output_type": "stream",
     "text": [
      "Trial 101 finished with value: 0.965034965034965 and parameters: {'bagging_fraction': 0.7800947828105104, 'bagging_freq': 4, 'min_child_samples': 25}. Best is trial 20 with value: 0.993006993006993.\n",
      "Trial 101 finished with value: 0.965034965034965 and parameters: {'bagging_fraction': 0.7800947828105104, 'bagging_freq': 4, 'min_child_samples': 25}. Best is trial 20 with value: 0.993006993006993.\n"
     ]
    }
   ],
   "source": [
    "study = optuna.create_study(direction = 'maximize', pruner = optuna.pruners.MedianPruner())\n",
    "\n",
    "study.add_trial(\n",
    "    optuna.trial.create_trial(\n",
    "        params = {\n",
    "            'bagging_fraction' : 1.0,\n",
    "            'bagging_freq' : 0,\n",
    "            'min_child_samples' : 20,\n",
    "        },\n",
    "        distributions = {\n",
    "            'bagging_fraction' : optuna.distributions.FloatDistribution(0.4, 1.0 + 1e-12),\n",
    "            'bagging_freq' : optuna.distributions.IntDistribution(0, 7),\n",
    "            'min_child_samples' : optuna.distributions.IntDistribution(5, 100),\n",
    "        },\n",
    "        value = 0.94\n",
    "    )\n",
    ")\n",
    "study.add_trial(\n",
    "    optuna.trial.create_trial(\n",
    "        params={\n",
    "            \"bagging_fraction\": 0.75,\n",
    "            \"bagging_freq\": 5,\n",
    "            \"min_child_samples\": 20,\n",
    "        },\n",
    "        distributions={\n",
    "            \"bagging_fraction\": optuna.distributions.FloatDistribution(0.4, 1.0 + 1e-12),\n",
    "            \"bagging_freq\": optuna.distributions.IntDistribution(0, 7),\n",
    "            \"min_child_samples\": optuna.distributions.IntDistribution(5, 100),\n",
    "        },\n",
    "        value=0.95,\n",
    "    )\n",
    ")\n",
    "study.optimize(objective, n_trials=100, timeout=600)"
   ]
  },
  {
   "cell_type": "code",
   "execution_count": null,
   "id": "142103ef-415f-450d-b7c0-a63bfdd435d6",
   "metadata": {},
   "outputs": [],
   "source": []
  }
 ],
 "metadata": {
  "kernelspec": {
   "display_name": "Python 3 (ipykernel)",
   "language": "python",
   "name": "python3"
  },
  "language_info": {
   "codemirror_mode": {
    "name": "ipython",
    "version": 3
   },
   "file_extension": ".py",
   "mimetype": "text/x-python",
   "name": "python",
   "nbconvert_exporter": "python",
   "pygments_lexer": "ipython3",
   "version": "3.9.13"
  }
 },
 "nbformat": 4,
 "nbformat_minor": 5
}
