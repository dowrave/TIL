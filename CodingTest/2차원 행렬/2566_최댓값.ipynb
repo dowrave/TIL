{
 "cells": [
  {
   "cell_type": "code",
   "execution_count": 9,
   "id": "d293dd2b-235f-4c78-95ae-d05db21c6ded",
   "metadata": {},
   "outputs": [
    {
     "name": "stdout",
     "output_type": "stream",
     "text": [
      "90\n",
      "5 7\n"
     ]
    }
   ],
   "source": [
    "import sys\n",
    "sys.stdin = open('test.txt', 'r')\n",
    "\n",
    "matrix = [[0] * 10 for i in range(10)]\n",
    "maximum = [0, 1, 1]\n",
    "\n",
    "\n",
    "\n",
    "for i in range(1, 10):\n",
    "    input = [0] + list(map(int, sys.stdin.readline().split()))\n",
    "    for j in range(1, 10):\n",
    "        matrix[i][j] = input[j]\n",
    "        \n",
    "        if input[j] > maximum[0]:\n",
    "            maximum[0] = input[j]\n",
    "            maximum[1] = i\n",
    "            maximum[2] = j\n",
    "\n",
    "print(maximum[0])\n",
    "print(maximum[1], maximum[2])\n"
   ]
  },
  {
   "cell_type": "markdown",
   "id": "fb4c193b-e1c9-482a-a806-246592b5d993",
   "metadata": {},
   "source": [
    "- 최댓값이 여러 개일 경우의 위치 조건(여러 최댓값 중 1개) 때문에 maximum의 좌푯값은 (1,1) 에서 시작함"
   ]
  },
  {
   "cell_type": "code",
   "execution_count": null,
   "id": "c9e7e3c5-b49e-45ea-b5e8-7f8ff1984fb9",
   "metadata": {},
   "outputs": [],
   "source": []
  }
 ],
 "metadata": {
  "kernelspec": {
   "display_name": "Python 3 (ipykernel)",
   "language": "python",
   "name": "python3"
  },
  "language_info": {
   "codemirror_mode": {
    "name": "ipython",
    "version": 3
   },
   "file_extension": ".py",
   "mimetype": "text/x-python",
   "name": "python",
   "nbconvert_exporter": "python",
   "pygments_lexer": "ipython3",
   "version": "3.9.13"
  }
 },
 "nbformat": 4,
 "nbformat_minor": 5
}
