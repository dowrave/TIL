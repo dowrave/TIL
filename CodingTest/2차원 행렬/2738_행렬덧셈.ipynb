{
 "cells": [
  {
   "cell_type": "code",
   "execution_count": 19,
   "id": "36c1bb8d-5e58-4421-8d84-7847184d1c68",
   "metadata": {},
   "outputs": [
    {
     "name": "stdout",
     "output_type": "stream",
     "text": [
      "4 4 4\n",
      "6 6 6\n",
      "5 6 100\n"
     ]
    }
   ],
   "source": [
    "import sys\n",
    "sys.stdin = open('test.txt', 'r')\n",
    "\n",
    "N, M = map(int, sys.stdin.readline().split())\n",
    "\n",
    "lst = [[0] * M for i in range(N)]\n",
    "\n",
    "for _ in range(2):\n",
    "    for i in range(N):\n",
    "        input = list(map(int, sys.stdin.readline().split()))\n",
    "        for j in range(M):\n",
    "            lst[i][j] += input[j]\n",
    "\n",
    "for i in range(N):\n",
    "    print(\" \".join(map(str, lst[i])))"
   ]
  },
  {
   "cell_type": "code",
   "execution_count": null,
   "id": "6acf2e99-a8aa-472e-9a08-215041c81937",
   "metadata": {},
   "outputs": [],
   "source": []
  }
 ],
 "metadata": {
  "kernelspec": {
   "display_name": "Python 3 (ipykernel)",
   "language": "python",
   "name": "python3"
  },
  "language_info": {
   "codemirror_mode": {
    "name": "ipython",
    "version": 3
   },
   "file_extension": ".py",
   "mimetype": "text/x-python",
   "name": "python",
   "nbconvert_exporter": "python",
   "pygments_lexer": "ipython3",
   "version": "3.9.13"
  }
 },
 "nbformat": 4,
 "nbformat_minor": 5
}
