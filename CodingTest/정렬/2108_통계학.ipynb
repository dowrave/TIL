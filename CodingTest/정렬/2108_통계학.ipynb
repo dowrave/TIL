{
 "cells": [
  {
   "cell_type": "code",
   "execution_count": 59,
   "id": "2f694f89-6e29-46bf-87b1-225edc3b433d",
   "metadata": {},
   "outputs": [
    {
     "name": "stdout",
     "output_type": "stream",
     "text": [
      "0\n",
      "0\n",
      "0\n",
      "1\n"
     ]
    }
   ],
   "source": [
    "import sys\n",
    "\n",
    "\n",
    "def quicksort(arr: list):\n",
    "    def sort(low, high):\n",
    "        if low >= high:\n",
    "            return\n",
    "        \n",
    "        mid = partition(low, high)\n",
    "        sort(low, mid - 1)\n",
    "        sort(mid, high)\n",
    "\n",
    "    def partition(low, high):\n",
    "        pivot = arr[(low + high) // 2]\n",
    "\n",
    "        while low <= high:\n",
    "            while arr[low] < pivot:\n",
    "                low += 1\n",
    "            while arr[high] > pivot:\n",
    "                high -= 1\n",
    "\n",
    "            if low <= high:\n",
    "                arr[low], arr[high] = arr[high], arr[low]\n",
    "                low, high = low + 1, high - 1\n",
    "        return low\n",
    "\n",
    "    sort(0, len(arr) - 1)\n",
    "\n",
    "def avg(arr: list):\n",
    "\n",
    "    summ = 0\n",
    "    cnt = len(arr)\n",
    "\n",
    "    for i in arr:\n",
    "        summ += i\n",
    "\n",
    "    print(int(round(summ/cnt, 0)))\n",
    "\n",
    "def median(arr: list):\n",
    "\n",
    "    median = len(arr) // 2\n",
    "    print(arr[median])   \n",
    "\n",
    "def mode(arr: list):\n",
    "    dct = {}\n",
    "    \n",
    "    for i in arr:\n",
    "        if i not in dct.keys():\n",
    "            dct[i] = 0 \n",
    "        dct[i] += 1\n",
    "    \n",
    "    MaxVal = [k for k, v in dct.items() if max(dct.values()) == v]\n",
    "    if len(MaxVal) >= 2:\n",
    "        print(MaxVal[1])\n",
    "    else:\n",
    "        print(MaxVal[0])\n",
    "\n",
    "def bound(arr: list):\n",
    "    \n",
    "    if len(arr) == 1:\n",
    "        print(0)\n",
    "        return\n",
    "    \n",
    "    min_value = 4001\n",
    "    max_value = -4001\n",
    "\n",
    "    for i in range(len(arr)):\n",
    "\n",
    "        if arr[i] < min_value:\n",
    "            min_value = arr[i]\n",
    "        elif arr[i] > max_value:\n",
    "            max_value = arr[i]\n",
    "\n",
    "    print(max_value - min_value)\n",
    "\n",
    "sys.stdin = open('test.txt', 'r')\n",
    "\n",
    "N = int(sys.stdin.readline())\n",
    "lst = []\n",
    "for i in range(N):\n",
    "    lst.append(int(sys.stdin.readline()))\n",
    "    \n",
    "quicksort(lst)\n",
    "avg(lst)\n",
    "median(lst)\n",
    "mode(lst)\n",
    "bound(lst)"
   ]
  },
  {
   "cell_type": "code",
   "execution_count": 51,
   "id": "91a476c8-1d7e-4844-8928-dec4211152ec",
   "metadata": {},
   "outputs": [
    {
     "name": "stdout",
     "output_type": "stream",
     "text": [
      "[4000]\n",
      "4000\n",
      "4000\n",
      "4000\n",
      "-10000000000.0\n"
     ]
    }
   ],
   "source": []
  },
  {
   "cell_type": "code",
   "execution_count": 19,
   "id": "a1ab7483-620c-40ca-b95c-e376a6662f1e",
   "metadata": {},
   "outputs": [
    {
     "name": "stdout",
     "output_type": "stream",
     "text": [
      "10\n"
     ]
    }
   ],
   "source": [
    "bound(lst)"
   ]
  },
  {
   "cell_type": "code",
   "execution_count": 20,
   "id": "bb9c8d5d-5720-4664-aa0d-71ec6cb37dab",
   "metadata": {},
   "outputs": [
    {
     "name": "stdout",
     "output_type": "stream",
     "text": [
      "2\n"
     ]
    }
   ],
   "source": [
    "median(lst)"
   ]
  },
  {
   "cell_type": "code",
   "execution_count": 24,
   "id": "262afab0-6234-4f6a-9725-4ef3e00f1b29",
   "metadata": {},
   "outputs": [
    {
     "name": "stdout",
     "output_type": "stream",
     "text": [
      "{1: 1}\n"
     ]
    }
   ],
   "source": []
  },
  {
   "cell_type": "code",
   "execution_count": 38,
   "id": "06e9032d-ee7a-46cd-a609-342020df53d3",
   "metadata": {},
   "outputs": [],
   "source": []
  },
  {
   "cell_type": "code",
   "execution_count": 39,
   "id": "47a9316f-0432-48cf-b02e-119e40068fb7",
   "metadata": {},
   "outputs": [
    {
     "data": {
      "text/plain": [
       "1"
      ]
     },
     "execution_count": 39,
     "metadata": {},
     "output_type": "execute_result"
    }
   ],
   "source": [
    "# 최대 value 값을 갖는 key 값 찾기 - 용도가 제한적\n",
    "max(dct, key = dct.get)"
   ]
  },
  {
   "cell_type": "code",
   "execution_count": 40,
   "id": "c6c27758-300d-47bc-bcd7-b9a0f3f9297d",
   "metadata": {},
   "outputs": [
    {
     "data": {
      "text/plain": [
       "[1, 3, 8, -2, 2]"
      ]
     },
     "execution_count": 40,
     "metadata": {},
     "output_type": "execute_result"
    }
   ],
   "source": [
    "# 최댓값이 여러 개라면 모두 보여줌\n",
    "[k for k,v in dct.items() if max(dct.values()) == v]"
   ]
  },
  {
   "cell_type": "code",
   "execution_count": null,
   "id": "8f6c1852-7f41-4c90-8cfb-d52993a8550d",
   "metadata": {},
   "outputs": [],
   "source": []
  }
 ],
 "metadata": {
  "kernelspec": {
   "display_name": "Python 3 (ipykernel)",
   "language": "python",
   "name": "python3"
  },
  "language_info": {
   "codemirror_mode": {
    "name": "ipython",
    "version": 3
   },
   "file_extension": ".py",
   "mimetype": "text/x-python",
   "name": "python",
   "nbconvert_exporter": "python",
   "pygments_lexer": "ipython3",
   "version": "3.9.13"
  }
 },
 "nbformat": 4,
 "nbformat_minor": 5
}
