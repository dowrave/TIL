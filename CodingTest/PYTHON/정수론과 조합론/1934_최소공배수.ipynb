{
 "cells": [
  {
   "cell_type": "code",
   "execution_count": 2,
   "id": "4926cbc4-a758-42f6-a3f7-38c9e189c111",
   "metadata": {},
   "outputs": [
    {
     "name": "stdout",
     "output_type": "stream",
     "text": [
      "45000\n",
      "30\n",
      "221\n"
     ]
    }
   ],
   "source": [
    "import sys\n",
    "sys.stdin = open('test.txt', 'r')\n",
    "T = int(sys.stdin.readline())\n",
    "\n",
    "for _ in range(T):\n",
    "    a, b = map(int, sys.stdin.readline().split())\n",
    "    \n",
    "    x, y = a, b\n",
    "    if x < y:\n",
    "        x, y = y, x\n",
    "    \n",
    "    while y > 0:\n",
    "        i = x % y\n",
    "        x = y\n",
    "        y = i\n",
    "    \n",
    "    print(a * b // x)"
   ]
  },
  {
   "cell_type": "code",
   "execution_count": null,
   "id": "99edb327-8b20-47d6-8aad-8d56cf1bbc61",
   "metadata": {},
   "outputs": [],
   "source": []
  }
 ],
 "metadata": {
  "kernelspec": {
   "display_name": "Python 3 (ipykernel)",
   "language": "python",
   "name": "python3"
  },
  "language_info": {
   "codemirror_mode": {
    "name": "ipython",
    "version": 3
   },
   "file_extension": ".py",
   "mimetype": "text/x-python",
   "name": "python",
   "nbconvert_exporter": "python",
   "pygments_lexer": "ipython3",
   "version": "3.9.13"
  }
 },
 "nbformat": 4,
 "nbformat_minor": 5
}
