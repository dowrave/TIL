{
 "cells": [
  {
   "cell_type": "code",
   "execution_count": 31,
   "id": "b714297c-2a73-4989-b62c-601cdc2322c3",
   "metadata": {},
   "outputs": [
    {
     "name": "stdout",
     "output_type": "stream",
     "text": [
      "10\n"
     ]
    }
   ],
   "source": [
    "import sys\n",
    "sys.stdin = open('test.txt', 'r')\n",
    "\n",
    "n, k = map(int, sys.stdin.readline().split())\n",
    "\n",
    "# 리스트 구현해서 동적계획법으로 한 건 오버플로우가 뜸\n",
    "\n",
    "def combination(n, k):\n",
    "    # k = 0인 경우가 걸렸는데\n",
    "    # k = 1일때부터 n임 / 0이면 head = 1\n",
    "    head = 1\n",
    "    for i in range(k):\n",
    "        head *= n \n",
    "        n -= 1\n",
    "    \n",
    "    tail = 1\n",
    "    for i in range(2, k+1):\n",
    "        tail *= i\n",
    "\n",
    "    return head//tail\n",
    "\n",
    "print(int(combination(n, k) % 10007))"
   ]
  },
  {
   "cell_type": "code",
   "execution_count": null,
   "id": "9adf1894-0423-48c7-b5fc-24e80d66bb33",
   "metadata": {},
   "outputs": [],
   "source": []
  }
 ],
 "metadata": {
  "kernelspec": {
   "display_name": "Python 3 (ipykernel)",
   "language": "python",
   "name": "python3"
  },
  "language_info": {
   "codemirror_mode": {
    "name": "ipython",
    "version": 3
   },
   "file_extension": ".py",
   "mimetype": "text/x-python",
   "name": "python",
   "nbconvert_exporter": "python",
   "pygments_lexer": "ipython3",
   "version": "3.9.13"
  }
 },
 "nbformat": 4,
 "nbformat_minor": 5
}
