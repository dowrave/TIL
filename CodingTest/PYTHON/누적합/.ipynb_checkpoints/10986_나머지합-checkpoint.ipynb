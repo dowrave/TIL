{
 "cells": [
  {
   "cell_type": "code",
   "execution_count": 35,
   "id": "9270f45d-8064-413b-a08d-131676f20f85",
   "metadata": {},
   "outputs": [
    {
     "name": "stdout",
     "output_type": "stream",
     "text": [
      "[3, 2, 0]\n",
      "7\n"
     ]
    }
   ],
   "source": [
    "import sys\n",
    "sys.stdin = open('test.txt',  'r')\n",
    "input = sys.stdin.readline\n",
    "\n",
    "N, M = map(int, input().split())\n",
    "lst = list(map(int, input().split()))\n",
    "\n",
    "# 누적합 dp 구성\n",
    "dp = [0] * (N)\n",
    "dp[0] = lst[0] % M\n",
    "mod_lst = [0] * M\n",
    "for i in range(len(lst)):\n",
    "    dp[i] = (dp[i-1] + lst[i]) % M\n",
    "\n",
    "count = 0\n",
    "\n",
    "# 1. 나머지가 0인 건 그 자체로 하나의 부분집합\n",
    "for i in range(N):\n",
    "    if dp[i] == 0:\n",
    "        count += 1\n",
    "        \n",
    "# 2. 부분합에서 나머지가 같은 것끼리 빼면 그 값은 나눠떨어질 거임\n",
    "# 즉 누적합의 나머지 리스트에서 값이 같은 것끼리 갯수를 센 다음, nC2 해주면 됨\n",
    "# 이 식은 위에 합쳐도 무방함\n",
    "for i in range(N):\n",
    "    mod_lst[dp[i]] += 1\n",
    "\n",
    "for i in range(M):\n",
    "    count += (mod_lst[i] * (mod_lst[i] - 1)) // 2\n",
    "\n",
    "print(count)\n"
   ]
  },
  {
   "cell_type": "markdown",
   "id": "e151d9f6-50fe-471f-baec-e8d55bd45397",
   "metadata": {},
   "source": [
    "- 이중 for문은 시간초과\n",
    "- 대신 쓰는 방법으로\n",
    "    1. 누적합을 M으로 모듈로 연산했을 때 나머지가 0이면 count를 올림 (부분집합 크기 1)\n",
    "    2. 누적합을 모듈로 연산한 리스트에서, 나머지가 같은 것끼리 2개를 골라 모두 count에 더함(부분집합 크기 2 이상)"
   ]
  },
  {
   "cell_type": "markdown",
   "id": "cbbbebac-b7f7-4fab-a4af-129d196c5e44",
   "metadata": {},
   "source": [
    "- 모듈로 연산의 분배법칙(결합법칙?)으로 인해\n",
    "- 곱셈도 이렇게 가능함\n",
    "$$\n",
    "A \\pm B \\mod {C} = (A\\mod ({C}) \\pm B \\mod (C)) \\mod{C})\n",
    "$$\n",
    "- 이로 인해 누적합이나 부분합의 모듈로 연산 값은 dp로 모듈로연산을 해나가면서 다음 값에 쓸 수 있음"
   ]
  },
  {
   "cell_type": "markdown",
   "id": "c21a6dc8-8f57-4dfb-94ac-3c0d315e15ea",
   "metadata": {},
   "source": [
    "![ㅔ베베](나머지합.jpg)"
   ]
  }
 ],
 "metadata": {
  "kernelspec": {
   "display_name": "Python 3 (ipykernel)",
   "language": "python",
   "name": "python3"
  },
  "language_info": {
   "codemirror_mode": {
    "name": "ipython",
    "version": 3
   },
   "file_extension": ".py",
   "mimetype": "text/x-python",
   "name": "python",
   "nbconvert_exporter": "python",
   "pygments_lexer": "ipython3",
   "version": "3.9.13"
  }
 },
 "nbformat": 4,
 "nbformat_minor": 5
}
