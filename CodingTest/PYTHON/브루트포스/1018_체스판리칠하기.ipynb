{
 "cells": [
  {
   "cell_type": "code",
   "execution_count": 56,
   "id": "837f68f7-ee28-413a-8894-be5dc5262b71",
   "metadata": {},
   "outputs": [
    {
     "name": "stdout",
     "output_type": "stream",
     "text": [
      "0 0\n",
      "0 1\n",
      "0 2\n",
      "0 3\n",
      "0 4\n",
      "0 5\n",
      "1 0\n",
      "1 1\n",
      "1 2\n",
      "1 3\n",
      "1 4\n",
      "1 5\n",
      "2 0\n",
      "2 1\n",
      "2 2\n",
      "2 3\n",
      "2 4\n",
      "2 5\n",
      "12\n"
     ]
    }
   ],
   "source": [
    "import sys\n",
    "sys.stdin = open('test.txt', 'r')\n",
    "N, M = map(int, sys.stdin.readline().split())\n",
    "\n",
    "def W_matrix(sub_matrix):\n",
    "    \"\"\"짝수 인덱스가 W, 홀수 인덱스가 B\"\"\"\n",
    "    need_to_fix = 0\n",
    "    for i in range(8):\n",
    "        for j in range(8):\n",
    "            if (i + j) % 2 == 0 and sub_matrix[i][j] == 'B':\n",
    "                need_to_fix += 1\n",
    "            elif (i + j) % 2 == 1 and sub_matrix[i][j] == 'W':\n",
    "                need_to_fix += 1\n",
    "    return need_to_fix\n",
    "    \n",
    "def B_matrix(sub_matrix):\n",
    "    \"\"\"짝수 인덱스가 B, 홀수 인덱스가 W\"\"\"\n",
    "    need_to_fix = 0\n",
    "    for i in range(8):\n",
    "        for j in range(8):\n",
    "            if (i + j) % 2 == 0 and sub_matrix[i][j] == 'W':\n",
    "                need_to_fix += 1\n",
    "            elif (i + j) % 2 == 1 and sub_matrix[i][j] == 'B':\n",
    "                need_to_fix += 1\n",
    "    return need_to_fix\n",
    "\n",
    "def find_sub_matrix(N, M):\n",
    "    \"\"\"좌측 상단 점을 기준으로 보면 matrix[a][b]니까\"\"\"\n",
    "   \n",
    "    matrix = []\n",
    "    for i in range(N):\n",
    "        matrix.append(sys.stdin.readline().rstrip())\n",
    "    \n",
    "\n",
    "    errors = 33 # 최대 에러 수는 32\n",
    "    for i in range(N - 8 + 1):\n",
    "        for j in range(M - 8 + 1):\n",
    "            # 2차원 리스트 슬라이싱 : [:][:]로 되지 않음\n",
    "            sub_matrix = []\n",
    "            \n",
    "            for k in range(8):\n",
    "                sub_matrix.append(matrix[i + k][j : j + 8])\n",
    "\n",
    "            errors = min(W_matrix(sub_matrix),\n",
    "                        B_matrix(sub_matrix),\n",
    "                        errors)\n",
    "    return errors\n",
    "\n",
    "print(find_sub_matrix(N, M))"
   ]
  },
  {
   "cell_type": "markdown",
   "id": "4982b2ac-031d-4d11-a096-25e3c7858e43",
   "metadata": {},
   "source": [
    "- 전체 크기가 랜덤이고 체스판의 모양도 랜덤이다\n",
    "- 체스판의 크기는 고정이니까 좌측 상단을 기준으로 생각해보면 나올 수 있는 경우의 수는 `(N - 7) * (M - 7)` 개일 거임"
   ]
  },
  {
   "cell_type": "code",
   "execution_count": 39,
   "id": "6c1541ae-646c-4759-a286-f65f4e01d28f",
   "metadata": {},
   "outputs": [
    {
     "ename": "TypeError",
     "evalue": "list indices must be integers or slices, not tuple",
     "output_type": "error",
     "traceback": [
      "\u001b[1;31m---------------------------------------------------------------------------\u001b[0m",
      "\u001b[1;31mTypeError\u001b[0m                                 Traceback (most recent call last)",
      "\u001b[1;32m~\\AppData\\Local\\Temp/ipykernel_9840/1982443131.py\u001b[0m in \u001b[0;36m<module>\u001b[1;34m\u001b[0m\n\u001b[0;32m      8\u001b[0m     \u001b[0mmatrix\u001b[0m\u001b[1;33m.\u001b[0m\u001b[0mappend\u001b[0m\u001b[1;33m(\u001b[0m\u001b[0msys\u001b[0m\u001b[1;33m.\u001b[0m\u001b[0mstdin\u001b[0m\u001b[1;33m.\u001b[0m\u001b[0mreadline\u001b[0m\u001b[1;33m(\u001b[0m\u001b[1;33m)\u001b[0m\u001b[1;33m.\u001b[0m\u001b[0mrstrip\u001b[0m\u001b[1;33m(\u001b[0m\u001b[1;33m)\u001b[0m\u001b[1;33m)\u001b[0m\u001b[1;33m\u001b[0m\u001b[1;33m\u001b[0m\u001b[0m\n\u001b[0;32m      9\u001b[0m \u001b[1;33m\u001b[0m\u001b[0m\n\u001b[1;32m---> 10\u001b[1;33m \u001b[0mprint\u001b[0m\u001b[1;33m(\u001b[0m\u001b[0mmatrix\u001b[0m\u001b[1;33m[\u001b[0m\u001b[1;36m0\u001b[0m\u001b[1;33m:\u001b[0m\u001b[1;36m5\u001b[0m\u001b[1;33m,\u001b[0m\u001b[1;36m1\u001b[0m\u001b[1;33m:\u001b[0m\u001b[1;36m7\u001b[0m\u001b[1;33m]\u001b[0m\u001b[1;33m)\u001b[0m\u001b[1;33m\u001b[0m\u001b[1;33m\u001b[0m\u001b[0m\n\u001b[0m",
      "\u001b[1;31mTypeError\u001b[0m: list indices must be integers or slices, not tuple"
     ]
    }
   ],
   "source": [
    "# 2차원 행렬을 어떻게 자를까?\n",
    "import sys\n",
    "sys.stdin = open('test.txt', 'r')\n",
    "N, M = map(int, sys.stdin.readline().split())\n",
    "\n",
    "matrix = []\n",
    "for i in range(N):\n",
    "    matrix.append(sys.stdin.readline().rstrip())\n",
    "\n",
    "print(matrix[0:5,1:7])"
   ]
  },
  {
   "cell_type": "code",
   "execution_count": null,
   "id": "a1b4ffdf-ffbb-426a-9775-43b8018cd2e2",
   "metadata": {},
   "outputs": [],
   "source": []
  }
 ],
 "metadata": {
  "kernelspec": {
   "display_name": "Python 3 (ipykernel)",
   "language": "python",
   "name": "python3"
  },
  "language_info": {
   "codemirror_mode": {
    "name": "ipython",
    "version": 3
   },
   "file_extension": ".py",
   "mimetype": "text/x-python",
   "name": "python",
   "nbconvert_exporter": "python",
   "pygments_lexer": "ipython3",
   "version": "3.9.13"
  }
 },
 "nbformat": 4,
 "nbformat_minor": 5
}
