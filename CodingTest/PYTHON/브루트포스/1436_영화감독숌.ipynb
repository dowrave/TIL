{
 "cells": [
  {
   "cell_type": "code",
   "execution_count": 3,
   "id": "38a47afe-10d3-44cf-89a8-30cc797d9a4a",
   "metadata": {},
   "outputs": [
    {
     "name": "stdout",
     "output_type": "stream",
     "text": [
      "1666\n"
     ]
    }
   ],
   "source": [
    "import sys\n",
    "sys.stdin = open('test.txt', 'r')\n",
    "N = int(sys.stdin.readline())\n",
    "\n",
    "def find_doom(n):\n",
    "    lst = []\n",
    "    i = 666\n",
    "    while len(lst) < n: # n번째 doom 값은 (n-1)에 저장됨\n",
    "        \n",
    "        # 파이썬엔 `in`이 있으니까, 그냥 0부터 반복문 쫙 돌리면 됨\n",
    "        if '666' in str(i):\n",
    "            lst.append(i)\n",
    "        i += 1\n",
    "    return lst\n",
    "\n",
    "lst = find_doom(N)\n",
    "print(lst[N-1])\n",
    "\n"
   ]
  },
  {
   "cell_type": "markdown",
   "id": "decb2e4b-3af5-46c3-9e1e-dcc9b158bbca",
   "metadata": {},
   "source": []
  }
 ],
 "metadata": {
  "kernelspec": {
   "display_name": "Python 3 (ipykernel)",
   "language": "python",
   "name": "python3"
  },
  "language_info": {
   "codemirror_mode": {
    "name": "ipython",
    "version": 3
   },
   "file_extension": ".py",
   "mimetype": "text/x-python",
   "name": "python",
   "nbconvert_exporter": "python",
   "pygments_lexer": "ipython3",
   "version": "3.9.13"
  }
 },
 "nbformat": 4,
 "nbformat_minor": 5
}
