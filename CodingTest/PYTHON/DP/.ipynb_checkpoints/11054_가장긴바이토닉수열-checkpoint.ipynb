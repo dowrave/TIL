{
 "cells": [
  {
   "cell_type": "code",
   "execution_count": 31,
   "id": "b0217f70-46ac-44ab-8f04-7405091cd79d",
   "metadata": {},
   "outputs": [
    {
     "name": "stdout",
     "output_type": "stream",
     "text": [
      "[1, 2, 2, 1, 3, 3, 4, 5, 2, 1] [1, 2, 3, 3, 3, 4, 1, 2, 5, 1]\n",
      "7\n"
     ]
    }
   ],
   "source": [
    "import sys\n",
    "sys.stdin = open('test.txt', 'r')\n",
    "input = sys.stdin.readline\n",
    "\n",
    "n = int(input())\n",
    "lst = list(map(int, input().split()))\n",
    "lst_r = lst[::-1]\n",
    "\n",
    "dp = [1] * n\n",
    "dp_r = [1] * n\n",
    "\n",
    "for i in range(n):\n",
    "    for j in range(i):\n",
    "        if lst[i] > lst[j]:\n",
    "            dp[i] = max(dp[i], dp[j] + 1)\n",
    "        if lst_r[i] > lst_r[j]:\n",
    "            dp_r[i] = max(dp_r[i], dp_r[j] + 1)\n",
    "\n",
    "# 두 리스트를 더하는 방법은 반복문을 써야 함 (오퍼레이터 오버로드 X)\n",
    "result = [0] * n\n",
    "for i in range(n): # 0 + (n-1), 1 + (n-2), ....\n",
    "    result[i] = dp[i] + dp_r[n-i - 1] - 1\n",
    "print(dp, dp_r)\n",
    "print(max(result))"
   ]
  },
  {
   "cell_type": "code",
   "execution_count": 7,
   "id": "35dadf67-f724-4aff-b8fe-e3f34b0473f4",
   "metadata": {},
   "outputs": [
    {
     "name": "stdout",
     "output_type": "stream",
     "text": [
      "[1, 5, 2, 1, 4, 3, 4, 5, 2, 1]\n"
     ]
    }
   ],
   "source": [
    "print(lst)"
   ]
  },
  {
   "cell_type": "code",
   "execution_count": null,
   "id": "6d08bb94-81ff-46d5-a4ab-5865590043af",
   "metadata": {},
   "outputs": [],
   "source": [
    "# 반복문을 뒤집는 방법으로도 구현할 수 있다\n",
    "# 역방향 반복문\n",
    "for i in range(n-1, -1, -1): # 0부터 n까지니까 이렇게 뒤집음\n",
    "    "
   ]
  }
 ],
 "metadata": {
  "kernelspec": {
   "display_name": "Python 3 (ipykernel)",
   "language": "python",
   "name": "python3"
  },
  "language_info": {
   "codemirror_mode": {
    "name": "ipython",
    "version": 3
   },
   "file_extension": ".py",
   "mimetype": "text/x-python",
   "name": "python",
   "nbconvert_exporter": "python",
   "pygments_lexer": "ipython3",
   "version": "3.9.13"
  }
 },
 "nbformat": 4,
 "nbformat_minor": 5
}
