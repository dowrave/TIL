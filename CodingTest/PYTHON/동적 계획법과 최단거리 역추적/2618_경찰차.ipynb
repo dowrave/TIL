{
 "cells": [
  {
   "cell_type": "markdown",
   "id": "2034977b-a030-4780-a01d-c1483d4da94d",
   "metadata": {},
   "source": [
    "## [문제 링크](https://www.acmicpc.net/problem/2618)\n",
    "- 경찰차 2대가 최초에 (1,1)과 (N,N)에 있다\n",
    "- 어떤 위치를 주면 둘 중 가까운 차가 움직인다\n",
    "1. 최종적으로 이동한 최소 거리를 출력하고\n",
    "2. 각 사건에 대해 어떤 차(1 or 2)가 이동했는지 출력하시오\n",
    "--- \n",
    "- 어떤 이동에서 최적화된 값이 나올지 모르기 때문에 모든 방향으로 탐색을 해야 한다.\n",
    "- 단, 모든 경우를 탐색하진 않는다 : 1번씩 움직였다면 최소 이동 거리가 나오는 케이스만 정리한다\n",
    "- 2차원으로 DP를 구성함\n",
    "    - DP의 각 row는 차 1이 이동한 횟수, 각 col은 차 2가 이동한 횟수이다\n",
    "    - 각 값은 `값, 차1의 현재위치, 차2의 현재위치`로 구성해본다"
   ]
  },
  {
   "cell_type": "markdown",
   "id": "d81a01fe-ac3a-456a-acdd-594138d4abb5",
   "metadata": {},
   "source": [
    "## 백준에 있는 반례 다 맞는데 4%에서 틀렸습니다 뜸\n",
    "- 뭐가 틀렸는지 모르겠다 gg"
   ]
  },
  {
   "cell_type": "code",
   "execution_count": 31,
   "id": "f09d5efe-507a-47bc-a539-241fb56d54ed",
   "metadata": {},
   "outputs": [
    {
     "name": "stdout",
     "output_type": "stream",
     "text": [
      "1000000000 6\n",
      "2 1000000000\n",
      "1000000000 4\n",
      "6 2\n",
      "4 1000000000\n",
      "4\n",
      "1\n",
      "2\n"
     ]
    }
   ],
   "source": [
    "import sys\n",
    "sys.stdin = open('test.txt', 'r')\n",
    "input = sys.stdin.readline\n",
    "\n",
    "N = int(input())\n",
    "W = int(input())\n",
    "cases = [(0, 0)] # 케이스는 1번부터 고려한다\n",
    "for _ in range(W):\n",
    "    cases.append(tuple(map(int, input().split())))\n",
    "\n",
    "    \n",
    "# dp의 각 값은 (누적 거리, 1번차 위치, 2번차 위치)\n",
    "dp = [[(0, 0, 0) for _ in range(W + 1)] for _ in range(W + 1)]\n",
    "\n",
    "for i in range(1, W + 1):\n",
    "    case_row = cases[i][0]\n",
    "    case_col = cases[i][1]\n",
    "    \n",
    "    for j in range(i + 1):\n",
    "        target_row = j\n",
    "        target_col = i - j\n",
    "        \n",
    "        # dp[j][i-j]에 대해 왼쪽과 위의 값을 얻음\n",
    "        \n",
    "        # 1번 차의 이동 & 최초 위치 (1,1)\n",
    "        if target_row == 1:\n",
    "            dist1 = abs(case_row - 1) + abs(case_col - 1)\n",
    "        elif target_row > 1:\n",
    "            before_loc_idx_row = dp[j-1][i-j][1]\n",
    "            before_loc_row = cases[before_loc_idx_row]\n",
    "            dist1 = abs(case_row - before_loc_row[0]) + abs(case_col - before_loc_row[1])\n",
    "        else:\n",
    "            dist1 = int(1e9)\n",
    "\n",
    "        # 2번 차의 이동\n",
    "        if target_col == 1:\n",
    "            dist2 = abs(case_row - N) + abs(case_col - N)\n",
    "        elif target_col > 1:\n",
    "            before_loc_idx_col = dp[j][i-j-1][2]\n",
    "            before_loc_col = cases[before_loc_idx_col]\n",
    "            dist2 = abs(case_row - before_loc_col[0]) + abs(case_col - before_loc_col[1])\n",
    "        else:\n",
    "            dist2 = int(1e9)\n",
    "        \n",
    "        print(dist1, dist2)\n",
    "        total_dist1 = dp[j-1][i-j][0] + dist1\n",
    "        total_dist2 = dp[j][i-j-1][0] + dist2\n",
    "        \n",
    "        if total_dist1 > total_dist2:\n",
    "            dp[j][i-j] = (total_dist2, dp[j][i-j-1][1], i) # 2번이 움직였다면 2번의 현재 위치 정보를 갱신\n",
    "        else:\n",
    "            dp[j][i-j] = (total_dist1, i, dp[j-1][i-j][2]) # 1번이 움직였다면 1번의 위치 정보를 갱신\n",
    "\n",
    "min_dist = int(1e9)\n",
    "min_point = (W + 1, W + 1)\n",
    "for j in range(W + 1):\n",
    "    if dp[j][W-j][0] < min_dist:\n",
    "        min_dist = dp[j][W-j][0]\n",
    "        min_point = (j, W-j)\n",
    "\n",
    "print(min_dist)\n",
    "\n",
    "# 최소 경로에서 시작\n",
    "x, y = min_point\n",
    "\n",
    "# 최소 경로의 마지막 점에서 위와 왼쪽을 봤을 때,\n",
    "# 왼쪽으로 이동할 경우 2번 인덱스가 다르고, 1번 인덱스가 같아야 함\n",
    "# 위로 이동할 경우 1번 인덱스가 다르고, 2번 인덱스가 같아야 함\n",
    "ans = []\n",
    "while x != 0 or y != 0: # 둘 모두 0이 될 때까지 돌아가야 하니까, or조건이 들어간다.\n",
    "    if x > 0 and dp[x-1][y][2] == dp[x][y][2] and dp[x-1][y][1] != dp[x][y][1]: # row가 바뀌고 col이 동일하다면 1번 차가 움직임\n",
    "        ans.append(1) \n",
    "        x -= 1\n",
    "    elif y > 0 and dp[x][y-1][1] == dp[x][y][1] and dp[x][y-1][2] != dp[x][y][2]: # row가 유지된다면 2번 차가 움직임\n",
    "        ans.append(2)\n",
    "        y -= 1\n",
    "\n",
    "for i in ans[::-1]:\n",
    "    print(i)"
   ]
  },
  {
   "cell_type": "code",
   "execution_count": 32,
   "id": "7fb251b8-f40f-44bd-822a-e2a9007523cb",
   "metadata": {},
   "outputs": [
    {
     "name": "stdout",
     "output_type": "stream",
     "text": [
      "[(0, 0, 0), (6, 0, 1), (10, 0, 2)]\n",
      "[(2, 1, 0), (4, 1, 2), (0, 0, 0)]\n",
      "[(6, 2, 0), (0, 0, 0), (0, 0, 0)]\n"
     ]
    }
   ],
   "source": []
  },
  {
   "cell_type": "markdown",
   "id": "7f39733a-b24e-4e05-b6e0-1c91b60d9b73",
   "metadata": {},
   "source": [
    "- 예시 : (28, 4, 5)에서 출발함\n",
    "- 위, 왼쪽의 [1], [2]번째 인덱스를 봤을 때 왼쪽은 [1]이 4로 동일한 반면 위는 동일한 점이 없음(여기서 온 점이 아니라는 뜻)\n",
    "- 따라서 왼쪽으로 이동함\n",
    "- 이 과정을 x, y가 모두 0이 될 때까지 반복하면 됨\n",
    "\n",
    "- **근데 어차피 왼쪽에서 왔다면 [2] 인덱스가 바뀌었을 거고([1]이 동일할 거고 위에서 왔다면 [1] 인덱스가 바뀌었을 거임([2]가 유지될 거임)**"
   ]
  },
  {
   "cell_type": "code",
   "execution_count": 6,
   "id": "c38ac138-18ca-472e-ad5a-59a8f4093ebd",
   "metadata": {},
   "outputs": [
    {
     "name": "stdout",
     "output_type": "stream",
     "text": [
      "8\n",
      "1\n",
      "1\n"
     ]
    }
   ],
   "source": [
    "import sys\n",
    "sys.stdin = open('test.txt', 'r')\n",
    "sys.setrecursionlimit(10**6)\n",
    "input = sys.stdin.readline\n",
    "\n",
    "def findDP(dp, case1, case2, car1, car2, n):\n",
    "    if dp[car1][car2] != -1:\n",
    "        return dp[car1][car2]\n",
    "    if car1 == n or car2 == n:\n",
    "        return 0\n",
    "    nextCase = max(car1, car2) + 1\n",
    "\n",
    "    car1Dis = abs(case1[car1][0] - case1[nextCase][0]) + abs(case1[car1][1] - case1[nextCase][1])\n",
    "    car2Dis = abs(case2[car2][0] - case2[nextCase][0]) + abs(case2[car2][1] - case2[nextCase][1])\n",
    "\n",
    "    result1 = car1Dis + findDP(dp, case1, case2, nextCase, car2, n)\n",
    "    result2 = car2Dis + findDP(dp, case1, case2, car1, nextCase, n)\n",
    "\n",
    "    dp[car1][car2] = min(result1, result2)\n",
    "    return dp[car1][car2]\n",
    "\n",
    "def pathPrint(dp, case1, case2, car1, car2, n):\n",
    "    if car1 == n or car2 == n:\n",
    "        return 0\n",
    "    nextCase = max(car1, car2) + 1\n",
    "\n",
    "    car1Dis = abs(case1[car1][0] - case1[nextCase][0]) + abs(case1[car1][1] - case1[nextCase][1])\n",
    "    car2Dis = abs(case2[car2][0] - case2[nextCase][0]) + abs(case2[car2][1] - case2[nextCase][1])\n",
    "\n",
    "    result1 = car1Dis + dp[nextCase][car2]\n",
    "    result2 = car2Dis + dp[car1][nextCase]\n",
    "\n",
    "    if result1 < result2:\n",
    "        print(1)\n",
    "        pathPrint(dp, case1, case2, nextCase, car2, n)\n",
    "    else:\n",
    "        print(2)\n",
    "        pathPrint(dp, case1, case2, car1, nextCase, n)\n",
    "\n",
    "\n",
    "n = int(input())\n",
    "m = int(input())\n",
    "\n",
    "dp = [[-1]*(m+2) for _ in range(m+2)]\n",
    "startLocCar1 = [(1,1)]\n",
    "startLocCar2 = [(n,n)]\n",
    "case = [tuple(map(int, input().split())) for _ in range(m)]\n",
    "case1 = startLocCar1 + case\n",
    "case2 = startLocCar2 + case\n",
    "\n",
    "print(findDP(dp, case1, case2, 0, 0, m))\n",
    "pathPrint(dp, case1, case2, 0, 0, m)"
   ]
  },
  {
   "cell_type": "code",
   "execution_count": null,
   "id": "d456c039-ae93-4337-a5ee-17ace00fb17d",
   "metadata": {},
   "outputs": [],
   "source": []
  }
 ],
 "metadata": {
  "kernelspec": {
   "display_name": "Python 3 (ipykernel)",
   "language": "python",
   "name": "python3"
  },
  "language_info": {
   "codemirror_mode": {
    "name": "ipython",
    "version": 3
   },
   "file_extension": ".py",
   "mimetype": "text/x-python",
   "name": "python",
   "nbconvert_exporter": "python",
   "pygments_lexer": "ipython3",
   "version": "3.9.13"
  }
 },
 "nbformat": 4,
 "nbformat_minor": 5
}
