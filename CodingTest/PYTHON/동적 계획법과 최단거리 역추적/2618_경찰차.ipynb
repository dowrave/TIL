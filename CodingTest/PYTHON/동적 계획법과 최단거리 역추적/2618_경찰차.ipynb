{
 "cells": [
  {
   "cell_type": "markdown",
   "id": "2034977b-a030-4780-a01d-c1483d4da94d",
   "metadata": {},
   "source": [
    "## [문제 링크](https://www.acmicpc.net/problem/2618)\n",
    "- 경찰차 2대가 최초에 (1,1)과 (N,N)에 있다\n",
    "- 어떤 위치를 주면 둘 중 가까운 차가 움직인다\n",
    "1. 최종적으로 이동한 최소 거리를 출력하고\n",
    "2. 각 사건에 대해 어떤 차(1 or 2)가 이동했는지 출력하시오\n",
    "--- \n",
    "- 거리를 구할 때 굳이 BFS를 이용할 필요는 없음\n",
    "- 대신, 나중에 봤을 때 앞에서 움직이지 않는 게 더 나은 경우가 존재할 수는 있겠다(예제가 너무 함정인데)"
   ]
  },
  {
   "cell_type": "markdown",
   "id": "a8274153-0db0-45e2-b1c5-6cd3e21a1af0",
   "metadata": {},
   "source": [
    "# 걍 답지를 한 번 보고 나중에 쫙 풀어보자\n",
    "- ㄹㅇ 3시간 넘게 했는데도 이해가 안된다"
   ]
  },
  {
   "cell_type": "code",
   "execution_count": null,
   "id": "7fb251b8-f40f-44bd-822a-e2a9007523cb",
   "metadata": {},
   "outputs": [],
   "source": [
    "import sys\n",
    "sys.setrecursionlimit(10**6)\n",
    "input = sys.stdin.readline\n",
    "\n",
    "def findDP(dp, case1, case2, car1, car2, n):\n",
    "    if dp[car1][car2] != -1:\n",
    "        return dp[car1][car2]\n",
    "    if car1 == n or car2 == n:\n",
    "        return 0\n",
    "    nextCase = max(car1, car2) + 1\n",
    "\n",
    "    car1Dis = abs(case1[car1][0] - case1[nextCase][0]) + abs(case1[car1][1] - case1[nextCase][1])\n",
    "    car2Dis = abs(case2[car2][0] - case2[nextCase][0]) + abs(case2[car2][1] - case2[nextCase][1])\n",
    "\n",
    "    result1 = car1Dis + findDP(dp, case1, case2, nextCase, car2, n)\n",
    "    result2 = car2Dis + findDP(dp, case1, case2, car1, nextCase, n)\n",
    "\n",
    "    dp[car1][car2] = min(result1, result2)\n",
    "    return dp[car1][car2]\n",
    "\n",
    "def pathPrint(dp, case1, case2, car1, car2, n):\n",
    "    if car1 == n or car2 == n:\n",
    "        return 0\n",
    "    nextCase = max(car1, car2) + 1\n",
    "\n",
    "    car1Dis = abs(case1[car1][0] - case1[nextCase][0]) + abs(case1[car1][1] - case1[nextCase][1])\n",
    "    car2Dis = abs(case2[car2][0] - case2[nextCase][0]) + abs(case2[car2][1] - case2[nextCase][1])\n",
    "\n",
    "    result1 = car1Dis + dp[nextCase][car2]\n",
    "    result2 = car2Dis + dp[car1][nextCase]\n",
    "\n",
    "    if result1 < result2:\n",
    "        print(1)\n",
    "        pathPrint(dp, case1, case2, nextCase, car2, n)\n",
    "    else:\n",
    "        print(2)\n",
    "        pathPrint(dp, case1, case2, car1, nextCase, n)\n",
    "\n",
    "if __name__ == \"__main__\":\n",
    "    n = int(input())\n",
    "    m = int(input())\n",
    "\n",
    "    dp = [[-1]*(m+2) for _ in range(m+2)]\n",
    "    startLocCar1 = [(1,1)]\n",
    "    startLocCar2 = [(n,n)]\n",
    "    case = [tuple(map(int, input().split())) for _ in range(m)]\n",
    "    case1 = startLocCar1 + case\n",
    "    case2 = startLocCar2 + case\n",
    "\n",
    "    print(findDP(dp, case1, case2, 0, 0, m))\n",
    "    pathPrint(dp, case1, case2, 0, 0, m)"
   ]
  }
 ],
 "metadata": {
  "kernelspec": {
   "display_name": "Python 3 (ipykernel)",
   "language": "python",
   "name": "python3"
  },
  "language_info": {
   "codemirror_mode": {
    "name": "ipython",
    "version": 3
   },
   "file_extension": ".py",
   "mimetype": "text/x-python",
   "name": "python",
   "nbconvert_exporter": "python",
   "pygments_lexer": "ipython3",
   "version": "3.9.13"
  }
 },
 "nbformat": 4,
 "nbformat_minor": 5
}
