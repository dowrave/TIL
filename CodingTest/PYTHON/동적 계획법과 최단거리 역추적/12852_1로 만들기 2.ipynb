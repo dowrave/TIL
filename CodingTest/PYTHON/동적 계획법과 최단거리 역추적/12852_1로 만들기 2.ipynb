{
 "cells": [
  {
   "cell_type": "markdown",
   "id": "218d2a87-f95b-4d96-82e4-f392a162b4f7",
   "metadata": {},
   "source": [
    "- [문제 링크](https://www.acmicpc.net/problem/12852)\n",
    "- 3으로 나누든가 2로 나누든가 1을 뺐을 때 \n",
    "- 최솟값 + **그 과정에 있는 수**를 차례대로 출력하시오"
   ]
  },
  {
   "cell_type": "code",
   "execution_count": 14,
   "id": "b8c7c37e-54bc-4df9-bfc2-8eeac5f46e8f",
   "metadata": {},
   "outputs": [
    {
     "name": "stdout",
     "output_type": "stream",
     "text": [
      "0\n",
      "1\n"
     ]
    }
   ],
   "source": [
    "import sys\n",
    "from collections import deque\n",
    "sys.stdin = open('test.txt', 'r')\n",
    "input = sys.stdin.readline\n",
    "N = int(input())\n",
    "\n",
    "# bfs를 구현하는데 1번째 인덱스로 중간 과정들을 저장하기만 하면 될 듯?\n",
    "INF = int(1e7)\n",
    "dp = [INF] * (N + 1)\n",
    "dq = deque([])\n",
    "\n",
    "dq.append([0, [N]])\n",
    "dp[N] = 0\n",
    "\n",
    "while dq:\n",
    "    step, track = dq.popleft()\n",
    "    now_value = track[-1]\n",
    "    \n",
    "    if now_value == 1:\n",
    "        print(step)\n",
    "        print(*track[:])\n",
    "        break\n",
    "    \n",
    "    if now_value % 3 == 0 and dp[now_value // 3] > step + 1:\n",
    "        temp = track.copy()\n",
    "        dp[now_value // 3] = step + 1\n",
    "        temp.append(now_value // 3)\n",
    "        dq.append([step + 1, temp])\n",
    "        \n",
    "    if now_value % 2 == 0 and dp[now_value // 2] > step + 1:\n",
    "        temp = track.copy()\n",
    "        dp[now_value // 2] = step + 1\n",
    "        temp.append(now_value // 2)\n",
    "        dq.append([step + 1, temp])\n",
    "    \n",
    "    if dp[now_value - 1] > step + 1:\n",
    "        dp[now_value - 1] = step + 1\n",
    "        track.append(now_value - 1)\n",
    "        dq.append([step + 1, track])"
   ]
  },
  {
   "cell_type": "markdown",
   "id": "de31ed73-9eba-4548-b6d1-f1394b8fc949",
   "metadata": {},
   "source": [
    "- **이미 방문한 적이 있는지 여부를 체크**해서 굳이 연산할 필요가 없는 구간은 스킵하는 게 포인트임 (여태까지 나온 내용이지만 이걸 안 넣으면 시간 초과 뜬다)\n",
    "- 뭐 안 찾아보고 혼자 풀었다 오"
   ]
  },
  {
   "cell_type": "code",
   "execution_count": null,
   "id": "409fd7bb-7f6b-41ad-b2b9-33920de38d0a",
   "metadata": {},
   "outputs": [],
   "source": []
  }
 ],
 "metadata": {
  "kernelspec": {
   "display_name": "Python 3 (ipykernel)",
   "language": "python",
   "name": "python3"
  },
  "language_info": {
   "codemirror_mode": {
    "name": "ipython",
    "version": 3
   },
   "file_extension": ".py",
   "mimetype": "text/x-python",
   "name": "python",
   "nbconvert_exporter": "python",
   "pygments_lexer": "ipython3",
   "version": "3.9.13"
  }
 },
 "nbformat": 4,
 "nbformat_minor": 5
}
