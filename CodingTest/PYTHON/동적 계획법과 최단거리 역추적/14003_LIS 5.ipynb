{
 "cells": [
  {
   "cell_type": "markdown",
   "id": "86859d0d-7529-42cc-bc5a-f0e24a092043",
   "metadata": {},
   "source": [
    "- [문제 링크](https://www.acmicpc.net/problem/14003)"
   ]
  },
  {
   "cell_type": "markdown",
   "id": "aaa084f7-d89f-4d4d-b195-d05ee1204836",
   "metadata": {},
   "source": [
    "- 14002번 문제는 $O(N^2)$으로 구현하지만 얘는 $O(NlogN))$ 으로 구현함"
   ]
  },
  {
   "cell_type": "code",
   "execution_count": 43,
   "id": "af82fa16-a76b-487d-9cc1-c95d143a9627",
   "metadata": {},
   "outputs": [
    {
     "name": "stdout",
     "output_type": "stream",
     "text": [
      "5\n",
      "10 20 30 50 60\n"
     ]
    }
   ],
   "source": [
    "import sys\n",
    "from bisect import bisect_left\n",
    "sys.stdin = open('test.txt', 'r')\n",
    "input = sys.stdin.readline\n",
    "\n",
    "N = int(input())\n",
    "arr = list(map(int, input().split()))\n",
    "\n",
    "LIS = [arr[0]]\n",
    "record = [0] * (N)\n",
    "record[0] = 1 \n",
    "\n",
    "for i in range(1, N):\n",
    "    if LIS[-1] < arr[i]:\n",
    "        LIS.append(arr[i])\n",
    "        record[i] = len(LIS) \n",
    "        \n",
    "    else:\n",
    "        idx = bisect_left(LIS, arr[i])\n",
    "        LIS[idx] = arr[i]\n",
    "        record[i] = idx + 1 # 길이는 0부터 시작이니까 인덱스 + 1로 들어가겠지...\n",
    "\n",
    "# record를 역순으로 탐색함\n",
    "now_point = len(LIS)\n",
    "ans = []\n",
    "\n",
    "for i in range(N - 1, -1, -1):\n",
    "\n",
    "    if record[i] == now_point:\n",
    "        now_point -= 1\n",
    "        ans.append(arr[i])\n",
    "        \n",
    "\n",
    "print(len(ans))\n",
    "print(*ans[::-1])"
   ]
  },
  {
   "cell_type": "markdown",
   "id": "74d3a0dd-e6a8-4d31-8eb4-e3141ee0345d",
   "metadata": {},
   "source": [
    "### 구현 방법\n",
    "- 이진탐색 LIS로 구현하는 건 앞에서와 동일함\n",
    "---\n",
    "- 백트래킹을 어떻게 구현하는지가 포인트인데\n",
    "1. 새로운 배열을 하나 만듦 - 각 인덱스는 **해당 인덱스까지 & 해당 인덱스의 크기까지의 LIS 값이 들어감**\n",
    "> 이게 뭔 소리냐면  \n",
    "> `10 20 30 20 50` 이 있다고 하면  \n",
    "> ` 1  2  3  2  4`가 된다는 의미임  \n",
    "> 인덱스 3의 20이 왜 2가 들어가냐면  \n",
    "> 이전까지의 LIS는 `10 20 30` 이 되는데   \n",
    "> 3번 인덱스에서 들어가는 LIS의 인덱스는 `1`임 (`20을 대체하므로`)\n",
    "\n",
    "2. LIS를 만들면서 1.에서 언급한 내용처럼 해당 인덱스까지의 최대 길이를 갱신함\n",
    "    1. 이번에 추가할 값이 LIS 맨 뒤의 값보다 크다면 넣고, 길이만큼 기록한다.\n",
    "    2. LIS보다 작다면 이진 탐색을 통해 LIS를 갱신하고, LIS의 길이만큼 기록한다.\n",
    "3. 마지막으로 1.에서 만든 배열을 역으로 탐색한다 : LIS의 길이부터 시작해서 최종적으로 \"1\"에서의 실행까지 돌아가면 됨"
   ]
  },
  {
   "cell_type": "code",
   "execution_count": 3,
   "id": "751200d8-3bac-4e2b-9e60-6daa2b0f6210",
   "metadata": {},
   "outputs": [
    {
     "name": "stdout",
     "output_type": "stream",
     "text": [
      "5\n",
      "10 20 30 50 60\n"
     ]
    }
   ],
   "source": [
    "import sys\n",
    "from bisect import bisect_left\n",
    "sys.stdin = open('test.txt', 'r')\n",
    "input = sys.stdin.readline\n",
    "N = int(input())\n",
    "arr = list(map(int, input().split()))\n",
    "\n",
    "# 1. 이진탐색을 구현한다 + 각 인덱스를 넣을 때, 그 인덱스가 들어가는 위치까지의 길이를 저장하는 배열을 별도로 만든다\n",
    "LIS = [arr[0]]\n",
    "record = [0] * N\n",
    "record[0] = 1\n",
    "\n",
    "for i in range(1, N):\n",
    "    if LIS[-1] < arr[i]:\n",
    "        LIS.append(arr[i])\n",
    "        record[i] = len(LIS)\n",
    "        \n",
    "    else:\n",
    "        idx = bisect_left(LIS, arr[i])\n",
    "        LIS[idx] = arr[i]\n",
    "        record[i] = idx + 1 # LIS는 0부터 시작하므로, 그 인덱스 값 + 1이 arr[i]이 들어간 자리까지의 길이가 된다\n",
    "        \n",
    "# 2. record값과 len(LIS)값을 이용하면 역추적을 할 수 있다\n",
    "LIS_now_length = len(LIS)\n",
    "ans = []\n",
    "\n",
    "# record을 역으로 추적하면 됨\n",
    "for i in range(N - 1, -1, -1):\n",
    "    if record[i] == LIS_now_length:\n",
    "        ans.append(arr[i])\n",
    "        LIS_now_length -= 1\n",
    "        \n",
    "print(len(ans)) \n",
    "print(*ans[::-1])"
   ]
  },
  {
   "cell_type": "code",
   "execution_count": null,
   "id": "dbd5bef8-384b-42f5-9ece-50cc4973849a",
   "metadata": {},
   "outputs": [],
   "source": []
  }
 ],
 "metadata": {
  "kernelspec": {
   "display_name": "Python 3 (ipykernel)",
   "language": "python",
   "name": "python3"
  },
  "language_info": {
   "codemirror_mode": {
    "name": "ipython",
    "version": 3
   },
   "file_extension": ".py",
   "mimetype": "text/x-python",
   "name": "python",
   "nbconvert_exporter": "python",
   "pygments_lexer": "ipython3",
   "version": "3.9.13"
  }
 },
 "nbformat": 4,
 "nbformat_minor": 5
}
