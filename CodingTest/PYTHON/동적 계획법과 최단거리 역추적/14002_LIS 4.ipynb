{
 "cells": [
  {
   "cell_type": "markdown",
   "id": "04407b52-6804-45d7-bb16-e5a1b0a2e9ef",
   "metadata": {},
   "source": [
    "- [문제 링크](https://www.acmicpc.net/problem/14002)"
   ]
  },
  {
   "cell_type": "code",
   "execution_count": 36,
   "id": "0582f48f-a225-4093-9de6-269b840590e8",
   "metadata": {
    "tags": []
   },
   "outputs": [
    {
     "name": "stdout",
     "output_type": "stream",
     "text": [
      "3\n",
      "10 20 30\n"
     ]
    }
   ],
   "source": [
    "import sys\n",
    "sys.stdin = open('test.txt', 'r')\n",
    "input = sys.stdin.readline\n",
    "\n",
    "N = int(input())\n",
    "\n",
    "arr = list(map(int, input().split()))\n",
    "\n",
    "INF = int(1e9)\n",
    "dp = [1] * (N)\n",
    "path = [INF] * (N) \n",
    "\n",
    "# 1. O(n^2) 풀이법 \n",
    "for i in range(N): # 현재 인덱스 \n",
    "    for j in range(i): # 이전까지의 인덱스\n",
    "        if arr[i] > arr[j] and dp[j] + 1 > dp[i]:\n",
    "            dp[i] = dp[j] + 1\n",
    "            path[i] = j # 갱신될 때, \"자식 노드\"에 \"부모 노드의 위치를 저장\"한다\n",
    "\n",
    "# 최대 길이를 갖는 인덱스에서 출발하면 되잖음?\n",
    "x = dp.index(max(dp))\n",
    "ans = []\n",
    "\n",
    "while True:\n",
    "    ans.append(arr[x])\n",
    "    if path[x] == INF:\n",
    "        break\n",
    "    x = path[x]\n",
    "\n",
    "print(len(ans))\n",
    "print(*ans[::-1])"
   ]
  },
  {
   "cell_type": "code",
   "execution_count": 48,
   "id": "0032bae4-09f3-41a8-912d-bd985c8a94b9",
   "metadata": {},
   "outputs": [
    {
     "name": "stdout",
     "output_type": "stream",
     "text": [
      "[10, 20, 10, 30, 50, 60]\n",
      "[1, 2, 1, 3, 4, 5]\n",
      "5\n",
      "10 20 30 50 60\n"
     ]
    }
   ],
   "source": [
    "import sys\n",
    "sys.stdin = open('test.txt', 'r')\n",
    "input = sys.stdin.readline\n",
    "\n",
    "N = int(input())\n",
    "arr = list(map(int, input().split()))\n",
    "\n",
    "dp = [1] * N\n",
    "dp[0] = 1\n",
    "\n",
    "# 각 인덱스는 부모 노드(즉 LIS를 구성하는 바로 이전의 작은 값)를 가리킴\n",
    "path = [-1] * N\n",
    "\n",
    "for i in range(N):\n",
    "\tfor j in range(i):\n",
    "\t\tif arr[j] < arr[i]:\n",
    "\t\t\tdp[i] = max(dp[j] + 1, dp[i])\n",
    "\t\t\tpath[i] = j # i는 j 뒤에 붙는다는 얘기가 되므로\n",
    "\n",
    "print(arr)\n",
    "print(dp)\n",
    "\n",
    "# 역추적\n",
    "now_length = max(dp)\n",
    "print(now_length) # 최대 길이\n",
    "ans = []\n",
    "\n",
    "\n",
    "for i in range(N-1, -1, -1):\n",
    "\tif dp[i] == now_length:\n",
    "\t\tans.append(arr[i])\n",
    "\t\tnow_length -= 1\n",
    "        \n",
    "print(*ans[::-1])"
   ]
  },
  {
   "cell_type": "code",
   "execution_count": null,
   "id": "1cc9ccc5-4712-4785-ac8f-448b333eed86",
   "metadata": {},
   "outputs": [],
   "source": []
  }
 ],
 "metadata": {
  "kernelspec": {
   "display_name": "Python 3 (ipykernel)",
   "language": "python",
   "name": "python3"
  },
  "language_info": {
   "codemirror_mode": {
    "name": "ipython",
    "version": 3
   },
   "file_extension": ".py",
   "mimetype": "text/x-python",
   "name": "python",
   "nbconvert_exporter": "python",
   "pygments_lexer": "ipython3",
   "version": "3.9.13"
  }
 },
 "nbformat": 4,
 "nbformat_minor": 5
}
