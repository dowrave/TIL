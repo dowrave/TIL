{
 "cells": [
  {
   "cell_type": "code",
   "execution_count": 4,
   "id": "fecec540-f3b9-40de-8751-db856ddf9951",
   "metadata": {},
   "outputs": [
    {
     "name": "stdout",
     "output_type": "stream",
     "text": [
      "4\n"
     ]
    }
   ],
   "source": [
    "import sys\n",
    "from collections import deque\n",
    "\n",
    "sys.stdin = open('test.txt')\n",
    "input = sys.stdin.readline\n",
    "N = int(input())\n",
    "\n",
    "dq = deque([i for i in range(1, N+1)])\n",
    "\n",
    "while len(dq) > 1:\n",
    "    dq.popleft()\n",
    "    dq.append(dq.popleft())\n",
    "    \n",
    "print(dq[0])"
   ]
  },
  {
   "cell_type": "markdown",
   "id": "a95f6528-a93b-4a60-99c5-3cf9f80723c8",
   "metadata": {},
   "source": [
    "1. 제일 위의 카드를 바닥에 버린다\n",
    "2. 그 다음 위에 있는 카드를 제일 밑으로 옮긴다"
   ]
  },
  {
   "cell_type": "code",
   "execution_count": null,
   "id": "e79c5d89-914d-4166-80f4-5e9b716d29bf",
   "metadata": {},
   "outputs": [],
   "source": []
  }
 ],
 "metadata": {
  "kernelspec": {
   "display_name": "Python 3 (ipykernel)",
   "language": "python",
   "name": "python3"
  },
  "language_info": {
   "codemirror_mode": {
    "name": "ipython",
    "version": 3
   },
   "file_extension": ".py",
   "mimetype": "text/x-python",
   "name": "python",
   "nbconvert_exporter": "python",
   "pygments_lexer": "ipython3",
   "version": "3.9.13"
  }
 },
 "nbformat": 4,
 "nbformat_minor": 5
}
