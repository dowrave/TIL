{
 "cells": [
  {
   "cell_type": "code",
   "execution_count": 18,
   "id": "303d1369-dffa-4026-8d1e-646d47b62278",
   "metadata": {},
   "outputs": [
    {
     "name": "stdout",
     "output_type": "stream",
     "text": [
      "<3, 6, 2, 7, 5, 1, 4>\n"
     ]
    }
   ],
   "source": [
    "import sys\n",
    "from collections import deque\n",
    "\n",
    "sys.stdin = open('test.txt')\n",
    "input = sys.stdin.readline\n",
    "N, K = map(int, input().split())\n",
    "dq = deque([i for i in range(1, N+1)])\n",
    "ans = []\n",
    "while len(dq) > 0:\n",
    "    for _ in range(K-1):\n",
    "        dq.append(dq.popleft())\n",
    "    ans.append(dq.popleft())\n",
    "\n",
    "# 아니 ㅅㅂ 출력이 문제네\n",
    "print('<', end='')\n",
    "for i in range(len(ans)):\n",
    "    if i == len(ans) - 1:\n",
    "        print(ans[i], end='')\n",
    "    else:\n",
    "        print(ans[i], end=', ')\n",
    "print('>')"
   ]
  },
  {
   "cell_type": "markdown",
   "id": "af681e99-d38a-4058-88cc-2ec4f70cf4c9",
   "metadata": {},
   "source": [
    "- K번째 사람이 제거된다\n",
    "    - 그러면 K-1번째 사람까지는 값만 뒤로 옮긴다\n",
    "    - K번째 사람은 제거한다\n",
    "- 를 계속 반복하면 되는 거 아님?"
   ]
  },
  {
   "cell_type": "code",
   "execution_count": null,
   "id": "8b2d7c16-b49f-42de-be08-a75107b1f59a",
   "metadata": {},
   "outputs": [],
   "source": []
  }
 ],
 "metadata": {
  "kernelspec": {
   "display_name": "Python 3 (ipykernel)",
   "language": "python",
   "name": "python3"
  },
  "language_info": {
   "codemirror_mode": {
    "name": "ipython",
    "version": 3
   },
   "file_extension": ".py",
   "mimetype": "text/x-python",
   "name": "python",
   "nbconvert_exporter": "python",
   "pygments_lexer": "ipython3",
   "version": "3.9.13"
  }
 },
 "nbformat": 4,
 "nbformat_minor": 5
}
