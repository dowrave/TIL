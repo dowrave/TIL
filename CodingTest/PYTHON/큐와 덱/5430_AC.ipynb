{
 "cells": [
  {
   "cell_type": "code",
   "execution_count": 49,
   "id": "ff48c6b2-039d-470a-a2df-3d80155334fa",
   "metadata": {},
   "outputs": [
    {
     "name": "stdout",
     "output_type": "stream",
     "text": [
      "[2,1]\n",
      "error\n",
      "[1,2,3,5,8]\n",
      "error\n"
     ]
    }
   ],
   "source": [
    "import sys\n",
    "from collections import deque\n",
    "sys.stdin = open('test.txt', 'r')\n",
    "input = sys.stdin.readline\n",
    "t = int(input())\n",
    "\n",
    "for i in range(t):\n",
    "    p = sys.stdin.readline().rstrip()\n",
    "    n = int(input())\n",
    "    arr = sys.stdin.readline().rstrip()[1:-1].split(\",\")\n",
    "    queue = deque(arr)\n",
    "\n",
    "    rev = 0\n",
    "    flag = 0\n",
    "    \n",
    "    if n == 0:\n",
    "        queue = []\n",
    "\n",
    "\n",
    "    for j in p:\n",
    "        if j == 'R':\n",
    "            rev += 1\n",
    "        elif j == 'D':\n",
    "            if len(queue) < 1:\n",
    "                flag = 1\n",
    "                print(\"error\")\n",
    "                break\n",
    "            else:\n",
    "                if rev % 2 == 0:                    \n",
    "                    queue.popleft()\n",
    "                else:\n",
    "                    queue.pop()\n",
    "    if flag == 0:\n",
    "        if rev % 2 == 0:\n",
    "            print(\"[\" + \",\".join(queue) + \"]\")\n",
    "        else:\n",
    "            queue.reverse()\n",
    "            print(\"[\" + \",\".join(queue) + \"]\")\n",
    "                    "
   ]
  },
  {
   "cell_type": "markdown",
   "id": "c23a4b0e-c42a-4df0-895e-5b6dd86508d6",
   "metadata": {},
   "source": [
    "- 아니 내가 구현한거랑 예전에 한 거랑 뭔 차이인지 모르겠는데\n",
    "- 내가 구현한 건 시간초과가 뜨고 정답은 왜 잘 통과되지\n"
   ]
  },
  {
   "cell_type": "code",
   "execution_count": null,
   "id": "80c7cccc-fca1-46f9-86c5-4137a430d43a",
   "metadata": {},
   "outputs": [],
   "source": []
  }
 ],
 "metadata": {
  "kernelspec": {
   "display_name": "Python 3 (ipykernel)",
   "language": "python",
   "name": "python3"
  },
  "language_info": {
   "codemirror_mode": {
    "name": "ipython",
    "version": 3
   },
   "file_extension": ".py",
   "mimetype": "text/x-python",
   "name": "python",
   "nbconvert_exporter": "python",
   "pygments_lexer": "ipython3",
   "version": "3.9.13"
  }
 },
 "nbformat": 4,
 "nbformat_minor": 5
}
