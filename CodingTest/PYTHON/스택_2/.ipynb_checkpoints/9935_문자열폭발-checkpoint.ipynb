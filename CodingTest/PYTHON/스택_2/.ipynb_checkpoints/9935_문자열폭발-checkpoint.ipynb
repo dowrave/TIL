{
 "cells": [
  {
   "cell_type": "code",
   "execution_count": 57,
   "id": "b698e4d1-acb3-4fef-a8ca-86b8de807828",
   "metadata": {},
   "outputs": [
    {
     "name": "stdout",
     "output_type": "stream",
     "text": [
      "FRULA\n"
     ]
    }
   ],
   "source": [
    "import sys\n",
    "sys.stdin = open('test.txt', 'r')\n",
    "input = sys.stdin.readline\n",
    "\n",
    "target = input().strip()\n",
    "bomb = input().strip()\n",
    "stack = []\n",
    "\n",
    "# 훨씬 간편하게 구현하기\n",
    "for i in range(len(target)):\n",
    "    \n",
    "    stack.append(target[i])\n",
    "\n",
    "    if \"\".join(stack[-len(bomb):]) == bomb:\n",
    "        for _ in range(len(bomb)):\n",
    "            stack.pop()\n",
    "    \n",
    "    \n",
    "if stack == []:\n",
    "    print(\"FRULA\")\n",
    "else:\n",
    "    for i in stack:\n",
    "        print(i[0], end=\"\")"
   ]
  },
  {
   "cell_type": "markdown",
   "id": "e869fc1e-8e58-4c73-b449-b82c732f4978",
   "metadata": {},
   "source": [
    "## 문제 \n",
    "\n",
    "조건 1. 폭발 문자열을 포함하고 있다면 모든 폭발 문자열이 폭발한다. 남은 폭발 문자열을 이어붙여 새로운 문자열을 만든다.  \n",
    "조건 2. 새로 생긴 문자열은 폭발 문자열을 포함하고 있을 수 있다.  \n",
    "조건 3. 폭발은 폭발 문자열이 문자열에 없을 때까지 계속된다. \n",
    "결과 조건 ) 남은 문자열을 출력하되, 남은 문자열이 없으면  \n",
    "`FRULA` 출력\n",
    "\n",
    "## 풀이\n",
    "1. 스택에 값을 넣는다\n",
    "2. 값을 넣을 때마다, 폭발 문자열의 길이를 이용한다. `iterable[-length:]`는 뒤에서부터 length 갯수의 글자를 보여준다. \n",
    "    - 즉, 스택에 값을 넣고, 뒤에서 폭발 문자열의 길이를 셌을 때 그게 폭발 문자열과 동일하다면 그 길이만큼 pop해준다\n",
    "    - 아니라면 그냥 반복함\n",
    "    \n",
    "- 조건을 너무 복잡하게 생각해버리는 것 같다"
   ]
  },
  {
   "cell_type": "code",
   "execution_count": 43,
   "id": "1df5246a-83e2-45e2-8b32-6e3145a0a785",
   "metadata": {},
   "outputs": [
    {
     "data": {
      "text/plain": [
       "'cde'"
      ]
     },
     "execution_count": 43,
     "metadata": {},
     "output_type": "execute_result"
    }
   ],
   "source": [
    "str = 'abcde'\n",
    "str[-3:]"
   ]
  },
  {
   "cell_type": "code",
   "execution_count": null,
   "id": "04e3eedd-47c6-442d-8d9d-170fb8e085c7",
   "metadata": {},
   "outputs": [],
   "source": []
  }
 ],
 "metadata": {
  "kernelspec": {
   "display_name": "Python 3 (ipykernel)",
   "language": "python",
   "name": "python3"
  },
  "language_info": {
   "codemirror_mode": {
    "name": "ipython",
    "version": 3
   },
   "file_extension": ".py",
   "mimetype": "text/x-python",
   "name": "python",
   "nbconvert_exporter": "python",
   "pygments_lexer": "ipython3",
   "version": "3.9.13"
  }
 },
 "nbformat": 4,
 "nbformat_minor": 5
}
