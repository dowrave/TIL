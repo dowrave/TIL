{
 "cells": [
  {
   "cell_type": "code",
   "execution_count": 20,
   "id": "bf07012d-67f6-4768-b21d-3a80ffb6f884",
   "metadata": {
    "tags": []
   },
   "outputs": [
    {
     "name": "stdout",
     "output_type": "stream",
     "text": [
      "*********\n",
      "* ** ** *\n",
      "*********\n",
      "***   ***\n",
      "* *   * *\n",
      "***   ***\n",
      "*********\n",
      "* ** ** *\n",
      "*********\n"
     ]
    }
   ],
   "source": [
    "import sys\n",
    "sys.stdin = open('test.txt', 'r')\n",
    "# n = int(sys.stdin.readline())\n",
    "n = 9\n",
    "def pattern(n):\n",
    "    \n",
    "    if n == 1:\n",
    "        return '*'\n",
    "    \n",
    "    stars = pattern(n // 3)\n",
    "    lst = []\n",
    "    \n",
    "    for s in stars:\n",
    "        lst.append(s * 3)\n",
    "    \n",
    "    for s in stars:\n",
    "        lst.append(s + ' ' * (n // 3) + s)\n",
    "    \n",
    "    for s in stars:\n",
    "        lst.append(s * 3)\n",
    "\n",
    "    return lst\n",
    "        \n",
    "lst = pattern(n)\n",
    "print('\\n'.join(lst))"
   ]
  },
  {
   "cell_type": "markdown",
   "id": "ed25ef24-1960-4dde-a36f-654cc30b9a2a",
   "metadata": {},
   "source": [
    "1. 단일 원소 구성하는 방법\n",
    "2. 보이는 건 2차원이지만 생각은 1차원 리스트들을 어떻게 나열할 지로 가야 함\n",
    "    - 여기가 좀 헷갈리는 지점이긴 하다\n"
   ]
  },
  {
   "cell_type": "code",
   "execution_count": null,
   "id": "e9c005f8-0fba-4b32-ae52-bba3af26e36f",
   "metadata": {},
   "outputs": [],
   "source": []
  }
 ],
 "metadata": {
  "kernelspec": {
   "display_name": "Python 3 (ipykernel)",
   "language": "python",
   "name": "python3"
  },
  "language_info": {
   "codemirror_mode": {
    "name": "ipython",
    "version": 3
   },
   "file_extension": ".py",
   "mimetype": "text/x-python",
   "name": "python",
   "nbconvert_exporter": "python",
   "pygments_lexer": "ipython3",
   "version": "3.9.13"
  }
 },
 "nbformat": 4,
 "nbformat_minor": 5
}
