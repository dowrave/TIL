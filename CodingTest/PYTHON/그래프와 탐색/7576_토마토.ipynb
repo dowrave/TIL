{
 "cells": [
  {
   "cell_type": "markdown",
   "id": "b002511f-0f4c-43bb-929e-c673bd2a0f0e",
   "metadata": {},
   "source": [
    "[문제 링크](https://www.acmicpc.net/problem/7576)"
   ]
  },
  {
   "cell_type": "code",
   "execution_count": 21,
   "id": "bbc659d4-de39-43c2-9eb8-e8b7936e964b",
   "metadata": {},
   "outputs": [
    {
     "name": "stdout",
     "output_type": "stream",
     "text": [
      "0\n"
     ]
    }
   ],
   "source": [
    "import sys\n",
    "from collections import deque\n",
    "sys.stdin = open('test.txt', 'r')\n",
    "input = sys.stdin.readline\n",
    "\n",
    "cols, rows = map(int, input().split())\n",
    "matrix = []\n",
    "for _ in range(rows):\n",
    "    matrix.append(list(map(int, input().split())))\n",
    "# 1 : 익은 토마토, 0 : 익지 않은 토마토, -1 : 토마토 없음\n",
    "# 지도에 있는 모든 토마토가 익을 때까지의 최소 시간을 구하시오\n",
    "# 단 처음부터 다 익어 있었다면 0\n",
    "# 모든 토마토가 익을 수 없다면 -1\n",
    "\n",
    "dq = deque([])\n",
    "moves = [(-1, 0), (1, 0), (0, 1), (0, -1)]\n",
    "def bfs():\n",
    "    \n",
    "    # dq 초기화\n",
    "    time = 0\n",
    "    for i in range(rows):\n",
    "        for j in range(cols):\n",
    "            if matrix[i][j] == 1:\n",
    "                dq.append((i, j, time))\n",
    "    \n",
    "    # 결과적으로 time이 마지막에 저장됨\n",
    "    while dq:       \n",
    "        row, col, time = dq.popleft()\n",
    "        for move in moves:\n",
    "            drow = row + move[0]\n",
    "            dcol = col + move[1]\n",
    "            if drow < 0 or drow >= rows:\n",
    "                continue\n",
    "            if dcol < 0 or dcol >= cols:\n",
    "                continue\n",
    "            if matrix[drow][dcol] == -1:\n",
    "                continue\n",
    "            \n",
    "            if matrix[drow][dcol] == 0:\n",
    "                dq.append((drow, dcol, time + 1))\n",
    "                matrix[drow][dcol] = 1\n",
    "     \n",
    "    for i in range(rows):\n",
    "        for j in range(cols):\n",
    "            if matrix[i][j] == 0:\n",
    "                return -1\n",
    "    \n",
    "    return time\n",
    "print(bfs())\n"
   ]
  },
  {
   "cell_type": "code",
   "execution_count": 6,
   "id": "2ec18065-71aa-4530-b7d9-4c0f8f186eee",
   "metadata": {},
   "outputs": [
    {
     "name": "stdout",
     "output_type": "stream",
     "text": [
      "[0, 0, 0, 0, 0, 0]\n",
      "[0, 0, 0, 0, 0, 0]\n",
      "[0, 0, 0, 0, 0, 0]\n",
      "[0, 0, 0, 0, 0, 1]\n",
      "[]\n",
      "[]\n"
     ]
    }
   ],
   "source": [
    "for i in matrix:\n",
    "    print(i)"
   ]
  },
  {
   "cell_type": "markdown",
   "id": "a5a5fe17-e84c-43e1-b7a0-1691e709b7be",
   "metadata": {},
   "source": [
    "1. (초기화) 주어진 행렬에서 1을 찾아야 함\n",
    "2. 찾아낸 1의 위치는 deque에 더해짐(초기 값이므로 시간은 0으로 둔다)\n",
    "3. 상하좌우에 0이 있다면 그 값을 1로 만들고 큐에 푸시함. -1이라면 재낌\n",
    "4. BFS를 마무리\n",
    "    -> 0이 남았다면 -1\n",
    "    -> 처음부터 모두 1이었다면 마지막으로 pop된 시간 값도 0일 거임"
   ]
  }
 ],
 "metadata": {
  "kernelspec": {
   "display_name": "Python 3 (ipykernel)",
   "language": "python",
   "name": "python3"
  },
  "language_info": {
   "codemirror_mode": {
    "name": "ipython",
    "version": 3
   },
   "file_extension": ".py",
   "mimetype": "text/x-python",
   "name": "python",
   "nbconvert_exporter": "python",
   "pygments_lexer": "ipython3",
   "version": "3.9.13"
  }
 },
 "nbformat": 4,
 "nbformat_minor": 5
}
