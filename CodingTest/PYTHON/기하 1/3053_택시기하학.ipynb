{
 "cells": [
  {
   "cell_type": "code",
   "execution_count": 16,
   "id": "a21ffa38-26f8-434c-8e2f-ca7a29b6638f",
   "metadata": {},
   "outputs": [
    {
     "name": "stdout",
     "output_type": "stream",
     "text": [
      "5541.769441\n",
      "3528.000000\n"
     ]
    }
   ],
   "source": [
    "import sys\n",
    "import math\n",
    "sys.stdin = open('test.txt', 'r')\n",
    "R = int(sys.stdin.readline())\n",
    "\n",
    "l2_circle = math.pi * R ** 2\n",
    "l1_circle = (2 * abs(R - 0) * 2 *abs(R - 0)) / 2\n",
    "print(\"{:.6f}\".format(round(l2_circle, 6)))\n",
    "print(\"{:.6f}\".format(round(l1_circle, 6)))"
   ]
  },
  {
   "cell_type": "code",
   "execution_count": null,
   "id": "25db1586-7d1d-485c-b618-5ce778cd5be8",
   "metadata": {},
   "outputs": [],
   "source": []
  }
 ],
 "metadata": {
  "kernelspec": {
   "display_name": "Python 3 (ipykernel)",
   "language": "python",
   "name": "python3"
  },
  "language_info": {
   "codemirror_mode": {
    "name": "ipython",
    "version": 3
   },
   "file_extension": ".py",
   "mimetype": "text/x-python",
   "name": "python",
   "nbconvert_exporter": "python",
   "pygments_lexer": "ipython3",
   "version": "3.9.13"
  }
 },
 "nbformat": 4,
 "nbformat_minor": 5
}
