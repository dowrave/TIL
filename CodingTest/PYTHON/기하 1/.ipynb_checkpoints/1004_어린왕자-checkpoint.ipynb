{
 "cells": [
  {
   "cell_type": "code",
   "execution_count": 4,
   "id": "3192eab6-a0d9-4b36-83ff-2e9bcdde201d",
   "metadata": {},
   "outputs": [
    {
     "name": "stdout",
     "output_type": "stream",
     "text": [
      "3\n",
      "0\n"
     ]
    }
   ],
   "source": [
    "import sys\n",
    "sys.stdin = open('test.txt', 'r')\n",
    "\n",
    "T = int(sys.stdin.readline())\n",
    "\n",
    "for _ in range(T):\n",
    "    cnt = 0\n",
    "    x1, y1, x2, y2 = map(int, sys.stdin.readline().split())\n",
    "    n = int(sys.stdin.readline())\n",
    "    for _ in range(n):\n",
    "        cx, cy, r = map(int, sys.stdin.readline().split())\n",
    "\n",
    "        d1 = ((cx-x1)**2 + (cy-y1)**2)**(1/2)\n",
    "        d2 = ((cx-x2)**2 + (cy-y2)**2)**(1/2)\n",
    "                                         \n",
    "        if d1 < r and d2 > r : # 경계에 걸친 경우는 출발, 도착점에서 제외함\n",
    "            cnt += 1\n",
    "    \n",
    "        elif d1 > r and d2 < r:\n",
    "            cnt += 1\n",
    "\n",
    "    print(cnt)\n",
    "\n",
    "# 두 점이 각 원에 대해 하나는 원 내부에, 다른 하나는 원 밖에 있으면 경계를 지나가야 함\n",
    "        "
   ]
  },
  {
   "cell_type": "code",
   "execution_count": null,
   "id": "1431ca20-0264-465d-b2c6-1f29e480c31a",
   "metadata": {},
   "outputs": [],
   "source": []
  }
 ],
 "metadata": {
  "kernelspec": {
   "display_name": "Python 3 (ipykernel)",
   "language": "python",
   "name": "python3"
  },
  "language_info": {
   "codemirror_mode": {
    "name": "ipython",
    "version": 3
   },
   "file_extension": ".py",
   "mimetype": "text/x-python",
   "name": "python",
   "nbconvert_exporter": "python",
   "pygments_lexer": "ipython3",
   "version": "3.9.13"
  }
 },
 "nbformat": 4,
 "nbformat_minor": 5
}
