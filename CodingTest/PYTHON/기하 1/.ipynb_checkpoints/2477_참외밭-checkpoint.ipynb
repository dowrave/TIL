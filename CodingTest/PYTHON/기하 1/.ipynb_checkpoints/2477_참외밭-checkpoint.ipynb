{
 "cells": [
  {
   "cell_type": "code",
   "execution_count": 36,
   "id": "25378f4b-a33c-4cc4-aff0-4cc6acb9d6f2",
   "metadata": {},
   "outputs": [
    {
     "name": "stdout",
     "output_type": "stream",
     "text": [
      "47600\n"
     ]
    }
   ],
   "source": [
    "import sys\n",
    "sys.stdin = open('test.txt', 'r')\n",
    "K = int(sys.stdin.readline())\n",
    "lst = []\n",
    "\n",
    "for _ in range(6):\n",
    "    lst.append(list(map(int, sys.stdin.readline().split())))\n",
    "\n",
    "\"\"\"\n",
    "작은 사각형 4개를 생각해보자\n",
    "작은 사각형 4개를 구성하는 선분은 4개이며\n",
    "이들은 연속해서 나타남\n",
    "-> 인풋이 연속하다는 보장이 없으니 모듈로 연산으로 이어줌\n",
    "이 때 큰 사각형을 구성하는 선분 2개와 이웃하지 않은 두 선분이\n",
    "도형의 넓이에 들어가지 않는 두개의 선분이 됨\n",
    "\n",
    "작은 사각형 4개를 만드는 시작점을 찾는 조건이 if절임\n",
    "- (132424가 있다고 하면 2424의 앞쪽 2를 찾는 조건문)\n",
    "이 때 사각형의 넓이는 인덱스 기준 0*1 + 2*3 + 0*3이 된다.\n",
    "- 1*2는 상기한 이유로 제외됨.\n",
    "\"\"\"\n",
    "for i in range(6):\n",
    "    if lst[(i + 2) % 6][0] == lst[i % 6][0] and lst[(i+3) % 6][0] == lst[(i+1) % 6][0]:\n",
    "        area = (\n",
    "                lst[i % 6][1] * lst[(i+1) % 6][1]\n",
    "            + lst[i % 6][1] * lst[(i+3) % 6][1]\n",
    "            + lst[(i+2) % 6][1] * lst[(i+3) % 6][1]\n",
    "               )\n",
    "        \n",
    "print(area * K)"
   ]
  },
  {
   "cell_type": "code",
   "execution_count": 16,
   "id": "a7bd619c-1e9b-4b61-a401-b565d64ec96f",
   "metadata": {},
   "outputs": [
    {
     "ename": "NameError",
     "evalue": "name 'sort' is not defined",
     "output_type": "error",
     "traceback": [
      "\u001b[1;31m---------------------------------------------------------------------------\u001b[0m",
      "\u001b[1;31mNameError\u001b[0m                                 Traceback (most recent call last)",
      "\u001b[1;32m~\\AppData\\Local\\Temp/ipykernel_16148/1546817744.py\u001b[0m in \u001b[0;36m<module>\u001b[1;34m\u001b[0m\n\u001b[1;32m----> 1\u001b[1;33m \u001b[0msort\u001b[0m\u001b[1;33m(\u001b[0m\u001b[0mlst\u001b[0m\u001b[1;33m)\u001b[0m\u001b[1;33m\u001b[0m\u001b[1;33m\u001b[0m\u001b[0m\n\u001b[0m",
      "\u001b[1;31mNameError\u001b[0m: name 'sort' is not defined"
     ]
    }
   ],
   "source": []
  },
  {
   "cell_type": "code",
   "execution_count": null,
   "id": "f0bc302d-cdc9-40eb-9b19-dc53b578b8b2",
   "metadata": {},
   "outputs": [],
   "source": []
  }
 ],
 "metadata": {
  "kernelspec": {
   "display_name": "Python 3 (ipykernel)",
   "language": "python",
   "name": "python3"
  },
  "language_info": {
   "codemirror_mode": {
    "name": "ipython",
    "version": 3
   },
   "file_extension": ".py",
   "mimetype": "text/x-python",
   "name": "python",
   "nbconvert_exporter": "python",
   "pygments_lexer": "ipython3",
   "version": "3.9.13"
  }
 },
 "nbformat": 4,
 "nbformat_minor": 5
}
