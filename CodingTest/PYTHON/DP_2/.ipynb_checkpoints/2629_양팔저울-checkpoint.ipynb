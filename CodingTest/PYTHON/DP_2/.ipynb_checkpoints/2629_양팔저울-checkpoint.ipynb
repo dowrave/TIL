{
 "cells": [
  {
   "cell_type": "code",
   "execution_count": 33,
   "id": "90767605-7e73-428c-9822-39c142208c7a",
   "metadata": {},
   "outputs": [
    {
     "name": "stdout",
     "output_type": "stream",
     "text": [
      "Y Y N "
     ]
    }
   ],
   "source": [
    "import sys\n",
    "sys.stdin = open('test.txt' ,'r')\n",
    "input = sys.stdin.readline\n",
    "\n",
    "N = int(input())\n",
    "grams = [0] + list(map(int, input().split()))\n",
    "\n",
    "# 추의 무게 경우의 수\n",
    "matrix = [[0] * (sum(grams) + 1) for _ in range(N + 1)]\n",
    "\n",
    "# i는 grams 리스트에서 i번째 추까지를 이용한다고 생각해보자 \n",
    "# 각 row는 i번째 추까지를 이용해 구성할 수 있는 무게들이다\n",
    "for i in range(1, N + 1):\n",
    "    matrix[i][grams[i]] = 1 \n",
    "    \n",
    "    for j in range(1, sum(grams) + 1):\n",
    "        \n",
    "        if matrix[i-1][j]:\n",
    "            matrix[i][j] = 1\n",
    "            \n",
    "        # [i-1][j-grams[i]] or [i-1][j+grams[i]]가 있다면, [i][j]도 있을 것이다\n",
    "        # 근데 j-grams[i] 값과 j+grams[i]가 범위 내에 있어야 한다\n",
    "        # ** 문제는, j-grams[i]일 수도 있지만 grams[i] - j 일 수도 있다는 것이다\n",
    "        # 따라서 절댓값을 주는 곳은 차에 대한 것이다 : abs(j-grams[i]) 값이 있으면 됨\n",
    "        # 이런 경우 범위도 주지 않아도 된다\n",
    "        \n",
    "        # 헷갈리면 조건을 늘여 쓰자\n",
    "        \n",
    "        if matrix[i-1][abs(j-grams[i])]: \n",
    "            matrix[i][j] = 1\n",
    "\n",
    "        if j + grams[i] <= sum(grams) and matrix[i-1][j+grams[i]]:\n",
    "            matrix[i][j] = 1   \n",
    "\n",
    "M = int(input())\n",
    "beads = list(map(int, input().split()))\n",
    "\n",
    "for bead in beads:\n",
    "    # 인덱스 에러 때문에 이렇게 구성함\n",
    "    # 저번엔 matrix[-1][bead]일 때 T를 반환한다고 했으나\n",
    "    # bead 값이 인덱스를 벗어나느 경우는 에러가 나기 때문임\n",
    "    if bead > sum(grams) or not matrix[N][bead]:\n",
    "        print(\"N\", end = \" \")\n",
    "    else:\n",
    "        print(\"Y\", end = \" \")"
   ]
  },
  {
   "cell_type": "markdown",
   "id": "28052c69-7a9e-4507-8069-b0c699f40f08",
   "metadata": {},
   "source": [
    "- 각 구슬에 대해 구슬의 무게를 알 수 있으면 Y, 아니면 N을 반환해야 함\n",
    "- 추는 구슬의 무게에 더해질 수도, 빼질 수도 있으며\n",
    "- \"무게를 안다\"라는 조건은 `구슬 (+- 추1) = 추2`라는 구조를 만족하면 됨\n",
    "- 그러면 추들이 주어졌을 때, 그 추들로 만들 수 있는 무게의 경우의 수를 생각할 수 있음\n",
    "    - 이 리스트를 어떻게 만들까가 고민이겠다"
   ]
  },
  {
   "cell_type": "markdown",
   "id": "580c4536-1f9f-4e77-8d3c-fc1204880631",
   "metadata": {},
   "source": [
    "- 일단 바로 생각나는 건 추의 무게의 총합을 길이로 갖는 1차원 리스트를 만들고 그 안에 가능한 경우들을 1, 나머지는 0으로 채워넣는 거임\n",
    "    - 이렇게 구성하면 계산량이 커질 것 같다. nC1 + nC2 + ... nCn인데다가 또 각 케이스에서 더해지고 빼지고 하는 경우도 다 세야 함\n",
    "- 따라서 2차원 리스트로 간다고 생각해보자\n",
    "    - 각 행을 추의 개수, 각 열을 무게라고 생각해보자(열의 최댓값은 추의 무게의 최댓값)\n",
    "    - 그러면 2번째 행의 경우의 수는 1번째 행에서 어떤 값을 더하거나 빼거나 하는 식으로 구성될 거임"
   ]
  },
  {
   "cell_type": "markdown",
   "id": "d8573b34-24b1-49e3-8f04-643adb5871ac",
   "metadata": {},
   "source": [
    "- 어떤 자리에 어떤 값이 들어가기 위한 조건을 생각해보자\n",
    "    1. (추의 개수 - 1)에 어떤 무게 값이 있으면, 지금 추의 개수에도 그 어떤 값은 들어갈 수 있음\n",
    "    2. (추의 개수)(현재 무게)는 (추의 개수 - 1)(현재 무게 - 지금 더해지는 무게) 에 값이 있어야 함. 빼지는 경우도 마찬가지.\n",
    "        - 단 (현재 무게 - 지금 더해지는 무게 or 빼지는 무게) 값이 무게 범위 내에 있으면 됨\n",
    " "
   ]
  },
  {
   "cell_type": "markdown",
   "id": "625319d5-63ed-4c93-97ba-195d879b30cc",
   "metadata": {},
   "source": [
    "## 이전 풀이 참고\n",
    "- 막힌 부분 : 각 row를 \"추의 갯수\"로 구현하려 했는데, 그렇게 하려면 추 리스트에 대한 반복문을 하나 더 만들어야 했음"
   ]
  },
  {
   "cell_type": "markdown",
   "id": "2f0a8965-37c9-4a3c-a313-85687611e074",
   "metadata": {},
   "source": [
    "- dp를 구성할 때 각 row와 col이 어떤가를 정의하는 과정이 있다\n",
    "- 나는 각 row가 추 1개, 추 2개, 라는 식으로 생각을 했는데, 이렇게 하면 추에 대한 반복문을 하나 더 만들어아 함$O(n^3)$\n",
    "- 이렇게 구현하는 것보다, 그냥 **추 리스트에서 몇 번째 추까지 사용가능한가**로 접근하는 방법이 있다\n",
    "    - 어차피 조회하는 지점을 마지막 행이라고 할 수 있으니까(위에서부터 계승하니까)\n"
   ]
  },
  {
   "cell_type": "markdown",
   "id": "0a887e44-a0a3-4748-a286-6273b3d2e4c9",
   "metadata": {},
   "source": []
  }
 ],
 "metadata": {
  "kernelspec": {
   "display_name": "Python 3 (ipykernel)",
   "language": "python",
   "name": "python3"
  },
  "language_info": {
   "codemirror_mode": {
    "name": "ipython",
    "version": 3
   },
   "file_extension": ".py",
   "mimetype": "text/x-python",
   "name": "python",
   "nbconvert_exporter": "python",
   "pygments_lexer": "ipython3",
   "version": "3.9.13"
  }
 },
 "nbformat": 4,
 "nbformat_minor": 5
}
