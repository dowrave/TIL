{
 "cells": [
  {
   "cell_type": "code",
   "execution_count": 11,
   "id": "af65882f-960c-496c-9f1b-10419f92cb03",
   "metadata": {},
   "outputs": [
    {
     "name": "stdout",
     "output_type": "stream",
     "text": [
      "300\n",
      "864\n"
     ]
    }
   ],
   "source": [
    "# pypy3으로 제출해야 시간 초과가 안 뜨는 듯\n",
    "import sys\n",
    "sys.stdin = open('test.txt', 'r')\n",
    "input = sys.stdin.readline\n",
    "\n",
    "T = int(input())\n",
    "for _ in range(T):\n",
    "    K = int(input())\n",
    "    lst = [0] + list(map(int, input().split()))\n",
    "    acc_lst = [0] * (K + 1)\n",
    "    \n",
    "    for i in range(K + 1):\n",
    "        acc_lst[i] = acc_lst[i-1] + lst[i]\n",
    "    dp = [[0] * (K + 1) for _ in range(K+1)]\n",
    "    \n",
    "    for length in range(2, K+1): # 길이는 2부터 K까지 (1은 dp에 포함 X)\n",
    "        for start in range(1, K - length + 2): # 시작인덱스 값은 1부터 K - 길이 + 1 까지\n",
    "            \n",
    "            # 길이 length는 2개의 부분합으로 구성된다 : start ~ start + divide - 1까지, start + divide ~ start + length - 1 까지\n",
    "            # 최솟값을 찾는 부분 : 어떤 경로로 가야 최솟값일까? - 이게 그냥 누적합과 다른 점이다\n",
    "            # 아래의 누적합을 이용하는 부분 : 어떤 경로로 가든 모두 더한 값은 동일함\n",
    "            dp[start][start + length - 1] = (min([dp[start][start + divide - 1] + dp[start + divide][start + length - 1] for divide in range(1, length)])\n",
    "                                            + acc_lst[start + length - 1] \n",
    "                                            - acc_lst[start - 1]\n",
    "                                            )\n",
    "    print(dp[1][K])\n",
    "            "
   ]
  },
  {
   "cell_type": "markdown",
   "id": "fa54137d-2da3-44dc-8511-e02a1e3bc033",
   "metadata": {},
   "source": [
    "- 연속된 것들끼리 합칠 수 있다\n",
    "- 합치는 방법은 여러가지이며, 이 방법에 따라 합치는데 드는 비용이 달라진다\n",
    "- 이 때 합치는데 필요한 최소 비용을 구하시오"
   ]
  },
  {
   "cell_type": "markdown",
   "id": "a792a847-08e8-4855-8219-4d7b1afbe174",
   "metadata": {},
   "source": [
    "![이미지](11066.jpg)"
   ]
  },
  {
   "cell_type": "code",
   "execution_count": null,
   "id": "05830970-da91-4146-b546-2aa405c786f7",
   "metadata": {},
   "outputs": [],
   "source": []
  }
 ],
 "metadata": {
  "kernelspec": {
   "display_name": "Python 3 (ipykernel)",
   "language": "python",
   "name": "python3"
  },
  "language_info": {
   "codemirror_mode": {
    "name": "ipython",
    "version": 3
   },
   "file_extension": ".py",
   "mimetype": "text/x-python",
   "name": "python",
   "nbconvert_exporter": "python",
   "pygments_lexer": "ipython3",
   "version": "3.9.13"
  }
 },
 "nbformat": 4,
 "nbformat_minor": 5
}
