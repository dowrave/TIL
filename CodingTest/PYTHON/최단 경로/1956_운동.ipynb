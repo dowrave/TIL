{
 "cells": [
  {
   "cell_type": "markdown",
   "id": "ec3c4583-114a-43ba-b31d-a302ba666f00",
   "metadata": {},
   "source": [
    "- [문제 링크](https://www.acmicpc.net/problem/1956)\n",
    "- `python3` 으로 제출하면 시간 초과함 -> `pypy3` 제출하니까 통과 (이런 건 좀 없앴으면~)"
   ]
  },
  {
   "cell_type": "code",
   "execution_count": 11,
   "id": "bec67908-238b-47b5-ae28-5c26a3116ac9",
   "metadata": {},
   "outputs": [
    {
     "name": "stdout",
     "output_type": "stream",
     "text": [
      "3\n"
     ]
    }
   ],
   "source": [
    "import sys\n",
    "sys.stdin = open('test.txt', 'r')\n",
    "input = sys.stdin.readline\n",
    "\n",
    "V, E = map(int, input().split())\n",
    "INF = int(1e9)\n",
    "graph = [[INF] * (V + 1) for _ in range(V+1)]\n",
    "\n",
    "for i in range(1, V+1):\n",
    "    graph[i][i] = 0\n",
    "\n",
    "for i in range(E):\n",
    "    a, b, w = map(int, input().split())\n",
    "    if graph[a][b] > w:\n",
    "        graph[a][b] = w\n",
    "\n",
    "        \n",
    "def floyd_warshall():\n",
    "    for i in range(1, V+1):\n",
    "        for j in range(1, V+1):\n",
    "            for k in range(1, V+1):\n",
    "                graph[j][k] = min(graph[j][k], \n",
    "                                  graph[j][i] + graph[i][k])\n",
    "\n",
    "floyd_warshall()\n",
    "\n",
    "# 사이클 찾기\n",
    "min_cycle = INF\n",
    "for i in range(1, V+1):\n",
    "    for j in range(1, V+1):\n",
    "        if i == j:\n",
    "            continue\n",
    "        if graph[i][j] != INF and graph[j][i] != INF:\n",
    "            min_cycle = min(min_cycle, graph[i][j] + graph[j][i])\n",
    "            \n",
    "if min_cycle == INF:\n",
    "    print('-1')\n",
    "else:\n",
    "    print(min_cycle)\n"
   ]
  },
  {
   "cell_type": "markdown",
   "id": "a2e9589a-0920-45b0-9054-b51b44022065",
   "metadata": {},
   "source": [
    "## 목표 : 사이클 찾기\n",
    "- 두 마을을 왕복하는 경우도 사이클에 포함된다\n",
    "\n",
    "### 사이클을 어떻게 정의할 수 있지?\n",
    "- 플로이드-워셜 알고리즘 결과 그래프에는 모든 노드 간의 최단 거리가 적혀 있다\n",
    "- **사이클은 시작점 = 끝점이기만 하면 되므로, 결과 그래프의 `graph[a][b]`, `graph[b][a]` 모두에 값이 있기만 하면 된다(INF가 아니기만 하면 됨)**"
   ]
  },
  {
   "cell_type": "code",
   "execution_count": null,
   "id": "05e93398-b7e5-4d6d-a393-19252482dcd9",
   "metadata": {},
   "outputs": [],
   "source": []
  }
 ],
 "metadata": {
  "kernelspec": {
   "display_name": "Python 3 (ipykernel)",
   "language": "python",
   "name": "python3"
  },
  "language_info": {
   "codemirror_mode": {
    "name": "ipython",
    "version": 3
   },
   "file_extension": ".py",
   "mimetype": "text/x-python",
   "name": "python",
   "nbconvert_exporter": "python",
   "pygments_lexer": "ipython3",
   "version": "3.9.13"
  }
 },
 "nbformat": 4,
 "nbformat_minor": 5
}
