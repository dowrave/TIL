{
 "cells": [
  {
   "cell_type": "code",
   "execution_count": 3,
   "id": "120cebd2-acab-40c2-af73-1af808eca796",
   "metadata": {},
   "outputs": [
    {
     "data": {
      "text/plain": [
       "1597"
      ]
     },
     "execution_count": 3,
     "metadata": {},
     "output_type": "execute_result"
    }
   ],
   "source": [
    "import sys\n",
    "sys.stdin = open('test.txt', 'r')\n",
    "N = int(sys.stdin.readline())\n",
    "\n",
    "# 피보나치 : N은 N-1과 N-2의 합이다\n",
    "\n",
    "def fbnc(N: int):\n",
    "    \n",
    "    if N == 0:\n",
    "        return 0\n",
    "    elif N == 1:\n",
    "        return 1\n",
    "    else:\n",
    "        return fbnc(N-1) + fbnc(N-2)\n",
    "\n",
    "print(fbnc(N))"
   ]
  },
  {
   "cell_type": "code",
   "execution_count": null,
   "id": "da45d1ec-2798-4106-9d1a-38a48746cf5d",
   "metadata": {},
   "outputs": [],
   "source": []
  }
 ],
 "metadata": {
  "kernelspec": {
   "display_name": "Python 3 (ipykernel)",
   "language": "python",
   "name": "python3"
  },
  "language_info": {
   "codemirror_mode": {
    "name": "ipython",
    "version": 3
   },
   "file_extension": ".py",
   "mimetype": "text/x-python",
   "name": "python",
   "nbconvert_exporter": "python",
   "pygments_lexer": "ipython3",
   "version": "3.9.13"
  }
 },
 "nbformat": 4,
 "nbformat_minor": 5
}
