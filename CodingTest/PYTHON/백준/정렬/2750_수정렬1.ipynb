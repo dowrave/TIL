{
 "cells": [
  {
   "cell_type": "code",
   "execution_count": 17,
   "id": "c78baea3-a555-4c03-8ffa-8dd7db24a20f",
   "metadata": {},
   "outputs": [
    {
     "name": "stdout",
     "output_type": "stream",
     "text": [
      "[5, 4, 3, 2, 1]\n",
      "[1, 4, 3, 2, 5]\n",
      "[1, 2, 3, 4, 5]\n",
      "[1, 2, 3, 4, 5]\n",
      "[1, 2, 3, 4, 5]\n",
      "1\n",
      "2\n",
      "3\n",
      "4\n",
      "5\n"
     ]
    }
   ],
   "source": [
    "import sys\n",
    "sys.stdin = open('test.txt', 'r')\n",
    "\n",
    "# 선택정렬\n",
    "def select_sort(lst: list):\n",
    "    for i in range(0, len(lst)):\n",
    "        print(lst)\n",
    "        MinValIdx = i\n",
    "        for j in range(i+1, len(lst)):\n",
    "            if lst[MinValIdx] > lst[j]:\n",
    "                MinValIdx = j\n",
    "        lst[MinValIdx], lst[i] = lst[i], lst[MinValIdx]\n",
    "    \n",
    "inp = []    \n",
    "N = int(sys.stdin.readline())\n",
    "\n",
    "for i in range(N):\n",
    "    inp.append(int(sys.stdin.readline()))\n",
    "    \n",
    "select_sort(inp)\n",
    "for i in inp:\n",
    "    print(i)"
   ]
  },
  {
   "cell_type": "code",
   "execution_count": 19,
   "id": "76124a83-4921-40d7-aeed-e4d1dfcd144b",
   "metadata": {},
   "outputs": [
    {
     "name": "stdout",
     "output_type": "stream",
     "text": [
      "[5, 4, 3, 2, 1]\n",
      "[1, 4, 3, 2, 5]\n",
      "[1, 2, 3, 4, 5]\n",
      "[1, 2, 3, 4, 5]\n",
      "[1, 2, 3, 4, 5]\n"
     ]
    }
   ],
   "source": [
    "import sys\n",
    "sys.stdin = open('test.txt', 'r')\n",
    "\n",
    "# 2. 삽입 정렬\n",
    "def insert_sort(lst: list):\n",
    "    for i in range(1, len(lst)):\n",
    "        for j in range(i, 0, -1):\n",
    "            \n",
    "            # 오른쪽 값이 왼쪽보다 작으면 바꾼다\n",
    "            if lst[j] < lst[j-1]:\n",
    "                lst[j], lst[j-1] = lst[j-1], lst[j]\n",
    "                print(lst)\n",
    "            else:\n",
    "                print(lst)\n",
    "                break\n",
    "inp = []    \n",
    "N = int(sys.stdin.readline())\n",
    "\n",
    "for i in range(N):\n",
    "    inp.append(int(sys.stdin.readline()))\n",
    "    \n",
    "select_sort(inp)   "
   ]
  },
  {
   "cell_type": "code",
   "execution_count": 49,
   "id": "1b12bdce-234a-4a80-a2fe-857079aeaf2b",
   "metadata": {},
   "outputs": [
    {
     "name": "stdout",
     "output_type": "stream",
     "text": [
      "[1, 2, 3, 4, 5]\n"
     ]
    }
   ],
   "source": [
    "# 3. 퀵 정렬\n",
    "import sys\n",
    "sys.stdin = open('test.txt', 'r')\n",
    "\n",
    "inp = []    \n",
    "N = int(sys.stdin.readline())\n",
    "\n",
    "for i in range(N):\n",
    "    inp.append(int(sys.stdin.readline()))\n",
    "\n",
    "def quick_sort(lst: list, start: int, end: int):\n",
    "    \n",
    "    if start >= end:\n",
    "        return\n",
    "    \n",
    "    pivot = start\n",
    "    left = start + 1\n",
    "    right = end\n",
    "    \n",
    "    while left <= right:\n",
    "        \n",
    "        # pivot 값 기준 left가 작으면 인덱스만 이동 / right가 크면 인덱스만 이동\n",
    "        while left <= end and lst[left] <= lst[pivot]:\n",
    "            left += 1\n",
    "        while right > start and lst[right] >= lst[pivot]:\n",
    "            right -= 1\n",
    "    \n",
    "        # lst[pivot]기준 lst[left] 값이 크고 lst[right] 값이 작으면 멈춘 상태\n",
    "        \n",
    "        if left > right: # left가 right를 넘어가면 pivot값 변경 \n",
    "            lst[pivot], lst[right] = lst[right], lst[pivot] # right 값을 pivot 값과 바꿔준다\n",
    "\n",
    "        else: # left <= right인 경우는 두 값만 바꿔준다\n",
    "            lst[left], lst[right] = lst[right], lst[left]\n",
    "\n",
    "    # 결과적으로 pivot 값을 이동시켰다면, 리스트를 2개로 쪼개서 재귀식으로 정렬을 돌린다\n",
    "    quick_sort(lst, start, right - 1) # right가 pivot 인덱스 - pivot 인덱스는 제외\n",
    "    quick_sort(lst, right + 1, end)\n",
    "    \n",
    "quick_sort(inp, 0, len(inp) - 1)\n",
    "print(inp)"
   ]
  },
  {
   "cell_type": "code",
   "execution_count": 1,
   "id": "1669db24-4359-477a-a9d6-8aa39a145064",
   "metadata": {},
   "outputs": [
    {
     "name": "stdout",
     "output_type": "stream",
     "text": [
      "[1, 2, 3, 4, 5]\n"
     ]
    }
   ],
   "source": [
    "def my_quick(lst: list, start: int, end: int):\n",
    "    \n",
    "    if start >= end:\n",
    "        return\n",
    "    \n",
    "    pivot = start\n",
    "    left = start + 1\n",
    "    right = end\n",
    "    \n",
    "    while left <= right:\n",
    "        \n",
    "        # 여기 조건문 순서가 중요하다? 왜?????\n",
    "        while left <= end and lst[pivot] >= lst[left]:\n",
    "            left += 1\n",
    "        \n",
    "        while right > start and lst[pivot] <= lst[right] :\n",
    "            right -= 1\n",
    "        \n",
    "        if left > right:\n",
    "            lst[pivot], lst[right] = lst[right], lst[pivot]\n",
    "        else:\n",
    "            lst[left], lst[right] = lst[right], lst[left]\n",
    "            \n",
    "    my_quick(lst, start, right - 1)\n",
    "    my_quick(lst, right + 1, end)\n",
    "\n",
    "import sys\n",
    "sys.stdin = open('test.txt', 'r')\n",
    "\n",
    "inp = []    \n",
    "N = int(sys.stdin.readline())\n",
    "\n",
    "for i in range(N):\n",
    "    inp.append(int(sys.stdin.readline()))\n",
    "\n",
    "my_quick(inp, 0, len(inp) - 1)\n",
    "print(inp)"
   ]
  },
  {
   "cell_type": "code",
   "execution_count": null,
   "id": "060b5bf3-23da-447f-8604-5f16c248b163",
   "metadata": {},
   "outputs": [],
   "source": [
    "# quick "
   ]
  }
 ],
 "metadata": {
  "kernelspec": {
   "display_name": "Python 3 (ipykernel)",
   "language": "python",
   "name": "python3"
  },
  "language_info": {
   "codemirror_mode": {
    "name": "ipython",
    "version": 3
   },
   "file_extension": ".py",
   "mimetype": "text/x-python",
   "name": "python",
   "nbconvert_exporter": "python",
   "pygments_lexer": "ipython3",
   "version": "3.9.13"
  }
 },
 "nbformat": 4,
 "nbformat_minor": 5
}
