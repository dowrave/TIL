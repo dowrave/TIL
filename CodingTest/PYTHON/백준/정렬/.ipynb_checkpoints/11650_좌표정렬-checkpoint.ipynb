{
 "cells": [
  {
   "cell_type": "code",
   "execution_count": 56,
   "id": "e509186d-ad23-4375-84dc-732cb73393d3",
   "metadata": {},
   "outputs": [
    {
     "name": "stdout",
     "output_type": "stream",
     "text": [
      "1 -1\n",
      "1 0\n",
      "1 1\n",
      "1 4\n",
      "1 100\n",
      "2 7\n"
     ]
    }
   ],
   "source": [
    "import sys\n",
    "sys.stdin = open('test.txt', 'r')\n",
    "\n",
    "N = int(sys.stdin.readline())\n",
    "lst = []\n",
    "for _ in range(N):\n",
    "    lst.append(list(map(int, sys.stdin.readline().split())))\n",
    "\n",
    "# 내부 원소의 개수가 같다면 n차원 행렬에도 \"그대로\" 적용 가능하다..\n",
    "def quick_sort(arr):\n",
    "\n",
    "    def sort(low, high):\n",
    "        if high <= low:\n",
    "            return\n",
    "\n",
    "        mid = partition(low, high)\n",
    "        sort(low, mid - 1)\n",
    "        sort(mid, high)\n",
    "\n",
    "    def partition(low, high):\n",
    "        \n",
    "        pivot = arr[(low + high) // 2] # 중간 \"값\"을 Pivot으로 선택\n",
    "        \n",
    "        while low <= high:\n",
    "            while arr[low] < pivot:\n",
    "                low += 1\n",
    "            while arr[high] > pivot:\n",
    "                high -= 1\n",
    "            if low <= high:\n",
    "                arr[low], arr[high] = arr[high], arr[low]\n",
    "                low, high = low + 1, high - 1\n",
    "                \n",
    "        return low\n",
    "\n",
    "    return sort(0, len(arr) - 1) # low, high는 여기서 인풋으로 정의됨\n",
    "\n",
    "\n",
    "quick_sort(lst)\n",
    "for i in lst:\n",
    "    print(i[0], i[1])"
   ]
  },
  {
   "cell_type": "code",
   "execution_count": null,
   "id": "64099e24-4199-4748-b64a-5d65df0b5e8e",
   "metadata": {},
   "outputs": [],
   "source": []
  }
 ],
 "metadata": {
  "kernelspec": {
   "display_name": "Python 3 (ipykernel)",
   "language": "python",
   "name": "python3"
  },
  "language_info": {
   "codemirror_mode": {
    "name": "ipython",
    "version": 3
   },
   "file_extension": ".py",
   "mimetype": "text/x-python",
   "name": "python",
   "nbconvert_exporter": "python",
   "pygments_lexer": "ipython3",
   "version": "3.9.13"
  }
 },
 "nbformat": 4,
 "nbformat_minor": 5
}
