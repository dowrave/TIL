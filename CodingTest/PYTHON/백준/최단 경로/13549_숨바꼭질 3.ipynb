{
 "cells": [
  {
   "cell_type": "markdown",
   "id": "b2176e1a-c73f-4047-89dc-a4291071a541",
   "metadata": {},
   "source": [
    "- [문제 링크](https://www.acmicpc.net/problem/13549)"
   ]
  },
  {
   "cell_type": "code",
   "execution_count": 10,
   "id": "50f55bbe-56c3-42d5-87fc-c2ab8cd44290",
   "metadata": {},
   "outputs": [
    {
     "name": "stdout",
     "output_type": "stream",
     "text": [
      "2\n"
     ]
    }
   ],
   "source": [
    "import sys\n",
    "import heapq\n",
    "sys.stdin = open('test.txt', 'r')\n",
    "input = sys.stdin.readline\n",
    "\n",
    "N, K = map(int, input().split())\n",
    "MIN = 0\n",
    "MAX = 100000\n",
    "dist = [float('inf')] * (MAX + 1)\n",
    "\n",
    "# 원래 BFS로 풀었는데 다익스트라로 풀 수도 있나보다\n",
    "def dijkstra(start_spot):\n",
    "    q = []\n",
    "    dist[N] = 0\n",
    "    heapq.heappush(q, [0, N]) # 시간 0, 시작점 N\n",
    "    \n",
    "    while q:\n",
    "        now_time, now_spot = heapq.heappop(q)\n",
    "        if now_spot == K:\n",
    "            return # 함수를 종료함 : 반환값 필요 없음\n",
    "        if now_spot < K:\n",
    "            action = ['+1', '-1', '*2']\n",
    "        else: # K 값을 넘으면 나머지 조건은 필요 없다\n",
    "            action = ['-1']\n",
    "\n",
    "        for i in action:\n",
    "            if i == '+1':\n",
    "                final_time = now_time + 1\n",
    "                final_spot = now_spot + 1\n",
    "            elif i == '-1':\n",
    "                final_time = now_time + 1\n",
    "                final_spot = now_spot - 1\n",
    "            else:\n",
    "                final_time = now_time\n",
    "                final_spot = now_spot * 2\n",
    "            \n",
    "            if final_spot < MIN or final_spot > MAX:\n",
    "                continue\n",
    "            \n",
    "            if final_time < dist[final_spot]:\n",
    "                dist[final_spot] = final_time\n",
    "                heapq.heappush(q, [final_time, final_spot])\n",
    "                \n",
    "dijkstra(N)\n",
    "print(dist[K])"
   ]
  },
  {
   "cell_type": "markdown",
   "id": "0b355234-70dc-423b-ac29-cde979b541af",
   "metadata": {},
   "source": [
    "- 뭔가 더러워 보이긴 하는데, 직관성은 좋은 거 같음?\n",
    "- 성능 향상 \n",
    "    - 우선순위 큐에서 목표 위치가 나왔다면 바로 함수 종료 (196ms -> 100ms) 추가\n",
    "    - 값은 푸시할 때 들어가 있기 떄문에 `return`만 넣으면 됨\n",
    "---\n",
    "- **BFS로 하든 다익스트라로 하든 원리 자체는 동일해 보인다**\n",
    "    - 가장 가까운 거리(=시간)부터 탐색한다는 점에서!"
   ]
  },
  {
   "cell_type": "code",
   "execution_count": null,
   "id": "6a6b5972-5971-4abd-85f8-fc6e639ef4ea",
   "metadata": {},
   "outputs": [],
   "source": []
  }
 ],
 "metadata": {
  "kernelspec": {
   "display_name": "Python 3 (ipykernel)",
   "language": "python",
   "name": "python3"
  },
  "language_info": {
   "codemirror_mode": {
    "name": "ipython",
    "version": 3
   },
   "file_extension": ".py",
   "mimetype": "text/x-python",
   "name": "python",
   "nbconvert_exporter": "python",
   "pygments_lexer": "ipython3",
   "version": "3.9.13"
  }
 },
 "nbformat": 4,
 "nbformat_minor": 5
}
