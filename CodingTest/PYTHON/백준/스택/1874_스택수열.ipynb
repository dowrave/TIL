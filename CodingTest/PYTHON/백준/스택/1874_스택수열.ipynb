{
 "cells": [
  {
   "cell_type": "code",
   "execution_count": 28,
   "id": "de85441d-4e6f-4efd-a9b9-db839befbf30",
   "metadata": {},
   "outputs": [
    {
     "name": "stdout",
     "output_type": "stream",
     "text": [
      "+\n",
      "-\n"
     ]
    }
   ],
   "source": [
    "import sys\n",
    "sys.stdin = open('test.txt', 'r')\n",
    "input = sys.stdin.readline\n",
    "\n",
    "n = int(input())\n",
    "\n",
    "# 1부터 n까지의 수를 오름차순으로 푸시할 때, 주어진 수열을 구현할 수 있는가?\n",
    "\n",
    "push_number = 1\n",
    "stack = []\n",
    "lst = []\n",
    "top = -1\n",
    "\n",
    "for _ in range(n): # 인풋값을 받는 바깥반복문\n",
    "    N = int(input())\n",
    "\n",
    "    while push_number <= N:\n",
    "        stack.append(push_number)\n",
    "        lst.append('+')\n",
    "        push_number += 1\n",
    "        top += 1\n",
    "           \n",
    "            \n",
    "    while top >= 0 and stack[top] == N:\n",
    "        stack.pop()\n",
    "        top -= 1\n",
    "        lst.append('-')\n",
    "\n",
    "if stack:\n",
    "    print('NO')\n",
    "else:\n",
    "    for i in lst:\n",
    "        print(i)\n",
    "\n",
    "    "
   ]
  },
  {
   "cell_type": "markdown",
   "id": "d37056be-3bfb-4c7b-bdb1-168a1181184d",
   "metadata": {},
   "source": [
    "- 4 3 6 8 7 5 2 1\n",
    "- stack에 수를 넣었다가 pop한 순서가 위 행렬로 나오면 된다는 거임\n",
    "1. 지금 넣으려는 수(1부터 시작)\n",
    "2. 주어진 수\n",
    "3. 스택의 마지막 수\n",
    "\n",
    "- 그러면 (지금 넣으려는 수가) 주어진 수와 같거나 작다면 push함\n",
    "    - push하고 +1해줘도 되고 그냥 반복문 돌려도 되고?\n",
    "- 스택의 마지막 수가 주어진 수와 같다면 pop함\n",
    "    - 이 경우에서 다음 주어진 수로 넘어감\n",
    "   "
   ]
  }
 ],
 "metadata": {
  "kernelspec": {
   "display_name": "Python 3 (ipykernel)",
   "language": "python",
   "name": "python3"
  },
  "language_info": {
   "codemirror_mode": {
    "name": "ipython",
    "version": 3
   },
   "file_extension": ".py",
   "mimetype": "text/x-python",
   "name": "python",
   "nbconvert_exporter": "python",
   "pygments_lexer": "ipython3",
   "version": "3.9.13"
  }
 },
 "nbformat": 4,
 "nbformat_minor": 5
}
