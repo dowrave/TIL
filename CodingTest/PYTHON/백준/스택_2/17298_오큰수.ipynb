{
 "cells": [
  {
   "cell_type": "code",
   "execution_count": 45,
   "id": "18f2735d-1e91-410c-aa9f-9be49f3d894b",
   "metadata": {},
   "outputs": [
    {
     "name": "stdout",
     "output_type": "stream",
     "text": [
      "-1 8 8 -1\n"
     ]
    }
   ],
   "source": [
    "import sys\n",
    "sys.stdin = open('test.txt', 'r')\n",
    "input = sys.stdin.readline\n",
    "N = int(input())\n",
    "lst = [0] + list(map(int, input().split()))\n",
    "ans = [-1] * (N+1)\n",
    "\n",
    "stack = [0] # 0을 넣는건 반복문을 깔끔하게 쓰기 위함임 / 스택 값은 0\n",
    "\n",
    "for i in range(1, N + 1):\n",
    "\n",
    "    # 큰 값이 나오면, 스택에 있는 작은 값들은 pop되고 그 인덱스가 기록됨\n",
    "    while stack and lst[stack[-1]] < lst[i]:\n",
    "        nge_idx = stack.pop()\n",
    "        ans[nge_idx] = lst[i]\n",
    "        \n",
    "    stack.append(i)\n",
    "    \n",
    "print(*ans[1:])"
   ]
  },
  {
   "cell_type": "markdown",
   "id": "64a5f8ab-9a9c-4315-988a-a409f568decd",
   "metadata": {},
   "source": [
    "## 오큰수\n",
    "- 어떤 리스트가 주어졌을 때, 각 인덱스에 대한 오큰수를 반환하면 된다\n",
    "- 여기서 오큰수는 해당 인덱스의 오른쪽에 있는 수보다 큰 수 중에서 가장 왼쪽에 있는 수이다 (가장 큰 수가 아니라 처음으로 등장하는 큰 수임)\n",
    "- 만약 없다면 -1"
   ]
  },
  {
   "cell_type": "markdown",
   "id": "428a4db4-769f-4685-bddd-777da347cfcf",
   "metadata": {},
   "source": [
    "- 일단 기본적으로 드는 생각은 그냥 반복문 돌려서 처음으로 큰 수 찾으면 끝일 건데? 정답이 이거였다면 문제로 나오지도 않았을 거 같음\n",
    "    - 이게 $O(N^2)$일 듯 : 각 리스트의 원소에 대해 오른쪽에 있는 것들을 탐색해야 하니까\n",
    "    - 근데 왜 **시간초과**가 아니라 **틀렸습니다**가 떴는지는 모르겠다. "
   ]
  },
  {
   "cell_type": "markdown",
   "id": "7221e268-dedc-4d76-badb-15fb1e4e93c9",
   "metadata": {},
   "source": [
    "- 스택을 이용해서 풀 수 있다고 한다\n",
    "- 스택을 이용한다는 것만 알고 뇌를 굴려보자\n",
    "```\n",
    "3 5 2 7 이 있다고 하자\n",
    "1. 스택의 Top 값과 비교하기 위해 스택 초기화는 [0]으로 한다\n",
    "2. 그러면 스택 Top값과 각 인덱스 값을 비교할 수 있다\n",
    "    - 인덱스를 비교하기 위해 인덱스는 1부터 출발한다. 즉 스택에 들어가는 값은 배열의 인덱스이다.\n",
    "3. 배열의 인덱스에 대해 반복문을 돌린다. \n",
    "    1. 지금 Top 인덱스가 갖는 값 < 현재 배열의 인덱스가 갖는 값이면 pop한다. 이 pop한 인덱스의 오큰수는 현재 배열의 인덱스가 갖는 값이다.\n",
    "    2. 그게 아니라면 스택에 push한다.\n",
    "```\n",
    "\n",
    "- 스택에 인덱스를 쓰는 이유는, 주어진 배열 각각에 오큰수를 채워넣어야 하기 때문이다. \n",
    "- 이런 식으로 구현하면 $O(N)$?\n",
    "    - O(N)인 이유 : pop의 횟수는 push의 횟수와 동일하기 때문임\n",
    "    - 끽해야 $2N$이라는 건데, Big-O는 $k$값을 무시하니까 $O(N)$이 되는 것"
   ]
  },
  {
   "cell_type": "code",
   "execution_count": null,
   "id": "6bd1aaad-6f00-4376-b7ed-639b51270875",
   "metadata": {},
   "outputs": [],
   "source": []
  }
 ],
 "metadata": {
  "kernelspec": {
   "display_name": "Python 3 (ipykernel)",
   "language": "python",
   "name": "python3"
  },
  "language_info": {
   "codemirror_mode": {
    "name": "ipython",
    "version": 3
   },
   "file_extension": ".py",
   "mimetype": "text/x-python",
   "name": "python",
   "nbconvert_exporter": "python",
   "pygments_lexer": "ipython3",
   "version": "3.9.13"
  }
 },
 "nbformat": 4,
 "nbformat_minor": 5
}
