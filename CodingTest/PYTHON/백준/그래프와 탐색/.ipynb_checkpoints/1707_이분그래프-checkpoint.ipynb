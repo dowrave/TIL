{
 "cells": [
  {
   "cell_type": "markdown",
   "id": "528cb7c1-1a93-477d-bf65-0680fa4e6301",
   "metadata": {},
   "source": [
    "- [문제 링크](https://www.acmicpc.net/problem/1707)\n",
    "- 이분 그래프 : 정점의 집합을 둘로 나눠서, 각 집합에 속한 정점끼리 **인접하지 않도록** 분할할 수 있을 때를 이분 그래프라고 함\n",
    "- 인접하다 = 간선으로 연결되어 있다\n"
   ]
  },
  {
   "cell_type": "code",
   "execution_count": 4,
   "id": "3e8fe3a4-778f-49e0-a039-9aee1c71201e",
   "metadata": {},
   "outputs": [
    {
     "name": "stdout",
     "output_type": "stream",
     "text": [
      "YES\n",
      "NO\n"
     ]
    }
   ],
   "source": [
    "import sys\n",
    "from collections import deque\n",
    "sys.stdin = open('test.txt', 'r')\n",
    "input = sys.stdin.readline\n",
    "\n",
    "def bfs(start_node):\n",
    "    \"\"\"\n",
    "    더 줄일 수 있는데\n",
    "    나중에 봤을 때도 이해하기 쉬우라고 변수 몇 개를 추가함\n",
    "    색깔 : 1과 2를 사용함\n",
    "    \"\"\"\n",
    "    dq = deque([])\n",
    "    dq.append(start_node)\n",
    "    visited[start_node] = 1 # 색은 1과 2를 오간다\n",
    "\n",
    "    while dq:\n",
    "        now_node = dq.popleft()\n",
    "        \n",
    "        now_color = visited[now_node] # 현재 노드의 색깔\n",
    "        insert_color = abs(3 - now_color) # 인접 노드에 넣을 색깔\n",
    "\n",
    "        for i in graph[now_node]:\n",
    "            \n",
    "            # 방문한 적 없다면 \n",
    "            if visited[i] == 0:\n",
    "                visited[i] = insert_color\n",
    "                dq.append(i)\n",
    "                \n",
    "            # 이웃노드를 방문한 적 있고, 지금 넣을 색과 같다\n",
    "            elif visited[i] and visited[i] == insert_color:\n",
    "                continue\n",
    "            \n",
    "            # 방문한 적 있고, 지금 넣을 색과 다르다\n",
    "            else:\n",
    "                return 0 \n",
    "\n",
    "    \n",
    "K = int(input())\n",
    "for _ in range(K):\n",
    "    flag = True\n",
    "    V, E = map(int, input().split())\n",
    "    \n",
    "    graph = [[] for _ in range(V + 1)]\n",
    "    for _ in range(E):\n",
    "        a, b = map(int, input().split())\n",
    "        graph[a].append(b)\n",
    "        graph[b].append(a)\n",
    "    \n",
    "    \n",
    "    visited = [0] * (V + 1)\n",
    "    \n",
    "    # 1부터 V까지, 방문한 적 없는 노드들에 대해 BFS를 수행함\n",
    "    for i in range(1, V + 1):\n",
    "        if visited[i] == 0:\n",
    "            result = bfs(i)\n",
    "            if result == 0:\n",
    "                flag = False\n",
    "                break\n",
    "    \n",
    "    if flag == False:\n",
    "        print(\"NO\")\n",
    "    else:\n",
    "        print(\"YES\")"
   ]
  },
  {
   "cell_type": "markdown",
   "id": "4459cc0c-9086-4e8f-8cfd-250ae056af7c",
   "metadata": {},
   "source": [
    "- 알고리즘을 찾아보면\n",
    "- K분 그래프 : 인접한 두 정점은 서로 다른 정점 집합에 속해야 함\n",
    "- **BFS(DFS)를 통해 각 정점에 색을 부여하는데, 이미 방문한 정점의 색이 인접한 정점의 색과 동일하다면 이분 그래프를 만들 수 없다**\n",
    "\n",
    "---\n",
    "- 원리는 알되 알고리즘은 직접 짜보자\n",
    "\n",
    "1. 간선이 없는 정점을 생각해보면 -> 어떤 집합에 속해도 이웃하지 않음\n",
    "    - 크게 고려할 게 있나 싶다\n",
    "    \n",
    "2. 여러 그룹이 있고, 각 그룹에 여러 간선이 있지만 서로 독립적인 경우를 생각할 수 있다\n",
    "    - 시작 정점을 1로 하면 안됨 : 케이스는 다양할 수 있음\n",
    "    - 그러면 `visited`를 활용하면 되겠는데?\n",
    "        1) 1번부터 마지막 인덱스까지 반복문을 돌린다 ((`visited = 0`)일 때)\n",
    "        2) 각 인덱스에 대해 완전 깊이 탐색을 돌린다 -> 이 과정에서 연결된 간선은 `visited`에 표시되고 연결되지 않았다면 표시되지 않음\n",
    "        3) BFS에서 이웃한 인덱스에 지금 넣는 색과 다른 색이 들어가 있는 경우가 하나라도 나오면 NO가 됨\n",
    "        4) NO가 반환되지 않고 반복문이 종료되었다면, 모두 둘로 나눌 수 있다는 얘기니까 YES가 될 거임\n",
    "    \n",
    "   "
   ]
  },
  {
   "cell_type": "code",
   "execution_count": null,
   "id": "82e55fb3-7a2c-44ac-84a5-abba920b476c",
   "metadata": {},
   "outputs": [],
   "source": []
  }
 ],
 "metadata": {
  "kernelspec": {
   "display_name": "Python 3 (ipykernel)",
   "language": "python",
   "name": "python3"
  },
  "language_info": {
   "codemirror_mode": {
    "name": "ipython",
    "version": 3
   },
   "file_extension": ".py",
   "mimetype": "text/x-python",
   "name": "python",
   "nbconvert_exporter": "python",
   "pygments_lexer": "ipython3",
   "version": "3.9.13"
  }
 },
 "nbformat": 4,
 "nbformat_minor": 5
}
