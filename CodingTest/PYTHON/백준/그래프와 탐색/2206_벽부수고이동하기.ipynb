{
 "cells": [
  {
   "cell_type": "markdown",
   "id": "72bb139a-3b89-4b0b-880c-0d2f4036e0c0",
   "metadata": {},
   "source": [
    "- [문제 링크](https://www.acmicpc.net/problem/2206)"
   ]
  },
  {
   "cell_type": "code",
   "execution_count": 52,
   "id": "4fd8090d-c0d1-45eb-84b7-7873092892ea",
   "metadata": {},
   "outputs": [
    {
     "name": "stdout",
     "output_type": "stream",
     "text": [
      "15\n"
     ]
    }
   ],
   "source": [
    "import sys\n",
    "from collections import deque\n",
    "sys.stdin = open('test.txt', 'r')\n",
    "input = sys.stdin.readline\n",
    "\n",
    "# (1,1) -> (N, M)까지 이동해야 한다 : (0, 0) -> (N-1, M-1)로 ㄱ\n",
    "# 단 벽을 부술 기회가 1번 있다\n",
    "# 최단 경로를 구하시오\n",
    "N, M = map(int, input().split())\n",
    "matrix = []\n",
    "for _ in range(N):\n",
    "    matrix.append(list(map(int, list(input().strip()))))\n",
    "\n",
    "dq = deque([]) # 큐의 각 원소는 [현재 위치, 경로, 벽 부수기 가능 여부]\n",
    "# visited = [[0, 0] * M for _ in range(N)]\n",
    "\n",
    "# 방문 리스트를 3차원으로 구성한다\n",
    "visited = [[[0] * 2 for _ in range(M)] for _ in range(N)]\n",
    "\n",
    "moves = [(1, 0), (-1, 0), (0, 1), (0, -1)]\n",
    "def bfs(start_loc):\n",
    "    \n",
    "    count = 1\n",
    "    breakable = 1 # 부술 수 있다\n",
    "    dq.append((start_loc, count, breakable))\n",
    "    visited[start_loc[0]][start_loc[1]][breakable] = 1\n",
    "    \n",
    "    while dq:\n",
    "        now_loc, now_count, now_breakable = dq.popleft()\n",
    "        \n",
    "        if now_loc == (N-1, M-1):\n",
    "            return now_count\n",
    "        \n",
    "        for move in moves:\n",
    "            drow = now_loc[0] + move[0]\n",
    "            dcol = now_loc[1] + move[1]\n",
    "            \n",
    "            # 아래 조건은 이런 식으로 쓸 수 있다. 머쓱\n",
    "            # if 0 <= da < n and 0 <= db < m:\n",
    "            if drow < 0 or drow >= N:\n",
    "                continue\n",
    "            if dcol < 0 or dcol >= M:\n",
    "                continue\n",
    "            if now_breakable == 0 and matrix[drow][dcol] == 1:\n",
    "                continue\n",
    "            \n",
    "            if visited[drow][dcol][now_breakable] == 0:\n",
    "                \n",
    "                if now_breakable == 1 and matrix[drow][dcol] == 1:\n",
    "                    dq.append(((drow, dcol), now_count + 1, 0))\n",
    "                    visited[drow][dcol][0] = 1\n",
    "                    \n",
    "                elif matrix[drow][dcol] == 0:\n",
    "                    dq.append(((drow, dcol), now_count + 1, now_breakable))\n",
    "                    visited[drow][dcol][now_breakable] = 1\n",
    "    \n",
    "    # 큐를 다 돌렸는데 함수가 끝나지 않았다\n",
    "    # = 목적지에 도착하지 못했다\n",
    "    return -1\n",
    "\n",
    "print(bfs((0, 0)))"
   ]
  },
  {
   "cell_type": "code",
   "execution_count": 51,
   "id": "4748397c-7493-4e1c-98e9-3e3bc641b26b",
   "metadata": {},
   "outputs": [
    {
     "name": "stdout",
     "output_type": "stream",
     "text": [
      "[[1, 1], [1, 1], [1, 1], [1, 1]]\n",
      "[[1, 0], [1, 0], [1, 0], [1, 1]]\n",
      "[[1, 1], [1, 1], [1, 1], [1, 1]]\n",
      "[[1, 1], [1, 0], [1, 0], [1, 0]]\n",
      "[[1, 0], [0, 0], [0, 0], [0, 0]]\n",
      "[[1, 0], [1, 0], [1, 0], [1, 0]]\n"
     ]
    }
   ],
   "source": [
    "for i in range(N):\n",
    "    print(visited[i])"
   ]
  },
  {
   "cell_type": "markdown",
   "id": "1d189bd1-5c9d-400a-ac68-d5d6cde60884",
   "metadata": {},
   "source": [
    "### 반례 찾기 : 19%에서 자꾸 빠꾸남\n",
    "- 아 이런 케이스가 있다\n",
    "```\n",
    "0000\n",
    "1110\n",
    "0000\n",
    "0111\n",
    "1111\n",
    "0000\n",
    "```\n",
    "```\n",
    "처음부터 세로로 달리면 벽을 하나 뚫는데, 그 다음 벽에서 막힘\n",
    "반면 돌아서 가면 벽을 뚫을 기회가 남아있기 때문에 도착점에 도착할 수 있음\n",
    "근데 원래 구현한 알고리즘(\"깊이\" 차원이 없는 지도)에 의하면 이미 0번째 column들을 방문한 적이 있기 때문에 돌아온 애들은 접근할 수가 없음 (`-1`출력)\n",
    "```\n",
    "- 따라서 **방문 배열을 다르게 구성할 필요가 있음**\n",
    "    - 지금 같은 경우 벽을 뚫었느냐 여부로 결정했기 때문에\n",
    "    - 벽을 뚫었을 때의 방문 리스트와 벽을 뚫지 않았을 때의 방문 리스트를 따로 구성하면 됨\n",
    "- 그렇게 되면 벽을 뚫든 뚫지 않았든 관계 없이 마지막 점에 도달했다면 큐에서 popleft되기 때문에 끝나고\n",
    "- 큐가 다 돌았는데도 함수가 끝나지 않았다면 그건 목적지에 도착하는 경로가 없다는 의미이므로 -1"
   ]
  },
  {
   "cell_type": "code",
   "execution_count": null,
   "id": "d0ed23cf-b861-48b2-8e9a-894bb90d6799",
   "metadata": {},
   "outputs": [],
   "source": []
  }
 ],
 "metadata": {
  "kernelspec": {
   "display_name": "Python 3 (ipykernel)",
   "language": "python",
   "name": "python3"
  },
  "language_info": {
   "codemirror_mode": {
    "name": "ipython",
    "version": 3
   },
   "file_extension": ".py",
   "mimetype": "text/x-python",
   "name": "python",
   "nbconvert_exporter": "python",
   "pygments_lexer": "ipython3",
   "version": "3.9.13"
  }
 },
 "nbformat": 4,
 "nbformat_minor": 5
}
