{
 "cells": [
  {
   "cell_type": "code",
   "execution_count": 17,
   "id": "b59b3cf0-57ad-4d3c-a890-e98a93a2641b",
   "metadata": {},
   "outputs": [
    {
     "name": "stdout",
     "output_type": "stream",
     "text": [
      "15\n"
     ]
    }
   ],
   "source": [
    "import sys\n",
    "from collections import deque\n",
    "\n",
    "# BFS로 구현v\n",
    "\n",
    "sys.stdin = open('test.txt', 'r')\n",
    "input = sys.stdin.readline\n",
    "\n",
    "N, M = map(int, input().split())\n",
    "graph = []\n",
    "dq = deque([])\n",
    "for _ in range(N):\n",
    "    inp = input().strip()\n",
    "    graph.append(list(map(int, inp)))\n",
    "\n",
    "# 문제는 (1,1) -> (N, M)인데\n",
    "# 나는 (0, 0) -> (N - 1, M - 1)로 구현하겠음\n",
    "# 목표는 (N-1, M-1)까지 이동하는 데에 필요한 칸의 갯수\n",
    "\n",
    "visited = [[0] * M for _ in range(N)]\n",
    "\n",
    "def bfs(start_loc: iter):\n",
    "    row = start_loc[0]\n",
    "    col = start_loc[1]\n",
    " \n",
    "    dq.append((row, col, 1)) # 시작점부터 현재칸까지의 칸 갯수를 2번 인덱스에\n",
    "    visited[row][col] = 1\n",
    "    \n",
    "    while dq:\n",
    "        now_loc = dq.popleft()\n",
    "    \n",
    "        now_row, now_col, now_cnt = now_loc[0], now_loc[1], now_loc[2]\n",
    "        if now_row == N - 1 and now_col == M - 1:\n",
    "            return now_cnt\n",
    "        \n",
    "        moves = [(-1, 0), (1, 0), (0, 1), (0, -1)] # 아 미친 (0, -1)을 2번 넣었네 ㅋㅋ\n",
    "        \n",
    "        for move in moves:\n",
    "            drow = now_row + move[0]\n",
    "            dcol = now_col + move[1]\n",
    "            if drow < 0 or drow >= N:\n",
    "                continue\n",
    "            if dcol < 0 or dcol >= M:\n",
    "                continue\n",
    "            if graph[drow][dcol] == 1 and visited[drow][dcol] == 0:\n",
    "                visited[drow][dcol] = 1\n",
    "                dq.append((drow, dcol, now_cnt + 1))\n",
    "\n",
    "print(bfs((0, 0)))"
   ]
  },
  {
   "cell_type": "markdown",
   "id": "73e9fd05-0219-401c-b767-f2a4bbfe1272",
   "metadata": {},
   "source": [
    "## 지나야 하는 최소 칸의 수\n",
    "- 이기 때문에 BFS로 푸는 게 편하다(**최단 거리 문제**)\n",
    "- DFS로 풀 순 있는데, BFS로 `깊이 = 거리`를 구현하는 게 훨씬 편하지 않겠음?\n",
    "    - 너무 복잡하게 들어갈 필요는 없겠다. `최단거리 = BFS`라고 생각하고, DFS를 써야 하는 문제가 나온다면 그 때 배우면 됨"
   ]
  },
  {
   "cell_type": "code",
   "execution_count": null,
   "id": "052866da-6e03-408d-ad7d-621154ed6b44",
   "metadata": {},
   "outputs": [],
   "source": []
  }
 ],
 "metadata": {
  "kernelspec": {
   "display_name": "Python 3 (ipykernel)",
   "language": "python",
   "name": "python3"
  },
  "language_info": {
   "codemirror_mode": {
    "name": "ipython",
    "version": 3
   },
   "file_extension": ".py",
   "mimetype": "text/x-python",
   "name": "python",
   "nbconvert_exporter": "python",
   "pygments_lexer": "ipython3",
   "version": "3.9.13"
  }
 },
 "nbformat": 4,
 "nbformat_minor": 5
}
