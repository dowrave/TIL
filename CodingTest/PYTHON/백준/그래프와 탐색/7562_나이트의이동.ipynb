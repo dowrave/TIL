{
 "cells": [
  {
   "cell_type": "code",
   "execution_count": 3,
   "id": "666aaaf5-52ec-4f9c-9fac-55a2a3712751",
   "metadata": {},
   "outputs": [
    {
     "name": "stdout",
     "output_type": "stream",
     "text": [
      "5\n",
      "28\n",
      "0\n"
     ]
    }
   ],
   "source": [
    "import sys\n",
    "from collections import deque\n",
    "\n",
    "sys.stdin = open('test.txt', 'r')\n",
    "input = sys.stdin.readline\n",
    "\n",
    "T = int(input())\n",
    "def bfs(loc: tuple):\n",
    "    \n",
    "    dq.append(loc)\n",
    "    visited[loc[0]][loc[1]] = 0\n",
    "    # moves만 다른 문제\n",
    "    moves = [(2, 1), (2, -1), (-2, 1), (-2, -1), \n",
    "         (1, 2), (1, -2), (-1, 2), (-1, -2)]\n",
    "    \n",
    "    while dq:\n",
    "        row, col = dq.popleft()\n",
    "        \n",
    "        if row == end_loc[0] and col == end_loc[1]:\n",
    "            return visited[row][col]\n",
    "        \n",
    "        for move in moves:\n",
    "            drow = row + move[0]\n",
    "            dcol = col + move[1]\n",
    "            \n",
    "            if drow < 0 or drow >= I:\n",
    "                continue\n",
    "            if dcol < 0 or dcol >= I:\n",
    "                continue\n",
    "                \n",
    "            if visited[drow][dcol] == -1:\n",
    "                dq.append((drow, dcol))\n",
    "                visited[drow][dcol] = visited[row][col] + 1\n",
    "\n",
    "for _ in range(T):\n",
    "    \n",
    "    I = int(input()) # 체스판 한 변 길이\n",
    "    \n",
    "    start_loc = list(map(int, input().split()))\n",
    "    end_loc = list(map(int, input().split()))\n",
    "    \n",
    "    visited = [[-1] * I for _ in range(I)]\n",
    "    dq = deque([])\n",
    "    \n",
    "    print(bfs(start_loc))"
   ]
  },
  {
   "cell_type": "code",
   "execution_count": null,
   "id": "33798c5c-d323-4625-8032-4af602f09e08",
   "metadata": {},
   "outputs": [],
   "source": []
  }
 ],
 "metadata": {
  "kernelspec": {
   "display_name": "Python 3 (ipykernel)",
   "language": "python",
   "name": "python3"
  },
  "language_info": {
   "codemirror_mode": {
    "name": "ipython",
    "version": 3
   },
   "file_extension": ".py",
   "mimetype": "text/x-python",
   "name": "python",
   "nbconvert_exporter": "python",
   "pygments_lexer": "ipython3",
   "version": "3.9.13"
  }
 },
 "nbformat": 4,
 "nbformat_minor": 5
}
