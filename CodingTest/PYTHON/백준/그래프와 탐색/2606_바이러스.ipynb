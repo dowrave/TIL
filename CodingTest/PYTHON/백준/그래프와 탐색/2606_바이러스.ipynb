{
 "cells": [
  {
   "cell_type": "code",
   "execution_count": 13,
   "id": "84b8f150-a52f-4325-a965-8842c892624c",
   "metadata": {},
   "outputs": [
    {
     "name": "stdout",
     "output_type": "stream",
     "text": [
      "[0, 1, 1, 1, 0, 1, 1, 0]\n",
      "4\n",
      "[0, 1, 1, 1, 0, 1, 1, 0]\n",
      "4\n"
     ]
    }
   ],
   "source": [
    "import sys\n",
    "from collections import deque\n",
    "\n",
    "sys.setrecursionlimit(int(1e9))\n",
    "sys.stdin = open('test.txt', 'r')\n",
    "input = sys.stdin.readline\n",
    "\n",
    "N = int(input())\n",
    "E = int(input())\n",
    "\n",
    "graph = [[] for _ in range(N + 1)]\n",
    "visited_dfs = [0] * (N + 1)\n",
    "visited_bfs = [0] * (N + 1)\n",
    "dq = deque([])\n",
    "\n",
    "for _ in range(E):\n",
    "    a, b = map(int, input().split())\n",
    "    graph[a].append(b)\n",
    "    graph[b].append(a)\n",
    "    \n",
    "# 문제 : 1번과 직간접적으로 연결된 노드들의 개수(1번은 제외)\n",
    "# dfs든 bfs든 상관은 없을 거 같으니까 둘 다로 구현한다\n",
    "\n",
    "# 1. dfs\n",
    "def dfs(now_node):\n",
    "    \n",
    "    visited_dfs[now_node] = 1\n",
    "    \n",
    "    for i in graph[now_node]:\n",
    "        if visited_dfs[i] == 0:\n",
    "            dfs(i)\n",
    "dfs(1)\n",
    "print(sum(visited_dfs[2:])) \n",
    "    \n",
    "# # 2. bfs\n",
    "def bfs(start_node):\n",
    "    \n",
    "    visited_bfs[start_node] = 1\n",
    "    dq.append(start_node)\n",
    "    \n",
    "    while dq:\n",
    "        now_node = dq.popleft()\n",
    "        for i in graph[now_node]:\n",
    "            if visited_bfs[i] == 0:\n",
    "                visited_bfs[i] = 1\n",
    "                dq.append(i)\n",
    "        \n",
    "bfs(1)\n",
    "print(sum(visited_bfs[2:]))"
   ]
  },
  {
   "cell_type": "code",
   "execution_count": null,
   "id": "cf1b43e3-8865-41bb-9014-a02f39629083",
   "metadata": {},
   "outputs": [],
   "source": []
  }
 ],
 "metadata": {
  "kernelspec": {
   "display_name": "Python 3 (ipykernel)",
   "language": "python",
   "name": "python3"
  },
  "language_info": {
   "codemirror_mode": {
    "name": "ipython",
    "version": 3
   },
   "file_extension": ".py",
   "mimetype": "text/x-python",
   "name": "python",
   "nbconvert_exporter": "python",
   "pygments_lexer": "ipython3",
   "version": "3.9.13"
  }
 },
 "nbformat": 4,
 "nbformat_minor": 5
}
