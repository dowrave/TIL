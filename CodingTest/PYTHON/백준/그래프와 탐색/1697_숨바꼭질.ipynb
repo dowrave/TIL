{
 "cells": [
  {
   "cell_type": "code",
   "execution_count": 12,
   "id": "c47e331c-28a4-4eb6-8274-9ad73d0b817a",
   "metadata": {},
   "outputs": [
    {
     "name": "stdout",
     "output_type": "stream",
     "text": [
      "4\n"
     ]
    }
   ],
   "source": [
    "import sys\n",
    "from collections import deque\n",
    "sys.stdin = open('test.txt', 'r')\n",
    "input = sys.stdin.readline\n",
    "\n",
    "N, K = map(int, input().split())\n",
    "\n",
    "# BFS를 구현하는데 방문한 리스트를 구현을 안해놨다 ㅋㅋ\n",
    "def bfs(n, k):\n",
    "    \n",
    "    dq.append(n)\n",
    "    visited[n] = 0\n",
    "    \n",
    "    while dq:\n",
    "        \n",
    "        loc = dq.popleft()\n",
    "        if loc == k:\n",
    "            return visited[loc]\n",
    "        \n",
    "        moves = [loc + 1, loc - 1, 2 * loc]\n",
    "        \n",
    "        for move in moves:\n",
    "            if (move >= 0 and move <= int(1e5) and\n",
    "                visited[move] == -1\n",
    "               ):\n",
    "                dq.append(move)\n",
    "                visited[move] = visited[loc] + 1\n",
    "\n",
    "dq = deque([])\n",
    "visited = [-1] * int(1e5 + 1)\n",
    "print(bfs(N, K))"
   ]
  },
  {
   "cell_type": "code",
   "execution_count": null,
   "id": "aaecc565-f4be-449e-96af-72d9f4cf756e",
   "metadata": {},
   "outputs": [],
   "source": [
    "# 위치 N에서 3가지 행동을 할 수 있음\n",
    "# [N+1, N-1, 2 * N]\n",
    "# 가장 빨리 K에 도달하는 시간이 몇 초 후인지 구하시오\n",
    "# 큐를 구성할 때, [위치, n초]로 구성하면 되지 않을까 싶으요?\n",
    "# 예제에서 보이듯 N일 때는 0초로 구성하면 된다\n",
    "\n",
    "# 메모리 초과\n",
    "def bfs(n, k):\n",
    "    \n",
    "    dq.append([n, 0])\n",
    "    \n",
    "    while dq:\n",
    "        \n",
    "        loc, sec = dq.popleft()\n",
    "        if loc == k:\n",
    "            return sec\n",
    "        \n",
    "        moves = [(loc + 1), (loc - 1), (2 * loc)]\n",
    "        for move in moves:\n",
    "            if move >= 0 and move <= int(1e5):\n",
    "                dq.append([move, sec + 1])\n",
    "                "
   ]
  }
 ],
 "metadata": {
  "kernelspec": {
   "display_name": "Python 3 (ipykernel)",
   "language": "python",
   "name": "python3"
  },
  "language_info": {
   "codemirror_mode": {
    "name": "ipython",
    "version": 3
   },
   "file_extension": ".py",
   "mimetype": "text/x-python",
   "name": "python",
   "nbconvert_exporter": "python",
   "pygments_lexer": "ipython3",
   "version": "3.9.13"
  }
 },
 "nbformat": 4,
 "nbformat_minor": 5
}
