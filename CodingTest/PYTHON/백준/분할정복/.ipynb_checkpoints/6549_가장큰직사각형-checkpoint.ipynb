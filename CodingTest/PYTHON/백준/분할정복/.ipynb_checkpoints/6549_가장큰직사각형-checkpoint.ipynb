{
 "cells": [
  {
   "cell_type": "markdown",
   "id": "86bb85a4-50c7-425b-a155-fafd331d1bfd",
   "metadata": {},
   "source": [
    "### 히스토그램의 최대 넓이 찾기\n",
    "\n",
    "#### 1. 분할정복 활용하기\n",
    "- 주어진 리스트에서 **가장 낮은 높이를 기준으로 좌우로 자른다**\n",
    "- 이 때 분리되는 경우는 3가지이다.\n",
    "    1. 가장 낮은 높이의 왼쪽까지(`[:idx]`)\n",
    "    2. 가장 낮은 높이 + 1부터 오른쪽 끝까지\n",
    "    3. 가장 낮은 높이 * 현재 리스트의 길이\n",
    "    - 이 3가지 경우의 수 중 최댓값이 반드시 있음\n",
    "    \n",
    "- 문제는 `RecursionError`가 발생한다는 것\n",
    "    - 이를 해결하는 방법으로 **세그먼트 트리**가 있다고 함 <- 없어도 풀 수는 있다."
   ]
  },
  {
   "cell_type": "markdown",
   "id": "55b495ca-8ad1-4246-a7bb-814cfee959b1",
   "metadata": {},
   "source": [
    "- [분할 정복 풀이 참고](https://as-j.tistory.com/98) \n",
    "- 여기서 중요한 건 분할 정복 그 자체보다는 어떻게 최댓값을 갱신해나갈까에 있음\n",
    "```\n",
    "[대충 논리]\n",
    "0. n은 \"현재 들어온 리스트의 길이\"이다.\n",
    "1. mid값을 정함. l과 r은 mid -1과 mid로 정한다.\n",
    "2. 이 l과 r은 현재 리스트에서 가운데 두 사각형 넓이부터 시작하기 위해 지정된 값이다. l과 r은 인접했기 떄문에 이 중 작은 높이값 * 2의 넓이부터 시작할 수 있다.\n",
    "    - 여기서 이 작은 높이값을 min_h로 지정한다. 리스트의 범위를 다르게 줌으로써 분할 정복 과정에서 최소 높잇값은 달라질 수 있음\n",
    "3. l이 0 이상, r이 n-1 이하인 동안 밑변을 넓혀나간다. heights[l-1]과 height[r+1]의 값을 비교해서, 이 중 \"큰 값\"과 \"min_h\"를 비교해 그 중 더 작은 값을 min_h로 갱신한다.\n",
    "    - 이 때 큰 값을 고르는 이유는 최댓값을 찾아야 하기 때문이다. min_h가 4인데 heights[l-1] = 3, heights[r+1] = 5라고 생각해보자. 바로 알 수 있음\n",
    "    - 또한, 선택된 방향으로 인덱스를 1칸 옮겨주고 밑변도 1을 넓혀준다\n",
    "    - 그리고 직사각형 넓이를 계산한다\n",
    "4. 마지막으로 이전 재귀식에서의 최댓값들과 현재 재귀식에서 구한 최댓값을 비교해 더 큰 값을 선택한다\n",
    "```\n"
   ]
  },
  {
   "cell_type": "code",
   "execution_count": 62,
   "id": "7edcf04c-0320-4565-bbf6-4e314524ecc7",
   "metadata": {},
   "outputs": [
    {
     "name": "stdout",
     "output_type": "stream",
     "text": [
      "8\n",
      "4000\n"
     ]
    }
   ],
   "source": [
    "import sys\n",
    "sys.stdin = open('test.txt', 'r')\n",
    "input = sys.stdin.readline\n",
    "\n",
    "def func(heights: list):\n",
    "    N = len(heights)\n",
    "    if N == 1:\n",
    "        return heights[0]\n",
    "    mid = N // 2\n",
    "    \n",
    "    l = mid - 1\n",
    "    r = mid \n",
    "    underbar = 2\n",
    "    min_h = min(heights[l], heights[r])\n",
    "    max_area = min_h * underbar\n",
    "    \n",
    "    while 0 <= l and r <= N - 1:\n",
    "        l_move = heights[l-1] if l >= 1 else 0  \n",
    "        r_move = heights[r+1] if r < N-1 else 0 \n",
    "        if l_move > r_move:\n",
    "            min_h = min(min_h, l_move)\n",
    "            l -= 1   \n",
    "        else:\n",
    "            min_h = min(min_h, r_move)\n",
    "            r += 1\n",
    "        underbar += 1\n",
    "        max_area = max(max_area, min_h * underbar)\n",
    "    \n",
    "    return max(func(heights[:mid]), func(heights[mid:]), max_area)\n",
    "    \n",
    "        \n",
    "\n",
    "\n",
    "while True:\n",
    "    inp = list(map(int, input().split()))\n",
    "    if inp[0] == 0:\n",
    "        break\n",
    "\n",
    "    print(func(inp[1:]))"
   ]
  },
  {
   "cell_type": "code",
   "execution_count": null,
   "id": "67737439-a5fc-49bb-a6a3-d6b95b3c8d11",
   "metadata": {},
   "outputs": [],
   "source": [
    "# Recursion Error가 뜬다\n",
    "# def func(left, right):\n",
    "#     \"\"\"여기서 right는 마지막 인덱스 + 1\"\"\"\n",
    "#     length = right - left\n",
    "    \n",
    "#     if length == 1:\n",
    "#         return heights[left]\n",
    "    \n",
    "    \n",
    "#     # 1. 최소값을 갖는 인덱스를 찾는다\n",
    "#     min_value = 1e10 + 1\n",
    "#     min_idx = -1\n",
    "#     for idx in range(left, right):\n",
    "#         if heights[idx] < min_value:\n",
    "#             min_value = heights[idx]\n",
    "#             min_idx = idx\n",
    "    \n",
    "#     # 2. 최소 인덱스를 기준으로 좌우를 나눈다\n",
    "#     if left != min_idx:\n",
    "#         left_lst_value = func(left, min_idx)\n",
    "#     if right != min_idx:\n",
    "#         right_lst_value = func(min_idx + 1, right)\n",
    "#     min_box = min_value * length\n",
    "    \n",
    "#     return max(left_lst_value, right_lst_value, min_box)"
   ]
  },
  {
   "cell_type": "markdown",
   "id": "27b01515-47b4-4050-b8e3-8e7f8e1f4108",
   "metadata": {},
   "source": [
    "### 2. 스택 활용하기\n",
    "0. 기존 리스트의 마지막에 0 값을 append함\n",
    "    - 높이 = 1을 갖는 값까지 구하기 위해\n",
    "1. 스택을 구현함 : `[[0,0]]`부터 시작\n",
    "2. 반복문을 돌리면서 기본적으로 현재 인덱스와 값을 스택에 푸시함\n",
    "3. `현재 인덱스의 값 < 스택 top의 값`일 때 2.를 하기 전에 넓이 계산을 시작함\n",
    "    1. 스택을 pop함\n",
    "    2. pop한 값(value)과, 바로 아래에 있는 value가 동일한 동안 계속 pop 함\n",
    "        - 작은 값을 만나면 이보다 큰 값은 스택에서 pop되므로, 이 결과 남은 stack의 값은 현재 인덱스의 값보다 크고, 최초 스택에서 pop된 값보단 작음\n",
    "    3. 현재 인덱스 값은 직사각형에 포함되지 않는다. 가로 길이는 (현재 인덱스 - 1)에서 (스택 top의 인덱스)를 빼준 값이 됨. 세로는 pop한 value가 된다.\n",
    "    4. 최댓값을 갱신한다.\n",
    "- 이 넓이 계산은 스택 top의 값이 현재 인덱스의 값보다 큰 동안 계속 반복됨\n",
    "- 위에서 언급한 최초 스택 pop 값보다 작고 현재 인덱스의 값보다 큰 경우들을 찾게 되는 것"
   ]
  },
  {
   "cell_type": "code",
   "execution_count": 24,
   "id": "05d6c517-8dc7-47f6-b67e-d45a44aeae02",
   "metadata": {},
   "outputs": [
    {
     "name": "stdout",
     "output_type": "stream",
     "text": [
      "8\n",
      "4000\n"
     ]
    }
   ],
   "source": [
    "import sys\n",
    "sys.stdin = open('test.txt', 'r')\n",
    "input = sys.stdin.readline\n",
    "\n",
    "while True:\n",
    "    inp = input().strip()\n",
    "    \n",
    "    if inp == '0':\n",
    "        break\n",
    "   \n",
    "    lst = list(map(int, inp.split())) # 길이 n+1\n",
    "    lst.append(0) # 길이 n+2\n",
    "    n = lst[0] \n",
    "    \n",
    "    stack = [[0, 0]]\n",
    "    area = 0\n",
    "    for i in range(1, n+2): # 0번 인덱스는 n값이니까 제외\n",
    "        \n",
    "        # push하기 전, push할 값이 top 값보다 작으면 면적을 계산한다.\n",
    "        while lst[i] < stack[-1][1]:\n",
    "            temp_lst = stack.pop()\n",
    "            temp_area = 0\n",
    "            \n",
    "            while stack[-1][1] == temp_lst[1]:\n",
    "                stack.pop()\n",
    "            \n",
    "            temp_area = ((i - 1) - stack[-1][0]) * temp_lst[1]\n",
    "            area = max(temp_area, area)\n",
    "        # 기본적으로 push는 계속 해줌\n",
    "        stack.append([i, lst[i]])\n",
    "        \n",
    "    print(area)"
   ]
  },
  {
   "cell_type": "markdown",
   "id": "f34de0bc-db8f-437e-9bd6-20ee6de52707",
   "metadata": {},
   "source": [
    "### 스택 쓰는 거 최초에 생각한 사람은 진짜 개 천재일거임"
   ]
  },
  {
   "cell_type": "code",
   "execution_count": 32,
   "id": "ff0eb795-d1c3-44e4-ada6-c149cef6b0d3",
   "metadata": {},
   "outputs": [
    {
     "name": "stdout",
     "output_type": "stream",
     "text": [
      "8\n",
      "4000\n"
     ]
    }
   ],
   "source": [
    "# 230226 스택 활용 복습\n",
    "\n",
    "import sys\n",
    "sys.stdin = open('test.txt', 'r')\n",
    "input = sys.stdin.readline\n",
    "\n",
    "while True:\n",
    "    inp = list(map(int, input().split()))\n",
    "    N = inp[0] \n",
    "    if N == 0:\n",
    "        break\n",
    "    \n",
    "    inp.append(0)\n",
    "\n",
    "    stack = [[0, 0]]\n",
    "    max_area = -1\n",
    "\n",
    "    for i in range(1, N+2):\n",
    "        \n",
    "        while inp[i] < stack[-1][1]:\n",
    "            \n",
    "            temp_height = stack.pop()\n",
    "            temp_area = 0\n",
    "            \n",
    "            while stack[-1][1] == temp_height[1]:\n",
    "                stack.pop()\n",
    "            temp_area = ((i - 1) - stack[-1][0]) * temp_height[1]\n",
    "            max_area = max(max_area, temp_area)\n",
    "        stack.append([i, inp[i]])\n",
    "    print(max_area)"
   ]
  },
  {
   "cell_type": "markdown",
   "id": "b76e85c0-d376-44e6-899a-5dbb521f18c7",
   "metadata": {},
   "source": [
    "![으어](겁나긴직사각형.jpg)"
   ]
  },
  {
   "cell_type": "code",
   "execution_count": null,
   "id": "a730cff7-0928-4b17-8029-95507d599717",
   "metadata": {},
   "outputs": [],
   "source": []
  }
 ],
 "metadata": {
  "kernelspec": {
   "display_name": "Python 3 (ipykernel)",
   "language": "python",
   "name": "python3"
  },
  "language_info": {
   "codemirror_mode": {
    "name": "ipython",
    "version": 3
   },
   "file_extension": ".py",
   "mimetype": "text/x-python",
   "name": "python",
   "nbconvert_exporter": "python",
   "pygments_lexer": "ipython3",
   "version": "3.9.13"
  }
 },
 "nbformat": 4,
 "nbformat_minor": 5
}
