{
 "cells": [
  {
   "cell_type": "code",
   "execution_count": 19,
   "id": "713ec9e5-64c2-4fe2-baa4-f840f00ab929",
   "metadata": {},
   "outputs": [
    {
     "name": "stdout",
     "output_type": "stream",
     "text": [
      "((110(0101))(0010)1(0001))"
     ]
    }
   ],
   "source": [
    "import sys\n",
    "sys.stdin = open('test.txt', 'r')\n",
    "input = sys.stdin.readline \n",
    "n = int(input())\n",
    "matrix = []\n",
    "for _ in range(n):\n",
    "    matrix.append(input().strip().split())\n",
    "matrix = sum(matrix, []) # 차원을 낮춰줌\n",
    "\n",
    "\n",
    "\n",
    "# 색종이 만들기랑 유사한데 출력 형태를 만져줘야 함\n",
    "def func(n, start_row, end_row, start_col, end_col):\n",
    "    base = matrix[start_row][start_col]\n",
    "    \n",
    "    if n == 1:\n",
    "        print(base, end=\"\")\n",
    "        return\n",
    "\n",
    "    flag = False \n",
    "    for i in range(start_row, end_row + 1):\n",
    "        if flag:\n",
    "            break\n",
    "        for j in range(start_col, end_col + 1):\n",
    "            if matrix[i][j] != base:\n",
    "                flag = True\n",
    "                break\n",
    "                \n",
    "    \n",
    "    if flag:\n",
    "        print('(', end=\"\")\n",
    "        mid_row = (start_row + end_row) // 2\n",
    "        mid_col = (start_col + end_col) // 2\n",
    "        func(n // 2, start_row, mid_row, start_col, mid_col)\n",
    "        func(n // 2, start_row, mid_row, mid_col + 1, end_col)\n",
    "        func(n // 2, mid_row + 1, end_row, start_col, mid_col)\n",
    "        func(n // 2, mid_row + 1, end_row, mid_col + 1, end_col)\n",
    "        print(')', end = \"\")\n",
    "        \n",
    "        return\n",
    "    \n",
    "\n",
    "    print(base, end = \"\")\n",
    "    \n",
    "func(n, 0, n-1, 0, n-1)"
   ]
  },
  {
   "cell_type": "code",
   "execution_count": 5,
   "id": "ca24acad-b3c0-47d8-8289-4b72be4937bd",
   "metadata": {},
   "outputs": [
    {
     "name": "stdout",
     "output_type": "stream",
     "text": [
      "1\n"
     ]
    }
   ],
   "source": []
  },
  {
   "cell_type": "code",
   "execution_count": null,
   "id": "af2c7ad3-c4f5-46fa-95bc-986305b01218",
   "metadata": {},
   "outputs": [],
   "source": []
  }
 ],
 "metadata": {
  "kernelspec": {
   "display_name": "Python 3 (ipykernel)",
   "language": "python",
   "name": "python3"
  },
  "language_info": {
   "codemirror_mode": {
    "name": "ipython",
    "version": 3
   },
   "file_extension": ".py",
   "mimetype": "text/x-python",
   "name": "python",
   "nbconvert_exporter": "python",
   "pygments_lexer": "ipython3",
   "version": "3.9.13"
  }
 },
 "nbformat": 4,
 "nbformat_minor": 5
}
