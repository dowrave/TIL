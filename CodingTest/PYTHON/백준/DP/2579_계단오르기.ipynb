{
 "cells": [
  {
   "cell_type": "code",
   "execution_count": 19,
   "id": "1d4c0c36-0e12-45ae-874f-8d7d6ab3063c",
   "metadata": {},
   "outputs": [
    {
     "name": "stdout",
     "output_type": "stream",
     "text": [
      "32\n"
     ]
    }
   ],
   "source": [
    "import sys\n",
    "sys.stdin = open('test.txt', 'r')\n",
    "inp = sys.stdin.readline\n",
    "\n",
    "n = int(inp())\n",
    "lst = [int(inp()) for i in range(n)]\n",
    "\n",
    "def func(n):\n",
    "    if n == 1:\n",
    "        return lst[0]\n",
    "    \n",
    "    dp = [[0] * 2 for i in range(n)] # 바로 다음 값을 방문할 수 있으면 1번, 아니면 0번 인덱스\n",
    "    dp[0][0], dp[0][1] = lst[0], lst[0]\n",
    "    dp[1][0], dp[1][1] = dp[0][0] + lst[1], lst[1]\n",
    "    \n",
    "    for i in range(2, n):\n",
    "        dp[i][0] = dp[i-1][1] + lst[i]    \n",
    "        dp[i][1] = max(dp[i-2][0], dp[i-2][1]) + lst[i]\n",
    "    \n",
    "    return max(dp[-1])\n",
    "\n",
    "print(func(n))"
   ]
  },
  {
   "cell_type": "markdown",
   "id": "fbfa189a-33b4-484e-ace4-9574c32df5e4",
   "metadata": {},
   "source": [
    "- \"다음 칸을 밟을 수 있다\" 라는 차원을 추가해주자\n",
    "    - 그게 T라면 1, F라면 0이라고 가정하는 거임\n",
    "  \n",
    "1. 이렇게 가정할 경우 각 칸의 dp는 2개의 값을 가질 수 있음\n",
    "```python\n",
    "dp[i][0] = dp[i-1][1] + lst[i]\n",
    "dp[i][1] = max(dp[i-2][0] + lst[i], dp[i-2][1] + lst[i])\n",
    "```\n",
    "\n",
    "2. 마지막 칸(N-1)의 경우, 총 4가지 경우의 수가 있다\n",
    "```python\n",
    "dp[N-3][0] + lst[N-1]\n",
    "dp[N-3][1] + lst[N-1]\n",
    "dp[N-2][1] + lst[N-1]\n",
    "```\n",
    "- 근데 이 조건은 위에서 정의한거랑 완전히 똑같음"
   ]
  },
  {
   "cell_type": "code",
   "execution_count": null,
   "id": "4d7671a8-fdcf-4c2e-826b-374293983583",
   "metadata": {},
   "outputs": [],
   "source": []
  }
 ],
 "metadata": {
  "kernelspec": {
   "display_name": "Python 3 (ipykernel)",
   "language": "python",
   "name": "python3"
  },
  "language_info": {
   "codemirror_mode": {
    "name": "ipython",
    "version": 3
   },
   "file_extension": ".py",
   "mimetype": "text/x-python",
   "name": "python",
   "nbconvert_exporter": "python",
   "pygments_lexer": "ipython3",
   "version": "3.9.13"
  }
 },
 "nbformat": 4,
 "nbformat_minor": 5
}
