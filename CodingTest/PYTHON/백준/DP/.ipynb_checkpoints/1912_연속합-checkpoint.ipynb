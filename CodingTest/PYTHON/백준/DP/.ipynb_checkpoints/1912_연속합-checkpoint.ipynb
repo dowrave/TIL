{
 "cells": [
  {
   "cell_type": "code",
   "execution_count": 8,
   "id": "0fea74d6-8ec7-4bf0-bd16-beb88b56b874",
   "metadata": {},
   "outputs": [
    {
     "name": "stdout",
     "output_type": "stream",
     "text": [
      "-1\n"
     ]
    }
   ],
   "source": [
    "import sys\n",
    "sys.stdin = open('test.txt', 'r')\n",
    "input = sys.stdin.readline\n",
    "\n",
    "\n",
    "def seq_sum(n):\n",
    "    if n == 1:\n",
    "        return lst[n-1]\n",
    "    \n",
    "    dp_lst = [0] * n\n",
    "    dp_lst[0] = lst[0]\n",
    "\n",
    "    for i in range(1, len(lst)):\n",
    "        dp_lst[i] = max(dp_lst[i-1] + lst[i], lst[i])\n",
    "        \n",
    "    return max(dp_lst)\n",
    "\n",
    "n = int(input())\n",
    "\n",
    "lst = list(map(int, input().split()))\n",
    "\n",
    "print(seq_sum(n))"
   ]
  },
  {
   "cell_type": "markdown",
   "id": "70aa1e5b-834f-4f94-af1e-c7fda75a2b69",
   "metadata": {},
   "source": [
    "연속된 N개의 수를 선택했을 때 최댓값을 찾자\n",
    "- 결국 DP 리스트를 어떻게 구성할까가 핵심인데, \n",
    "```\n",
    "1. 해당 인덱스까지의 최댓값\n",
    "    - 이 경우 이웃하지 않은 인덱스가 더해질 수 있음. 이는 문제에 부합하지 않기 때문에 X\n",
    "  \n",
    "  \n",
    "  \n",
    "2. dp의 각 인덱스는 해당 인덱스의 값을 포함해서 계산함\n",
    "- 즉 예제의 경우\n",
    "    - 0번 인덱스 : 10\n",
    "    - 1번 인덱스 : 6 or -4 (앞의 10이 단독으로 오는 경우는 배제함)\n",
    "    - 2번 인덱스 : 9 or 3\n",
    "        \n",
    "```           "
   ]
  },
  {
   "cell_type": "markdown",
   "id": "f62878bc-57d7-4d01-b041-7032ad7e1e0e",
   "metadata": {},
   "source": []
  }
 ],
 "metadata": {
  "kernelspec": {
   "display_name": "Python 3 (ipykernel)",
   "language": "python",
   "name": "python3"
  },
  "language_info": {
   "codemirror_mode": {
    "name": "ipython",
    "version": 3
   },
   "file_extension": ".py",
   "mimetype": "text/x-python",
   "name": "python",
   "nbconvert_exporter": "python",
   "pygments_lexer": "ipython3",
   "version": "3.9.13"
  }
 },
 "nbformat": 4,
 "nbformat_minor": 5
}
