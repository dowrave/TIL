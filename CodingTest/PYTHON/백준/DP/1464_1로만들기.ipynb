{
 "cells": [
  {
   "cell_type": "code",
   "execution_count": 31,
   "id": "50bf45a0-f77b-4f9a-8d6a-cd55700d5462",
   "metadata": {},
   "outputs": [
    {
     "name": "stdout",
     "output_type": "stream",
     "text": [
      "1\n"
     ]
    }
   ],
   "source": [
    "import sys\n",
    "sys.stdin = open('test.txt', 'r')\n",
    "input = sys.stdin.readline\n",
    "n = int(input())\n",
    "\n",
    "lst = [0] * (n+1)\n",
    "\n",
    "# DP로 구현해야 함 : 재귀로 하면 시간초과\n",
    "# 기존 재귀식을 N에서 시작해서 내려가는 곳마다 표시해뒀다면\n",
    "# 여기서는 아래에서부터 출발하는 방식으로 바꿔서 구현함\n",
    "if n == 1:\n",
    "    print(0)\n",
    "elif n == 2 or n == 3:\n",
    "    print(1)\n",
    "else:\n",
    "    lst[2] = 1\n",
    "    lst[3] = 1\n",
    "    for i in range(4, n+1):\n",
    "        lst[i] = lst[i-1] + 1 # 기본을 i-1보다 1번 더 연산한 것으로 봄\n",
    "        if i % 3 == 0:\n",
    "            lst[i] = min(lst[i // 3] + 1, lst[i])\n",
    "        if i % 2 == 0:\n",
    "            lst[i] = min(lst[i // 2] + 1, lst[i])\n",
    "            \n",
    "    print(lst[n])"
   ]
  },
  {
   "cell_type": "markdown",
   "id": "f7f1f908-737d-456a-bb3e-1661923df01b",
   "metadata": {},
   "source": [
    "1. 길이 n+1의 리스트를 만든다(0번 인덱스는 쓰지 않음)\n",
    "2. n번째 인덱스에 대해 연산을 가했을 때, 해당 인덱스에 대한 함수를 호출하고, 해당 인덱스에 대한 값을 +1 해준다\n",
    "3. 그렇게 반복해서 인덱스가 1로 왔을 때의 최솟값을 선택하면 됨"
   ]
  },
  {
   "cell_type": "code",
   "execution_count": null,
   "id": "0a513e9f-b1b6-485a-86c3-df38640b9fab",
   "metadata": {},
   "outputs": [],
   "source": [
    "def func(n):\n",
    "    if n == 1:\n",
    "        return lst[n]\n",
    "    \"\"\"\n",
    "    최솟값으로 갱신해나가야 하는데, 아예 값이 없으면 또 말은 안됨\n",
    "    그래서 저렇게 넣었는데 더 깔끔하게 넣는 방법 있으면 ㄳ\n",
    "    이 방법은 시간 초과가 뜸 : DP가 없기 때문인 것 같다.\n",
    "    \"\"\"\n",
    "    if n % 3 == 0:\n",
    "        if lst[n//3]:\n",
    "            lst[n//3] = min(lst[n//3], lst[n] + 1)\n",
    "        else:\n",
    "            lst[n//3] = lst[n] + 1\n",
    "        func(n//3)\n",
    "    if n % 2 == 0:\n",
    "        if lst[n//2]:\n",
    "            lst[n//2] = min(lst[n//2], lst[n] + 1)\n",
    "        else:\n",
    "            lst[n//2] =lst[n] + 1\n",
    "        func(n//2)\n",
    "    if lst[n-1]:\n",
    "        lst[n-1] = min(lst[n-1], lst[n] + 1)\n",
    "    else:\n",
    "        lst[n-1] = lst[n] + 1\n",
    "    func(n - 1)\n",
    "func(n)\n",
    "print(lst[1])"
   ]
  }
 ],
 "metadata": {
  "kernelspec": {
   "display_name": "Python 3 (ipykernel)",
   "language": "python",
   "name": "python3"
  },
  "language_info": {
   "codemirror_mode": {
    "name": "ipython",
    "version": 3
   },
   "file_extension": ".py",
   "mimetype": "text/x-python",
   "name": "python",
   "nbconvert_exporter": "python",
   "pygments_lexer": "ipython3",
   "version": "3.9.13"
  }
 },
 "nbformat": 4,
 "nbformat_minor": 5
}
