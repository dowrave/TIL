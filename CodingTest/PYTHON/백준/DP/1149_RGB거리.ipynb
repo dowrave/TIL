{
 "cells": [
  {
   "cell_type": "code",
   "execution_count": 24,
   "id": "39d78d61-015f-463d-b3d5-0538ff3ad593",
   "metadata": {},
   "outputs": [
    {
     "name": "stdout",
     "output_type": "stream",
     "text": [
      "1997\n"
     ]
    }
   ],
   "source": [
    "import sys\n",
    "sys.stdin = open('test.txt', 'r')\n",
    "input = sys.stdin.readline\n",
    "\n",
    "lst = []\n",
    "N = int(input())\n",
    "dp = [[1e6] * 3 for _ in range(N)] # 최댓값은 값 1000이 1000번 들어가는 경우임\n",
    "\n",
    "for i in range(N):\n",
    "    lst.append(list(map(int, input().split())))\n",
    "\n",
    "dp[0] = lst[0]\n",
    "\n",
    "for i in range(1, N):\n",
    "    for j in range(3): # 현재 rgb값\n",
    "        for k in range(3): # 이전 rgb값\n",
    "            if j == k:\n",
    "                continue\n",
    "            dp[i][j] = min(dp[i][j] , dp[i-1][k] + lst[i][j])\n",
    "\n",
    "print(min(dp[N-1]))"
   ]
  },
  {
   "cell_type": "code",
   "execution_count": null,
   "id": "9705e0e4-5aa8-4b38-912e-ba9e1663cef6",
   "metadata": {},
   "outputs": [],
   "source": []
  }
 ],
 "metadata": {
  "kernelspec": {
   "display_name": "Python 3 (ipykernel)",
   "language": "python",
   "name": "python3"
  },
  "language_info": {
   "codemirror_mode": {
    "name": "ipython",
    "version": 3
   },
   "file_extension": ".py",
   "mimetype": "text/x-python",
   "name": "python",
   "nbconvert_exporter": "python",
   "pygments_lexer": "ipython3",
   "version": "3.9.13"
  }
 },
 "nbformat": 4,
 "nbformat_minor": 5
}
