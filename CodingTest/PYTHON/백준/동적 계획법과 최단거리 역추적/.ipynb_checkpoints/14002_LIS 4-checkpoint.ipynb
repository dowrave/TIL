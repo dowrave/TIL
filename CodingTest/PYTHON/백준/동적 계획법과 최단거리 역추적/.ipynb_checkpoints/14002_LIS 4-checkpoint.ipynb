{
 "cells": [
  {
   "cell_type": "markdown",
   "id": "04407b52-6804-45d7-bb16-e5a1b0a2e9ef",
   "metadata": {},
   "source": [
    "- [문제 링크](https://www.acmicpc.net/problem/14002)"
   ]
  },
  {
   "cell_type": "code",
   "execution_count": 36,
   "id": "0582f48f-a225-4093-9de6-269b840590e8",
   "metadata": {
    "tags": []
   },
   "outputs": [
    {
     "name": "stdout",
     "output_type": "stream",
     "text": [
      "3\n",
      "10 20 30\n"
     ]
    }
   ],
   "source": [
    "import sys\n",
    "sys.stdin = open('test.txt', 'r')\n",
    "input = sys.stdin.readline\n",
    "\n",
    "N = int(input())\n",
    "\n",
    "arr = list(map(int, input().split()))\n",
    "\n",
    "INF = int(1e9)\n",
    "dp = [1] * (N)\n",
    "path = [INF] * (N) \n",
    "\n",
    "# 1. O(n^2) 풀이법 \n",
    "for i in range(N): # 현재 인덱스 \n",
    "    for j in range(i): # 이전까지의 인덱스\n",
    "        if arr[i] > arr[j] and dp[j] + 1 > dp[i]:\n",
    "            dp[i] = dp[j] + 1\n",
    "            path[i] = j # 갱신될 때, \"자식 노드\"에 \"부모 노드의 위치를 저장\"한다\n",
    "\n",
    "# 최대 길이를 갖는 인덱스에서 출발하면 되잖음?\n",
    "x = dp.index(max(dp))\n",
    "ans = []\n",
    "\n",
    "while True:\n",
    "    ans.append(arr[x])\n",
    "    if path[x] == INF:\n",
    "        break\n",
    "    x = path[x]\n",
    "\n",
    "print(len(ans))\n",
    "print(*ans[::-1])"
   ]
  }
 ],
 "metadata": {
  "kernelspec": {
   "display_name": "Python 3 (ipykernel)",
   "language": "python",
   "name": "python3"
  },
  "language_info": {
   "codemirror_mode": {
    "name": "ipython",
    "version": 3
   },
   "file_extension": ".py",
   "mimetype": "text/x-python",
   "name": "python",
   "nbconvert_exporter": "python",
   "pygments_lexer": "ipython3",
   "version": "3.9.13"
  }
 },
 "nbformat": 4,
 "nbformat_minor": 5
}
