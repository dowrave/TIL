{
 "cells": [
  {
   "cell_type": "markdown",
   "id": "030855b1-08d4-4439-8d34-ef38cca6e03e",
   "metadata": {},
   "source": [
    "- [문제 링크](https://www.acmicpc.net/problem/11779)\n",
    "- 예제의 3번째 줄에 있는 정답은 `1 3 5`인데, `1 4 5`도 정답이 될 수 있음\n",
    "- 예제랑 달라서 채점해봤는데 맞음"
   ]
  },
  {
   "cell_type": "code",
   "execution_count": 20,
   "id": "4ae00d2e-5cee-4723-a31a-d1544a6557ed",
   "metadata": {},
   "outputs": [
    {
     "name": "stdout",
     "output_type": "stream",
     "text": [
      "[1000000000, 0, 2, 3, 1, 4]\n",
      "[1000000000, 0, 1, 1, 1, 4]\n",
      "4\n",
      "3\n",
      "1 4 5\n"
     ]
    }
   ],
   "source": [
    "import sys\n",
    "import heapq\n",
    "sys.stdin = open('test.txt', 'r')\n",
    "input = sys.stdin.readline\n",
    "\n",
    "N = int(input())\n",
    "M = int(input())\n",
    "graph = [[] for _ in range(N + 1)]\n",
    "\n",
    "for _ in range(M):\n",
    "    a, b, w = map(int, input().split())\n",
    "    graph[a].append((w, b))\n",
    "    \n",
    "start, end = map(int, input().split())\n",
    "\n",
    "def dijkstra(start):\n",
    "    heap_arr = []\n",
    "    INF = int(1e9)\n",
    "    dist_arr = [INF] * (N + 1)\n",
    "    before_arr = [INF] * (N + 1)\n",
    "    # 초기화\n",
    "    dist_arr[start] = 0\n",
    "    before_arr[start] = 0\n",
    "    heapq.heappush(heap_arr, (0, start))\n",
    "    \n",
    "    while heap_arr:\n",
    "        now_dist, now_node = heapq.heappop(heap_arr)\n",
    "        \n",
    "        if dist_arr[now_node] < now_dist:\n",
    "            continue\n",
    "            \n",
    "        for new_dist, new_node in graph[now_node]:\n",
    "            total_dist = now_dist + new_dist\n",
    "            if total_dist < dist_arr[new_node]:\n",
    "                dist_arr[new_node] = total_dist\n",
    "                before_arr[new_node] = now_node\n",
    "                heapq.heappush(heap_arr, (total_dist, new_node))\n",
    "                \n",
    "    return dist_arr, before_arr\n",
    "\n",
    "dist, before = dijkstra(start)\n",
    "# 출력 : 출발 -> 도착 도시의 최소 비용, 경로에 포함된 도시 갯수(전체), 도시 방문 순서\n",
    "\n",
    "print(dist)\n",
    "print(before)\n",
    "\n",
    "ans = []\n",
    "print(dist[end])\n",
    "\n",
    "while True:\n",
    "    ans.append(end)\n",
    "    if before[end] == 0:\n",
    "        break\n",
    "    end = before[end]\n",
    "print(len(ans))\n",
    "print(*ans[::-1])"
   ]
  },
  {
   "cell_type": "markdown",
   "id": "bd26c91b-4d0c-4e37-b453-5698ffc7fb12",
   "metadata": {},
   "source": [
    "- 일단 다익스트라를 구현한다 -> 그 다음 역추적할 방법을 생각해본다\n",
    "- 다익스트라를 $O(Nlog(N))$으로 구현하기 위해 `heapq`를 쓴다(복습)\n",
    "- 그러면 역추적은 어떻게 할 수 있을까?\n",
    "- 이전 노드를 가리키는 배열을 하나 만들고, 값이 최솟값으로 갱신될 때 해당 배열의 다음 인덱스에서 이전 인덱스를 가리키면 되지 않을까?"
   ]
  },
  {
   "cell_type": "code",
   "execution_count": null,
   "id": "88511637-a327-45a3-95a1-6a2ef3501c4c",
   "metadata": {},
   "outputs": [],
   "source": []
  }
 ],
 "metadata": {
  "kernelspec": {
   "display_name": "Python 3 (ipykernel)",
   "language": "python",
   "name": "python3"
  },
  "language_info": {
   "codemirror_mode": {
    "name": "ipython",
    "version": 3
   },
   "file_extension": ".py",
   "mimetype": "text/x-python",
   "name": "python",
   "nbconvert_exporter": "python",
   "pygments_lexer": "ipython3",
   "version": "3.9.13"
  }
 },
 "nbformat": 4,
 "nbformat_minor": 5
}
