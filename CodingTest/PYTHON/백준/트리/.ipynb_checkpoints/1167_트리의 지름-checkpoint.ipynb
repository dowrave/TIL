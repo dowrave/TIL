{
 "cells": [
  {
   "cell_type": "code",
   "execution_count": 22,
   "id": "ed691cb6-49bd-47a9-ac6e-3da5051b1abb",
   "metadata": {},
   "outputs": [
    {
     "name": "stdout",
     "output_type": "stream",
     "text": [
      "11\n"
     ]
    }
   ],
   "source": [
    "import sys\n",
    "sys.setrecursionlimit(int(1e6))\n",
    "sys.stdin = open('test.txt', 'r')\n",
    "input = sys.stdin.readline\n",
    "N = int(input())\n",
    "\n",
    "\n",
    "# 그래프 구성하기\n",
    "graph = [[] for _ in range(N + 1)]\n",
    "\n",
    "for _ in range(N):\n",
    "    temp = tuple(map(int, input().split()))\n",
    "    a = temp[0]\n",
    "    i = 1\n",
    "    while temp[i] != -1: # 1번 ~ -2번 인덱스까지가 그 정점이 갖는 간선임\n",
    "        b, w = temp[i], temp[i+1]\n",
    "        graph[a].append((b, w))\n",
    "        i += 2\n",
    "\n",
    "# 트리의 지름 찾기\n",
    "# 1. 아무 점에 대해 가장 먼 점 a를 찾는다\n",
    "# 2. 점 a에서 가장 먼 점 b를 찾는다\n",
    "# 3. a-b 간의 거리가 트리의 지름이다\n",
    "\n",
    "visited = [-1] * (N + 1) # 방문 겸 거리 배열\n",
    "\n",
    "def dfs(start_node):\n",
    "    for i, w in graph[start_node]:\n",
    "        if visited[i] == -1:\n",
    "            visited[i] = visited[start_node] + w\n",
    "            dfs(i)\n",
    "\n",
    "# 임의의 노드 1을 0으로 놓고 시작\n",
    "visited[1] = 0\n",
    "dfs(1)\n",
    "\n",
    "# 가장 먼 거리의 점 u\n",
    "u = visited.index(max(visited)) \n",
    "visited = [-1] * (N + 1) # 다시 초기화\n",
    "visited[u] = 0\n",
    "dfs(u)\n",
    "print(max(visited))"
   ]
  },
  {
   "cell_type": "markdown",
   "id": "52e2b065-503a-4094-9e5f-43f57343aecd",
   "metadata": {
    "tags": []
   },
   "source": [
    "## 트리의 지름 관련해서는 아예 공식 같은 게 있음\n",
    "1. 임의의 점 X를 잡는다.\n",
    "2. 점 X에서 제일 먼 정점 Y를 찾는다.\n",
    "3. 점 Y에서 제일 먼 정점 Z를 찾는다.\n",
    "- 트리의 지름은 `Y-Z`를 연결하는 길이이다.\n",
    "\n",
    "### 증명\n",
    "- 트리의 지름을 구성하는 양쪽 끝 노드를 A, B라고 하면, A<->B의 경로는 지름을 구성하는 경로가 됨\n",
    "- 임의의 점 노드에서 가장 먼 노드를 u라고 하자\n",
    "- 이 u에 대해 다시 DFS를 돌리게 되면, **2번째 dfs는 이 u를 루트노드로 하는 dfs 탐색을 한다고 할 수 있게 됨**\n",
    "- 따라서 이 루트노드에 대해 가장 멀리 있는 노드까지의 거리가 트리의 지름이라고 할 수 있음"
   ]
  },
  {
   "cell_type": "code",
   "execution_count": null,
   "id": "be16998e-421d-47f8-8251-b59f8d26c583",
   "metadata": {},
   "outputs": [],
   "source": []
  }
 ],
 "metadata": {
  "kernelspec": {
   "display_name": "Python 3 (ipykernel)",
   "language": "python",
   "name": "python3"
  },
  "language_info": {
   "codemirror_mode": {
    "name": "ipython",
    "version": 3
   },
   "file_extension": ".py",
   "mimetype": "text/x-python",
   "name": "python",
   "nbconvert_exporter": "python",
   "pygments_lexer": "ipython3",
   "version": "3.9.13"
  }
 },
 "nbformat": 4,
 "nbformat_minor": 5
}
