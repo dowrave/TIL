{
 "cells": [
  {
   "cell_type": "markdown",
   "id": "2fa7422b-4942-4e53-9913-a12a6f491941",
   "metadata": {},
   "source": [
    "- [문제 링크](https://www.acmicpc.net/problem/5639)\n",
    "- 접근하는 논리는 좀 시간이 걸리더라도 맞게 가는데, 구현하는 과정에서 뭔가 삐끗삐끗하다. ㅎ;;"
   ]
  },
  {
   "cell_type": "code",
   "execution_count": 25,
   "id": "7b181cbe-26b0-42b7-8501-7d2f45e624c7",
   "metadata": {},
   "outputs": [
    {
     "name": "stdout",
     "output_type": "stream",
     "text": [
      "5\n",
      "28\n",
      "24\n",
      "45\n",
      "30\n",
      "60\n",
      "52\n",
      "98\n",
      "50\n"
     ]
    }
   ],
   "source": [
    "import sys\n",
    "\n",
    "# sys.stdin = open('test.txt', 'r')\n",
    "sys.setrecursionlimit(int(1e6))\n",
    "input = sys.stdin.readline\n",
    "\n",
    "preorder_arr = []\n",
    "\n",
    "while True:\n",
    "    N = input()\n",
    "    \n",
    "    if N == '':\n",
    "        break\n",
    "    else:\n",
    "        N = int(N)\n",
    "    preorder_arr.append(N)\n",
    "\n",
    "    \n",
    "def postorder(start_idx, end_idx):\n",
    "    root = preorder_arr[start_idx]\n",
    "\n",
    "    if start_idx == end_idx:\n",
    "        print(root)\n",
    "        return\n",
    "    \n",
    "    mid = start_idx\n",
    "    for i in range(start_idx + 1, end_idx + 1):\n",
    "        if preorder_arr[start_idx] > preorder_arr[i]:\n",
    "            mid = i\n",
    "    \n",
    "    if mid != start_idx:\n",
    "        postorder(start_idx + 1, mid)\n",
    "    if mid != end_idx:\n",
    "        postorder(mid + 1, end_idx) # 오른쪽 서브트리\n",
    "    print(root)\n",
    "\n",
    "postorder(0, len(preorder_arr) - 1)"
   ]
  },
  {
   "cell_type": "markdown",
   "id": "2b934849-208a-4efe-9593-e7e273cd3904",
   "metadata": {},
   "source": [
    "## 이진 검색 트리\n",
    "- 왼쪽 자식 노드는 부모 노드보다 작다\n",
    "- 오른쪽 자식 노드는 부모 노드보다 크다\n",
    "- 서브트리 각각도 이진 검색 트리이다\n",
    "---\n",
    "- Preorder로 알 수 있는 것들을 생각해보자\n",
    "1. 맨 처음 나온 게 루트 노드임\n",
    "2. 루트 노드를 기준으로, 작은 값들은 왼쪽 서브트리, 큰 값들은 오른쪽 서브 트리임 -> 각 서브트리의 0번 노드가 루트 노드인 것도 자명함\n",
    "3. 좌우를 나누는 기준으로 이진 탐색을 생각했는데, 정렬이 필요하기 때문에 메모리를 더 잡아먹을 듯(각 재귀에서 temp 배열의 정렬을 계속해야 하므로)\n",
    "4. 그러면 이렇게 구성할 수 있음\n",
    "```\n",
    "1. 함수는 인풋으로 시작 인덱스와 끝 인덱스를 받음\n",
    "2. 루트 노드는 시작 인덱스임\n",
    "3. 루트 노드의 값보다 배열의 값이 더 작은 곳을 반복문으로 찾음 : 이를 mid라고 했을 때, mid 값은 left 서브트리의 마지막 인덱스임\n",
    "4. 왼쪽 서브트리와 오른쪽 서브트리의 시작 - 끝 인덱스를 줘서 재귀함수를 구현하고, 마지막으로 루트노드를 출력함\n",
    "5. 주어진 좌우인덱스가 동일하다면 그냥 루트 노드를 출력하고 종료함\n",
    "```"
   ]
  }
 ],
 "metadata": {
  "kernelspec": {
   "display_name": "Python 3 (ipykernel)",
   "language": "python",
   "name": "python3"
  },
  "language_info": {
   "codemirror_mode": {
    "name": "ipython",
    "version": 3
   },
   "file_extension": ".py",
   "mimetype": "text/x-python",
   "name": "python",
   "nbconvert_exporter": "python",
   "pygments_lexer": "ipython3",
   "version": "3.9.13"
  }
 },
 "nbformat": 4,
 "nbformat_minor": 5
}
