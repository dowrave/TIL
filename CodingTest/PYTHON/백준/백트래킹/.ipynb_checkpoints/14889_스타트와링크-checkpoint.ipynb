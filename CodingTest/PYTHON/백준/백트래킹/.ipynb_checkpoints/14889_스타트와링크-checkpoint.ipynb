{
 "cells": [
  {
   "cell_type": "code",
   "execution_count": 109,
   "id": "bc9c86f8-0938-4207-902e-5a4aa209aec7",
   "metadata": {},
   "outputs": [
    {
     "name": "stdout",
     "output_type": "stream",
     "text": [
      "2\n"
     ]
    }
   ],
   "source": [
    "import sys\n",
    "sys.stdin = open('test.txt', 'r')\n",
    "input = sys.stdin.readline\n",
    "\n",
    "N = int(input())\n",
    "matrix = []\n",
    "for i in range(N):\n",
    "    matrix.append(list(map(int, input().split())))\n",
    "min_score = 1e4\n",
    "team_A = [-1] * (N // 2)\n",
    "\n",
    "def condition(n):\n",
    "    for i in range(n):\n",
    "        if team_A[i] >= team_A[n]:\n",
    "            return False\n",
    "    return True\n",
    "\n",
    "def dfs(n): \n",
    "    global min_score\n",
    "    if n == N // 2:\n",
    "        score_A = 0\n",
    "        score_B = 0\n",
    "        team_B = list(set([i for i in range(N)]) - set(team_A))\n",
    "        \n",
    "        # 아래 반복문을\n",
    "        for i in range(N // 2):\n",
    "            for j in range(i, N // 2):\n",
    "                a, b = team_A[i], team_A[j]\n",
    "                c, d = team_B[i], team_B[j]\n",
    "                score_A += matrix[a][b] + matrix[b][a]\n",
    "                score_B += matrix[c][d] + matrix[d][c]\n",
    "        \"\"\"\n",
    "        for i in team_A:\n",
    "            for j in team_A:\n",
    "                if i == j: continue\n",
    "                score_A += matrix[i][j]\n",
    "        for i in team_B:\n",
    "            for j in team_B:\n",
    "                if i == j: continue\n",
    "                score_B += matrix[i][j]\n",
    "        \"\"\"\n",
    "        \n",
    "        min_score = min(min_score, abs(score_A - score_B))\n",
    "        return\n",
    "\n",
    "    for i in range(N):\n",
    "        team_A[n] = i\n",
    "        if condition(n):\n",
    "            dfs(n+1)\n",
    "        team_A[n] = -1\n",
    "        \n",
    "dfs(0)\n",
    "print(min_score)"
   ]
  },
  {
   "cell_type": "code",
   "execution_count": 108,
   "id": "4b986bb3-77f2-43f2-bc0c-b50b3decb250",
   "metadata": {},
   "outputs": [
    {
     "name": "stdout",
     "output_type": "stream",
     "text": [
      "2\n"
     ]
    }
   ],
   "source": []
  },
  {
   "cell_type": "code",
   "execution_count": 6,
   "id": "ceda4287-ea31-4e2d-9c5c-b7bee35bcb06",
   "metadata": {},
   "outputs": [],
   "source": []
  },
  {
   "cell_type": "code",
   "execution_count": null,
   "id": "22870ac0-a285-4af0-b4ab-f9ce19a629d4",
   "metadata": {},
   "outputs": [],
   "source": []
  }
 ],
 "metadata": {
  "kernelspec": {
   "display_name": "Python 3 (ipykernel)",
   "language": "python",
   "name": "python3"
  },
  "language_info": {
   "codemirror_mode": {
    "name": "ipython",
    "version": 3
   },
   "file_extension": ".py",
   "mimetype": "text/x-python",
   "name": "python",
   "nbconvert_exporter": "python",
   "pygments_lexer": "ipython3",
   "version": "3.9.13"
  }
 },
 "nbformat": 4,
 "nbformat_minor": 5
}
