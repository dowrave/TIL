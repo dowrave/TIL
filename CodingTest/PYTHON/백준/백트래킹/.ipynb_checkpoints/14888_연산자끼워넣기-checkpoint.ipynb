{
 "cells": [
  {
   "cell_type": "code",
   "execution_count": 68,
   "id": "0d8ed099-e5a4-43ab-9b27-379f6ce4d4cd",
   "metadata": {
    "tags": []
   },
   "outputs": [
    {
     "name": "stdout",
     "output_type": "stream",
     "text": [
      "54\n",
      "-24\n"
     ]
    }
   ],
   "source": [
    "import sys\n",
    "sys.stdin = open('test.txt', 'r')\n",
    "input = sys.stdin.readline\n",
    "\n",
    "N = int(input())\n",
    "nums = list(map(int, input().split()))\n",
    "operators = list(map(int, input().split()))\n",
    "\n",
    "maximum = -1e9\n",
    "minimum = 1e9\n",
    "\n",
    "def solution(value, now, plus, minus, mul, divide):\n",
    "    \n",
    "    global maximum, minimum\n",
    "    \n",
    "    if now == N:\n",
    "        maximum = max(maximum, value)\n",
    "        minimum = min(minimum, value)\n",
    "        return\n",
    "\n",
    "    else:\n",
    "        if plus:\n",
    "            solution(value + nums[now], now+1, plus - 1, minus, mul, divide)\n",
    "        if minus:\n",
    "            solution(value - nums[now], now+1, plus, minus - 1, mul, divide)\n",
    "        if mul:\n",
    "            solution(value * nums[now], now+1, plus, minus, mul - 1, divide)\n",
    "        if divide:\n",
    "            solution(int(value / nums[now]), now + 1 , plus, minus, mul, divide - 1)\n",
    "        \n",
    "solution(nums[0], 1, operators[0], operators[1], operators[2], operators[3])\n",
    "print(maximum)\n",
    "print(minimum)"
   ]
  },
  {
   "cell_type": "markdown",
   "id": "72116101-c192-4862-aa43-7c4bbb998f05",
   "metadata": {},
   "source": [
    "- 예제는 다 맞았는데 몫 연산에서 걸리는 부분이 있었나보다\n",
    "- 음수에 대한 몫 연산은 예를 들면 이렇다"
   ]
  },
  {
   "cell_type": "code",
   "execution_count": 71,
   "id": "26ae9603-f923-4ac8-8e2b-07630f2e4e40",
   "metadata": {},
   "outputs": [
    {
     "data": {
      "text/plain": [
       "-1"
      ]
     },
     "execution_count": 71,
     "metadata": {},
     "output_type": "execute_result"
    }
   ],
   "source": [
    "-5 // 6 # 6 * (-1) + 1"
   ]
  },
  {
   "cell_type": "markdown",
   "id": "8d26ea90-8679-49a9-9ebe-9d80c4f166bc",
   "metadata": {},
   "source": [
    "- 근데 이 문제는 음수 연산을 다르게 정의했다 : 양수로 바꾼다 -> 몫 연산을 한다 -> 결과를 음수로 바꾼다"
   ]
  },
  {
   "cell_type": "markdown",
   "id": "e68eeeb6-2e50-41eb-99e5-d16a73c4d086",
   "metadata": {},
   "source": [
    "- 그래서 +, - 조건에 따라 다르게 구현했었는데 이걸 쉽게 구현한 게 다음과 같음"
   ]
  },
  {
   "cell_type": "code",
   "execution_count": 72,
   "id": "994b27c6-3440-4f7d-8f95-47c6699042e5",
   "metadata": {
    "collapsed": true,
    "jupyter": {
     "outputs_hidden": true
    },
    "tags": []
   },
   "outputs": [
    {
     "ename": "NameError",
     "evalue": "name 'value1' is not defined",
     "output_type": "error",
     "traceback": [
      "\u001b[1;31m---------------------------------------------------------------------------\u001b[0m",
      "\u001b[1;31mNameError\u001b[0m                                 Traceback (most recent call last)",
      "\u001b[1;32m~\\AppData\\Local\\Temp/ipykernel_7368/3455223807.py\u001b[0m in \u001b[0;36m<module>\u001b[1;34m\u001b[0m\n\u001b[1;32m----> 1\u001b[1;33m \u001b[0mint\u001b[0m\u001b[1;33m(\u001b[0m\u001b[0mvalue1\u001b[0m \u001b[1;33m/\u001b[0m \u001b[0mvalue2\u001b[0m\u001b[1;33m)\u001b[0m\u001b[1;33m\u001b[0m\u001b[1;33m\u001b[0m\u001b[0m\n\u001b[0m",
      "\u001b[1;31mNameError\u001b[0m: name 'value1' is not defined"
     ]
    }
   ],
   "source": [
    "int(value1 / value2)"
   ]
  },
  {
   "cell_type": "code",
   "execution_count": null,
   "id": "3a5468e2-d736-4654-8825-f955cf4e775a",
   "metadata": {},
   "outputs": [],
   "source": []
  }
 ],
 "metadata": {
  "kernelspec": {
   "display_name": "Python 3 (ipykernel)",
   "language": "python",
   "name": "python3"
  },
  "language_info": {
   "codemirror_mode": {
    "name": "ipython",
    "version": 3
   },
   "file_extension": ".py",
   "mimetype": "text/x-python",
   "name": "python",
   "nbconvert_exporter": "python",
   "pygments_lexer": "ipython3",
   "version": "3.9.13"
  }
 },
 "nbformat": 4,
 "nbformat_minor": 5
}
