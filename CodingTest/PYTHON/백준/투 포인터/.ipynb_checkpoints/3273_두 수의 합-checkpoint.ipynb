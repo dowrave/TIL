{
 "cells": [
  {
   "cell_type": "markdown",
   "id": "75806291-a8fe-4ed3-ba4a-d2eb9c05cf39",
   "metadata": {},
   "source": [
    "- [문제 링크](https://www.acmicpc.net/problem/3273)"
   ]
  },
  {
   "cell_type": "code",
   "execution_count": 20,
   "id": "a8eea6da-fc79-4ce3-8001-7aab3d973504",
   "metadata": {},
   "outputs": [
    {
     "name": "stdout",
     "output_type": "stream",
     "text": [
      "3\n"
     ]
    }
   ],
   "source": [
    "import sys\n",
    "sys.stdin = open('test.txt' , 'r')\n",
    "input = sys.stdin.readline\n",
    "\n",
    "n = int(input())\n",
    "lst = list(map(int, input().split()))\n",
    "x = int(input())\n",
    "lst.sort()\n",
    "ans = 0\n",
    "\n",
    "start, end = 0, n-1\n",
    "while start < end: \n",
    "    # 왜 등호가 들어가면 틀림?\n",
    "    \n",
    "    if lst[start] + lst[end] == x:\n",
    "        ans += 1\n",
    "        end -= 1 # start += 1로 해도 문제는 통과함\n",
    "        \n",
    "    elif lst[start] + lst[end] < x:\n",
    "        start += 1\n",
    "        \n",
    "    else:\n",
    "        end -= 1\n",
    "\n",
    "print(ans)"
   ]
  },
  {
   "cell_type": "markdown",
   "id": "e8c75b11-1a63-4668-b0fc-01338f4ad1cd",
   "metadata": {},
   "source": [
    "## 투 포인터 알고리즘\n",
    "- 트라이 1 : 무지성 이중 for문 -> 시간 초과\n",
    "- 트라이 2 : `start, end = 0과 n-1`로 잡고 정렬한 다음 `start <= end while 문` 돌리기\n",
    "    - 처음엔 i, j의 관계가 깨져서 안되는 줄 알았는데 사실 이거 말고 딱히 해결책이 없기도 했음\n",
    "    - 근데 **`while start <= end`가 왜 안됨?** 이었는데, 문제에서 (1<= **i < j** <= n이라고 줬음 아ㅋㅋ\n",
    "- 트라이 3 : 누적합 이용하기?\n",
    "    > 근데 누적합은 부분합을 쓰려고 이용하는 건데, 두 점의 쌍의 갯수를 구하는 문제에 누적합이 필요함?"
   ]
  }
 ],
 "metadata": {
  "kernelspec": {
   "display_name": "Python 3 (ipykernel)",
   "language": "python",
   "name": "python3"
  },
  "language_info": {
   "codemirror_mode": {
    "name": "ipython",
    "version": 3
   },
   "file_extension": ".py",
   "mimetype": "text/x-python",
   "name": "python",
   "nbconvert_exporter": "python",
   "pygments_lexer": "ipython3",
   "version": "3.9.13"
  }
 },
 "nbformat": 4,
 "nbformat_minor": 5
}
