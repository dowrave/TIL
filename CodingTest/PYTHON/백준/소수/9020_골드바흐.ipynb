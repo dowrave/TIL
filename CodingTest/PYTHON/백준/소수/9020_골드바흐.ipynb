{
 "cells": [
  {
   "cell_type": "markdown",
   "id": "44d8a737-bd57-40e7-ba89-f56857142f2f",
   "metadata": {},
   "source": [
    "- 2보다 큰 모든 짝수는 두 소수의 합으로 나타낼 수 있다\n",
    "- 가장 차이가 작은 두 소수를 구하시오"
   ]
  },
  {
   "cell_type": "code",
   "execution_count": 41,
   "id": "a8c01d10-b19f-4186-812a-f87ea4647b03",
   "metadata": {},
   "outputs": [
    {
     "name": "stdout",
     "output_type": "stream",
     "text": [
      "3 5\n",
      "5 5\n",
      "5 11\n"
     ]
    }
   ],
   "source": [
    "import sys\n",
    "sys.stdin = open('test.txt', 'r')\n",
    "\n",
    "def find_prime(n):\n",
    "    # 소수 찾기\n",
    "    lst = [1] * (n+1)\n",
    "\n",
    "    for i in range(2, int(n** 0.5) + 1):\n",
    "        if lst[i]:\n",
    "            for j in range(2*i, n+1, i):\n",
    "                lst[j] = 0\n",
    "    \n",
    "    prm = [i for i in range(2, n+1) if lst[i]]\n",
    "    \n",
    "    # 소수 리스트 전체 검색\n",
    "    low = 0\n",
    "    high = len(prm) - 1\n",
    "    gap = 1e4    \n",
    "    \n",
    "    value = [0] * 3\n",
    "    \n",
    "    while low <= high:\n",
    "        if n == prm[low] + prm[high]:\n",
    "            gap = min(gap, prm[high] - prm[low])\n",
    "            value[0] = gap\n",
    "            value[1] = prm[low]\n",
    "            value[2] = prm[high]\n",
    "            \n",
    "            low += 1\n",
    "            high -= 1\n",
    "\n",
    "        elif n > prm[low] + prm[high]:\n",
    "            low += 1\n",
    "\n",
    "        else:\n",
    "            high -= 1\n",
    "    \n",
    "    return value[1], value[2]\n",
    "\n",
    "\n",
    "T = int(sys.stdin.readline())\n",
    "for i in range(T):\n",
    "    N = int(sys.stdin.readline())\n",
    "    s, L = find_prime(N)\n",
    "    print(s, L)"
   ]
  },
  {
   "cell_type": "markdown",
   "id": "0429e337-1b66-43a2-b844-c0497ca4c81b",
   "metadata": {
    "tags": []
   },
   "source": [
    "### 더 나은 방법이 있음\n",
    "- 모든 소수 리스트를 활용할 필요가 없다는 건 알긴 했는데, 어떻게 써야 할지 몰라서 돌아갔음\n",
    "```\n",
    "1. 주어진 숫자의 절반 위치에서 시작\n",
    "2. a, b를 정함 : 둘 모두 주어진 숫자의 절반값(몫 연산)\n",
    "3. 그 a, b가 소수인지 확인\n",
    "4-1. 소수가 아니라면 a는 -, b는 +\n",
    "4-2. 소수라면 두 값 출력하고 종료\n",
    "```"
   ]
  },
  {
   "cell_type": "code",
   "execution_count": 42,
   "id": "a3964b6a-4d77-472e-a5dd-b4ae8879a4a3",
   "metadata": {},
   "outputs": [
    {
     "name": "stdout",
     "output_type": "stream",
     "text": [
      "5 11\n"
     ]
    }
   ],
   "source": [
    "def isprime(n):\n",
    "    for i in range(2, int(n**0.5) + 1):\n",
    "        if n % i == 0:\n",
    "            return False\n",
    "    return True\n",
    "\n",
    "a = N // 2\n",
    "b = N // 2\n",
    "while a > 0:\n",
    "    if isprime(a) and isprime(b):\n",
    "        print(a, b)\n",
    "        break\n",
    "    else:\n",
    "        a -= 1\n",
    "        b += 1"
   ]
  },
  {
   "cell_type": "code",
   "execution_count": null,
   "id": "d440ad31-27eb-43ea-8e12-079f2ce117f1",
   "metadata": {},
   "outputs": [],
   "source": []
  }
 ],
 "metadata": {
  "kernelspec": {
   "display_name": "Python 3 (ipykernel)",
   "language": "python",
   "name": "python3"
  },
  "language_info": {
   "codemirror_mode": {
    "name": "ipython",
    "version": 3
   },
   "file_extension": ".py",
   "mimetype": "text/x-python",
   "name": "python",
   "nbconvert_exporter": "python",
   "pygments_lexer": "ipython3",
   "version": "3.9.13"
  }
 },
 "nbformat": 4,
 "nbformat_minor": 5
}
