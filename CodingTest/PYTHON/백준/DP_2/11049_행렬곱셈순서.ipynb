{
 "cells": [
  {
   "cell_type": "markdown",
   "id": "5eab9886-48e9-45af-aeb5-be8deebdca16",
   "metadata": {},
   "source": [
    "- `pypy3`으로 제출해야 통과됨\n",
    "- 삼중 for문이라 그런듯"
   ]
  },
  {
   "cell_type": "code",
   "execution_count": 9,
   "id": "396c4962-b8f6-4eef-8e6d-acd542e4dd3d",
   "metadata": {},
   "outputs": [
    {
     "name": "stdout",
     "output_type": "stream",
     "text": [
      "90\n"
     ]
    }
   ],
   "source": [
    "import sys\n",
    "sys.stdin = open('test.txt', 'r')\n",
    "input = sys.stdin.readline\n",
    "\n",
    "N = int(input())\n",
    "matrix = [0]ㄴ\n",
    "for _ in range(N):\n",
    "    matrix.append(list(map(int, input().split())))\n",
    "# acc_lst = []\n",
    "dp = [[0] * (N + 1) for _ in range(N + 1)]\n",
    "\n",
    "\n",
    "for length in range(2, N + 1):\n",
    "    for start in range(1, N - length + 2):\n",
    "        # 길이가 length이라면, 종료 인덱스는 start + length - 1이 된다. -1을 기억하자\n",
    "        dp[start][start + length - 1] = min(([dp[start][start + divide - 1] + dp[start+divide][start+length-1] +\n",
    "                                          matrix[start][0] * matrix[start + divide - 1][1] * matrix[start + length - 1][1]\n",
    "                                          for divide in range(1, length)]))\n",
    "print(dp[1][N])"
   ]
  },
  {
   "cell_type": "markdown",
   "id": "cd7face0-1c0e-4244-ab23-413b68b8447a",
   "metadata": {},
   "source": [
    "- 결국 누적합 리스트를 어떻게 만드느냐만 다를 거고\n",
    "- 나머지는 바로 이전에 했던 문제랑 동일해보임\n",
    "- 근데 누적합을 쓸 수 있는 구조인가?\n",
    "    - 각 상황에서 새로 계산되는 구조는 기존 리스트에서 다 이용할 수 있음"
   ]
  },
  {
   "cell_type": "markdown",
   "id": "33296179-4f7d-4b0b-9627-995717d2606f",
   "metadata": {},
   "source": []
  }
 ],
 "metadata": {
  "kernelspec": {
   "display_name": "Python 3 (ipykernel)",
   "language": "python",
   "name": "python3"
  },
  "language_info": {
   "codemirror_mode": {
    "name": "ipython",
    "version": 3
   },
   "file_extension": ".py",
   "mimetype": "text/x-python",
   "name": "python",
   "nbconvert_exporter": "python",
   "pygments_lexer": "ipython3",
   "version": "3.9.13"
  }
 },
 "nbformat": 4,
 "nbformat_minor": 5
}
