{
 "cells": [
  {
   "cell_type": "markdown",
   "id": "a46bfcba-30b3-4689-9c51-18e7f3762dc0",
   "metadata": {},
   "source": [
    "- [문제 링크](https://www.acmicpc.net/problem/1197)"
   ]
  },
  {
   "cell_type": "markdown",
   "id": "adb63e88-fbed-40ea-9b0f-0e95359aa8e6",
   "metadata": {},
   "source": [
    "## Kruksal MST 풀이"
   ]
  },
  {
   "cell_type": "code",
   "execution_count": 22,
   "id": "0b297b70-a095-4043-9bf0-acc443e07a48",
   "metadata": {},
   "outputs": [
    {
     "name": "stdout",
     "output_type": "stream",
     "text": [
      "3\n"
     ]
    }
   ],
   "source": [
    "import sys\n",
    "sys.stdin = open('test.txt' ,'r')\n",
    "input = sys.stdin.readline\n",
    "\n",
    "v, e = map(int, input().split())\n",
    "edge_arr = []\n",
    "for _ in range(e):\n",
    "    a, b, w = map(int, input().split())\n",
    "    edge_arr.append((w, a, b)) # 가중치, 두 정점\n",
    "    \n",
    "    \n",
    "# Kruskal\n",
    "\n",
    "# 1. 오름차순 정렬\n",
    "edge_arr.sort()\n",
    "\n",
    "# 2. 간선 선택 : 정점이 이미 선택되었는지도 알아야 함\n",
    "# 사이클 형성 여부를 알기 위해 union find를 이용한다\n",
    "def find(x):\n",
    "    if parent[x] != x:\n",
    "        parent[x] = find(parent[x])\n",
    "    return parent[x]\n",
    "\n",
    "def union(a, b):\n",
    "    if a == b:\n",
    "        return\n",
    "    \n",
    "    a = find(a)\n",
    "    b = find(b)\n",
    "    \n",
    "    if a > b:\n",
    "        a, b = b, a\n",
    "    \n",
    "    parent[b] = a\n",
    "\n",
    "parent = [i for i in range(v + 1)]\n",
    "ans = 0\n",
    "for w, a, b in edge_arr:\n",
    "    \n",
    "    # 루트 노드가 같다 = 둘을 연결하면 사이클이 생기는 거니까 재낌\n",
    "    if find(a) == find(b):\n",
    "        continue\n",
    "        \n",
    "    union(a, b)\n",
    "    ans += w\n",
    "    \n",
    "print(ans)\n",
    "\n",
    "    "
   ]
  },
  {
   "cell_type": "markdown",
   "id": "d225c583-277c-4c55-91fa-705a6991f7bd",
   "metadata": {},
   "source": [
    "- MST를 구현하는 방법은 2가지가 있다 : Kruskal, Prim\n",
    "- 둘 다 구현해볼 거임\n",
    "---\n",
    "### 사이클 점검은 유니온 파인드로 한다\n"
   ]
  },
  {
   "cell_type": "markdown",
   "id": "26a70d84-a37d-4bde-86a8-b98e3ec44ba3",
   "metadata": {},
   "source": [
    "## Prim MST 풀이"
   ]
  },
  {
   "cell_type": "code",
   "execution_count": 36,
   "id": "3527c41e-02cc-4c47-92a2-f3a4afd60cb2",
   "metadata": {},
   "outputs": [
    {
     "data": {
      "text/plain": [
       "3"
      ]
     },
     "execution_count": 36,
     "metadata": {},
     "output_type": "execute_result"
    }
   ],
   "source": [
    "import sys\n",
    "import heapq\n",
    "sys.stdin = open('test.txt' ,'r')\n",
    "input = sys.stdin.readline\n",
    "\n",
    "v, e = map(int, input().split())\n",
    "graph = [[] for _ in range(v + 1)]\n",
    "\n",
    "for _ in range(e):\n",
    "    a, b, w = map(int, input().split())\n",
    "    graph[a].append([w, b])\n",
    "    graph[b].append([w, a])\n",
    "\n",
    "visited = [0] * (v + 1)\n",
    "\n",
    "def prim(start_node):\n",
    "    \n",
    "    visited[start_node] = 1\n",
    "    heap = []\n",
    "    mst = []\n",
    "    for i in graph[start_node]:\n",
    "        heapq.heappush(heap, i)\n",
    "    ans = 0\n",
    "    \n",
    "    while heap:\n",
    "        weight, now_node = heapq.heappop(heap)\n",
    "        \n",
    "        # 이중으로 조건을 주는 이유는, heapq는 계속 순서가 바뀌니까 \n",
    "        # 그 사이에 방문해버릴 수도 있기 때문. \n",
    "        # 뒤에서는 더 큰 가중치가 오니까\n",
    "        if visited[now_node] == 0:\n",
    "            visited[now_node] = 1\n",
    "            mst.append(now_node)\n",
    "            ans += weight\n",
    "            \n",
    "            for w, next_node in graph[now_node]:\n",
    "                if visited[next_node] == 0:\n",
    "                    heapq.heappush(heap, [w, next_node])\n",
    "\n",
    "    return ans\n",
    "\n",
    "print(prim(1))"
   ]
  },
  {
   "cell_type": "code",
   "execution_count": null,
   "id": "9b73203e-1fe0-4183-a0b9-8f9eb6cdb1d9",
   "metadata": {},
   "outputs": [],
   "source": []
  }
 ],
 "metadata": {
  "kernelspec": {
   "display_name": "Python 3 (ipykernel)",
   "language": "python",
   "name": "python3"
  },
  "language_info": {
   "codemirror_mode": {
    "name": "ipython",
    "version": 3
   },
   "file_extension": ".py",
   "mimetype": "text/x-python",
   "name": "python",
   "nbconvert_exporter": "python",
   "pygments_lexer": "ipython3",
   "version": "3.9.13"
  }
 },
 "nbformat": 4,
 "nbformat_minor": 5
}
