{
 "cells": [
  {
   "cell_type": "code",
   "execution_count": 3,
   "id": "0a8745e9-d4cf-4c69-82c6-33ae3375e17a",
   "metadata": {},
   "outputs": [
    {
     "name": "stdout",
     "output_type": "stream",
     "text": [
      "0\n",
      "2\n",
      "1\n",
      "3\n",
      "2\n",
      "1\n",
      "0\n",
      "0\n"
     ]
    }
   ],
   "source": [
    "import sys\n",
    "import heapq\n",
    "sys.stdin = open('test.txt', 'r')\n",
    "input = sys.stdin.readline\n",
    "\n",
    "N = int(input())\n",
    "h = []\n",
    "\n",
    "for _ in range(N):\n",
    "    value = int(input())\n",
    "    \n",
    "    if value == 0:\n",
    "        if h == []:\n",
    "            print(0)\n",
    "            continue\n",
    "        else:\n",
    "            print(heapq.heappop(h)[1])\n",
    "    \n",
    "    else:\n",
    "        heapq.heappush(h, (-value, value))"
   ]
  },
  {
   "cell_type": "code",
   "execution_count": null,
   "id": "681357a8-6812-44b6-845b-bdda6a26eb6f",
   "metadata": {},
   "outputs": [],
   "source": []
  }
 ],
 "metadata": {
  "kernelspec": {
   "display_name": "Python 3 (ipykernel)",
   "language": "python",
   "name": "python3"
  },
  "language_info": {
   "codemirror_mode": {
    "name": "ipython",
    "version": 3
   },
   "file_extension": ".py",
   "mimetype": "text/x-python",
   "name": "python",
   "nbconvert_exporter": "python",
   "pygments_lexer": "ipython3",
   "version": "3.9.13"
  }
 },
 "nbformat": 4,
 "nbformat_minor": 5
}
