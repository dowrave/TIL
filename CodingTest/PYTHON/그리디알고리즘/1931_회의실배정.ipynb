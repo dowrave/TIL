{
 "cells": [
  {
   "cell_type": "code",
   "execution_count": 51,
   "id": "06766abb-7219-4795-b886-97d231955cb7",
   "metadata": {},
   "outputs": [
    {
     "name": "stdout",
     "output_type": "stream",
     "text": [
      "4\n"
     ]
    }
   ],
   "source": [
    "import sys\n",
    "sys.stdin = open('test.txt' ,'r')\n",
    "input = sys.stdin.readline\n",
    "\n",
    "N = int(input())\n",
    "lst = []\n",
    "for _ in range(N):\n",
    "    lst.append(list(map(int, input().split())))\n",
    "\n",
    "# 들어오는 두 값 모두 정렬해줘야 함 : 끝나는 시간에 우선순위가 있음\n",
    "lst.sort(key = lambda x: (x[1], x[0]))\n",
    "\n",
    "count = 0\n",
    "base_end = 0\n",
    "\n",
    "for i in range(N):\n",
    "    if lst[i][0] >= base_end:\n",
    "        base_end = lst[i][1]\n",
    "        count += 1\n",
    "print(count)"
   ]
  },
  {
   "cell_type": "markdown",
   "id": "41e4cda7-60d4-4c23-92e9-ed85bc728e07",
   "metadata": {},
   "source": [
    "![회의실](회의실.jpg)"
   ]
  },
  {
   "cell_type": "code",
   "execution_count": null,
   "id": "b67e4916-c76f-4880-97fb-831fc4b92e15",
   "metadata": {},
   "outputs": [],
   "source": []
  }
 ],
 "metadata": {
  "kernelspec": {
   "display_name": "Python 3 (ipykernel)",
   "language": "python",
   "name": "python3"
  },
  "language_info": {
   "codemirror_mode": {
    "name": "ipython",
    "version": 3
   },
   "file_extension": ".py",
   "mimetype": "text/x-python",
   "name": "python",
   "nbconvert_exporter": "python",
   "pygments_lexer": "ipython3",
   "version": "3.9.13"
  }
 },
 "nbformat": 4,
 "nbformat_minor": 5
}
