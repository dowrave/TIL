{
 "cells": [
  {
   "cell_type": "code",
   "execution_count": 29,
   "id": "f38502f8-7f9c-41d0-acf1-d6cca746efbb",
   "metadata": {},
   "outputs": [
    {
     "name": "stdout",
     "output_type": "stream",
     "text": [
      "0\n"
     ]
    }
   ],
   "source": [
    "import sys\n",
    "sys.stdin = open('test.txt', 'r')\n",
    "input = sys.stdin.readline\n",
    "string = input().strip()\n",
    "\n",
    "# 최솟값은 -가 관여할 거임\n",
    "# -가 등장하는 지점부터 다음 -가 등장하는 지점까지를 묶어주면 \n",
    "# 최대한 큰 값을 뺄 수 있을 것임\n",
    "\n",
    "lst = string.split('-')\n",
    "lst = list(map(lambda x: list(map(int, x.split('+'))), lst))\n",
    "value = sum(lst[0])\n",
    "if len(lst) >= 1:   \n",
    "    for i in range(1, len(lst)):\n",
    "        value -= sum(lst[i])\n",
    "print(value)"
   ]
  },
  {
   "cell_type": "code",
   "execution_count": null,
   "id": "79b50ea5-a43f-4bce-bfe3-e6d92753ff0a",
   "metadata": {},
   "outputs": [],
   "source": []
  }
 ],
 "metadata": {
  "kernelspec": {
   "display_name": "Python 3 (ipykernel)",
   "language": "python",
   "name": "python3"
  },
  "language_info": {
   "codemirror_mode": {
    "name": "ipython",
    "version": 3
   },
   "file_extension": ".py",
   "mimetype": "text/x-python",
   "name": "python",
   "nbconvert_exporter": "python",
   "pygments_lexer": "ipython3",
   "version": "3.9.13"
  }
 },
 "nbformat": 4,
 "nbformat_minor": 5
}
