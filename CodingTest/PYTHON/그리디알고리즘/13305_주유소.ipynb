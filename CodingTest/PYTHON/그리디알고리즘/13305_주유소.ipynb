{
 "cells": [
  {
   "cell_type": "code",
   "execution_count": 26,
   "id": "4bf41951-1efa-4ed8-b165-1f60685e0fa5",
   "metadata": {},
   "outputs": [
    {
     "name": "stdout",
     "output_type": "stream",
     "text": [
      "18\n"
     ]
    }
   ],
   "source": [
    "import sys\n",
    "sys.stdin = open('test.txt', 'r')\n",
    "input = sys.stdin.readline\n",
    "\n",
    "N = int(input())\n",
    "dist = list(map(int, input().split()))\n",
    "# dist[i]는 i번째 도시에서 i+1 번째 도시까지의 거리\n",
    "price = list(map(int, input().split()))\n",
    "\n",
    "value = 0\n",
    "last = 0 \n",
    "for i in range(N-1): # price 기준\n",
    "    \n",
    "    if i != last:\n",
    "        continue\n",
    "    \n",
    "    move = dist[i]\n",
    "    \n",
    "    for j in range(i+1, N):\n",
    "        \n",
    "        if j == N-1:\n",
    "            value += move * price[i]\n",
    "            break\n",
    "        \n",
    "        if price[i] <= price[j]:\n",
    "            move += dist[j]\n",
    "\n",
    "        else:\n",
    "            value += move * price[i]\n",
    "            last = j\n",
    "            break\n",
    "    \n",
    "print(value)"
   ]
  },
  {
   "cell_type": "markdown",
   "id": "85cd0874-99b0-40f4-a087-e96bb745263b",
   "metadata": {},
   "source": [
    "- 그러면 각 도시에서 다음 도시들의 기름 값을 살펴봄\n",
    "    - 만약 더 작은 기름 값이 있는 도시라면 반복을 멈추고, 현재 도시의 가격 * 그 도시까지의 거리를 더함\n",
    "    - 기름 값이 같거나 크다면 거리만 더해줌\n",
    "        - 거리를 더해줄 때 다음 출발점을 거기로 잡아야 함"
   ]
  },
  {
   "cell_type": "code",
   "execution_count": null,
   "id": "4cb70773-8317-4de1-b2ef-e94102fa8b02",
   "metadata": {},
   "outputs": [],
   "source": []
  }
 ],
 "metadata": {
  "kernelspec": {
   "display_name": "Python 3 (ipykernel)",
   "language": "python",
   "name": "python3"
  },
  "language_info": {
   "codemirror_mode": {
    "name": "ipython",
    "version": 3
   },
   "file_extension": ".py",
   "mimetype": "text/x-python",
   "name": "python",
   "nbconvert_exporter": "python",
   "pygments_lexer": "ipython3",
   "version": "3.9.13"
  }
 },
 "nbformat": 4,
 "nbformat_minor": 5
}
