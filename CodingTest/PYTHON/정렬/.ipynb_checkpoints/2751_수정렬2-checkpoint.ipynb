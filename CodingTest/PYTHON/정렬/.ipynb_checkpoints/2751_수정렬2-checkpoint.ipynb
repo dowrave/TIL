{
 "cells": [
  {
   "cell_type": "markdown",
   "id": "7d7d0c07-7583-4bfa-8793-9bae4ca890ee",
   "metadata": {},
   "source": [
    "## 이거도 시간초과 뜬다\n",
    "- 결국 `sorted` 쓰는 거 밖에 없나 봄\n",
    "- 백준에서도 언어에 내장된 정렬 함수를 쓰라고 함"
   ]
  },
  {
   "cell_type": "code",
   "execution_count": 4,
   "id": "5e247578-3632-4fb4-aac3-a87d90d5212c",
   "metadata": {},
   "outputs": [],
   "source": [
    "import sys\n",
    "sys.stdin = open('test.txt', 'r')\n",
    "\n",
    "def my_quick(arr):\n",
    "    \n",
    "    def sort(low, high):\n",
    "        if low >= high:\n",
    "            return\n",
    "        \n",
    "        mid = partition(low, high)\n",
    "        sort(low, mid - 1)\n",
    "        sort(mid, high)\n",
    "        \n",
    "    def partition(low, high):\n",
    "        pivot = arr[(low + high) // 2]\n",
    "        while low <= high:\n",
    "            \n",
    "            while arr[low] < pivot:\n",
    "                low += 1\n",
    "                \n",
    "            while pivot < arr[high]:\n",
    "                high -= 1\n",
    "                \n",
    "            if low <= high:\n",
    "                arr[low], arr[high] = arr[high], arr[low]\n",
    "                low += 1\n",
    "                high -= 1\n",
    "            \n",
    "        return low\n",
    "    \n",
    "    return sort(0, len(arr) - 1)\n",
    "\n",
    "N = int(sys.stdin.readline())\n",
    "inp = []\n",
    "\n",
    "for i in range(N):\n",
    "    inp.append(int(sys.stdin.readline()))\n",
    "\n",
    "my_quick(inp)"
   ]
  },
  {
   "cell_type": "code",
   "execution_count": 5,
   "id": "03b20c34-fe0b-4874-824d-765e62efc670",
   "metadata": {},
   "outputs": [],
   "source": []
  },
  {
   "cell_type": "code",
   "execution_count": 6,
   "id": "09b1b3d0-f4bf-49ea-8506-337996ecc7d5",
   "metadata": {},
   "outputs": [
    {
     "name": "stdout",
     "output_type": "stream",
     "text": [
      "[1, 2, 3, 4, 5]\n"
     ]
    }
   ],
   "source": [
    "print(inp)"
   ]
  },
  {
   "cell_type": "code",
   "execution_count": null,
   "id": "b65ae4ba-8394-42bf-b892-a282c4060e1c",
   "metadata": {},
   "outputs": [],
   "source": []
  }
 ],
 "metadata": {
  "kernelspec": {
   "display_name": "Python 3 (ipykernel)",
   "language": "python",
   "name": "python3"
  },
  "language_info": {
   "codemirror_mode": {
    "name": "ipython",
    "version": 3
   },
   "file_extension": ".py",
   "mimetype": "text/x-python",
   "name": "python",
   "nbconvert_exporter": "python",
   "pygments_lexer": "ipython3",
   "version": "3.9.13"
  }
 },
 "nbformat": 4,
 "nbformat_minor": 5
}
