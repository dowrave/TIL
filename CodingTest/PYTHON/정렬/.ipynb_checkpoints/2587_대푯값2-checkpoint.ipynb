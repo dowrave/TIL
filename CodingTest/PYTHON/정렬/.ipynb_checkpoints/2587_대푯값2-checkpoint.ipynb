{
 "cells": [
  {
   "cell_type": "code",
   "execution_count": 15,
   "id": "69b40283-c575-43dc-bace-0bed2a4a75e7",
   "metadata": {},
   "outputs": [
    {
     "name": "stdout",
     "output_type": "stream",
     "text": [
      "34\n",
      "30\n"
     ]
    }
   ],
   "source": [
    "import sys\n",
    "sys.stdin = open('test.txt', 'r')\n",
    "\n",
    "# 5개의 10의 배수가 주어졌을 때 평균과 중앙값을 구하라는 건데\n",
    "lst = [0] * 11 # 0번 인덱스는 제외함\n",
    "for i in range(5):\n",
    "    inp = int(sys.stdin.readline()) // 10\n",
    "    lst[inp] += 1\n",
    "\n",
    "target = []\n",
    "for i in range(len(lst)):\n",
    "    for j in range(lst[i]):\n",
    "        target.append(i * 10)\n",
    "\n",
    "summ = 0\n",
    "for i in range(len(target)):\n",
    "    summ += target[i]\n",
    "avg = summ // len(target)\n",
    "mid = target[len(target) // 2]\n",
    "\n",
    "print(avg)\n",
    "print(mid)"
   ]
  },
  {
   "cell_type": "code",
   "execution_count": null,
   "id": "e60b5b84-d8d7-446f-bf60-c074f6540735",
   "metadata": {},
   "outputs": [],
   "source": []
  }
 ],
 "metadata": {
  "kernelspec": {
   "display_name": "Python 3 (ipykernel)",
   "language": "python",
   "name": "python3"
  },
  "language_info": {
   "codemirror_mode": {
    "name": "ipython",
    "version": 3
   },
   "file_extension": ".py",
   "mimetype": "text/x-python",
   "name": "python",
   "nbconvert_exporter": "python",
   "pygments_lexer": "ipython3",
   "version": "3.9.13"
  }
 },
 "nbformat": 4,
 "nbformat_minor": 5
}
