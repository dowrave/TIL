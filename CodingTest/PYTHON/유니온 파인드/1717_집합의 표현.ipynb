{
 "cells": [
  {
   "cell_type": "markdown",
   "id": "8323ec41-2192-41dc-840e-75278c6638a6",
   "metadata": {},
   "source": [
    "- [문제 링크](https://www.acmicpc.net/problem/1717)"
   ]
  },
  {
   "cell_type": "code",
   "execution_count": 13,
   "id": "18b26c12-7c1b-43a6-8208-6e72e8e0a94c",
   "metadata": {},
   "outputs": [
    {
     "name": "stdout",
     "output_type": "stream",
     "text": [
      "NO\n",
      "NO\n",
      "YES\n"
     ]
    }
   ],
   "source": [
    "import sys\n",
    "sys.stdin = open('test2.txt', 'r')\n",
    "sys.setrecursionlimit(int(1e6))\n",
    "input = sys.stdin.readline\n",
    "\n",
    "n, m = map(int, input().split())\n",
    "parent = [i for i in range(n + 1)]\n",
    "\n",
    "def find(x):\n",
    "    if parent[x] != x:\n",
    "        parent[x] = find(parent[x]) # 갱신해주는 게 필요\n",
    "    return parent[x]\n",
    "\n",
    "def union(a, b):\n",
    "    # 루트 노드를 찾는다\n",
    "    a = find(a)\n",
    "    b = find(b)\n",
    "    \n",
    "    # 없어도 됨\n",
    "    # if a == b:\n",
    "    #     return \n",
    "    \n",
    "    # 두 집합을 합치는 부분\n",
    "    if a < b:\n",
    "        parent[b] = a\n",
    "    else:\n",
    "        parent[a] = b\n",
    "\n",
    "for _ in range(m):\n",
    "    op, a, b = map(int, input().split())\n",
    "    \n",
    "    if op == 0:\n",
    "        union(a, b)\n",
    "    elif op == 1:\n",
    "        \n",
    "        # 여기 조건을 parent[a] == parent[b]로 하면 틀림\n",
    "        # 왜일까?\n",
    "        # \n",
    "        if find(a) == find(b):\n",
    "            print(\"YES\")\n",
    "        else:\n",
    "            print(\"NO\")"
   ]
  },
  {
   "cell_type": "markdown",
   "id": "a6917d11-e1fc-448a-98be-71f0e2904133",
   "metadata": {},
   "source": [
    "### 마지막의 조건을 `parent[a] == parent[b]`로 하면 틀리는 이유\n",
    "- 생각해보면 `union`문에서 값들이 수정되는 지점들은 어떤 점부터 루트노드 가지이고, 그 루트노드끼리 연결되는 것까지 진행됨\n",
    "--- \n",
    "#### 예시(트리로 이해해도 좋다)\n",
    "- 출처 : 내 뇌\n",
    "1. 어떤 두개의 트리가 있고, 분리된 상태의 루트 노드 값을 가지고 있던 어떤 노드`a`가 있다고 생각해보자\n",
    "2. 근데 이 노드보다 루트 노드에 가까운 노드`b`에 대해 `Union`이 발생했다고 생각해보자. 이 때, `b`부터 루트 노드까지의 점이 가리키는 노드는 기존의 루트노드일 수도 있지만, **다른 트리의 루트 노드일 수도 있다.**\n",
    "3. 하지만 **1.에서 언급된 `a`가 기존의 루트 노드를 가리킨다는 점은 변하지 않을 것이다.** 왜냐면 `find` 연산이 연결된 모든 노드에 대해 적용되는 게 아니라, 주어진 점부터 루트 노드까지의 경로에 있는 모든 점에 적용되기 때문이다.\n",
    "4. 따라서 만약 이어져 있냐고 물어봤을 때의 현상태를 반영하기 위해 `find`연산을 각 점에 대해 수행해야 한다."
   ]
  },
  {
   "cell_type": "markdown",
   "id": "52aa2cae-c008-4ba5-a38d-be30f5c6c704",
   "metadata": {},
   "source": []
  }
 ],
 "metadata": {
  "kernelspec": {
   "display_name": "Python 3 (ipykernel)",
   "language": "python",
   "name": "python3"
  },
  "language_info": {
   "codemirror_mode": {
    "name": "ipython",
    "version": 3
   },
   "file_extension": ".py",
   "mimetype": "text/x-python",
   "name": "python",
   "nbconvert_exporter": "python",
   "pygments_lexer": "ipython3",
   "version": "3.9.13"
  }
 },
 "nbformat": 4,
 "nbformat_minor": 5
}
