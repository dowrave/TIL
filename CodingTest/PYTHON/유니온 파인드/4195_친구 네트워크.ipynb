{
 "cells": [
  {
   "cell_type": "markdown",
   "id": "60993071-b679-4fb2-9415-6034c0174e84",
   "metadata": {},
   "source": [
    "- [문제 링크](https://www.acmicpc.net/problem/4195)\n",
    "- 계속 2명이 연결되는 인풋이 주어졌을 때\n",
    "- 이 2명을 포함하는 그래프 전체의 노드 수를 구해라는 문제"
   ]
  },
  {
   "cell_type": "code",
   "execution_count": 26,
   "id": "07ddf319-0cdd-49ab-8656-708f3b4d36ab",
   "metadata": {},
   "outputs": [
    {
     "name": "stdout",
     "output_type": "stream",
     "text": [
      "2\n"
     ]
    }
   ],
   "source": [
    "import sys\n",
    "from collections import deque\n",
    "sys.stdin = open('test2.txt', 'r')\n",
    "sys.setrecursionlimit(int(1e6))\n",
    "input = sys.stdin.readline\n",
    "\n",
    "def find(x):\n",
    "    if parent[x] != x:\n",
    "        parent[x] = find(parent[x])\n",
    "    return parent[x]\n",
    "\n",
    "def union(a, b):\n",
    "    \n",
    "    a = find(a)\n",
    "    b = find(b)\n",
    "    \n",
    "    # 루트 노드가 같다면 바로 끝\n",
    "    if a == b:\n",
    "        return\n",
    "    \n",
    "    # 루트 노드는 더 작은 값을 고르겠음\n",
    "    if a > b : a, b = b, a\n",
    "    \n",
    "    # a가 무조건 더 작으니까\n",
    "    parent[b] = a\n",
    "    \n",
    "    # 두 루트 노드에서 각각의 그래프에 연결된 노드 수를 저장함\n",
    "    # 두 그래프가 합쳐진다면, 인덱스가 더 작은 값을 루트 노드로 하기로 했으니까 \n",
    "    # 인덱스 값이 더 작은 그래프 a에 b의 노드 수를 더해준다.\n",
    "    size[a] += size[b]\n",
    "   \n",
    "\n",
    "    \n",
    "T = int(input())\n",
    "for _ in range(T):\n",
    "    F = int(input())\n",
    "    \n",
    "    node = 1\n",
    "    dct = {} # key로 이름, value로 배열의 인덱스를 저장\n",
    "    \n",
    "    # 인덱스 에러 주의 : 0번 인덱스는 빼야 하니까 1을 더해줌\n",
    "    parent = [i for i in range(2 * F + 1)] \n",
    "    size = [1 for i in range(2 * F + 1)] \n",
    "    \n",
    "    for _ in range(F):\n",
    "        a, b = input().strip().split()\n",
    "        \n",
    "        # 1. 각 인물에 번호 부여\n",
    "        for i in [a, b]:\n",
    "            if i not in dct.keys():\n",
    "                dct[i] = node\n",
    "                node += 1\n",
    "        a, b = dct[a], dct[b] # str -> index : 없어도 됨\n",
    "        \n",
    "        \n",
    "        # 2. 두 점을 union함\n",
    "        union(a, b)\n",
    "            \n",
    "        # 3. size 배열에서 루트 노드에만 그래프의 크기를 저장했으니까\n",
    "        # 마지막 출력에서도 루트 노드를 찾은 다음 그 중 큰 값을 출력해야 함\n",
    "        a_root, b_root = find(a), find(b)\n",
    "        print(max(size[a_root], size[b_root]))\n",
    "        "
   ]
  },
  {
   "cell_type": "markdown",
   "id": "76c89bff-36a4-4c66-9c09-2a749af97d90",
   "metadata": {},
   "source": [
    "## 어떻게 노드의 개수를 셀 수 있을까?\n",
    "- BFS를 이용하면 물론 나오긴 하겠지만, 별도로 방문 배열과 그래프 배열을 구현해야 쓸 수 있음\n",
    "- 부모 노드의 인덱스 배열이랑 사전 갖고 풀 수 있을까?\n",
    "---\n",
    "- (아이디어만 대충 찾아서 봄)\n",
    "- **그래프 노드의 수를 갖는 배열을 별도로 갖게 해보자**\n",
    "1. `parent`와 별도로 `size` 배열을 초기화함\n",
    "2. 이 `size` 배열은 그래프를 구성하는 **루트 노드에 해당 그래프의 크기를 저장함**\n",
    "3. `union` 상황을 생각해보자\n",
    "    - 1. 루트 노드를 찾는 함수는 `find` 였음\n",
    "    - 2. 그래프가 합쳐지는 상황이라면, 주어진 두 점의 루트 노드를 `find`로 찾음\n",
    "    - 3. 루트 노드의 결정은 기존 유니언 파인드에서 \"연결되었다면 더 작은 값의 인덱스\" 였으니까, 한 쪽 값의 루트 노드의 `size`값에 다른 루트 노드의 `size` 값을 더해나가면 됨"
   ]
  },
  {
   "cell_type": "markdown",
   "id": "aed68593-8bdd-4cd7-a705-ecfa9716569e",
   "metadata": {},
   "source": []
  }
 ],
 "metadata": {
  "kernelspec": {
   "display_name": "Python 3 (ipykernel)",
   "language": "python",
   "name": "python3"
  },
  "language_info": {
   "codemirror_mode": {
    "name": "ipython",
    "version": 3
   },
   "file_extension": ".py",
   "mimetype": "text/x-python",
   "name": "python",
   "nbconvert_exporter": "python",
   "pygments_lexer": "ipython3",
   "version": "3.9.13"
  }
 },
 "nbformat": 4,
 "nbformat_minor": 5
}
