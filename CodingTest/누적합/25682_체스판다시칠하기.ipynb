{
 "cells": [
  {
   "cell_type": "code",
   "execution_count": 5,
   "id": "7924df41-6c2f-4380-831e-b99d5fb5bb5d",
   "metadata": {},
   "outputs": [
    {
     "name": "stdout",
     "output_type": "stream",
     "text": [
      "0 2\n",
      "2 0\n",
      "2 2\n"
     ]
    }
   ],
   "source": [
    "import sys\n",
    "sys.stdin = open('test.txt', 'r')\n",
    "input = sys.stdin.readline\n",
    "\n",
    "N, M, K = map(int, input().split())\n",
    "# 보드 크기 M*N, 잘라낸 보드 크기 K*K\n",
    "matrix = []\n",
    "for _ in range(M):\n",
    "    matrix.append(input().strip())\n",
    "\n",
    "dp = [[0] * N for _ in range(M)]\n",
    "\n"
   ]
  },
  {
   "cell_type": "markdown",
   "id": "84100c37-fef4-49a2-92ca-121c87b184da",
   "metadata": {},
   "source": [
    "### 누적합을 어떻게 쓸까가 고민\n",
    "- 체스판을 구성하는 경우는 2가지이다 : 왼쪽 위가 W거나 B거나\n",
    "- 그 2가지 경우에 대해 체스판의 각 인덱스는 수정해야 하면 1, 아니라면 0 값을 얻을 수 있음\n",
    "- 좌상단부터 해당 인덱스까지 고쳐야 하는 최소 개수를 넣으면 됨"
   ]
  },
  {
   "cell_type": "code",
   "execution_count": null,
   "id": "e6666c23-f0a4-4f0e-89b0-5d18f1d32be3",
   "metadata": {},
   "outputs": [],
   "source": []
  }
 ],
 "metadata": {
  "kernelspec": {
   "display_name": "Python 3 (ipykernel)",
   "language": "python",
   "name": "python3"
  },
  "language_info": {
   "codemirror_mode": {
    "name": "ipython",
    "version": 3
   },
   "file_extension": ".py",
   "mimetype": "text/x-python",
   "name": "python",
   "nbconvert_exporter": "python",
   "pygments_lexer": "ipython3",
   "version": "3.9.13"
  }
 },
 "nbformat": 4,
 "nbformat_minor": 5
}
