{
 "cells": [
  {
   "cell_type": "code",
   "execution_count": 23,
   "id": "bfc92b31-a193-4fb9-8cd7-b7b5e9abfeb0",
   "metadata": {},
   "outputs": [
    {
     "name": "stdout",
     "output_type": "stream",
     "text": [
      "27\n",
      "6\n",
      "64\n"
     ]
    }
   ],
   "source": [
    "import sys\n",
    "sys.stdin = open('test.txt', 'r')\n",
    "input = sys.stdin.readline\n",
    "\n",
    "N, M = map(int, input().split())\n",
    "matrix = []\n",
    "\n",
    "for _ in range(N):\n",
    "    matrix.append(list(map(int, input().split())))\n",
    "\n",
    "# 2차원 누적합 리스트 : 왼쪽과 상단을 더한 값이 내 값임\n",
    "dp = [[0] * (N+1) for _ in range(N+1)]\n",
    "dp[1][1] = matrix[0][0]\n",
    "\n",
    "for i in range(N):\n",
    "    for j in range(N):\n",
    "        if i>0 and j>0:\n",
    "            dp[i+1][j+1] = dp[i][j+1] + dp[i+1][j] + matrix[i][j] - dp[i][j]\n",
    "        elif i == 0 and j>0:\n",
    "            dp[i+1][j+1] = dp[i+1][j] + matrix[i][j]\n",
    "        elif i > 0 and j == 0:\n",
    "            dp[i+1][j+1] = dp[i][j+1] + matrix[i][j]\n",
    "\n",
    "# 특정 영역의 값 구하기\n",
    "# 누적합을 이용한다면 위 식의 if식과 가장 유사하게 들어감\n",
    "# 인풋은 인덱스 + 1 로 들어온다 -> 그냥 -1만 해줘도 됨\n",
    "\n",
    "for _ in range(M):\n",
    "    x1, y1, x2, y2 = map(int, input().split())\n",
    "    # 0. x2행 y2열까지의 누적합에서\n",
    "    # 1. x1-1행 y2열까지의 누적합을 빼주고\n",
    "    # 2. x2행 y1-1열까지의 누적합을 빼주고\n",
    "    # 3. (x1-1)행 (y1-1)열까지의 누적합을 더해주면 될 듯?\n",
    "    part0 = dp[x2][y2]\n",
    "    part1 = dp[x1-1][y2]\n",
    "    part2 = dp[x2][y1-1]\n",
    "    part3 = dp[x1-1][y1-1]\n",
    "    ans = part0 - part1 - part2 + part3\n",
    "    print(ans)"
   ]
  },
  {
   "cell_type": "code",
   "execution_count": null,
   "id": "744294e3-8d38-469e-98c6-9fa576b64e34",
   "metadata": {},
   "outputs": [],
   "source": []
  }
 ],
 "metadata": {
  "kernelspec": {
   "display_name": "Python 3 (ipykernel)",
   "language": "python",
   "name": "python3"
  },
  "language_info": {
   "codemirror_mode": {
    "name": "ipython",
    "version": 3
   },
   "file_extension": ".py",
   "mimetype": "text/x-python",
   "name": "python",
   "nbconvert_exporter": "python",
   "pygments_lexer": "ipython3",
   "version": "3.9.13"
  }
 },
 "nbformat": 4,
 "nbformat_minor": 5
}
