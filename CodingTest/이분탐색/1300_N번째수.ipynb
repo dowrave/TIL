{
 "cells": [
  {
   "cell_type": "code",
   "execution_count": 26,
   "id": "5a45083e-cb1f-44d5-a072-8eaec255d7f0",
   "metadata": {},
   "outputs": [
    {
     "name": "stdout",
     "output_type": "stream",
     "text": [
      "1 5 9 6\n",
      "6 7 9 8\n",
      "6 6 7 8\n",
      "6\n"
     ]
    }
   ],
   "source": [
    "import sys\n",
    "sys.stdin = open('test.txt', 'r')\n",
    "input = sys.stdin.readline\n",
    "N = int(input())\n",
    "k = int(input())\n",
    "\n",
    "# 230208 다시 풀기\n",
    "left = 1\n",
    "right = N ** 2 # 이전 풀이는 k라고 적혀 있던데 왜인지 모르겠어서 가장 직관적으로 적어둠\n",
    "\n",
    "while left < right:\n",
    "    mid = (left + right) // 2\n",
    "    count = 0\n",
    "    \n",
    "    for i in range(1, N + 1):\n",
    "        count += min(mid // i, N)\n",
    "    \n",
    "    print(left, mid, right, count)\n",
    "    \n",
    "    if count < k:\n",
    "        left = mid + 1\n",
    "    else:\n",
    "        right = mid\n",
    "\n",
    "print(right)"
   ]
  },
  {
   "cell_type": "markdown",
   "id": "dceb43c3-d51e-443a-a4d7-dbc9162cf83f",
   "metadata": {},
   "source": [
    "![이미지](1300_2.jpg)"
   ]
  },
  {
   "cell_type": "markdown",
   "id": "86a9dd28-06f0-4df9-9134-882e3ab93292",
   "metadata": {},
   "source": [
    "- 집 가면서 생각이 든 건데\n",
    "    - `lower_bound`는 여러 개의 같은 값이 있다면 가장 작은 인덱스를 찾는다.\n",
    "    - `upper_bound`는 `가장 큰 인덱스 + 1` 번째 인덱스를 찾는다.\n",
    "    - 왜냐면 위 두 알고리즘은 어떤 값을 정렬된 배열에 넣을 때 `어떤 인덱스에 넣을까?`에 대한 내용이기 때문이다.\n",
    "- ~따라서 **갯수가 1개인 어떤 특정한 인덱스**만을 찾고자 한다면, `lower_bound` 알고리즘을 쓰는 게 맞다 `upper_bound`를 쓰면 +1번째 인덱스를 반환하기 때문이다~\n",
    "- ㄴㄴ 위 이유가 아니다\n",
    "> 탐색 대상은 모든 숫자임 : 그런데 행렬에 들어가는 수는 정해져 있음  \n",
    "> 즉, k번째 인덱스에 들어가는 숫자는 위 검색대로 하면 여러 개가 있음 - 그 중에서 최솟값을 찾아야 하기 때문에 `lower_bound` 알고리즘을 사용하는 것임"
   ]
  },
  {
   "cell_type": "markdown",
   "id": "7d0abba0-5f11-4622-893b-e00b8a01d61a",
   "metadata": {},
   "source": [
    "- 이진 탐색문이 비슷하게 작동하더라도 조건이 다르면 결과가 다를 수 있다\n",
    "- 아래가 원본에 가까우니까, 가급적 이걸로 기억해두도록 하자\n",
    "```python\n",
    "def lower_bound(arr, target):\n",
    "\tleft = 0\n",
    "\tright = len(arr) - 1\n",
    "\n",
    "\twhile left < right:\n",
    "\t\tmid = (left + right) // 2\n",
    "\n",
    "\t\tif arr[mid] < target: \n",
    "\t\t\tleft = mid + 1\n",
    "\t\telse:\n",
    "\t\t\tright = mid\n",
    "\n",
    "\treturn right\n",
    "```\n",
    "\n",
    "```python\n",
    "def upper_bound(arr, target):\n",
    "\tleft = 0\n",
    "\tright = len(arr) - 1\n",
    "\n",
    "\twhile left < right:\n",
    "\t\tmid = (left + right) // 2\n",
    "\n",
    "\t\tif arr[mid] <= target:\n",
    "\t\t\tleft = mid + 1\n",
    "\t\telse:\n",
    "\t\t\tright = mid\n",
    "\n",
    "\treturn right\n",
    "```"
   ]
  },
  {
   "cell_type": "markdown",
   "id": "54224a30-d7dd-4a5c-9960-7bdc0e60cd81",
   "metadata": {},
   "source": [
    "## 왜 작동하지?를 생각하는게 빡세다\n",
    "- 그냥 그러려니 해야겠어\n",
    "- 조건식만 잘 세우면 자동으로 작동하더라~"
   ]
  }
 ],
 "metadata": {
  "kernelspec": {
   "display_name": "Python 3 (ipykernel)",
   "language": "python",
   "name": "python3"
  },
  "language_info": {
   "codemirror_mode": {
    "name": "ipython",
    "version": 3
   },
   "file_extension": ".py",
   "mimetype": "text/x-python",
   "name": "python",
   "nbconvert_exporter": "python",
   "pygments_lexer": "ipython3",
   "version": "3.9.13"
  }
 },
 "nbformat": 4,
 "nbformat_minor": 5
}
