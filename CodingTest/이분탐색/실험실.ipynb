{
 "cells": [
  {
   "cell_type": "markdown",
   "id": "6d317239-d039-4226-8828-6c47e1c5470c",
   "metadata": {},
   "source": [
    "- 구현하기 귀찮으니까 라이브러리의 힘을 빌린다"
   ]
  },
  {
   "cell_type": "code",
   "execution_count": 1,
   "id": "7a9f8fbc-840c-485f-931a-ef9ef60de926",
   "metadata": {},
   "outputs": [],
   "source": [
    "from bisect import bisect_left, bisect_right"
   ]
  },
  {
   "cell_type": "code",
   "execution_count": 2,
   "id": "6b5f3999-5f8d-44db-b48f-53e4167ae8d8",
   "metadata": {},
   "outputs": [],
   "source": [
    "lst = [10, 20, 30, 40, 50]"
   ]
  },
  {
   "cell_type": "markdown",
   "id": "40efcc17-b233-4347-9c14-aed0ea76dff0",
   "metadata": {},
   "source": [
    "### 테스트 1. 리스트에 없는 값"
   ]
  },
  {
   "cell_type": "code",
   "execution_count": 4,
   "id": "5a650657-afd2-4831-9e71-f96b9f5530aa",
   "metadata": {},
   "outputs": [
    {
     "data": {
      "text/plain": [
       "(2, 2)"
      ]
     },
     "execution_count": 4,
     "metadata": {},
     "output_type": "execute_result"
    }
   ],
   "source": [
    "bisect_left(lst, 25), bisect_right(lst, 25)"
   ]
  },
  {
   "cell_type": "markdown",
   "id": "afa4c70b-b9c1-440f-a647-1106fc63be0b",
   "metadata": {},
   "source": [
    "- 이런 생각이 들 수 있다.\n",
    "    - 이진 탐색이 정렬의 순위를 해치지 않고 값을 넣는다면, 1번째 인덱스에 넣어도 되는 거 아닌가?\n",
    "    - 따라서 생각을 이렇게 바꾸자 : **이진 탐색이 반환하는 인덱스는 target값보다 크기 시작하는 인덱스이다**\n",
    "    \n",
    "- 또한 `bisect_left`와 `bisect_right`가 동일한 결괏값을 반환하고 있는 것도 주목해보자"
   ]
  },
  {
   "cell_type": "markdown",
   "id": "e3870378-38e5-4296-893c-da9960819f26",
   "metadata": {},
   "source": [
    "### 테스트 2. 리스트에 있는 값"
   ]
  },
  {
   "cell_type": "code",
   "execution_count": 5,
   "id": "9bdf82b2-355b-484b-9986-cf3b41428ab9",
   "metadata": {},
   "outputs": [
    {
     "data": {
      "text/plain": [
       "(2, 3)"
      ]
     },
     "execution_count": 5,
     "metadata": {},
     "output_type": "execute_result"
    }
   ],
   "source": [
    "bisect_left(lst, 30), bisect_right(lst, 30)"
   ]
  },
  {
   "cell_type": "markdown",
   "id": "fb2e5c93-292b-44af-93fb-190029a47765",
   "metadata": {},
   "source": [
    "- 타겟값이 리스트에 있다면, \n",
    "    - `bisect_left`는 해당 타겟값의 인덱스 자체를,\n",
    "    - `bisect_right`는 해당 타겟값의 인덱스 + 1 을 반환한다."
   ]
  },
  {
   "cell_type": "markdown",
   "id": "aae8efc0-be00-4e35-a997-adb2a559fe6a",
   "metadata": {},
   "source": [
    "### 테스트 3. 리스트의 여러 값"
   ]
  },
  {
   "cell_type": "code",
   "execution_count": 6,
   "id": "5c855372-2614-4c83-81a2-7e11cb99bfcc",
   "metadata": {},
   "outputs": [
    {
     "data": {
      "text/plain": [
       "(1, 4)"
      ]
     },
     "execution_count": 6,
     "metadata": {},
     "output_type": "execute_result"
    }
   ],
   "source": [
    "lst2 = [10, 20, 20, 20, 30]\n",
    "bisect_left(lst2, 20), bisect_right(lst2, 20)"
   ]
  },
  {
   "cell_type": "markdown",
   "id": "26878917-5dab-4f8d-bec9-28770e2e8488",
   "metadata": {},
   "source": [
    "![정리](이진탐색정리.jpg)"
   ]
  },
  {
   "cell_type": "code",
   "execution_count": null,
   "id": "5ba833fc-a6ad-4997-818c-e4a066c8f7cf",
   "metadata": {},
   "outputs": [],
   "source": []
  }
 ],
 "metadata": {
  "kernelspec": {
   "display_name": "Python 3 (ipykernel)",
   "language": "python",
   "name": "python3"
  },
  "language_info": {
   "codemirror_mode": {
    "name": "ipython",
    "version": 3
   },
   "file_extension": ".py",
   "mimetype": "text/x-python",
   "name": "python",
   "nbconvert_exporter": "python",
   "pygments_lexer": "ipython3",
   "version": "3.9.13"
  }
 },
 "nbformat": 4,
 "nbformat_minor": 5
}
