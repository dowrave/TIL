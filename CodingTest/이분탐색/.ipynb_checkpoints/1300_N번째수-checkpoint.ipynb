{
 "cells": [
  {
   "cell_type": "code",
   "execution_count": 29,
   "id": "5a45083e-cb1f-44d5-a072-8eaec255d7f0",
   "metadata": {},
   "outputs": [
    {
     "name": "stdout",
     "output_type": "stream",
     "text": [
      "1 5 9\n",
      "6\n",
      "6 7 9\n",
      "8\n",
      "6 6 6\n",
      "8\n",
      "6\n"
     ]
    }
   ],
   "source": [
    "import sys\n",
    "sys.stdin = open('test.txt', 'r')\n",
    "input = sys.stdin.readline\n",
    "N = int(input())\n",
    "k = int(input())\n",
    "\n",
    "start = 1\n",
    "end = N**2 # end를 뭘로 놔야 함?\n",
    "ans = 0\n",
    "\n",
    "while start <= end:\n",
    "    mid = (start + end) // 2\n",
    "    print(start, mid, end)\n",
    "    count = 0\n",
    "        \n",
    "    for i in range(1, N+1):\n",
    "        count += min(mid // i , N)\n",
    "    print(count)\n",
    "    # 결국 k값에 대해 돌리는 거잖음\n",
    "    # k값은 결국 자기보다 작은 숫자의 개수를 찾는 거임\n",
    "    # count가 더 크다면 mid 값이 너무 높은 거니까 낮춰야 함\n",
    "    \n",
    "    \n",
    "    if count >= k:\n",
    "        end = mid - 1\n",
    "        ans = mid # 왜 ans 조건이 여기 들어갈까?\n",
    "    else:\n",
    "        start = mid + 1\n",
    "        \n",
    "        \n",
    "\n",
    "        \n",
    "print(ans)"
   ]
  },
  {
   "cell_type": "markdown",
   "id": "3c983fd3-81e1-4fe0-8018-b4187000ad22",
   "metadata": {},
   "source": [
    "![이미지](1300.jpg)"
   ]
  },
  {
   "cell_type": "markdown",
   "id": "f6ec7c90-f88c-4dbc-86f4-b483ff11e9f9",
   "metadata": {},
   "source": [
    "- A[i][j]는 i*j이다(인덱스는 1부터 시작)\n",
    "- 이를 행렬 B에 넣고 오름차순 정렬했을 때 B[k]를 구하시오"
   ]
  },
  {
   "cell_type": "markdown",
   "id": "3d005a9b-6892-42c3-b9cb-a484bbcf4350",
   "metadata": {},
   "source": [
    "## 이분탐색 문제인 걸 알아도, \"어떤 조건\"을 거치느냐를 판별하는 게 중요하다"
   ]
  },
  {
   "cell_type": "markdown",
   "id": "86a9dd28-06f0-4df9-9134-882e3ab93292",
   "metadata": {},
   "source": [
    "- N * N 행렬임\n",
    "- 각 행에 대해 생각해보자 \n",
    "- 현재 수를 mid라고 보면\n",
    "- 각 행에 mid보다 작은 수는 mid // i 개일 것이다\n",
    "    - 근데 각 행에 들어가는 최대 개수는 n개니까 mid // i가 더 클 수도 있다.\n",
    "    - 따라서 `min(mid // i, n)`이 됨\n",
    "- 이걸 1부터 n+1번째 인덱스까지 반복하면 됨\n",
    "    - 이중 for문을 돌릴 필요가 없다 : 규칙이 있기 때문에 바로 구할 수 있음\n",
    "- 그 결과 갯수와 k값을 비교하면 됨\n",
    "- 근데 왜 "
   ]
  },
  {
   "cell_type": "code",
   "execution_count": null,
   "id": "e8af6c5b-fe05-4ffa-95e4-cbd723b33018",
   "metadata": {},
   "outputs": [],
   "source": []
  }
 ],
 "metadata": {
  "kernelspec": {
   "display_name": "Python 3 (ipykernel)",
   "language": "python",
   "name": "python3"
  },
  "language_info": {
   "codemirror_mode": {
    "name": "ipython",
    "version": 3
   },
   "file_extension": ".py",
   "mimetype": "text/x-python",
   "name": "python",
   "nbconvert_exporter": "python",
   "pygments_lexer": "ipython3",
   "version": "3.9.13"
  }
 },
 "nbformat": 4,
 "nbformat_minor": 5
}
