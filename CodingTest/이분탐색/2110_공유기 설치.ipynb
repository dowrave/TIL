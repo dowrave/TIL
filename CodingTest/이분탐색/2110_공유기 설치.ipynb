{
 "cells": [
  {
   "cell_type": "code",
   "execution_count": 8,
   "id": "67a714cc-953f-467c-8997-dd5ee4046520",
   "metadata": {},
   "outputs": [
    {
     "name": "stdout",
     "output_type": "stream",
     "text": [
      "1 4 8\n",
      "1 2 3\n",
      "3 3 3\n",
      "3\n"
     ]
    }
   ],
   "source": [
    "import sys\n",
    "sys.stdin = open('test.txt', 'r')\n",
    "input = sys.stdin.readline\n",
    "\n",
    "N, C = map(int, input().split())\n",
    "loc = []\n",
    "for _ in range(N):\n",
    "    loc.append(int(input()))\n",
    "loc.sort()\n",
    "\n",
    "# 요점은\n",
    "# 1. 정렬했다면 마지막 인덱스와 1번째 인덱스 사이의 거리가 최대 거리임\n",
    "# 2. 1부터 최대 거리를 대상으로 이분 탐색한다.\n",
    "# 3. 이 때 기준이 되는 mid 값은 공유기를 설치할 수 있는 최소 거리가 된다.\n",
    "# 4. 현재 위치를 0번째 인덱스로 정하고, i번째 인덱스와의 거리를 계산해 조건을\n",
    "# 만족한다면 현재 위치를 i번째 인덱스로 개선하고 값을 1 추가한다\n",
    "# 5. 이렇게 계산한 공유기의 수와 C값을 비교해 더 깊게 들어간다\n",
    "# 6. 이 문제는 최대 거리를 찾는 문제이므로, 오른쪽을 탐색하는 조건에 ans를 넣는다\n",
    "\n",
    "start = 1\n",
    "end = loc[-1] - loc[0]\n",
    "ans = 0\n",
    "while start <= end:\n",
    "    mid = (start + end) // 2\n",
    "    print(start, mid, end)\n",
    "    \n",
    "    now = loc[0]\n",
    "    count = 1 # 거리가 어떻든 1개는 무조건 놓을 수 있다!\n",
    "    \n",
    "    for i in range(N):\n",
    "        if loc[i] - now >= mid:\n",
    "            count += 1\n",
    "            now = loc[i]\n",
    "    \n",
    "    if count >= C:\n",
    "        ans = mid\n",
    "        start = mid + 1\n",
    "        \n",
    "    else:\n",
    "        end = mid - 1\n",
    "\n",
    "print(ans)\n"
   ]
  },
  {
   "cell_type": "markdown",
   "id": "3b5083bd-27a6-4bbd-9629-f9cc782d2d1f",
   "metadata": {},
   "source": [
    "#### ㄹㅇ 어떻게 풀어야 하는지 생각도 안듬\n",
    "N개의 리스트에서 C개를 뽑아 구성할 때, 가장 인접한 두 공유기 사이의 거리가 최대여야 함\n",
    "- 조건식을 어떻게 구성할지가 포인트겠다. \n",
    "1. 탐색 범위 : 거리 (1부터 리스트에서 최대로 나올 수 있는 길이)\n",
    "2. 현재 위치를 lst[0]으로 지정한다. `current = lst[0]`\n",
    "3. 각 위치에 대해 `lst[i] - current`을 생각해볼 수 있음\n",
    "    - 즉 현재 위치에서 i번째 위치까지의 거리이다\n",
    "4. 그리고 `mid`값도 있다. \n",
    "    - `mid`값은 공유기를 설치하기 위한 최소 거리라고 생각해보자\n",
    "5. `3.`과 `4.`를 비교해서 `3.`이 `mid`값보다 크거나 같으면 설치 가능하다는 의미이므로 하나를 세준다\n",
    "    - 오름차순으로 정렬했기 때문에 여기서 `current`를 `lst[i]`로 갱신해야 한다\n",
    "6. 결과적으로 설치된 공유기의 개수와 C값을 비교한다\n",
    "    - C값이 더 크면 너무 큰 간격으로 공유기가 설치되었다는 의미가 되겠다. 왼쪽을 탐색한다.\n",
    "    - C값이 더 작다면 너무 작은 간격으로 공유기가 설치되었다는 의미다. 오른쪽을 탐색한다.\n",
    "    - C값과 동일하다면 그 중 최댓값을 찾아야 하기 때문에 오른쪽 탐색에 포함시킨다. 아니면 따로 ans 값을 놔도 무방함"
   ]
  },
  {
   "cell_type": "markdown",
   "id": "b0414b89-4e14-42c6-b1df-814fa49b3514",
   "metadata": {},
   "source": [
    "## 즉,\n",
    "- 문제는 공유기를 N개의 집에 설치했을 때 가장 인접한 공유기 간 최대 거리를 구하라는 것이지만, \n",
    "- 풀이는 **거리를 정해놓고 그게 C개의 값을 만족하는가 & 그 중 최댓값을 찾는 것**임"
   ]
  },
  {
   "cell_type": "code",
   "execution_count": null,
   "id": "744552fd-637c-481a-88a0-f834dcd01003",
   "metadata": {},
   "outputs": [],
   "source": []
  }
 ],
 "metadata": {
  "kernelspec": {
   "display_name": "Python 3 (ipykernel)",
   "language": "python",
   "name": "python3"
  },
  "language_info": {
   "codemirror_mode": {
    "name": "ipython",
    "version": 3
   },
   "file_extension": ".py",
   "mimetype": "text/x-python",
   "name": "python",
   "nbconvert_exporter": "python",
   "pygments_lexer": "ipython3",
   "version": "3.9.13"
  }
 },
 "nbformat": 4,
 "nbformat_minor": 5
}
