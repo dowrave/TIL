{
 "cells": [
  {
   "cell_type": "code",
   "execution_count": 78,
   "id": "f4cc3c81-9db5-4624-8410-bb982b2c45cd",
   "metadata": {
    "tags": []
   },
   "outputs": [
    {
     "name": "stdout",
     "output_type": "stream",
     "text": [
      "1 2 3 4\n",
      "1 2 4 3\n",
      "1 3 2 4\n",
      "1 3 4 2\n",
      "1 4 2 3\n",
      "1 4 3 2\n",
      "2 1 3 4\n",
      "2 1 4 3\n",
      "2 3 1 4\n",
      "2 3 4 1\n",
      "2 4 1 3\n",
      "2 4 3 1\n",
      "3 1 2 4\n",
      "3 1 4 2\n",
      "3 2 1 4\n",
      "3 2 4 1\n",
      "3 4 1 2\n",
      "3 4 2 1\n",
      "4 1 2 3\n",
      "4 1 3 2\n",
      "4 2 1 3\n",
      "4 2 3 1\n",
      "4 3 1 2\n",
      "4 3 2 1\n"
     ]
    }
   ],
   "source": [
    "import sys\n",
    "sys.stdin = open('test.txt', 'r')\n",
    "input = sys.stdin.readline\n",
    "\n",
    "N, M = map(int, input().split())\n",
    "\n",
    "# 출력이 n번째로 방문한 노드 순서임을 감안하면\n",
    "def dfs(m):\n",
    "    \n",
    "    if m == M:\n",
    "        print(\" \".join(map(str, ans)))\n",
    "        return\n",
    "    \n",
    "    for i in range(1, N+1):\n",
    "        \n",
    "        # 아 중복이 안되니까?\n",
    "        if i in ans:\n",
    "            continue\n",
    "        \n",
    "        ans[m] = i\n",
    "        dfs(m+1)\n",
    "        ans[m] = 0\n",
    "    \n",
    "\n",
    "ans = [0] * M\n",
    "dfs(0)"
   ]
  },
  {
   "cell_type": "code",
   "execution_count": 69,
   "id": "3392acdb-9a89-4b93-ad21-86b1c97efc75",
   "metadata": {},
   "outputs": [
    {
     "data": {
      "text/plain": [
       "False"
      ]
     },
     "execution_count": 69,
     "metadata": {},
     "output_type": "execute_result"
    }
   ],
   "source": []
  },
  {
   "cell_type": "code",
   "execution_count": null,
   "id": "8aa7f8a8-2c83-42c3-a837-b53a090e01f9",
   "metadata": {},
   "outputs": [],
   "source": []
  }
 ],
 "metadata": {
  "kernelspec": {
   "display_name": "Python 3 (ipykernel)",
   "language": "python",
   "name": "python3"
  },
  "language_info": {
   "codemirror_mode": {
    "name": "ipython",
    "version": 3
   },
   "file_extension": ".py",
   "mimetype": "text/x-python",
   "name": "python",
   "nbconvert_exporter": "python",
   "pygments_lexer": "ipython3",
   "version": "3.9.13"
  }
 },
 "nbformat": 4,
 "nbformat_minor": 5
}
