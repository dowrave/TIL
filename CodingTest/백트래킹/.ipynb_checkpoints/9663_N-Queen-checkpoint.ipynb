{
 "cells": [
  {
   "cell_type": "markdown",
   "id": "37cf170d-16ca-4105-8ad2-e7d8b041a772",
   "metadata": {},
   "source": [
    "### 다시봐도 어렵다"
   ]
  },
  {
   "cell_type": "code",
   "execution_count": 55,
   "id": "8d5769a0-c99d-47e0-a766-f4d7cac949a8",
   "metadata": {},
   "outputs": [
    {
     "name": "stdout",
     "output_type": "stream",
     "text": [
      "0\n"
     ]
    }
   ],
   "source": [
    "import sys\n",
    "sys.stdin = open('test.txt', 'r')\n",
    "N = int(sys.stdin.readline())\n",
    "\n",
    "lst = [0] * (N + 1) # 1번 인덱스부터 이용하자\n",
    "\n",
    "\n",
    "count = 0\n",
    "\n",
    "def condition(i, lst):\n",
    "    k = 1\n",
    "    \n",
    "    while k < i:\n",
    "        if abs(lst[k] - lst[i]) == i - k:\n",
    "            return False\n",
    "        k += 1\n",
    "    \n",
    "    return True\n",
    "\n",
    "def n_queens(i, lst):\n",
    "    \n",
    "    global count\n",
    "    \n",
    "    if i == N + 1:\n",
    "        count += 1\n",
    "        return\n",
    "    \n",
    "    for j in range(1, N+1): # 수만 N개면 상관 없는데, 위에서 리스트에 0을 넣었으니까 여기선 1부터 N개를 구현함\n",
    "\n",
    "        if condition(j, lst) and j in lst:\n",
    "            lst[i] = j\n",
    "            n_queens(i+1, lst)\n",
    "            lst[i] = 0 \n",
    "        \n",
    "n_queens(1, lst)\n",
    "print(count)"
   ]
  },
  {
   "cell_type": "code",
   "execution_count": 57,
   "id": "bf2566ec-8e4a-4005-bc4b-2fe80ddb74b1",
   "metadata": {},
   "outputs": [
    {
     "name": "stdout",
     "output_type": "stream",
     "text": [
      "92\n"
     ]
    }
   ],
   "source": [
    "import sys\n",
    "sys.stdin = open('test.txt', 'r')\n",
    "input = sys.stdin.readline\n",
    "N = int(input())\n",
    "\n",
    "# 세로줄 조건은 함수로 빼지 않고 반복문 자체에서 걸러줄 수 있음\n",
    "# 기본 dfs\n",
    "def n_queens(x):\n",
    "    global answer\n",
    "    \n",
    "    if x == N:\n",
    "        answer += 1\n",
    "        return\n",
    "    \n",
    "    for i in range(N):\n",
    "        \n",
    "        # 이미 방문한 적 있는 세로줄이라면 바로 다음 반복문으로 넘어감\n",
    "        if visited[i] == True:\n",
    "            continue\n",
    "            \n",
    "        lst[x] = i \n",
    "\n",
    "        if check_queens(x):\n",
    "            visited[i] = True\n",
    "            n_queens(x+1)\n",
    "            visited[i] = False\n",
    "        \n",
    "        lst[x] = 0 \n",
    "        \n",
    "\n",
    "def check_queens(x):\n",
    "    for i in range(x):\n",
    "        if abs(lst[x] - lst[i]) == abs(x - i):\n",
    "            return False\n",
    "    return True\n",
    "\n",
    "lst = [0] * N\n",
    "answer = 0\n",
    "# n번째 세로줄을 방문한 적이 있다면 True로 바뀜\n",
    "visited = [False] * N\n",
    "\n",
    "\n",
    "n_queens(0)\n",
    "\n",
    "print(answer)\n"
   ]
  },
  {
   "cell_type": "code",
   "execution_count": null,
   "id": "013c93a1-4348-4ca7-b262-bc5cd9c37aab",
   "metadata": {},
   "outputs": [],
   "source": []
  }
 ],
 "metadata": {
  "kernelspec": {
   "display_name": "Python 3 (ipykernel)",
   "language": "python",
   "name": "python3"
  },
  "language_info": {
   "codemirror_mode": {
    "name": "ipython",
    "version": 3
   },
   "file_extension": ".py",
   "mimetype": "text/x-python",
   "name": "python",
   "nbconvert_exporter": "python",
   "pygments_lexer": "ipython3",
   "version": "3.9.13"
  }
 },
 "nbformat": 4,
 "nbformat_minor": 5
}
