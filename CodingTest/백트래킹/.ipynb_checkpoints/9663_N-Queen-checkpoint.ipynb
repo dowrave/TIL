{
 "cells": [
  {
   "cell_type": "markdown",
   "id": "37cf170d-16ca-4105-8ad2-e7d8b041a772",
   "metadata": {},
   "source": [
    "### 다시봐도 어렵다"
   ]
  },
  {
   "cell_type": "code",
   "execution_count": 25,
   "id": "8d5769a0-c99d-47e0-a766-f4d7cac949a8",
   "metadata": {},
   "outputs": [
    {
     "name": "stdout",
     "output_type": "stream",
     "text": [
      "2\n"
     ]
    }
   ],
   "source": [
    "import sys\n",
    "sys.stdin = open('test.txt', 'r')\n",
    "N = int(sys.stdin.readline())\n",
    "\n",
    "\n",
    "def condition(m, v):\n",
    "    \"\"\"\n",
    "    인덱스 m과 값 v에 대한 검사를 함\n",
    "    \"\"\"\n",
    "    for i in range(1, m): # 지금 넣으려는 인덱스 이전까지 검사\n",
    "        if lst[i] == v or abs(lst[i] - v) == abs(i - m):\n",
    "            return False\n",
    "    \n",
    "    return True\n",
    "\n",
    "def n_queens(m, N):\n",
    "    \n",
    "    global count\n",
    "    \n",
    "    if m == N+1:\n",
    "        count += 1\n",
    "        return\n",
    "\n",
    "    for i in range(1, N+1):\n",
    "        if condition(m, i): # 어떤 값을 지금 인덱스에 넣을 수 있는가?\n",
    "            lst[m] = i\n",
    "            n_queens(m+1, N)\n",
    "            lst[m] = 0\n",
    "            \n",
    "lst = [0] * (N+1) # 1번 ~ N번 인덱스 사용\n",
    "count = 0\n",
    "\n",
    "n_queens(1, N)\n",
    "print(count)\n"
   ]
  },
  {
   "cell_type": "markdown",
   "id": "d010c3f6-df2f-4520-8f54-040517509b81",
   "metadata": {},
   "source": [
    "- `pypy3`으로 돌렸을 때 30976ms가 떴음. 시간초과가 뜰 때도 있었다."
   ]
  },
  {
   "cell_type": "code",
   "execution_count": 41,
   "id": "9db43803-52f7-4335-972c-7f7de8338229",
   "metadata": {},
   "outputs": [
    {
     "name": "stdout",
     "output_type": "stream",
     "text": [
      "2\n"
     ]
    }
   ],
   "source": [
    "# 방문 리스트와 값 리스트를 따로 구현하면 더 빠르게 탐색할 수 있다\n",
    "\n",
    "def condition(x):\n",
    "    for j in range(x):\n",
    "        if abs(lst[x] - lst[j]) == abs(x - j):\n",
    "            return False\n",
    "    return True\n",
    "\n",
    "def n_queens(x):\n",
    "    \n",
    "    global count \n",
    "    \n",
    "    if x == N:\n",
    "        count += 1\n",
    "        return\n",
    "    \n",
    "    for i in range(N):\n",
    "        \n",
    "        if visited[i]:\n",
    "            continue\n",
    "        \n",
    "        # condition에서 값을 비교하려면 미리 lst에 값을 넣어야 함\n",
    "        lst[x] = i\n",
    "        if condition(x):\n",
    "            visited[i] = True\n",
    "            n_queens(x+1)\n",
    "            visited[i] = False\n",
    "        lst[x] = 0\n",
    "\n",
    "count = 0\n",
    "lst = [0] * N\n",
    "visited = [False] * N # 값 = 인덱스\n",
    "\n",
    "n_queens(0)\n",
    "print(count)"
   ]
  },
  {
   "cell_type": "code",
   "execution_count": null,
   "id": "1dd8f8a4-0201-47b4-9c9c-da318138e1fe",
   "metadata": {},
   "outputs": [],
   "source": []
  }
 ],
 "metadata": {
  "kernelspec": {
   "display_name": "Python 3 (ipykernel)",
   "language": "python",
   "name": "python3"
  },
  "language_info": {
   "codemirror_mode": {
    "name": "ipython",
    "version": 3
   },
   "file_extension": ".py",
   "mimetype": "text/x-python",
   "name": "python",
   "nbconvert_exporter": "python",
   "pygments_lexer": "ipython3",
   "version": "3.9.13"
  }
 },
 "nbformat": 4,
 "nbformat_minor": 5
}
