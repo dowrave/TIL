{
 "cells": [
  {
   "cell_type": "code",
   "execution_count": 6,
   "id": "3c32dc34-443c-421e-b30d-95e18c64deae",
   "metadata": {},
   "outputs": [
    {
     "name": "stdout",
     "output_type": "stream",
     "text": [
      "-1 -2 6\n",
      "-3 -6 12\n",
      "-5 -10 18\n"
     ]
    }
   ],
   "source": [
    "import sys\n",
    "sys.stdin = open('test.txt', 'r')\n",
    "input = sys.stdin.readline\n",
    "\n",
    "N, M = map(int, input().split())\n",
    "matrix1 = []\n",
    "for _ in range(N):\n",
    "    matrix1.append(list(map(int, input().split())))\n",
    "    \n",
    "M, K = map(int, input().split())\n",
    "matrix2 = []\n",
    "for _ in range(M):\n",
    "    matrix2.append(list(map(int, input().split())))\n",
    "    \n",
    "ans = [[0] * K for _ in range(N)]\n",
    "for i in range(N):\n",
    "    for j in range(K):\n",
    "        for x in range(M):\n",
    "            ans[i][j] += matrix1[i][x] * matrix2[x][j]\n",
    "            \n",
    "for i in ans:\n",
    "    print(\" \".join(map(str , i)))"
   ]
  },
  {
   "cell_type": "markdown",
   "id": "4af3d56a-e36e-40b0-9d21-9548d28ea6a6",
   "metadata": {},
   "source": [
    "1. 행렬의 곱셈 결과로 나오는 행렬 사이즈는 N * K 이다\n",
    "2. 결과 행렬의 각 인덱스에 들어가는 값은\n",
    "    - `matrix[i][j]`가 있다면 앞행렬의 (i번째 row의 각 값) * (뒷행렬의 j번째 col의 각 값)의 합이 될 거임\n",
    "    - 저 각 값이 같이 움직임 : M번씩?\n",
    "    `matrix[0][0]` = `m1[0][0] * m2[0][0] + m1[0][1] * m2[1][0] + ... + m1[0][M-1] * m2[M-1][0]`"
   ]
  },
  {
   "cell_type": "code",
   "execution_count": null,
   "id": "866c4690-e288-4812-a4f0-500d78a2f8ef",
   "metadata": {},
   "outputs": [],
   "source": []
  }
 ],
 "metadata": {
  "kernelspec": {
   "display_name": "Python 3 (ipykernel)",
   "language": "python",
   "name": "python3"
  },
  "language_info": {
   "codemirror_mode": {
    "name": "ipython",
    "version": 3
   },
   "file_extension": ".py",
   "mimetype": "text/x-python",
   "name": "python",
   "nbconvert_exporter": "python",
   "pygments_lexer": "ipython3",
   "version": "3.9.13"
  }
 },
 "nbformat": 4,
 "nbformat_minor": 5
}
