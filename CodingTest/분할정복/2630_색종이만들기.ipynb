{
 "cells": [
  {
   "cell_type": "code",
   "execution_count": 24,
   "id": "bf10fdde-8778-448b-9273-222cb6d98b14",
   "metadata": {},
   "outputs": [
    {
     "name": "stdout",
     "output_type": "stream",
     "text": [
      "9\n",
      "7\n"
     ]
    }
   ],
   "source": [
    "import sys\n",
    "sys.stdin = open('test.txt', 'r')\n",
    "input = sys.stdin.readline \n",
    "n = int(input())\n",
    "matrix = []\n",
    "for _ in range(n):\n",
    "    matrix.append(input().strip().split())\n",
    "\n",
    "lst = [0, 0]\n",
    "def func(n, start_row, end_row, start_col, end_col):\n",
    "    \n",
    "    base = matrix[start_row][start_col]\n",
    "    \n",
    "    if n == 1:\n",
    "        if base == '0':\n",
    "            lst[0] += 1\n",
    "        else:\n",
    "            lst[1] += 1\n",
    "        return\n",
    "\n",
    "    flag = False\n",
    "    \n",
    "    # 1. 검사 : 좌측 상단 값을 기준으로, 다른 게 하나라도 나오면 중단\n",
    "    # flag = True라면 종이를 더 쪼개야 함\n",
    "    for i in range(start_row, end_row + 1):\n",
    "        if flag:\n",
    "            break\n",
    "        for j in range(start_col, end_col + 1):\n",
    "            if matrix[i][j] != base:\n",
    "                flag = True\n",
    "                break\n",
    "\n",
    "    # 2. 종이를 나눠야 한다면 다음 재귀식을 호출함\n",
    "    if flag:\n",
    "        \n",
    "        mid_row = (start_row + end_row) // 2\n",
    "        mid_col = (start_col + end_col) // 2\n",
    "        # 이 mid 값들은 왼쪽이나 위로 쪼개진 부분의 마지막값이 됨\n",
    "        \n",
    "        part1 = func(n // 2, start_row, mid_row, start_col, mid_col)\n",
    "        part2 = func(n // 2, start_row, mid_row, mid_col + 1, end_col)\n",
    "        part3 = func(n // 2, mid_row + 1, end_row, start_col, mid_col)\n",
    "        part4 = func(n // 2, mid_row + 1, end_row, mid_col + 1, end_col)\n",
    "        \n",
    "        return\n",
    "    \n",
    "    # 3. 종이를 나눠야 하는 케이스가 아니라면 지금 상태가 1장의 종이를 구성한다는 의미임\n",
    "    if base == '0':\n",
    "        lst[0] += 1\n",
    "    else:\n",
    "        lst[1] += 1\n",
    "    \n",
    "\n",
    "func(n, 0, n-1, 0, n-1)\n",
    "\n",
    "for i in lst:\n",
    "    print(i)"
   ]
  },
  {
   "cell_type": "markdown",
   "id": "da80499b-6dbb-44bc-865f-ee203c15763f",
   "metadata": {},
   "source": [
    "- 원래 재귀식은 계속 함수를 호출한 다음 가장 작은 지점에서 값을 가져온다는 느낌인데, 여기서는 그냥 외부에 값을 받는 리스트만 하나 작성해주면 됨"
   ]
  },
  {
   "cell_type": "code",
   "execution_count": null,
   "id": "930a1d82-85bf-4dfc-b8f9-9edc1f1ddd18",
   "metadata": {},
   "outputs": [],
   "source": []
  }
 ],
 "metadata": {
  "kernelspec": {
   "display_name": "Python 3 (ipykernel)",
   "language": "python",
   "name": "python3"
  },
  "language_info": {
   "codemirror_mode": {
    "name": "ipython",
    "version": 3
   },
   "file_extension": ".py",
   "mimetype": "text/x-python",
   "name": "python",
   "nbconvert_exporter": "python",
   "pygments_lexer": "ipython3",
   "version": "3.9.13"
  }
 },
 "nbformat": 4,
 "nbformat_minor": 5
}
