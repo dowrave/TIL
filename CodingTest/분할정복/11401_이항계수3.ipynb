{
 "cells": [
  {
   "cell_type": "code",
   "execution_count": 10,
   "id": "1ea27ba8-6521-458b-99d0-e7d25ee0ebf2",
   "metadata": {},
   "outputs": [
    {
     "name": "stdout",
     "output_type": "stream",
     "text": [
      "10\n"
     ]
    }
   ],
   "source": [
    "import sys\n",
    "sys.stdin = open('test.txt', 'r')\n",
    "input = sys.stdin.readline\n",
    "\n",
    "n, k = map(int ,input().split())\n",
    "\n",
    "m = int(1e9 + 7) # 나눠야 하는 값\n",
    "\n",
    "# 일단 이항계수 값 구하기\n",
    "# 팩토리얼 배열을 만들되, 나머지 연산을 적용해준다\n",
    "fact = [1 for _ in range(n + 1)]\n",
    "\n",
    "for i in range(2, n+1):\n",
    "    fact[i] = fact[i-1] * i % m\n",
    "    \n",
    "head = fact[n]\n",
    "tail = (fact[n-k] * fact[k]) % m\n",
    "\n",
    "# (head / tail) % m = [(head % m) * (tail(m-2) % m)] % m\n",
    "# 곱셈을 빨리 하는 방법도 우린 배웠다\n",
    "\n",
    "def power(a, b):\n",
    "    if b == 1:\n",
    "        return a % m\n",
    "    \n",
    "    temp = power(a, b//2)\n",
    "    if b%2 == 0:\n",
    "        return (temp * temp) % m \n",
    "    else:\n",
    "        return (temp * temp * a) % m\n",
    "\n",
    "# head값도 계속 %m을 해왔고 power(tail, m-2)값도 계속 %m을 해왔음\n",
    "# 따라서 마지막에만 %m 해주면 됨\n",
    "ans = (head * power(tail, m-2) )%m\n",
    "print(ans)"
   ]
  },
  {
   "cell_type": "markdown",
   "id": "b753a2f5-553f-4866-bbf0-23b36ac174d5",
   "metadata": {},
   "source": [
    "- 페르마의 소정리 관련  \n",
    "결국 우리가 구하려는 건 `(head / tail) % m` 값이다.  \n",
    "이는 `head * tail^-1`로 바꿀 수 있고,\n",
    "곱셈의 분배법칙에 의해 `((head % m) * (tail^-1 % m)) % m`으로 바꿀 수 있다.  \n",
    "- 페르마의 소정리에 의해\n",
    "`tail^-1 % m == tail^(m-2) % m`이다. \n"
   ]
  },
  {
   "cell_type": "code",
   "execution_count": null,
   "id": "0e661b6b-ed6e-469c-b21e-f6c28671fb37",
   "metadata": {},
   "outputs": [],
   "source": []
  }
 ],
 "metadata": {
  "kernelspec": {
   "display_name": "Python 3 (ipykernel)",
   "language": "python",
   "name": "python3"
  },
  "language_info": {
   "codemirror_mode": {
    "name": "ipython",
    "version": 3
   },
   "file_extension": ".py",
   "mimetype": "text/x-python",
   "name": "python",
   "nbconvert_exporter": "python",
   "pygments_lexer": "ipython3",
   "version": "3.9.13"
  }
 },
 "nbformat": 4,
 "nbformat_minor": 5
}
