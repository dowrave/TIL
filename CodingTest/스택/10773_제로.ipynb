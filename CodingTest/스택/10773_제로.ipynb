{
 "cells": [
  {
   "cell_type": "code",
   "execution_count": 2,
   "id": "783fa2a2-42a3-46e5-9b08-298cf2c5960b",
   "metadata": {},
   "outputs": [
    {
     "name": "stdout",
     "output_type": "stream",
     "text": [
      "7\n"
     ]
    }
   ],
   "source": [
    "import sys\n",
    "sys.stdin = open('test.txt', 'r')\n",
    "input = sys.stdin.readline\n",
    "\n",
    "K = int(input())\n",
    "lst = []\n",
    "for _ in range(K):\n",
    "    inp = int(input())\n",
    "    \n",
    "    if inp == 0:\n",
    "        lst.pop()\n",
    "        continue\n",
    "    \n",
    "    lst.append(inp)\n",
    "print(sum(lst))"
   ]
  },
  {
   "cell_type": "code",
   "execution_count": null,
   "id": "f05bf1b0-e2ba-4464-9e98-fce5061da6c3",
   "metadata": {},
   "outputs": [],
   "source": []
  }
 ],
 "metadata": {
  "kernelspec": {
   "display_name": "Python 3 (ipykernel)",
   "language": "python",
   "name": "python3"
  },
  "language_info": {
   "codemirror_mode": {
    "name": "ipython",
    "version": 3
   },
   "file_extension": ".py",
   "mimetype": "text/x-python",
   "name": "python",
   "nbconvert_exporter": "python",
   "pygments_lexer": "ipython3",
   "version": "3.9.13"
  }
 },
 "nbformat": 4,
 "nbformat_minor": 5
}
