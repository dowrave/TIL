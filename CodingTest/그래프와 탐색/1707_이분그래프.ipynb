{
 "cells": [
  {
   "cell_type": "markdown",
   "id": "528cb7c1-1a93-477d-bf65-0680fa4e6301",
   "metadata": {},
   "source": [
    "- [문제 링크](https://www.acmicpc.net/problem/1707)\n",
    "- 이분 그래프 : 정점의 집합을 둘로 나눠서, 각 집합에 속한 정점끼리 **인접하지 않도록** 분할할 수 있을 때를 이분 그래프라고 함\n",
    "- 인접하다 = 간선으로 연결되어 있다\n"
   ]
  },
  {
   "cell_type": "code",
   "execution_count": 4,
   "id": "3e8fe3a4-778f-49e0-a039-9aee1c71201e",
   "metadata": {},
   "outputs": [
    {
     "name": "stdout",
     "output_type": "stream",
     "text": [
      "YES\n",
      "YES\n"
     ]
    }
   ],
   "source": [
    "import sys\n",
    "from collections import deque\n",
    "sys.stdin = open('test.txt', 'r')\n",
    "input = sys.stdin.readline\n",
    "\n",
    "K = int(input().strip())\n",
    "now_color = 1 # 이 경우 now_color는 abs(3-now_color)로 1과 2를 오간다\n",
    "\n",
    "def bfs(start_node):\n",
    "    dq = deque([])\n",
    "    \n",
    "    now_color = 1\n",
    "    dq.append(start_node)\n",
    "    visited[start_node] = now_color\n",
    "    now_color = abs(3 - now_color)\n",
    "    \n",
    "    while dq:\n",
    "        now_node = dq.popleft()\n",
    "        \n",
    "        for i in graph[now_node]:\n",
    "            if visited[i] == 0:\n",
    "                visited[i] = now_color\n",
    "                now_color = abs(3 - now_color)\n",
    "            elif visited[i] and visited[i] == now_color:\n",
    "                return print(\"NO\")\n",
    "    \n",
    "    return print(\"YES\")\n",
    "                \n",
    "        \n",
    "for _ in range(K):\n",
    "    \n",
    "    V, E = map(int, input().split())\n",
    "    graph = [[] for _ in range(V + 1)]\n",
    "    visited = [0] * (V + 1) # 1이나 2를 칠해보자\n",
    "    \n",
    "    for _ in range(E):\n",
    "        a, b = map(int, input().split())\n",
    "        graph[a].append(a)\n",
    "        graph[b].append(a)\n",
    "        \n",
    "    bfs(1)"
   ]
  },
  {
   "cell_type": "markdown",
   "id": "4459cc0c-9086-4e8f-8cfd-250ae056af7c",
   "metadata": {},
   "source": [
    "- 알고리즘을 찾아보면\n",
    "- K분 그래프 : 인접한 두 정점은 서로 다른 정점 집합에 속해야 함\n",
    "- **BFS를 통해 각 정점에 색을 부여하는데, 이미 방문한 정점의 색이 인접한 정점의 색과 동일하다면 이분 그래프를 만들 수 없다**"
   ]
  },
  {
   "cell_type": "code",
   "execution_count": null,
   "id": "82e55fb3-7a2c-44ac-84a5-abba920b476c",
   "metadata": {},
   "outputs": [],
   "source": []
  }
 ],
 "metadata": {
  "kernelspec": {
   "display_name": "Python 3 (ipykernel)",
   "language": "python",
   "name": "python3"
  },
  "language_info": {
   "codemirror_mode": {
    "name": "ipython",
    "version": 3
   },
   "file_extension": ".py",
   "mimetype": "text/x-python",
   "name": "python",
   "nbconvert_exporter": "python",
   "pygments_lexer": "ipython3",
   "version": "3.9.13"
  }
 },
 "nbformat": 4,
 "nbformat_minor": 5
}
