{
 "cells": [
  {
   "cell_type": "markdown",
   "id": "989dedd7-3ef6-408d-81b6-de6ffec4b4e5",
   "metadata": {},
   "source": [
    "[문제 링크](https://www.acmicpc.net/problem/7569)\n",
    "- 사실 이 문제는 BFS 알고리즘보다도 3차원 행렬을 어떻게 구성할까에 있다\n",
    "- 결론부터 말하면 2차원보다 **앞**에 높이 차원을 추가하면 된다\n",
    "- 즉, `matrix[높이][행][열]` 로 구성하라는 것"
   ]
  },
  {
   "cell_type": "code",
   "execution_count": 2,
   "id": "c12d931d-6199-4edb-95b4-15ea0af8466f",
   "metadata": {},
   "outputs": [
    {
     "name": "stdout",
     "output_type": "stream",
     "text": [
      "0\n"
     ]
    }
   ],
   "source": [
    "import sys\n",
    "from collections import deque\n",
    "\n",
    "sys.stdin = open('test.txt', 'r')\n",
    "input = sys.stdin.readline\n",
    "\n",
    "cols, rows, heights = map(int, input().split())\n",
    "matrix = []\n",
    "for _ in range(heights):\n",
    "    temp_matrix = []\n",
    "    for _ in range(rows):\n",
    "        temp_matrix.append(list(map(int, input().split())))\n",
    "    matrix.append(temp_matrix)\n",
    "dq = deque([])\n",
    "# 액션이 2개 추가됨 : 앞, 뒤(+1, -1)\n",
    "def bfs():\n",
    "    \n",
    "    time = 0\n",
    "    for i in range(heights):\n",
    "        for j in range(rows):\n",
    "            for k in range(cols):\n",
    "                if matrix[i][j][k] == 1:\n",
    "                    dq.append((i, j, k, time))\n",
    "    \n",
    "    moves = [(1, 0, 0), (-1, 0, 0), \n",
    "             (0, 1, 0), (0, -1, 0), \n",
    "             (0, 0, 1), (0, 0, -1)]\n",
    "    \n",
    "    # bfs 결과 time은 가장 마지막에 뽑힌 값이 된다\n",
    "    # 최초 시간에 0을 넣었기 때문에 수정할 게 없는 상황도 포함 가능함\n",
    "    while dq:\n",
    "        height, row, col, time = dq.popleft()\n",
    "        for move in moves:\n",
    "            dheight = height + move[0]\n",
    "            drow = row + move[1]\n",
    "            dcol = col + move[2]\n",
    "\n",
    "            \n",
    "            if drow < 0 or drow >= rows:\n",
    "                continue\n",
    "            if dcol < 0 or dcol >= cols:\n",
    "                continue\n",
    "            if dheight < 0 or dheight >= heights:\n",
    "                continue\n",
    "            if matrix[dheight][drow][dcol] == -1:\n",
    "                continue\n",
    "                \n",
    "            if matrix[dheight][drow][dcol] == 0:\n",
    "                dq.append((dheight, drow, dcol, time + 1))\n",
    "                matrix[dheight][drow][dcol] = 1\n",
    "    \n",
    "    # 마무리 검사\n",
    "    for i in range(heights):\n",
    "        for j in range(rows):\n",
    "            for k in range(cols):\n",
    "                if matrix[i][j][k] == 0:\n",
    "                    return -1\n",
    "    \n",
    "    return time\n",
    "\n",
    "print(bfs())"
   ]
  },
  {
   "cell_type": "code",
   "execution_count": 8,
   "id": "9b21f629-ae46-4cb6-b1f7-65dab8831a47",
   "metadata": {},
   "outputs": [
    {
     "name": "stdout",
     "output_type": "stream",
     "text": [
      "[[0, 0, 0, 0, 0], [0, 0, 0, 0, 0], [0, 0, 0, 0, 0]]\n",
      "[[0, 0, 0, 0, 0], [0, 0, 1, 0, 0], [0, 0, 0, 0, 0]]\n"
     ]
    }
   ],
   "source": [
    "for i in matrix:\n",
    "    print(i)"
   ]
  },
  {
   "cell_type": "code",
   "execution_count": 11,
   "id": "895ca335-0ae9-466a-9dc4-517e6e90b09c",
   "metadata": {},
   "outputs": [
    {
     "ename": "IndexError",
     "evalue": "list index out of range",
     "output_type": "error",
     "traceback": [
      "\u001b[1;31m---------------------------------------------------------------------------\u001b[0m",
      "\u001b[1;31mIndexError\u001b[0m                                Traceback (most recent call last)",
      "\u001b[1;32m~\\AppData\\Local\\Temp/ipykernel_10208/4071846294.py\u001b[0m in \u001b[0;36m<module>\u001b[1;34m\u001b[0m\n\u001b[1;32m----> 1\u001b[1;33m \u001b[0mmatrix\u001b[0m\u001b[1;33m[\u001b[0m\u001b[1;36m0\u001b[0m\u001b[1;33m]\u001b[0m\u001b[1;33m[\u001b[0m\u001b[1;36m3\u001b[0m\u001b[1;33m]\u001b[0m\u001b[1;33m[\u001b[0m\u001b[1;36m0\u001b[0m\u001b[1;33m]\u001b[0m\u001b[1;33m\u001b[0m\u001b[1;33m\u001b[0m\u001b[0m\n\u001b[0m",
      "\u001b[1;31mIndexError\u001b[0m: list index out of range"
     ]
    }
   ],
   "source": [
    "matrix[0][3][0]"
   ]
  },
  {
   "cell_type": "code",
   "execution_count": null,
   "id": "5ccb8cd1-7db6-45f4-a77c-35ea174b38ac",
   "metadata": {},
   "outputs": [],
   "source": []
  }
 ],
 "metadata": {
  "kernelspec": {
   "display_name": "Python 3 (ipykernel)",
   "language": "python",
   "name": "python3"
  },
  "language_info": {
   "codemirror_mode": {
    "name": "ipython",
    "version": 3
   },
   "file_extension": ".py",
   "mimetype": "text/x-python",
   "name": "python",
   "nbconvert_exporter": "python",
   "pygments_lexer": "ipython3",
   "version": "3.9.13"
  }
 },
 "nbformat": 4,
 "nbformat_minor": 5
}
