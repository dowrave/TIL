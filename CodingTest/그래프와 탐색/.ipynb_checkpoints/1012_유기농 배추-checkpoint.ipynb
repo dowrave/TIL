{
 "cells": [
  {
   "cell_type": "markdown",
   "id": "49f956aa-3532-4c94-9d67-0e596c2fff25",
   "metadata": {},
   "source": [
    "- [문제 링크](https://www.acmicpc.net/problem/1012)"
   ]
  },
  {
   "cell_type": "code",
   "execution_count": 1,
   "id": "8fd74b83-8643-417b-b1ed-fe8b97da4536",
   "metadata": {},
   "outputs": [
    {
     "name": "stdout",
     "output_type": "stream",
     "text": [
      "5\n",
      "1\n"
     ]
    }
   ],
   "source": [
    "import sys\n",
    "# 이번엔 dfs로 해봄\n",
    "sys.setrecursionlimit(int(1e9))\n",
    "sys.stdin = open('test.txt', 'r')\n",
    "input = sys.stdin.readline\n",
    "\n",
    "\n",
    "def dfs(now_loc, graph):\n",
    "    \n",
    "    m = len(graph)\n",
    "    n = len(graph[0])\n",
    "        \n",
    "    row = now_loc[0]\n",
    "    col = now_loc[1]\n",
    "    \n",
    "    visited[row][col] = 1\n",
    "    moves = [[-1, 0], [1, 0], [0, -1], [0 , 1]]\n",
    "    for move in moves:\n",
    "        drow = row + move[0]\n",
    "        dcol = col + move[1]\n",
    "        if (drow >= 0 and drow < m and \n",
    "            dcol >= 0 and dcol < n and\n",
    "            graph[drow][dcol] == 1 and\n",
    "            visited[drow][dcol] == 0\n",
    "           ):\n",
    "            dfs([drow, dcol], graph)\n",
    "    \n",
    "    \n",
    "T = int(input())\n",
    "for _ in range(T):\n",
    "    M, N, K = map(int, input().split())\n",
    "\n",
    "    graph = [[0] * N for _ in range(M)]\n",
    "    visited = [[0] * N for _ in range(M)]\n",
    "    \n",
    "    for _ in range(K):\n",
    "        a, b = map(int, input().split())\n",
    "        graph[a][b] = 1\n",
    "\n",
    "    jireong2 = 0\n",
    "    \n",
    "    for i in range(M):\n",
    "        for j in range(N):\n",
    "            if graph[i][j] and visited[i][j] == 0:\n",
    "                dfs([i, j], graph)\n",
    "                jireong2 += 1\n",
    "                \n",
    "    print(jireong2)"
   ]
  }
 ],
 "metadata": {
  "kernelspec": {
   "display_name": "Python 3 (ipykernel)",
   "language": "python",
   "name": "python3"
  },
  "language_info": {
   "codemirror_mode": {
    "name": "ipython",
    "version": 3
   },
   "file_extension": ".py",
   "mimetype": "text/x-python",
   "name": "python",
   "nbconvert_exporter": "python",
   "pygments_lexer": "ipython3",
   "version": "3.9.13"
  }
 },
 "nbformat": 4,
 "nbformat_minor": 5
}
