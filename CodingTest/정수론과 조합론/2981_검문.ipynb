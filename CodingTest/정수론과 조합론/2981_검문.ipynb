{
 "cells": [
  {
   "cell_type": "markdown",
   "id": "9cbe86b3-a089-4513-bf7e-02872b6078ee",
   "metadata": {},
   "source": [
    "### 제일 어려웠다"
   ]
  },
  {
   "cell_type": "code",
   "execution_count": 23,
   "id": "15b66af7-a375-46d5-9985-4a8b669d0d7e",
   "metadata": {},
   "outputs": [
    {
     "name": "stdout",
     "output_type": "stream",
     "text": [
      "2 3 4 6 12\n"
     ]
    }
   ],
   "source": [
    "import sys\n",
    "sys.stdin = open('test.txt', 'r')\n",
    "N = int(sys.stdin.readline())\n",
    "\n",
    "def find_gcd(a, b):\n",
    "    if a < b:\n",
    "        a, b = b, a\n",
    "    \n",
    "    while b > 0:\n",
    "        i = a % b\n",
    "        a = b\n",
    "        b = i\n",
    "    return a\n",
    "\n",
    "def find_divisor(n):\n",
    "    dvs_lst = []\n",
    "\n",
    "    for i in range(2, int(n**(1/2) + 1)):\n",
    "        \n",
    "        if n % i == 0:\n",
    "            dvs_lst.append(i)\n",
    "            dvs_lst.append(n // i)\n",
    "            \n",
    "    dvs_lst.append(n)\n",
    "    \n",
    "    dvs_lst = list(set(dvs_lst))\n",
    "    dvs_lst.sort()\n",
    "    \n",
    "    return dvs_lst\n",
    "\n",
    "lst = []\n",
    "gcd = -1\n",
    "for i in range(N):\n",
    "    inp = int(sys.stdin.readline())\n",
    "    lst.append(inp)    \n",
    "    \n",
    "    if i == 0:\n",
    "        continue\n",
    "    elif i == 1:\n",
    "        gcd = abs(lst[1] - lst[0])\n",
    "    else:\n",
    "        gcd = find_gcd(gcd, abs(lst[i] - lst[i-1]))\n",
    "        \n",
    "\n",
    "lst = find_divisor(gcd)\n",
    "\n",
    "\n",
    "print(\" \".join(map(str, lst)))"
   ]
  },
  {
   "cell_type": "markdown",
   "id": "a3bafa5f-bd34-4199-a0df-aa6b59d95736",
   "metadata": {},
   "source": [
    "![이미지](2981-검문.jpg)"
   ]
  },
  {
   "cell_type": "code",
   "execution_count": null,
   "id": "cac7d96d-2a56-4260-abf0-c93619126586",
   "metadata": {},
   "outputs": [],
   "source": []
  }
 ],
 "metadata": {
  "kernelspec": {
   "display_name": "Python 3 (ipykernel)",
   "language": "python",
   "name": "python3"
  },
  "language_info": {
   "codemirror_mode": {
    "name": "ipython",
    "version": 3
   },
   "file_extension": ".py",
   "mimetype": "text/x-python",
   "name": "python",
   "nbconvert_exporter": "python",
   "pygments_lexer": "ipython3",
   "version": "3.9.13"
  }
 },
 "nbformat": 4,
 "nbformat_minor": 5
}
