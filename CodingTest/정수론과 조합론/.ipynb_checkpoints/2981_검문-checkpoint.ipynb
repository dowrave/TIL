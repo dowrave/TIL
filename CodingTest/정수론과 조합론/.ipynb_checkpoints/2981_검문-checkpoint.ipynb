{
 "cells": [
  {
   "cell_type": "code",
   "execution_count": 11,
   "id": "15b66af7-a375-46d5-9985-4a8b669d0d7e",
   "metadata": {},
   "outputs": [
    {
     "name": "stdout",
     "output_type": "stream",
     "text": [
      "[5, 14, 17, 23, 83]\n",
      "[4, 13, 16, 22, 82]\n",
      "[3, 12, 15, 21, 81]\n",
      "[2, 11, 14, 20, 80]\n"
     ]
    }
   ],
   "source": [
    "import sys\n",
    "sys.stdin = open('test.txt', 'r')\n",
    "\n",
    "N = int(sys.stdin.readline())\n",
    "\n",
    "# 정리해보면\n",
    "# 0. 리스트 정렬함\n",
    "# 1. 리스트에서 어떤 값(나머지)을 뺌\n",
    "# 2. 가장 작은 값과 2번째로 작은 값의 약수들을 구하면 될 거임\n",
    "\n",
    "def find_gce(a, b):\n",
    "    if a < b:\n",
    "        a, b = b, a\n",
    "    \n",
    "    while b > 0:\n",
    "        i = a % b\n",
    "        a = b\n",
    "        b = i\n",
    "\n",
    "    return a\n",
    "\n",
    "lst = []\n",
    "for _ in range(N):\n",
    "    lst.append(int(sys.stdin.readline()))\n",
    "lst.sort()\n",
    "\n",
    "r_lst = [i for i in range(lst[0] - 1)]\n",
    "\n",
    "for r in r_lst:\n",
    "    test_lst = list(map(lambda x : x - r, lst))\n",
    "        \n",
    "    # 조건 체크\n",
    "    for k in range(1, len(r_lst)):\n",
    "        if test_lst[k] % test_lst[0] != 0:\n",
    "            break\n",
    "            \n",
    "    find_gce(test_lst[0], test_lst[1])\n",
    "    \n",
    "    "
   ]
  },
  {
   "cell_type": "code",
   "execution_count": null,
   "id": "3e36c5d8-dfbe-4509-84f2-5bb8a36a328d",
   "metadata": {},
   "outputs": [],
   "source": []
  }
 ],
 "metadata": {
  "kernelspec": {
   "display_name": "Python 3 (ipykernel)",
   "language": "python",
   "name": "python3"
  },
  "language_info": {
   "codemirror_mode": {
    "name": "ipython",
    "version": 3
   },
   "file_extension": ".py",
   "mimetype": "text/x-python",
   "name": "python",
   "nbconvert_exporter": "python",
   "pygments_lexer": "ipython3",
   "version": "3.9.13"
  }
 },
 "nbformat": 4,
 "nbformat_minor": 5
}
