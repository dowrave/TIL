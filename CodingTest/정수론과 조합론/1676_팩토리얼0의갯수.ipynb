{
 "cells": [
  {
   "cell_type": "code",
   "execution_count": 9,
   "id": "0c4b7c7e-e887-4909-adef-b6984f6b9e87",
   "metadata": {},
   "outputs": [
    {
     "name": "stdout",
     "output_type": "stream",
     "text": [
      "2\n"
     ]
    }
   ],
   "source": [
    "import sys\n",
    "sys.stdin = open('test.txt', 'r')\n",
    "inp = sys.stdin.readline\n",
    "\n",
    "N = int(inp())\n",
    "\n",
    "# N!의 뒤에서부터 처음 0이 아닌 숫자가 나올 때까지 0의 개수를 구하시오\n",
    "# 0이 나오는 조건은 2랑 5가 곱해졌을 때 뿐임\n",
    "# 간단하게 생각해보면 2는 5보다 항상 많을 거임 - 팩토리얼이니까\n",
    "\n",
    "# 그렇다면 주어진 숫자까지의 5의 갯수를 세면 되는 거 아닌가?\n",
    "# 5, 25, 125에서 0이 하나씩 추가될 거임\n",
    "zero_count = 0\n",
    "for i in range(1, N+1):\n",
    "    if i % 5 == 0:\n",
    "        zero_count += 1\n",
    "    if i % 25 == 0: \n",
    "        zero_count += 1 # 위에서 이미 1을 더해줬음\n",
    "    if i % 125 == 0:\n",
    "        zero_count += 1\n",
    "print(zero_count)"
   ]
  },
  {
   "cell_type": "code",
   "execution_count": null,
   "id": "5b3048bd-69d3-4f24-887d-5603bb4ebf58",
   "metadata": {},
   "outputs": [],
   "source": []
  }
 ],
 "metadata": {
  "kernelspec": {
   "display_name": "Python 3 (ipykernel)",
   "language": "python",
   "name": "python3"
  },
  "language_info": {
   "codemirror_mode": {
    "name": "ipython",
    "version": 3
   },
   "file_extension": ".py",
   "mimetype": "text/x-python",
   "name": "python",
   "nbconvert_exporter": "python",
   "pygments_lexer": "ipython3",
   "version": "3.9.13"
  }
 },
 "nbformat": 4,
 "nbformat_minor": 5
}
