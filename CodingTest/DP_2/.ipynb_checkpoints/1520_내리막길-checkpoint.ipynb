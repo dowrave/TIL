{
 "cells": [
  {
   "cell_type": "code",
   "execution_count": 72,
   "id": "331e55bc-ec65-4963-8030-cf78b5d39c5b",
   "metadata": {},
   "outputs": [
    {
     "name": "stdout",
     "output_type": "stream",
     "text": [
      "3\n"
     ]
    }
   ],
   "source": [
    "import sys\n",
    "sys.stdin = open('test.txt', 'r')\n",
    "input = sys.stdin.readline\n",
    "\n",
    "M, N = map(int, input().split())\n",
    "matrix = []\n",
    "for _ in range(M):\n",
    "    matrix.append(list(map(int, input().split())))\n",
    "\n",
    "dp = [[-1] * N for _ in range(M)]\n",
    "\n",
    "\n",
    "def find_routes(now_row, now_col):\n",
    "    \n",
    "    if now_row == M-1 and now_col == N-1:\n",
    "        dp[now_row][now_col] = 1\n",
    "        return 1 # 목적지에 도착했을 때 1을 반환함\n",
    "    \n",
    "    if dp[now_row][now_col] != -1:\n",
    "        return dp[now_row][now_col]\n",
    "    \n",
    "    moves = [[1, 0], [-1, 0], [0, 1], [0, -1]]\n",
    "\n",
    "    # 최초 dp는 -1들로 구성, 갈 수 있는 곳은 0으로 표시한다.\n",
    "    dp[now_row][now_col] = 0 \n",
    "    \n",
    "    for move in moves:\n",
    "        move_row = now_row + move[0]\n",
    "        move_col = now_col + move[1]\n",
    "        if 0 <= move_row < M and 0 <= move_col < N:\n",
    "            if matrix[move_row][move_col] < matrix[now_row][now_col]:\n",
    "                dp[now_row][now_col] += find_routes(move_row, move_col)\n",
    "                # 내가 한 거랑 차이점이 여기임 : 계속 재귀호출을 하는 게 맞나? 싶어서 그렇게 짜지 않았는데 그게 맞다\n",
    "    \n",
    "    \"\"\"\n",
    "    따라서, 이 코드는 갈 수 있는 마지막 점에서 1을 반환하면서 시작함(마지막 점에 1을 찍든 말든 결과와 큰 상관 없음)\n",
    "    그러면 (4, 3)지점의 15도 dp에선 1로 찍힘 (내가 구현한 거에선 2로 찍힘 : 오류긴 하지만)\n",
    "    분기가 나와도 모두 역순으로 1로 진행되며 합쳐지는 지점에서 그 값들이 합쳐짐\n",
    "    그 결과 시작 지점에는 (M-1), (N-1)에 갈 수 있는 경로의 수가 찍히게 된다\n",
    "    중요한 건 점화식임!!!\n",
    "    \"\"\"\n",
    "                \n",
    "                \n",
    "    return dp[now_row][now_col]\n",
    "\n",
    "print(find_routes(0, 0))"
   ]
  },
  {
   "cell_type": "code",
   "execution_count": 69,
   "id": "a7acbbd0-c45c-4c6b-9de9-488667796a05",
   "metadata": {},
   "outputs": [
    {
     "name": "stdout",
     "output_type": "stream",
     "text": [
      "1\n"
     ]
    }
   ],
   "source": [
    "# Deque로 구현할 수 있을 거 같아서 시도해봄\n",
    "# 지나간 적 있다에서, 교차로 조건이랑 갔던 길을 그대로 다시 가는 거랑 차이만 주면 어떻게 풀 수 있을 것 같은데 막힘\n",
    "import sys\n",
    "from collections import deque\n",
    "sys.stdin = open('test.txt', 'r')\n",
    "input = sys.stdin.readline\n",
    "\n",
    "M, N = map(int, input().split())\n",
    "matrix = []\n",
    "for _ in range(M):\n",
    "    matrix.append(list(map(int, input().split())))\n",
    "\n",
    "dp = [[0] * N for _ in range(M)]\n",
    "\n",
    "dq = deque([])\n",
    "dq.append([0, 0])\n",
    "\n",
    "move = [[1, 0], [-1, 0], [0, 1], [0, -1]]\n",
    "\n",
    "while True:\n",
    "    now = dq.popleft()\n",
    "    \n",
    "    if now[0] == M-1 and now[1] == N-1:\n",
    "        break\n",
    "    \n",
    "    for i in move:\n",
    "        move_row = now[0] + i[0]\n",
    "        move_col = now[1] + i[1]\n",
    "\n",
    "        if move_row < 0 or move_row > M-1:\n",
    "            continue\n",
    "        elif move_col < 0 or move_col > N-1:\n",
    "            continue\n",
    "            \n",
    "        # 이미 지나간 적 있는 경로라면 1만 더해주면 되는 거 아닐까?\n",
    "        \n",
    "        if matrix[move_row][move_col] < matrix[now[0]][now[1]]:\n",
    "\n",
    "            if dp[move_row][move_col]:\n",
    "                dp[move_row][move_col] = min(dp[now[0]][now[1]],\n",
    "                                        dp[move_row][move_col] + dp[now[0]][now[1]])\n",
    "            else:\n",
    "                dp[move_row][move_col] = max(dp[now[0]][now[1]],\n",
    "                                            dp[move_row][move_col] + 1)\n",
    "            \n",
    "            dq.append([move_row, move_col])\n",
    "            \n",
    "print(dp[M-1][N-1])"
   ]
  },
  {
   "cell_type": "code",
   "execution_count": 73,
   "id": "45a27773-36bc-4b1e-9860-09d52cd19d94",
   "metadata": {},
   "outputs": [
    {
     "name": "stdout",
     "output_type": "stream",
     "text": [
      "[50, 45, 37, 32, 30]\n",
      "[35, 50, 40, 20, 25]\n",
      "[30, 30, 25, 17, 28]\n",
      "[27, 24, 22, 15, 10]\n"
     ]
    }
   ],
   "source": [
    "for i in matrix:\n",
    "    print(i)"
   ]
  },
  {
   "cell_type": "code",
   "execution_count": 74,
   "id": "28450234-131f-42bd-982c-23a02fb0b137",
   "metadata": {},
   "outputs": [
    {
     "name": "stdout",
     "output_type": "stream",
     "text": [
      "[3, 2, 2, 2, 1]\n",
      "[1, -1, -1, 1, 1]\n",
      "[1, -1, -1, 1, -1]\n",
      "[1, 1, 1, 1, 1]\n"
     ]
    }
   ],
   "source": [
    "for i in dp:\n",
    "    print(i)"
   ]
  },
  {
   "cell_type": "markdown",
   "id": "8c22622f-297b-4b13-8b8b-19fb873a7b68",
   "metadata": {},
   "source": [
    "- (0,0) 에서 (M-1)(N-1)로 가는 경로의 갯수를 구하고 싶다 \n",
    "\n",
    "```\n",
    "1. 모든 좌표를 0이라고 놓는다\n",
    "2. 그러면 현재 좌표를 [0][0]으로 놓고, 0으로 시작한다고 하면(DP를 따로 만듦)\n",
    "    1. 상하좌우 4개의 값을 검사함\n",
    "    2. 나보다 작으면 현재 값과 (해당 좌표 + 1)값을 비교해서 더 큰 값으로 갱신함\n",
    "    3. 갱신한 다음 해당 좌표로 현재 내 위치를 이동시킴\n",
    "    4. 근데 경로가 여러 개일 수 있으니까 재귀식을 써야 할 듯?\n",
    "3. 결과적으로 현재 좌표가 (M-1)(N-1)이 되면 반복문을 종료함\n",
    "```\n",
    "- Queue로 이거 할 수 있을 거 같은데? : 이게 BFS이긴 해~"
   ]
  },
  {
   "cell_type": "code",
   "execution_count": null,
   "id": "c86a4231-9024-45b7-9222-6e7785661be4",
   "metadata": {},
   "outputs": [],
   "source": []
  }
 ],
 "metadata": {
  "kernelspec": {
   "display_name": "Python 3 (ipykernel)",
   "language": "python",
   "name": "python3"
  },
  "language_info": {
   "codemirror_mode": {
    "name": "ipython",
    "version": 3
   },
   "file_extension": ".py",
   "mimetype": "text/x-python",
   "name": "python",
   "nbconvert_exporter": "python",
   "pygments_lexer": "ipython3",
   "version": "3.9.13"
  }
 },
 "nbformat": 4,
 "nbformat_minor": 5
}
