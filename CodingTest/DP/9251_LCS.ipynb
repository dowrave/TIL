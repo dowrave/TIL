{
 "cells": [
  {
   "cell_type": "code",
   "execution_count": 30,
   "id": "c65b321a-f352-4da0-94fe-90e2991e402f",
   "metadata": {
    "tags": []
   },
   "outputs": [
    {
     "name": "stdout",
     "output_type": "stream",
     "text": [
      "3\n"
     ]
    }
   ],
   "source": [
    "import sys\n",
    "sys.stdin = open('test.txt', 'r')\n",
    "input = sys.stdin.readline\n",
    "str1 = input().strip()\n",
    "str2 = input().strip()\n",
    "A = len(str1) + 1\n",
    "B = len(str2) + 1\n",
    "matrix = [[0] * (B) for _ in range(A)]\n",
    "\n",
    "# A, B 순서 중요하다! B가 col, A가 row라면 \n",
    "# A는 바깥 for, B는 내부 for가 돼야 함\n",
    "\n",
    "for i in range(1, A):\n",
    "    for j in range(1, B):\n",
    "        if str1[i - 1] == str2[j - 1]:\n",
    "            matrix[i][j] = matrix[i-1][j-1] + 1\n",
    "        else:\n",
    "            matrix[i][j] = max(matrix[i-1][j], matrix[i][j-1])\n",
    "\n",
    "print(matrix[-1][-1])"
   ]
  },
  {
   "cell_type": "markdown",
   "id": "4e1bf32d-5a8c-47e9-a8b3-9abe64310bd4",
   "metadata": {},
   "source": [
    "![lcs](LCS.jpg)"
   ]
  },
  {
   "cell_type": "code",
   "execution_count": null,
   "id": "01ea5715-bbff-46b3-bf29-31856a0971c7",
   "metadata": {},
   "outputs": [],
   "source": []
  }
 ],
 "metadata": {
  "kernelspec": {
   "display_name": "Python 3 (ipykernel)",
   "language": "python",
   "name": "python3"
  },
  "language_info": {
   "codemirror_mode": {
    "name": "ipython",
    "version": 3
   },
   "file_extension": ".py",
   "mimetype": "text/x-python",
   "name": "python",
   "nbconvert_exporter": "python",
   "pygments_lexer": "ipython3",
   "version": "3.9.13"
  }
 },
 "nbformat": 4,
 "nbformat_minor": 5
}
