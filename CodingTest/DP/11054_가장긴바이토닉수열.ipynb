{
 "cells": [
  {
   "cell_type": "code",
   "execution_count": 31,
   "id": "b0217f70-46ac-44ab-8f04-7405091cd79d",
   "metadata": {},
   "outputs": [
    {
     "name": "stdout",
     "output_type": "stream",
     "text": [
      "[1, 2, 2, 1, 3, 3, 4, 5, 2, 1] [1, 2, 3, 3, 3, 4, 1, 2, 5, 1]\n",
      "7\n"
     ]
    }
   ],
   "source": [
    "import sys\n",
    "sys.stdin = open('test.txt', 'r')\n",
    "input = sys.stdin.readline\n",
    "\n",
    "n = int(input())\n",
    "lst = list(map(int, input().split()))\n",
    "lst_r = lst[::-1]\n",
    "\n",
    "dp = [1] * n\n",
    "dp_r = [1] * n\n",
    "\n",
    "for i in range(n):\n",
    "    for j in range(i):\n",
    "        if lst[i] > lst[j]:\n",
    "            dp[i] = max(dp[i], dp[j] + 1)\n",
    "        if lst_r[i] > lst_r[j]:\n",
    "            dp_r[i] = max(dp_r[i], dp_r[j] + 1)\n",
    "\n",
    "# 두 리스트를 더하는 방법은 반복문을 써야 함 (오퍼레이터 오버로드 X)\n",
    "result = [0] * n\n",
    "for i in range(n): # 0 + (n-1), 1 + (n-2), ....\n",
    "    result[i] = dp[i] + dp_r[n-i - 1] - 1\n",
    "print(dp, dp_r)\n",
    "print(max(result))"
   ]
  },
  {
   "cell_type": "code",
   "execution_count": 7,
   "id": "35dadf67-f724-4aff-b8fe-e3f34b0473f4",
   "metadata": {},
   "outputs": [
    {
     "name": "stdout",
     "output_type": "stream",
     "text": [
      "[1, 5, 2, 1, 4, 3, 4, 5, 2, 1]\n"
     ]
    }
   ],
   "source": [
    "print(lst)"
   ]
  },
  {
   "cell_type": "code",
   "execution_count": null,
   "id": "6d08bb94-81ff-46d5-a4ab-5865590043af",
   "metadata": {},
   "outputs": [],
   "source": [
    "# 반복문을 뒤집는 방법으로도 구현할 수 있다\n",
    "# 역방향 반복문\n",
    "for i in range(n-1, -1, -1): # 0부터 n까지니까 이렇게 뒤집음\n",
    "    "
   ]
  },
  {
   "cell_type": "code",
   "execution_count": 41,
   "id": "7580d78e-5291-4331-9095-5a43dac9080d",
   "metadata": {},
   "outputs": [],
   "source": [
    "# 근데 이전에 했던 이진 탐색을 이용하는 방법을 생각하면 리스트를 뒤집는 게 더 좋아보임"
   ]
  },
  {
   "cell_type": "markdown",
   "id": "bfe18770-3130-42a8-be22-0092ca15f67f",
   "metadata": {},
   "source": [
    "### 리스트 뒤집기 & 이진탐색\n",
    "- 예제는 됐는데 전체적으론 가능하지 않을 것임\n",
    "- 왜냐면 여기서 나오는 결과는 LIS 2개가 되는데 \n",
    "- 이 **LIS 2개가 만난다는 보장이 없음**\n",
    "    - 예제는 LIS 2개가 만나지만.."
   ]
  },
  {
   "cell_type": "code",
   "execution_count": 40,
   "id": "7bab75a4-26ae-4988-8a86-087a3ecd50b9",
   "metadata": {},
   "outputs": [
    {
     "name": "stdout",
     "output_type": "stream",
     "text": [
      "7\n"
     ]
    }
   ],
   "source": [
    "import sys\n",
    "sys.stdin = open('test.txt', 'r')\n",
    "input = sys.stdin.readline\n",
    "\n",
    "def bi_search(lst, target):\n",
    "    \"\"\"\n",
    "    1. 여기서 리스트는 DP리스트\n",
    "    2. target은 인덱스가 아니라 값\n",
    "    \"\"\"\n",
    "    left = 0\n",
    "    right = len(lst) - 1\n",
    "    \n",
    "    while left < right:\n",
    "        mid = (left + right) // 2\n",
    "        \n",
    "        if lst[mid] < target:\n",
    "            left = mid + 1\n",
    "        else:\n",
    "            right = mid\n",
    "            \n",
    "    return right\n",
    "\n",
    "n = int(input())\n",
    "lst = list(map(int, input().split()))\n",
    "lst_r = lst[::-1]\n",
    "\n",
    "dp = []\n",
    "dp.append(lst[0])\n",
    "dp_idx = 0\n",
    "\n",
    "dp_r = []\n",
    "dp_r.append(lst_r[0])\n",
    "dp_r_idx = 0\n",
    "\n",
    "for i in range(1, n):\n",
    "    if lst[i] > dp[dp_idx]:\n",
    "        dp.append(lst[i])\n",
    "        dp_idx += 1\n",
    "    else:\n",
    "        new_idx = bi_search(dp, lst[i])\n",
    "        dp[new_idx] = lst[i]\n",
    "for i in range(1, n):\n",
    "    if lst[i] > dp_r[dp_r_idx]:\n",
    "        dp_r.append(lst_r[i])\n",
    "        dp_r_idx += 1\n",
    "    else:\n",
    "        new_idx = bi_search(dp_r, lst_r[i])\n",
    "        dp_r[new_idx] = lst_r[i]\n",
    "        \n",
    "# print(dp, dp_r) # 이 dp_r을 뒤집어 붙인게 전체 바이토닉 수열이 되는 거임\n",
    "print(len(dp) + len(dp_r) - 1)"
   ]
  },
  {
   "cell_type": "code",
   "execution_count": null,
   "id": "fe3f65c6-1b28-495e-9db2-8c6742826b6b",
   "metadata": {},
   "outputs": [],
   "source": []
  }
 ],
 "metadata": {
  "kernelspec": {
   "display_name": "Python 3 (ipykernel)",
   "language": "python",
   "name": "python3"
  },
  "language_info": {
   "codemirror_mode": {
    "name": "ipython",
    "version": 3
   },
   "file_extension": ".py",
   "mimetype": "text/x-python",
   "name": "python",
   "nbconvert_exporter": "python",
   "pygments_lexer": "ipython3",
   "version": "3.9.13"
  }
 },
 "nbformat": 4,
 "nbformat_minor": 5
}
