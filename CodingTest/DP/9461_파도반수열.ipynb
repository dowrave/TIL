{
 "cells": [
  {
   "cell_type": "code",
   "execution_count": 3,
   "id": "a3a72801-f13e-40a3-b9ff-750422ff4a83",
   "metadata": {},
   "outputs": [
    {
     "name": "stdout",
     "output_type": "stream",
     "text": [
      "3\n",
      "16\n"
     ]
    }
   ],
   "source": [
    "import sys\n",
    "\n",
    "def p(N):\n",
    "    if lst[N]:\n",
    "        return lst[N]\n",
    "    \n",
    "    for i in range(4, N + 1):\n",
    "        lst[N] = p(N-2) + p(N-3)\n",
    "    \n",
    "    return lst[N]\n",
    "\n",
    "lst = [0] * (101) # N의 최댓값은 100\n",
    "lst[1], lst[2], lst[3] = 1, 1, 1\n",
    "\n",
    "sys.stdin = open('test.txt', 'r')\n",
    "input = sys.stdin.readline\n",
    "T = int(input())\n",
    "\n",
    "for _ in range(T):\n",
    "    N = int(input())\n",
    "    print(p(N))"
   ]
  },
  {
   "cell_type": "markdown",
   "id": "c1e8e8a4-fb0e-43f9-842f-9ef6a9544ec9",
   "metadata": {},
   "source": [
    "```\n",
    "1 1 1 2 2 3 4 5 7 9 12\n",
    "p(N) = p(N-2) + p(N-3) 인 것 같다\n",
    "```"
   ]
  },
  {
   "cell_type": "code",
   "execution_count": null,
   "id": "6e9765d9-653b-4367-9153-dd3f13c6120d",
   "metadata": {},
   "outputs": [],
   "source": []
  }
 ],
 "metadata": {
  "kernelspec": {
   "display_name": "Python 3 (ipykernel)",
   "language": "python",
   "name": "python3"
  },
  "language_info": {
   "codemirror_mode": {
    "name": "ipython",
    "version": 3
   },
   "file_extension": ".py",
   "mimetype": "text/x-python",
   "name": "python",
   "nbconvert_exporter": "python",
   "pygments_lexer": "ipython3",
   "version": "3.9.13"
  }
 },
 "nbformat": 4,
 "nbformat_minor": 5
}
