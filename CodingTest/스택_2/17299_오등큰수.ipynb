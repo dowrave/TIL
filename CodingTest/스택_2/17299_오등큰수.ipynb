{
 "cells": [
  {
   "cell_type": "markdown",
   "id": "47d68395-ef71-4a0a-aae8-304131f3cbaf",
   "metadata": {},
   "source": [
    "- 오등큰수 : 수열에서 등장한 횟수가 $A_i$보다 크면서, $A_i$보다 오른쪽에 있는 수들 중 가장 왼쪽에 있는 수"
   ]
  },
  {
   "cell_type": "code",
   "execution_count": 18,
   "id": "86ace486-2192-417f-a096-36a4f2fc8563",
   "metadata": {},
   "outputs": [
    {
     "name": "stdout",
     "output_type": "stream",
     "text": [
      "-1 -1 1 2 2 1 -1\n"
     ]
    }
   ],
   "source": [
    "import sys\n",
    "sys.stdin = open('test.txt', 'r')\n",
    "input = sys.stdin.readline\n",
    "\n",
    "N = int(input())\n",
    "lst = [0] + list(map(int, input().split()))\n",
    "ans = [-1] * (len(lst))\n",
    "\n",
    "# 1. 일단 행렬에서 각 값이 몇 번 등장했는가를 알아야 함\n",
    "dct = {0 : 0} # 초기화 때문에 넣어줌\n",
    "for i in lst:\n",
    "    if i not in dct.keys():\n",
    "        dct[i] = 0\n",
    "    dct[i] += 1\n",
    "    \n",
    "# 2. 이후 구현은 오큰수랑 큰 차이가 없을 듯?\n",
    "# 즉 스택에는 인덱스만 넣고\n",
    "# dct[스택top값]과 dct[lst[i]]값을 비교해서 후자가 크면\n",
    "# dct[스택top값] < dct[lst[i]]인 동안에는 계속 pop해주면 될 듯\n",
    "stack = [0]\n",
    "for i in range(1, len(lst)):\n",
    "    if dct[lst[stack[-1]]] < dct[lst[i]]:\n",
    "        while stack and dct[lst[stack[-1]]] < dct[lst[i]]:\n",
    "            idx = stack.pop()\n",
    "            ans[idx] = lst[i]\n",
    "    \n",
    "    stack.append(i)\n",
    "    \n",
    "print(*ans[1:])"
   ]
  },
  {
   "cell_type": "markdown",
   "id": "d6a515fd-c9cb-4d5b-90a1-907a706afdeb",
   "metadata": {},
   "source": [
    "- 오큰수의 조건식이 단순히 수의 크기였다면\n",
    "- 오등큰수는 조건식을 수의 빈도로만 바꿔주면 됨\n",
    "- dict 자료구조가 이런 무작위 탐색에서 더 빠른 걸로 알아서 dict로 구현했음"
   ]
  },
  {
   "cell_type": "code",
   "execution_count": null,
   "id": "d08139a6-8578-49f9-b788-e55a0970db01",
   "metadata": {},
   "outputs": [],
   "source": []
  }
 ],
 "metadata": {
  "kernelspec": {
   "display_name": "Python 3 (ipykernel)",
   "language": "python",
   "name": "python3"
  },
  "language_info": {
   "codemirror_mode": {
    "name": "ipython",
    "version": 3
   },
   "file_extension": ".py",
   "mimetype": "text/x-python",
   "name": "python",
   "nbconvert_exporter": "python",
   "pygments_lexer": "ipython3",
   "version": "3.9.13"
  }
 },
 "nbformat": 4,
 "nbformat_minor": 5
}
