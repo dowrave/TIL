{
 "cells": [
  {
   "cell_type": "code",
   "execution_count": null,
   "id": "307b9b11-5105-4009-b010-0d767c21d7a4",
   "metadata": {},
   "outputs": [],
   "source": [
    "import sys\n",
    "sys.stdin = open('test.txt', 'r')\n",
    "input = sys.stdin.readlne\n",
    "N = int(input())\n",
    "stack = []\n",
    "\n",
    "for _ in range(1, N + 1):\n",
    "    val = int(input())\n",
    "    "
   ]
  },
  {
   "cell_type": "markdown",
   "id": "48b15689-b779-4023-a4bb-d9943c86148e",
   "metadata": {},
   "source": [
    "- 목표 : 서로 볼 수 있는 쌍의 수\n",
    "- 서로 볼 수 있다 = 두 사람 사이에 있는 사람들은 모두 둘보다 같거나 작아야 한다\n",
    "- 히스토그램처럼 풀려고 했는데, 같은 조건이 여러 개 들어오고 그 다음 크면서 같은 조건이 여러 개 들어올 때..를 처리하는 방법을 모르겠어서 풀이를 참고했다.\n",
    "```\n",
    "1. 스택은 (값, 갯수)로 구성한다. []로 초기화.\n",
    "2. 현재 받을 h보다 스택의 top 값이 작다면, top의 카운트 값을 정답에 더함\n",
    "3. 스택이 비었다면 (현재 값, 1) push\n",
    "4. 스택 값이 있다면\n",
    "    - 현재 들어오는 값이 동일하다면 top의 갯수 값을 pop해서 ans에 더함\n",
    "        - 이 때 스택에 값이 있다면 ans에 1을 또 더함\n",
    "        - 스택에 현재와 같은 높이 & pop한 갯수 값에 1을 더해 push함\n",
    "    - 값이 다르다면\n",
    "        - 스택에 높이와 1(갯수)를 푸시하고\n",
    "        - 답에 1을 더함\n",
    "```\n",
    "```\n",
    "예제로 느낌을 보자 : 2 4 1 2 2 5 1\n",
    "\n",
    "실제로 생각해보자\n",
    "처음에 2만 들어오면 순서쌍 성립 불가임\n",
    "2보다 큰 4가 들어오면 (2, 4)라는 순서쌍 하나가 나온다\n",
    "- 스택의 (2, 1)이 pop되면서 1개 추가되고\n",
    "- 스택이 비어서 (4, 1) 푸시만 됨\n",
    "\n",
    "그 다음 1을 생각해보자\n",
    "1. 2 4 1에 대해 2 1은 성립할 수 없음\n",
    "2. 4 1은 만들어질 수 있음\n",
    "    - 알고리즘에서 (1, 1)만 푸시되고 답에 + 1\n",
    "    - 스택 : [[4, 1], [1, 1]]\n",
    " \n",
    "그 다음 2도 생각해보자 (2 4 1 2)\n",
    "- 4보다 앞의 2에 대해선 생각할 수 없음\n",
    "- 생각 :  순서쌍 (4, 2)와 (1, 2)가 성립하겠다\n",
    "- 알고리즘에서는 (1, 2)부터 고려됨 : top의 [1, 1]이 pop되면서 그 갯수 값 1이 정답에 더해짐\n",
    "    - 이후 스택에 푸시된다. 스택 : [[4, 1], [2, 1]]\n",
    "    - 여기서 더해지는 1은  4와의 순서쌍 (4, 2)이다.\n",
    "    \n",
    "그 다음 2도 보자. (2 4 1 2 2)\n",
    "- 값이 같기 때문에 top [2, 1]이 pop되고, 1 값이 정답에 더해진다.\n",
    "    - 여기서 더해지는 1 값은 2 2라고 봐야 할까?\n",
    "    - pop했을 때 값이 스택에 있다면 \n",
    "```"
   ]
  },
  {
   "cell_type": "code",
   "execution_count": null,
   "id": "d14ff024-db50-426a-b0c5-aa2c29e66718",
   "metadata": {},
   "outputs": [],
   "source": []
  },
  {
   "cell_type": "code",
   "execution_count": 5,
   "id": "8ef591e7-0bac-4305-9e7f-ece5734494d9",
   "metadata": {},
   "outputs": [],
   "source": [
    "\\"
   ]
  },
  {
   "cell_type": "code",
   "execution_count": null,
   "id": "e0ca738d-ed5d-4b1e-bd0d-e71a523bb0b8",
   "metadata": {},
   "outputs": [],
   "source": []
  }
 ],
 "metadata": {
  "kernelspec": {
   "display_name": "Python 3 (ipykernel)",
   "language": "python",
   "name": "python3"
  },
  "language_info": {
   "codemirror_mode": {
    "name": "ipython",
    "version": 3
   },
   "file_extension": ".py",
   "mimetype": "text/x-python",
   "name": "python",
   "nbconvert_exporter": "python",
   "pygments_lexer": "ipython3",
   "version": "3.9.13"
  }
 },
 "nbformat": 4,
 "nbformat_minor": 5
}
