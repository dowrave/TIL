{
 "cells": [
  {
   "cell_type": "code",
   "execution_count": 9,
   "id": "3a921c59-34aa-4ed0-bd34-b59d91283883",
   "metadata": {},
   "outputs": [
    {
     "name": "stdout",
     "output_type": "stream",
     "text": [
      "93 181 214\n",
      "93 181 216\n",
      "93 214 185\n",
      "93 185 216\n",
      "245 214 36\n",
      "245 36 216\n",
      "497\n"
     ]
    }
   ],
   "source": [
    "import sys\n",
    "sys.stdin = open('test.txt', 'r')\n",
    "N, M = map(int, sys.stdin.readline().split())\n",
    "\n",
    "# 3장을 고르고 M을 넘지 않으면서 M에 최대한 가까워야 함\n",
    "lst = list(map(int, sys.stdin.readline().split()))\n",
    "\n",
    "val = 0\n",
    "\n",
    "for i in range(N-2):\n",
    "    for j in range(i + 1, N-1):\n",
    "        for k in range(j + 1, N):\n",
    "            if lst[i] + lst[j] + lst[k] > val and lst[i] + lst[j] + lst[k] <= M:\n",
    "                val = lst[i] + lst[j] + lst[k]\n",
    "\n",
    "print(val)"
   ]
  },
  {
   "cell_type": "code",
   "execution_count": null,
   "id": "cff63165-3d2e-43c3-aba1-8a64401e2f6d",
   "metadata": {},
   "outputs": [],
   "source": []
  }
 ],
 "metadata": {
  "kernelspec": {
   "display_name": "Python 3 (ipykernel)",
   "language": "python",
   "name": "python3"
  },
  "language_info": {
   "codemirror_mode": {
    "name": "ipython",
    "version": 3
   },
   "file_extension": ".py",
   "mimetype": "text/x-python",
   "name": "python",
   "nbconvert_exporter": "python",
   "pygments_lexer": "ipython3",
   "version": "3.9.13"
  }
 },
 "nbformat": 4,
 "nbformat_minor": 5
}
