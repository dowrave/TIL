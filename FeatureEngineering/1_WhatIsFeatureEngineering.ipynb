{
 "cells": [
  {
   "cell_type": "code",
   "execution_count": 1,
   "id": "853c5c80-893e-426c-8a39-00d5b732f83d",
   "metadata": {},
   "outputs": [],
   "source": [
    "import kaggle"
   ]
  },
  {
   "cell_type": "code",
   "execution_count": 4,
   "id": "6c9eafa4-9f30-4b32-b887-c0e5737b84fb",
   "metadata": {},
   "outputs": [
    {
     "name": "stdout",
     "output_type": "stream",
     "text": [
      "Downloading house-prices-advanced-regression-techniques.zip to C:\\Users\\dowra\\1.MyWorkspace\\FeatureEngineering\n",
      "\n"
     ]
    },
    {
     "name": "stderr",
     "output_type": "stream",
     "text": [
      "\n",
      "  0%|          | 0.00/199k [00:00<?, ?B/s]\n",
      "100%|##########| 199k/199k [00:00<00:00, 8.06MB/s]\n"
     ]
    }
   ],
   "source": [
    "# !kaggle competitions download -c house-prices-advanced-regression-techniques"
   ]
  },
  {
   "cell_type": "code",
   "execution_count": 5,
   "id": "3fdecad0-51da-4027-803e-13308a27e7bb",
   "metadata": {},
   "outputs": [
    {
     "name": "stdout",
     "output_type": "stream",
     "text": [
      "Archive:  house-prices-advanced-regression-techniques.zip\n",
      "  inflating: data_description.txt    \n",
      "  inflating: sample_submission.csv   \n",
      "  inflating: test.csv                \n",
      "  inflating: train.csv               \n"
     ]
    }
   ],
   "source": [
    "# !unzip house-prices-advanced-regression-techniques.zip"
   ]
  },
  {
   "cell_type": "code",
   "execution_count": 14,
   "id": "365094b4-f3aa-4028-b619-0c902142e35a",
   "metadata": {},
   "outputs": [],
   "source": [
    "import pandas as pd\n",
    "import numpy as np "
   ]
  },
  {
   "cell_type": "markdown",
   "id": "fa1d41f0-bac6-470c-b4ef-a40c0862d3ad",
   "metadata": {},
   "source": [
    "### Feature Engineering의 목표\n",
    "- 데이터를 문제에 맞게 바꾸는 것\n",
    "    - 예를 들면 `겉보기 온도`라는 개념은 습도, 기온, 풍속 등 직접 측정할 수 있는 것들에서 옴\n",
    "    - 따라서 이것 또한 Feature Engineering이라고 할 수 있다\n",
    "   "
   ]
  },
  {
   "cell_type": "markdown",
   "id": "19d4ac6e-490f-40f1-a8e2-aa3a00c3aaab",
   "metadata": {},
   "source": [
    "Feature Engineering은 이런 것들을 위해 쓰인다 : \n",
    "- 모델의 예측 성능 향상\n",
    "- 데이터나 계산의 수 줄이기\n",
    "- 결과의 해석 가능성 향상"
   ]
  },
  {
   "cell_type": "markdown",
   "id": "bc5e48a2-f360-4bd8-8e2f-00dabd56f8da",
   "metadata": {},
   "source": [
    "유용한 Feature는 \"모델이 배울 수 있는\" 타겟과의 관계를 가져야 한다.\n",
    "- 선형 모델을 예로 들면, 선형적인 관계만을 학습할 수 있기 때문에 특성 공학을 이용해 여러 Feature들을 타겟값과 선형성을 갖도록 바꿔야 한다.  \n",
    "    \n",
    "핵심은, **특성에 적용하는 변환이 모델의 일부가 된다**는 것이다.\n",
    "- 어떤 y 피쳐가 X 피쳐와 제곱 관계를 나타낸다고 했을 때 선형회귀를 적용한다면 올바른 회귀선이 나오지 않을 것임\n",
    "- 이 떄 X 피쳐를 제곱한 뒤 선형회귀를 적용하면 훨씬 나은 플롯을 보여준다."
   ]
  },
  {
   "cell_type": "markdown",
   "id": "0ad90efd-eabc-457e-8f0e-596c4c52dd92",
   "metadata": {},
   "source": [
    "## 예시"
   ]
  },
  {
   "cell_type": "code",
   "execution_count": 8,
   "id": "db727239-d408-4659-8338-a14a4fbe0eb8",
   "metadata": {},
   "outputs": [],
   "source": [
    "from sklearn.ensemble import RandomForestRegressor\n",
    "from sklearn.model_selection import cross_val_score"
   ]
  },
  {
   "cell_type": "code",
   "execution_count": 19,
   "id": "60342643-5226-4aa3-928f-47472897e534",
   "metadata": {},
   "outputs": [
    {
     "data": {
      "text/html": [
       "<div>\n",
       "<style scoped>\n",
       "    .dataframe tbody tr th:only-of-type {\n",
       "        vertical-align: middle;\n",
       "    }\n",
       "\n",
       "    .dataframe tbody tr th {\n",
       "        vertical-align: top;\n",
       "    }\n",
       "\n",
       "    .dataframe thead th {\n",
       "        text-align: right;\n",
       "    }\n",
       "</style>\n",
       "<table border=\"1\" class=\"dataframe\">\n",
       "  <thead>\n",
       "    <tr style=\"text-align: right;\">\n",
       "      <th></th>\n",
       "      <th>Cement</th>\n",
       "      <th>BlastFurnaceSlag</th>\n",
       "      <th>FlyAsh</th>\n",
       "      <th>Water</th>\n",
       "      <th>SuperPlasticizer</th>\n",
       "      <th>CoarseAggregate</th>\n",
       "      <th>FineAggregate</th>\n",
       "      <th>Age</th>\n",
       "      <th>CompressiveStrength</th>\n",
       "    </tr>\n",
       "  </thead>\n",
       "  <tbody>\n",
       "    <tr>\n",
       "      <th>0</th>\n",
       "      <td>540.0</td>\n",
       "      <td>0.0</td>\n",
       "      <td>0.0</td>\n",
       "      <td>162.0</td>\n",
       "      <td>2.5</td>\n",
       "      <td>1040.0</td>\n",
       "      <td>676.0</td>\n",
       "      <td>28</td>\n",
       "      <td>79.986111</td>\n",
       "    </tr>\n",
       "    <tr>\n",
       "      <th>1</th>\n",
       "      <td>540.0</td>\n",
       "      <td>0.0</td>\n",
       "      <td>0.0</td>\n",
       "      <td>162.0</td>\n",
       "      <td>2.5</td>\n",
       "      <td>1055.0</td>\n",
       "      <td>676.0</td>\n",
       "      <td>28</td>\n",
       "      <td>61.887366</td>\n",
       "    </tr>\n",
       "    <tr>\n",
       "      <th>2</th>\n",
       "      <td>332.5</td>\n",
       "      <td>142.5</td>\n",
       "      <td>0.0</td>\n",
       "      <td>228.0</td>\n",
       "      <td>0.0</td>\n",
       "      <td>932.0</td>\n",
       "      <td>594.0</td>\n",
       "      <td>270</td>\n",
       "      <td>40.269535</td>\n",
       "    </tr>\n",
       "    <tr>\n",
       "      <th>3</th>\n",
       "      <td>332.5</td>\n",
       "      <td>142.5</td>\n",
       "      <td>0.0</td>\n",
       "      <td>228.0</td>\n",
       "      <td>0.0</td>\n",
       "      <td>932.0</td>\n",
       "      <td>594.0</td>\n",
       "      <td>365</td>\n",
       "      <td>41.052780</td>\n",
       "    </tr>\n",
       "    <tr>\n",
       "      <th>4</th>\n",
       "      <td>198.6</td>\n",
       "      <td>132.4</td>\n",
       "      <td>0.0</td>\n",
       "      <td>192.0</td>\n",
       "      <td>0.0</td>\n",
       "      <td>978.4</td>\n",
       "      <td>825.5</td>\n",
       "      <td>360</td>\n",
       "      <td>44.296075</td>\n",
       "    </tr>\n",
       "  </tbody>\n",
       "</table>\n",
       "</div>"
      ],
      "text/plain": [
       "   Cement  BlastFurnaceSlag  FlyAsh  Water  SuperPlasticizer  CoarseAggregate  \\\n",
       "0   540.0               0.0     0.0  162.0               2.5           1040.0   \n",
       "1   540.0               0.0     0.0  162.0               2.5           1055.0   \n",
       "2   332.5             142.5     0.0  228.0               0.0            932.0   \n",
       "3   332.5             142.5     0.0  228.0               0.0            932.0   \n",
       "4   198.6             132.4     0.0  192.0               0.0            978.4   \n",
       "\n",
       "   FineAggregate  Age  CompressiveStrength  \n",
       "0          676.0   28            79.986111  \n",
       "1          676.0   28            61.887366  \n",
       "2          594.0  270            40.269535  \n",
       "3          594.0  365            41.052780  \n",
       "4          825.5  360            44.296075  "
      ]
     },
     "execution_count": 19,
     "metadata": {},
     "output_type": "execute_result"
    }
   ],
   "source": [
    "COLUMNS = ['Cement', 'BlastFurnaceSlag', 'FlyAsh', 'Water', 'SuperPlasticizer', 'CoarseAggregate', 'FineAggregate', 'Age', 'CompressiveStrength']\n",
    "df = pd.read_excel('Concrete_Data.xls', names = COLUMNS)\n",
    "df.head()"
   ]
  },
  {
   "cell_type": "markdown",
   "id": "14855861-7cf8-4f32-a269-54b54ac56086",
   "metadata": {},
   "source": [
    "### 1. 베이스라인 모델 : 아무 특성도 추가하지 않음"
   ]
  },
  {
   "cell_type": "code",
   "execution_count": 22,
   "id": "bc8f1f80-0f3b-4f2a-83d6-e2187870a7d9",
   "metadata": {},
   "outputs": [
    {
     "name": "stdout",
     "output_type": "stream",
     "text": [
      "MAE Baseline Score : 8.397\n"
     ]
    }
   ],
   "source": [
    "X = df.copy()\n",
    "y = X.pop('CompressiveStrength')\n",
    "\n",
    "baseline = RandomForestRegressor(criterion = 'mae', random_state = 0)\n",
    "baseline_score = cross_val_score(baseline, X, y, cv = 5, scoring = 'neg_mean_absolute_error')\n",
    "baseline_score = -1 * baseline_score.mean()\n",
    "\n",
    "print(f\"MAE Baseline Score : {baseline_score:.4}\")"
   ]
  },
  {
   "cell_type": "markdown",
   "id": "9e1ff406-4618-4d49-a255-0205953df9cd",
   "metadata": {},
   "source": [
    "## 2. \"비율\" 특성 추가\n",
    "- 요리할 때 레시피에서 재료의 `비율`은 결과를 결정하는 주요 지표 중 하나임\n",
    "- 이런 것처럼 특성의 `Ratio`도 그러한 지표로 활용할 수 있음"
   ]
  },
  {
   "cell_type": "code",
   "execution_count": 23,
   "id": "8f02053b-57c5-44db-ab89-18952c2ca6d7",
   "metadata": {},
   "outputs": [
    {
     "name": "stdout",
     "output_type": "stream",
     "text": [
      "MAE Baseline Score : 8.01\n"
     ]
    }
   ],
   "source": [
    "X = df.copy()\n",
    "y = X.pop('CompressiveStrength')\n",
    "\n",
    "# 합성 지표 만들기\n",
    "X['FCRatio'] = X['FineAggregate'] / X['CoarseAggregate']\n",
    "X['AggCmtRatio'] = (X['CoarseAggregate'] + X['FineAggregate']) / X['Cement']\n",
    "X['WtrCmtRatio'] = X['Water'] / X['Cement']\n",
    "\n",
    "# 스코어\n",
    "model = RandomForestRegressor(criterion = 'mae', random_state = 0)\n",
    "model_score = cross_val_score(baseline, X, y, cv = 5, scoring = 'neg_mean_absolute_error')\n",
    "model_score = -1 * model_score.mean()\n",
    "\n",
    "print(f\"MAE Score with Ratio Features: {model_score:.4}\")"
   ]
  },
  {
   "cell_type": "code",
   "execution_count": null,
   "id": "f9b41752-7c77-41d9-a9f1-d89339bb87aa",
   "metadata": {},
   "outputs": [],
   "source": []
  }
 ],
 "metadata": {
  "kernelspec": {
   "display_name": "Python 3",
   "language": "python",
   "name": "python3"
  },
  "language_info": {
   "codemirror_mode": {
    "name": "ipython",
    "version": 3
   },
   "file_extension": ".py",
   "mimetype": "text/x-python",
   "name": "python",
   "nbconvert_exporter": "python",
   "pygments_lexer": "ipython3",
   "version": "3.8.8"
  }
 },
 "nbformat": 4,
 "nbformat_minor": 5
}
