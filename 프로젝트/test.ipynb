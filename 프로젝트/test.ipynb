{
 "cells": [
  {
   "cell_type": "code",
   "execution_count": 8,
   "metadata": {},
   "outputs": [
    {
     "name": "stdout",
     "output_type": "stream",
     "text": [
      "[[0, 10000000000.0], [1, 2]]\n",
      "[[0, 10000000000.0], [2, 4], [3, 1]]\n",
      "[[0, 10000000000.0], [2, 4], [4, 2], [5, 2]]\n",
      "[[0, 10000000000.0], [2, 4]]\n",
      "[[0, 10000000000.0], [6, 5], [7, 1]]\n",
      "[[0, 10000000000.0], [6, 5]]\n",
      "47\n"
     ]
    }
   ],
   "source": [
    "import sys\n",
    "sys.stdin = open('test.txt', 'r')\n",
    "input = sys.stdin.readline\n",
    "N = int(input())\n",
    "stack = [[0, 1e10]] # 최댓값이 2^31이므로 1e10은 저거보단 큼 ; 2^10이 10^3정도\n",
    "ans = 0\n",
    "\n",
    "for idx in range(1, N + 2):\n",
    "    \n",
    "    if idx == N + 1:\n",
    "        value = 1e10 - 1\n",
    "    else: \n",
    "        value = int(input())\n",
    "    \n",
    "    while stack and value > stack[-1][1]:\n",
    "        print(stack)\n",
    "        now_idx, now_value = stack.pop()\n",
    "        while stack and stack[-1][1] == now_value: \n",
    "            stack.pop()\n",
    "        k = now_idx - stack[-1][0]\n",
    "        \n",
    "        if k > 1:\n",
    "            ans +=  2 * k + (k * (k - 1) // 2) \n",
    "        else:\n",
    "            ans += 2 * k\n",
    "            \n",
    "    stack.append([idx, value])\n",
    "    \n",
    "print(ans)"
   ]
  },
  {
   "cell_type": "code",
   "execution_count": null,
   "metadata": {},
   "outputs": [],
   "source": []
  }
 ],
 "metadata": {
  "kernelspec": {
   "display_name": "Python 3",
   "language": "python",
   "name": "python3"
  },
  "language_info": {
   "codemirror_mode": {
    "name": "ipython",
    "version": 3
   },
   "file_extension": ".py",
   "mimetype": "text/x-python",
   "name": "python",
   "nbconvert_exporter": "python",
   "pygments_lexer": "ipython3",
   "version": "3.10.8"
  },
  "orig_nbformat": 4,
  "vscode": {
   "interpreter": {
    "hash": "369f2c481f4da34e4445cda3fffd2e751bd1c4d706f27375911949ba6bb62e1c"
   }
  }
 },
 "nbformat": 4,
 "nbformat_minor": 2
}
